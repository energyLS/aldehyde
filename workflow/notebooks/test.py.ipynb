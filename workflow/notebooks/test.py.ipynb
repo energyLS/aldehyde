{
 "cells": [
  {
   "cell_type": "code",
   "execution_count": null,
   "metadata": {},
   "outputs": [],
   "source": [
    "print(\"Hello World\")"
   ]
  },
  {
   "cell_type": "code",
   "execution_count": null,
   "id": "948feca6",
   "metadata": {},
   "outputs": [],
   "source": [
    "# Create txt file and save it to the same directory\n",
    "with open(\"test.txt\", \"w\") as f:\n",
    "    f.write(\"Hello World\")\n",
    "\n",
    "# Save the file f as txt\n",
    "f = open(snakemake.output.file, \"w\")\n",
    "f.write(f\"test: {snakemake.input.network}\")\n",
    "f.close()"
   ]
  },
  {
   "attachments": {},
   "cell_type": "markdown",
   "id": "5fccd1cb",
   "metadata": {},
   "source": [
    "### Markdown"
   ]
  }
 ],
 "metadata": {
  "kernelspec": {
   "display_name": "aldehyde",
   "language": "python",
   "name": "python3"
  },
  "language_info": {
   "codemirror_mode": {
    "name": "ipython",
    "version": 3
   },
   "file_extension": ".py",
   "mimetype": "text/x-python",
   "name": "python",
   "nbconvert_exporter": "python",
   "pygments_lexer": "ipython3",
   "version": "3.10.9"
  },
  "orig_nbformat": 4,
  "vscode": {
   "interpreter": {
    "hash": "0dbcc051df1c9f67b8349bc93a137f4374bedf8f92eebef4493438608fd687c9"
   }
  }
 },
 "nbformat": 4,
 "nbformat_minor": 5
}

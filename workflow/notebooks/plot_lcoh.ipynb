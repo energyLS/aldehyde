{
 "cells": [
  {
   "cell_type": "code",
   "execution_count": 1,
   "metadata": {},
   "outputs": [
    {
     "name": "stderr",
     "output_type": "stream",
     "text": [
      "/home/energyls/micromamba/envs/pypsa-earth/lib/python3.10/site-packages/pypsa/networkclustering.py:16: UserWarning: The namespace `pypsa.networkclustering` is deprecated and will be removed in PyPSA v0.24. Please use `pypsa.clustering.spatial instead`. \n",
      "  warnings.warn(\n"
     ]
    }
   ],
   "source": [
    "import pandas as pd\n",
    "import numpy as np\n",
    "import matplotlib.pyplot as plt\n",
    "import pypsa"
   ]
  },
  {
   "cell_type": "code",
   "execution_count": 2,
   "metadata": {},
   "outputs": [],
   "source": [
    "run = \"nresults_full_3H_ws\"\n",
    "prefix = \"/mnt/c/Users/scl38887/Documents/git/aldehyde/workflow/subworkflows/pypsa-earth-sec/results/\" + run + \"/postnetworks/\"\n",
    "output = \"/mnt/c/Users/scl38887/Documents/git/aldehyde/results/\" + run + \"/graphics/rldc/\""
   ]
  },
  {
   "cell_type": "code",
   "execution_count": 3,
   "metadata": {},
   "outputs": [
    {
     "name": "stderr",
     "output_type": "stream",
     "text": [
      "INFO:pypsa.io:Imported network elec_s_10_ec_lc1.0_Co2L0.50_3H_2030_0.15_DF_20export.nc has buses, carriers, generators, global_constraints, lines, links, loads, storage_units, stores\n"
     ]
    }
   ],
   "source": [
    "path = \"elec_s_10_ec_lc1.0_Co2L0.50_3H_2030_0.15_DF_20export.nc\"\n",
    "n = pypsa.Network(prefix + path)"
   ]
  },
  {
   "cell_type": "code",
   "execution_count": 41,
   "metadata": {},
   "outputs": [],
   "source": [
    "capex = n.links[n.links.carrier == \"H2 Electrolysis\"].p_nom_opt[0] * n.links[n.links.carrier == \"H2 Electrolysis\"].capital_cost[0]\n",
    "opex = n.links_t.p0.loc[:, n.links.carrier == \"H2 Electrolysis\"].sum()[0] * n.links[n.links.carrier == \"H2 Electrolysis\"].marginal_cost[0]\n",
    "el_cost = (n.links_t.p0.loc[:, n.links.carrier == \"H2 Electrolysis\"].iloc[:, 0] * n.buses_t.marginal_price.loc[:, n.buses.carrier == \"AC\"].iloc[:, 0]).sum()\n",
    "hydrogen = (-1) * n.links_t.p1.loc[:, n.links.carrier == \"H2 Electrolysis\"].iloc[:, 0].sum()\n",
    "\n",
    "#opex_link = series_to_df(n.links_t.p0.sum() * n.links.marginal_cost)\n",
    "#series_to_df(n.links.p_nom_opt * n.links.capital_cost)"
   ]
  },
  {
   "cell_type": "code",
   "execution_count": 42,
   "metadata": {},
   "outputs": [
    {
     "data": {
      "text/plain": [
       "183.05826925379722"
      ]
     },
     "execution_count": 42,
     "metadata": {},
     "output_type": "execute_result"
    }
   ],
   "source": [
    "lcoh = (capex + opex + el_cost) / hydrogen \n",
    "lcoh"
   ]
  },
  {
   "attachments": {},
   "cell_type": "markdown",
   "metadata": {},
   "source": [
    "All nodes"
   ]
  },
  {
   "cell_type": "code",
   "execution_count": 57,
   "metadata": {},
   "outputs": [],
   "source": [
    "capex = n.links[n.links.carrier == \"H2 Electrolysis\"].p_nom_opt * n.links[n.links.carrier == \"H2 Electrolysis\"].capital_cost\n",
    "opex = n.links_t.p0.loc[:, n.links.carrier == \"H2 Electrolysis\"].sum() * n.links[n.links.carrier == \"H2 Electrolysis\"].marginal_cost"
   ]
  },
  {
   "cell_type": "code",
   "execution_count": 58,
   "metadata": {},
   "outputs": [],
   "source": [
    "el_costs = n.links_t.p0.loc[:, n.links.carrier == \"H2 Electrolysis\"].multiply(n.buses_t.marginal_price.loc[:, n.buses.carrier == \"AC\"].values, axis = 0)"
   ]
  },
  {
   "cell_type": "code",
   "execution_count": 59,
   "metadata": {},
   "outputs": [],
   "source": [
    "hydrogen = (-1) * n.links_t.p1.loc[:, n.links.carrier == \"H2 Electrolysis\"].sum()"
   ]
  },
  {
   "cell_type": "code",
   "execution_count": 62,
   "metadata": {},
   "outputs": [
    {
     "data": {
      "text/plain": [
       "Link\n",
       "MA.1.2_1_AC H2 Electrolysis     183.058269\n",
       "MA.1.3_1_AC H2 Electrolysis     111.641022\n",
       "MA.10.1_1_AC H2 Electrolysis     76.284629\n",
       "MA.10.3_1_AC H2 Electrolysis    103.172220\n",
       "MA.10.4_1_AC H2 Electrolysis     57.129448\n",
       "MA.10.5_1_AC H2 Electrolysis     89.591141\n",
       "MA.11.1_1_AC H2 Electrolysis     90.570537\n",
       "MA.11.3_1_AC H2 Electrolysis     89.974998\n",
       "MA.11.4_1_AC H2 Electrolysis     72.138868\n",
       "MA.12.1_1_AC H2 Electrolysis    112.093520\n",
       "MA.12.2_1_AC H2 Electrolysis     93.194467\n",
       "MA.12.3_1_AC H2 Electrolysis    158.658847\n",
       "MA.12.4_1_AC H2 Electrolysis    129.053097\n",
       "MA.12.5_1_AC H2 Electrolysis    106.264674\n",
       "MA.12.6_1_AC H2 Electrolysis    131.389283\n",
       "MA.12.7_1_AC H2 Electrolysis    113.505878\n",
       "MA.13.1_1_AC H2 Electrolysis    241.639134\n",
       "MA.13.2_1_AC H2 Electrolysis    189.499812\n",
       "MA.14.1_1_AC H2 Electrolysis     65.611252\n",
       "MA.14.2_1_AC H2 Electrolysis     72.689219\n",
       "MA.14.3_1_AC H2 Electrolysis     82.644768\n",
       "MA.14.4_1_AC H2 Electrolysis     80.257695\n",
       "MA.14.5_1_AC H2 Electrolysis     67.374197\n",
       "MA.15.1_1_AC H2 Electrolysis     86.834122\n",
       "MA.15.2_1_AC H2 Electrolysis     78.082683\n",
       "MA.15.3_1_AC H2 Electrolysis     79.065655\n",
       "MA.2.1_1_AC H2 Electrolysis      52.400157\n",
       "MA.2.2_1_AC H2 Electrolysis     189.006294\n",
       "MA.3.2_1_AC H2 Electrolysis      82.027978\n",
       "MA.3.3_1_AC H2 Electrolysis      76.206713\n",
       "MA.3.4_1_AC H2 Electrolysis      81.145771\n",
       "MA.4.1_1_AC H2 Electrolysis      49.363979\n",
       "MA.4.2_1_AC H2 Electrolysis      63.702027\n",
       "MA.5.1_1_AC H2 Electrolysis      60.926912\n",
       "MA.5.2_1_AC H2 Electrolysis      93.340710\n",
       "MA.6.2_1_AC H2 Electrolysis     104.908074\n",
       "MA.6.3_1_AC H2 Electrolysis      59.006957\n",
       "MA.8.1_1_AC H2 Electrolysis     205.349042\n",
       "MA.8.2_1_AC H2 Electrolysis     241.944602\n",
       "MA.8.3_1_AC H2 Electrolysis     208.230386\n",
       "MA.8.4_1_AC H2 Electrolysis     119.939231\n",
       "MA.8.5_1_AC H2 Electrolysis     162.427674\n",
       "MA.9.1_1_AC H2 Electrolysis      86.199271\n",
       "MA.9.2_1_AC H2 Electrolysis     119.221456\n",
       "MA.9.3_1_AC H2 Electrolysis      95.986644\n",
       "MA.9.4_1_AC H2 Electrolysis     162.657025\n",
       "MA.9.5_1_AC H2 Electrolysis     103.005049\n",
       "dtype: float64"
      ]
     },
     "execution_count": 62,
     "metadata": {},
     "output_type": "execute_result"
    }
   ],
   "source": [
    "lcoh = (capex + opex + el_cost) / hydrogen \n",
    "lcoh #.describe()"
   ]
  },
  {
   "cell_type": "code",
   "execution_count": null,
   "metadata": {},
   "outputs": [],
   "source": [
    "# plot cost components capex, opex, el_cost for each electrolyzer as stacked barplot\n",
    "\n",
    "fig = plt.figure(figsize=(10, 5))\n",
    "ax = fig.add_subplot(111)\n",
    "\n",
    "# set width of bar\n",
    "barWidth = 0.25\n",
    "\n",
    "# set height of bar\n",
    "bars1 = [capex, opex, el_cost]\n",
    "bars2 = [capex2, opex2, el_cost2]\n",
    "bars3 = [capex3, opex3, el_cost3]\n",
    "\n"
   ]
  },
  {
   "attachments": {},
   "cell_type": "markdown",
   "metadata": {},
   "source": [
    "Marginal price"
   ]
  },
  {
   "cell_type": "code",
   "execution_count": 12,
   "metadata": {},
   "outputs": [
    {
     "data": {
      "text/plain": [
       "snapshot\n",
       "2013-01-01 00:00:00    154.953504\n",
       "2013-01-01 03:00:00    154.953493\n",
       "2013-01-01 06:00:00    154.953481\n",
       "2013-01-01 09:00:00    154.942126\n",
       "2013-01-01 12:00:00    154.942110\n",
       "                          ...    \n",
       "2013-12-31 09:00:00    154.951874\n",
       "2013-12-31 12:00:00    154.951877\n",
       "2013-12-31 15:00:00    154.951921\n",
       "2013-12-31 18:00:00    154.953514\n",
       "2013-12-31 21:00:00    154.953515\n",
       "Name: H2 export bus, Length: 2920, dtype: float64"
      ]
     },
     "execution_count": 12,
     "metadata": {},
     "output_type": "execute_result"
    }
   ],
   "source": [
    "\n",
    "n.buses_t.marginal_price.loc[:, n.buses.carrier == \"H2\"].iloc[:, 0] #.plot() # .describe() #).sum()"
   ]
  }
 ],
 "metadata": {
  "kernelspec": {
   "display_name": "Python 3",
   "language": "python",
   "name": "python3"
  },
  "language_info": {
   "codemirror_mode": {
    "name": "ipython",
    "version": 3
   },
   "file_extension": ".py",
   "mimetype": "text/x-python",
   "name": "python",
   "nbconvert_exporter": "python",
   "pygments_lexer": "ipython3",
   "version": "3.10.11"
  },
  "orig_nbformat": 4
 },
 "nbformat": 4,
 "nbformat_minor": 2
}

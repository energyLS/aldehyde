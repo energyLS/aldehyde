{
 "cells": [
  {
   "cell_type": "code",
   "execution_count": 63,
   "metadata": {},
   "outputs": [],
   "source": [
    "import pandas as pd\n",
    "import numpy as np\n",
    "import matplotlib.pyplot as plt\n",
    "import pypsa"
   ]
  },
  {
   "cell_type": "code",
   "execution_count": 64,
   "metadata": {},
   "outputs": [],
   "source": [
    "run = \"nresults_full_3H_ws\"\n",
    "prefix = \"/mnt/c/Users/scl38887/Documents/git/aldehyde/workflow/subworkflows/pypsa-earth-sec/results/\" + run + \"/postnetworks/\"\n",
    "output = \"/mnt/c/Users/scl38887/Documents/git/aldehyde/results/\" + run + \"/graphics/rldc/\""
   ]
  },
  {
   "cell_type": "code",
   "execution_count": 65,
   "metadata": {},
   "outputs": [
    {
     "name": "stderr",
     "output_type": "stream",
     "text": [
      "INFO:pypsa.io:Imported network elec_s_10_ec_lc1.0_Co2L0.50_3H_2030_0.15_DF_20export.nc has buses, carriers, generators, global_constraints, lines, links, loads, storage_units, stores\n"
     ]
    }
   ],
   "source": [
    "path = \"elec_s_10_ec_lc1.0_Co2L0.50_3H_2030_0.15_DF_20export.nc\"\n",
    "n = pypsa.Network(prefix + path)"
   ]
  },
  {
   "attachments": {},
   "cell_type": "markdown",
   "metadata": {},
   "source": [
    "All nodes"
   ]
  },
  {
   "cell_type": "code",
   "execution_count": 82,
   "metadata": {},
   "outputs": [],
   "source": [
    "capex = n.links[n.links.carrier == \"H2 Electrolysis\"].p_nom_opt * n.links[n.links.carrier == \"H2 Electrolysis\"].capital_cost\n",
    "opex = n.links_t.p0.loc[:, n.links.carrier == \"H2 Electrolysis\"].sum() * n.links[n.links.carrier == \"H2 Electrolysis\"].marginal_cost"
   ]
  },
  {
   "cell_type": "code",
   "execution_count": 83,
   "metadata": {},
   "outputs": [],
   "source": [
    "el_cost = n.links_t.p0.loc[:, n.links.carrier == \"H2 Electrolysis\"].multiply(n.buses_t.marginal_price.loc[:, n.buses.carrier == \"AC\"].values, axis = 0).sum()"
   ]
  },
  {
   "cell_type": "code",
   "execution_count": 84,
   "metadata": {},
   "outputs": [],
   "source": [
    "hydrogen = (-1) * n.links_t.p1.loc[:, n.links.carrier == \"H2 Electrolysis\"].sum()"
   ]
  },
  {
   "cell_type": "code",
   "execution_count": 120,
   "metadata": {},
   "outputs": [],
   "source": [
    "cost_comp = pd.concat([capex, opex, el_cost, hydrogen], axis=1).reset_index(drop=True)\n",
    "cost_comp.columns = [\"capex\", \"opex\", \"el_cost\", \"hydrogen\"]\n",
    "cost_comp.index = hydrogen.index\n",
    "cost_comp[\"total_cost\"] = cost_comp[\"capex\"] + cost_comp[\"opex\"] + cost_comp[\"el_cost\"]\n",
    "cost_comp[\"capex_share\"] = cost_comp[\"capex\"] / cost_comp[\"total_cost\"]\n",
    "cost_comp[\"lcoh\"] = cost_comp[\"total_cost\"] / cost_comp[\"hydrogen\"]"
   ]
  },
  {
   "cell_type": "code",
   "execution_count": 123,
   "metadata": {},
   "outputs": [
    {
     "data": {
      "text/plain": [
       "0.4350203199618859"
      ]
     },
     "execution_count": 123,
     "metadata": {},
     "output_type": "execute_result"
    }
   ],
   "source": [
    "cost_comp[\"capex_share\"].mean()"
   ]
  },
  {
   "cell_type": "code",
   "execution_count": 125,
   "metadata": {},
   "outputs": [
    {
     "data": {
      "text/plain": [
       "0.46424525835148284"
      ]
     },
     "execution_count": 125,
     "metadata": {},
     "output_type": "execute_result"
    }
   ],
   "source": [
    "cost_comp[\"capex\"].mean() / cost_comp[\"total_cost\"].mean()"
   ]
  },
  {
   "cell_type": "code",
   "execution_count": 113,
   "metadata": {},
   "outputs": [
    {
     "data": {
      "text/html": [
       "<div>\n",
       "<style scoped>\n",
       "    .dataframe tbody tr th:only-of-type {\n",
       "        vertical-align: middle;\n",
       "    }\n",
       "\n",
       "    .dataframe tbody tr th {\n",
       "        vertical-align: top;\n",
       "    }\n",
       "\n",
       "    .dataframe thead th {\n",
       "        text-align: right;\n",
       "    }\n",
       "</style>\n",
       "<table border=\"1\" class=\"dataframe\">\n",
       "  <thead>\n",
       "    <tr style=\"text-align: right;\">\n",
       "      <th></th>\n",
       "      <th>capex</th>\n",
       "      <th>opex</th>\n",
       "      <th>el_cost</th>\n",
       "      <th>lcoh</th>\n",
       "      <th>total_cost</th>\n",
       "      <th>capex_share</th>\n",
       "    </tr>\n",
       "  </thead>\n",
       "  <tbody>\n",
       "    <tr>\n",
       "      <th>0</th>\n",
       "      <td>9.725323e+03</td>\n",
       "      <td>1.577507</td>\n",
       "      <td>1.167520e+04</td>\n",
       "      <td>183.058269</td>\n",
       "      <td>2.140210e+04</td>\n",
       "      <td>0.454410</td>\n",
       "    </tr>\n",
       "    <tr>\n",
       "      <th>1</th>\n",
       "      <td>3.410962e+04</td>\n",
       "      <td>6.509403</td>\n",
       "      <td>3.983611e+04</td>\n",
       "      <td>180.298396</td>\n",
       "      <td>7.395224e+04</td>\n",
       "      <td>0.461239</td>\n",
       "    </tr>\n",
       "    <tr>\n",
       "      <th>2</th>\n",
       "      <td>1.485295e+05</td>\n",
       "      <td>29.882242</td>\n",
       "      <td>2.158162e+05</td>\n",
       "      <td>173.472255</td>\n",
       "      <td>3.643757e+05</td>\n",
       "      <td>0.407628</td>\n",
       "    </tr>\n",
       "    <tr>\n",
       "      <th>3</th>\n",
       "      <td>4.095840e+04</td>\n",
       "      <td>7.736209</td>\n",
       "      <td>4.932272e+04</td>\n",
       "      <td>176.957933</td>\n",
       "      <td>9.028886e+04</td>\n",
       "      <td>0.453637</td>\n",
       "    </tr>\n",
       "    <tr>\n",
       "      <th>4</th>\n",
       "      <td>6.021060e+06</td>\n",
       "      <td>1673.149295</td>\n",
       "      <td>1.193394e+07</td>\n",
       "      <td>170.000862</td>\n",
       "      <td>1.795667e+07</td>\n",
       "      <td>0.335311</td>\n",
       "    </tr>\n",
       "  </tbody>\n",
       "</table>\n",
       "</div>"
      ],
      "text/plain": [
       "          capex         opex       el_cost        lcoh    total_cost  \\\n",
       "0  9.725323e+03     1.577507  1.167520e+04  183.058269  2.140210e+04   \n",
       "1  3.410962e+04     6.509403  3.983611e+04  180.298396  7.395224e+04   \n",
       "2  1.485295e+05    29.882242  2.158162e+05  173.472255  3.643757e+05   \n",
       "3  4.095840e+04     7.736209  4.932272e+04  176.957933  9.028886e+04   \n",
       "4  6.021060e+06  1673.149295  1.193394e+07  170.000862  1.795667e+07   \n",
       "\n",
       "   capex_share  \n",
       "0     0.454410  \n",
       "1     0.461239  \n",
       "2     0.407628  \n",
       "3     0.453637  \n",
       "4     0.335311  "
      ]
     },
     "execution_count": 113,
     "metadata": {},
     "output_type": "execute_result"
    }
   ],
   "source": [
    "cost_comp.head()"
   ]
  },
  {
   "cell_type": "code",
   "execution_count": 112,
   "metadata": {},
   "outputs": [],
   "source": []
  },
  {
   "attachments": {},
   "cell_type": "markdown",
   "metadata": {},
   "source": [
    "Plotting"
   ]
  },
  {
   "attachments": {},
   "cell_type": "markdown",
   "metadata": {},
   "source": [
    "Marginal price"
   ]
  },
  {
   "cell_type": "code",
   "execution_count": 12,
   "metadata": {},
   "outputs": [
    {
     "data": {
      "text/plain": [
       "snapshot\n",
       "2013-01-01 00:00:00    154.953504\n",
       "2013-01-01 03:00:00    154.953493\n",
       "2013-01-01 06:00:00    154.953481\n",
       "2013-01-01 09:00:00    154.942126\n",
       "2013-01-01 12:00:00    154.942110\n",
       "                          ...    \n",
       "2013-12-31 09:00:00    154.951874\n",
       "2013-12-31 12:00:00    154.951877\n",
       "2013-12-31 15:00:00    154.951921\n",
       "2013-12-31 18:00:00    154.953514\n",
       "2013-12-31 21:00:00    154.953515\n",
       "Name: H2 export bus, Length: 2920, dtype: float64"
      ]
     },
     "execution_count": 12,
     "metadata": {},
     "output_type": "execute_result"
    }
   ],
   "source": [
    "\n",
    "n.buses_t.marginal_price.loc[:, n.buses.carrier == \"H2\"].iloc[:, 0] #.plot() # .describe() #).sum()"
   ]
  }
 ],
 "metadata": {
  "kernelspec": {
   "display_name": "Python 3",
   "language": "python",
   "name": "python3"
  },
  "language_info": {
   "codemirror_mode": {
    "name": "ipython",
    "version": 3
   },
   "file_extension": ".py",
   "mimetype": "text/x-python",
   "name": "python",
   "nbconvert_exporter": "python",
   "pygments_lexer": "ipython3",
   "version": "3.10.11"
  },
  "orig_nbformat": 4
 },
 "nbformat": 4,
 "nbformat_minor": 2
}

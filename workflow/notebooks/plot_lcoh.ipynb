{
 "cells": [
  {
   "cell_type": "code",
   "execution_count": null,
   "metadata": {},
   "outputs": [],
   "source": [
    "import pandas as pd\n",
    "import numpy as np\n",
    "import matplotlib.pyplot as plt\n",
    "import pypsa"
   ]
  },
  {
   "cell_type": "code",
   "execution_count": null,
   "metadata": {},
   "outputs": [],
   "source": [
    "run = \"nresults_full_3H_ws\"\n",
    "prefix = \"/mnt/c/Users/scl38887/Documents/git/aldehyde/workflow/subworkflows/pypsa-earth-sec/results/\" + run + \"/postnetworks/\"\n",
    "output = \"/mnt/c/Users/scl38887/Documents/git/aldehyde/results/\" + run + \"/graphics/rldc/\""
   ]
  },
  {
   "cell_type": "code",
   "execution_count": null,
   "metadata": {},
   "outputs": [
    {
     "name": "stderr",
     "output_type": "stream",
     "text": [
      "INFO:pypsa.io:Imported network elec_s_10_ec_lc1.0_Co2L0.50_3H_2030_0.15_DF_20export.nc has buses, carriers, generators, global_constraints, lines, links, loads, storage_units, stores\n"
     ]
    }
   ],
   "source": [
    "path = \"elec_s_10_ec_lc1.0_Co2L0.50_3H_2030_0.15_DF_20export.nc\"\n",
    "n = pypsa.Network(prefix + path)"
   ]
  },
  {
   "cell_type": "code",
   "execution_count": null,
   "metadata": {},
   "outputs": [],
   "source": [
    "#n.links[n.links.carrier == \"H2 Electrolysis\"].marginal_cost"
   ]
  },
  {
   "cell_type": "code",
   "execution_count": null,
   "metadata": {},
   "outputs": [],
   "source": [
    "capex = n.links[n.links.carrier == \"H2 Electrolysis\"].p_nom_opt[0] * n.links[n.links.carrier == \"H2 Electrolysis\"].capital_cost[0]\n",
    "opex = n.links_t.p0.loc[:, n.links.carrier == \"H2 Electrolysis\"].sum()[0] * n.links[n.links.carrier == \"H2 Electrolysis\"].marginal_cost[0]\n",
    "el_cost = (n.links_t.p0.loc[:, n.links.carrier == \"H2 Electrolysis\"].iloc[:, 0] * n.buses_t.marginal_price.loc[:, n.buses.carrier == \"AC\"].iloc[:, 0]).sum()\n",
    "hydrogen = n.links_t.p0.loc[:, n.links.carrier == \"H2 Electrolysis\"].iloc[:, 0].sum()\n",
    "\n",
    "#opex_link = series_to_df(n.links_t.p0.sum() * n.links.marginal_cost)\n",
    "#series_to_df(n.links.p_nom_opt * n.links.capital_cost)"
   ]
  },
  {
   "cell_type": "code",
   "execution_count": null,
   "metadata": {},
   "outputs": [
    {
     "data": {
      "text/plain": [
       "124.47962309258212"
      ]
     },
     "metadata": {},
     "output_type": "display_data"
    }
   ],
   "source": [
    "lcoh = (capex + opex + el_cost) / hydrogen \n",
    "lcoh"
   ]
  },
  {
   "cell_type": "code",
   "execution_count": null,
   "metadata": {},
   "outputs": [
    {
     "data": {
      "text/plain": [
       "count    2920.000000\n",
       "mean      120.822785\n",
       "std        60.140289\n",
       "min         0.061697\n",
       "25%       128.015851\n",
       "50%       154.951541\n",
       "75%       154.953311\n",
       "max       191.550787\n",
       "Name: H2 export bus, dtype: float64"
      ]
     },
     "metadata": {},
     "output_type": "display_data"
    }
   ],
   "source": [
    "\n",
    "n.buses_t.marginal_price.loc[:, n.buses.carrier == \"H2\"].iloc[:, 0].describe() #).sum()"
   ]
  }
 ],
 "metadata": {
  "language_info": {
   "name": "python"
  },
  "orig_nbformat": 4
 },
 "nbformat": 4,
 "nbformat_minor": 2
}

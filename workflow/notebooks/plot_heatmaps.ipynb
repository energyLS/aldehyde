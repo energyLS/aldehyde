{
 "cells": [
  {
   "cell_type": "markdown",
   "metadata": {},
   "source": [
    "### Credits to Neumann et al. (2023) http://dx.doi.org/10.2139/ssrn.4173442"
   ]
  },
  {
   "cell_type": "code",
   "execution_count": 84,
   "metadata": {},
   "outputs": [],
   "source": [
    "import pandas as pd\n",
    "import numpy as np\n",
    "import matplotlib.pyplot as plt\n",
    "import pypsa\n",
    "import seaborn as sns"
   ]
  },
  {
   "cell_type": "code",
   "execution_count": 85,
   "metadata": {},
   "outputs": [],
   "source": [
    "EXPORT = 40\n",
    "CO2L = 0.10\n",
    "CLUSTERS = 4\n",
    "H = 3\n",
    "LL = \"3.0\"\n",
    "DISCOUNT_RATE = 0.15\n",
    "\n",
    "RUN = \"dyntrans_full_3h_ws\"\n",
    "CATEGORY = \"postnetworks\"\n",
    "SCENARIO = f\"elec_s_{CLUSTERS}_ec_lc{LL}_Co2L{CO2L}0_{H}H_2030_{DISCOUNT_RATE}_DF_{EXPORT}export\"\n",
    "\n",
    "#OVERRIDES = PATH + \"pypsa-eur-sec/data/override_component_attrs\"\n",
    "\n",
    "PREFIX = \"/mnt/c/Users/scl38887/Documents/git/aldehyde/\"\n",
    "OUTPUT = PREFIX + \"results\"\n",
    "INPUT = PREFIX + f\"workflow/subworkflows/pypsa-earth-sec/results/{RUN}/{CATEGORY}/{SCENARIO}.nc\"\n",
    "OUTPUT_SCENARIO = f\"{OUTPUT}/{RUN}/graphics/heatmaps/{SCENARIO}\"\n",
    "OUTPUT_RAW = f\"{OUTPUT}/{RUN}/graphics/heatmaps/\""
   ]
  },
  {
   "cell_type": "code",
   "execution_count": 86,
   "metadata": {},
   "outputs": [
    {
     "name": "stderr",
     "output_type": "stream",
     "text": [
      "INFO:pypsa.io:Imported network elec_s_4_ec_lc3.0_Co2L0.10_3H_2030_0.15_DF_40export.nc has buses, carriers, generators, global_constraints, lines, links, loads, storage_units, stores\n"
     ]
    }
   ],
   "source": [
    "n = pypsa.Network(INPUT)"
   ]
  },
  {
   "cell_type": "markdown",
   "metadata": {},
   "source": [
    "#### Plot Prices"
   ]
  },
  {
   "cell_type": "code",
   "execution_count": 87,
   "metadata": {},
   "outputs": [],
   "source": [
    "def get_nodal_prices(n):\n",
    "    return (\n",
    "        n.buses_t.marginal_price.mean()\n",
    "        .groupby([n.buses.location, n.buses.carrier])\n",
    "        .first()\n",
    "        .unstack()\n",
    "    )"
   ]
  },
  {
   "cell_type": "code",
   "execution_count": 88,
   "metadata": {},
   "outputs": [],
   "source": [
    "df = get_nodal_prices(n)"
   ]
  },
  {
   "cell_type": "code",
   "execution_count": 89,
   "metadata": {},
   "outputs": [],
   "source": [
    "def plot_price_duration_curve(n, carrier, fn=None):\n",
    "    df = n.buses_t.marginal_price.loc[:, n.buses.carrier == carrier]\n",
    "\n",
    "    df = df.stack()\n",
    "\n",
    "    to_plot = df.sort_values(ascending=False).reset_index(drop=True)\n",
    "\n",
    "    to_plot.index = [i / len(df) * 100 for i in to_plot.index]\n",
    "\n",
    "    fig, ax = plt.subplots(figsize=(4, 2.5))\n",
    "    to_plot.plot(\n",
    "        ax=ax,\n",
    "    )\n",
    "    plt.xlabel(\"share of snapshots and nodes [%]\")\n",
    "    plt.ylabel(\"nodal price [EUR/MWh]\")\n",
    "    plt.axvline(0, linewidth=0.5, linestyle=\":\", color=\"grey\")\n",
    "    plt.axvline(100, linewidth=0.5, linestyle=\":\", color=\"grey\")\n",
    "    plt.axhline(0, linewidth=0.5, linestyle=\":\", color=\"grey\")\n",
    "\n",
    "    if carrier == \"H2\":\n",
    "        title = \"Hydrogen\"\n",
    "        plt.ylim([-20, 350])\n",
    "    elif carrier == \"AC\":\n",
    "        title = \"Electricity\"\n",
    "        plt.ylim([-100, 1000])\n",
    "    else:\n",
    "        title = carrier\n",
    "\n",
    "    plt.title(title, fontsize=12, color=\"#343434\")\n",
    "\n",
    "    if fn is not None:\n",
    "        plt.savefig(fn, bbox_inches=\"tight\")\n",
    "        plt.close()"
   ]
  },
  {
   "cell_type": "code",
   "execution_count": 90,
   "metadata": {},
   "outputs": [],
   "source": [
    "#plot_price_duration_curve(n, \"AC\")"
   ]
  },
  {
   "cell_type": "markdown",
   "metadata": {},
   "source": [
    "### Plot heatmaps"
   ]
  },
  {
   "cell_type": "code",
   "execution_count": 91,
   "metadata": {},
   "outputs": [],
   "source": [
    "def plot_cf_heatmap(\n",
    "    df, vmin=0, vmax=80, cmap=\"Greens\", label=\"capacity factors [%]\", fn=True\n",
    "):\n",
    "    fig, ax = plt.subplots(figsize=(6, 2.5))\n",
    "    sns.heatmap(\n",
    "        df,\n",
    "        cmap=cmap,\n",
    "        ax=ax,\n",
    "        vmin=vmin,\n",
    "        vmax=vmax,\n",
    "        cbar_kws=dict(label=label, extend=\"max\"),\n",
    "    )\n",
    "    plt.ylabel(\"hour of the day\")\n",
    "    plt.xlabel(\"day of the year\")\n",
    "    plt.yticks(rotation=0)\n",
    "    plt.title(carrier, fontsize=12)\n",
    "    plt.tight_layout()\n",
    "    plt.annotate(\"Style from: Neumann et al. (2023) \\n http://dx.doi.org/10.2139/ssrn.4173442\", \n",
    "            xy=(0.9, -0.8),  # Coordinates of the text, adjust as needed\n",
    "            xycoords='axes fraction',  # Use normalized axes coordinates\n",
    "            textcoords='offset points',  # Use offset from xy\n",
    "            size=7,  # Adjust the size of the text\n",
    "            xytext=(0, 10),  # Offset from the xy point\n",
    "            ha='center',  # Horizontal alignment\n",
    "            color='gray')  # Adjust the color of the text\n",
    "    if fn:\n",
    "        if not isinstance(fn, str):\n",
    "            fn = f\"{OUTPUT_SCENARIO}/cf-ts-{carrier}.pdf\"\n",
    "        plt.savefig(fn, bbox_inches=\"tight\")\n",
    "        plt.close()"
   ]
  },
  {
   "cell_type": "code",
   "execution_count": 92,
   "metadata": {},
   "outputs": [],
   "source": [
    "def unstack_day_hour(cfc):\n",
    "    df = cfc.groupby(cfc.index.hour).agg(list)\n",
    "\n",
    "    columns = pd.date_range(cfc.index[0], cfc.index[-1], freq=\"D\").strftime(\"%-d %b\")\n",
    "\n",
    "    return pd.DataFrame(df.tolist(), index=df.index, columns=columns)"
   ]
  },
  {
   "cell_type": "markdown",
   "metadata": {},
   "source": [
    "#### AC and H2 price heatmap"
   ]
  },
  {
   "cell_type": "code",
   "execution_count": 93,
   "metadata": {},
   "outputs": [],
   "source": [
    "cf = n.buses_t.marginal_price.groupby(n.buses.carrier, axis=1).mean()"
   ]
  },
  {
   "cell_type": "code",
   "execution_count": 94,
   "metadata": {},
   "outputs": [],
   "source": [
    "# for carrier in cf.columns:\n",
    "for carrier in [\"AC\", \"H2\"]:\n",
    "    cfc = cf[carrier]\n",
    "    df = unstack_day_hour(cfc)\n",
    "    vmax = np.ceil(cfc.quantile(0.99) / 10) * 10\n",
    "    if carrier in [\"AC\", \"H2\"]:\n",
    "        vmax = 300\n",
    "    plot_cf_heatmap(\n",
    "        df,\n",
    "        cmap=\"Spectral_r\",\n",
    "        label=\"Nodal Price [EUR/MWh]\",\n",
    "        vmax=vmax,\n",
    "        fn=True,\n",
    "    )"
   ]
  },
  {
   "cell_type": "markdown",
   "metadata": {},
   "source": [
    "#### Plot SOC heatmaps"
   ]
  },
  {
   "cell_type": "code",
   "execution_count": 95,
   "metadata": {},
   "outputs": [],
   "source": [
    "def aggregate_techs(tech):\n",
    "    if \"solar thermal\" in tech:\n",
    "        return \"solar thermal\"\n",
    "    elif \"solar\" in tech:\n",
    "        return \"solar PV\"\n",
    "    elif \"offwind\" in tech:\n",
    "        return \"offshore wind\"\n",
    "    elif \"onwind\" in tech:\n",
    "        return \"onshore wind\"\n",
    "    elif \"ror\" in tech:\n",
    "        return \"run of river\"\n",
    "    elif \"ground heat pump\" in tech:\n",
    "        return \"ground-sourced heat pump\"\n",
    "    elif \"air heat pump\" in tech:\n",
    "        return \"air-sourced heat pump\"\n",
    "    elif \"water tank\" in tech:\n",
    "        return \"thermal energy storage\"\n",
    "    elif tech == \"H2\":\n",
    "        return \"hydrogen storage\"\n",
    "    elif tech == \"Li ion\":\n",
    "        return \"electric vehicle batteries\"\n",
    "    elif \"gas boiler\" in tech:\n",
    "        return \"gas boiler\"\n",
    "    elif \"resistive heater\" in tech:\n",
    "        return \"resistive heater\"\n",
    "    elif \"CHP\" in tech:\n",
    "        return \"CHP\"\n",
    "    else:\n",
    "        return tech"
   ]
  },
  {
   "cell_type": "code",
   "execution_count": 96,
   "metadata": {},
   "outputs": [],
   "source": [
    "cf = (\n",
    "    n.stores_t.e.groupby(n.stores.carrier, axis=1).sum()\n",
    "    / n.stores.e_nom_opt.groupby(n.stores.carrier).sum()\n",
    "    * 100\n",
    ")\n",
    "cf = cf.groupby(cf.columns.map(aggregate_techs), axis=1).mean()"
   ]
  },
  {
   "cell_type": "code",
   "execution_count": 97,
   "metadata": {},
   "outputs": [],
   "source": [
    "for carrier in [\"battery\", \"hydrogen storage\", \"electric vehicle batteries\", \"thermal energy storage\"]: #cf.columns:\n",
    "    cfc = cf[carrier]\n",
    "    df = unstack_day_hour(cfc)\n",
    "    plot_cf_heatmap(df, cmap=\"Purples\", vmin=0, vmax=100, label=\"SOC [%]\", fn=True)"
   ]
  },
  {
   "cell_type": "markdown",
   "metadata": {},
   "source": [
    "#### Plot CFs of wind and solar "
   ]
  },
  {
   "cell_type": "code",
   "execution_count": 98,
   "metadata": {},
   "outputs": [],
   "source": [
    "cf = n.generators_t.p_max_pu.groupby(n.generators.carrier, axis=1).mean() * 100\n",
    "cf = cf.groupby(cf.columns.map(aggregate_techs), axis=1).mean()"
   ]
  },
  {
   "cell_type": "code",
   "execution_count": 99,
   "metadata": {},
   "outputs": [],
   "source": [
    "for carrier in cf.columns:\n",
    "    cfc = cf[carrier]\n",
    "    df = unstack_day_hour(cfc)\n",
    "    plot_cf_heatmap(df, cmap=\"Blues\", fn=f\"{OUTPUT_RAW}/cf-raw-ts-{carrier}.pdf\")"
   ]
  },
  {
   "cell_type": "markdown",
   "metadata": {},
   "source": [
    "#### Plot CFs of links (incl. electrolysis)"
   ]
  },
  {
   "cell_type": "code",
   "execution_count": 100,
   "metadata": {},
   "outputs": [],
   "source": [
    "cf = (\n",
    "    n.links_t.p0.groupby(n.links.carrier, axis=1).sum()\n",
    "    / n.links.p_nom_opt.groupby(n.links.carrier).sum()\n",
    "    * 100\n",
    ")\n",
    "cf = cf.groupby(cf.columns.map(aggregate_techs), axis=1).mean()"
   ]
  },
  {
   "cell_type": "code",
   "execution_count": 101,
   "metadata": {},
   "outputs": [],
   "source": [
    "bidirectional = (cf < 0).any()"
   ]
  },
  {
   "cell_type": "code",
   "execution_count": 102,
   "metadata": {},
   "outputs": [],
   "source": [
    "cfb = cf.loc[:, ~bidirectional]\n",
    "for carrier in cfb.columns:\n",
    "    cfc = cfb[carrier]\n",
    "    df = unstack_day_hour(cfc)\n",
    "    plot_cf_heatmap(df, cmap=\"Reds\", vmax=100)"
   ]
  },
  {
   "cell_type": "markdown",
   "metadata": {},
   "source": [
    "#### V2G and BEV"
   ]
  },
  {
   "cell_type": "code",
   "execution_count": 103,
   "metadata": {},
   "outputs": [],
   "source": [
    "cf = n.links_t.p_max_pu.groupby(n.links.carrier, axis=1).mean() * 100\n",
    "cf = cf.groupby(cf.columns.map(aggregate_techs), axis=1).mean()"
   ]
  },
  {
   "cell_type": "code",
   "execution_count": 104,
   "metadata": {},
   "outputs": [],
   "source": [
    "for carrier in cf.columns:\n",
    "    cfc = cf[carrier]\n",
    "    df = unstack_day_hour(cfc)\n",
    "    plot_cf_heatmap(df, cmap=\"viridis\", vmin=40, vmax=100)"
   ]
  },
  {
   "cell_type": "markdown",
   "metadata": {},
   "source": [
    "#### Plot COP of heatpumps"
   ]
  },
  {
   "cell_type": "code",
   "execution_count": 105,
   "metadata": {},
   "outputs": [],
   "source": [
    "cf = n.links_t.efficiency.groupby(n.links.carrier, axis=1).mean()\n",
    "cf = cf.groupby(cf.columns.map(aggregate_techs), axis=1).mean()"
   ]
  },
  {
   "cell_type": "code",
   "execution_count": 106,
   "metadata": {},
   "outputs": [],
   "source": [
    "for carrier in cf.columns:\n",
    "    cfc = cf[carrier]\n",
    "    df = unstack_day_hour(cfc)\n",
    "    plot_cf_heatmap(\n",
    "        df,\n",
    "        vmin=1,\n",
    "        vmax=4,\n",
    "        cmap=\"Greens\",\n",
    "        label=\"COP [-]\",\n",
    "        fn=f\"{OUTPUT_RAW}/cop-ts-{carrier}.pdf\",\n",
    "    )"
   ]
  }
 ],
 "metadata": {
  "kernelspec": {
   "display_name": "pypsa-earth",
   "language": "python",
   "name": "python3"
  },
  "language_info": {
   "codemirror_mode": {
    "name": "ipython",
    "version": 3
   },
   "file_extension": ".py",
   "mimetype": "text/x-python",
   "name": "python",
   "nbconvert_exporter": "python",
   "pygments_lexer": "ipython3",
   "version": "3.10.11"
  },
  "orig_nbformat": 4
 },
 "nbformat": 4,
 "nbformat_minor": 2
}

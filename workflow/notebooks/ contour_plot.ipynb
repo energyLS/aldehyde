{
 "cells": [
  {
   "attachments": {},
   "cell_type": "markdown",
   "metadata": {},
   "source": [
    "Create a contour plot in python which scans through x-axis (domestic renewable share) and y-axis (hydrogen export volume).  In the z-axis there is a synergy/conflict indicator called domestic average system costs"
   ]
  },
  {
   "cell_type": "code",
   "execution_count": null,
   "metadata": {},
   "outputs": [],
   "source": [
    "OUTPUT='/mnt/c/Users/scl38887/Documents/git/aldehyde/results/fix_co2/graphics/integrated_comp/'"
   ]
  },
  {
   "attachments": {},
   "cell_type": "markdown",
   "metadata": {},
   "source": [
    "### Real data"
   ]
  },
  {
   "cell_type": "code",
   "execution_count": null,
   "metadata": {},
   "outputs": [],
   "source": [
    "import numpy as np\n",
    "import matplotlib.pyplot as plt\n",
    "import pandas as pd"
   ]
  },
  {
   "cell_type": "code",
   "execution_count": null,
   "metadata": {},
   "outputs": [],
   "source": [
    "# Get the data\n",
    "data = pd.read_csv('/mnt/c/Users/scl38887/Documents/git/aldehyde/results/fix_co2/integrated_comp/stats.csv')\n"
   ]
  },
  {
   "cell_type": "code",
   "execution_count": null,
   "metadata": {},
   "outputs": [],
   "source": [
    "\n",
    "# Prepare the data\n",
    "# Extract the Co2L which is in position 5-8\n",
    "data[\"opts\"] = data[\"opts\"].str[4:]\n",
    "\n",
    "#Rescale the cost from euro to B€\n",
    "data[\"cost\"] = (data[\"cost\"]/1e9)\n",
    "\n",
    "# Round the data\n",
    "to_round = [\"cost\", \"lcoh\", \"lcoh_marginal\", \"lcoh_marginal_export\", \"lcoh_marginal_weighted\", \"lcoe_marginal\"]\n",
    "to_ = [\"cost\", \"lcoh\", \"lcoh_marginal\", \"lcoh_marginal_export\", \"lcoh_marginal_weighted\", \"lcoe_marginal\"]\n",
    "\n",
    "data[to_round] = data[to_round].round(2)"
   ]
  },
  {
   "cell_type": "code",
   "execution_count": null,
   "metadata": {},
   "outputs": [],
   "source": [
    "# Filter the data to remove 0 export and 0 co2 reduction\n",
    "data = data[(data[\"h2export\"] != 0) & (data[\"opts\"] != \"1.0\")]"
   ]
  },
  {
   "cell_type": "code",
   "execution_count": null,
   "metadata": {},
   "outputs": [],
   "source": [
    "data.head(15)"
   ]
  },
  {
   "cell_type": "code",
   "execution_count": null,
   "metadata": {},
   "outputs": [],
   "source": [
    "# Shape the data in a way that is suitable for contour plotting\n",
    "# First, get the unique values of the two parameters\n",
    "h2export = np.unique(data['h2export'])\n",
    "opts = np.unique(data['opts'].fillna(100).astype(float))\n",
    "# Then, create a meshgrid of the two parameters\n",
    "#X, Y = np.meshgrid(x, y) # Not necessary"
   ]
  },
  {
   "cell_type": "code",
   "execution_count": null,
   "metadata": {},
   "outputs": [],
   "source": [
    "# Reshape the data for all columns in to_round and save it in data dictionary\n",
    "data_reshaped = {}\n",
    "for i in to_round:\n",
    "    data_reshaped[i] = data[i].values.reshape(len(opts), len(h2export)).T"
   ]
  },
  {
   "cell_type": "code",
   "execution_count": null,
   "metadata": {},
   "outputs": [],
   "source": [
    "# Turn \"limit\" to \"reduction\" (e.g. Co2L0.90 means 10% reduction)\n",
    "opts_reverse = 1-opts"
   ]
  },
  {
   "cell_type": "code",
   "execution_count": null,
   "metadata": {},
   "outputs": [],
   "source": [
    "# Remove the 100% reduction\n",
    "data_reshaped[\"lcoh_marginal_weighted\"].iloc[:,:]"
   ]
  },
  {
   "cell_type": "code",
   "execution_count": null,
   "metadata": {},
   "outputs": [],
   "source": [
    "# Plot a contour plot of the data having the y-axis the column \"h2export\", x-axis the column \"sopts\", and the z-axis the column \"cost\"\n",
    "levels = 10\n",
    "#plt.contourf(opts_reverse*100,h2export,np.flip(data_reshaped[\"lcoh_marginal_export\"], axis=1), levels=levels)\n",
    "#plt.imshow(data_reshaped[\"lcoh_marginal_export\"])\n",
    "plt.pcolormesh(opts_reverse*100,h2export,np.flip(data_reshaped[\"lcoh_marginal_weighted\"], axis=1))\n",
    "plt.xlabel('CO$_2$ Reduction in % of base levels')\n",
    "plt.ylabel('Hydrogen Export Volume in TWh')\n",
    "plt.colorbar().set_label('Total System Cost in B€')\n",
    "\n",
    "# Save the plot\n",
    "plt.savefig(OUTPUT+'contour_plot_totalsystemcost_levels'+ str(levels) + '.pdf', bbox_inches='tight')\n",
    "\n",
    "plt.show()"
   ]
  },
  {
   "cell_type": "code",
   "execution_count": null,
   "metadata": {},
   "outputs": [],
   "source": [
    "# Plot a contour plot of the data having the y-axis the column \"h2export\", x-axis the column \"sopts\", and the z-axis the column \"lcoh\"\n",
    "levels = 10\n",
    "plt.contourf(opts_reverse*100,h2export,np.flip(lcoh, axis=1), levels=levels)\n",
    "\n",
    "plt.xlabel('CO$_2$ Reduction in % of base levels')\n",
    "plt.ylabel('Hydrogen Export Volume in TWh')\n",
    "plt.colorbar().set_label('LCOH in €/MWh')\n",
    "\n",
    "# Save the plot\n",
    "plt.savefig(OUTPUT+'contour_plot_lcoh_levels'+ str(levels) + '.pdf', bbox_inches='tight')\n",
    "\n",
    "plt.show()"
   ]
  },
  {
   "attachments": {},
   "cell_type": "markdown",
   "metadata": {},
   "source": [
    "### Dummy data: Single plot"
   ]
  },
  {
   "cell_type": "code",
   "execution_count": null,
   "metadata": {},
   "outputs": [],
   "source": [
    "import matplotlib.pyplot as plt\n",
    "import numpy as np\n",
    "\n",
    "# Define x and y axis data\n",
    "x = np.linspace(0, 100, num=100)\n",
    "y = np.linspace(0, 200, num=100)\n",
    "\n",
    "# Generate grid for x and y data\n",
    "X, Y = np.meshgrid(x, y)\n",
    "\n",
    "# Define the z-axis data, this is just a dummy example\n",
    "Z = abs(X**0.6 - Y*0.1) +20\n",
    "\n",
    "# Plot the contour plot\n",
    "plt.contourf(X, Y, Z, levels=10)\n",
    "plt.xlabel('Domestic Renewable Share (%)')\n",
    "plt.ylabel('Hydrogen Export Volume in TWh')\n",
    "plt.title('Synergy [abs(X**0.6 - Y*0.1) +20]')\n",
    "plt.colorbar().set_label('Hydrogen Export cost in €/MWh')\n",
    "\n",
    "# Save the plot\n",
    "plt.savefig(OUTPUT+'contour_plot_dummy.pdf', bbox_inches='tight')\n",
    "\n",
    "plt.show()\n"
   ]
  },
  {
   "attachments": {},
   "cell_type": "markdown",
   "metadata": {},
   "source": [
    "### Dummay Data: Subplots"
   ]
  },
  {
   "cell_type": "code",
   "execution_count": null,
   "metadata": {},
   "outputs": [],
   "source": [
    "import matplotlib.pyplot as plt\n",
    "import numpy as np\n",
    "\n",
    "# Define x and y axis data. Start from 1 to avoid devision by zero\n",
    "x = np.linspace(1, 100, num=100)\n",
    "y = np.linspace(1, 200, num=100)\n",
    "\n",
    "# Generate grid for x and y data\n",
    "X, Y = np.meshgrid(x, y)\n",
    "\n",
    "# Define the z-axis data, this is just a dummy example\n",
    "Z1 = X + Y \n",
    "Z2 = np.sqrt(X) * np.sqrt(Y) \n",
    "Z3 = abs(X - Y*0.5) +20\n",
    "Z4 = abs(X**0.6 - Y*0.1) +20\n",
    "\n",
    "# Plot the 4 subplots\n",
    "fig, axs = plt.subplots(2, 2, figsize=(10, 10))\n",
    "cax1 = axs[0, 0].contourf(X, Y, Z1, levels=10)\n",
    "axs[0, 0].set_title('Conflict simple [Z2 = X + Y]')\n",
    "cax2 = axs[0, 1].contourf(X, Y, Z2, levels=10)\n",
    "axs[0, 1].set_title('Conflict [np.sqrt(X) * np.sqrt(Y)]')\n",
    "cax3 = axs[1, 0].contourf(X, Y, Z3, levels=10)\n",
    "axs[1, 0].set_title('Synergy simple [abs(X - Y*0.5) +20]')\n",
    "cax4 = axs[1, 1].contourf(X, Y, Z4, levels=10)\n",
    "axs[1, 1].set_title('Synergy [abs(X**0.6 - Y*0.1) +20]')\n",
    "\n",
    "# Add colorbars\n",
    "fig.colorbar(cax1, ax=axs[0, 0]).set_label('Hydrogen Export cost in €/MWh')\n",
    "fig.colorbar(cax2, ax=axs[0, 1]).set_label('Hydrogen Export cost in €/MWh')\n",
    "fig.colorbar(cax3, ax=axs[1, 0]).set_label('Hydrogen Export cost in €/MWh')\n",
    "fig.colorbar(cax4, ax=axs[1, 1]).set_label('Hydrogen Export cost in €/MWh')\n",
    "\n",
    "for ax in axs.flat:\n",
    "    ax.set(xlabel='Domestic Renewable Share (%)', ylabel='Hydrogen Export Volume in TWh')\n",
    "\n",
    "plt.tight_layout()\n",
    "plt.savefig(OUTPUT+'contour_plot_dummy_subplots.pdf')\n",
    "plt.show()\n"
   ]
  }
 ],
 "metadata": {
  "kernelspec": {
   "display_name": "aldehyde",
   "language": "python",
   "name": "python3"
  },
  "language_info": {
   "codemirror_mode": {
    "name": "ipython",
    "version": 3
   },
   "file_extension": ".py",
   "mimetype": "text/x-python",
   "name": "python",
   "nbconvert_exporter": "python",
   "pygments_lexer": "ipython3",
   "version": "3.10.9"
  },
  "orig_nbformat": 4,
  "vscode": {
   "interpreter": {
    "hash": "0dbcc051df1c9f67b8349bc93a137f4374bedf8f92eebef4493438608fd687c9"
   }
  }
 },
 "nbformat": 4,
 "nbformat_minor": 2
}

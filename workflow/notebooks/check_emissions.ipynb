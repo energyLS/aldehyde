{
 "cells": [
  {
   "cell_type": "code",
   "execution_count": null,
   "metadata": {},
   "outputs": [],
   "source": [
    "import pandas as pd\n",
    "import numpy as np\n",
    "import matplotlib.pyplot as plt\n",
    "import pypsa\n",
    "import seaborn as sns"
   ]
  },
  {
   "cell_type": "code",
   "execution_count": null,
   "metadata": {},
   "outputs": [],
   "source": [
    "EXPORT = 0\n",
    "CO2L = 0.10 #\n",
    "CLUSTERS = 4\n",
    "H = 144\n",
    "LL = \"3.0\"\n",
    "DISCOUNT_RATE = 0.15\n",
    "\n",
    "RUN = \"newmain_144H_ws\" #\"dyntrans_full_3H_ws\"\n",
    "CATEGORY = \"postnetworks\"\n",
    "if CO2L == 2.0:\n",
    "    SCENARIO = f\"elec_s_{CLUSTERS}_ec_lc{LL}_Co2L{CO2L:.1f}_{H}H_2030_{DISCOUNT_RATE}_DF_{EXPORT}export\"\n",
    "else:\n",
    "    SCENARIO = f\"elec_s_{CLUSTERS}_ec_lc{LL}_Co2L{CO2L:.2f}_{H}H_2030_{DISCOUNT_RATE}_DF_{EXPORT}export\"\n",
    "\n",
    "#OVERRIDES = PATH + \"pypsa-eur-sec/data/override_component_attrs\"\n",
    "\n",
    "PREFIX = \"/mnt/c/Users/scl38887/Documents/git/aldehyde/\"\n",
    "OUTPUT = PREFIX + \"results\"\n",
    "INPUT = PREFIX + f\"workflow/subworkflows/pypsa-earth-sec/results/{RUN}/{CATEGORY}/{SCENARIO}.nc\"\n",
    "OUTPUT_SCENARIO = f\"{OUTPUT}/{RUN}/graphics/demand/{SCENARIO}\"\n",
    "OUTPUT_RAW = f\"{OUTPUT}/{RUN}/graphics/demand/\""
   ]
  },
  {
   "cell_type": "code",
   "execution_count": null,
   "metadata": {},
   "outputs": [],
   "source": [
    "n = pypsa.Network(INPUT)"
   ]
  },
  {
   "cell_type": "markdown",
   "metadata": {},
   "source": [
    "### Check balance of \"co2 atmosphere\""
   ]
  },
  {
   "cell_type": "code",
   "execution_count": null,
   "metadata": {},
   "outputs": [],
   "source": [
    "energy_balance = n.statistics.energy_balance(aggregate_bus=False, aggregate_time=False)"
   ]
  },
  {
   "cell_type": "code",
   "execution_count": null,
   "metadata": {},
   "outputs": [],
   "source": [
    "co2_balance = energy_balance.loc[:,:,:, \"co2 atmosphere\"].sum(axis=1) * n.snapshot_weightings.generators[0] / 1e6\n",
    "co2_balance = co2_balance.round(2)"
   ]
  },
  {
   "cell_type": "code",
   "execution_count": null,
   "metadata": {},
   "outputs": [],
   "source": [
    "co2_balance[co2_balance > 0.01] "
   ]
  },
  {
   "cell_type": "code",
   "execution_count": null,
   "metadata": {},
   "outputs": [],
   "source": [
    "co2_balance[co2_balance < -0.01] "
   ]
  },
  {
   "cell_type": "markdown",
   "metadata": {},
   "source": [
    "### Emissions of generators"
   ]
  },
  {
   "cell_type": "code",
   "execution_count": null,
   "metadata": {},
   "outputs": [],
   "source": [
    "emissions_generator = n.generators_t.p / n.generators.efficiency * n.generators.carrier.map(n.carriers.co2_emissions) # t/h\n",
    "total_em_generator = n.snapshot_weightings.generators @ emissions_generator.sum(axis=1).div(1e6) # MtCO2"
   ]
  },
  {
   "cell_type": "code",
   "execution_count": null,
   "metadata": {},
   "outputs": [],
   "source": [
    "total_em_generator"
   ]
  },
  {
   "cell_type": "markdown",
   "metadata": {},
   "source": [
    "### Total emissions"
   ]
  },
  {
   "cell_type": "code",
   "execution_count": null,
   "metadata": {},
   "outputs": [],
   "source": [
    "abs(co2_balance.loc[:,\"co2\",:][0])"
   ]
  },
  {
   "cell_type": "code",
   "execution_count": null,
   "metadata": {},
   "outputs": [],
   "source": [
    "(abs(total_em_generator) + abs(co2_balance.loc[:,\"co2\",:][0])).round(2) # MtCO2"
   ]
  },
  {
   "cell_type": "markdown",
   "metadata": {},
   "source": [
    "### Compare with Co2L"
   ]
  },
  {
   "cell_type": "code",
   "execution_count": null,
   "metadata": {},
   "outputs": [],
   "source": [
    "n.global_constraints.loc[\"CO2Limit\"].constant /1e6 # in Mt"
   ]
  },
  {
   "cell_type": "markdown",
   "metadata": {},
   "source": [
    "### Automized analysis across co2ls"
   ]
  },
  {
   "cell_type": "code",
   "execution_count": null,
   "metadata": {},
   "outputs": [],
   "source": [
    "def get_carbon_stats(limits):\n",
    "\n",
    "    carbon_stats = pd.DataFrame()\n",
    "\n",
    "\n",
    "    for co2l in limits:\n",
    "\n",
    "        if co2l == 2.0:\n",
    "            SCENARIO = f\"elec_s_{CLUSTERS}_ec_lc{LL}_Co2L{co2l:.1f}_{H}H_2030_{DISCOUNT_RATE}_DF_{EXPORT}export\"\n",
    "        else:\n",
    "            SCENARIO = f\"elec_s_{CLUSTERS}_ec_lc{LL}_Co2L{co2l:.2f}_{H}H_2030_{DISCOUNT_RATE}_DF_{EXPORT}export\"\n",
    "\n",
    "        INPUT = PREFIX + f\"workflow/subworkflows/pypsa-earth-sec/results/{RUN}/{CATEGORY}/{SCENARIO}.nc\"\n",
    "\n",
    "        n = pypsa.Network(INPUT)\n",
    "\n",
    "        # Calculate co2 emissions from links\n",
    "        energy_balance = n.statistics.energy_balance(aggregate_bus=False, aggregate_time=False)\n",
    "        co2_balance = energy_balance.loc[:,:,:, \"co2 atmosphere\"].sum(axis=1) * n.snapshot_weightings.generators[0] / 1e6\n",
    "        co2_link = abs(co2_balance.loc[:,\"co2\",:][0])\n",
    "\n",
    "        # Calculate co2 emissions from generators\n",
    "        emissions_generator = n.generators_t.p / n.generators.efficiency * n.generators.carrier.map(n.carriers.co2_emissions) # t/h\n",
    "        co2_generator = n.snapshot_weightings.generators @ emissions_generator.sum(axis=1).div(1e6) # MtCO2\n",
    "\n",
    "        # Get constraint\n",
    "        constraint = n.global_constraints.loc[\"CO2Limit\"].constant /1e6 # in Mt\n",
    "\n",
    "        carbon_stats.loc[co2l, \"co2_link\"] = co2_link.round(2)\n",
    "        carbon_stats.loc[co2l, \"co2_generator\"] = co2_generator.round(2)\n",
    "        carbon_stats.loc[co2l, \"co2_total\"] = co2_link.round(2) + co2_generator.round(2)\n",
    "        carbon_stats.loc[co2l, \"constraint\"] = constraint.round(2)\n",
    "\n",
    "    return carbon_stats"
   ]
  },
  {
   "cell_type": "code",
   "execution_count": null,
   "metadata": {},
   "outputs": [],
   "source": [
    "limits = [2.0, 0.90, 0.80, 0.70, 0.60, 0.50, 0.40, 0.30, 0.20, 0.10, 0.00]\n",
    "carbon_stats = get_carbon_stats(limits)"
   ]
  },
  {
   "cell_type": "code",
   "execution_count": null,
   "metadata": {},
   "outputs": [],
   "source": [
    "carbon_stats"
   ]
  },
  {
   "cell_type": "code",
   "execution_count": null,
   "metadata": {},
   "outputs": [],
   "source": [
    "# Plot the carbon stats\n",
    "import matplotlib.pyplot as plt\n",
    "\n",
    "fig, ax = plt.subplots(figsize=(8, 6))\n",
    "carbon_stats[[\"co2_link\", \"co2_generator\", \"co2_total\"]].iloc[:,:].plot(ax=ax)\n",
    "carbon_stats[\"constraint\"].iloc[:].plot(ax=ax, style=\"k--\", label=\"constraint\")\n",
    "ax.set_ylabel(\"Emissions in MtCO2\")\n",
    "ax.set_xlabel(\"CO2 limit in MtCO2\")\n",
    "ax.set_title(\"CO2 emissions in 2030\")\n",
    "ax.legend(loc=\"upper left\", bbox_to_anchor=(1, 1))\n",
    "ax.grid()\n",
    "ax.invert_xaxis()\n",
    "fig.tight_layout()"
   ]
  }
 ],
 "metadata": {
  "kernelspec": {
   "display_name": "Python 3",
   "language": "python",
   "name": "python3"
  },
  "language_info": {
   "codemirror_mode": {
    "name": "ipython",
    "version": 3
   },
   "file_extension": ".py",
   "mimetype": "text/x-python",
   "name": "python",
   "nbconvert_exporter": "python",
   "pygments_lexer": "ipython3",
   "version": "3.10.11"
  }
 },
 "nbformat": 4,
 "nbformat_minor": 2
}

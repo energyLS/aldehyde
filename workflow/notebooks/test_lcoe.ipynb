{
 "cells": [
  {
   "attachments": {},
   "cell_type": "markdown",
   "metadata": {},
   "source": [
    "Test the LCOE/WACC"
   ]
  },
  {
   "cell_type": "code",
   "execution_count": null,
   "metadata": {},
   "outputs": [],
   "source": [
    "import pypsa\n",
    "import pandas as pd"
   ]
  },
  {
   "cell_type": "code",
   "execution_count": null,
   "metadata": {},
   "outputs": [],
   "source": [
    "prefix = \"/mnt/c/Users/scl38887/Documents/git/aldehyde\""
   ]
  },
  {
   "attachments": {},
   "cell_type": "markdown",
   "metadata": {},
   "source": [
    "Import network"
   ]
  },
  {
   "cell_type": "code",
   "execution_count": null,
   "metadata": {},
   "outputs": [],
   "source": [
    "# Import from aldehyde\n",
    "# run = \"store_complete_6h_ws\"#\"highwacc_6h_ws\"\n",
    "# n = pypsa.Network(prefix + \"/resources/pypsaearthsec/\" + run + \"/postnetworks/elec_s_10_ec_lc1.0_Co2L1.0_6H_2030_0.071_DF_0export.nc\")\n"
   ]
  },
  {
   "cell_type": "code",
   "execution_count": null,
   "metadata": {},
   "outputs": [],
   "source": [
    "# Import from pypsa-earth-sec\n",
    "run = \"highwacc_hem_1marg_1cap_nosmr_2000h_ws\"\n",
    "n = pypsa.Network(prefix + \"/workflow/subworkflows/pypsa-earth-sec/results/\" + run + \"/postnetworks/elec_s_10_ec_lc1.0_Co2L0.10_2000H_2030_0.35_DF_0export.nc\")\n",
    "# n = pypsa.Network(prefix + \"/workflow/subworkflows/pypsa-earth-sec/results/store_complete_6h_ws/postnetworks/elec_s_10_ec_lc1.0_Co2L1.0_6H_2030_0.071_DF_0export.nc\")"
   ]
  },
  {
   "attachments": {},
   "cell_type": "markdown",
   "metadata": {},
   "source": [
    "Check characteristics of fossils"
   ]
  },
  {
   "cell_type": "code",
   "execution_count": null,
   "metadata": {},
   "outputs": [],
   "source": [
    "n.generators.carrier.unique()"
   ]
  },
  {
   "cell_type": "code",
   "execution_count": null,
   "metadata": {},
   "outputs": [],
   "source": [
    "n.generators.loc[n.generators.carrier == \"coal\"].p_nom_opt #.iloc[20, :]#, \"marginal_cost\"]"
   ]
  },
  {
   "cell_type": "code",
   "execution_count": null,
   "metadata": {},
   "outputs": [],
   "source": [
    "n.generators.loc[n.generators.carrier == \"coal\", \"marginal_cost\"]"
   ]
  },
  {
   "cell_type": "code",
   "execution_count": null,
   "metadata": {},
   "outputs": [],
   "source": [
    "n.generators.loc[n.generators.carrier == \"oil\", \"marginal_cost\"]"
   ]
  },
  {
   "cell_type": "code",
   "execution_count": null,
   "metadata": {},
   "outputs": [],
   "source": [
    "#n.generators.loc[n.generators.carrier == \"gas\"] #, \"marginal_cost\"] "
   ]
  },
  {
   "cell_type": "code",
   "execution_count": null,
   "metadata": {},
   "outputs": [],
   "source": [
    "n.generators.carrier.unique()"
   ]
  },
  {
   "attachments": {},
   "cell_type": "markdown",
   "metadata": {},
   "source": [
    "Check objective"
   ]
  },
  {
   "cell_type": "code",
   "execution_count": null,
   "metadata": {},
   "outputs": [],
   "source": [
    "n.objective/1e9 # billion euros"
   ]
  },
  {
   "attachments": {},
   "cell_type": "markdown",
   "metadata": {},
   "source": [
    "Check capital cost before `prepare_sector_network`"
   ]
  },
  {
   "cell_type": "code",
   "execution_count": null,
   "metadata": {},
   "outputs": [],
   "source": [
    "\n",
    "n.generators.capital_cost[:20] #highwacc: 96085 €/MW onwind and 35602 €/MW solar"
   ]
  },
  {
   "attachments": {},
   "cell_type": "markdown",
   "metadata": {},
   "source": [
    "Check CO2"
   ]
  },
  {
   "cell_type": "code",
   "execution_count": null,
   "metadata": {},
   "outputs": [],
   "source": [
    "(n.stores_t.p[\"co2 atmosphere\"]*n.snapshot_weightings.generators[0]).sum()/1e6"
   ]
  },
  {
   "attachments": {},
   "cell_type": "markdown",
   "metadata": {},
   "source": [
    "Check n.statistics()"
   ]
  },
  {
   "cell_type": "code",
   "execution_count": null,
   "metadata": {},
   "outputs": [],
   "source": [
    "n.statistics().loc[\"Generator\"].round(2)"
   ]
  },
  {
   "cell_type": "code",
   "execution_count": null,
   "metadata": {},
   "outputs": [],
   "source": [
    "# Get first index levels of multiindex\n",
    "n.statistics().index.get_level_values(0).unique()"
   ]
  },
  {
   "cell_type": "code",
   "execution_count": null,
   "metadata": {},
   "outputs": [],
   "source": [
    "n.statistics().loc[\"Link\"].round(2)"
   ]
  },
  {
   "attachments": {},
   "cell_type": "markdown",
   "metadata": {},
   "source": [
    "Check \"gas\""
   ]
  },
  {
   "cell_type": "code",
   "execution_count": null,
   "metadata": {},
   "outputs": [],
   "source": [
    "n.generators[n.generators.carrier==\"gas\"].iloc[0]"
   ]
  },
  {
   "attachments": {},
   "cell_type": "markdown",
   "metadata": {},
   "source": [
    "Check network contraint"
   ]
  },
  {
   "cell_type": "code",
   "execution_count": null,
   "metadata": {},
   "outputs": [],
   "source": [
    "n.global_constraints"
   ]
  },
  {
   "attachments": {},
   "cell_type": "markdown",
   "metadata": {},
   "source": [
    "Calculate LCOE"
   ]
  },
  {
   "cell_type": "code",
   "execution_count": null,
   "metadata": {},
   "outputs": [],
   "source": [
    "generator_name = 'MA.10.3_1_AC coal'#'MA.1.1_1_AC onwind'  # Replace with the name or index of your generator\n",
    "\n",
    "capital_cost = n.generators.loc[generator_name, 'capital_cost']\n",
    "marginal_cost = n.generators.loc[generator_name, 'marginal_cost']\n",
    "lifetime = 20"
   ]
  },
  {
   "cell_type": "code",
   "execution_count": null,
   "metadata": {},
   "outputs": [],
   "source": [
    "lcoe = (capital_cost / lifetime + marginal_cost) / n.generators_t.p[generator_name].sum()\n",
    "lcoe # Unit in €/MWh"
   ]
  },
  {
   "cell_type": "code",
   "execution_count": null,
   "metadata": {},
   "outputs": [],
   "source": [
    "n.generators_t.p[generator_name].sum()"
   ]
  },
  {
   "cell_type": "code",
   "execution_count": null,
   "metadata": {},
   "outputs": [],
   "source": [
    "n.global_constraints"
   ]
  },
  {
   "cell_type": "code",
   "execution_count": null,
   "metadata": {},
   "outputs": [],
   "source": [
    "def calculate_annuity(n, r):\n",
    "    \"\"\"\n",
    "    Calculate the annuity factor for an asset with lifetime n years and\n",
    "    discount rate of r, e.g. annuity(20, 0.05) * 20 = 1.6\n",
    "    \"\"\"\n",
    "    if isinstance(r, pd.Series):\n",
    "        return pd.Series(1 / n, index=r.index).where(\n",
    "            r == 0, r / (1.0 - 1.0 / (1.0 + r) ** n)\n",
    "        )\n",
    "    elif r > 0:\n",
    "        return r / (1.0 - 1.0 / (1.0 + r) ** n)\n",
    "    else:\n",
    "        return 1 / n"
   ]
  },
  {
   "cell_type": "code",
   "execution_count": null,
   "metadata": {},
   "outputs": [],
   "source": [
    "calculate_annuity(20, 0.05)"
   ]
  },
  {
   "cell_type": "code",
   "execution_count": null,
   "metadata": {},
   "outputs": [],
   "source": [
    "costs[\"capital_cost\"] = (\n",
    "    (\n",
    "        calculate_annuity(costs[\"lifetime\"], costs[\"discount rate\"])\n",
    "        + costs[\"FOM\"] / 100.0\n",
    "    )\n",
    "    * costs[\"investment\"]\n",
    "    * Nyears\n",
    ")"
   ]
  },
  {
   "attachments": {},
   "cell_type": "markdown",
   "metadata": {},
   "source": [
    "Plot network"
   ]
  },
  {
   "cell_type": "code",
   "execution_count": null,
   "metadata": {},
   "outputs": [],
   "source": [
    "import pypsa, os\n",
    "import cartopy.crs as ccrs\n",
    "import matplotlib.pyplot as plt\n",
    "import pandas as pd\n",
    "\n",
    "import warnings\n",
    "from shapely.errors import ShapelyDeprecationWarning\n",
    "\n",
    "warnings.filterwarnings(\"ignore\", category=ShapelyDeprecationWarning)\n",
    "plt.rc(\"figure\", figsize=(10, 8))"
   ]
  }
 ],
 "metadata": {
  "kernelspec": {
   "display_name": "Python 3",
   "language": "python",
   "name": "python3"
  },
  "language_info": {
   "codemirror_mode": {
    "name": "ipython",
    "version": 3
   },
   "file_extension": ".py",
   "mimetype": "text/x-python",
   "name": "python",
   "nbconvert_exporter": "python",
   "pygments_lexer": "ipython3",
   "version": "3.10.11"
  },
  "orig_nbformat": 4
 },
 "nbformat": 4,
 "nbformat_minor": 2
}

{
 "cells": [
  {
   "cell_type": "markdown",
   "metadata": {},
   "source": [
    "### Credits to Neumann et al. (2023) http://dx.doi.org/10.2139/ssrn.4173442"
   ]
  },
  {
   "cell_type": "code",
   "execution_count": null,
   "metadata": {},
   "outputs": [],
   "source": [
    "import pandas as pd\n",
    "import numpy as np\n",
    "import matplotlib.pyplot as plt\n",
    "import pypsa\n",
    "import seaborn as sns"
   ]
  },
  {
   "cell_type": "code",
   "execution_count": null,
   "metadata": {},
   "outputs": [],
   "source": [
    "EXPORT = 0\n",
    "CO2L = 0.00\n",
    "CLUSTERS = 4\n",
    "H = 3\n",
    "LL = \"3.0\"\n",
    "DISCOUNT_RATE = 0.13\n",
    "\n",
    "RUN = \"newmain_full_3h_ws\"#\"decr_3_144H_ws\" #\"newmain_full_3h_ws\" #\n",
    "CATEGORY = \"postnetworks\"\n",
    "SCENARIO = f\"elec_s_{CLUSTERS}_ec_lc{LL}_Co2L{CO2L}0_{H}H_2030_{DISCOUNT_RATE}_DF_{EXPORT}export\"\n",
    "\n",
    "#OVERRIDES = PATH + \"pypsa-eur-sec/data/override_component_attrs\"\n",
    "\n",
    "PREFIX = \"/mnt/c/Users/scl38887/Documents/git/aldehyde/\"\n",
    "OUTPUT = PREFIX + \"results\"\n",
    "INPUT = PREFIX + f\"workflow/subworkflows/pypsa-earth-sec/results/{RUN}/{CATEGORY}/{SCENARIO}.nc\"\n",
    "OUTPUT_SCENARIO = f\"{OUTPUT}/{RUN}/graphics/heatmaps/{SCENARIO}\"\n",
    "OUTPUT_RAW = f\"{OUTPUT}/{RUN}/graphics/heatmaps/\""
   ]
  },
  {
   "cell_type": "code",
   "execution_count": null,
   "metadata": {},
   "outputs": [],
   "source": [
    "n = pypsa.Network(INPUT)"
   ]
  },
  {
   "cell_type": "markdown",
   "metadata": {},
   "source": [
    "### Costs"
   ]
  },
  {
   "cell_type": "code",
   "execution_count": null,
   "metadata": {},
   "outputs": [],
   "source": [
    "n.stores[(n.stores.carrier==\"H2\") & (n.stores.bus != \"H2 export bus\")].e_nom_opt.sum() /1e3"
   ]
  },
  {
   "cell_type": "code",
   "execution_count": null,
   "metadata": {},
   "outputs": [],
   "source": [
    "n.stores[n.stores.carrier==\"H2\"].iloc[0,:]"
   ]
  },
  {
   "cell_type": "code",
   "execution_count": null,
   "metadata": {},
   "outputs": [],
   "source": [
    "n.stores[n.stores.carrier==\"H2\"].e_nom_opt #iloc[0,:]"
   ]
  },
  {
   "cell_type": "code",
   "execution_count": null,
   "metadata": {},
   "outputs": [],
   "source": [
    "n.stores[n.stores.carrier==\"H2\"].e_nom_opt.sum()"
   ]
  },
  {
   "cell_type": "code",
   "execution_count": null,
   "metadata": {},
   "outputs": [],
   "source": [
    "n.stores[n.stores.carrier==\"H2\"].e_nom_opt.sum()"
   ]
  },
  {
   "cell_type": "markdown",
   "metadata": {},
   "source": [
    "### Time series"
   ]
  },
  {
   "cell_type": "code",
   "execution_count": null,
   "metadata": {},
   "outputs": [],
   "source": [
    "n.stores_t.e.filter(like=\"Li ion\", axis=1).sum(axis=1) "
   ]
  },
  {
   "cell_type": "code",
   "execution_count": null,
   "metadata": {},
   "outputs": [],
   "source": [
    "# Get Li ion stores\n",
    "\n",
    "n.stores[n.stores.carrier == \"Li ion\"].e_nom_opt.sum()\n",
    "n.stores[n.stores.carrier == \"battery\"].e_nom_opt.sum()"
   ]
  },
  {
   "cell_type": "code",
   "execution_count": null,
   "metadata": {},
   "outputs": [],
   "source": [
    "fig, axs = plt.subplots(6, 1, figsize=(10, 12))\n",
    "\n",
    "ax = axs[0]\n",
    "n.stores_t.e.filter(like=\"H2 Store\", axis=1).sum(axis=1).div(1e6).plot(\n",
    "    ax=ax,\n",
    "    ylabel=\"SOC [TWh]\",\n",
    "    xlabel=\"\",\n",
    "    #color=tech_colors[\"hydrogen storage\"],\n",
    "    ylim=(0, 0.4),\n",
    ")\n",
    "ax.set_title(\"Hydrogen Storage (full year)\", fontsize=11)\n",
    "\n",
    "ax = axs[2]\n",
    "n.stores_t.e.filter(like=\"water tank\", axis=1).sum(axis=1).div(1e6).plot(\n",
    "    ax=ax,\n",
    "    ylabel=\"SOC [TWh]\",\n",
    "    xlabel=\"\",\n",
    "    #color=tech_colors[\"hot water storage\"],\n",
    "    #ylim=(0, 65),\n",
    ")\n",
    "ax.set_title(\"Hot Water Storage (full year)\", fontsize=11)\n",
    "\n",
    "ax = axs[1]\n",
    "n.stores_t.e.filter(like=\"H2 Store\", axis=1).sum(axis=1).loc[\"2013-07\":\"2013-08\"].div(\n",
    "    1e6\n",
    ").plot(ax=ax, ylabel=\"SOC [TWh]\", xlabel=\"\", #color=tech_colors[\"hydrogen storage\"]\n",
    "       )\n",
    "ax.set_title(\"Hydrogen Storage (July/August)\", fontsize=11)\n",
    "\n",
    "ax = axs[3]\n",
    "n.stores_t.e.filter(like=\"water tank\", axis=1).sum(axis=1).loc[\"2013-07\":\"2013-08\"].div(\n",
    "    1e6\n",
    ").plot(ax=ax, ylabel=\"SOC [TWh]\", xlabel=\"\", #color=tech_colors[\"hot water storage\"]\n",
    "       )\n",
    "ax.set_title(\"Hot Water Storage (July/August)\", fontsize=11)\n",
    "\n",
    "ax = axs[4]\n",
    "n.stores_t.e.filter(like=\"battery\", axis=1).sum(axis=1).loc[\"2013-07\":\"2013-08\"].div(\n",
    "    1e6\n",
    ").plot(ax=ax, ylabel=\"SOC [TWh]\", xlabel=\"\", #color=tech_colors[\"battery\"],\n",
    "        ylim=(0, 0.05)\n",
    "        )\n",
    "ax.set_title(\"Battery Storage (July/August)\", fontsize=11)\n",
    "\n",
    "ax = axs[5]\n",
    "n.stores_t.e.filter(like=\"Li ion\", axis=1).sum(axis=1).loc[\"2013-07\":\"2013-08\"].div(\n",
    "    1e6\n",
    ").plot(ax=ax, ylabel=\"SOC [TWh]\", xlabel=\"\", #color=tech_colors[\"battery\"],\n",
    "        #ylim=(0, 0.05)\n",
    "        )\n",
    "ax.set_title(\"EV Li ion (July/August)\", fontsize=11)\n",
    "\n",
    "plt.tight_layout()\n",
    "\n",
    "#plt.savefig(f\"{OUTPUT_SCENARIO}/soc.pdf\", bbox_inches=\"tight\")"
   ]
  }
 ],
 "metadata": {
  "kernelspec": {
   "display_name": "Python 3",
   "language": "python",
   "name": "python3"
  },
  "language_info": {
   "codemirror_mode": {
    "name": "ipython",
    "version": 3
   },
   "file_extension": ".py",
   "mimetype": "text/x-python",
   "name": "python",
   "nbconvert_exporter": "python",
   "pygments_lexer": "ipython3",
   "version": "3.10.11"
  },
  "orig_nbformat": 4
 },
 "nbformat": 4,
 "nbformat_minor": 2
}

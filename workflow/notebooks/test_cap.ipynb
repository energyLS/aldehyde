{
 "cells": [
  {
   "attachments": {},
   "cell_type": "markdown",
   "metadata": {},
   "source": [
    "## Test capacities of network"
   ]
  },
  {
   "cell_type": "code",
   "execution_count": null,
   "metadata": {},
   "outputs": [],
   "source": [
    "\n",
    "prefix = \"/mnt/c/Users/scl38887/Documents/git/aldehyde\"\n",
    "\n",
    "\n",
    "# Import from pypsa-earth-sec\n",
    "run = \"newres_300h_ws\" #\"wacc15_hem_1marg_1cap_nosmr_0exp_3h_ws\"\n",
    "Co2Ls = [\"Co2L2.0\"]\n",
    "\n",
    "n = pypsa.Network(prefix + \"/workflow/subworkflows/pypsa-earth-sec/results/\" + run + \"/postnetworks/elec_s_10_ec_lc1.0_\"+Co2L+\"_300H_2030_0.15_DF_0export.nc\")"
   ]
  },
  {
   "cell_type": "code",
   "execution_count": null,
   "metadata": {
    "vscode": {
     "languageId": "plaintext"
    }
   },
   "outputs": [],
   "source": []
  }
 ],
 "metadata": {
  "language_info": {
   "name": "python"
  },
  "orig_nbformat": 4
 },
 "nbformat": 4,
 "nbformat_minor": 2
}

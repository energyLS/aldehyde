{
 "cells": [
  {
   "cell_type": "code",
   "execution_count": null,
   "metadata": {},
   "outputs": [],
   "source": [
    "import pandas as pd\n",
    "import math\n",
    "import numpy as np\n",
    "import matplotlib.pyplot as plt"
   ]
  },
  {
   "cell_type": "code",
   "execution_count": null,
   "metadata": {},
   "outputs": [],
   "source": [
    "PATH = '/mnt/c/Users/scl38887/Documents/git/aldehyde/'"
   ]
  },
  {
   "cell_type": "code",
   "execution_count": null,
   "metadata": {},
   "outputs": [],
   "source": [
    "# Sources:\n",
    "#https://www.statista.com/outlook/mmo/electric-vehicles/morocco#unit-sales\n",
    "# https://www.policycenter.ma/sites/default/files/2022-11/PB-26-21-Enel-Green-Power-EGP-EN-PART%20IV_0.pdf"
   ]
  },
  {
   "cell_type": "code",
   "execution_count": null,
   "metadata": {},
   "outputs": [],
   "source": [
    "# Create ramp up function of the share of electric vehicles in Morocco, starting from 1% in 2020 and reaching 92% in 2050\n",
    "\n",
    "# Create a dataframe with the years and the share of electric vehicles\n",
    "years = list(range(2020, 2051))\n",
    "\n",
    "# Set the growth rate and the inflection point\n",
    "k = 0.2 # growth rate\n",
    "x0 = 2040 # inflection point\n",
    "\n",
    "# Define function based on the mathematical description of the s-curve\n",
    "def s_curve(x):\n",
    "    return 1 / (1 + math.exp(-k*(x-x0)))\n",
    "\n",
    "# Get share of electric vehicles from 2020 to 2050 based on the s-curve\n",
    "share_ev = []\n",
    "for year in years:\n",
    "    share_ev.append(s_curve(year))\n",
    "\n",
    "# Create dataframe with years and share of electric vehicles\n",
    "df_ev = pd.DataFrame(data={'Share of EV': share_ev}, index=years)"
   ]
  },
  {
   "cell_type": "code",
   "execution_count": null,
   "metadata": {},
   "outputs": [],
   "source": [
    "# Create dataframe with the co2 cap from 1.0 in 2020 and 0.0 in 2050 linearly decreasing\n",
    "co2_cap = []\n",
    "\n",
    "def calculate_co2(year):\n",
    "    return 1 - (year - 2020) * (1/30)\n",
    "\n",
    "for year in years:\n",
    "    co2_cap.append(calculate_co2(year))\n",
    "\n",
    "# Create dataframe with years and co2 cap\n",
    "df_co2_cap = pd.DataFrame(data={'CO2 cap': co2_cap}, index=years)"
   ]
  },
  {
   "cell_type": "code",
   "execution_count": null,
   "metadata": {},
   "outputs": [],
   "source": [
    "# Combine share of EV and co2 cap\n",
    "df_ev_co2_cap = pd.concat([df_ev, df_co2_cap], axis=1)"
   ]
  },
  {
   "cell_type": "code",
   "execution_count": null,
   "metadata": {},
   "outputs": [],
   "source": [
    "# Required for the plot\n",
    "def calculate_co2reduction(year):\n",
    "    return 100 * ((year - 2020) * (1/30))\n",
    "\n",
    "def inverse_co2reduction(x):\n",
    "    return (3/10) * x + 2020"
   ]
  },
  {
   "cell_type": "code",
   "execution_count": null,
   "metadata": {},
   "outputs": [],
   "source": [
    "fig, ax = plt.subplots()\n",
    "ax.plot(df_ev*100, color='green', label='Share of EV')\n",
    "ax.set_xlabel('Year')\n",
    "ax.set_ylabel('Share of EV in %')\n",
    "ax.grid(True)\n",
    "ax.set_ylim([0, 100])\n",
    "ax.set_xlim([2020, 2050])\n",
    "\n",
    "# Create a second y-axis\n",
    "secax = ax.secondary_xaxis('top', functions=(calculate_co2reduction, inverse_co2reduction))\n",
    "secax.set_xlabel('Domestic mitigation in %')\n",
    "# save the plot \n",
    "plt.savefig(PATH+'results/graphics_general/policy/bev_share.pdf', bbox_inches='tight')\n",
    "\n",
    "plt.show()"
   ]
  },
  {
   "cell_type": "code",
   "execution_count": null,
   "metadata": {},
   "outputs": [],
   "source": [
    "df_ev[\"Share of EV\"] = df_ev[\"Share of EV\"].apply(lambda x: round(x, 2))"
   ]
  },
  {
   "cell_type": "code",
   "execution_count": null,
   "metadata": {},
   "outputs": [],
   "source": [
    "df_ev_co2_cap.head()"
   ]
  },
  {
   "cell_type": "code",
   "execution_count": null,
   "metadata": {},
   "outputs": [],
   "source": [
    "co2_cap_list = list(np.arange(1.0, -0.1, -0.1).round(2))\n",
    "ev_filtered = df_ev_co2_cap[df_ev_co2_cap[\"CO2 cap\"].round(2).isin(co2_cap_list)]"
   ]
  },
  {
   "cell_type": "code",
   "execution_count": null,
   "metadata": {},
   "outputs": [],
   "source": [
    "# Switch columns\n",
    "ev_filtered = ev_filtered[['CO2 cap', 'Share of EV']]"
   ]
  },
  {
   "cell_type": "code",
   "execution_count": null,
   "metadata": {},
   "outputs": [],
   "source": [
    "ev_filtered.round(2)"
   ]
  }
 ],
 "metadata": {
  "kernelspec": {
   "display_name": "aldehyde",
   "language": "python",
   "name": "python3"
  },
  "language_info": {
   "codemirror_mode": {
    "name": "ipython",
    "version": 3
   },
   "file_extension": ".py",
   "mimetype": "text/x-python",
   "name": "python",
   "nbconvert_exporter": "python",
   "pygments_lexer": "ipython3",
   "version": "3.10.12"
  }
 },
 "nbformat": 4,
 "nbformat_minor": 2
}

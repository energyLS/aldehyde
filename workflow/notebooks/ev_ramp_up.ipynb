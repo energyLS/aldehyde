{
 "cells": [
  {
   "cell_type": "code",
   "execution_count": 1,
   "metadata": {},
   "outputs": [],
   "source": [
    "import pandas as pd\n",
    "import math\n",
    "import numpy as np\n",
    "import matplotlib.pyplot as plt"
   ]
  },
  {
   "cell_type": "code",
   "execution_count": 19,
   "metadata": {},
   "outputs": [],
   "source": [
    "PATH = '/mnt/c/Users/scl38887/Documents/git/aldehyde/'"
   ]
  },
  {
   "cell_type": "code",
   "execution_count": 2,
   "metadata": {},
   "outputs": [],
   "source": [
    "# Sources:\n",
    "#https://www.statista.com/outlook/mmo/electric-vehicles/morocco#unit-sales\n",
    "# https://www.policycenter.ma/sites/default/files/2022-11/PB-26-21-Enel-Green-Power-EGP-EN-PART%20IV_0.pdf"
   ]
  },
  {
   "cell_type": "code",
   "execution_count": 3,
   "metadata": {},
   "outputs": [],
   "source": [
    "# Create ramp up function of the share of electric vehicles in Morocco, starting from 1% in 2020 and reaching 92% in 2050\n",
    "\n",
    "# Create a dataframe with the years and the share of electric vehicles\n",
    "years = list(range(2020, 2051))\n",
    "\n",
    "# Set the growth rate and the inflection point\n",
    "k = 0.2 # growth rate\n",
    "x0 = 2040 # inflection point\n",
    "\n",
    "# Define function based on the mathematical description of the s-curve\n",
    "def s_curve(x):\n",
    "    return 1 / (1 + math.exp(-k*(x-x0)))\n",
    "\n",
    "# Get share of electric vehicles from 2020 to 2050 based on the s-curve\n",
    "share_ev = []\n",
    "for year in years:\n",
    "    share_ev.append(s_curve(year))\n",
    "\n",
    "# Create dataframe with years and share of electric vehicles\n",
    "df_ev = pd.DataFrame(data={'Share of EV': share_ev}, index=years)"
   ]
  },
  {
   "cell_type": "code",
   "execution_count": 5,
   "metadata": {},
   "outputs": [],
   "source": [
    "# Create dataframe with the co2 cap from 1.0 in 2020 and 0.0 in 2050 linearly decreasing\n",
    "co2_cap = []\n",
    "\n",
    "def calculate_co2(year):\n",
    "    return 1 - (year - 2020) * (1/30)\n",
    "\n",
    "for year in years:\n",
    "    co2_cap.append(calculate_co2(year))\n",
    "\n",
    "# Create dataframe with years and co2 cap\n",
    "df_co2_cap = pd.DataFrame(data={'CO2 cap': co2_cap}, index=years)"
   ]
  },
  {
   "cell_type": "code",
   "execution_count": 6,
   "metadata": {},
   "outputs": [],
   "source": [
    "# Combine share of EV and co2 cap\n",
    "df_ev_co2_cap = pd.concat([df_ev, df_co2_cap], axis=1)"
   ]
  },
  {
   "cell_type": "code",
   "execution_count": 7,
   "metadata": {},
   "outputs": [],
   "source": [
    "# Required for the plot\n",
    "def calculate_co2reduction(year):\n",
    "    return 100 * ((year - 2020) * (1/30))\n",
    "\n",
    "def inverse_co2reduction(x):\n",
    "    return (3/10) * x + 2020"
   ]
  },
  {
   "cell_type": "code",
   "execution_count": 20,
   "metadata": {},
   "outputs": [
    {
     "data": {
      "image/png": "[encoded data removed]",
      "text/plain": [
       "<Figure size 640x480 with 1 Axes>"
      ]
     },
     "metadata": {},
     "output_type": "display_data"
    }
   ],
   "source": [
    "fig, ax = plt.subplots()\n",
    "ax.plot(df_ev*100, color='green', label='Share of EV')\n",
    "ax.set_xlabel('Year')\n",
    "ax.set_ylabel('Share of EV in %')\n",
    "ax.grid(True)\n",
    "ax.set_ylim([0, 100])\n",
    "ax.set_xlim([2020, 2050])\n",
    "\n",
    "# Create a second y-axis\n",
    "secax = ax.secondary_xaxis('top', functions=(calculate_co2reduction, inverse_co2reduction))\n",
    "secax.set_xlabel('CO2 reduction in %')\n",
    "\n",
    "# save the plot \n",
    "plt.savefig(PATH+'results/graphics_general/policy/bev_share.pdf', bbox_inches='tight')\n",
    "\n",
    "plt.show()"
   ]
  },
  {
   "cell_type": "code",
   "execution_count": 9,
   "metadata": {},
   "outputs": [],
   "source": [
    "df_ev[\"Share of EV\"] = df_ev[\"Share of EV\"].apply(lambda x: round(x, 2))"
   ]
  },
  {
   "cell_type": "code",
   "execution_count": 10,
   "metadata": {},
   "outputs": [
    {
     "data": {
      "text/html": [
       "<div>\n",
       "<style scoped>\n",
       "    .dataframe tbody tr th:only-of-type {\n",
       "        vertical-align: middle;\n",
       "    }\n",
       "\n",
       "    .dataframe tbody tr th {\n",
       "        vertical-align: top;\n",
       "    }\n",
       "\n",
       "    .dataframe thead th {\n",
       "        text-align: right;\n",
       "    }\n",
       "</style>\n",
       "<table border=\"1\" class=\"dataframe\">\n",
       "  <thead>\n",
       "    <tr style=\"text-align: right;\">\n",
       "      <th></th>\n",
       "      <th>Share of EV</th>\n",
       "      <th>CO2 cap</th>\n",
       "    </tr>\n",
       "  </thead>\n",
       "  <tbody>\n",
       "    <tr>\n",
       "      <th>2020</th>\n",
       "      <td>0.017986</td>\n",
       "      <td>1.000000</td>\n",
       "    </tr>\n",
       "    <tr>\n",
       "      <th>2021</th>\n",
       "      <td>0.021881</td>\n",
       "      <td>0.966667</td>\n",
       "    </tr>\n",
       "    <tr>\n",
       "      <th>2022</th>\n",
       "      <td>0.026597</td>\n",
       "      <td>0.933333</td>\n",
       "    </tr>\n",
       "    <tr>\n",
       "      <th>2023</th>\n",
       "      <td>0.032295</td>\n",
       "      <td>0.900000</td>\n",
       "    </tr>\n",
       "    <tr>\n",
       "      <th>2024</th>\n",
       "      <td>0.039166</td>\n",
       "      <td>0.866667</td>\n",
       "    </tr>\n",
       "  </tbody>\n",
       "</table>\n",
       "</div>"
      ],
      "text/plain": [
       "      Share of EV   CO2 cap\n",
       "2020     0.017986  1.000000\n",
       "2021     0.021881  0.966667\n",
       "2022     0.026597  0.933333\n",
       "2023     0.032295  0.900000\n",
       "2024     0.039166  0.866667"
      ]
     },
     "execution_count": 10,
     "metadata": {},
     "output_type": "execute_result"
    }
   ],
   "source": [
    "df_ev_co2_cap.head()"
   ]
  },
  {
   "cell_type": "code",
   "execution_count": 11,
   "metadata": {},
   "outputs": [],
   "source": [
    "co2_cap_list = list(np.arange(1.0, -0.1, -0.1).round(2))\n",
    "ev_filtered = df_ev_co2_cap[df_ev_co2_cap[\"CO2 cap\"].round(2).isin(co2_cap_list)]"
   ]
  },
  {
   "cell_type": "code",
   "execution_count": 12,
   "metadata": {},
   "outputs": [],
   "source": [
    "# Switch columns\n",
    "ev_filtered = ev_filtered[['CO2 cap', 'Share of EV']]"
   ]
  },
  {
   "cell_type": "code",
   "execution_count": 13,
   "metadata": {},
   "outputs": [
    {
     "data": {
      "text/html": [
       "<div>\n",
       "<style scoped>\n",
       "    .dataframe tbody tr th:only-of-type {\n",
       "        vertical-align: middle;\n",
       "    }\n",
       "\n",
       "    .dataframe tbody tr th {\n",
       "        vertical-align: top;\n",
       "    }\n",
       "\n",
       "    .dataframe thead th {\n",
       "        text-align: right;\n",
       "    }\n",
       "</style>\n",
       "<table border=\"1\" class=\"dataframe\">\n",
       "  <thead>\n",
       "    <tr style=\"text-align: right;\">\n",
       "      <th></th>\n",
       "      <th>CO2 cap</th>\n",
       "      <th>Share of EV</th>\n",
       "    </tr>\n",
       "  </thead>\n",
       "  <tbody>\n",
       "    <tr>\n",
       "      <th>2020</th>\n",
       "      <td>1.0</td>\n",
       "      <td>0.02</td>\n",
       "    </tr>\n",
       "    <tr>\n",
       "      <th>2023</th>\n",
       "      <td>0.9</td>\n",
       "      <td>0.03</td>\n",
       "    </tr>\n",
       "    <tr>\n",
       "      <th>2026</th>\n",
       "      <td>0.8</td>\n",
       "      <td>0.06</td>\n",
       "    </tr>\n",
       "    <tr>\n",
       "      <th>2029</th>\n",
       "      <td>0.7</td>\n",
       "      <td>0.10</td>\n",
       "    </tr>\n",
       "    <tr>\n",
       "      <th>2032</th>\n",
       "      <td>0.6</td>\n",
       "      <td>0.17</td>\n",
       "    </tr>\n",
       "    <tr>\n",
       "      <th>2035</th>\n",
       "      <td>0.5</td>\n",
       "      <td>0.27</td>\n",
       "    </tr>\n",
       "    <tr>\n",
       "      <th>2038</th>\n",
       "      <td>0.4</td>\n",
       "      <td>0.40</td>\n",
       "    </tr>\n",
       "    <tr>\n",
       "      <th>2041</th>\n",
       "      <td>0.3</td>\n",
       "      <td>0.55</td>\n",
       "    </tr>\n",
       "    <tr>\n",
       "      <th>2044</th>\n",
       "      <td>0.2</td>\n",
       "      <td>0.69</td>\n",
       "    </tr>\n",
       "    <tr>\n",
       "      <th>2047</th>\n",
       "      <td>0.1</td>\n",
       "      <td>0.80</td>\n",
       "    </tr>\n",
       "    <tr>\n",
       "      <th>2050</th>\n",
       "      <td>0.0</td>\n",
       "      <td>0.88</td>\n",
       "    </tr>\n",
       "  </tbody>\n",
       "</table>\n",
       "</div>"
      ],
      "text/plain": [
       "      CO2 cap  Share of EV\n",
       "2020      1.0         0.02\n",
       "2023      0.9         0.03\n",
       "2026      0.8         0.06\n",
       "2029      0.7         0.10\n",
       "2032      0.6         0.17\n",
       "2035      0.5         0.27\n",
       "2038      0.4         0.40\n",
       "2041      0.3         0.55\n",
       "2044      0.2         0.69\n",
       "2047      0.1         0.80\n",
       "2050      0.0         0.88"
      ]
     },
     "execution_count": 13,
     "metadata": {},
     "output_type": "execute_result"
    }
   ],
   "source": [
    "ev_filtered.round(2)"
   ]
  }
 ],
 "metadata": {
  "kernelspec": {
   "display_name": "aldehyde",
   "language": "python",
   "name": "python3"
  },
  "language_info": {
   "codemirror_mode": {
    "name": "ipython",
    "version": 3
   },
   "file_extension": ".py",
   "mimetype": "text/x-python",
   "name": "python",
   "nbconvert_exporter": "python",
   "pygments_lexer": "ipython3",
   "version": "3.10.12"
  }
 },
 "nbformat": 4,
 "nbformat_minor": 2
}

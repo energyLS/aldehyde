{
 "cells": [
  {
   "cell_type": "code",
   "execution_count": 30,
   "metadata": {},
   "outputs": [],
   "source": [
    "import pypsa"
   ]
  },
  {
   "cell_type": "code",
   "execution_count": 31,
   "metadata": {},
   "outputs": [
    {
     "name": "stderr",
     "output_type": "stream",
     "text": [
      "INFO:pypsa.io:Imported network elec_s_4_ec_lc3.0_Co2L0.80_2000H_2040_0.15_DF_0export.nc has buses, carriers, generators, global_constraints, lines, links, loads, storage_units, stores\n"
     ]
    }
   ],
   "source": [
    "path = \"../subworkflows/pypsa-earth-sec/results/gadm1_2000H_linexp_ws/postnetworks/elec_s_4_ec_lc3.0_Co2L0.80_2000H_2040_0.15_DF_0export.nc\"\n",
    "n = pypsa.Network(path)"
   ]
  },
  {
   "cell_type": "code",
   "execution_count": 39,
   "metadata": {},
   "outputs": [
    {
     "name": "stderr",
     "output_type": "stream",
     "text": [
      "INFO:pypsa.io:Imported network elec_s_4_ec_lc1.0_Co2L0.80_2000H_2040_0.15_DF_100export.nc has buses, carriers, generators, global_constraints, lines, links, loads, storage_units, stores\n"
     ]
    },
    {
     "data": {
      "text/html": [
       "<div>\n",
       "<style scoped>\n",
       "    .dataframe tbody tr th:only-of-type {\n",
       "        vertical-align: middle;\n",
       "    }\n",
       "\n",
       "    .dataframe tbody tr th {\n",
       "        vertical-align: top;\n",
       "    }\n",
       "\n",
       "    .dataframe thead th {\n",
       "        text-align: right;\n",
       "    }\n",
       "</style>\n",
       "<table border=\"1\" class=\"dataframe\">\n",
       "  <thead>\n",
       "    <tr style=\"text-align: right;\">\n",
       "      <th></th>\n",
       "      <th>Capacity Factor</th>\n",
       "      <th>Capital Expenditure</th>\n",
       "      <th>Curtailment</th>\n",
       "      <th>Dispatch</th>\n",
       "      <th>Installed Capacity</th>\n",
       "      <th>Market Value</th>\n",
       "      <th>Operational Expenditure</th>\n",
       "      <th>Optimal Capacity</th>\n",
       "      <th>Revenue</th>\n",
       "      <th>Supply</th>\n",
       "      <th>Withdrawal</th>\n",
       "    </tr>\n",
       "    <tr>\n",
       "      <th>carrier</th>\n",
       "      <th></th>\n",
       "      <th></th>\n",
       "      <th></th>\n",
       "      <th></th>\n",
       "      <th></th>\n",
       "      <th></th>\n",
       "      <th></th>\n",
       "      <th></th>\n",
       "      <th></th>\n",
       "      <th></th>\n",
       "      <th></th>\n",
       "    </tr>\n",
       "  </thead>\n",
       "  <tbody>\n",
       "    <tr>\n",
       "      <th>AC</th>\n",
       "      <td>0.16945</td>\n",
       "      <td>9.386577e+08</td>\n",
       "      <td>NaN</td>\n",
       "      <td>-2.006844e+07</td>\n",
       "      <td>75610.253133</td>\n",
       "      <td>-1.514605</td>\n",
       "      <td>NaN</td>\n",
       "      <td>75610.253133</td>\n",
       "      <td>3.039576e+07</td>\n",
       "      <td>1.122342e+08</td>\n",
       "      <td>-1.122342e+08</td>\n",
       "    </tr>\n",
       "  </tbody>\n",
       "</table>\n",
       "</div>"
      ],
      "text/plain": [
       "         Capacity Factor  Capital Expenditure  Curtailment      Dispatch  \\\n",
       "carrier                                                                    \n",
       "AC               0.16945         9.386577e+08          NaN -2.006844e+07   \n",
       "\n",
       "         Installed Capacity  Market Value  Operational Expenditure  \\\n",
       "carrier                                                              \n",
       "AC             75610.253133     -1.514605                      NaN   \n",
       "\n",
       "         Optimal Capacity       Revenue        Supply    Withdrawal  \n",
       "carrier                                                              \n",
       "AC           75610.253133  3.039576e+07  1.122342e+08 -1.122342e+08  "
      ]
     },
     "execution_count": 39,
     "metadata": {},
     "output_type": "execute_result"
    }
   ],
   "source": [
    "path = \"../subworkflows/pypsa-earth-sec/results/gadm1_2000H_linexp_ws/postnetworks/elec_s_4_ec_lc1.0_Co2L0.80_2000H_2040_0.15_DF_100export.nc\"\n",
    "n = pypsa.Network(path)\n",
    "n.statistics().loc[\"Line\"]"
   ]
  },
  {
   "cell_type": "code",
   "execution_count": 37,
   "metadata": {},
   "outputs": [
    {
     "name": "stderr",
     "output_type": "stream",
     "text": [
      "INFO:pypsa.io:Imported network elec_s_4_ec_lc3.0_Co2L0.80_2000H_2040_0.15_DF_100export.nc has buses, carriers, generators, global_constraints, lines, links, loads, storage_units, stores\n"
     ]
    },
    {
     "data": {
      "text/html": [
       "<div>\n",
       "<style scoped>\n",
       "    .dataframe tbody tr th:only-of-type {\n",
       "        vertical-align: middle;\n",
       "    }\n",
       "\n",
       "    .dataframe tbody tr th {\n",
       "        vertical-align: top;\n",
       "    }\n",
       "\n",
       "    .dataframe thead th {\n",
       "        text-align: right;\n",
       "    }\n",
       "</style>\n",
       "<table border=\"1\" class=\"dataframe\">\n",
       "  <thead>\n",
       "    <tr style=\"text-align: right;\">\n",
       "      <th></th>\n",
       "      <th>Capacity Factor</th>\n",
       "      <th>Capital Expenditure</th>\n",
       "      <th>Curtailment</th>\n",
       "      <th>Dispatch</th>\n",
       "      <th>Installed Capacity</th>\n",
       "      <th>Market Value</th>\n",
       "      <th>Operational Expenditure</th>\n",
       "      <th>Optimal Capacity</th>\n",
       "      <th>Revenue</th>\n",
       "      <th>Supply</th>\n",
       "      <th>Withdrawal</th>\n",
       "    </tr>\n",
       "    <tr>\n",
       "      <th>carrier</th>\n",
       "      <th></th>\n",
       "      <th></th>\n",
       "      <th></th>\n",
       "      <th></th>\n",
       "      <th></th>\n",
       "      <th></th>\n",
       "      <th></th>\n",
       "      <th></th>\n",
       "      <th></th>\n",
       "      <th></th>\n",
       "      <th></th>\n",
       "    </tr>\n",
       "  </thead>\n",
       "  <tbody>\n",
       "    <tr>\n",
       "      <th>AC</th>\n",
       "      <td>0.212681</td>\n",
       "      <td>8.226708e+08</td>\n",
       "      <td>NaN</td>\n",
       "      <td>-1.761846e+07</td>\n",
       "      <td>75610.253133</td>\n",
       "      <td>-1.757546</td>\n",
       "      <td>NaN</td>\n",
       "      <td>64433.821617</td>\n",
       "      <td>3.096526e+07</td>\n",
       "      <td>1.200459e+08</td>\n",
       "      <td>-1.200459e+08</td>\n",
       "    </tr>\n",
       "  </tbody>\n",
       "</table>\n",
       "</div>"
      ],
      "text/plain": [
       "         Capacity Factor  Capital Expenditure  Curtailment      Dispatch  \\\n",
       "carrier                                                                    \n",
       "AC              0.212681         8.226708e+08          NaN -1.761846e+07   \n",
       "\n",
       "         Installed Capacity  Market Value  Operational Expenditure  \\\n",
       "carrier                                                              \n",
       "AC             75610.253133     -1.757546                      NaN   \n",
       "\n",
       "         Optimal Capacity       Revenue        Supply    Withdrawal  \n",
       "carrier                                                              \n",
       "AC           64433.821617  3.096526e+07  1.200459e+08 -1.200459e+08  "
      ]
     },
     "execution_count": 37,
     "metadata": {},
     "output_type": "execute_result"
    }
   ],
   "source": [
    "path = \"../subworkflows/pypsa-earth-sec/results/gadm1_2000H_linexp_ws/postnetworks/elec_s_4_ec_lc3.0_Co2L0.80_2000H_2040_0.15_DF_100export.nc\"\n",
    "n = pypsa.Network(path)\n",
    "n.statistics().loc[\"Line\"].head()"
   ]
  },
  {
   "cell_type": "code",
   "execution_count": 38,
   "metadata": {},
   "outputs": [
    {
     "name": "stderr",
     "output_type": "stream",
     "text": [
      "INFO:pypsa.io:Imported network elec_s_4_ec_lc5.0_Co2L0.80_2000H_2040_0.15_DF_100export.nc has buses, carriers, generators, global_constraints, lines, links, loads, storage_units, stores\n"
     ]
    },
    {
     "data": {
      "text/html": [
       "<div>\n",
       "<style scoped>\n",
       "    .dataframe tbody tr th:only-of-type {\n",
       "        vertical-align: middle;\n",
       "    }\n",
       "\n",
       "    .dataframe tbody tr th {\n",
       "        vertical-align: top;\n",
       "    }\n",
       "\n",
       "    .dataframe thead th {\n",
       "        text-align: right;\n",
       "    }\n",
       "</style>\n",
       "<table border=\"1\" class=\"dataframe\">\n",
       "  <thead>\n",
       "    <tr style=\"text-align: right;\">\n",
       "      <th></th>\n",
       "      <th>Capacity Factor</th>\n",
       "      <th>Capital Expenditure</th>\n",
       "      <th>Curtailment</th>\n",
       "      <th>Dispatch</th>\n",
       "      <th>Installed Capacity</th>\n",
       "      <th>Market Value</th>\n",
       "      <th>Operational Expenditure</th>\n",
       "      <th>Optimal Capacity</th>\n",
       "      <th>Revenue</th>\n",
       "      <th>Supply</th>\n",
       "      <th>Withdrawal</th>\n",
       "    </tr>\n",
       "    <tr>\n",
       "      <th>carrier</th>\n",
       "      <th></th>\n",
       "      <th></th>\n",
       "      <th></th>\n",
       "      <th></th>\n",
       "      <th></th>\n",
       "      <th></th>\n",
       "      <th></th>\n",
       "      <th></th>\n",
       "      <th></th>\n",
       "      <th></th>\n",
       "      <th></th>\n",
       "    </tr>\n",
       "  </thead>\n",
       "  <tbody>\n",
       "    <tr>\n",
       "      <th>AC</th>\n",
       "      <td>0.212669</td>\n",
       "      <td>8.226708e+08</td>\n",
       "      <td>NaN</td>\n",
       "      <td>-1.762328e+07</td>\n",
       "      <td>75610.253133</td>\n",
       "      <td>-1.757054</td>\n",
       "      <td>NaN</td>\n",
       "      <td>64433.822267</td>\n",
       "      <td>3.096506e+07</td>\n",
       "      <td>1.200388e+08</td>\n",
       "      <td>-1.200388e+08</td>\n",
       "    </tr>\n",
       "  </tbody>\n",
       "</table>\n",
       "</div>"
      ],
      "text/plain": [
       "         Capacity Factor  Capital Expenditure  Curtailment      Dispatch  \\\n",
       "carrier                                                                    \n",
       "AC              0.212669         8.226708e+08          NaN -1.762328e+07   \n",
       "\n",
       "         Installed Capacity  Market Value  Operational Expenditure  \\\n",
       "carrier                                                              \n",
       "AC             75610.253133     -1.757054                      NaN   \n",
       "\n",
       "         Optimal Capacity       Revenue        Supply    Withdrawal  \n",
       "carrier                                                              \n",
       "AC           64433.822267  3.096506e+07  1.200388e+08 -1.200388e+08  "
      ]
     },
     "execution_count": 38,
     "metadata": {},
     "output_type": "execute_result"
    }
   ],
   "source": [
    "path = \"../subworkflows/pypsa-earth-sec/results/gadm1_2000H_linexp_ws/postnetworks/elec_s_4_ec_lc5.0_Co2L0.80_2000H_2040_0.15_DF_100export.nc\"\n",
    "n = pypsa.Network(path)\n",
    "n.statistics().loc[\"Line\"]"
   ]
  },
  {
   "cell_type": "code",
   "execution_count": 35,
   "metadata": {},
   "outputs": [
    {
     "data": {
      "text/plain": [
       "bus0                                 MA.10_1_AC\n",
       "bus1                                 MA.15_1_AC\n",
       "length                               187.422179\n",
       "num_parallel                           1.447368\n",
       "carrier                                      AC\n",
       "type                Al/St 240/40 4-bundle 380.0\n",
       "s_max_pu                                    0.7\n",
       "s_nom                               2457.780096\n",
       "capital_cost                       13860.281569\n",
       "s_nom_extendable                           True\n",
       "s_nom_min                           2457.780096\n",
       "x                                     31.854955\n",
       "r                                      3.884751\n",
       "b                                      0.001176\n",
       "x_pu_eff                               0.000221\n",
       "r_pu_eff                               0.000027\n",
       "s_nom_opt                           2457.780156\n",
       "v_nom                                     380.0\n",
       "g                                           0.0\n",
       "s_nom_max                                   inf\n",
       "build_year                                    0\n",
       "lifetime                                    inf\n",
       "terrain_factor                              1.0\n",
       "v_ang_min                                  -inf\n",
       "v_ang_max                                   inf\n",
       "sub_network                                    \n",
       "x_pu                                        0.0\n",
       "r_pu                                        0.0\n",
       "g_pu                                        0.0\n",
       "b_pu                                        0.0\n",
       "Name: 1, dtype: object"
      ]
     },
     "execution_count": 35,
     "metadata": {},
     "output_type": "execute_result"
    }
   ],
   "source": [
    "n.lines.iloc[0]"
   ]
  }
 ],
 "metadata": {
  "kernelspec": {
   "display_name": "Python 3",
   "language": "python",
   "name": "python3"
  },
  "language_info": {
   "codemirror_mode": {
    "name": "ipython",
    "version": 3
   },
   "file_extension": ".py",
   "mimetype": "text/x-python",
   "name": "python",
   "nbconvert_exporter": "python",
   "pygments_lexer": "ipython3",
   "version": "3.10.11"
  },
  "orig_nbformat": 4
 },
 "nbformat": 4,
 "nbformat_minor": 2
}

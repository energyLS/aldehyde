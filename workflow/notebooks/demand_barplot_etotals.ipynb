{
 "cells": [
  {
   "cell_type": "code",
   "execution_count": 3,
   "metadata": {},
   "outputs": [],
   "source": [
    "import pandas as pd\n",
    "import matplotlib.pyplot as plt\n",
    "from matplotlib.colors import ListedColormap"
   ]
  },
  {
   "cell_type": "code",
   "execution_count": 1,
   "metadata": {},
   "outputs": [],
   "source": [
    "INPUT = \"../subworkflows/pypsa-earth-sec/data/energy_totals_DF_2030.csv\""
   ]
  },
  {
   "cell_type": "code",
   "execution_count": 4,
   "metadata": {},
   "outputs": [],
   "source": [
    "dict_cols = {\"electricity rail\":\"rail electricity\", \"electricity residential\":\"residential electricity\", \n",
    "                                   \"domestic aviation\":\"aviation domestic\", \"domestic navigation\":\"navigation domestic\", \n",
    "                                   \"international navigation\":\"navigation international\", \"international aviation\": \"aviation international\",\n",
    "                                   \"total rail\":\"rail oil\", \"total road\":\"road oil\"}\n",
    "\n",
    "energy_totals_2030 = pd.read_csv(INPUT, index_col=0)"
   ]
  },
  {
   "cell_type": "code",
   "execution_count": 7,
   "metadata": {},
   "outputs": [
    {
     "ename": "KeyError",
     "evalue": "'total international aviation'",
     "output_type": "error",
     "traceback": [
      "\u001b[0;31m---------------------------------------------------------------------------\u001b[0m",
      "\u001b[0;31mKeyError\u001b[0m                                  Traceback (most recent call last)",
      "File \u001b[0;32m~/micromamba/envs/pypsa-earth/lib/python3.10/site-packages/pandas/core/indexes/base.py:3652\u001b[0m, in \u001b[0;36mIndex.get_loc\u001b[0;34m(self, key)\u001b[0m\n\u001b[1;32m   3651\u001b[0m \u001b[39mtry\u001b[39;00m:\n\u001b[0;32m-> 3652\u001b[0m     \u001b[39mreturn\u001b[39;00m \u001b[39mself\u001b[39;49m\u001b[39m.\u001b[39;49m_engine\u001b[39m.\u001b[39;49mget_loc(casted_key)\n\u001b[1;32m   3653\u001b[0m \u001b[39mexcept\u001b[39;00m \u001b[39mKeyError\u001b[39;00m \u001b[39mas\u001b[39;00m err:\n",
      "File \u001b[0;32m~/micromamba/envs/pypsa-earth/lib/python3.10/site-packages/pandas/_libs/index.pyx:147\u001b[0m, in \u001b[0;36mpandas._libs.index.IndexEngine.get_loc\u001b[0;34m()\u001b[0m\n",
      "File \u001b[0;32m~/micromamba/envs/pypsa-earth/lib/python3.10/site-packages/pandas/_libs/index.pyx:176\u001b[0m, in \u001b[0;36mpandas._libs.index.IndexEngine.get_loc\u001b[0;34m()\u001b[0m\n",
      "File \u001b[0;32mpandas/_libs/hashtable_class_helper.pxi:7080\u001b[0m, in \u001b[0;36mpandas._libs.hashtable.PyObjectHashTable.get_item\u001b[0;34m()\u001b[0m\n",
      "File \u001b[0;32mpandas/_libs/hashtable_class_helper.pxi:7088\u001b[0m, in \u001b[0;36mpandas._libs.hashtable.PyObjectHashTable.get_item\u001b[0;34m()\u001b[0m\n",
      "\u001b[0;31mKeyError\u001b[0m: 'total international aviation'",
      "\nThe above exception was the direct cause of the following exception:\n",
      "\u001b[0;31mKeyError\u001b[0m                                  Traceback (most recent call last)",
      "Cell \u001b[0;32mIn[7], line 8\u001b[0m\n\u001b[1;32m      6\u001b[0m energy_totals_2030[\u001b[39m\"\u001b[39m\u001b[39mroad hydrogen\u001b[39m\u001b[39m\"\u001b[39m] \u001b[39m=\u001b[39m energy_totals_2030[\u001b[39m\"\u001b[39m\u001b[39mroad oil\u001b[39m\u001b[39m\"\u001b[39m] \u001b[39m*\u001b[39m\u001b[39m0.04\u001b[39m \u001b[39m#better fetched from network\u001b[39;00m\n\u001b[1;32m      7\u001b[0m energy_totals_2030[\u001b[39m\"\u001b[39m\u001b[39mroad oil\u001b[39m\u001b[39m\"\u001b[39m] \u001b[39m=\u001b[39m energy_totals_2030[\u001b[39m\"\u001b[39m\u001b[39mroad oil\u001b[39m\u001b[39m\"\u001b[39m]  \u001b[39m-\u001b[39m energy_totals_2030[\u001b[39m\"\u001b[39m\u001b[39mroad electricity\u001b[39m\u001b[39m\"\u001b[39m] \u001b[39m-\u001b[39menergy_totals_2030[\u001b[39m\"\u001b[39m\u001b[39mroad hydrogen\u001b[39m\u001b[39m\"\u001b[39m] \n\u001b[0;32m----> 8\u001b[0m energy_totals_2030[\u001b[39m\"\u001b[39m\u001b[39maviation oil\u001b[39m\u001b[39m\"\u001b[39m] \u001b[39m=\u001b[39m energy_totals_2030[\u001b[39m\"\u001b[39;49m\u001b[39mtotal international aviation\u001b[39;49m\u001b[39m\"\u001b[39;49m]  \u001b[39m+\u001b[39m energy_totals_2030[\u001b[39m\"\u001b[39m\u001b[39mtotal domestic aviation\u001b[39m\u001b[39m\"\u001b[39m]\n\u001b[1;32m      9\u001b[0m energy_totals_2030[\u001b[39m\"\u001b[39m\u001b[39mnavigation oil\u001b[39m\u001b[39m\"\u001b[39m] \u001b[39m=\u001b[39m energy_totals_2030[\u001b[39m\"\u001b[39m\u001b[39mtotal international navigation\u001b[39m\u001b[39m\"\u001b[39m]  \u001b[39m+\u001b[39m energy_totals_2030[\u001b[39m\"\u001b[39m\u001b[39mtotal domestic navigation\u001b[39m\u001b[39m\"\u001b[39m]\n\u001b[1;32m     10\u001b[0m energy_totals_2030[\u001b[39m\"\u001b[39m\u001b[39mnavigation hydrogen\u001b[39m\u001b[39m\"\u001b[39m] \u001b[39m=\u001b[39m energy_totals_2030[\u001b[39m\"\u001b[39m\u001b[39mnavigation oil\u001b[39m\u001b[39m\"\u001b[39m] \u001b[39m*\u001b[39m \u001b[39m0.18\u001b[39m \u001b[39m# better fetched from network\u001b[39;00m\n",
      "File \u001b[0;32m~/micromamba/envs/pypsa-earth/lib/python3.10/site-packages/pandas/core/frame.py:3761\u001b[0m, in \u001b[0;36mDataFrame.__getitem__\u001b[0;34m(self, key)\u001b[0m\n\u001b[1;32m   3759\u001b[0m \u001b[39mif\u001b[39;00m \u001b[39mself\u001b[39m\u001b[39m.\u001b[39mcolumns\u001b[39m.\u001b[39mnlevels \u001b[39m>\u001b[39m \u001b[39m1\u001b[39m:\n\u001b[1;32m   3760\u001b[0m     \u001b[39mreturn\u001b[39;00m \u001b[39mself\u001b[39m\u001b[39m.\u001b[39m_getitem_multilevel(key)\n\u001b[0;32m-> 3761\u001b[0m indexer \u001b[39m=\u001b[39m \u001b[39mself\u001b[39;49m\u001b[39m.\u001b[39;49mcolumns\u001b[39m.\u001b[39;49mget_loc(key)\n\u001b[1;32m   3762\u001b[0m \u001b[39mif\u001b[39;00m is_integer(indexer):\n\u001b[1;32m   3763\u001b[0m     indexer \u001b[39m=\u001b[39m [indexer]\n",
      "File \u001b[0;32m~/micromamba/envs/pypsa-earth/lib/python3.10/site-packages/pandas/core/indexes/base.py:3654\u001b[0m, in \u001b[0;36mIndex.get_loc\u001b[0;34m(self, key)\u001b[0m\n\u001b[1;32m   3652\u001b[0m     \u001b[39mreturn\u001b[39;00m \u001b[39mself\u001b[39m\u001b[39m.\u001b[39m_engine\u001b[39m.\u001b[39mget_loc(casted_key)\n\u001b[1;32m   3653\u001b[0m \u001b[39mexcept\u001b[39;00m \u001b[39mKeyError\u001b[39;00m \u001b[39mas\u001b[39;00m err:\n\u001b[0;32m-> 3654\u001b[0m     \u001b[39mraise\u001b[39;00m \u001b[39mKeyError\u001b[39;00m(key) \u001b[39mfrom\u001b[39;00m \u001b[39merr\u001b[39;00m\n\u001b[1;32m   3655\u001b[0m \u001b[39mexcept\u001b[39;00m \u001b[39mTypeError\u001b[39;00m:\n\u001b[1;32m   3656\u001b[0m     \u001b[39m# If we have a listlike key, _check_indexing_error will raise\u001b[39;00m\n\u001b[1;32m   3657\u001b[0m     \u001b[39m#  InvalidIndexError. Otherwise we fall through and re-raise\u001b[39;00m\n\u001b[1;32m   3658\u001b[0m     \u001b[39m#  the TypeError.\u001b[39;00m\n\u001b[1;32m   3659\u001b[0m     \u001b[39mself\u001b[39m\u001b[39m.\u001b[39m_check_indexing_error(key)\n",
      "\u001b[0;31mKeyError\u001b[0m: 'total international aviation'"
     ]
    }
   ],
   "source": [
    "\n",
    "energy_totals_2030.dropna(axis=0, inplace=True)\n",
    "energy_totals_2030=energy_totals_2030.rename(columns=dict_cols)\n",
    "energy_totals_2030=energy_totals_2030.sort_index(axis=1)\n",
    "\n",
    "energy_totals_2030[\"road electricity\"] =energy_totals_2030[\"road oil\"] *0.14 # better fetched from network\n",
    "energy_totals_2030[\"road hydrogen\"] = energy_totals_2030[\"road oil\"] *0.04 #better fetched from network\n",
    "energy_totals_2030[\"road oil\"] = energy_totals_2030[\"road oil\"]  - energy_totals_2030[\"road electricity\"] -energy_totals_2030[\"road hydrogen\"] \n",
    "energy_totals_2030[\"aviation oil\"] = energy_totals_2030[\"total international aviation\"]  + energy_totals_2030[\"total domestic aviation\"]\n",
    "energy_totals_2030[\"navigation oil\"] = energy_totals_2030[\"total international navigation\"]  + energy_totals_2030[\"total domestic navigation\"]\n",
    "energy_totals_2030[\"navigation hydrogen\"] = energy_totals_2030[\"navigation oil\"] * 0.18 # better fetched from network\n",
    "energy_totals_2030[\"navigation oil\"]  = energy_totals_2030[\"navigation oil\"]  - energy_totals_2030[\"navigation hydrogen\"]\n",
    "\n",
    "\n",
    "energy_totals_2030.drop([\"total domestic aviation\", \"total international aviation\", \"total domestic navigation\", \"total international navigation\"], axis=1, inplace=True)\n",
    "energy_totals_2030[\"residential electricity\"] = energy_totals_2030[\"residential electricity\"] + energy_totals_2030[\"electricity residential space\"]+ energy_totals_2030[\"electricity residential water\"]\n",
    "energy_totals_2030[\"services electricity\"] = energy_totals_2030[\"services electricity\"] + energy_totals_2030[\"electricity services space\"]+ energy_totals_2030[\"electricity services water\"]\n",
    "energy_totals_2030 = energy_totals_2030.loc[:, (energy_totals_2030 != 0).any(axis=0)]\n",
    "energy_totals_2030.columns\n",
    "\n",
    "# I created energy_totals_base, 2040 and 2050 in the same way as above\n",
    "\n",
    "#stacked_df=pd.concat([pd.DataFrame(base_energy_totals.sum()).T,pd.DataFrame(energy_totals_2030.sum()).T,pd.DataFrame(energy_totals_2040.sum()).T,pd.DataFrame(energy_totals_2050.sum()).T]).fillna(0)#.sort_index(axis=1)\n",
    "stacked_df=pd.DataFrame(energy_totals_2030.sum()).T.fillna(0)#.sort_index(axis=1)\n",
    "#stacked_df[\"residential gas\"] = stacked_df[\"residential gas\"] + stacked_df[\"residential heat gas\"]\n",
    "stacked_df[\"residential oil\"] = stacked_df[\"residential oil\"] + stacked_df[\"residential heat oil\"]\n",
    "stacked_df[\"residential biomass\"] = stacked_df[\"residential biomass\"] + stacked_df[\"residential heat biomass\"]\n",
    "\n",
    "stacked_df.drop([\"residential heat oil\", \"residential heat biomass\", \"electricity residential space\",\n",
    "                 \"electricity residential water\", \"total residential space\", \"total residential water\" ], axis=1, inplace=True) #\"total services space\", \"total services water\", \"residential heat gas\"\n",
    "\n",
    "stacked_df = stacked_df.loc[:, (stacked_df != 0).any(axis=0)]\n",
    "\n",
    "new_cols = pd.Series(stacked_df.columns.to_list())\n",
    "new_cols = new_cols.apply(lambda x: x.split(\" \")[1] + \" \" +x.split(\" \")[0])\n",
    "stacked_df.columns = new_cols\n",
    "\n",
    "stacked_df = stacked_df.sort_index(axis=1)\n",
    "\n",
    "fig = plt.figure(figsize=(9, 4))\n",
    "fig.tight_layout()\n",
    "ax = plt.subplot(111)\n",
    "to_plot= stacked_df.sort_index()#axis=1)\n",
    "to_plot.index = [\"EG_2030\"]\n",
    "to_plot.plot.bar(stacked=True, ax=ax)\n",
    "plt.xticks(rotation=0)\n",
    "\n",
    "\n",
    "l3 = plt.legend(bbox_to_anchor=(1.04, 0.5), loc=\"center left\", borderaxespad=0, prop={'size': 8.19})\n",
    "\n",
    "plt.ylabel(\"Final energy demand [TWh]\")\n",
    "plt.grid()\n",
    "\n",
    "plt.grid(color='grey', linestyle='--', linewidth=0.5, zorder=0)\n",
    "plt.savefig(\"OCEANIA_demand_proj_n.pdf\", bbox_inches='tight')\n",
    "plt.show()\n"
   ]
  }
 ],
 "metadata": {
  "kernelspec": {
   "display_name": "pypsa-earth-new",
   "language": "python",
   "name": "python3"
  },
  "language_info": {
   "codemirror_mode": {
    "name": "ipython",
    "version": 3
   },
   "file_extension": ".py",
   "mimetype": "text/x-python",
   "name": "python",
   "nbconvert_exporter": "python",
   "pygments_lexer": "ipython3",
   "version": "3.10.11"
  },
  "orig_nbformat": 4
 },
 "nbformat": 4,
 "nbformat_minor": 2
}

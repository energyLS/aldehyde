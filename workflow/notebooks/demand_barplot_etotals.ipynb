{
 "cells": [
  {
   "cell_type": "code",
   "execution_count": null,
   "metadata": {},
   "outputs": [],
   "source": [
    "import pandas as pd\n",
    "import matplotlib.pyplot as plt\n",
    "from matplotlib.colors import ListedColormap"
   ]
  },
  {
   "cell_type": "code",
   "execution_count": null,
   "metadata": {},
   "outputs": [],
   "source": [
    "INPUT = \"../subworkflows/pypsa-earth-sec/data/energy_totals_DF_2030.csv\""
   ]
  },
  {
   "cell_type": "code",
   "execution_count": null,
   "metadata": {},
   "outputs": [],
   "source": [
    "dict_cols = {\"electricity rail\":\"rail electricity\", \"electricity residential\":\"residential electricity\", \n",
    "                                   \"domestic aviation\":\"aviation domestic\", \"domestic navigation\":\"navigation domestic\", \n",
    "                                   \"international navigation\":\"navigation international\", \"international aviation\": \"aviation international\",\n",
    "                                   \"total rail\":\"rail oil\", \"total road\":\"road oil\"}\n",
    "\n",
    "energy_totals_2030 = pd.read_csv(INPUT, index_col=0)"
   ]
  },
  {
   "cell_type": "code",
   "execution_count": null,
   "metadata": {},
   "outputs": [],
   "source": [
    "\n",
    "energy_totals_2030.dropna(axis=0, inplace=True)\n",
    "energy_totals_2030=energy_totals_2030.rename(columns=dict_cols)\n",
    "energy_totals_2030=energy_totals_2030.sort_index(axis=1)\n",
    "\n",
    "energy_totals_2030[\"road electricity\"] =energy_totals_2030[\"road oil\"] *0.14 # better fetched from network\n",
    "energy_totals_2030[\"road hydrogen\"] = energy_totals_2030[\"road oil\"] *0.04 #better fetched from network\n",
    "energy_totals_2030[\"road oil\"] = energy_totals_2030[\"road oil\"]  - energy_totals_2030[\"road electricity\"] -energy_totals_2030[\"road hydrogen\"] \n",
    "energy_totals_2030[\"aviation oil\"] = energy_totals_2030[\"total international aviation\"]  + energy_totals_2030[\"total domestic aviation\"]\n",
    "energy_totals_2030[\"navigation oil\"] = energy_totals_2030[\"total international navigation\"]  + energy_totals_2030[\"total domestic navigation\"]\n",
    "energy_totals_2030[\"navigation hydrogen\"] = energy_totals_2030[\"navigation oil\"] * 0.18 # better fetched from network\n",
    "energy_totals_2030[\"navigation oil\"]  = energy_totals_2030[\"navigation oil\"]  - energy_totals_2030[\"navigation hydrogen\"]\n",
    "\n",
    "\n",
    "energy_totals_2030.drop([\"total domestic aviation\", \"total international aviation\", \"total domestic navigation\", \"total international navigation\"], axis=1, inplace=True)\n",
    "energy_totals_2030[\"residential electricity\"] = energy_totals_2030[\"residential electricity\"] + energy_totals_2030[\"electricity residential space\"]+ energy_totals_2030[\"electricity residential water\"]\n",
    "energy_totals_2030[\"services electricity\"] = energy_totals_2030[\"services electricity\"] + energy_totals_2030[\"electricity services space\"]+ energy_totals_2030[\"electricity services water\"]\n",
    "energy_totals_2030 = energy_totals_2030.loc[:, (energy_totals_2030 != 0).any(axis=0)]\n",
    "energy_totals_2030.columns\n",
    "\n",
    "# I created energy_totals_base, 2040 and 2050 in the same way as above\n",
    "\n",
    "#stacked_df=pd.concat([pd.DataFrame(base_energy_totals.sum()).T,pd.DataFrame(energy_totals_2030.sum()).T,pd.DataFrame(energy_totals_2040.sum()).T,pd.DataFrame(energy_totals_2050.sum()).T]).fillna(0)#.sort_index(axis=1)\n",
    "stacked_df=pd.DataFrame(energy_totals_2030.sum()).T.fillna(0)#.sort_index(axis=1)\n",
    "#stacked_df[\"residential gas\"] = stacked_df[\"residential gas\"] + stacked_df[\"residential heat gas\"]\n",
    "stacked_df[\"residential oil\"] = stacked_df[\"residential oil\"] + stacked_df[\"residential heat oil\"]\n",
    "stacked_df[\"residential biomass\"] = stacked_df[\"residential biomass\"] + stacked_df[\"residential heat biomass\"]\n",
    "\n",
    "stacked_df.drop([\"residential heat oil\", \"residential heat biomass\", \"electricity residential space\",\n",
    "                 \"electricity residential water\", \"total residential space\", \"total residential water\" ], axis=1, inplace=True) #\"total services space\", \"total services water\", \"residential heat gas\"\n",
    "\n",
    "stacked_df = stacked_df.loc[:, (stacked_df != 0).any(axis=0)]\n",
    "\n",
    "new_cols = pd.Series(stacked_df.columns.to_list())\n",
    "new_cols = new_cols.apply(lambda x: x.split(\" \")[1] + \" \" +x.split(\" \")[0])\n",
    "stacked_df.columns = new_cols\n",
    "\n",
    "stacked_df = stacked_df.sort_index(axis=1)\n",
    "\n",
    "fig = plt.figure(figsize=(9, 4))\n",
    "fig.tight_layout()\n",
    "ax = plt.subplot(111)\n",
    "to_plot= stacked_df.sort_index()#axis=1)\n",
    "#to_plot.index = [\"EG_2030\"]\n",
    "to_plot.plot.bar(stacked=True, ax=ax)\n",
    "plt.xticks(rotation=0)\n",
    "\n",
    "\n",
    "l3 = plt.legend(bbox_to_anchor=(1.04, 0.5), loc=\"center left\", borderaxespad=0, prop={'size': 8.19})\n",
    "\n",
    "plt.ylabel(\"Final energy demand [TWh]\")\n",
    "plt.grid()\n",
    "\n",
    "plt.grid(color='grey', linestyle='--', linewidth=0.5, zorder=0)\n",
    "#plt.savefig(\"demand_proj_n.pdf\", bbox_inches='tight')\n",
    "plt.show()\n"
   ]
  }
 ],
 "metadata": {
  "kernelspec": {
   "display_name": "pypsa-earth-new",
   "language": "python",
   "name": "python3"
  },
  "language_info": {
   "codemirror_mode": {
    "name": "ipython",
    "version": 3
   },
   "file_extension": ".py",
   "mimetype": "text/x-python",
   "name": "python",
   "nbconvert_exporter": "python",
   "pygments_lexer": "ipython3",
   "version": "3.10.11"
  },
  "orig_nbformat": 4
 },
 "nbformat": 4,
 "nbformat_minor": 2
}

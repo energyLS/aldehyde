{
 "cells": [
  {
   "cell_type": "code",
   "execution_count": null,
   "metadata": {},
   "outputs": [],
   "source": [
    "import pandas as pd\n",
    "import numpy as np\n",
    "import matplotlib.pyplot as plt\n",
    "import pypsa\n",
    "import seaborn as sns"
   ]
  },
  {
   "cell_type": "code",
   "execution_count": null,
   "metadata": {},
   "outputs": [],
   "source": [
    "EXPORT = 100\n",
    "CO2L = 0.90\n",
    "CLUSTERS = 4\n",
    "H = 3\n",
    "LL = \"3.0\"\n",
    "DISCOUNT_RATE = 0.15\n",
    "\n",
    "RUN = \"dyntrans_full_3H_ws\"\n",
    "CATEGORY = \"postnetworks\"\n",
    "SCENARIO = f\"elec_s_{CLUSTERS}_ec_lc{LL}_Co2L{CO2L}0_{H}H_2030_{DISCOUNT_RATE}_DF_{EXPORT}export\"\n",
    "\n",
    "#OVERRIDES = PATH + \"pypsa-eur-sec/data/override_component_attrs\"\n",
    "\n",
    "PREFIX = \"/mnt/c/Users/scl38887/Documents/git/aldehyde/\"\n",
    "OUTPUT = PREFIX + \"results\"\n",
    "INPUT = PREFIX + f\"workflow/subworkflows/pypsa-earth-sec/results/{RUN}/{CATEGORY}/{SCENARIO}.nc\"\n",
    "OUTPUT_SCENARIO = f\"{OUTPUT}/{RUN}/graphics/demand/{SCENARIO}\"\n",
    "OUTPUT_RAW = f\"{OUTPUT}/{RUN}/graphics/demand/\""
   ]
  },
  {
   "cell_type": "code",
   "execution_count": null,
   "metadata": {},
   "outputs": [],
   "source": [
    "n = pypsa.Network(INPUT)"
   ]
  },
  {
   "cell_type": "markdown",
   "metadata": {},
   "source": [
    "### Analyse the first hours"
   ]
  },
  {
   "cell_type": "markdown",
   "metadata": {},
   "source": [
    "Assumption: The network has to deliver export hydrogen from hour 1 onwards. Does this drive up storage needs etc.?"
   ]
  },
  {
   "cell_type": "markdown",
   "metadata": {},
   "source": [
    "Hydrogen demand: 11 GW every hour"
   ]
  },
  {
   "cell_type": "code",
   "execution_count": null,
   "metadata": {},
   "outputs": [],
   "source": [
    "n.loads_t.p_set.loc[:, \"H2 export load\"]"
   ]
  },
  {
   "cell_type": "code",
   "execution_count": null,
   "metadata": {},
   "outputs": [],
   "source": [
    "# Electricity demand of all electrolysers\n"
   ]
  },
  {
   "cell_type": "markdown",
   "metadata": {},
   "source": [
    "Storage (stats)"
   ]
  },
  {
   "cell_type": "markdown",
   "metadata": {},
   "source": [
    "Note: e/p ratio is not fixed, p is independent in a \"store\" component."
   ]
  },
  {
   "cell_type": "code",
   "execution_count": null,
   "metadata": {},
   "outputs": [],
   "source": [
    "# Optimised storage energy capacity\n",
    "n.stores[n.stores.carrier == \"H2\"].e_nom_opt.sum() /1e3 # GWh"
   ]
  },
  {
   "cell_type": "markdown",
   "metadata": {},
   "source": [
    "Storage (temporal)"
   ]
  },
  {
   "cell_type": "code",
   "execution_count": null,
   "metadata": {},
   "outputs": [],
   "source": [
    "# State of charge (e) and power (p) of storage\n",
    "n.stores_t.e.loc[:, n.stores[n.stores.carrier == \"H2\"].index].sum(axis=1).iloc[:100].plot(figsize=(11, 4), grid=True, label=\"store e\")\n",
    "n.stores_t.p.loc[:, n.stores[n.stores.carrier == \"H2\"].index].sum(axis=1).iloc[:100].plot(figsize=(11, 4), grid=True, label=\"store p\")\n",
    "n.generators_t.p.loc[:, n.generators[n.generators.bus.isin(n.buses[n.buses.carrier == \"AC\"].index)].index].sum(axis=1).iloc[:100].plot(figsize=(11, 4), grid=True, label=\"power\")\n",
    "n.links_t.p0.loc[:, n.links[n.links.carrier==\"H2 Electrolysis\"].index].sum(axis=1).iloc[:100].plot(label=\"electrolysis demand\")\n",
    "plt.legend()\n",
    "plt.grid()"
   ]
  },
  {
   "cell_type": "markdown",
   "metadata": {},
   "source": [
    "### Outcome"
   ]
  },
  {
   "cell_type": "markdown",
   "metadata": {},
   "source": [
    "Storage Starts with 19 GWh, ends with 28 GWh. The full storage capacity is used throughout the year, not just in the first hour and then only marginally. Hence the storage capacity is not driven by the first hour."
   ]
  },
  {
   "cell_type": "markdown",
   "metadata": {},
   "source": [
    "### Export locations"
   ]
  },
  {
   "cell_type": "code",
   "execution_count": null,
   "metadata": {},
   "outputs": [],
   "source": [
    "# Electricity demand of all electrolysers\n",
    "n.links_t.p0.loc[:, n.links[n.links.carrier==\"H2\"].index].sum(axis=0)"
   ]
  }
 ],
 "metadata": {
  "kernelspec": {
   "display_name": "Python 3",
   "language": "python",
   "name": "python3"
  },
  "language_info": {
   "codemirror_mode": {
    "name": "ipython",
    "version": 3
   },
   "file_extension": ".py",
   "mimetype": "text/x-python",
   "name": "python",
   "nbconvert_exporter": "python",
   "pygments_lexer": "ipython3",
   "version": "3.10.11"
  }
 },
 "nbformat": 4,
 "nbformat_minor": 2
}

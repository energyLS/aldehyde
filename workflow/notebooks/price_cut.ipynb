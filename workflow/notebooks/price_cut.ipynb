{
 "cells": [
  {
   "cell_type": "code",
   "execution_count": null,
   "metadata": {},
   "outputs": [],
   "source": [
    "import pandas as pd\n",
    "import numpy as np\n",
    "import os \n",
    "import matplotlib.pyplot as plt"
   ]
  },
  {
   "cell_type": "code",
   "execution_count": null,
   "metadata": {},
   "outputs": [],
   "source": [
    "RUN = \"dyntrans_full_3h_ws\"\n",
    "PREFIX = \"/mnt/c/Users/scl38887/Documents/git/aldehyde/\"\n",
    "INPUT = PREFIX + \"results/\" + RUN + \"/integrated_comp/stats.csv\"\n",
    "OUTPUT = PREFIX + \"results/\" + RUN + \"/graphics/pricecuts/\""
   ]
  },
  {
   "cell_type": "code",
   "execution_count": null,
   "metadata": {},
   "outputs": [],
   "source": [
    "stats = pd.read_csv(INPUT, index_col=0)"
   ]
  },
  {
   "cell_type": "code",
   "execution_count": null,
   "metadata": {},
   "outputs": [],
   "source": [
    "stats.head()"
   ]
  },
  {
   "cell_type": "code",
   "execution_count": null,
   "metadata": {},
   "outputs": [],
   "source": [
    "def get_data(export):\n",
    "    mg_AC_incl_H2 = stats[stats.index == export].loc[:,\"mg_AC_inclu_H2 El_all\"]\n",
    "    mg_AC_exclu_H2 = stats[stats.index == export].loc[:,\"mg_AC_exclu_H2 El_all\"]\n",
    "    mg_AC_False_False = stats[stats.index == export].loc[:,\"mg_AC_False_False_all\"]\n",
    "    return mg_AC_incl_H2, mg_AC_exclu_H2, mg_AC_False_False "
   ]
  },
  {
   "cell_type": "code",
   "execution_count": null,
   "metadata": {},
   "outputs": [],
   "source": [
    "opts = stats[stats.index == 40].opts.str[4:]\n",
    "opts = np.unique(\n",
    "        opts.fillna(100).astype(float)\n",
    "    )  # TODO improve the fillna value\n",
    "opts_reverse = 1 - opts\n",
    "opts_reverse[opts_reverse < 0] = 0\n",
    "opts = opts_reverse[::-1] * 100"
   ]
  },
  {
   "cell_type": "code",
   "execution_count": null,
   "metadata": {},
   "outputs": [],
   "source": [
    "# Plot the lcoe_w_electrolysis lcoe_w_no_electrolysis along the stats[\"opts\"]\n",
    "\n",
    "\n",
    "fig, ax = plt.subplots(figsize=(6, 3))\n",
    "\n",
    "for export in [100]: # [0, 20, 40, 60, 80, 100, 120, 140, 160, 180, 200]:\n",
    "    contour_mg_AC_incl_H2, contour_mg_AC_exclu_H2, contour_mg_AC_False_False = get_data(export)\n",
    "    ax.plot(opts, contour_mg_AC_incl_H2, label=\"Export (w/ electrolysis)\", color = \"black\", alpha = (export/300)+0.2)\n",
    "    ax.plot(opts, contour_mg_AC_exclu_H2, label=\"Local (w/o electrolysis)\", color = \"green\", alpha = (export/300)+0.2)\n",
    "    ax.plot(opts, contour_mg_AC_False_False, label=\"Local-Export\", color = \"red\", alpha = (export/300)+0.2)\n",
    "    ax.set_label(\"Export in % of base levels\")\n",
    "\n",
    "ax.set_xlabel(\"Domestic mitigation in %\")\n",
    "ax.set_ylabel(\"Marginal price of electricity in €/MWh\")\n",
    "ax.set_xticks(opts)\n",
    "ax.set_ylim(0, 100)\n",
    "ax.set_xlim(0, 90)\n",
    "\n",
    "ax.legend()\n",
    "\n",
    "#ax.legend()\n",
    "if not os.path.isdir(OUTPUT):\n",
    "    os.makedirs(OUTPUT)\n",
    "    print(\"Created directory \" + OUTPUT)\n",
    "plt.savefig(OUTPUT + \"electricity\" + str(export) + \".pdf\", bbox_inches=\"tight\")\n",
    "plt.show()"
   ]
  },
  {
   "attachments": {},
   "cell_type": "markdown",
   "metadata": {},
   "source": [
    "Probability experiments"
   ]
  },
  {
   "cell_type": "code",
   "execution_count": null,
   "metadata": {},
   "outputs": [],
   "source": [
    "import os\n",
    "import matplotlib.pyplot as plt\n",
    "import numpy as np\n",
    "\n",
    "# Your existing code to get_data and other settings\n",
    "\n",
    "fig, ax = plt.subplots(figsize=(12, 6))\n",
    "\n",
    "exports = [0, 20, 40, 60, 80, 100, 120, 140, 160, 180, 200]\n",
    "\n",
    "for i, export in enumerate(exports):\n",
    "    lcoe_w_electrolysis, lcoe_w_no_electrolysis, lcoe_w = get_data(export)\n",
    "    \n",
    "    ax.plot(opts, lcoe_w_electrolysis, color=\"black\", alpha=(export / 300) + 0.2)\n",
    "    ax.plot(opts, lcoe_w_no_electrolysis, color=\"green\", alpha=(export / 300) + 0.2)\n",
    "    ax.plot(opts, lcoe_w, color=\"red\", alpha=(export / 300) + 0.2)\n",
    "\n",
    "    # Fill between curves at each x point\n",
    "    ax.fill_between(opts, lcoe_w_electrolysis, lcoe_w_no_electrolysis, color=\"black\", alpha=0.2)\n",
    "    ax.fill_between(opts, lcoe_w_no_electrolysis, lcoe_w, color=\"green\", alpha=0.2)\n",
    "\n",
    "ax.set_xlabel(\"Domestic mitigation in %\")\n",
    "ax.set_ylabel(\"Marginal price of electricity in €/MWh\")\n",
    "ax.set_xticks(opts)\n",
    "ax.set_ylim(0, 100)\n",
    "ax.set_xlim(0, 90)\n",
    "\n",
    "# Add legend for the filled areas\n",
    "ax.legend([\"Export (w/ electrolysis)\", \"Local (w/o electrolysis)\", \"Local-Export\", \"Export to Local (w/o electrolysis)\", \"Local-Export to Local (w/o electrolysis)\"])\n",
    "\n",
    "if not os.path.isdir(OUTPUT):\n",
    "    os.makedirs(OUTPUT)\n",
    "    print(\"Created directory \" + OUTPUT)\n",
    "plt.savefig(OUTPUT + \"hydrogen.pdf\", bbox_inches=\"tight\")\n",
    "plt.show()\n"
   ]
  }
 ],
 "metadata": {
  "kernelspec": {
   "display_name": "Python 3",
   "language": "python",
   "name": "python3"
  },
  "language_info": {
   "codemirror_mode": {
    "name": "ipython",
    "version": 3
   },
   "file_extension": ".py",
   "mimetype": "text/x-python",
   "name": "python",
   "nbconvert_exporter": "python",
   "pygments_lexer": "ipython3",
   "version": "3.10.9"
  },
  "orig_nbformat": 4
 },
 "nbformat": 4,
 "nbformat_minor": 2
}

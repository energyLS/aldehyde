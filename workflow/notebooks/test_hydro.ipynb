{
 "cells": [
  {
   "cell_type": "code",
   "execution_count": 1,
   "metadata": {},
   "outputs": [],
   "source": [
    "import pypsa"
   ]
  },
  {
   "cell_type": "code",
   "execution_count": 2,
   "metadata": {},
   "outputs": [],
   "source": [
    "prefix = \"/mnt/c/Users/scl38887/Documents/git/aldehyde\""
   ]
  },
  {
   "attachments": {},
   "cell_type": "markdown",
   "metadata": {},
   "source": [
    "Import network"
   ]
  },
  {
   "cell_type": "code",
   "execution_count": 9,
   "metadata": {},
   "outputs": [
    {
     "name": "stderr",
     "output_type": "stream",
     "text": [
      "INFO:pypsa.io:Imported network elec_s_10_ec_lc1.0_Co2L0.5_3H_2030_0.15_DF_0export.nc has buses, carriers, generators, global_constraints, lines, links, loads, storage_units, stores\n"
     ]
    }
   ],
   "source": [
    "# Import from pypsa-earth-sec\n",
    "run = \"wacc15_hem_1marg_1cap_nosmr_3h_ws\"\n",
    "n = pypsa.Network(prefix + \"/workflow/subworkflows/pypsa-earth-sec/results/\" + run + \"/postnetworks/elec_s_10_ec_lc1.0_Co2L0.5_3H_2030_0.15_DF_0export.nc\")"
   ]
  },
  {
   "attachments": {},
   "cell_type": "markdown",
   "metadata": {},
   "source": [
    "Check p_max_pu of hydro"
   ]
  },
  {
   "cell_type": "code",
   "execution_count": 12,
   "metadata": {},
   "outputs": [
    {
     "data": {
      "text/html": [
       "<div>\n",
       "<style scoped>\n",
       "    .dataframe tbody tr th:only-of-type {\n",
       "        vertical-align: middle;\n",
       "    }\n",
       "\n",
       "    .dataframe tbody tr th {\n",
       "        vertical-align: top;\n",
       "    }\n",
       "\n",
       "    .dataframe thead th {\n",
       "        text-align: right;\n",
       "    }\n",
       "</style>\n",
       "<table border=\"1\" class=\"dataframe\">\n",
       "  <thead>\n",
       "    <tr style=\"text-align: right;\">\n",
       "      <th></th>\n",
       "      <th>p_nom_max</th>\n",
       "      <th>weight</th>\n",
       "      <th>p_nom</th>\n",
       "      <th>capital_cost</th>\n",
       "      <th>efficiency</th>\n",
       "      <th>p_nom_min</th>\n",
       "      <th>marginal_cost</th>\n",
       "      <th>bus</th>\n",
       "      <th>carrier</th>\n",
       "      <th>p_nom_extendable</th>\n",
       "      <th>...</th>\n",
       "      <th>start_up_cost</th>\n",
       "      <th>shut_down_cost</th>\n",
       "      <th>min_up_time</th>\n",
       "      <th>min_down_time</th>\n",
       "      <th>up_time_before</th>\n",
       "      <th>down_time_before</th>\n",
       "      <th>ramp_limit_up</th>\n",
       "      <th>ramp_limit_down</th>\n",
       "      <th>ramp_limit_start_up</th>\n",
       "      <th>ramp_limit_shut_down</th>\n",
       "    </tr>\n",
       "    <tr>\n",
       "      <th>Generator</th>\n",
       "      <th></th>\n",
       "      <th></th>\n",
       "      <th></th>\n",
       "      <th></th>\n",
       "      <th></th>\n",
       "      <th></th>\n",
       "      <th></th>\n",
       "      <th></th>\n",
       "      <th></th>\n",
       "      <th></th>\n",
       "      <th></th>\n",
       "      <th></th>\n",
       "      <th></th>\n",
       "      <th></th>\n",
       "      <th></th>\n",
       "      <th></th>\n",
       "      <th></th>\n",
       "      <th></th>\n",
       "      <th></th>\n",
       "      <th></th>\n",
       "      <th></th>\n",
       "    </tr>\n",
       "  </thead>\n",
       "  <tbody>\n",
       "    <tr>\n",
       "      <th>MA.13.1_1_AC ror</th>\n",
       "      <td>inf</td>\n",
       "      <td>464.000000</td>\n",
       "      <td>464.000000</td>\n",
       "      <td>563087.724555</td>\n",
       "      <td>0.9</td>\n",
       "      <td>0.0</td>\n",
       "      <td>0.009847</td>\n",
       "      <td>MA.13.1_1_AC</td>\n",
       "      <td>ror</td>\n",
       "      <td>False</td>\n",
       "      <td>...</td>\n",
       "      <td>0.0</td>\n",
       "      <td>0.0</td>\n",
       "      <td>0</td>\n",
       "      <td>0</td>\n",
       "      <td>1</td>\n",
       "      <td>0</td>\n",
       "      <td>NaN</td>\n",
       "      <td>NaN</td>\n",
       "      <td>1.0</td>\n",
       "      <td>1.0</td>\n",
       "    </tr>\n",
       "    <tr>\n",
       "      <th>MA.2.1_1_AC ror</th>\n",
       "      <td>inf</td>\n",
       "      <td>15.379859</td>\n",
       "      <td>15.379859</td>\n",
       "      <td>563087.724555</td>\n",
       "      <td>0.9</td>\n",
       "      <td>0.0</td>\n",
       "      <td>0.009584</td>\n",
       "      <td>MA.2.1_1_AC</td>\n",
       "      <td>ror</td>\n",
       "      <td>False</td>\n",
       "      <td>...</td>\n",
       "      <td>0.0</td>\n",
       "      <td>0.0</td>\n",
       "      <td>0</td>\n",
       "      <td>0</td>\n",
       "      <td>1</td>\n",
       "      <td>0</td>\n",
       "      <td>NaN</td>\n",
       "      <td>NaN</td>\n",
       "      <td>1.0</td>\n",
       "      <td>1.0</td>\n",
       "    </tr>\n",
       "  </tbody>\n",
       "</table>\n",
       "<p>2 rows × 31 columns</p>\n",
       "</div>"
      ],
      "text/plain": [
       "                  p_nom_max      weight       p_nom   capital_cost  \\\n",
       "Generator                                                            \n",
       "MA.13.1_1_AC ror        inf  464.000000  464.000000  563087.724555   \n",
       "MA.2.1_1_AC ror         inf   15.379859   15.379859  563087.724555   \n",
       "\n",
       "                  efficiency  p_nom_min  marginal_cost           bus carrier  \\\n",
       "Generator                                                                      \n",
       "MA.13.1_1_AC ror         0.9        0.0       0.009847  MA.13.1_1_AC     ror   \n",
       "MA.2.1_1_AC ror          0.9        0.0       0.009584   MA.2.1_1_AC     ror   \n",
       "\n",
       "                  p_nom_extendable  ... start_up_cost  shut_down_cost  \\\n",
       "Generator                           ...                                 \n",
       "MA.13.1_1_AC ror             False  ...           0.0             0.0   \n",
       "MA.2.1_1_AC ror              False  ...           0.0             0.0   \n",
       "\n",
       "                  min_up_time min_down_time  up_time_before  down_time_before  \\\n",
       "Generator                                                                       \n",
       "MA.13.1_1_AC ror            0             0               1                 0   \n",
       "MA.2.1_1_AC ror             0             0               1                 0   \n",
       "\n",
       "                  ramp_limit_up  ramp_limit_down  ramp_limit_start_up  \\\n",
       "Generator                                                               \n",
       "MA.13.1_1_AC ror            NaN              NaN                  1.0   \n",
       "MA.2.1_1_AC ror             NaN              NaN                  1.0   \n",
       "\n",
       "                  ramp_limit_shut_down  \n",
       "Generator                               \n",
       "MA.13.1_1_AC ror                   1.0  \n",
       "MA.2.1_1_AC ror                    1.0  \n",
       "\n",
       "[2 rows x 31 columns]"
      ]
     },
     "execution_count": 12,
     "metadata": {},
     "output_type": "execute_result"
    }
   ],
   "source": [
    "# Show hydro generators\n",
    "n.generators[n.generators.carrier == \"ror\"]"
   ]
  },
  {
   "cell_type": "code",
   "execution_count": 16,
   "metadata": {},
   "outputs": [
    {
     "data": {
      "text/plain": [
       "count    2920.000000\n",
       "mean        0.125452\n",
       "std         0.239219\n",
       "min         0.000000\n",
       "25%         0.014596\n",
       "50%         0.026181\n",
       "75%         0.084629\n",
       "max         1.000000\n",
       "Name: MA.13.1_1_AC ror, dtype: float64"
      ]
     },
     "execution_count": 16,
     "metadata": {},
     "output_type": "execute_result"
    }
   ],
   "source": [
    "n.generators_t.p_max_pu[\"MA.13.1_1_AC ror\"].describe()"
   ]
  },
  {
   "cell_type": "code",
   "execution_count": null,
   "metadata": {},
   "outputs": [
    {
     "data": {
      "text/plain": [
       "count    2920.000000\n",
       "mean        0.078861\n",
       "std         0.217586\n",
       "min         0.000000\n",
       "25%         0.000000\n",
       "50%         0.000000\n",
       "75%         0.022159\n",
       "max         1.000000\n",
       "Name: MA.2.1_1_AC ror, dtype: float64"
      ]
     },
     "metadata": {},
     "output_type": "display_data"
    }
   ],
   "source": [
    "n.generators_t.p_max_pu[\"MA.2.1_1_AC ror\"].describe()"
   ]
  },
  {
   "cell_type": "code",
   "execution_count": 19,
   "metadata": {},
   "outputs": [
    {
     "data": {
      "text/plain": [
       "<AxesSubplot:xlabel='snapshot'>"
      ]
     },
     "execution_count": 19,
     "metadata": {},
     "output_type": "execute_result"
    },
    {
     "data": {
      "image/png": "[encoded data removed]",
      "text/plain": [
       "<Figure size 640x480 with 1 Axes>"
      ]
     },
     "metadata": {},
     "output_type": "display_data"
    }
   ],
   "source": [
    "n.generators_t.p_max_pu[\"MA.2.1_1_AC ror\"].plot()"
   ]
  }
 ],
 "metadata": {
  "kernelspec": {
   "display_name": "Python 3",
   "language": "python",
   "name": "python3"
  },
  "language_info": {
   "codemirror_mode": {
    "name": "ipython",
    "version": 3
   },
   "file_extension": ".py",
   "mimetype": "text/x-python",
   "name": "python",
   "nbconvert_exporter": "python",
   "pygments_lexer": "ipython3",
   "version": "3.10.12"
  },
  "orig_nbformat": 4
 },
 "nbformat": 4,
 "nbformat_minor": 2
}

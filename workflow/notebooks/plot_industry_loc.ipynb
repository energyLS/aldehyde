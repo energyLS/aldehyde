{
 "cells": [
  {
   "cell_type": "code",
   "execution_count": null,
   "metadata": {},
   "outputs": [],
   "source": [
    "import pandas as pd\n",
    "import numpy as np\n",
    "import matplotlib.pyplot as plt\n",
    "import seaborn as sns\n",
    "import plotly.express as px\n",
    "import hvplot.pandas"
   ]
  },
  {
   "cell_type": "code",
   "execution_count": null,
   "metadata": {},
   "outputs": [],
   "source": [
    "fn = \"../subworkflows/pypsa-earth-sec/data/industrial_database.csv\""
   ]
  },
  {
   "cell_type": "code",
   "execution_count": null,
   "metadata": {},
   "outputs": [],
   "source": [
    "idb = pd.read_csv(fn, index_col=0)"
   ]
  },
  {
   "cell_type": "code",
   "execution_count": null,
   "metadata": {},
   "outputs": [],
   "source": [
    "# Filter for country MA\n",
    "idb = idb[idb.index == \"MA\"]"
   ]
  },
  {
   "cell_type": "code",
   "execution_count": null,
   "metadata": {},
   "outputs": [],
   "source": [
    "idb #.head()"
   ]
  },
  {
   "cell_type": "code",
   "execution_count": null,
   "metadata": {},
   "outputs": [],
   "source": [
    "px.scatter_mapbox(\n",
    "    idb,\n",
    "    lat=\"y\",\n",
    "    lon=\"x\",\n",
    "    mapbox_style=\"carto-positron\",\n",
    "    color=\"technology\",\n",
    "    #size=\"capacity\",\n",
    "    # size\n",
    "    #hover_name=\"name\",\n",
    "    zoom=4,\n",
    "    height=600,\n",
    ")"
   ]
  },
  {
   "cell_type": "code",
   "execution_count": null,
   "metadata": {},
   "outputs": [],
   "source": [
    "import matplotlib.pyplot as plt\n",
    "import geopandas as gpd\n",
    "import contextily as ctx\n",
    "import cartopy.crs as ccrs\n",
    "import cartopy"
   ]
  },
  {
   "cell_type": "markdown",
   "metadata": {},
   "source": [
    "HV plot"
   ]
  },
  {
   "cell_type": "code",
   "execution_count": null,
   "metadata": {},
   "outputs": [],
   "source": [
    "import matplotlib.colors as mcolors"
   ]
  },
  {
   "cell_type": "code",
   "execution_count": null,
   "metadata": {},
   "outputs": [],
   "source": [
    "colors = {\n",
    "    \"Cement\": \"#80c944\",\n",
    "    \"Electric arc\": \"red\",\n",
    "    \"HVC\": \"purple\",\n",
    "}"
   ]
  },
  {
   "cell_type": "code",
   "execution_count": null,
   "metadata": {},
   "outputs": [],
   "source": [
    "df = gpd.GeoDataFrame(idb, geometry=gpd.points_from_xy(idb[\"x\"], idb[\"y\"]), crs=\"EPSG:4326\")\n",
    "crs = ccrs.AlbersEqualArea()\n",
    "\n",
    "#df = df.cx[-12:40, 35:72]\n",
    "df = df.to_crs(crs.proj4_init)\n",
    "\n",
    "fig, ax = plt.subplots(figsize=(9.5, 9.5), subplot_kw={\"projection\": crs})\n",
    "\n",
    "ax.add_feature(cartopy.feature.COASTLINE.with_scale(\"50m\"), linewidth=0.2, zorder=2)\n",
    "ax.add_feature(cartopy.feature.BORDERS.with_scale(\"50m\"), linewidth=0.2, zorder=2)\n",
    "ax.add_feature(cartopy.feature.OCEAN)\n",
    "ax.add_feature(cartopy.feature.LAND, edgecolor=\"black\")\n",
    "\n",
    "df.plot(\n",
    "    ax=ax,\n",
    "    column=\"technology\",\n",
    "    markersize=df[\"capacity\"] / 35,\n",
    "    alpha=0.75,\n",
    "    legend=True,\n",
    "    cmap=mcolors.ListedColormap(\n",
    "        pd.Series(df.technology.unique()).sort_values().map(colors).values\n",
    "    ),\n",
    "    legend_kwds=dict(title=\"Technology (size ~ capacity)\", frameon=True),\n",
    ")\n",
    "#cx.add_basemap(ax, source=cx.providers.CartoDB.Positron, zoom=10)\n",
    "\n",
    "ax.set_frame_on(False)\n",
    "ax.set_facecolor(\"white\")\n",
    "#plt.savefig(OUTPUT + \"/powerplants.pdf\", bbox_inches=\"tight\")"
   ]
  }
 ],
 "metadata": {
  "kernelspec": {
   "display_name": "pypsa-earth",
   "language": "python",
   "name": "python3"
  },
  "language_info": {
   "codemirror_mode": {
    "name": "ipython",
    "version": 3
   },
   "file_extension": ".py",
   "mimetype": "text/x-python",
   "name": "python",
   "nbconvert_exporter": "python",
   "pygments_lexer": "ipython3",
   "version": "3.10.12"
  }
 },
 "nbformat": 4,
 "nbformat_minor": 2
}

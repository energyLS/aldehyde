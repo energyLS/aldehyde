{
 "cells": [
  {
   "cell_type": "code",
   "execution_count": null,
   "metadata": {},
   "outputs": [],
   "source": [
    "import pandas as pd\n",
    "import numpy as np\n",
    "import matplotlib.pyplot as plt\n",
    "import seaborn as sns\n",
    "import plotly.express as px\n",
    "import hvplot.pandas"
   ]
  },
  {
   "cell_type": "code",
   "execution_count": null,
   "metadata": {},
   "outputs": [],
   "source": [
    "fn = \"../subworkflows/pypsa-earth-sec/data/industrial_database.csv\""
   ]
  },
  {
   "cell_type": "code",
   "execution_count": null,
   "metadata": {},
   "outputs": [],
   "source": [
    "OUTPUT = \"../../results/graphics_general/morocco_industry.pdf\""
   ]
  },
  {
   "cell_type": "code",
   "execution_count": null,
   "metadata": {},
   "outputs": [],
   "source": [
    "idb = pd.read_csv(fn, index_col=0)"
   ]
  },
  {
   "cell_type": "code",
   "execution_count": null,
   "metadata": {},
   "outputs": [],
   "source": [
    "# Filter for country MA\n",
    "idb = idb[idb.index == \"MA\"]"
   ]
  },
  {
   "cell_type": "code",
   "execution_count": null,
   "metadata": {},
   "outputs": [],
   "source": [
    "# Rescale unit of HVC from bpd to kt/yr (\"One BPD also becomes 49.8 tonnes per year.[14]\"https://en.wikipedia.org/wiki/Barrel_(unit)#cite_note-statrev-15)\n",
    "idb.loc[idb[\"unit\"] == \"bpd\", \"capacity\"] *= 49.8 / 1000 # from bpd to kt/yr\n",
    "# rename bpd to kt/yr\n",
    "idb.loc[idb[\"unit\"] == \"bpd\", \"unit\"] = \"kt/yr\""
   ]
  },
  {
   "cell_type": "code",
   "execution_count": null,
   "metadata": {},
   "outputs": [],
   "source": [
    "# Rename HVC to Refinery\n",
    "idb.loc[idb[\"technology\"] == \"HVC\", \"technology\"] = \"Refinery\"\n",
    "# Rename Electric arc to Steel\n",
    "idb.loc[idb[\"technology\"] == \"Electric arc\", \"technology\"] = \"Steel\""
   ]
  },
  {
   "cell_type": "code",
   "execution_count": null,
   "metadata": {},
   "outputs": [],
   "source": [
    "idb.head()"
   ]
  },
  {
   "cell_type": "code",
   "execution_count": null,
   "metadata": {},
   "outputs": [],
   "source": [
    "px.scatter_mapbox(\n",
    "    idb,\n",
    "    lat=\"y\",\n",
    "    lon=\"x\",\n",
    "    mapbox_style=\"carto-positron\",\n",
    "    color=\"technology\",\n",
    "    #size=\"capacity\",\n",
    "    # size\n",
    "    #hover_name=\"name\",\n",
    "    zoom=4,\n",
    "    height=600,\n",
    ")"
   ]
  },
  {
   "cell_type": "code",
   "execution_count": null,
   "metadata": {},
   "outputs": [],
   "source": [
    "import matplotlib.pyplot as plt\n",
    "import geopandas as gpd\n",
    "import contextily as ctx\n",
    "import cartopy.crs as ccrs\n",
    "import cartopy"
   ]
  },
  {
   "cell_type": "markdown",
   "metadata": {},
   "source": [
    "HV plot"
   ]
  },
  {
   "cell_type": "code",
   "execution_count": null,
   "metadata": {},
   "outputs": [],
   "source": [
    "import matplotlib.colors as mcolors"
   ]
  },
  {
   "cell_type": "code",
   "execution_count": null,
   "metadata": {},
   "outputs": [],
   "source": [
    "colors = {\n",
    "    \"Cement\": \"grey\",\n",
    "    \"Electric arc\": \"red\",\n",
    "    \"Steel\": \"red\",\n",
    "    \"HVC\": \"purple\",\n",
    "    \"Refinery\": \"black\",\n",
    "}"
   ]
  },
  {
   "cell_type": "code",
   "execution_count": null,
   "metadata": {},
   "outputs": [],
   "source": [
    "df = gpd.GeoDataFrame(idb, geometry=gpd.points_from_xy(idb[\"x\"], idb[\"y\"]), crs=\"EPSG:4326\")\n",
    "crs = ccrs.AlbersEqualArea()\n",
    "\n",
    "#df = df.cx[-12:40, 35:72]\n",
    "df = df.to_crs(crs.proj4_init)\n",
    "\n",
    "fig, ax = plt.subplots(figsize=(6, 6), subplot_kw={\"projection\": crs})\n",
    "\n",
    "ax.add_feature(cartopy.feature.COASTLINE.with_scale(\"10m\"), linewidth=0.2, zorder=2)\n",
    "ax.add_feature(cartopy.feature.BORDERS.with_scale(\"10m\"), linewidth=0.2, zorder=2)\n",
    "ax.add_feature(cartopy.feature.OCEAN, facecolor=\"white\", zorder=1)\n",
    "ax.add_feature(cartopy.feature.LAND, edgecolor=\"black\", facecolor=\"#f1f2f2\", zorder=1) #d1d1d1\n",
    "\n",
    "df.plot(\n",
    "    ax=ax,\n",
    "    column=\"technology\",\n",
    "    markersize=df[\"capacity\"] / 15,\n",
    "    alpha=0.7,\n",
    "    legend=True,\n",
    "    cmap=mcolors.ListedColormap(\n",
    "        pd.Series(df.technology.unique()).sort_values().map(colors).values\n",
    "    ),\n",
    "    legend_kwds=dict(title=\"Technology (size ~ capacity)\", frameon=True, facecolor=\"white\", loc=\"upper left\"),\n",
    ")\n",
    "#cx.add_basemap(ax, source=cx.providers.CartoDB.Positron, zoom=10)\n",
    "\n",
    "minx, miny, maxx, maxy = df.total_bounds\n",
    "ax.set_xlim(minx*1.1, maxx*0.5)\n",
    "ax.set_ylim(miny*0.95, maxy*1.05)\n",
    "\n",
    "ax.set_frame_on(False)\n",
    "ax.set_facecolor(\"white\")\n",
    "\n",
    "plt.savefig(OUTPUT, bbox_inches=\"tight\")"
   ]
  }
 ],
 "metadata": {
  "kernelspec": {
   "display_name": "pypsa-earth",
   "language": "python",
   "name": "python3"
  },
  "language_info": {
   "codemirror_mode": {
    "name": "ipython",
    "version": 3
   },
   "file_extension": ".py",
   "mimetype": "text/x-python",
   "name": "python",
   "nbconvert_exporter": "python",
   "pygments_lexer": "ipython3",
   "version": "3.10.12"
  }
 },
 "nbformat": 4,
 "nbformat_minor": 2
}

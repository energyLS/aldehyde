{
 "cells": [
  {
   "cell_type": "markdown",
   "metadata": {},
   "source": [
    "### Create graph of Moroccos CO2 emissions and climate targets"
   ]
  },
  {
   "cell_type": "code",
   "execution_count": null,
   "metadata": {},
   "outputs": [],
   "source": [
    "import pandas as pd\n",
    "import matplotlib.pyplot as plt\n",
    "import numpy as np"
   ]
  },
  {
   "cell_type": "code",
   "execution_count": null,
   "metadata": {},
   "outputs": [],
   "source": [
    "url = 'https://raw.githubusercontent.com/owid/co2-data/master/owid-co2-data.csv'\n",
    "df = pd.read_csv(url, index_col=0)"
   ]
  },
  {
   "cell_type": "code",
   "execution_count": null,
   "metadata": {},
   "outputs": [],
   "source": [
    "\n",
    "df.head(5)\n"
   ]
  },
  {
   "cell_type": "code",
   "execution_count": null,
   "metadata": {},
   "outputs": [],
   "source": [
    "cols = [\"year\",\"co2\", \"cement_co2\", \"total_ghg\"]\n",
    "morocco_em = df[df.iso_code=='MAR'][cols].set_index(\"year\")"
   ]
  },
  {
   "cell_type": "markdown",
   "metadata": {},
   "source": [
    "Simple plot"
   ]
  },
  {
   "cell_type": "code",
   "execution_count": null,
   "metadata": {},
   "outputs": [],
   "source": [
    "morocco_em.plot()"
   ]
  },
  {
   "cell_type": "markdown",
   "metadata": {},
   "source": [
    "Matplotlib plot"
   ]
  },
  {
   "cell_type": "code",
   "execution_count": null,
   "metadata": {},
   "outputs": [],
   "source": [
    "\n",
    "# Set up figure\n",
    "fig = plt.figure(facecolor='white')\n",
    "fig.suptitle(\"Morocco historical emissions and targets\")\n",
    "\n",
    "# Create Subplot TODO read emissions targets from config file\n",
    "ax = fig.add_subplot(1,1,1)\n",
    "ax.plot(\"co2\", data=morocco_em, label='$\\mathregular{CO_2}$ total', color=\"black\")\n",
    "ax.plot(\"cement_co2\", data=morocco_em, label='Cement', color=\"grey\")\n",
    "ax.scatter(2030, 115, label=\"2030 unconditional\", marker = 'o', color = \"green\")\n",
    "ax.scatter(2030, 75, label=\"2030 conditional\", marker = 'o', color = \"green\", alpha=0.7)\n",
    "\n",
    "ax.set_xlim(1940, 2060)\n",
    "\n",
    "# Further elements\n",
    "ax.set_ylabel(\"Emissions in Mt/year\")\n",
    "ax.set_xlabel(\"Year\")\n",
    "plt.legend()\n",
    "\n",
    "# Create graph and save it\n",
    "plt.savefig(\"../../results/graphics/morocco_em.pdf\")\n",
    "plt.show()"
   ]
  }
 ],
 "metadata": {
  "kernelspec": {
   "display_name": "Python 3.10.6 ('aldehyde')",
   "language": "python",
   "name": "python3"
  },
  "language_info": {
   "codemirror_mode": {
    "name": "ipython",
    "version": 3
   },
   "file_extension": ".py",
   "mimetype": "text/x-python",
   "name": "python",
   "nbconvert_exporter": "python",
   "pygments_lexer": "ipython3",
   "version": "3.10.6"
  },
  "orig_nbformat": 4,
  "vscode": {
   "interpreter": {
    "hash": "0dbcc051df1c9f67b8349bc93a137f4374bedf8f92eebef4493438608fd687c9"
   }
  }
 },
 "nbformat": 4,
 "nbformat_minor": 2
}

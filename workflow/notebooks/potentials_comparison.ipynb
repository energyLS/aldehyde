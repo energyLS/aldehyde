{
 "cells": [
  {
   "attachments": {},
   "cell_type": "markdown",
   "metadata": {},
   "source": [
    "## Compare Morocco potentials for onshore wind and solar\n",
    "\n",
    "Sources:\n",
    "- Hampp2021\n",
    "- Ersoy2022\n",
    "- Osemosys Starter kit?\n",
    "    - https://zenodo.org/record/7539469#.ZBl8evaZO38\n",
    "    - https://www.researchsquare.com/article/rs-480023/v2\n",
    "    \n",
    "- more research required!\n"
   ]
  },
  {
   "cell_type": "code",
   "execution_count": null,
   "metadata": {},
   "outputs": [],
   "source": [
    "import matplotlib.pyplot as plt\n",
    "import pandas as pd\n",
    "import numpy as np\n",
    "import requests"
   ]
  },
  {
   "cell_type": "code",
   "execution_count": null,
   "metadata": {},
   "outputs": [],
   "source": [
    "PATH = '/mnt/c/Users/scl38887/Documents/git/aldehyde/'"
   ]
  },
  {
   "cell_type": "code",
   "execution_count": null,
   "metadata": {},
   "outputs": [],
   "source": [
    "url = \"https://zenodo.org/record/7539469/files/Table8_MAR.csv\"\n",
    "\n",
    "response = requests.get(url)\n",
    "\n",
    "if response.status_code == 200:\n",
    "    # Replace \"myfile.txt\" with the name you want to save the downloaded file\n",
    "    with open(\"../../data/osemosys_starterkit/Table8_Mar.csv\", \"wb\") as f:\n",
    "        f.write(response.content)\n",
    "    print(\"Downloaded successfully.\")\n",
    "else:\n",
    "    print(\"Failed to download. Status code:\", response.status_code)"
   ]
  },
  {
   "cell_type": "code",
   "execution_count": null,
   "metadata": {},
   "outputs": [],
   "source": [
    "# Read data\n",
    "df = pd.read_csv(PATH+'data/potentials_research.csv', index_col=0)\n",
    "df.drop('link', axis=1, inplace=True)\n",
    "df"
   ]
  },
  {
   "cell_type": "code",
   "execution_count": null,
   "metadata": {},
   "outputs": [],
   "source": [
    "import matplotlib.pyplot as plt\n",
    "import numpy as np\n",
    "\n",
    "# transpose the dataframe\n",
    "df_plot = df.transpose()\n",
    "\n",
    "# get the index values\n",
    "index = np.arange(len(df_plot['ChatGPT']))\n",
    "\n",
    "# get the width of each bar\n",
    "width = 0.25\n",
    "\n",
    "fig, ax = plt.subplots(figsize=(10, 5))\n",
    "\n",
    "# create the bars for each technology\n",
    "chatgpt = plt.bar(index, df_plot['ChatGPT'], width, label='ChatGPT', color='green', alpha=1)\n",
    "ersoy = plt.bar(index + width, df_plot['Ersoy2022'], width, label='Ersoy2022', color='green', alpha=0.6)\n",
    "hampp = plt.bar(index + 2 * width, df_plot['Hampp2021'], width, label='Hampp2021', color='green', alpha=0.3)\n",
    "\n",
    "# add labels and title\n",
    "plt.ylabel('Potential in TWh')\n",
    "plt.title('RE Potentials in Morocco')\n",
    "plt.xticks(np.arange(len(df_plot['ChatGPT'])) + width, [\"PV\", \"Onshore\", \"CSP\"])\n",
    "plt.grid(alpha=0.3)\n",
    "plt.legend(loc='upper right')\n",
    "\n",
    "# save the plot\n",
    "plt.savefig(PATH+'results/graphics_general/potentials_comparison/barplot_potentials.pdf', bbox_inches='tight')\n",
    "\n",
    "# show the plot\n",
    "plt.show()\n"
   ]
  },
  {
   "cell_type": "code",
   "execution_count": null,
   "metadata": {},
   "outputs": [],
   "source": [
    "# Plot the graph which is stored in results/graphics/morocco_potentials_IEE.png\n",
    "OUTPUT='/mnt/c/Users/scl38887/Documents/git/aldehyde/results/graphics/potentials_comparison/'\n",
    "plt.figure(figsize=(10, 10))\n",
    "plt.imshow(plt.imread(OUTPUT + 'morocco_potentials_IEE.png'))\n",
    "\n"
   ]
  }
 ],
 "metadata": {
  "kernelspec": {
   "display_name": "Python 3 (ipykernel)",
   "language": "python",
   "name": "python3"
  },
  "language_info": {
   "codemirror_mode": {
    "name": "ipython",
    "version": 3
   },
   "file_extension": ".py",
   "mimetype": "text/x-python",
   "name": "python",
   "nbconvert_exporter": "python",
   "pygments_lexer": "ipython3",
   "version": "3.10.9"
  },
  "orig_nbformat": 4,
  "vscode": {
   "interpreter": {
    "hash": "0dbcc051df1c9f67b8349bc93a137f4374bedf8f92eebef4493438608fd687c9"
   }
  }
 },
 "nbformat": 4,
 "nbformat_minor": 2
}

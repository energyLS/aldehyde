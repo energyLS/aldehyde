{
 "cells": [
  {
   "cell_type": "code",
   "execution_count": 1,
   "metadata": {},
   "outputs": [],
   "source": [
    "import pandas as pd\n",
    "import numpy as np\n",
    "import matplotlib.pyplot as plt\n",
    "import pypsa\n",
    "import seaborn as sns"
   ]
  },
  {
   "cell_type": "code",
   "execution_count": 2,
   "metadata": {},
   "outputs": [],
   "source": [
    "EXPORT = 1\n",
    "CO2L = 2.0\n",
    "CLUSTERS = 4\n",
    "H = 3\n",
    "LL = \"3.0\"\n",
    "DISCOUNT_RATE = 0.13\n",
    "\n",
    "RUN = \"decr_14_3h_ws\"\n",
    "CATEGORY = \"postnetworks\"\n",
    "SCENARIO = f\"elec_s_{CLUSTERS}_ec_lc{LL}_Co2L{CO2L}_{H}H_2030_{DISCOUNT_RATE}_DF_{EXPORT}export\"\n",
    "\n",
    "#OVERRIDES = PATH + \"pypsa-eur-sec/data/override_component_attrs\"\n",
    "\n",
    "PREFIX = \"/mnt/c/Users/scl38887/Documents/git/aldehyde/\"\n",
    "OUTPUT = PREFIX + \"results\"\n",
    "INPUT = PREFIX + f\"workflow/subworkflows/pypsa-earth-sec/results/{RUN}/{CATEGORY}/{SCENARIO}.nc\"\n",
    "OUTPUT_SCENARIO = f\"{OUTPUT}/{RUN}/graphics/demand/{SCENARIO}\"\n",
    "OUTPUT_RAW = f\"{OUTPUT}/{RUN}/graphics/demand/\""
   ]
  },
  {
   "cell_type": "code",
   "execution_count": 3,
   "metadata": {},
   "outputs": [
    {
     "name": "stderr",
     "output_type": "stream",
     "text": [
      "WARNING:pypsa.io:Importing network from PyPSA version v0.24.0 while current version is v0.26.2. Read the release notes at https://pypsa.readthedocs.io/en/latest/release_notes.html to prepare your network for import.\n",
      "INFO:pypsa.io:Imported network elec_s_4_ec_lc3.0_Co2L2.0_3H_2030_0.13_DF_1export.nc has buses, carriers, generators, global_constraints, lines, links, loads, storage_units, stores\n"
     ]
    }
   ],
   "source": [
    "n = pypsa.Network(INPUT)"
   ]
  },
  {
   "cell_type": "markdown",
   "metadata": {},
   "source": [
    "### Marginal prices of all carriers"
   ]
  },
  {
   "cell_type": "code",
   "execution_count": 26,
   "metadata": {},
   "outputs": [],
   "source": [
    "def get_bus_demand(n, busname, carrier_limit=False, carrier_limit_integration=False):\n",
    "    \"\"\"Get the demand at a certain bus (includes stores/StorageUnits) based on the energy_balance() function\n",
    "\n",
    "    Parameters\n",
    "    ----------\n",
    "    busname : _type_\n",
    "        _description_\n",
    "    n : _type_\n",
    "        _description_\n",
    "    \"\"\"\n",
    "\n",
    "    # Get the energy balance of the bus specified in busname\n",
    "    if carrier_limit == False:\n",
    "        energy_balance_bus = energy_balance.loc[:, :, :, busname]\n",
    "    else:\n",
    "        if carrier_limit_integration == \"inclusive\":\n",
    "            energy_balance_bus = energy_balance.loc[:,carrier_limit, :, busname]\n",
    "\n",
    "        elif carrier_limit_integration == \"exclusive\":  # exclude carrier_limit\n",
    "            energy_balance_bus = energy_balance.loc[:, :, :, busname]\n",
    "            # Create a boolean mask to exclude rows with 'carrier_limit' in the third level\n",
    "            condition = energy_balance_bus.index.get_level_values(1) != carrier_limit\n",
    "            energy_balance_bus = energy_balance_bus[condition]  \n",
    "        else:\n",
    "            logging.error(\"carrier_limit_integration must be 'inclusive' or 'exclusive'\")\n",
    "\n",
    "    # Filter for negative values, filter out Stores/StorageUnits, filter out export links \"H2\" which are not in \"H2 export buses\", and sum them up. Inclues H2 pipeline\n",
    "    demand = energy_balance_bus[energy_balance_bus < 0]\n",
    "    demand = demand[(demand.index.get_level_values(0) != \"Store\") & (demand.index.get_level_values(0) != \"StorageUnit\")]\n",
    "    demand = demand[(demand.index.get_level_values(1) != \"H2\") | (demand.index.get_level_values(3) == \"H2 export bus\")]\n",
    "    demand = demand.groupby(\"bus\").sum()\n",
    "\n",
    "    #only when demand.index.get_level_values(1) == \"H2 export bus\" dann wird gekickt\n",
    "\n",
    "    return demand.transpose()"
   ]
  },
  {
   "cell_type": "code",
   "execution_count": 27,
   "metadata": {},
   "outputs": [],
   "source": [
    "energy_balance = n.statistics.energy_balance(aggregate_bus=False, aggregate_time=False)\n",
    "carrier = \"AC\"\n",
    "buses_sel = n.buses[n.buses.carrier == carrier].index\n",
    "demand = get_bus_demand(n, buses_sel, carrier_limit=\"H2 Electrolysis\", carrier_limit_integration=\"exclusive\")"
   ]
  },
  {
   "cell_type": "code",
   "execution_count": 28,
   "metadata": {},
   "outputs": [
    {
     "data": {
      "text/plain": [
       "-90.27539911876887"
      ]
     },
     "execution_count": 28,
     "metadata": {},
     "output_type": "execute_result"
    }
   ],
   "source": [
    "demand.sum().sum() * n.snapshot_weightings.generators[0] / 1e6"
   ]
  },
  {
   "cell_type": "code",
   "execution_count": 22,
   "metadata": {},
   "outputs": [],
   "source": [
    "loads = n.loads_t.p.groupby(n.loads.carrier, axis=1).sum()\n",
    "ac_buses = n.buses[n.buses.carrier == \"AC\"]\n",
    "ac_loads = n.loads.loc[n.loads.bus.isin(ac_buses.index)].carrier.unique()\n",
    "# Sum of demand through loads on AC buses\n",
    "el_base_demand = (loads.loc[:, ac_loads].sum() * n.snapshot_weightings.generators[0] / 1e6).sum().round(2) # TWh"
   ]
  },
  {
   "cell_type": "code",
   "execution_count": 23,
   "metadata": {},
   "outputs": [
    {
     "data": {
      "text/plain": [
       "55.37"
      ]
     },
     "execution_count": 23,
     "metadata": {},
     "output_type": "execute_result"
    }
   ],
   "source": [
    "el_base_demand"
   ]
  },
  {
   "cell_type": "markdown",
   "metadata": {},
   "source": [
    "### Test energy balance stats"
   ]
  },
  {
   "cell_type": "code",
   "execution_count": 11,
   "metadata": {},
   "outputs": [
    {
     "data": {
      "text/plain": [
       "component    carrier                                     \n",
       "StorageUnit  Pumped Hydro Storage                           -6.789124e+01\n",
       "             Reservoir & Dam                                 1.021541e+07\n",
       "Link         DAC                                            -6.204297e+01\n",
       "             H2 Electrolysis                                -2.160430e+06\n",
       "             H2 Fuel Cell                                    7.923148e+01\n",
       "             Open-Cycle Gas                                  2.907694e+02\n",
       "             battery charger                                -2.692366e+03\n",
       "             battery discharger                              2.584672e+03\n",
       "             biomass EOP                                     1.466495e+01\n",
       "             helmeth                                        -1.111325e+02\n",
       "             residential rural ground heat pump             -1.098944e+02\n",
       "             residential rural resistive heater             -3.022088e+02\n",
       "             residential urban decentral air heat pump      -1.413021e+02\n",
       "             residential urban decentral resistive heater   -3.025233e+02\n",
       "             services rural ground heat pump                -1.098943e+02\n",
       "             services rural resistive heater                -3.022105e+02\n",
       "             services urban decentral air heat pump         -1.637134e+02\n",
       "             services urban decentral resistive heater      -3.299206e+02\n",
       "             urban central air heat pump                    -3.979298e+02\n",
       "             urban central gas CHP                           4.233857e+02\n",
       "             urban central gas CHP CC                        2.503711e+02\n",
       "             urban central resistive heater                 -7.141603e+02\n",
       "             urban central solid biomass CHP                 2.286476e+01\n",
       "             urban central solid biomass CHP CC              1.273695e+01\n",
       "Generator    Coal                                            4.310416e+07\n",
       "             Combined-Cycle Gas                              3.579226e+03\n",
       "             Offshore Wind (AC)                              1.999297e+00\n",
       "             Oil                                             2.084615e+01\n",
       "             Onshore Wind                                    2.658151e+06\n",
       "             Run of River                                    1.255090e+06\n",
       "             Solar                                           2.995488e+05\n",
       "Load          rail transport electricity                    -5.789569e+05\n",
       "             AC                                             -2.558976e+07\n",
       "             agriculture electricity                        -4.123082e+06\n",
       "             industry electricity                           -1.655167e+07\n",
       "             services electricity                           -8.529933e+06\n",
       "dtype: float64"
      ]
     },
     "execution_count": 11,
     "metadata": {},
     "output_type": "execute_result"
    }
   ],
   "source": [
    "n.statistics.dispatch(bus_carrier=\"AC\")"
   ]
  },
  {
   "cell_type": "markdown",
   "metadata": {},
   "source": [
    "### Average nodal prices of all carriers"
   ]
  },
  {
   "cell_type": "code",
   "execution_count": 10,
   "metadata": {},
   "outputs": [],
   "source": [
    "def get_nodal_prices(n):\n",
    "    return (\n",
    "        n.buses_t.marginal_price.mean()\n",
    "        .groupby([n.buses.location, n.buses.carrier])\n",
    "        .first()\n",
    "        .unstack()\n",
    "    )"
   ]
  },
  {
   "cell_type": "code",
   "execution_count": 13,
   "metadata": {},
   "outputs": [],
   "source": [
    "def get_mean_prices(n):\n",
    "    return (\n",
    "        n.buses_t.marginal_price.mean()\n",
    "        .groupby([n.buses.carrier])\n",
    "        .first()\n",
    "    )"
   ]
  },
  {
   "cell_type": "code",
   "execution_count": 12,
   "metadata": {},
   "outputs": [
    {
     "data": {
      "text/plain": [
       "carrier\n",
       "AC                                          54.764191\n",
       "H2                                          90.253097\n",
       "Li ion                                      52.280194\n",
       "battery                                     54.771567\n",
       "biogas                                      72.662175\n",
       "co2                                       -457.453221\n",
       "co2 stored                                -252.124248\n",
       "gas                                        -15.637795\n",
       "gas for industry                            54.202242\n",
       "oil                                         50.010045\n",
       "process emissions                         -322.062878\n",
       "residential rural heat                       8.600139\n",
       "residential rural water tanks               10.250459\n",
       "residential urban decentral heat            10.078868\n",
       "residential urban decentral water tanks     12.009825\n",
       "services rural heat                          8.601819\n",
       "services rural water tanks                  10.252680\n",
       "services urban decentral heat               32.136573\n",
       "services urban decentral water tanks        32.157865\n",
       "solid biomass                              415.182282\n",
       "solid biomass for industry                 405.660780\n",
       "urban central heat                          35.182008\n",
       "urban central water tanks                   35.122864\n",
       "dtype: float64"
      ]
     },
     "execution_count": 12,
     "metadata": {},
     "output_type": "execute_result"
    }
   ],
   "source": [
    "df = get_nodal_prices(n)\n",
    "df"
   ]
  }
 ],
 "metadata": {
  "kernelspec": {
   "display_name": "Python 3",
   "language": "python",
   "name": "python3"
  },
  "language_info": {
   "codemirror_mode": {
    "name": "ipython",
    "version": 3
   },
   "file_extension": ".py",
   "mimetype": "text/x-python",
   "name": "python",
   "nbconvert_exporter": "python",
   "pygments_lexer": "ipython3",
   "version": "3.10.11"
  }
 },
 "nbformat": 4,
 "nbformat_minor": 2
}

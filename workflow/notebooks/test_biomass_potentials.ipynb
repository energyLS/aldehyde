{
 "cells": [
  {
   "cell_type": "code",
   "execution_count": null,
   "metadata": {},
   "outputs": [],
   "source": [
    "import pandas as pd\n",
    "import numpy as np\n",
    "import matplotlib.pyplot as plt\n",
    "import pypsa\n",
    "import seaborn as sns"
   ]
  },
  {
   "cell_type": "code",
   "execution_count": null,
   "metadata": {},
   "outputs": [],
   "source": [
    "EXPORT = 0\n",
    "CO2L = 0.90\n",
    "CLUSTERS = 4\n",
    "H = 144\n",
    "LL = \"3.0\"\n",
    "DISCOUNT_RATE = 0.15\n",
    "\n",
    "RUN = \"newmain_96l_seq20_144H_ws\"\n",
    "CATEGORY = \"postnetworks\"\n",
    "SCENARIO = f\"elec_s_{CLUSTERS}_ec_lc{LL}_Co2L{CO2L}0_{H}H_2030_{DISCOUNT_RATE}_DF_{EXPORT}export\"\n",
    "\n",
    "#OVERRIDES = PATH + \"pypsa-eur-sec/data/override_component_attrs\"\n",
    "\n",
    "PREFIX = \"/mnt/c/Users/scl38887/Documents/git/aldehyde/\"\n",
    "OUTPUT = PREFIX + \"results\"\n",
    "INPUT = PREFIX + f\"workflow/subworkflows/pypsa-earth-sec/results/{RUN}/{CATEGORY}/{SCENARIO}.nc\"\n",
    "OUTPUT_SCENARIO = f\"{OUTPUT}/{RUN}/graphics/demand/{SCENARIO}\"\n",
    "OUTPUT_RAW = f\"{OUTPUT}/{RUN}/graphics/demand/\""
   ]
  },
  {
   "cell_type": "code",
   "execution_count": null,
   "metadata": {},
   "outputs": [],
   "source": [
    "n = pypsa.Network(INPUT)"
   ]
  },
  {
   "cell_type": "code",
   "execution_count": null,
   "metadata": {},
   "outputs": [],
   "source": [
    "len(n.stores[n.stores.carrier==\"solid biomass\"].index)"
   ]
  },
  {
   "cell_type": "code",
   "execution_count": null,
   "metadata": {},
   "outputs": [],
   "source": [
    "n.stores_t.e.loc[:,n.stores[n.stores.carrier==\"solid biomass\"].index].sum(axis=1).plot()"
   ]
  },
  {
   "cell_type": "code",
   "execution_count": null,
   "metadata": {},
   "outputs": [],
   "source": [
    "#n.loads.carrier.unique() \n",
    "n.loads_t.p.loc[:,n.loads[n.loads.carrier.str.contains(\"biomass\")].index].sum(axis=1).sum() * n.snapshot_weightings.generators[0]/1e6 # Demand in TWh biomass"
   ]
  },
  {
   "cell_type": "code",
   "execution_count": null,
   "metadata": {},
   "outputs": [],
   "source": [
    "14*2.2"
   ]
  }
 ],
 "metadata": {
  "kernelspec": {
   "display_name": "Python 3",
   "language": "python",
   "name": "python3"
  },
  "language_info": {
   "codemirror_mode": {
    "name": "ipython",
    "version": 3
   },
   "file_extension": ".py",
   "mimetype": "text/x-python",
   "name": "python",
   "nbconvert_exporter": "python",
   "pygments_lexer": "ipython3",
   "version": "3.10.11"
  }
 },
 "nbformat": 4,
 "nbformat_minor": 2
}

{
 "cells": [
  {
   "cell_type": "code",
   "execution_count": null,
   "metadata": {},
   "outputs": [],
   "source": [
    "import pandas as pd\n",
    "import numpy as np\n",
    "import matplotlib.pyplot as plt\n",
    "import pypsa\n",
    "import seaborn as sns"
   ]
  },
  {
   "cell_type": "code",
   "execution_count": null,
   "metadata": {},
   "outputs": [],
   "source": [
    "EXPORT = 0\n",
    "CO2L = 0.00 #\n",
    "CLUSTERS = 4\n",
    "H = 144\n",
    "LL = \"3.0\"\n",
    "DISCOUNT_RATE = 0.13\n",
    "\n",
    "RUN = \"decr_2_144H_ws\" #\"dyntrans_full_3H_ws\"\n",
    "CATEGORY = \"postnetworks\"\n",
    "if CO2L == 2.0:\n",
    "    SCENARIO = f\"elec_s_{CLUSTERS}_ec_lc{LL}_Co2L{CO2L:.1f}_{H}H_2030_{DISCOUNT_RATE}_DF_{EXPORT}export\"\n",
    "else:\n",
    "    SCENARIO = f\"elec_s_{CLUSTERS}_ec_lc{LL}_Co2L{CO2L:.2f}_{H}H_2030_{DISCOUNT_RATE}_DF_{EXPORT}export\"\n",
    "\n",
    "#OVERRIDES = PATH + \"pypsa-eur-sec/data/override_component_attrs\"\n",
    "\n",
    "PREFIX = \"/mnt/c/Users/scl38887/Documents/git/aldehyde/\"\n",
    "OUTPUT = PREFIX + \"results\"\n",
    "INPUT = PREFIX + f\"workflow/subworkflows/pypsa-earth-sec/results/{RUN}/{CATEGORY}/{SCENARIO}.nc\"\n",
    "OUTPUT_SCENARIO = f\"{OUTPUT}/{RUN}/graphics/demand/{SCENARIO}\"\n",
    "OUTPUT_RAW = f\"{OUTPUT}/{RUN}/graphics/demand/\""
   ]
  },
  {
   "cell_type": "code",
   "execution_count": null,
   "metadata": {},
   "outputs": [],
   "source": [
    "n = pypsa.Network(INPUT)"
   ]
  },
  {
   "cell_type": "code",
   "execution_count": null,
   "metadata": {},
   "outputs": [],
   "source": [
    "n.stores_t.e.loc[:,n.stores[n.stores.carrier==\"solid biomass\"].index].sum(axis=1).plot()"
   ]
  },
  {
   "cell_type": "code",
   "execution_count": null,
   "metadata": {},
   "outputs": [],
   "source": [
    "n.stores_t.e.loc[:,n.stores[n.stores.carrier==\"biogas\"].index].sum(axis=1).plot()"
   ]
  },
  {
   "cell_type": "code",
   "execution_count": null,
   "metadata": {},
   "outputs": [],
   "source": [
    "bm_loads = n.loads[n.loads.carrier.str.contains(\"biomass\")].carrier.unique()\n",
    "\n",
    "for carrier in bm_loads:\n",
    "    demand = n.loads_t.p.loc[:,n.loads[n.loads.carrier == carrier].index].sum(axis=1).sum() * n.snapshot_weightings.genesrators[0]/1e6 # Demand in TWh biomass\n",
    "    print(f\"{carrier}: {demand:.2f} TWh\")\n"
   ]
  },
  {
   "cell_type": "code",
   "execution_count": null,
   "metadata": {},
   "outputs": [],
   "source": [
    "0.97+5.33+7.24"
   ]
  },
  {
   "cell_type": "markdown",
   "metadata": {},
   "source": [
    "scenario dyntrans:\n",
    "- solid biomass for industry: 0.00 TWh\n",
    "- residential biomass: 5.30 TWh\n",
    "- biomass emissions: -5.68 TWh (removed in newer versions, fixed [here](https://github.com/pypsa-meets-earth/pypsa-earth-sec/pull/245))\n",
    "- services biomass: 7.22 TWh\n",
    "\n",
    "scenario decr_2_144H:\n",
    "- solid biomass for industry: 0.97 TWh\n",
    "- residential biomass: 5.33 TWh\n",
    "- services biomass: 7.24 TWh"
   ]
  },
  {
   "cell_type": "code",
   "execution_count": null,
   "metadata": {},
   "outputs": [],
   "source": [
    "14*0.9 # 13 is not sufficient, 14 is"
   ]
  },
  {
   "cell_type": "markdown",
   "metadata": {},
   "source": [
    "Other industry demands"
   ]
  },
  {
   "cell_type": "code",
   "execution_count": null,
   "metadata": {},
   "outputs": [],
   "source": [
    "n.loads_t.p.loc[:,n.loads[n.loads.carrier == \"naphtha for industry\"].index].sum(axis=0).sum() * n.snapshot_weightings.generators[0]/1e6 # Demand in TWh biomass"
   ]
  },
  {
   "cell_type": "code",
   "execution_count": null,
   "metadata": {},
   "outputs": [],
   "source": [
    "n.loads_t.p.loc[:,n.loads[n.loads.carrier == \"gas for industry\"].index].sum(axis=0).sum() * n.snapshot_weightings.generators[0]/1e6 # Demand in TWh biomass"
   ]
  }
 ],
 "metadata": {
  "kernelspec": {
   "display_name": "Python 3",
   "language": "python",
   "name": "python3"
  },
  "language_info": {
   "codemirror_mode": {
    "name": "ipython",
    "version": 3
   },
   "file_extension": ".py",
   "mimetype": "text/x-python",
   "name": "python",
   "nbconvert_exporter": "python",
   "pygments_lexer": "ipython3",
   "version": "3.10.11"
  }
 },
 "nbformat": 4,
 "nbformat_minor": 2
}

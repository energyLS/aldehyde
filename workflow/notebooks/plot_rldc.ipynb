{
 "cells": [
  {
   "cell_type": "code",
   "execution_count": 1,
   "metadata": {},
   "outputs": [],
   "source": [
    "import pandas as pd\n",
    "import numpy as np\n",
    "import matplotlib.pyplot as plt\n",
    "import pypsa\n",
    "import os"
   ]
  },
  {
   "cell_type": "code",
   "execution_count": 3,
   "metadata": {},
   "outputs": [],
   "source": [
    "run = \"decr_13_3H_ws\"\n",
    "prefix = \"/mnt/c/Users/scl38887/Documents/git/aldehyde/workflow/subworkflows/pypsa-earth-sec/results/\" + run + \"/postnetworks/\"\n",
    "output = \"/mnt/c/Users/scl38887/Documents/git/aldehyde/results/\" + run + \"/graphics/rldc/\""
   ]
  },
  {
   "cell_type": "code",
   "execution_count": 4,
   "metadata": {},
   "outputs": [
    {
     "name": "stderr",
     "output_type": "stream",
     "text": [
      "WARNING:pypsa.io:Importing network from PyPSA version v0.24.0 while current version is v0.26.2. Read the release notes at https://pypsa.readthedocs.io/en/latest/release_notes.html to prepare your network for import.\n",
      "INFO:pypsa.io:Imported network elec_s_4_ec_lc3.0_Co2L2.0_3H_2030_0.13_DF_200export.nc has buses, carriers, generators, global_constraints, lines, links, loads, storage_units, stores\n"
     ]
    }
   ],
   "source": [
    "path = \"elec_s_4_ec_lc3.0_Co2L2.0_3H_2030_0.13_DF_200export.nc\"\n",
    "n = pypsa.Network(prefix + path)"
   ]
  },
  {
   "cell_type": "code",
   "execution_count": 5,
   "metadata": {},
   "outputs": [],
   "source": [
    "RUNS = { \"noghc\": \"decr_14_3h_ws\",\n",
    "        \"annual\": \"decr_16_3h_ws\",\n",
    "        \"monthly\": \"decr_15_3h_ws\",\n",
    "        \"hourly\": \"decr_13_3h_ws\",\n",
    "       }\n",
    "ghrules = [\"noghc\",\"annual\", \"monthly\", \"hourly\"]\n",
    "\n",
    "PREFIX = \"/mnt/c/Users/scl38887/Documents/git/aldehyde/\"\n",
    "OUTPUT = PREFIX + \"results/gh/\""
   ]
  },
  {
   "cell_type": "code",
   "execution_count": 14,
   "metadata": {},
   "outputs": [],
   "source": [
    "EXPORT = 200\n",
    "CO2L = 2.0\n",
    "CLUSTERS = 4\n",
    "H = 3\n",
    "LL = \"3.0\"\n",
    "DISCOUNT_RATE = 0.13\n",
    "\n",
    "RUN = \"decr_13_3H_ws\"\n",
    "CATEGORY = \"postnetworks\"\n",
    "SCENARIO = f\"elec_s_{CLUSTERS}_ec_lc{LL}_Co2L{CO2L}_{H}H_2030_{DISCOUNT_RATE}_DF_{EXPORT}export\"\n",
    "\n",
    "#OVERRIDES = PATH + \"pypsa-eur-sec/data/override_component_attrs\"\n",
    "\n",
    "PREFIX = \"/mnt/c/Users/scl38887/Documents/git/aldehyde/\"\n",
    "OUTPUT = PREFIX + \"results\"\n",
    "INPUT = PREFIX + f\"workflow/subworkflows/pypsa-earth-sec/results/{RUN}/{CATEGORY}/{SCENARIO}.nc\"\n",
    "OUTPUT_SCENARIO = f\"{OUTPUT}/{RUN}/graphics/rldc/{SCENARIO}\"\n",
    "OUTPUT_RAW = f\"{OUTPUT}/{RUN}/graphics/rldc/\""
   ]
  },
  {
   "cell_type": "code",
   "execution_count": null,
   "metadata": {},
   "outputs": [],
   "source": [
    "load_local = n.loads_t.p_set[n.loads[n.loads.carrier == \"AC\"].index].sum(axis=1)\n",
    "load_local.sum()*3 / 1e6"
   ]
  },
  {
   "cell_type": "code",
   "execution_count": null,
   "metadata": {},
   "outputs": [],
   "source": [
    "def calculate_rlc(n, resample, incl_curtailment, incl_hy_load, time_sorted):\n",
    "\n",
    "    # Get load\n",
    "    load_local = n.loads_t.p_set[n.loads[n.loads.carrier == \"AC\"].index].sum(axis=1)\n",
    "    load_electrolysis = n.links_t.p0.loc[:, n.links.carrier == \"H2 Electrolysis\"].sum(axis=1)\n",
    "\n",
    "    # Get feed-in of wind \n",
    "    wind_power = n.generators.p_nom_opt[n.generators[n.generators.carrier == \"onwind\"].index]\n",
    "    wind_profile = n.generators_t.p_max_pu[n.generators[n.generators.carrier == \"onwind\"].index]\n",
    "    wind_feed_in = n.generators_t.p[n.generators[n.generators.carrier == \"onwind\"].index].sum(axis=1)\n",
    "    wind_feed_in_max = (wind_power * wind_profile).sum(axis=1)    \n",
    "\n",
    "    # Get feed-in of solar\n",
    "    solar_power = n.generators.p_nom_opt[n.generators[n.generators.carrier == \"solar\"].index]\n",
    "    solar_profile = n.generators_t.p_max_pu[n.generators[n.generators.carrier == \"solar\"].index]\n",
    "    solar_feed_in = n.generators_t.p[n.generators[n.generators.carrier == \"solar\"].index].sum(axis=1)\n",
    "    solar_feed_in_max = (solar_power * solar_profile).sum(axis=1)\n",
    "\n",
    "    if incl_hy_load == True:\n",
    "        load = load_local + load_electrolysis\n",
    "    elif incl_hy_load == False:\n",
    "        load = load_local\n",
    "\n",
    "    # Calculate residual load, if we don't consider curtailment\n",
    "    if incl_curtailment == False:\n",
    "        rlc = load - wind_feed_in_max - solar_feed_in_max\n",
    "    elif incl_curtailment == True:\n",
    "        rlc = load - wind_feed_in - solar_feed_in\n",
    "\n",
    "    # Average hourly, daily, weekly\n",
    "    if resample != False:\n",
    "        rlc = rlc.resample(resample).mean().ffill()\n",
    "\n",
    "    if time_sorted == True:\n",
    "        # Sort residual load\n",
    "        rlc = rlc.sort_values(ascending=False)\n",
    "        rlc = rlc.reset_index(drop=True)\n",
    "\n",
    "    return rlc"
   ]
  },
  {
   "cell_type": "code",
   "execution_count": null,
   "metadata": {},
   "outputs": [],
   "source": [
    "def reverse_mitigation(m):\n",
    "    # if m is bigger than 1, set it to 1\n",
    "    if m > 1:\n",
    "        m = 1\n",
    "    return int(np.round((1 - m)*100, 4))   "
   ]
  },
  {
   "cell_type": "code",
   "execution_count": null,
   "metadata": {},
   "outputs": [],
   "source": [
    "#resampling = \"H\"\n",
    "incl_curtailed = True\n",
    "\n",
    "#xlabel = {\"H\": \"Hours\", \"D\": \"Days\", \"W\": \"Weeks\"}\n",
    "mitigation = [0.10] #[2.0, 0.90, 0.80, 0.70, 0.60, 0.50, 0.40, 0.30, 0.20, 0.10]\n",
    "\n",
    "fig = plt.figure(figsize=(10, 5))\n",
    "\n",
    "# Get and plot the data\n",
    "for m in mitigation:\n",
    "\n",
    "    m = str(m) + \"0\" if m < 1 else str(m) \n",
    "    path = \"elec_s_4_ec_lc3.0_Co2L\" + str(m) + \"_3H_2030_0.13_DF_200export.nc\"\n",
    "    n = pypsa.Network(prefix + path)\n",
    "    \n",
    "    rlc = calculate_rlc(n, False, False, False)\n",
    "    average_day = rlc.resample('H').mean()\n",
    "    rlc_curtail = calculate_rlc(n, False, True, False)\n",
    "    average_day_curtailed = rlc_curtail.resample('H').mean()\n",
    "    plt.plot(average_day_curtailed.index.hour, average_day_curtailed, marker='o', linestyle= 'none', label = 'uncurtailed')\n",
    "    plt.plot(average_day.index.hour, average_day, marker='o', linestyle= 'none', label = 'curtailed')\n",
    "\n",
    "# Add a title\n",
    "plt.title(\"Diurnal Feed-in & Curtailment (90% mitigation)\")\n",
    "\n",
    "# Add axis labels\n",
    "plt.xlabel('Hour of the day')\n",
    "plt.ylabel(\"Residual Load in MW\")\n",
    "#plt.xlim(0, 23)\n",
    "plt.xticks(range(0, 24))\n",
    "plt.legend(loc=\"lower left\")\n",
    "plt.grid()\n",
    "\n",
    "plt.tight_layout()\n",
    "plt.savefig(output + \"rlc_diurnal_curtdiff\" + \".pdf\")\n",
    "plt.show()"
   ]
  },
  {
   "cell_type": "code",
   "execution_count": null,
   "metadata": {},
   "outputs": [],
   "source": [
    "#resampling = \"H\"\n",
    "incl_curtailed = True\n",
    "\n",
    "#xlabel = {\"H\": \"Hours\", \"D\": \"Days\", \"W\": \"Weeks\"}\n",
    "mitigation = [2.0, 0.90, 0.80, 0.70, 0.60, 0.50, 0.40, 0.30, 0.20, 0.10] #[2.0, 0.50, 0.10]\n",
    "\n",
    "fig = plt.figure(figsize=(10, 5))\n",
    "\n",
    "# Get and plot the data\n",
    "for m in mitigation:\n",
    "\n",
    "    m = str(m) + \"0\" if m < 1 else str(m) \n",
    "    path = \"elec_s_4_ec_lc3.0_Co2L\" + str(m) + \"_3H_2030_0.13_DF_200export.nc\"\n",
    "    n = pypsa.Network(prefix + path)\n",
    "    \n",
    "    rlc = calculate_rlc(n, resample=\"W\", incl_curtailed=incl_curtailed, time_sorted=False)\n",
    "    plt.step(rlc.index, rlc, where='mid',  label=str(reverse_mitigation(eval(m))) + \"%\", color=\"green\", alpha=1-reverse_mitigation(eval(m))*0.007)\n",
    "\n",
    "# Add a title\n",
    "plt.title(\"Annual (weekly-avg.) Residual Load Curve\")\n",
    "\n",
    "# Add axis labels\n",
    "#plt.xlabel('Hour of the day')\n",
    "plt.ylabel(\"Residual Load in MW\")\n",
    "#plt.xlim(0, 23)\n",
    "#plt.xticks(range(0, 24))\n",
    "plt.legend(loc=\"lower left\")\n",
    "plt.grid()\n",
    "\n",
    "plt.tight_layout()\n",
    "plt.savefig(output + \"rlc_annual\" + \"_inclCurt\" + str(incl_curtailed) + \".pdf\")\n",
    "plt.show()"
   ]
  },
  {
   "cell_type": "code",
   "execution_count": null,
   "metadata": {},
   "outputs": [],
   "source": [
    "#resampling = \"H\"\n",
    "# incl_curtailment = True\n",
    "# incl_hy_load = True\n",
    "m = \"0.10\"\n",
    "export = [0, 20, 40, 60, 80, 100, 120, 140, 160, 180, 200]\n",
    "\n",
    "\n",
    "fig = plt.figure(figsize=(10, 5))\n",
    "fig, axs = plt.subplots(3, 1, figsize=(10, 15))\n",
    "\n",
    "# Get and plot the data\n",
    "for ex in export:\n",
    "\n",
    "    scenario = \"elec_s_4_ec_lc3.0_Co2L\" + m + \"_3H_2030_0.15_DF_\" + str(ex) + \"export\"\n",
    "    n = pypsa.Network(PREFIX + f\"workflow/subworkflows/pypsa-earth-sec/results/{RUN}/{CATEGORY}/{scenario}.nc\")\n",
    "    \n",
    "    rlc = calculate_rlc(n, resample=False, incl_curtailment=False, incl_hy_load=False, time_sorted=False)\n",
    "    average_day = rlc.groupby(rlc.index.hour).mean()\n",
    "    axs[0].plot(average_day.index, average_day, marker='o', label=str(ex) + \" TWh\", color=\"green\", alpha=1-(ex/200)*0.7)\n",
    "    axs[0].set_title(\"RLC\")\n",
    "\n",
    "    rlc = calculate_rlc(n, resample=False, incl_curtailment=True, incl_hy_load=False, time_sorted=False)\n",
    "    average_day = rlc.groupby(rlc.index.hour).mean()\n",
    "    axs[1].plot(average_day.index, average_day, marker='o', label=str(ex) + \" TWh\", color=\"green\", alpha=1-(ex/200)*0.7)\n",
    "    axs[1].set_title(\"RLC with curtailment\")\n",
    "\n",
    "    rlc = calculate_rlc(n, resample=False, incl_curtailment=True, incl_hy_load=True, time_sorted=False)\n",
    "    average_day = rlc.groupby(rlc.index.hour).mean()\n",
    "    axs[2].plot(average_day.index, average_day, marker='o', label=str(ex) + \" TWh\", color=\"green\", alpha=1-(ex/200)*0.7)\n",
    "    axs[2].set_title(\"RLC with curtailment and electrolyzer load\")\n",
    "\n",
    "\n",
    "\n",
    "# Add axis labels\n",
    "for ax in axs.flat:\n",
    "    ax.set(ylabel='Residual Load in MW')\n",
    "    ax.set_xlim(0, 23)\n",
    "    ax.set_ylim(-140_000, 10_000)\n",
    "    ax.set_xticks(range(0, 24))\n",
    "    ax.grid()\n",
    "    ax.legend(loc=\"lower left\")\n",
    "\n",
    "plt.xlabel('Hour of the day')\n",
    "\n",
    "plt.tight_layout()\n",
    "plt.savefig(OUTPUT_RAW + \"rlc_diurnal\" + \"_m\" + m + \".pdf\")\n",
    "plt.show()"
   ]
  },
  {
   "cell_type": "code",
   "execution_count": null,
   "metadata": {},
   "outputs": [],
   "source": [
    "#resampling = \"H\"\n",
    "incl_curtailed = True\n",
    "\n",
    "#xlabel = {\"H\": \"Hours\", \"D\": \"Days\", \"W\": \"Weeks\"}\n",
    "mitigation = [2.0, 0.90, 0.80, 0.70, 0.60, 0.50, 0.40, 0.30, 0.20, 0.10, 0.00] #[2.0, 0.50, 0.10]\n",
    "\n",
    "fig = plt.figure(figsize=(10, 5))\n",
    "\n",
    "# Get and plot the data\n",
    "for m in mitigation:\n",
    "\n",
    "    m = str(m) + \"0\" if m < 1 else str(m) \n",
    "    scenario = \"elec_s_4_ec_lc3.0_Co2L\" + str(m) + \"_3H_2030_0.15_DF_0export\"\n",
    "    n = pypsa.Network(PREFIX + f\"workflow/subworkflows/pypsa-earth-sec/results/{RUN}/{CATEGORY}/{scenario}.nc\")\n",
    "\n",
    "    #INPUT = PREFIX + f\"workflow/subworkflows/pypsa-earth-sec/results/{RUN}/{CATEGORY}/{scenario}.nc\"\n",
    "    \n",
    "    rlc = calculate_rlc(n, resample=False, incl_curtailment=incl_curtailed, incl_hy_load=True, time_sorted=False)\n",
    "\n",
    "    average_day = rlc.groupby(rlc.index.hour).mean()\n",
    "    #rlc.plot(label=str(reverse_mitigation(eval(m))) + \"%\", color=\"green\", alpha=1-reverse_mitigation(eval(m))*0.007)\n",
    "\n",
    "    plt.plot(average_day.index, average_day, marker='o', label=str(reverse_mitigation(eval(m))) + \"%\", color=\"green\", alpha=1-reverse_mitigation(eval(m))*0.007)\n",
    "\n",
    "# Add a title\n",
    "plt.title(\"Diurnal Residual Load Curve\")\n",
    "\n",
    "# Add axis labels\n",
    "plt.xlabel('Hour of the day')\n",
    "plt.ylabel(\"Residual Load in MW\")\n",
    "plt.xlim(0, 23)\n",
    "plt.xticks(range(0, 24))\n",
    "plt.legend(loc=\"lower left\")\n",
    "plt.grid()\n",
    "\n",
    "plt.tight_layout()\n",
    "plt.savefig(OUTPUT_SCENARIO+ \"rlc_diurnal\" + \"_inclCurt\" + str(incl_curtailed) + \".pdf\")\n",
    "plt.show()"
   ]
  },
  {
   "cell_type": "code",
   "execution_count": null,
   "metadata": {},
   "outputs": [],
   "source": [
    "resampling = \"H\"\n",
    "incl_curtailed = False\n",
    "incl_hy_load = True\n",
    "time_sorted = True\n",
    "\n",
    "xlabel = {\"H\": \"Hours\", \"D\": \"Days\", \"W\": \"Weeks\"}\n",
    "mitigation = [2.0]#, 0.90, 0.80, 0.70, 0.60, 0.50, 0.40, 0.30, 0.20, 0.10]\n",
    "\n",
    "fig = plt.figure(figsize=(10, 5))\n",
    "\n",
    "# Get and plot the data\n",
    "for m in mitigation:\n",
    "\n",
    "    m = str(m) + \"0\" if m < 1 else str(m) \n",
    "    path = \"elec_s_4_ec_lc3.0_Co2L\" + str(m) + \"_3H_2030_0.13_DF_1export.nc\"\n",
    "    n = pypsa.Network(prefix + path)\n",
    "    \n",
    "    rlc = calculate_rlc(n, resample=resampling, incl_curtailment=incl_curtailed, incl_hy_load=incl_hy_load, time_sorted=time_sorted)\n",
    "    rlc.plot(label=str(reverse_mitigation(eval(m))) + \"%\", color=\"green\", alpha=1-reverse_mitigation(eval(m))*0.007)\n",
    "\n",
    "# Add a title\n",
    "plt.title(\"Residual Load Duration Curve\")\n",
    "\n",
    "# Add axis labels\n",
    "plt.xlabel(xlabel[resampling])\n",
    "plt.ylabel(\"Residual Load in MW\")\n",
    "plt.xlim(0, len(rlc))\n",
    "plt.legend(loc=\"lower left\")\n",
    "plt.grid()\n",
    "\n",
    "plt.tight_layout()\n",
    "\n",
    "\n",
    "if not os.path.exists(output):\n",
    "    os.makedirs(output)\n",
    "fn= output + \"rlc_sorted_\" + xlabel[resampling] + \"_inclCurt\" + str(incl_curtailed) + \".pdf\"\n",
    "plt.savefig(fn, bbox_inches=\"tight\")\n",
    "\n",
    "plt.show()"
   ]
  },
  {
   "cell_type": "code",
   "execution_count": null,
   "metadata": {},
   "outputs": [],
   "source": [
    "resampling = \"H\"\n",
    "incl_curtailed = False\n",
    "incl_hy_load = True\n",
    "time_sorted = True\n",
    "\n",
    "path = \"elec_s_4_ec_lc3.0_Co2L2.0_3H_2030_0.13_DF_100export.nc\"\n",
    "n = pypsa.Network(prefix + path)\n",
    "rlc = calculate_rlc(n, resample=resampling, incl_curtailment=incl_curtailed, incl_hy_load=incl_hy_load, time_sorted=time_sorted)\n",
    "rlc.plot(label=str(reverse_mitigation(eval(m))) + \"%\", color=\"green\", alpha=1-reverse_mitigation(eval(m))*0.007)"
   ]
  },
  {
   "cell_type": "code",
   "execution_count": null,
   "metadata": {},
   "outputs": [],
   "source": [
    "# fig = plt.figure(figsize=(30, 5))\n",
    "# #n.generators_t.p[n.generators[n.generators.carrier == \"onwind\"].index].sum(axis=1).plot() #.sum() / 1e6 * 3\n",
    "# wind_power = n.generators.p_nom_opt[n.generators[n.generators.carrier == \"onwind\"].index]\n",
    "# wind_profile = n.generators_t.p_max_pu[n.generators[n.generators.carrier == \"onwind\"].index]\n",
    "# wind_feed_in = n.generators_t.p[n.generators[n.generators.carrier == \"onwind\"].index].sum(axis=1)\n",
    "# (wind_profile * wind_power).sum(axis=1).plot() #.sum() / 1e6 * 3\n",
    "# wind_feed_in.plot()"
   ]
  },
  {
   "cell_type": "markdown",
   "metadata": {},
   "source": [
    "### Price duration curve"
   ]
  },
  {
   "cell_type": "code",
   "execution_count": 6,
   "metadata": {},
   "outputs": [],
   "source": [
    "def prepare_price(resample, time_sorted, price):\n",
    "    rlc = price\n",
    "    # Average hourly, daily, weekly\n",
    "    if resample != False:\n",
    "        rlc = rlc.resample(resample).mean().ffill()\n",
    "\n",
    "    if time_sorted == True:\n",
    "        # Sort residual load\n",
    "        rlc = rlc.sort_values(ascending=False)\n",
    "        rlc = rlc.reset_index(drop=True)\n",
    "    return rlc"
   ]
  },
  {
   "cell_type": "code",
   "execution_count": 15,
   "metadata": {},
   "outputs": [
    {
     "name": "stderr",
     "output_type": "stream",
     "text": [
      "WARNING:pypsa.io:Importing network from PyPSA version v0.24.0 while current version is v0.26.2. Read the release notes at https://pypsa.readthedocs.io/en/latest/release_notes.html to prepare your network for import.\n",
      "INFO:pypsa.io:Imported network elec_s_4_ec_lc3.0_Co2L2.0_3H_2030_0.13_DF_200export.nc has buses, carriers, generators, global_constraints, lines, links, loads, storage_units, stores\n",
      "WARNING:pypsa.io:Importing network from PyPSA version v0.24.0 while current version is v0.26.2. Read the release notes at https://pypsa.readthedocs.io/en/latest/release_notes.html to prepare your network for import.\n",
      "INFO:pypsa.io:Imported network elec_s_4_ec_lc3.0_Co2L2.0_3H_2030_0.13_DF_200export.nc has buses, carriers, generators, global_constraints, lines, links, loads, storage_units, stores\n",
      "WARNING:pypsa.io:Importing network from PyPSA version v0.24.0 while current version is v0.26.2. Read the release notes at https://pypsa.readthedocs.io/en/latest/release_notes.html to prepare your network for import.\n",
      "INFO:pypsa.io:Imported network elec_s_4_ec_lc3.0_Co2L2.0_3H_2030_0.13_DF_200export.nc has buses, carriers, generators, global_constraints, lines, links, loads, storage_units, stores\n",
      "WARNING:pypsa.io:Importing network from PyPSA version v0.24.0 while current version is v0.26.2. Read the release notes at https://pypsa.readthedocs.io/en/latest/release_notes.html to prepare your network for import.\n",
      "INFO:pypsa.io:Imported network elec_s_4_ec_lc3.0_Co2L2.0_3H_2030_0.13_DF_200export.nc has buses, carriers, generators, global_constraints, lines, links, loads, storage_units, stores\n"
     ]
    },
    {
     "data": {
      "image/png": "[encoded data removed]",
      "text/plain": [
       "<Figure size 600x600 with 1 Axes>"
      ]
     },
     "metadata": {},
     "output_type": "display_data"
    }
   ],
   "source": [
    "resampling = \"H\"\n",
    "time_sorted = True\n",
    "\n",
    "xlabel = {\"H\": \"Hours\", \"D\": \"Days\", \"W\": \"Weeks\"}\n",
    "\n",
    "fig = plt.figure(figsize=(6, 6))\n",
    "\n",
    "# Get and plot the data\n",
    "for rule in ghrules:\n",
    "\n",
    "    INPUT = PREFIX + f\"workflow/subworkflows/pypsa-earth-sec/results/{RUNS[rule]}/{CATEGORY}/{SCENARIO}.nc\"\n",
    "    n = pypsa.Network(INPUT)\n",
    "    \n",
    "    prices = n.buses_t.marginal_price.groupby(n.buses.carrier, axis=1).mean()\n",
    "    price = prepare_price(resample=resampling, time_sorted=time_sorted, price=prices[\"AC\"])\n",
    "    price.plot(label=rule, alpha=0.7)\n",
    "    #rlc.plot(label=str(reverse_mitigation(eval(m))) + \"%\", color=\"green\", alpha=1-reverse_mitigation(eval(m))*0.007)\n",
    "\n",
    "# Add a title\n",
    "plt.title(f\"Price Duration Curve for {EXPORT} TWh export, {CO2L} CO2\")\n",
    "\n",
    "# Add axis labels\n",
    "plt.xlabel(xlabel[resampling])\n",
    "plt.ylabel(\"Electricity prices in €/MWh\")\n",
    "plt.xlim(0, len(price))\n",
    "plt.legend(loc=\"lower left\")\n",
    "plt.grid()\n",
    "\n",
    "plt.tight_layout()\n",
    "\n",
    "\n",
    "if not os.path.exists(OUTPUT):\n",
    "    os.makedirs(OUTPUT)\n",
    "fn= OUTPUT + f\"/gh/price_sorted_{EXPORT}_{CO2L}_{xlabel[resampling]}.pdf\"\n",
    "plt.savefig(fn, bbox_inches=\"tight\")\n",
    "\n",
    "plt.show()"
   ]
  },
  {
   "cell_type": "markdown",
   "metadata": {},
   "source": [
    "### What is setting the prices?"
   ]
  },
  {
   "cell_type": "code",
   "execution_count": 20,
   "metadata": {},
   "outputs": [
    {
     "data": {
      "text/html": [
       "<div>\n",
       "<style scoped>\n",
       "    .dataframe tbody tr th:only-of-type {\n",
       "        vertical-align: middle;\n",
       "    }\n",
       "\n",
       "    .dataframe tbody tr th {\n",
       "        vertical-align: top;\n",
       "    }\n",
       "\n",
       "    .dataframe thead th {\n",
       "        text-align: right;\n",
       "    }\n",
       "</style>\n",
       "<table border=\"1\" class=\"dataframe\">\n",
       "  <thead>\n",
       "    <tr style=\"text-align: right;\">\n",
       "      <th></th>\n",
       "      <th>p_nom_max</th>\n",
       "      <th>weight</th>\n",
       "      <th>p_nom</th>\n",
       "      <th>capital_cost</th>\n",
       "      <th>efficiency</th>\n",
       "      <th>p_nom_min</th>\n",
       "      <th>marginal_cost</th>\n",
       "      <th>carrier</th>\n",
       "      <th>bus</th>\n",
       "      <th>p_nom_extendable</th>\n",
       "      <th>...</th>\n",
       "      <th>shut_down_cost</th>\n",
       "      <th>stand_by_cost</th>\n",
       "      <th>min_up_time</th>\n",
       "      <th>min_down_time</th>\n",
       "      <th>up_time_before</th>\n",
       "      <th>down_time_before</th>\n",
       "      <th>ramp_limit_up</th>\n",
       "      <th>ramp_limit_down</th>\n",
       "      <th>ramp_limit_start_up</th>\n",
       "      <th>ramp_limit_shut_down</th>\n",
       "    </tr>\n",
       "    <tr>\n",
       "      <th>Generator</th>\n",
       "      <th></th>\n",
       "      <th></th>\n",
       "      <th></th>\n",
       "      <th></th>\n",
       "      <th></th>\n",
       "      <th></th>\n",
       "      <th></th>\n",
       "      <th></th>\n",
       "      <th></th>\n",
       "      <th></th>\n",
       "      <th></th>\n",
       "      <th></th>\n",
       "      <th></th>\n",
       "      <th></th>\n",
       "      <th></th>\n",
       "      <th></th>\n",
       "      <th></th>\n",
       "      <th></th>\n",
       "      <th></th>\n",
       "      <th></th>\n",
       "      <th></th>\n",
       "    </tr>\n",
       "  </thead>\n",
       "  <tbody>\n",
       "  </tbody>\n",
       "</table>\n",
       "<p>0 rows × 34 columns</p>\n",
       "</div>"
      ],
      "text/plain": [
       "Empty DataFrame\n",
       "Columns: [p_nom_max, weight, p_nom, capital_cost, efficiency, p_nom_min, marginal_cost, carrier, bus, p_nom_extendable, control, p_nom_opt, lifetime, type, p_nom_mod, p_min_pu, p_max_pu, p_set, q_set, sign, marginal_cost_quadratic, build_year, committable, start_up_cost, shut_down_cost, stand_by_cost, min_up_time, min_down_time, up_time_before, down_time_before, ramp_limit_up, ramp_limit_down, ramp_limit_start_up, ramp_limit_shut_down]\n",
       "Index: []\n",
       "\n",
       "[0 rows x 34 columns]"
      ]
     },
     "execution_count": 20,
     "metadata": {},
     "output_type": "execute_result"
    }
   ],
   "source": [
    "n.generators[n.generators.carrier == \"OCGT\"]"
   ]
  },
  {
   "cell_type": "code",
   "execution_count": 36,
   "metadata": {},
   "outputs": [
    {
     "data": {
      "text/plain": [
       "Store\n",
       "MA.10_1_AC gas Store    0.022732\n",
       "MA.11_1_AC gas Store    0.022150\n",
       "MA.12_1_AC gas Store    0.025569\n",
       "MA.13_1_AC gas Store    0.026691\n",
       "MA.14_1_AC gas Store    0.026667\n",
       "MA.15_1_AC gas Store    0.026553\n",
       "MA.1_1_AC gas Store     0.022249\n",
       "MA.2_1_AC gas Store     0.023465\n",
       "MA.3_1_AC gas Store     0.021990\n",
       "MA.4_1_AC gas Store     0.022251\n",
       "MA.5_1_AC gas Store     0.024018\n",
       "MA.6_1_AC gas Store     0.022938\n",
       "MA.8_1_AC gas Store     0.024741\n",
       "MA.9_1_AC gas Store     0.023133\n",
       "Name: marginal_cost, dtype: float64"
      ]
     },
     "execution_count": 36,
     "metadata": {},
     "output_type": "execute_result"
    }
   ],
   "source": [
    "n.stores[n.stores.carrier==\"gas\"].marginal_cost / n.links[n.links.carrier == \"OCGT\"].efficiency[0]"
   ]
  },
  {
   "cell_type": "code",
   "execution_count": 37,
   "metadata": {},
   "outputs": [
    {
     "data": {
      "text/plain": [
       "0.41"
      ]
     },
     "execution_count": 37,
     "metadata": {},
     "output_type": "execute_result"
    }
   ],
   "source": [
    "n.links[n.links.carrier == \"OCGT\"].efficiency[0] #.marginal_price"
   ]
  },
  {
   "cell_type": "code",
   "execution_count": 42,
   "metadata": {},
   "outputs": [
    {
     "data": {
      "text/plain": [
       "1.854404416405764"
      ]
     },
     "execution_count": 42,
     "metadata": {},
     "output_type": "execute_result"
    }
   ],
   "source": [
    "n.links[n.links.carrier == \"OCGT\"].marginal_cost[0]"
   ]
  },
  {
   "cell_type": "code",
   "execution_count": 40,
   "metadata": {},
   "outputs": [
    {
     "data": {
      "text/plain": [
       "bus0                                      MA.10_1_AC gas\n",
       "bus1                                          MA.10_1_AC\n",
       "carrier                            urban central gas CHP\n",
       "efficiency                                          0.41\n",
       "p_nom_extendable                                    True\n",
       "bus2                       MA.10_1_AC urban central heat\n",
       "bus3                                      co2 atmosphere\n",
       "bus4                                                    \n",
       "capital_cost                                38946.112978\n",
       "efficiency2                                         0.41\n",
       "efficiency3                                          0.2\n",
       "efficiency4                                          1.0\n",
       "length                                               0.0\n",
       "lifetime                                            25.0\n",
       "marginal_cost                                   4.210433\n",
       "p_min_pu                                             0.0\n",
       "underwater_fraction                                  NaN\n",
       "p_nom_opt                                       0.010412\n",
       "charger_ratio                                        NaN\n",
       "type                                                    \n",
       "build_year                                             0\n",
       "p_nom                                                0.0\n",
       "p_nom_mod                                            0.0\n",
       "p_nom_min                                            0.0\n",
       "p_nom_max                                            inf\n",
       "p_set                                                0.0\n",
       "p_max_pu                                             1.0\n",
       "marginal_cost_quadratic                              0.0\n",
       "stand_by_cost                                        0.0\n",
       "terrain_factor                                       1.0\n",
       "committable                                        False\n",
       "start_up_cost                                        0.0\n",
       "shut_down_cost                                       0.0\n",
       "min_up_time                                            0\n",
       "min_down_time                                          0\n",
       "up_time_before                                         1\n",
       "down_time_before                                       0\n",
       "ramp_limit_up                                        NaN\n",
       "ramp_limit_down                                      NaN\n",
       "ramp_limit_start_up                                  1.0\n",
       "ramp_limit_shut_down                                 1.0\n",
       "Name: MA.10_1_AC urban central gas CHP, dtype: object"
      ]
     },
     "execution_count": 40,
     "metadata": {},
     "output_type": "execute_result"
    }
   ],
   "source": [
    "n.links[n.links.carrier == \"urban central gas CHP\"].iloc[0,:] #.efficiency[0] #.marginal_price"
   ]
  }
 ],
 "metadata": {
  "kernelspec": {
   "display_name": "Python 3",
   "language": "python",
   "name": "python3"
  },
  "language_info": {
   "codemirror_mode": {
    "name": "ipython",
    "version": 3
   },
   "file_extension": ".py",
   "mimetype": "text/x-python",
   "name": "python",
   "nbconvert_exporter": "python",
   "pygments_lexer": "ipython3",
   "version": "3.10.12"
  },
  "orig_nbformat": 4
 },
 "nbformat": 4,
 "nbformat_minor": 2
}

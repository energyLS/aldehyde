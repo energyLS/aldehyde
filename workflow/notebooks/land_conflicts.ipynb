{
 "cells": [
  {
   "cell_type": "markdown",
   "metadata": {},
   "source": [
    "### Plot the land conflicts within Morocco (dummy plot for abstract)"
   ]
  },
  {
   "cell_type": "code",
   "execution_count": null,
   "metadata": {},
   "outputs": [],
   "source": [
    "import geopandas as gpd\n",
    "import matplotlib.pyplot as plt"
   ]
  },
  {
   "cell_type": "code",
   "execution_count": null,
   "metadata": {},
   "outputs": [],
   "source": [
    "morocco_gadm = gpd.read_file(\"../../resources/shapes/gadm_shapes.geojson\")"
   ]
  },
  {
   "cell_type": "markdown",
   "metadata": {},
   "source": [
    "Manipulate data to create dummy data for potential conflicts"
   ]
  },
  {
   "cell_type": "code",
   "execution_count": null,
   "metadata": {},
   "outputs": [],
   "source": [
    "morocco_gadm[\"islanded_installation\"] = (0.8 - morocco_gadm[\"pop\"]*(1/max(morocco_gadm[\"pop\"])) ) *100\n",
    "morocco_gadm[\"integrated_installation\"] = (0.8 - morocco_gadm[\"gdp\"]*(1/max(morocco_gadm[\"gdp\"])) ) *100\n",
    "morocco_gadm[\"both_installation\"] = (morocco_gadm[\"islanded_installation\"] + morocco_gadm[\"integrated_installation\"] )"
   ]
  },
  {
   "cell_type": "markdown",
   "metadata": {},
   "source": [
    "Plot"
   ]
  },
  {
   "cell_type": "code",
   "execution_count": null,
   "metadata": {},
   "outputs": [],
   "source": [
    "fig = plt.figure(facecolor='white', figsize=(10,7))\n",
    "fig.suptitle(\"Land conflicts\")\n",
    "\n",
    "ax = fig.add_subplot(2,2,1, title=\"MAR ES only\")\n",
    "ax2 = fig.add_subplot(2,2,3, title=\"Export only\")\n",
    "ax3 = fig.add_subplot(2,2,2, title=\"MAR ES + Export\")\n",
    "\n",
    "l1=morocco_gadm.plot(column='islanded_installation', ax=ax, cmap='OrRd', legend=True, vmax=200, legend_kwds={'label': \"Land use in %\"})  #, scheme='quantiles'\n",
    "l2=morocco_gadm.plot(column='integrated_installation', ax=ax2, cmap='OrRd', legend=True, vmax=200, legend_kwds={'label': \"Land use in %\"})  #, scheme='quantiles'\n",
    "l3=morocco_gadm.plot(column='both_installation', ax=ax3, legend=True, cmap='OrRd', vmin=0, vmax=200, legend_kwds={'label': \"Land use in %\"})  #, scheme='quantiles'\n",
    "\n",
    "\n",
    "ax.set_axis_off()\n",
    "ax2.set_axis_off()\n",
    "ax3.set_axis_off()\n",
    "\n",
    "# Save plot\n",
    "plt.savefig(\"../../results/graphics/morocco_landconflicts.pdf\")\n",
    "plt.show()"
   ]
  }
 ],
 "metadata": {
  "kernelspec": {
   "display_name": "Python 3.10.6 ('aldehyde')",
   "language": "python",
   "name": "python3"
  },
  "language_info": {
   "codemirror_mode": {
    "name": "ipython",
    "version": 3
   },
   "file_extension": ".py",
   "mimetype": "text/x-python",
   "name": "python",
   "nbconvert_exporter": "python",
   "pygments_lexer": "ipython3",
   "version": "3.10.6"
  },
  "orig_nbformat": 4,
  "vscode": {
   "interpreter": {
    "hash": "0dbcc051df1c9f67b8349bc93a137f4374bedf8f92eebef4493438608fd687c9"
   }
  }
 },
 "nbformat": 4,
 "nbformat_minor": 2
}

{
 "cells": [
  {
   "cell_type": "code",
   "execution_count": 6,
   "metadata": {},
   "outputs": [],
   "source": [
    "import pypsa\n",
    "import pandas as pd\n",
    "from matplotlib.pyplot import legend\n",
    "import matplotlib.pyplot as plt\n",
    "import numpy as np"
   ]
  },
  {
   "cell_type": "markdown",
   "metadata": {},
   "source": [
    "### Read Network"
   ]
  },
  {
   "cell_type": "code",
   "execution_count": 2,
   "metadata": {},
   "outputs": [
    {
     "name": "stderr",
     "output_type": "stream",
     "text": [
      "WARNING:pypsa.io:Importing network from PyPSA version v0.20.1 while current version is v0.21.3. Read the release notes at https://pypsa.readthedocs.io/en/latest/release_notes.html to prepare your network for import.\n",
      "INFO:pypsa.io:Imported network elec_s_4_ec_lc1.0_Co2L_144H_2030_0.071_DF_nosmr.nc has buses, carriers, generators, global_constraints, lines, links, loads, storage_units, stores\n"
     ]
    },
    {
     "name": "stdout",
     "output_type": "stream",
     "text": [
      "The network representing MAR ES only 'n1' has been imported\n"
     ]
    },
    {
     "name": "stderr",
     "output_type": "stream",
     "text": [
      "WARNING:pypsa.io:Importing network from PyPSA version v0.20.1 while current version is v0.21.3. Read the release notes at https://pypsa.readthedocs.io/en/latest/release_notes.html to prepare your network for import.\n",
      "INFO:pypsa.io:Imported network elec_s_4_ec_lc1.0_Co2L_144H_2030_0.071_DF_nosmr.nc has buses, carriers, generators, global_constraints, lines, links, loads, storage_units, stores\n",
      "WARNING:pypsa.io:Importing network from PyPSA version v0.20.1 while current version is v0.21.3. Read the release notes at https://pypsa.readthedocs.io/en/latest/release_notes.html to prepare your network for import.\n"
     ]
    },
    {
     "name": "stdout",
     "output_type": "stream",
     "text": [
      "The network representing MAR ES + Export 'n2' has been imported\n"
     ]
    },
    {
     "name": "stderr",
     "output_type": "stream",
     "text": [
      "INFO:pypsa.io:Imported network elec_s_4_ec_lc1.0_Co2L_144H_2030_0.071_DF_solved.nc has buses, carriers, generators, links, loads, stores\n"
     ]
    },
    {
     "name": "stdout",
     "output_type": "stream",
     "text": [
      "The network representing Export only 'n3' has been imported\n"
     ]
    }
   ],
   "source": [
    "# export\n",
    "#n0 = \n",
    "# mar_es\n",
    "n1 = pypsa.Network('../../resources/mar_es_only/elec_s_4_ec_lc1.0_Co2L_144H_2030_0.071_DF_nosmr.nc')\n",
    "print(\"The network representing MAR ES only 'n1' has been imported\")\n",
    "# mar_es_export (10 TWh)\n",
    "n2 = pypsa.Network('../../resources/mar_es_export/elec_s_4_ec_lc1.0_Co2L_144H_2030_0.071_DF_nosmr.nc')\n",
    "print(\"The network representing MAR ES + Export 'n2' has been imported\")\n",
    "\n",
    "n3 = pypsa.Network('../../resources/export_only/elec_s_4_ec_lc1.0_Co2L_144H_2030_0.071_DF_solved.nc')\n",
    "print(\"The network representing Export only 'n3' has been imported\")"
   ]
  },
  {
   "attachments": {},
   "cell_type": "markdown",
   "metadata": {},
   "source": [
    "### Compare solar and wind generator capacities"
   ]
  },
  {
   "cell_type": "code",
   "execution_count": null,
   "metadata": {},
   "outputs": [],
   "source": [
    "# Maximum potential \"p_nom_max\" of each carrier in each network\n",
    "for n in [n1, n2, n3]:\n",
    "    for carrier in ['onwind', 'solar']: #for all generators use: n.generators.carrier.unique():\n",
    "        print(f\"p_nom_max of {carrier}: \\t {n.generators[n.generators.carrier==carrier].p_nom_max.sum()/1e3:.2f} GW\")"
   ]
  },
  {
   "cell_type": "code",
   "execution_count": null,
   "metadata": {},
   "outputs": [],
   "source": [
    "# Optimised capacities \"p_nom_opt\" of each carrier in each network\n",
    "for n in [n1, n2, n3]:\n",
    "    for carrier in ['onwind', 'solar']: #for all generators use: n.generators.carrier.unique():\n",
    "        print(f\"p_nom_opt of {carrier}: \\t {n.generators[n.generators.carrier==carrier].p_nom_opt.sum()/1e3:.2f} GW\")"
   ]
  },
  {
   "cell_type": "code",
   "execution_count": null,
   "metadata": {},
   "outputs": [],
   "source": [
    "# Exploitation of the potential of each carrier in each network\n",
    "for n in [n1, n2, n3]:\n",
    "    for carrier in ['onwind', 'solar']: #for all generators use: n.generators.carrier.unique():\n",
    "        print(f\"Exploitation of {carrier}: \\t {(n.generators[n.generators.carrier==carrier].p_nom_opt.sum()/n.generators[n.generators.carrier==carrier].p_nom_max.sum())*1e2:.2f} %\")"
   ]
  },
  {
   "attachments": {},
   "cell_type": "markdown",
   "metadata": {},
   "source": [
    "### Compare all generator capacities"
   ]
  },
  {
   "cell_type": "code",
   "execution_count": null,
   "metadata": {},
   "outputs": [],
   "source": [
    "# Show all capacities\n",
    "print(\"The installed generator capacities are:\")\n",
    "for n in [n1, n2, n3]:\n",
    "    generator_capacities = n.generators.p_nom_opt.groupby(n.generators.carrier).sum()/1e3\n",
    "    print(generator_capacities)\n",
    "del n"
   ]
  },
  {
   "cell_type": "markdown",
   "metadata": {},
   "source": [
    "### Emissions"
   ]
  },
  {
   "cell_type": "code",
   "execution_count": null,
   "metadata": {},
   "outputs": [],
   "source": [
    "n3.global_constraints"
   ]
  },
  {
   "attachments": {},
   "cell_type": "markdown",
   "metadata": {},
   "source": [
    "### Total system cost and LCOH"
   ]
  },
  {
   "cell_type": "code",
   "execution_count": 15,
   "metadata": {},
   "outputs": [
    {
     "name": "stdout",
     "output_type": "stream",
     "text": [
      "The following values relate to the comparison of the MAR ES only and the MAR ES + Export network:\n",
      "\n",
      "The total annualized system cost for Morocco is 212.75 B€ without export and 213.50 B€ with export\n",
      "The export of 10027.40 GWh results in a cost difference of 0.75 B€\n",
      "Cost per unit hydrogen export: 75.14 €/MWh\n",
      "\n",
      "The following values relate to Export only network:\n",
      "\n",
      "The total annualized system cost for Export only is 0.53 B€\n",
      "Cost per unit hydrogen export: 52.82 €/MWh\n"
     ]
    }
   ],
   "source": [
    "cost_difference= (n2.objective-n1.objective) # in €\n",
    "\n",
    "export_demand = n2.loads_t.p.loc[:, 'H2 export load'].sum() # in MWh\n",
    "export_demand_weighted = export_demand*n2.snapshot_weightings.generators[0] # We need to multiply by the snapshot weightings to get the annualized value\n",
    "\n",
    "n12_lcoh = cost_difference/(n2.loads_t.p.loc[:, 'H2 export load'].sum()*n2.snapshot_weightings.generators[0]) # Cost difference between systems divided by the export demand\n",
    "n3_lcoh = n3.objective/(n3.loads_t.p.loc[:, 'H2 export load'].sum()*n3.snapshot_weightings.generators[0])\n",
    "\n",
    "print(f\"The following values relate to the comparison of the MAR ES only and the MAR ES + Export network:\\n\")\n",
    "print(f\"The total annualized system cost for Morocco is {n1.objective / 1e9:.2f} B€ without export and {n2.objective /1e9:.2f} B€ with export\")\n",
    "print(f\"The export of {export_demand_weighted/1e3:.2f} GWh results in a cost difference of {cost_difference/ 1e9:.2f} B€\")\n",
    "print(f\"Cost per unit hydrogen export: {n12_lcoh:.2f} €/MWh\" )\n",
    "print(f\"\\nThe following values relate to Export only network:\\n\")\n",
    "print(f\"The total annualized system cost for Export only is {n3.objective / 1e9:.2f} B€\")\n",
    "\n",
    "print(f\"Cost per unit hydrogen export: {n3_lcoh:.2f} €/MWh\" )"
   ]
  },
  {
   "attachments": {},
   "cell_type": "markdown",
   "metadata": {},
   "source": [
    "### Plotting"
   ]
  },
  {
   "attachments": {},
   "cell_type": "markdown",
   "metadata": {},
   "source": [
    "LCOH"
   ]
  },
  {
   "cell_type": "code",
   "execution_count": 29,
   "metadata": {},
   "outputs": [
    {
     "data": {
      "image/png": "[encoded data removed]",
      "text/plain": [
       "<Figure size 640x480 with 1 Axes>"
      ]
     },
     "metadata": {},
     "output_type": "display_data"
    }
   ],
   "source": [
    "# Prepare data\n",
    "n_names = [\"Integrated\", \"Islanded\"]\n",
    "costs = [n12_lcoh, n3_lcoh]\n",
    "y_pos = np.arange(len(n_names))\n",
    "# Create bars\n",
    "plt.bar(y_pos, costs)\n",
    "\n",
    "# Enhance graph\n",
    "plt.xticks(y_pos, n_names)\n",
    "plt.ylabel(\"LCOH in €/MWh\")\n",
    "plt.title(\"LCOH\")\n",
    "\n",
    "# Show graph\n",
    "plt.show()"
   ]
  },
  {
   "attachments": {},
   "cell_type": "markdown",
   "metadata": {},
   "source": [
    "Total system cost"
   ]
  },
  {
   "cell_type": "code",
   "execution_count": 27,
   "metadata": {},
   "outputs": [
    {
     "data": {
      "image/png": "[encoded data removed]",
      "text/plain": [
       "<Figure size 640x480 with 1 Axes>"
      ]
     },
     "metadata": {},
     "output_type": "display_data"
    }
   ],
   "source": [
    "n_names = [\"MAR ES only\", \"MAR ES + Export\", \"Export only\"]\n",
    "costs = [n1.objective/1e9, n2.objective/1e9, n3.objective/1e9]\n",
    "y_pos = np.arange(len(n_names))\n",
    "# Create bars\n",
    "plt.bar(y_pos, costs)\n",
    "\n",
    "# Enhance graph\n",
    "plt.xticks(y_pos, n_names)\n",
    "plt.ylabel(\"System cost in B€\")\n",
    "plt.title(\"System total cost comparison\")\n",
    "\n",
    "# Show graph\n",
    "plt.show()"
   ]
  },
  {
   "cell_type": "code",
   "execution_count": 39,
   "metadata": {},
   "outputs": [
    {
     "data": {
      "image/png": "[encoded data removed]",
      "text/plain": [
       "<Figure size 640x480 with 1 Axes>"
      ]
     },
     "metadata": {},
     "output_type": "display_data"
    }
   ],
   "source": [
    "n_names = [\"Integrated\", \"Islanded\"]\n",
    "costs2 = [n2.objective/1e9]\n",
    "costs13 = [n1.objective/1e9, n3.objective/1e9]\n",
    "\n",
    "bars = np.add(costs13, costs2).tolist()\n",
    "\n",
    "# The position of the bars on the x-axis\n",
    "r = [0,1]\n",
    "barWidth = 1\n",
    "\n",
    "# Create brown bars\n",
    "plt.bar(r, costs13, color='#7f6d5f', edgecolor='white', width=barWidth)\n",
    "\n",
    "# Create green bars (middle), on top of the first ones\n",
    "#plt.bar(r, costs2, bottom=costs13, color='#557f2d', edgecolor='white', width=barWidth)\n",
    "\n",
    "# Custom X axis\n",
    "plt.xticks(r, n_names)\n",
    " \n",
    "# Show graphic\n",
    "plt.show()"
   ]
  },
  {
   "cell_type": "code",
   "execution_count": null,
   "metadata": {},
   "outputs": [],
   "source": [
    "n3.iplot(mapbox=True)"
   ]
  },
  {
   "cell_type": "markdown",
   "metadata": {},
   "source": [
    "### Energy: Electrolysis output (n2 only, no comparison)"
   ]
  },
  {
   "cell_type": "markdown",
   "metadata": {},
   "source": [
    "Capacities"
   ]
  },
  {
   "cell_type": "code",
   "execution_count": null,
   "metadata": {},
   "outputs": [],
   "source": [
    "# Total capacity Electrolysis. TODO very low -> SMR?\n",
    "n2.links[n2.links.carrier.str.contains('H2 Electrolysis')].p_nom_opt.sum() /1e3 # in GW"
   ]
  },
  {
   "cell_type": "code",
   "execution_count": null,
   "metadata": {},
   "outputs": [],
   "source": [
    "# Total capacity SMR\n",
    "n2.links[n2.links.carrier.str.contains('SMR')].p_nom_opt.sum() /1e3 # in GW"
   ]
  },
  {
   "cell_type": "code",
   "execution_count": null,
   "metadata": {},
   "outputs": [],
   "source": [
    "# Total capacity Fischer-Tropsch    \n",
    "n2.links[n2.links.carrier.str.contains('Fischer-Tropsch')].p_nom_opt.sum() /1e3 # in GW"
   ]
  },
  {
   "cell_type": "code",
   "execution_count": null,
   "metadata": {},
   "outputs": [],
   "source": [
    "# Total power per hour SMR\n",
    "n2.links_t.p1.loc[:, n2.links_t.p1.columns.str.contains(\"SMR\")].sum(axis=1)"
   ]
  },
  {
   "attachments": {},
   "cell_type": "markdown",
   "metadata": {},
   "source": [
    "Energies"
   ]
  },
  {
   "cell_type": "code",
   "execution_count": null,
   "metadata": {},
   "outputs": [],
   "source": [
    "# Total energy SMR\n",
    "(n2.links_t.p1.loc[:, n2.links_t.p0.columns.str.contains(\"SMR\")].sum(axis=1) * n2.snapshot_weightings.generators[0]).sum() / 1e6 # in TWh"
   ]
  },
  {
   "cell_type": "code",
   "execution_count": null,
   "metadata": {},
   "outputs": [],
   "source": [
    "# Total energy Fischer-Tropsch\n",
    "(n2.links_t.p1.loc[:, n2.links_t.p0.columns.str.contains(\"Fischer-Tropsch\")].sum(axis=1) * n2.snapshot_weightings.generators[0]).sum() / 1e6 # in TWh"
   ]
  },
  {
   "attachments": {},
   "cell_type": "markdown",
   "metadata": {},
   "source": [
    "### Demands (n2 only, no comparison)"
   ]
  },
  {
   "cell_type": "code",
   "execution_count": null,
   "metadata": {},
   "outputs": [],
   "source": [
    "n2.loads.carrier.unique() #.str.contains(\"H2\")"
   ]
  },
  {
   "cell_type": "code",
   "execution_count": null,
   "metadata": {},
   "outputs": [],
   "source": [
    "# Show hydrogen demand of n2 network\n",
    "(n2.loads_t.p.loc[:, n2.loads_t.p.columns.str.contains(\"H2\")].sum() *n2.snapshot_weightings.generators[0]).sum()/1e6 # in TWh\n"
   ]
  },
  {
   "cell_type": "code",
   "execution_count": null,
   "metadata": {},
   "outputs": [],
   "source": [
    "# For comparison: Show hydrogen demand of n1 network\n",
    "(n1.loads_t.p.loc[:, n1.loads_t.p.columns.str.contains(\"H2\")].sum() *n1.snapshot_weightings.generators[0]).sum()/1e6 # in TWh\n"
   ]
  },
  {
   "cell_type": "code",
   "execution_count": null,
   "metadata": {},
   "outputs": [],
   "source": [
    "# Show highest consumers of n2 network\n",
    "((n2.loads_t.p.sum()*n2.snapshot_weightings.generators[0]).sort_values(ascending=False)/1e6)[:10] # in TWh"
   ]
  },
  {
   "cell_type": "markdown",
   "metadata": {},
   "source": [
    "### Export"
   ]
  },
  {
   "cell_type": "code",
   "execution_count": null,
   "metadata": {},
   "outputs": [],
   "source": [
    "# Timeseries from export links\n",
    "n2.links_t.p0.loc[:, n2.links_t.p0.columns.str.contains(\"export\")].sum(axis=1)"
   ]
  },
  {
   "cell_type": "code",
   "execution_count": null,
   "metadata": {},
   "outputs": [],
   "source": [
    "# Total export per port\n",
    "n2.links_t.p0.loc[:, n2.links_t.p0.columns.str.contains(\"export\")].sum(axis=0)*n2.snapshot_weightings.generators[0]/1e6 # in TWh"
   ]
  },
  {
   "cell_type": "code",
   "execution_count": null,
   "metadata": {},
   "outputs": [],
   "source": [
    "# Timeseries export load\n",
    "n2.loads_t.p.loc[:, n2.loads_t.p.columns.str.contains('export')]"
   ]
  },
  {
   "cell_type": "code",
   "execution_count": null,
   "metadata": {},
   "outputs": [],
   "source": [
    "# Total export energy\n",
    "print(f\"The total export for n1 is {n1.loads_t.p.loc[:, n1.loads_t.p.columns.str.contains('export')].sum().values[0]*n2.snapshot_weightings.generators[0]:.2f} MWh\")\n",
    "print(f\"The total export for n2 is {n2.loads_t.p.loc[:, n2.loads_t.p.columns.str.contains('export')].sum().values[0]*n2.snapshot_weightings.generators[0]:.2f} MWh\")"
   ]
  },
  {
   "cell_type": "code",
   "execution_count": null,
   "metadata": {},
   "outputs": [],
   "source": [
    "print(f\"The optimized energy capacity of the H2 export store is {n2.stores.e_nom_opt['H2 export store']/1e3:.2f} GWh\")"
   ]
  },
  {
   "cell_type": "code",
   "execution_count": null,
   "metadata": {},
   "outputs": [],
   "source": [
    "(-n2.stores_t.p['H2 export store'] * n2.snapshot_weightings.stores).plot(legend=True)\n",
    "n2.stores_t.e['H2 export store'].plot(legend=True)"
   ]
  }
 ],
 "metadata": {
  "kernelspec": {
   "display_name": "Python 3.10.6 ('aldehyde')",
   "language": "python",
   "name": "python3"
  },
  "language_info": {
   "codemirror_mode": {
    "name": "ipython",
    "version": 3
   },
   "file_extension": ".py",
   "mimetype": "text/x-python",
   "name": "python",
   "nbconvert_exporter": "python",
   "pygments_lexer": "ipython3",
   "version": "3.10.6"
  },
  "orig_nbformat": 4,
  "vscode": {
   "interpreter": {
    "hash": "0dbcc051df1c9f67b8349bc93a137f4374bedf8f92eebef4493438608fd687c9"
   }
  }
 },
 "nbformat": 4,
 "nbformat_minor": 2
}

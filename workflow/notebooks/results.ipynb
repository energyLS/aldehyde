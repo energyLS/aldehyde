{
 "cells": [
  {
   "cell_type": "code",
   "execution_count": null,
   "metadata": {},
   "outputs": [],
   "source": [
    "import pypsa\n",
    "import pandas as pd\n",
    "from matplotlib.pyplot import legend"
   ]
  },
  {
   "cell_type": "markdown",
   "metadata": {},
   "source": [
    "### Read Network"
   ]
  },
  {
   "cell_type": "code",
   "execution_count": null,
   "metadata": {},
   "outputs": [],
   "source": [
    "path_aldehyde_esc = 'aldehyde/resources/elec_s_20_ec_lc1.0_Co2L_730H_2030_0.069_esc.nc'\n",
    "\n",
    "path_earth = 'pypsa-earth/networks/elec_s.nc'\n",
    "path_earth_clustered = 'pypsa-earth/networks/elec_s_4.nc'\n",
    "\n",
    "path_earth_sec = 'pypsa-earth-sec/results/test3/prenetworks/elec_s_4_ec_lc1_Co2L_144H_2030_0.071_DF_export.nc'\n",
    "path_earth_sec = 'pypsa-earth-sec/results/test3/prenetworks/elec_s_4_ec_lc1_Co2L_144H_2030_0.071_DF_export.nc'\n",
    "\n",
    "path_earth_sec_solved = 'pypsa-earth-sec/results/test3/postnetworks/elec_s_4_ec_lc1_Co2L_144H_2030_0.071_DF.nc'\n",
    "\n",
    "#path_eur = 'pypsa-earth-sec/results/Runname_test/prenetworks/pypsa-eur/networks/elec_s_37_ec_lcopt_Co2L-3H.nc'\n",
    "# path_africa = 'pypsa-africa/networks/elec_s_55_ec_lcopt_Co2L-3H.nc'\n",
    "# path_africa_two = 'pypsa-africa/networks/elec_s.nc'\n",
    "\n",
    "\n",
    "path_prefix = '../../../'"
   ]
  },
  {
   "cell_type": "code",
   "execution_count": null,
   "metadata": {},
   "outputs": [],
   "source": [
    "n = pypsa.Network(path_prefix+path_earth_clustered)"
   ]
  },
  {
   "cell_type": "markdown",
   "metadata": {},
   "source": [
    "### Investigate potentials"
   ]
  },
  {
   "cell_type": "code",
   "execution_count": null,
   "metadata": {},
   "outputs": [],
   "source": [
    "for tech in [\"onwind\", \"solar\"]:\n",
    "    potential = n.generators[n.generators.carrier == tech].p_nom_max\n",
    "    print(f\"The number of {tech} generators is {len(potential)}\")\n",
    "    print(f\"The total {tech} potential is {potential.sum()*1e-3:.2f} GW\")"
   ]
  },
  {
   "cell_type": "code",
   "execution_count": null,
   "metadata": {},
   "outputs": [],
   "source": [
    "n.generators[n.generators.carrier=='solar']"
   ]
  }
 ],
 "metadata": {
  "kernelspec": {
   "display_name": "Python 3.10.6 ('aldehyde')",
   "language": "python",
   "name": "python3"
  },
  "language_info": {
   "codemirror_mode": {
    "name": "ipython",
    "version": 3
   },
   "file_extension": ".py",
   "mimetype": "text/x-python",
   "name": "python",
   "nbconvert_exporter": "python",
   "pygments_lexer": "ipython3",
   "version": "3.10.6"
  },
  "orig_nbformat": 4,
  "vscode": {
   "interpreter": {
    "hash": "0dbcc051df1c9f67b8349bc93a137f4374bedf8f92eebef4493438608fd687c9"
   }
  }
 },
 "nbformat": 4,
 "nbformat_minor": 2
}

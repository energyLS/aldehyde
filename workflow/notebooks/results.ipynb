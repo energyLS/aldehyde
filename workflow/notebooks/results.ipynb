{
 "cells": [
  {
   "cell_type": "code",
   "execution_count": 38,
   "metadata": {},
   "outputs": [],
   "source": [
    "import pypsa\n",
    "import pandas as pd\n",
    "from matplotlib.pyplot import legend\n",
    "import matplotlib.pyplot as plt\n",
    "import numpy as np"
   ]
  },
  {
   "cell_type": "markdown",
   "metadata": {},
   "source": [
    "### Read Network"
   ]
  },
  {
   "cell_type": "code",
   "execution_count": 39,
   "metadata": {},
   "outputs": [
    {
     "name": "stderr",
     "output_type": "stream",
     "text": [
      "WARNING:pypsa.io:Importing network from PyPSA version v0.20.1 while current version is v0.21.3. Read the release notes at https://pypsa.readthedocs.io/en/latest/release_notes.html to prepare your network for import.\n",
      "INFO:pypsa.io:Imported network elec_s_4_ec_lc1.0_Co2L_144H_2030_0.071_DF_nosmr.nc has buses, carriers, generators, global_constraints, lines, links, loads, storage_units, stores\n"
     ]
    },
    {
     "name": "stdout",
     "output_type": "stream",
     "text": [
      "The network representing MAR ES only 'n1' has been imported\n"
     ]
    },
    {
     "name": "stderr",
     "output_type": "stream",
     "text": [
      "WARNING:pypsa.io:Importing network from PyPSA version v0.20.1 while current version is v0.21.3. Read the release notes at https://pypsa.readthedocs.io/en/latest/release_notes.html to prepare your network for import.\n",
      "INFO:pypsa.io:Imported network elec_s_4_ec_lc1.0_Co2L_144H_2030_0.071_DF_nosmr.nc has buses, carriers, generators, global_constraints, lines, links, loads, storage_units, stores\n"
     ]
    },
    {
     "name": "stdout",
     "output_type": "stream",
     "text": [
      "The network representing MAR ES + Export 'n2' has been imported\n"
     ]
    },
    {
     "name": "stderr",
     "output_type": "stream",
     "text": [
      "INFO:pypsa.io:Imported network elec_s_4_ec_lc1.0_Co2L_144H_2030_0.071_DF_solved.nc has buses, carriers, generators, links, loads, stores\n"
     ]
    },
    {
     "name": "stdout",
     "output_type": "stream",
     "text": [
      "The network representing Export only 'n3' has been imported\n"
     ]
    }
   ],
   "source": [
    "# export\n",
    "#n0 = \n",
    "# mar_es\n",
    "n1 = pypsa.Network('../../resources/mar_es_only/elec_s_4_ec_lc1.0_Co2L_144H_2030_0.071_DF_nosmr.nc')\n",
    "print(\"The network representing MAR ES only 'n1' has been imported\")\n",
    "# mar_es_export (10 TWh)\n",
    "n2 = pypsa.Network('../../resources/mar_es_export/elec_s_4_ec_lc1.0_Co2L_144H_2030_0.071_DF_nosmr.nc')\n",
    "print(\"The network representing MAR ES + Export 'n2' has been imported\")\n",
    "\n",
    "n3 = pypsa.Network('../../resources/export_only/elec_s_4_ec_lc1.0_Co2L_144H_2030_0.071_DF_solved.nc')\n",
    "print(\"The network representing Export only 'n3' has been imported\")"
   ]
  },
  {
   "attachments": {},
   "cell_type": "markdown",
   "metadata": {},
   "source": [
    "### Compare solar and wind generator capacities"
   ]
  },
  {
   "cell_type": "code",
   "execution_count": null,
   "metadata": {},
   "outputs": [],
   "source": [
    "# Maximum potential \"p_nom_max\" of each carrier in each network\n",
    "for n in [n1, n2, n3]:\n",
    "    for carrier in ['onwind', 'solar']: #for all generators use: n.generators.carrier.unique():\n",
    "        print(f\"p_nom_max of {carrier}: \\t {n.generators[n.generators.carrier==carrier].p_nom_max.sum()/1e3:.2f} GW\")"
   ]
  },
  {
   "cell_type": "code",
   "execution_count": null,
   "metadata": {},
   "outputs": [],
   "source": [
    "# Optimised capacities \"p_nom_opt\" of each carrier in each network\n",
    "for n in [n1, n2, n3]:\n",
    "    for carrier in ['onwind', 'solar']: #for all generators use: n.generators.carrier.unique():\n",
    "        print(f\"p_nom_opt of {carrier}: \\t {n.generators[n.generators.carrier==carrier].p_nom_opt.sum()/1e3:.2f} GW\")"
   ]
  },
  {
   "cell_type": "code",
   "execution_count": null,
   "metadata": {},
   "outputs": [],
   "source": [
    "# Exploitation of the potential of each carrier in each network\n",
    "for n in [n1, n2, n3]:\n",
    "    for carrier in ['onwind', 'solar']: #for all generators use: n.generators.carrier.unique():\n",
    "        print(f\"Exploitation of {carrier}: \\t {(n.generators[n.generators.carrier==carrier].p_nom_opt.sum()/n.generators[n.generators.carrier==carrier].p_nom_max.sum())*1e2:.2f} %\")"
   ]
  },
  {
   "attachments": {},
   "cell_type": "markdown",
   "metadata": {},
   "source": [
    "### Compare all generator capacities"
   ]
  },
  {
   "cell_type": "code",
   "execution_count": null,
   "metadata": {},
   "outputs": [],
   "source": [
    "# Show all capacities\n",
    "print(\"The installed generator capacities are:\")\n",
    "for n in [n1, n2, n3]:\n",
    "    generator_capacities = n.generators.p_nom_opt.groupby(n.generators.carrier).sum()/1e3\n",
    "    print(generator_capacities)\n",
    "del n"
   ]
  },
  {
   "cell_type": "markdown",
   "metadata": {},
   "source": [
    "### Emissions"
   ]
  },
  {
   "cell_type": "code",
   "execution_count": null,
   "metadata": {},
   "outputs": [],
   "source": [
    "n3.global_constraints"
   ]
  },
  {
   "attachments": {},
   "cell_type": "markdown",
   "metadata": {},
   "source": [
    "### Total system cost and LCOH"
   ]
  },
  {
   "cell_type": "code",
   "execution_count": null,
   "metadata": {},
   "outputs": [],
   "source": [
    "cost_difference= (n2.objective-n1.objective) # in €\n",
    "\n",
    "export_demand = n2.loads_t.p.loc[:, 'H2 export load'].sum() # in MWh\n",
    "export_demand_weighted = export_demand*n2.snapshot_weightings.generators[0] # We need to multiply by the snapshot weightings to get the annualized value\n",
    "\n",
    "n12_lcoh = cost_difference/(n2.loads_t.p.loc[:, 'H2 export load'].sum()*n2.snapshot_weightings.generators[0]) # Cost difference between systems divided by the export demand\n",
    "n3_lcoh = n3.objective/(n3.loads_t.p.loc[:, 'H2 export load'].sum()*n3.snapshot_weightings.generators[0])\n",
    "\n",
    "print(f\"The following values relate to the comparison of the MAR ES only and the MAR ES + Export network:\\n\")\n",
    "print(f\"The total annualized system cost for Morocco is {n1.objective / 1e9:.2f} B€ without export and {n2.objective /1e9:.2f} B€ with export\")\n",
    "print(f\"The export of {export_demand_weighted/1e3:.2f} GWh results in a cost difference of {cost_difference/ 1e9:.2f} B€\")\n",
    "print(f\"Cost per unit hydrogen export: {n12_lcoh:.2f} €/MWh\" )\n",
    "print(f\"\\nThe following values relate to Export only network:\\n\")\n",
    "print(f\"The total annualized system cost for Export only is {n3.objective / 1e9:.2f} B€\")\n",
    "\n",
    "print(f\"Cost per unit hydrogen export: {n3_lcoh:.2f} €/MWh\" )"
   ]
  },
  {
   "attachments": {},
   "cell_type": "markdown",
   "metadata": {},
   "source": [
    "### Plotting"
   ]
  },
  {
   "attachments": {},
   "cell_type": "markdown",
   "metadata": {},
   "source": [
    "LCOH"
   ]
  },
  {
   "cell_type": "code",
   "execution_count": null,
   "metadata": {},
   "outputs": [],
   "source": [
    "# Prepare data\n",
    "n_names = [\"Integrated\", \"Islanded\"]\n",
    "costs = [n12_lcoh, n3_lcoh]\n",
    "y_pos = np.arange(len(n_names))\n",
    "# Create bars\n",
    "plt.bar(y_pos, costs)\n",
    "\n",
    "# Enhance graph\n",
    "plt.xticks(y_pos, n_names)\n",
    "plt.ylabel(\"LCOH in €/MWh\")\n",
    "plt.title(\"LCOH\")\n",
    "\n",
    "# Show graph\n",
    "plt.show()"
   ]
  },
  {
   "attachments": {},
   "cell_type": "markdown",
   "metadata": {},
   "source": [
    "Total system cost"
   ]
  },
  {
   "cell_type": "code",
   "execution_count": null,
   "metadata": {},
   "outputs": [],
   "source": [
    "n_names = [\"MAR ES only\", \"MAR ES + Export\", \"Export only\"]\n",
    "costs = [n1.objective/1e9, n2.objective/1e9, n3.objective/1e9]\n",
    "y_pos = np.arange(len(n_names))\n",
    "# Create bars\n",
    "plt.bar(y_pos, costs)\n",
    "\n",
    "# Enhance graph\n",
    "plt.xticks(y_pos, n_names)\n",
    "plt.ylabel(\"System cost in B€\")\n",
    "plt.title(\"System total cost comparison\")\n",
    "\n",
    "# Show graph\n",
    "plt.show()"
   ]
  },
  {
   "cell_type": "code",
   "execution_count": null,
   "metadata": {},
   "outputs": [],
   "source": [
    "n_names = [\"Integrated\", \"Islanded\"]\n",
    "costs2 = [n2.objective/1e9]\n",
    "costs13 = [n1.objective/1e9, n3.objective/1e9]\n",
    "\n",
    "bars = np.add(costs13, costs2).tolist()\n",
    "\n",
    "# The position of the bars on the x-axis\n",
    "r = [0,1]\n",
    "barWidth = 1\n",
    "\n",
    "# Create brown bars\n",
    "plt.bar(r, costs13, color='#7f6d5f', edgecolor='white', width=barWidth)\n",
    "\n",
    "# Create green bars (middle), on top of the first ones\n",
    "#plt.bar(r, costs2, bottom=costs13, color='#557f2d', edgecolor='white', width=barWidth)\n",
    "\n",
    "# Custom X axis\n",
    "plt.xticks(r, n_names)\n",
    " \n",
    "# Show graphic\n",
    "plt.show()"
   ]
  },
  {
   "attachments": {},
   "cell_type": "markdown",
   "metadata": {},
   "source": [
    "Maps"
   ]
  },
  {
   "cell_type": "code",
   "execution_count": null,
   "metadata": {},
   "outputs": [],
   "source": []
  },
  {
   "cell_type": "code",
   "execution_count": 27,
   "metadata": {},
   "outputs": [],
   "source": [
    "# Change the x and y value of the bus named \"H2 export bus\" to preselected location\n",
    "n3.buses.loc[n3.buses.index == 'H2 export bus', 'x'] = -9.758585377234166\n",
    "n3.buses.loc[n3.buses.index == 'H2 export bus', 'y'] = 34.50457835347685"
   ]
  },
  {
   "cell_type": "code",
   "execution_count": 40,
   "metadata": {},
   "outputs": [
    {
     "data": {
      "application/vnd.plotly.v1+json": {
       "config": {
        "linkText": "Export to plot.ly",
        "plotlyServerURL": "https://plot.ly",
        "showLink": false
       },
       "data": [
        {
         "lat": [
          33.4634,
          33.4634
         ],
         "line": {
          "color": "darkseagreen",
          "width": 3
         },
         "lon": [
          -7.3913,
          -7.3913
         ],
         "mode": "lines",
         "opacity": 0.8,
         "type": "scattermapbox"
        },
        {
         "lat": [
          32.79667142857143,
          32.79667142857143
         ],
         "line": {
          "color": "darkseagreen",
          "width": 3
         },
         "lon": [
          -6.740678571428572,
          -6.740678571428572
         ],
         "mode": "lines",
         "opacity": 0.8,
         "type": "scattermapbox"
        },
        {
         "lat": [
          33.07327741935483,
          33.07327741935483
         ],
         "line": {
          "color": "darkseagreen",
          "width": 3
         },
         "lon": [
          -7.505829032258065,
          -7.505829032258065
         ],
         "mode": "lines",
         "opacity": 0.8,
         "type": "scattermapbox"
        },
        {
         "lat": [
          34.69427142857143,
          34.69427142857143
         ],
         "line": {
          "color": "darkseagreen",
          "width": 3
         },
         "lon": [
          -2.515971428571429,
          -2.515971428571429
         ],
         "mode": "lines",
         "opacity": 0.8,
         "type": "scattermapbox"
        },
        {
         "lat": [
          34.23870000000001,
          34.23870000000001
         ],
         "line": {
          "color": "darkseagreen",
          "width": 3
         },
         "lon": [
          -2.07818,
          -2.07818
         ],
         "mode": "lines",
         "opacity": 0.8,
         "type": "scattermapbox"
        },
        {
         "lat": [
          35.112775,
          35.112775
         ],
         "line": {
          "color": "darkseagreen",
          "width": 3
         },
         "lon": [
          -3.1073500000000003,
          -3.1073500000000003
         ],
         "mode": "lines",
         "opacity": 0.8,
         "type": "scattermapbox"
        },
        {
         "lat": [
          34.660814285714295,
          34.660814285714295
         ],
         "line": {
          "color": "darkseagreen",
          "width": 3
         },
         "lon": [
          -1.9562571428571427,
          -1.9562571428571427
         ],
         "mode": "lines",
         "opacity": 0.8,
         "type": "scattermapbox"
        },
        {
         "lat": [
          33.750719999999994,
          33.750719999999994
         ],
         "line": {
          "color": "darkseagreen",
          "width": 3
         },
         "lon": [
          -6.169279999999999,
          -6.169279999999999
         ],
         "mode": "lines",
         "opacity": 0.8,
         "type": "scattermapbox"
        },
        {
         "lat": [
          34.00280000000001,
          34.00280000000001
         ],
         "line": {
          "color": "darkseagreen",
          "width": 3
         },
         "lon": [
          -6.68555,
          -6.68555
         ],
         "mode": "lines",
         "opacity": 0.8,
         "type": "scattermapbox"
        },
        {
         "lat": [
          33.879,
          33.879
         ],
         "line": {
          "color": "darkseagreen",
          "width": 3
         },
         "lon": [
          -6.8294500000000005,
          -6.8294500000000005
         ],
         "mode": "lines",
         "opacity": 0.8,
         "type": "scattermapbox"
        },
        {
         "lat": [
          30.422941666666663,
          30.422941666666663
         ],
         "line": {
          "color": "darkseagreen",
          "width": 3
         },
         "lon": [
          -9.499433333333334,
          -9.499433333333334
         ],
         "mode": "lines",
         "opacity": 0.8,
         "type": "scattermapbox"
        },
        {
         "lat": [
          30.15175,
          30.15175
         ],
         "line": {
          "color": "darkseagreen",
          "width": 3
         },
         "lon": [
          -9.3264,
          -9.3264
         ],
         "mode": "lines",
         "opacity": 0.8,
         "type": "scattermapbox"
        },
        {
         "lat": [
          30.3944,
          30.3944
         ],
         "line": {
          "color": "darkseagreen",
          "width": 3
         },
         "lon": [
          -9.375633333333333,
          -9.375633333333333
         ],
         "mode": "lines",
         "opacity": 0.8,
         "type": "scattermapbox"
        },
        {
         "lat": [
          31.24959166666666,
          31.24959166666666
         ],
         "line": {
          "color": "darkseagreen",
          "width": 3
         },
         "lon": [
          -6.162158333333334,
          -6.162158333333334
         ],
         "mode": "lines",
         "opacity": 0.8,
         "type": "scattermapbox"
        },
        {
         "lat": [
          30.479766666666666,
          30.479766666666666
         ],
         "line": {
          "color": "darkseagreen",
          "width": 3
         },
         "lon": [
          -8.771733333333335,
          -8.771733333333335
         ],
         "mode": "lines",
         "opacity": 0.8,
         "type": "scattermapbox"
        },
        {
         "lat": [
          29.629780000000004,
          29.629780000000004
         ],
         "line": {
          "color": "darkseagreen",
          "width": 3
         },
         "lon": [
          -9.651570000000001,
          -9.651570000000001
         ],
         "mode": "lines",
         "opacity": 0.8,
         "type": "scattermapbox"
        },
        {
         "lat": [
          30.686,
          30.686
         ],
         "line": {
          "color": "darkseagreen",
          "width": 3
         },
         "lon": [
          -6.4549,
          -6.4549
         ],
         "mode": "lines",
         "opacity": 0.8,
         "type": "scattermapbox"
        },
        {
         "lat": [
          32.05041666666667,
          32.05041666666667
         ],
         "line": {
          "color": "darkseagreen",
          "width": 3
         },
         "lon": [
          -6.5981499999999995,
          -6.5981499999999995
         ],
         "mode": "lines",
         "opacity": 0.8,
         "type": "scattermapbox"
        },
        {
         "lat": [
          32.5377,
          32.5377
         ],
         "line": {
          "color": "darkseagreen",
          "width": 3
         },
         "lon": [
          -6.4784999999999995,
          -6.4784999999999995
         ],
         "mode": "lines",
         "opacity": 0.8,
         "type": "scattermapbox"
        },
        {
         "lat": [
          35.2168,
          35.2168
         ],
         "line": {
          "color": "darkseagreen",
          "width": 3
         },
         "lon": [
          -5.3161,
          -5.3161
         ],
         "mode": "lines",
         "opacity": 0.8,
         "type": "scattermapbox"
        },
        {
         "lat": [
          35.711222222222226,
          35.711222222222226
         ],
         "line": {
          "color": "darkseagreen",
          "width": 3
         },
         "lon": [
          -5.741122222222223,
          -5.741122222222223
         ],
         "mode": "lines",
         "opacity": 0.8,
         "type": "scattermapbox"
        },
        {
         "lat": [
          35.044399999999996,
          35.044399999999996
         ],
         "line": {
          "color": "darkseagreen",
          "width": 3
         },
         "lon": [
          -6.0274,
          -6.0274
         ],
         "mode": "lines",
         "opacity": 0.8,
         "type": "scattermapbox"
        },
        {
         "lat": [
          35.68683333333333,
          35.68683333333333
         ],
         "line": {
          "color": "darkseagreen",
          "width": 3
         },
         "lon": [
          -5.847783333333333,
          -5.847783333333333
         ],
         "mode": "lines",
         "opacity": 0.8,
         "type": "scattermapbox"
        },
        {
         "lat": [
          35.68363888888889,
          35.68363888888889
         ],
         "line": {
          "color": "darkseagreen",
          "width": 3
         },
         "lon": [
          -5.524394444444444,
          -5.524394444444444
         ],
         "mode": "lines",
         "opacity": 0.8,
         "type": "scattermapbox"
        },
        {
         "lat": [
          35.078871428571425,
          35.078871428571425
         ],
         "line": {
          "color": "darkseagreen",
          "width": 3
         },
         "lon": [
          -3.9425714285714286,
          -3.9425714285714286
         ],
         "mode": "lines",
         "opacity": 0.8,
         "type": "scattermapbox"
        },
        {
         "lat": [
          34.114066666666666,
          34.114066666666666
         ],
         "line": {
          "color": "darkseagreen",
          "width": 3
         },
         "lon": [
          -4.678366666666666,
          -4.678366666666666
         ],
         "mode": "lines",
         "opacity": 0.8,
         "type": "scattermapbox"
        },
        {
         "lat": [
          34.27955,
          34.27955
         ],
         "line": {
          "color": "darkseagreen",
          "width": 3
         },
         "lon": [
          -3.8487999999999998,
          -3.8487999999999998
         ],
         "mode": "lines",
         "opacity": 0.8,
         "type": "scattermapbox"
        },
        {
         "lat": [
          33.087434782608696,
          33.087434782608696
         ],
         "line": {
          "color": "darkseagreen",
          "width": 3
         },
         "lon": [
          -8.417773913043478,
          -8.417773913043478
         ],
         "mode": "lines",
         "opacity": 0.8,
         "type": "scattermapbox"
        },
        {
         "lat": [
          32.07396,
          32.07396
         ],
         "line": {
          "color": "darkseagreen",
          "width": 3
         },
         "lon": [
          -8.806899999999999,
          -8.806899999999999
         ],
         "mode": "lines",
         "opacity": 0.8,
         "type": "scattermapbox"
        },
        {
         "lat": [
          34.00962,
          34.00962
         ],
         "line": {
          "color": "darkseagreen",
          "width": 3
         },
         "lon": [
          -4.97278,
          -4.97278
         ],
         "mode": "lines",
         "opacity": 0.8,
         "type": "scattermapbox"
        },
        {
         "lat": [
          33.90866,
          33.90866
         ],
         "line": {
          "color": "darkseagreen",
          "width": 3
         },
         "lon": [
          -4.76906,
          -4.76906
         ],
         "mode": "lines",
         "opacity": 0.8,
         "type": "scattermapbox"
        },
        {
         "lat": [
          34.02445714285714,
          34.02445714285714
         ],
         "line": {
          "color": "darkseagreen",
          "width": 3
         },
         "lon": [
          -5.082385714285714,
          -5.082385714285714
         ],
         "mode": "lines",
         "opacity": 0.8,
         "type": "scattermapbox"
        },
        {
         "lat": [
          34.63645714285714,
          34.63645714285714
         ],
         "line": {
          "color": "darkseagreen",
          "width": 3
         },
         "lon": [
          -6.167271428571429,
          -6.167271428571429
         ],
         "mode": "lines",
         "opacity": 0.8,
         "type": "scattermapbox"
        },
        {
         "lat": [
          34.54973333333333,
          34.54973333333333
         ],
         "line": {
          "color": "darkseagreen",
          "width": 3
         },
         "lon": [
          -5.764466666666666,
          -5.764466666666666
         ],
         "mode": "lines",
         "opacity": 0.8,
         "type": "scattermapbox"
        },
        {
         "lat": [
          33.53502307692308,
          33.53502307692308
         ],
         "line": {
          "color": "darkseagreen",
          "width": 3
         },
         "lon": [
          -7.547923076923078,
          -7.547923076923078
         ],
         "mode": "lines",
         "opacity": 0.8,
         "type": "scattermapbox"
        },
        {
         "lat": [
          33.66785,
          33.66785
         ],
         "line": {
          "color": "darkseagreen",
          "width": 3
         },
         "lon": [
          -7.4281500000000005,
          -7.4281500000000005
         ],
         "mode": "lines",
         "opacity": 0.8,
         "type": "scattermapbox"
        },
        {
         "lat": [
          28.479,
          28.479
         ],
         "line": {
          "color": "darkseagreen",
          "width": 3
         },
         "lon": [
          -11.1686,
          -11.1686
         ],
         "mode": "lines",
         "opacity": 0.8,
         "type": "scattermapbox"
        },
        {
         "lat": [
          31.60366666666667,
          31.60366666666667
         ],
         "line": {
          "color": "darkseagreen",
          "width": 3
         },
         "lon": [
          -7.5310999999999995,
          -7.5310999999999995
         ],
         "mode": "lines",
         "opacity": 0.8,
         "type": "scattermapbox"
        },
        {
         "lat": [
          31.486233333333335,
          31.486233333333335
         ],
         "line": {
          "color": "darkseagreen",
          "width": 3
         },
         "lon": [
          -8.718466666666666,
          -8.718466666666666
         ],
         "mode": "lines",
         "opacity": 0.8,
         "type": "scattermapbox"
        },
        {
         "lat": [
          32.143,
          32.143
         ],
         "line": {
          "color": "darkseagreen",
          "width": 3
         },
         "lon": [
          -7.823236363636363,
          -7.823236363636363
         ],
         "mode": "lines",
         "opacity": 0.8,
         "type": "scattermapbox"
        },
        {
         "lat": [
          31.5461,
          31.5461
         ],
         "line": {
          "color": "darkseagreen",
          "width": 3
         },
         "lon": [
          -9.5806,
          -9.5806
         ],
         "mode": "lines",
         "opacity": 0.8,
         "type": "scattermapbox"
        },
        {
         "lat": [
          31.707633333333334,
          31.707633333333334
         ],
         "line": {
          "color": "darkseagreen",
          "width": 3
         },
         "lon": [
          -8.105188888888888,
          -8.105188888888888
         ],
         "mode": "lines",
         "opacity": 0.8,
         "type": "scattermapbox"
        },
        {
         "lat": [
          33.6728,
          33.6728
         ],
         "line": {
          "color": "darkseagreen",
          "width": 3
         },
         "lon": [
          -5.5273,
          -5.5273
         ],
         "mode": "lines",
         "opacity": 0.8,
         "type": "scattermapbox"
        },
        {
         "lat": [
          31.7714,
          31.7714
         ],
         "line": {
          "color": "darkseagreen",
          "width": 3
         },
         "lon": [
          -4.49952,
          -4.49952
         ],
         "mode": "lines",
         "opacity": 0.8,
         "type": "scattermapbox"
        },
        {
         "lat": [
          33.495850000000004,
          33.495850000000004
         ],
         "line": {
          "color": "darkseagreen",
          "width": 3
         },
         "lon": [
          -5.1858,
          -5.1858
         ],
         "mode": "lines",
         "opacity": 0.8,
         "type": "scattermapbox"
        },
        {
         "lat": [
          32.894038461538464,
          32.894038461538464
         ],
         "line": {
          "color": "darkseagreen",
          "width": 3
         },
         "lon": [
          -5.277946153846154,
          -5.277946153846154
         ],
         "mode": "lines",
         "opacity": 0.8,
         "type": "scattermapbox"
        },
        {
         "lat": [
          33.94476666666666,
          33.94476666666666
         ],
         "line": {
          "color": "darkseagreen",
          "width": 3
         },
         "lon": [
          -5.611291666666666,
          -5.611291666666666
         ],
         "mode": "lines",
         "opacity": 0.8,
         "type": "scattermapbox"
        },
        {
         "lat": [
          33.4634,
          37.74155839772218
         ],
         "line": {
          "color": "darkseagreen",
          "width": 3
         },
         "lon": [
          -7.3913,
          -14.232239959015194
         ],
         "mode": "lines",
         "opacity": 0.8,
         "type": "scattermapbox"
        },
        {
         "lat": [
          32.79667142857143,
          37.74155839772218
         ],
         "line": {
          "color": "darkseagreen",
          "width": 3
         },
         "lon": [
          -6.740678571428572,
          -14.232239959015194
         ],
         "mode": "lines",
         "opacity": 0.8,
         "type": "scattermapbox"
        },
        {
         "lat": [
          33.07327741935483,
          37.74155839772218
         ],
         "line": {
          "color": "darkseagreen",
          "width": 3
         },
         "lon": [
          -7.505829032258065,
          -14.232239959015194
         ],
         "mode": "lines",
         "opacity": 0.8,
         "type": "scattermapbox"
        },
        {
         "lat": [
          34.69427142857143,
          37.74155839772218
         ],
         "line": {
          "color": "darkseagreen",
          "width": 3
         },
         "lon": [
          -2.515971428571429,
          -14.232239959015194
         ],
         "mode": "lines",
         "opacity": 0.8,
         "type": "scattermapbox"
        },
        {
         "lat": [
          34.23870000000001,
          37.74155839772218
         ],
         "line": {
          "color": "darkseagreen",
          "width": 3
         },
         "lon": [
          -2.07818,
          -14.232239959015194
         ],
         "mode": "lines",
         "opacity": 0.8,
         "type": "scattermapbox"
        },
        {
         "lat": [
          35.112775,
          37.74155839772218
         ],
         "line": {
          "color": "darkseagreen",
          "width": 3
         },
         "lon": [
          -3.1073500000000003,
          -14.232239959015194
         ],
         "mode": "lines",
         "opacity": 0.8,
         "type": "scattermapbox"
        },
        {
         "lat": [
          34.660814285714295,
          37.74155839772218
         ],
         "line": {
          "color": "darkseagreen",
          "width": 3
         },
         "lon": [
          -1.9562571428571427,
          -14.232239959015194
         ],
         "mode": "lines",
         "opacity": 0.8,
         "type": "scattermapbox"
        },
        {
         "lat": [
          33.750719999999994,
          37.74155839772218
         ],
         "line": {
          "color": "darkseagreen",
          "width": 3
         },
         "lon": [
          -6.169279999999999,
          -14.232239959015194
         ],
         "mode": "lines",
         "opacity": 0.8,
         "type": "scattermapbox"
        },
        {
         "lat": [
          34.00280000000001,
          37.74155839772218
         ],
         "line": {
          "color": "darkseagreen",
          "width": 3
         },
         "lon": [
          -6.68555,
          -14.232239959015194
         ],
         "mode": "lines",
         "opacity": 0.8,
         "type": "scattermapbox"
        },
        {
         "lat": [
          33.879,
          37.74155839772218
         ],
         "line": {
          "color": "darkseagreen",
          "width": 3
         },
         "lon": [
          -6.8294500000000005,
          -14.232239959015194
         ],
         "mode": "lines",
         "opacity": 0.8,
         "type": "scattermapbox"
        },
        {
         "lat": [
          30.422941666666663,
          37.74155839772218
         ],
         "line": {
          "color": "darkseagreen",
          "width": 3
         },
         "lon": [
          -9.499433333333334,
          -14.232239959015194
         ],
         "mode": "lines",
         "opacity": 0.8,
         "type": "scattermapbox"
        },
        {
         "lat": [
          30.15175,
          37.74155839772218
         ],
         "line": {
          "color": "darkseagreen",
          "width": 3
         },
         "lon": [
          -9.3264,
          -14.232239959015194
         ],
         "mode": "lines",
         "opacity": 0.8,
         "type": "scattermapbox"
        },
        {
         "lat": [
          30.3944,
          37.74155839772218
         ],
         "line": {
          "color": "darkseagreen",
          "width": 3
         },
         "lon": [
          -9.375633333333333,
          -14.232239959015194
         ],
         "mode": "lines",
         "opacity": 0.8,
         "type": "scattermapbox"
        },
        {
         "lat": [
          31.24959166666666,
          37.74155839772218
         ],
         "line": {
          "color": "darkseagreen",
          "width": 3
         },
         "lon": [
          -6.162158333333334,
          -14.232239959015194
         ],
         "mode": "lines",
         "opacity": 0.8,
         "type": "scattermapbox"
        },
        {
         "lat": [
          30.479766666666666,
          37.74155839772218
         ],
         "line": {
          "color": "darkseagreen",
          "width": 3
         },
         "lon": [
          -8.771733333333335,
          -14.232239959015194
         ],
         "mode": "lines",
         "opacity": 0.8,
         "type": "scattermapbox"
        },
        {
         "lat": [
          29.629780000000004,
          37.74155839772218
         ],
         "line": {
          "color": "darkseagreen",
          "width": 3
         },
         "lon": [
          -9.651570000000001,
          -14.232239959015194
         ],
         "mode": "lines",
         "opacity": 0.8,
         "type": "scattermapbox"
        },
        {
         "lat": [
          30.686,
          37.74155839772218
         ],
         "line": {
          "color": "darkseagreen",
          "width": 3
         },
         "lon": [
          -6.4549,
          -14.232239959015194
         ],
         "mode": "lines",
         "opacity": 0.8,
         "type": "scattermapbox"
        },
        {
         "lat": [
          32.05041666666667,
          37.74155839772218
         ],
         "line": {
          "color": "darkseagreen",
          "width": 3
         },
         "lon": [
          -6.5981499999999995,
          -14.232239959015194
         ],
         "mode": "lines",
         "opacity": 0.8,
         "type": "scattermapbox"
        },
        {
         "lat": [
          32.5377,
          37.74155839772218
         ],
         "line": {
          "color": "darkseagreen",
          "width": 3
         },
         "lon": [
          -6.4784999999999995,
          -14.232239959015194
         ],
         "mode": "lines",
         "opacity": 0.8,
         "type": "scattermapbox"
        },
        {
         "lat": [
          35.2168,
          37.74155839772218
         ],
         "line": {
          "color": "darkseagreen",
          "width": 3
         },
         "lon": [
          -5.3161,
          -14.232239959015194
         ],
         "mode": "lines",
         "opacity": 0.8,
         "type": "scattermapbox"
        },
        {
         "lat": [
          35.711222222222226,
          37.74155839772218
         ],
         "line": {
          "color": "darkseagreen",
          "width": 3
         },
         "lon": [
          -5.741122222222223,
          -14.232239959015194
         ],
         "mode": "lines",
         "opacity": 0.8,
         "type": "scattermapbox"
        },
        {
         "lat": [
          35.044399999999996,
          37.74155839772218
         ],
         "line": {
          "color": "darkseagreen",
          "width": 3
         },
         "lon": [
          -6.0274,
          -14.232239959015194
         ],
         "mode": "lines",
         "opacity": 0.8,
         "type": "scattermapbox"
        },
        {
         "lat": [
          35.68683333333333,
          37.74155839772218
         ],
         "line": {
          "color": "darkseagreen",
          "width": 3
         },
         "lon": [
          -5.847783333333333,
          -14.232239959015194
         ],
         "mode": "lines",
         "opacity": 0.8,
         "type": "scattermapbox"
        },
        {
         "lat": [
          35.68363888888889,
          37.74155839772218
         ],
         "line": {
          "color": "darkseagreen",
          "width": 3
         },
         "lon": [
          -5.524394444444444,
          -14.232239959015194
         ],
         "mode": "lines",
         "opacity": 0.8,
         "type": "scattermapbox"
        },
        {
         "lat": [
          35.078871428571425,
          37.74155839772218
         ],
         "line": {
          "color": "darkseagreen",
          "width": 3
         },
         "lon": [
          -3.9425714285714286,
          -14.232239959015194
         ],
         "mode": "lines",
         "opacity": 0.8,
         "type": "scattermapbox"
        },
        {
         "lat": [
          34.114066666666666,
          37.74155839772218
         ],
         "line": {
          "color": "darkseagreen",
          "width": 3
         },
         "lon": [
          -4.678366666666666,
          -14.232239959015194
         ],
         "mode": "lines",
         "opacity": 0.8,
         "type": "scattermapbox"
        },
        {
         "lat": [
          34.27955,
          37.74155839772218
         ],
         "line": {
          "color": "darkseagreen",
          "width": 3
         },
         "lon": [
          -3.8487999999999998,
          -14.232239959015194
         ],
         "mode": "lines",
         "opacity": 0.8,
         "type": "scattermapbox"
        },
        {
         "lat": [
          33.087434782608696,
          37.74155839772218
         ],
         "line": {
          "color": "darkseagreen",
          "width": 3
         },
         "lon": [
          -8.417773913043478,
          -14.232239959015194
         ],
         "mode": "lines",
         "opacity": 0.8,
         "type": "scattermapbox"
        },
        {
         "lat": [
          32.07396,
          37.74155839772218
         ],
         "line": {
          "color": "darkseagreen",
          "width": 3
         },
         "lon": [
          -8.806899999999999,
          -14.232239959015194
         ],
         "mode": "lines",
         "opacity": 0.8,
         "type": "scattermapbox"
        },
        {
         "lat": [
          34.00962,
          37.74155839772218
         ],
         "line": {
          "color": "darkseagreen",
          "width": 3
         },
         "lon": [
          -4.97278,
          -14.232239959015194
         ],
         "mode": "lines",
         "opacity": 0.8,
         "type": "scattermapbox"
        },
        {
         "lat": [
          33.90866,
          37.74155839772218
         ],
         "line": {
          "color": "darkseagreen",
          "width": 3
         },
         "lon": [
          -4.76906,
          -14.232239959015194
         ],
         "mode": "lines",
         "opacity": 0.8,
         "type": "scattermapbox"
        },
        {
         "lat": [
          34.02445714285714,
          37.74155839772218
         ],
         "line": {
          "color": "darkseagreen",
          "width": 3
         },
         "lon": [
          -5.082385714285714,
          -14.232239959015194
         ],
         "mode": "lines",
         "opacity": 0.8,
         "type": "scattermapbox"
        },
        {
         "lat": [
          34.63645714285714,
          37.74155839772218
         ],
         "line": {
          "color": "darkseagreen",
          "width": 3
         },
         "lon": [
          -6.167271428571429,
          -14.232239959015194
         ],
         "mode": "lines",
         "opacity": 0.8,
         "type": "scattermapbox"
        },
        {
         "lat": [
          34.54973333333333,
          37.74155839772218
         ],
         "line": {
          "color": "darkseagreen",
          "width": 3
         },
         "lon": [
          -5.764466666666666,
          -14.232239959015194
         ],
         "mode": "lines",
         "opacity": 0.8,
         "type": "scattermapbox"
        },
        {
         "lat": [
          33.53502307692308,
          37.74155839772218
         ],
         "line": {
          "color": "darkseagreen",
          "width": 3
         },
         "lon": [
          -7.547923076923078,
          -14.232239959015194
         ],
         "mode": "lines",
         "opacity": 0.8,
         "type": "scattermapbox"
        },
        {
         "lat": [
          33.66785,
          37.74155839772218
         ],
         "line": {
          "color": "darkseagreen",
          "width": 3
         },
         "lon": [
          -7.4281500000000005,
          -14.232239959015194
         ],
         "mode": "lines",
         "opacity": 0.8,
         "type": "scattermapbox"
        },
        {
         "lat": [
          28.479,
          37.74155839772218
         ],
         "line": {
          "color": "darkseagreen",
          "width": 3
         },
         "lon": [
          -11.1686,
          -14.232239959015194
         ],
         "mode": "lines",
         "opacity": 0.8,
         "type": "scattermapbox"
        },
        {
         "lat": [
          31.60366666666667,
          37.74155839772218
         ],
         "line": {
          "color": "darkseagreen",
          "width": 3
         },
         "lon": [
          -7.5310999999999995,
          -14.232239959015194
         ],
         "mode": "lines",
         "opacity": 0.8,
         "type": "scattermapbox"
        },
        {
         "lat": [
          31.486233333333335,
          37.74155839772218
         ],
         "line": {
          "color": "darkseagreen",
          "width": 3
         },
         "lon": [
          -8.718466666666666,
          -14.232239959015194
         ],
         "mode": "lines",
         "opacity": 0.8,
         "type": "scattermapbox"
        },
        {
         "lat": [
          32.143,
          37.74155839772218
         ],
         "line": {
          "color": "darkseagreen",
          "width": 3
         },
         "lon": [
          -7.823236363636363,
          -14.232239959015194
         ],
         "mode": "lines",
         "opacity": 0.8,
         "type": "scattermapbox"
        },
        {
         "lat": [
          31.5461,
          37.74155839772218
         ],
         "line": {
          "color": "darkseagreen",
          "width": 3
         },
         "lon": [
          -9.5806,
          -14.232239959015194
         ],
         "mode": "lines",
         "opacity": 0.8,
         "type": "scattermapbox"
        },
        {
         "lat": [
          31.707633333333334,
          37.74155839772218
         ],
         "line": {
          "color": "darkseagreen",
          "width": 3
         },
         "lon": [
          -8.105188888888888,
          -14.232239959015194
         ],
         "mode": "lines",
         "opacity": 0.8,
         "type": "scattermapbox"
        },
        {
         "lat": [
          33.6728,
          37.74155839772218
         ],
         "line": {
          "color": "darkseagreen",
          "width": 3
         },
         "lon": [
          -5.5273,
          -14.232239959015194
         ],
         "mode": "lines",
         "opacity": 0.8,
         "type": "scattermapbox"
        },
        {
         "lat": [
          31.7714,
          37.74155839772218
         ],
         "line": {
          "color": "darkseagreen",
          "width": 3
         },
         "lon": [
          -4.49952,
          -14.232239959015194
         ],
         "mode": "lines",
         "opacity": 0.8,
         "type": "scattermapbox"
        },
        {
         "lat": [
          33.495850000000004,
          37.74155839772218
         ],
         "line": {
          "color": "darkseagreen",
          "width": 3
         },
         "lon": [
          -5.1858,
          -14.232239959015194
         ],
         "mode": "lines",
         "opacity": 0.8,
         "type": "scattermapbox"
        },
        {
         "lat": [
          32.894038461538464,
          37.74155839772218
         ],
         "line": {
          "color": "darkseagreen",
          "width": 3
         },
         "lon": [
          -5.277946153846154,
          -14.232239959015194
         ],
         "mode": "lines",
         "opacity": 0.8,
         "type": "scattermapbox"
        },
        {
         "lat": [
          33.94476666666666,
          37.74155839772218
         ],
         "line": {
          "color": "darkseagreen",
          "width": 3
         },
         "lon": [
          -5.611291666666666,
          -14.232239959015194
         ],
         "mode": "lines",
         "opacity": 0.8,
         "type": "scattermapbox"
        },
        {
         "hoverinfo": "text",
         "lat": [
          33.4634,
          32.79667142857143,
          33.07327741935483,
          34.69427142857143,
          34.23870000000001,
          35.112775,
          34.660814285714295,
          33.750719999999994,
          34.00280000000001,
          33.879,
          30.422941666666663,
          30.15175,
          30.3944,
          31.24959166666666,
          30.479766666666666,
          29.629780000000004,
          30.686,
          32.05041666666667,
          32.5377,
          35.2168,
          35.711222222222226,
          35.044399999999996,
          35.68683333333333,
          35.68363888888889,
          35.078871428571425,
          34.114066666666666,
          34.27955,
          33.087434782608696,
          32.07396,
          34.00962,
          33.90866,
          34.02445714285714,
          34.63645714285714,
          34.54973333333333,
          33.53502307692308,
          33.66785,
          28.479,
          31.60366666666667,
          31.486233333333335,
          32.143,
          31.5461,
          31.707633333333334,
          33.6728,
          31.7714,
          33.495850000000004,
          32.894038461538464,
          33.94476666666666,
          35.60247919886109,
          35.26911491314681,
          35.407417908538505,
          36.21791491314681,
          35.9901291988611,
          36.427166698861086,
          36.20118634171824,
          35.74613919886109,
          35.87217919886109,
          35.81027919886109,
          34.08225003219442,
          33.94665419886109,
          34.06797919886109,
          34.495575032194424,
          34.110662532194425,
          33.68566919886109,
          34.21377919886109,
          34.895987532194425,
          35.13962919886109,
          36.47917919886109,
          36.7263903099722,
          36.392979198861084,
          36.714195865527756,
          36.71259864330554,
          36.4102149131468,
          35.92781253219442,
          36.01055419886109,
          35.41449659016544,
          34.907759198861086,
          35.87558919886109,
          35.825109198861085,
          35.88300777028966,
          36.18900777028966,
          36.145645865527754,
          35.638290737322635,
          35.704704198861094,
          33.11027919886109,
          34.67261253219442,
          34.61389586552776,
          34.94227919886109,
          34.64382919886109,
          34.72459586552776,
          35.70717919886109,
          34.756479198861086,
          35.618704198861096,
          35.31779842963032,
          35.84316253219442
         ],
         "lon": [
          -7.3913,
          -6.740678571428572,
          -7.505829032258065,
          -2.515971428571429,
          -2.07818,
          -3.1073500000000003,
          -1.9562571428571427,
          -6.169279999999999,
          -6.68555,
          -6.8294500000000005,
          -9.499433333333334,
          -9.3264,
          -9.375633333333333,
          -6.162158333333334,
          -8.771733333333335,
          -9.651570000000001,
          -6.4549,
          -6.5981499999999995,
          -6.4784999999999995,
          -5.3161,
          -5.741122222222223,
          -6.0274,
          -5.847783333333333,
          -5.524394444444444,
          -3.9425714285714286,
          -4.678366666666666,
          -3.8487999999999998,
          -8.417773913043478,
          -8.806899999999999,
          -4.97278,
          -4.76906,
          -5.082385714285714,
          -6.167271428571429,
          -5.764466666666666,
          -7.547923076923078,
          -7.4281500000000005,
          -11.1686,
          -7.5310999999999995,
          -8.718466666666666,
          -7.823236363636363,
          -9.5806,
          -8.105188888888888,
          -5.5273,
          -4.49952,
          -5.1858,
          -5.277946153846154,
          -5.611291666666666,
          -10.811769979507597,
          -10.486459265221884,
          -10.86903449563663,
          -8.374105693793311,
          -8.155209979507598,
          -8.669794979507596,
          -8.094248550936168,
          -10.200759979507596,
          -10.458894979507598,
          -10.530844979507597,
          -11.865836646174264,
          -11.779319979507598,
          -11.803936646174265,
          -10.197199146174263,
          -11.501986646174265,
          -11.941904979507598,
          -10.343569979507597,
          -10.415194979507596,
          -10.355369979507596,
          -9.774169979507597,
          -9.986681090618708,
          -10.129819979507598,
          -10.040011646174264,
          -9.87831720172982,
          -9.087405693793311,
          -9.45530331284093,
          -9.040519979507597,
          -11.325006936029336,
          -11.519569979507597,
          -9.602509979507598,
          -9.500649979507596,
          -9.657312836650455,
          -10.199755693793312,
          -9.99835331284093,
          -10.890081517969136,
          -10.830194979507597,
          -12.700419979507597,
          -10.881669979507597,
          -11.47535331284093,
          -11.027738161325779,
          -11.906419979507596,
          -11.168714423952041,
          -9.879769979507596,
          -9.365879979507596,
          -9.709019979507598,
          -9.755093056430674,
          -9.921765812840931
         ],
         "marker": {
          "opacity": 0
         },
         "mode": "markers",
         "text": [
          "Link MAR.1.1_1 H2 Electrolysis",
          "Link MAR.1.2_1 H2 Electrolysis",
          "Link MAR.1.3_1 H2 Electrolysis",
          "Link MAR.10.1_1 H2 Electrolysis",
          "Link MAR.10.3_1 H2 Electrolysis",
          "Link MAR.10.4_1 H2 Electrolysis",
          "Link MAR.10.5_1 H2 Electrolysis",
          "Link MAR.11.1_1 H2 Electrolysis",
          "Link MAR.11.3_1 H2 Electrolysis",
          "Link MAR.11.4_1 H2 Electrolysis",
          "Link MAR.12.1_1 H2 Electrolysis",
          "Link MAR.12.2_1 H2 Electrolysis",
          "Link MAR.12.3_1 H2 Electrolysis",
          "Link MAR.12.4_1 H2 Electrolysis",
          "Link MAR.12.5_1 H2 Electrolysis",
          "Link MAR.12.6_1 H2 Electrolysis",
          "Link MAR.12.7_1 H2 Electrolysis",
          "Link MAR.13.1_1 H2 Electrolysis",
          "Link MAR.13.2_1 H2 Electrolysis",
          "Link MAR.14.1_1 H2 Electrolysis",
          "Link MAR.14.2_1 H2 Electrolysis",
          "Link MAR.14.3_1 H2 Electrolysis",
          "Link MAR.14.4_1 H2 Electrolysis",
          "Link MAR.14.5_1 H2 Electrolysis",
          "Link MAR.15.1_1 H2 Electrolysis",
          "Link MAR.15.2_1 H2 Electrolysis",
          "Link MAR.15.3_1 H2 Electrolysis",
          "Link MAR.2.1_1 H2 Electrolysis",
          "Link MAR.2.2_1 H2 Electrolysis",
          "Link MAR.3.2_1 H2 Electrolysis",
          "Link MAR.3.3_1 H2 Electrolysis",
          "Link MAR.3.4_1 H2 Electrolysis",
          "Link MAR.4.1_1 H2 Electrolysis",
          "Link MAR.4.2_1 H2 Electrolysis",
          "Link MAR.5.1_1 H2 Electrolysis",
          "Link MAR.5.2_1 H2 Electrolysis",
          "Link MAR.6.3_1 H2 Electrolysis",
          "Link MAR.8.1_1 H2 Electrolysis",
          "Link MAR.8.2_1 H2 Electrolysis",
          "Link MAR.8.3_1 H2 Electrolysis",
          "Link MAR.8.4_1 H2 Electrolysis",
          "Link MAR.8.5_1 H2 Electrolysis",
          "Link MAR.9.1_1 H2 Electrolysis",
          "Link MAR.9.2_1 H2 Electrolysis",
          "Link MAR.9.3_1 H2 Electrolysis",
          "Link MAR.9.4_1 H2 Electrolysis",
          "Link MAR.9.5_1 H2 Electrolysis",
          "Link MAR.1.1_1 H2 export",
          "Link MAR.1.2_1 H2 export",
          "Link MAR.1.3_1 H2 export",
          "Link MAR.10.1_1 H2 export",
          "Link MAR.10.3_1 H2 export",
          "Link MAR.10.4_1 H2 export",
          "Link MAR.10.5_1 H2 export",
          "Link MAR.11.1_1 H2 export",
          "Link MAR.11.3_1 H2 export",
          "Link MAR.11.4_1 H2 export",
          "Link MAR.12.1_1 H2 export",
          "Link MAR.12.2_1 H2 export",
          "Link MAR.12.3_1 H2 export",
          "Link MAR.12.4_1 H2 export",
          "Link MAR.12.5_1 H2 export",
          "Link MAR.12.6_1 H2 export",
          "Link MAR.12.7_1 H2 export",
          "Link MAR.13.1_1 H2 export",
          "Link MAR.13.2_1 H2 export",
          "Link MAR.14.1_1 H2 export",
          "Link MAR.14.2_1 H2 export",
          "Link MAR.14.3_1 H2 export",
          "Link MAR.14.4_1 H2 export",
          "Link MAR.14.5_1 H2 export",
          "Link MAR.15.1_1 H2 export",
          "Link MAR.15.2_1 H2 export",
          "Link MAR.15.3_1 H2 export",
          "Link MAR.2.1_1 H2 export",
          "Link MAR.2.2_1 H2 export",
          "Link MAR.3.2_1 H2 export",
          "Link MAR.3.3_1 H2 export",
          "Link MAR.3.4_1 H2 export",
          "Link MAR.4.1_1 H2 export",
          "Link MAR.4.2_1 H2 export",
          "Link MAR.5.1_1 H2 export",
          "Link MAR.5.2_1 H2 export",
          "Link MAR.6.3_1 H2 export",
          "Link MAR.8.1_1 H2 export",
          "Link MAR.8.2_1 H2 export",
          "Link MAR.8.3_1 H2 export",
          "Link MAR.8.4_1 H2 export",
          "Link MAR.8.5_1 H2 export",
          "Link MAR.9.1_1 H2 export",
          "Link MAR.9.2_1 H2 export",
          "Link MAR.9.3_1 H2 export",
          "Link MAR.9.4_1 H2 export",
          "Link MAR.9.5_1 H2 export"
         ],
         "type": "scattermapbox"
        },
        {
         "hoverinfo": "text",
         "lat": [
          33.4634,
          32.79667142857143,
          33.07327741935483,
          34.69427142857143,
          34.23870000000001,
          35.112775,
          34.660814285714295,
          33.750719999999994,
          34.00280000000001,
          33.879,
          30.422941666666663,
          30.15175,
          30.3944,
          31.24959166666666,
          30.479766666666666,
          29.629780000000004,
          30.686,
          32.05041666666667,
          32.5377,
          35.2168,
          35.711222222222226,
          35.044399999999996,
          35.68683333333333,
          35.68363888888889,
          35.078871428571425,
          34.114066666666666,
          34.27955,
          33.087434782608696,
          32.07396,
          34.00962,
          33.90866,
          34.02445714285714,
          34.63645714285714,
          34.54973333333333,
          33.53502307692308,
          33.66785,
          28.479,
          31.60366666666667,
          31.486233333333335,
          32.143,
          31.5461,
          31.707633333333334,
          33.6728,
          31.7714,
          33.495850000000004,
          32.894038461538464,
          33.94476666666666,
          33.4634,
          32.79667142857143,
          33.07327741935483,
          34.69427142857143,
          34.23870000000001,
          35.112775,
          34.660814285714295,
          33.750719999999994,
          34.00280000000001,
          33.879,
          30.422941666666663,
          30.15175,
          30.3944,
          31.24959166666666,
          30.479766666666666,
          29.629780000000004,
          30.686,
          32.05041666666667,
          32.5377,
          35.2168,
          35.711222222222226,
          35.044399999999996,
          35.68683333333333,
          35.68363888888889,
          35.078871428571425,
          34.114066666666666,
          34.27955,
          33.087434782608696,
          32.07396,
          34.00962,
          33.90866,
          34.02445714285714,
          34.63645714285714,
          34.54973333333333,
          33.53502307692308,
          33.66785,
          28.479,
          31.60366666666667,
          31.486233333333335,
          32.143,
          31.5461,
          31.707633333333334,
          33.6728,
          31.7714,
          33.495850000000004,
          32.894038461538464,
          33.94476666666666,
          37.74155839772218
         ],
         "lon": [
          -7.3913,
          -6.740678571428572,
          -7.505829032258065,
          -2.515971428571429,
          -2.07818,
          -3.1073500000000003,
          -1.9562571428571427,
          -6.169279999999999,
          -6.68555,
          -6.8294500000000005,
          -9.499433333333334,
          -9.3264,
          -9.375633333333333,
          -6.162158333333334,
          -8.771733333333335,
          -9.651570000000001,
          -6.4549,
          -6.5981499999999995,
          -6.4784999999999995,
          -5.3161,
          -5.741122222222223,
          -6.0274,
          -5.847783333333333,
          -5.524394444444444,
          -3.9425714285714286,
          -4.678366666666666,
          -3.8487999999999998,
          -8.417773913043478,
          -8.806899999999999,
          -4.97278,
          -4.76906,
          -5.082385714285714,
          -6.167271428571429,
          -5.764466666666666,
          -7.547923076923078,
          -7.4281500000000005,
          -11.1686,
          -7.5310999999999995,
          -8.718466666666666,
          -7.823236363636363,
          -9.5806,
          -8.105188888888888,
          -5.5273,
          -4.49952,
          -5.1858,
          -5.277946153846154,
          -5.611291666666666,
          -7.3913,
          -6.740678571428572,
          -7.505829032258065,
          -2.515971428571429,
          -2.07818,
          -3.1073500000000003,
          -1.9562571428571427,
          -6.169279999999999,
          -6.68555,
          -6.8294500000000005,
          -9.499433333333334,
          -9.3264,
          -9.375633333333333,
          -6.162158333333334,
          -8.771733333333335,
          -9.651570000000001,
          -6.4549,
          -6.5981499999999995,
          -6.4784999999999995,
          -5.3161,
          -5.741122222222223,
          -6.0274,
          -5.847783333333333,
          -5.524394444444444,
          -3.9425714285714286,
          -4.678366666666666,
          -3.8487999999999998,
          -8.417773913043478,
          -8.806899999999999,
          -4.97278,
          -4.76906,
          -5.082385714285714,
          -6.167271428571429,
          -5.764466666666666,
          -7.547923076923078,
          -7.4281500000000005,
          -11.1686,
          -7.5310999999999995,
          -8.718466666666666,
          -7.823236363636363,
          -9.5806,
          -8.105188888888888,
          -5.5273,
          -4.49952,
          -5.1858,
          -5.277946153846154,
          -5.611291666666666,
          -14.232239959015194
         ],
         "marker": {
          "color": "cadetblue",
          "size": 10
         },
         "mode": "markers",
         "opacity": 1,
         "text": [
          "Bus MAR.1.1_1",
          "Bus MAR.1.2_1",
          "Bus MAR.1.3_1",
          "Bus MAR.10.1_1",
          "Bus MAR.10.3_1",
          "Bus MAR.10.4_1",
          "Bus MAR.10.5_1",
          "Bus MAR.11.1_1",
          "Bus MAR.11.3_1",
          "Bus MAR.11.4_1",
          "Bus MAR.12.1_1",
          "Bus MAR.12.2_1",
          "Bus MAR.12.3_1",
          "Bus MAR.12.4_1",
          "Bus MAR.12.5_1",
          "Bus MAR.12.6_1",
          "Bus MAR.12.7_1",
          "Bus MAR.13.1_1",
          "Bus MAR.13.2_1",
          "Bus MAR.14.1_1",
          "Bus MAR.14.2_1",
          "Bus MAR.14.3_1",
          "Bus MAR.14.4_1",
          "Bus MAR.14.5_1",
          "Bus MAR.15.1_1",
          "Bus MAR.15.2_1",
          "Bus MAR.15.3_1",
          "Bus MAR.2.1_1",
          "Bus MAR.2.2_1",
          "Bus MAR.3.2_1",
          "Bus MAR.3.3_1",
          "Bus MAR.3.4_1",
          "Bus MAR.4.1_1",
          "Bus MAR.4.2_1",
          "Bus MAR.5.1_1",
          "Bus MAR.5.2_1",
          "Bus MAR.6.3_1",
          "Bus MAR.8.1_1",
          "Bus MAR.8.2_1",
          "Bus MAR.8.3_1",
          "Bus MAR.8.4_1",
          "Bus MAR.8.5_1",
          "Bus MAR.9.1_1",
          "Bus MAR.9.2_1",
          "Bus MAR.9.3_1",
          "Bus MAR.9.4_1",
          "Bus MAR.9.5_1",
          "Bus MAR.1.1_1 H2",
          "Bus MAR.1.2_1 H2",
          "Bus MAR.1.3_1 H2",
          "Bus MAR.10.1_1 H2",
          "Bus MAR.10.3_1 H2",
          "Bus MAR.10.4_1 H2",
          "Bus MAR.10.5_1 H2",
          "Bus MAR.11.1_1 H2",
          "Bus MAR.11.3_1 H2",
          "Bus MAR.11.4_1 H2",
          "Bus MAR.12.1_1 H2",
          "Bus MAR.12.2_1 H2",
          "Bus MAR.12.3_1 H2",
          "Bus MAR.12.4_1 H2",
          "Bus MAR.12.5_1 H2",
          "Bus MAR.12.6_1 H2",
          "Bus MAR.12.7_1 H2",
          "Bus MAR.13.1_1 H2",
          "Bus MAR.13.2_1 H2",
          "Bus MAR.14.1_1 H2",
          "Bus MAR.14.2_1 H2",
          "Bus MAR.14.3_1 H2",
          "Bus MAR.14.4_1 H2",
          "Bus MAR.14.5_1 H2",
          "Bus MAR.15.1_1 H2",
          "Bus MAR.15.2_1 H2",
          "Bus MAR.15.3_1 H2",
          "Bus MAR.2.1_1 H2",
          "Bus MAR.2.2_1 H2",
          "Bus MAR.3.2_1 H2",
          "Bus MAR.3.3_1 H2",
          "Bus MAR.3.4_1 H2",
          "Bus MAR.4.1_1 H2",
          "Bus MAR.4.2_1 H2",
          "Bus MAR.5.1_1 H2",
          "Bus MAR.5.2_1 H2",
          "Bus MAR.6.3_1 H2",
          "Bus MAR.8.1_1 H2",
          "Bus MAR.8.2_1 H2",
          "Bus MAR.8.3_1 H2",
          "Bus MAR.8.4_1 H2",
          "Bus MAR.8.5_1 H2",
          "Bus MAR.9.1_1 H2",
          "Bus MAR.9.2_1 H2",
          "Bus MAR.9.3_1 H2",
          "Bus MAR.9.4_1 H2",
          "Bus MAR.9.5_1 H2",
          "Bus H2 export bus"
         ],
         "type": "scattermapbox"
        }
       ],
       "layout": {
        "hovermode": "closest",
        "mapbox": {
         "center": {
          "lat": 17.855611111111113,
          "lon": -5.5843
         },
         "style": "open-street-map",
         "zoom": 2
        },
        "showlegend": false,
        "template": {
         "data": {
          "bar": [
           {
            "error_x": {
             "color": "#2a3f5f"
            },
            "error_y": {
             "color": "#2a3f5f"
            },
            "marker": {
             "line": {
              "color": "#E5ECF6",
              "width": 0.5
             },
             "pattern": {
              "fillmode": "overlay",
              "size": 10,
              "solidity": 0.2
             }
            },
            "type": "bar"
           }
          ],
          "barpolar": [
           {
            "marker": {
             "line": {
              "color": "#E5ECF6",
              "width": 0.5
             },
             "pattern": {
              "fillmode": "overlay",
              "size": 10,
              "solidity": 0.2
             }
            },
            "type": "barpolar"
           }
          ],
          "carpet": [
           {
            "aaxis": {
             "endlinecolor": "#2a3f5f",
             "gridcolor": "white",
             "linecolor": "white",
             "minorgridcolor": "white",
             "startlinecolor": "#2a3f5f"
            },
            "baxis": {
             "endlinecolor": "#2a3f5f",
             "gridcolor": "white",
             "linecolor": "white",
             "minorgridcolor": "white",
             "startlinecolor": "#2a3f5f"
            },
            "type": "carpet"
           }
          ],
          "choropleth": [
           {
            "colorbar": {
             "outlinewidth": 0,
             "ticks": ""
            },
            "type": "choropleth"
           }
          ],
          "contour": [
           {
            "colorbar": {
             "outlinewidth": 0,
             "ticks": ""
            },
            "colorscale": [
             [
              0,
              "#0d0887"
             ],
             [
              0.1111111111111111,
              "#46039f"
             ],
             [
              0.2222222222222222,
              "#7201a8"
             ],
             [
              0.3333333333333333,
              "#9c179e"
             ],
             [
              0.4444444444444444,
              "#bd3786"
             ],
             [
              0.5555555555555556,
              "#d8576b"
             ],
             [
              0.6666666666666666,
              "#ed7953"
             ],
             [
              0.7777777777777778,
              "#fb9f3a"
             ],
             [
              0.8888888888888888,
              "#fdca26"
             ],
             [
              1,
              "#f0f921"
             ]
            ],
            "type": "contour"
           }
          ],
          "contourcarpet": [
           {
            "colorbar": {
             "outlinewidth": 0,
             "ticks": ""
            },
            "type": "contourcarpet"
           }
          ],
          "heatmap": [
           {
            "colorbar": {
             "outlinewidth": 0,
             "ticks": ""
            },
            "colorscale": [
             [
              0,
              "#0d0887"
             ],
             [
              0.1111111111111111,
              "#46039f"
             ],
             [
              0.2222222222222222,
              "#7201a8"
             ],
             [
              0.3333333333333333,
              "#9c179e"
             ],
             [
              0.4444444444444444,
              "#bd3786"
             ],
             [
              0.5555555555555556,
              "#d8576b"
             ],
             [
              0.6666666666666666,
              "#ed7953"
             ],
             [
              0.7777777777777778,
              "#fb9f3a"
             ],
             [
              0.8888888888888888,
              "#fdca26"
             ],
             [
              1,
              "#f0f921"
             ]
            ],
            "type": "heatmap"
           }
          ],
          "heatmapgl": [
           {
            "colorbar": {
             "outlinewidth": 0,
             "ticks": ""
            },
            "colorscale": [
             [
              0,
              "#0d0887"
             ],
             [
              0.1111111111111111,
              "#46039f"
             ],
             [
              0.2222222222222222,
              "#7201a8"
             ],
             [
              0.3333333333333333,
              "#9c179e"
             ],
             [
              0.4444444444444444,
              "#bd3786"
             ],
             [
              0.5555555555555556,
              "#d8576b"
             ],
             [
              0.6666666666666666,
              "#ed7953"
             ],
             [
              0.7777777777777778,
              "#fb9f3a"
             ],
             [
              0.8888888888888888,
              "#fdca26"
             ],
             [
              1,
              "#f0f921"
             ]
            ],
            "type": "heatmapgl"
           }
          ],
          "histogram": [
           {
            "marker": {
             "pattern": {
              "fillmode": "overlay",
              "size": 10,
              "solidity": 0.2
             }
            },
            "type": "histogram"
           }
          ],
          "histogram2d": [
           {
            "colorbar": {
             "outlinewidth": 0,
             "ticks": ""
            },
            "colorscale": [
             [
              0,
              "#0d0887"
             ],
             [
              0.1111111111111111,
              "#46039f"
             ],
             [
              0.2222222222222222,
              "#7201a8"
             ],
             [
              0.3333333333333333,
              "#9c179e"
             ],
             [
              0.4444444444444444,
              "#bd3786"
             ],
             [
              0.5555555555555556,
              "#d8576b"
             ],
             [
              0.6666666666666666,
              "#ed7953"
             ],
             [
              0.7777777777777778,
              "#fb9f3a"
             ],
             [
              0.8888888888888888,
              "#fdca26"
             ],
             [
              1,
              "#f0f921"
             ]
            ],
            "type": "histogram2d"
           }
          ],
          "histogram2dcontour": [
           {
            "colorbar": {
             "outlinewidth": 0,
             "ticks": ""
            },
            "colorscale": [
             [
              0,
              "#0d0887"
             ],
             [
              0.1111111111111111,
              "#46039f"
             ],
             [
              0.2222222222222222,
              "#7201a8"
             ],
             [
              0.3333333333333333,
              "#9c179e"
             ],
             [
              0.4444444444444444,
              "#bd3786"
             ],
             [
              0.5555555555555556,
              "#d8576b"
             ],
             [
              0.6666666666666666,
              "#ed7953"
             ],
             [
              0.7777777777777778,
              "#fb9f3a"
             ],
             [
              0.8888888888888888,
              "#fdca26"
             ],
             [
              1,
              "#f0f921"
             ]
            ],
            "type": "histogram2dcontour"
           }
          ],
          "mesh3d": [
           {
            "colorbar": {
             "outlinewidth": 0,
             "ticks": ""
            },
            "type": "mesh3d"
           }
          ],
          "parcoords": [
           {
            "line": {
             "colorbar": {
              "outlinewidth": 0,
              "ticks": ""
             }
            },
            "type": "parcoords"
           }
          ],
          "pie": [
           {
            "automargin": true,
            "type": "pie"
           }
          ],
          "scatter": [
           {
            "fillpattern": {
             "fillmode": "overlay",
             "size": 10,
             "solidity": 0.2
            },
            "type": "scatter"
           }
          ],
          "scatter3d": [
           {
            "line": {
             "colorbar": {
              "outlinewidth": 0,
              "ticks": ""
             }
            },
            "marker": {
             "colorbar": {
              "outlinewidth": 0,
              "ticks": ""
             }
            },
            "type": "scatter3d"
           }
          ],
          "scattercarpet": [
           {
            "marker": {
             "colorbar": {
              "outlinewidth": 0,
              "ticks": ""
             }
            },
            "type": "scattercarpet"
           }
          ],
          "scattergeo": [
           {
            "marker": {
             "colorbar": {
              "outlinewidth": 0,
              "ticks": ""
             }
            },
            "type": "scattergeo"
           }
          ],
          "scattergl": [
           {
            "marker": {
             "colorbar": {
              "outlinewidth": 0,
              "ticks": ""
             }
            },
            "type": "scattergl"
           }
          ],
          "scattermapbox": [
           {
            "marker": {
             "colorbar": {
              "outlinewidth": 0,
              "ticks": ""
             }
            },
            "type": "scattermapbox"
           }
          ],
          "scatterpolar": [
           {
            "marker": {
             "colorbar": {
              "outlinewidth": 0,
              "ticks": ""
             }
            },
            "type": "scatterpolar"
           }
          ],
          "scatterpolargl": [
           {
            "marker": {
             "colorbar": {
              "outlinewidth": 0,
              "ticks": ""
             }
            },
            "type": "scatterpolargl"
           }
          ],
          "scatterternary": [
           {
            "marker": {
             "colorbar": {
              "outlinewidth": 0,
              "ticks": ""
             }
            },
            "type": "scatterternary"
           }
          ],
          "surface": [
           {
            "colorbar": {
             "outlinewidth": 0,
             "ticks": ""
            },
            "colorscale": [
             [
              0,
              "#0d0887"
             ],
             [
              0.1111111111111111,
              "#46039f"
             ],
             [
              0.2222222222222222,
              "#7201a8"
             ],
             [
              0.3333333333333333,
              "#9c179e"
             ],
             [
              0.4444444444444444,
              "#bd3786"
             ],
             [
              0.5555555555555556,
              "#d8576b"
             ],
             [
              0.6666666666666666,
              "#ed7953"
             ],
             [
              0.7777777777777778,
              "#fb9f3a"
             ],
             [
              0.8888888888888888,
              "#fdca26"
             ],
             [
              1,
              "#f0f921"
             ]
            ],
            "type": "surface"
           }
          ],
          "table": [
           {
            "cells": {
             "fill": {
              "color": "#EBF0F8"
             },
             "line": {
              "color": "white"
             }
            },
            "header": {
             "fill": {
              "color": "#C8D4E3"
             },
             "line": {
              "color": "white"
             }
            },
            "type": "table"
           }
          ]
         },
         "layout": {
          "annotationdefaults": {
           "arrowcolor": "#2a3f5f",
           "arrowhead": 0,
           "arrowwidth": 1
          },
          "autotypenumbers": "strict",
          "coloraxis": {
           "colorbar": {
            "outlinewidth": 0,
            "ticks": ""
           }
          },
          "colorscale": {
           "diverging": [
            [
             0,
             "#8e0152"
            ],
            [
             0.1,
             "#c51b7d"
            ],
            [
             0.2,
             "#de77ae"
            ],
            [
             0.3,
             "#f1b6da"
            ],
            [
             0.4,
             "#fde0ef"
            ],
            [
             0.5,
             "#f7f7f7"
            ],
            [
             0.6,
             "#e6f5d0"
            ],
            [
             0.7,
             "#b8e186"
            ],
            [
             0.8,
             "#7fbc41"
            ],
            [
             0.9,
             "#4d9221"
            ],
            [
             1,
             "#276419"
            ]
           ],
           "sequential": [
            [
             0,
             "#0d0887"
            ],
            [
             0.1111111111111111,
             "#46039f"
            ],
            [
             0.2222222222222222,
             "#7201a8"
            ],
            [
             0.3333333333333333,
             "#9c179e"
            ],
            [
             0.4444444444444444,
             "#bd3786"
            ],
            [
             0.5555555555555556,
             "#d8576b"
            ],
            [
             0.6666666666666666,
             "#ed7953"
            ],
            [
             0.7777777777777778,
             "#fb9f3a"
            ],
            [
             0.8888888888888888,
             "#fdca26"
            ],
            [
             1,
             "#f0f921"
            ]
           ],
           "sequentialminus": [
            [
             0,
             "#0d0887"
            ],
            [
             0.1111111111111111,
             "#46039f"
            ],
            [
             0.2222222222222222,
             "#7201a8"
            ],
            [
             0.3333333333333333,
             "#9c179e"
            ],
            [
             0.4444444444444444,
             "#bd3786"
            ],
            [
             0.5555555555555556,
             "#d8576b"
            ],
            [
             0.6666666666666666,
             "#ed7953"
            ],
            [
             0.7777777777777778,
             "#fb9f3a"
            ],
            [
             0.8888888888888888,
             "#fdca26"
            ],
            [
             1,
             "#f0f921"
            ]
           ]
          },
          "colorway": [
           "#636efa",
           "#EF553B",
           "#00cc96",
           "#ab63fa",
           "#FFA15A",
           "#19d3f3",
           "#FF6692",
           "#B6E880",
           "#FF97FF",
           "#FECB52"
          ],
          "font": {
           "color": "#2a3f5f"
          },
          "geo": {
           "bgcolor": "white",
           "lakecolor": "white",
           "landcolor": "#E5ECF6",
           "showlakes": true,
           "showland": true,
           "subunitcolor": "white"
          },
          "hoverlabel": {
           "align": "left"
          },
          "hovermode": "closest",
          "mapbox": {
           "style": "light"
          },
          "paper_bgcolor": "white",
          "plot_bgcolor": "#E5ECF6",
          "polar": {
           "angularaxis": {
            "gridcolor": "white",
            "linecolor": "white",
            "ticks": ""
           },
           "bgcolor": "#E5ECF6",
           "radialaxis": {
            "gridcolor": "white",
            "linecolor": "white",
            "ticks": ""
           }
          },
          "scene": {
           "xaxis": {
            "backgroundcolor": "#E5ECF6",
            "gridcolor": "white",
            "gridwidth": 2,
            "linecolor": "white",
            "showbackground": true,
            "ticks": "",
            "zerolinecolor": "white"
           },
           "yaxis": {
            "backgroundcolor": "#E5ECF6",
            "gridcolor": "white",
            "gridwidth": 2,
            "linecolor": "white",
            "showbackground": true,
            "ticks": "",
            "zerolinecolor": "white"
           },
           "zaxis": {
            "backgroundcolor": "#E5ECF6",
            "gridcolor": "white",
            "gridwidth": 2,
            "linecolor": "white",
            "showbackground": true,
            "ticks": "",
            "zerolinecolor": "white"
           }
          },
          "shapedefaults": {
           "line": {
            "color": "#2a3f5f"
           }
          },
          "ternary": {
           "aaxis": {
            "gridcolor": "white",
            "linecolor": "white",
            "ticks": ""
           },
           "baxis": {
            "gridcolor": "white",
            "linecolor": "white",
            "ticks": ""
           },
           "bgcolor": "#E5ECF6",
           "caxis": {
            "gridcolor": "white",
            "linecolor": "white",
            "ticks": ""
           }
          },
          "title": {
           "x": 0.05
          },
          "xaxis": {
           "automargin": true,
           "gridcolor": "white",
           "linecolor": "white",
           "ticks": "",
           "title": {
            "standoff": 15
           },
           "zerolinecolor": "white",
           "zerolinewidth": 2
          },
          "yaxis": {
           "automargin": true,
           "gridcolor": "white",
           "linecolor": "white",
           "ticks": "",
           "title": {
            "standoff": 15
           },
           "zerolinecolor": "white",
           "zerolinewidth": 2
          }
         }
        },
        "title": {
         "text": ""
        }
       }
      },
      "text/html": [
       "<div>                            <div id=\"d45778b7-0287-4dec-a466-f3d8952bc95f\" class=\"plotly-graph-div\" style=\"height:525px; width:100%;\"></div>            <script type=\"text/javascript\">                require([\"plotly\"], function(Plotly) {                    window.PLOTLYENV=window.PLOTLYENV || {};                                    if (document.getElementById(\"d45778b7-0287-4dec-a466-f3d8952bc95f\")) {                    Plotly.newPlot(                        \"d45778b7-0287-4dec-a466-f3d8952bc95f\",                        [{\"lat\":[33.4634,33.4634],\"line\":{\"color\":\"darkseagreen\",\"width\":3},\"lon\":[-7.3913,-7.3913],\"mode\":\"lines\",\"opacity\":0.8,\"type\":\"scattermapbox\"},{\"lat\":[32.79667142857143,32.79667142857143],\"line\":{\"color\":\"darkseagreen\",\"width\":3},\"lon\":[-6.740678571428572,-6.740678571428572],\"mode\":\"lines\",\"opacity\":0.8,\"type\":\"scattermapbox\"},{\"lat\":[33.07327741935483,33.07327741935483],\"line\":{\"color\":\"darkseagreen\",\"width\":3},\"lon\":[-7.505829032258065,-7.505829032258065],\"mode\":\"lines\",\"opacity\":0.8,\"type\":\"scattermapbox\"},{\"lat\":[34.69427142857143,34.69427142857143],\"line\":{\"color\":\"darkseagreen\",\"width\":3},\"lon\":[-2.515971428571429,-2.515971428571429],\"mode\":\"lines\",\"opacity\":0.8,\"type\":\"scattermapbox\"},{\"lat\":[34.23870000000001,34.23870000000001],\"line\":{\"color\":\"darkseagreen\",\"width\":3},\"lon\":[-2.07818,-2.07818],\"mode\":\"lines\",\"opacity\":0.8,\"type\":\"scattermapbox\"},{\"lat\":[35.112775,35.112775],\"line\":{\"color\":\"darkseagreen\",\"width\":3},\"lon\":[-3.1073500000000003,-3.1073500000000003],\"mode\":\"lines\",\"opacity\":0.8,\"type\":\"scattermapbox\"},{\"lat\":[34.660814285714295,34.660814285714295],\"line\":{\"color\":\"darkseagreen\",\"width\":3},\"lon\":[-1.9562571428571427,-1.9562571428571427],\"mode\":\"lines\",\"opacity\":0.8,\"type\":\"scattermapbox\"},{\"lat\":[33.750719999999994,33.750719999999994],\"line\":{\"color\":\"darkseagreen\",\"width\":3},\"lon\":[-6.169279999999999,-6.169279999999999],\"mode\":\"lines\",\"opacity\":0.8,\"type\":\"scattermapbox\"},{\"lat\":[34.00280000000001,34.00280000000001],\"line\":{\"color\":\"darkseagreen\",\"width\":3},\"lon\":[-6.68555,-6.68555],\"mode\":\"lines\",\"opacity\":0.8,\"type\":\"scattermapbox\"},{\"lat\":[33.879,33.879],\"line\":{\"color\":\"darkseagreen\",\"width\":3},\"lon\":[-6.8294500000000005,-6.8294500000000005],\"mode\":\"lines\",\"opacity\":0.8,\"type\":\"scattermapbox\"},{\"lat\":[30.422941666666663,30.422941666666663],\"line\":{\"color\":\"darkseagreen\",\"width\":3},\"lon\":[-9.499433333333334,-9.499433333333334],\"mode\":\"lines\",\"opacity\":0.8,\"type\":\"scattermapbox\"},{\"lat\":[30.15175,30.15175],\"line\":{\"color\":\"darkseagreen\",\"width\":3},\"lon\":[-9.3264,-9.3264],\"mode\":\"lines\",\"opacity\":0.8,\"type\":\"scattermapbox\"},{\"lat\":[30.3944,30.3944],\"line\":{\"color\":\"darkseagreen\",\"width\":3},\"lon\":[-9.375633333333333,-9.375633333333333],\"mode\":\"lines\",\"opacity\":0.8,\"type\":\"scattermapbox\"},{\"lat\":[31.24959166666666,31.24959166666666],\"line\":{\"color\":\"darkseagreen\",\"width\":3},\"lon\":[-6.162158333333334,-6.162158333333334],\"mode\":\"lines\",\"opacity\":0.8,\"type\":\"scattermapbox\"},{\"lat\":[30.479766666666666,30.479766666666666],\"line\":{\"color\":\"darkseagreen\",\"width\":3},\"lon\":[-8.771733333333335,-8.771733333333335],\"mode\":\"lines\",\"opacity\":0.8,\"type\":\"scattermapbox\"},{\"lat\":[29.629780000000004,29.629780000000004],\"line\":{\"color\":\"darkseagreen\",\"width\":3},\"lon\":[-9.651570000000001,-9.651570000000001],\"mode\":\"lines\",\"opacity\":0.8,\"type\":\"scattermapbox\"},{\"lat\":[30.686,30.686],\"line\":{\"color\":\"darkseagreen\",\"width\":3},\"lon\":[-6.4549,-6.4549],\"mode\":\"lines\",\"opacity\":0.8,\"type\":\"scattermapbox\"},{\"lat\":[32.05041666666667,32.05041666666667],\"line\":{\"color\":\"darkseagreen\",\"width\":3},\"lon\":[-6.5981499999999995,-6.5981499999999995],\"mode\":\"lines\",\"opacity\":0.8,\"type\":\"scattermapbox\"},{\"lat\":[32.5377,32.5377],\"line\":{\"color\":\"darkseagreen\",\"width\":3},\"lon\":[-6.4784999999999995,-6.4784999999999995],\"mode\":\"lines\",\"opacity\":0.8,\"type\":\"scattermapbox\"},{\"lat\":[35.2168,35.2168],\"line\":{\"color\":\"darkseagreen\",\"width\":3},\"lon\":[-5.3161,-5.3161],\"mode\":\"lines\",\"opacity\":0.8,\"type\":\"scattermapbox\"},{\"lat\":[35.711222222222226,35.711222222222226],\"line\":{\"color\":\"darkseagreen\",\"width\":3},\"lon\":[-5.741122222222223,-5.741122222222223],\"mode\":\"lines\",\"opacity\":0.8,\"type\":\"scattermapbox\"},{\"lat\":[35.044399999999996,35.044399999999996],\"line\":{\"color\":\"darkseagreen\",\"width\":3},\"lon\":[-6.0274,-6.0274],\"mode\":\"lines\",\"opacity\":0.8,\"type\":\"scattermapbox\"},{\"lat\":[35.68683333333333,35.68683333333333],\"line\":{\"color\":\"darkseagreen\",\"width\":3},\"lon\":[-5.847783333333333,-5.847783333333333],\"mode\":\"lines\",\"opacity\":0.8,\"type\":\"scattermapbox\"},{\"lat\":[35.68363888888889,35.68363888888889],\"line\":{\"color\":\"darkseagreen\",\"width\":3},\"lon\":[-5.524394444444444,-5.524394444444444],\"mode\":\"lines\",\"opacity\":0.8,\"type\":\"scattermapbox\"},{\"lat\":[35.078871428571425,35.078871428571425],\"line\":{\"color\":\"darkseagreen\",\"width\":3},\"lon\":[-3.9425714285714286,-3.9425714285714286],\"mode\":\"lines\",\"opacity\":0.8,\"type\":\"scattermapbox\"},{\"lat\":[34.114066666666666,34.114066666666666],\"line\":{\"color\":\"darkseagreen\",\"width\":3},\"lon\":[-4.678366666666666,-4.678366666666666],\"mode\":\"lines\",\"opacity\":0.8,\"type\":\"scattermapbox\"},{\"lat\":[34.27955,34.27955],\"line\":{\"color\":\"darkseagreen\",\"width\":3},\"lon\":[-3.8487999999999998,-3.8487999999999998],\"mode\":\"lines\",\"opacity\":0.8,\"type\":\"scattermapbox\"},{\"lat\":[33.087434782608696,33.087434782608696],\"line\":{\"color\":\"darkseagreen\",\"width\":3},\"lon\":[-8.417773913043478,-8.417773913043478],\"mode\":\"lines\",\"opacity\":0.8,\"type\":\"scattermapbox\"},{\"lat\":[32.07396,32.07396],\"line\":{\"color\":\"darkseagreen\",\"width\":3},\"lon\":[-8.806899999999999,-8.806899999999999],\"mode\":\"lines\",\"opacity\":0.8,\"type\":\"scattermapbox\"},{\"lat\":[34.00962,34.00962],\"line\":{\"color\":\"darkseagreen\",\"width\":3},\"lon\":[-4.97278,-4.97278],\"mode\":\"lines\",\"opacity\":0.8,\"type\":\"scattermapbox\"},{\"lat\":[33.90866,33.90866],\"line\":{\"color\":\"darkseagreen\",\"width\":3},\"lon\":[-4.76906,-4.76906],\"mode\":\"lines\",\"opacity\":0.8,\"type\":\"scattermapbox\"},{\"lat\":[34.02445714285714,34.02445714285714],\"line\":{\"color\":\"darkseagreen\",\"width\":3},\"lon\":[-5.082385714285714,-5.082385714285714],\"mode\":\"lines\",\"opacity\":0.8,\"type\":\"scattermapbox\"},{\"lat\":[34.63645714285714,34.63645714285714],\"line\":{\"color\":\"darkseagreen\",\"width\":3},\"lon\":[-6.167271428571429,-6.167271428571429],\"mode\":\"lines\",\"opacity\":0.8,\"type\":\"scattermapbox\"},{\"lat\":[34.54973333333333,34.54973333333333],\"line\":{\"color\":\"darkseagreen\",\"width\":3},\"lon\":[-5.764466666666666,-5.764466666666666],\"mode\":\"lines\",\"opacity\":0.8,\"type\":\"scattermapbox\"},{\"lat\":[33.53502307692308,33.53502307692308],\"line\":{\"color\":\"darkseagreen\",\"width\":3},\"lon\":[-7.547923076923078,-7.547923076923078],\"mode\":\"lines\",\"opacity\":0.8,\"type\":\"scattermapbox\"},{\"lat\":[33.66785,33.66785],\"line\":{\"color\":\"darkseagreen\",\"width\":3},\"lon\":[-7.4281500000000005,-7.4281500000000005],\"mode\":\"lines\",\"opacity\":0.8,\"type\":\"scattermapbox\"},{\"lat\":[28.479,28.479],\"line\":{\"color\":\"darkseagreen\",\"width\":3},\"lon\":[-11.1686,-11.1686],\"mode\":\"lines\",\"opacity\":0.8,\"type\":\"scattermapbox\"},{\"lat\":[31.60366666666667,31.60366666666667],\"line\":{\"color\":\"darkseagreen\",\"width\":3},\"lon\":[-7.5310999999999995,-7.5310999999999995],\"mode\":\"lines\",\"opacity\":0.8,\"type\":\"scattermapbox\"},{\"lat\":[31.486233333333335,31.486233333333335],\"line\":{\"color\":\"darkseagreen\",\"width\":3},\"lon\":[-8.718466666666666,-8.718466666666666],\"mode\":\"lines\",\"opacity\":0.8,\"type\":\"scattermapbox\"},{\"lat\":[32.143,32.143],\"line\":{\"color\":\"darkseagreen\",\"width\":3},\"lon\":[-7.823236363636363,-7.823236363636363],\"mode\":\"lines\",\"opacity\":0.8,\"type\":\"scattermapbox\"},{\"lat\":[31.5461,31.5461],\"line\":{\"color\":\"darkseagreen\",\"width\":3},\"lon\":[-9.5806,-9.5806],\"mode\":\"lines\",\"opacity\":0.8,\"type\":\"scattermapbox\"},{\"lat\":[31.707633333333334,31.707633333333334],\"line\":{\"color\":\"darkseagreen\",\"width\":3},\"lon\":[-8.105188888888888,-8.105188888888888],\"mode\":\"lines\",\"opacity\":0.8,\"type\":\"scattermapbox\"},{\"lat\":[33.6728,33.6728],\"line\":{\"color\":\"darkseagreen\",\"width\":3},\"lon\":[-5.5273,-5.5273],\"mode\":\"lines\",\"opacity\":0.8,\"type\":\"scattermapbox\"},{\"lat\":[31.7714,31.7714],\"line\":{\"color\":\"darkseagreen\",\"width\":3},\"lon\":[-4.49952,-4.49952],\"mode\":\"lines\",\"opacity\":0.8,\"type\":\"scattermapbox\"},{\"lat\":[33.495850000000004,33.495850000000004],\"line\":{\"color\":\"darkseagreen\",\"width\":3},\"lon\":[-5.1858,-5.1858],\"mode\":\"lines\",\"opacity\":0.8,\"type\":\"scattermapbox\"},{\"lat\":[32.894038461538464,32.894038461538464],\"line\":{\"color\":\"darkseagreen\",\"width\":3},\"lon\":[-5.277946153846154,-5.277946153846154],\"mode\":\"lines\",\"opacity\":0.8,\"type\":\"scattermapbox\"},{\"lat\":[33.94476666666666,33.94476666666666],\"line\":{\"color\":\"darkseagreen\",\"width\":3},\"lon\":[-5.611291666666666,-5.611291666666666],\"mode\":\"lines\",\"opacity\":0.8,\"type\":\"scattermapbox\"},{\"lat\":[33.4634,37.74155839772218],\"line\":{\"color\":\"darkseagreen\",\"width\":3},\"lon\":[-7.3913,-14.232239959015194],\"mode\":\"lines\",\"opacity\":0.8,\"type\":\"scattermapbox\"},{\"lat\":[32.79667142857143,37.74155839772218],\"line\":{\"color\":\"darkseagreen\",\"width\":3},\"lon\":[-6.740678571428572,-14.232239959015194],\"mode\":\"lines\",\"opacity\":0.8,\"type\":\"scattermapbox\"},{\"lat\":[33.07327741935483,37.74155839772218],\"line\":{\"color\":\"darkseagreen\",\"width\":3},\"lon\":[-7.505829032258065,-14.232239959015194],\"mode\":\"lines\",\"opacity\":0.8,\"type\":\"scattermapbox\"},{\"lat\":[34.69427142857143,37.74155839772218],\"line\":{\"color\":\"darkseagreen\",\"width\":3},\"lon\":[-2.515971428571429,-14.232239959015194],\"mode\":\"lines\",\"opacity\":0.8,\"type\":\"scattermapbox\"},{\"lat\":[34.23870000000001,37.74155839772218],\"line\":{\"color\":\"darkseagreen\",\"width\":3},\"lon\":[-2.07818,-14.232239959015194],\"mode\":\"lines\",\"opacity\":0.8,\"type\":\"scattermapbox\"},{\"lat\":[35.112775,37.74155839772218],\"line\":{\"color\":\"darkseagreen\",\"width\":3},\"lon\":[-3.1073500000000003,-14.232239959015194],\"mode\":\"lines\",\"opacity\":0.8,\"type\":\"scattermapbox\"},{\"lat\":[34.660814285714295,37.74155839772218],\"line\":{\"color\":\"darkseagreen\",\"width\":3},\"lon\":[-1.9562571428571427,-14.232239959015194],\"mode\":\"lines\",\"opacity\":0.8,\"type\":\"scattermapbox\"},{\"lat\":[33.750719999999994,37.74155839772218],\"line\":{\"color\":\"darkseagreen\",\"width\":3},\"lon\":[-6.169279999999999,-14.232239959015194],\"mode\":\"lines\",\"opacity\":0.8,\"type\":\"scattermapbox\"},{\"lat\":[34.00280000000001,37.74155839772218],\"line\":{\"color\":\"darkseagreen\",\"width\":3},\"lon\":[-6.68555,-14.232239959015194],\"mode\":\"lines\",\"opacity\":0.8,\"type\":\"scattermapbox\"},{\"lat\":[33.879,37.74155839772218],\"line\":{\"color\":\"darkseagreen\",\"width\":3},\"lon\":[-6.8294500000000005,-14.232239959015194],\"mode\":\"lines\",\"opacity\":0.8,\"type\":\"scattermapbox\"},{\"lat\":[30.422941666666663,37.74155839772218],\"line\":{\"color\":\"darkseagreen\",\"width\":3},\"lon\":[-9.499433333333334,-14.232239959015194],\"mode\":\"lines\",\"opacity\":0.8,\"type\":\"scattermapbox\"},{\"lat\":[30.15175,37.74155839772218],\"line\":{\"color\":\"darkseagreen\",\"width\":3},\"lon\":[-9.3264,-14.232239959015194],\"mode\":\"lines\",\"opacity\":0.8,\"type\":\"scattermapbox\"},{\"lat\":[30.3944,37.74155839772218],\"line\":{\"color\":\"darkseagreen\",\"width\":3},\"lon\":[-9.375633333333333,-14.232239959015194],\"mode\":\"lines\",\"opacity\":0.8,\"type\":\"scattermapbox\"},{\"lat\":[31.24959166666666,37.74155839772218],\"line\":{\"color\":\"darkseagreen\",\"width\":3},\"lon\":[-6.162158333333334,-14.232239959015194],\"mode\":\"lines\",\"opacity\":0.8,\"type\":\"scattermapbox\"},{\"lat\":[30.479766666666666,37.74155839772218],\"line\":{\"color\":\"darkseagreen\",\"width\":3},\"lon\":[-8.771733333333335,-14.232239959015194],\"mode\":\"lines\",\"opacity\":0.8,\"type\":\"scattermapbox\"},{\"lat\":[29.629780000000004,37.74155839772218],\"line\":{\"color\":\"darkseagreen\",\"width\":3},\"lon\":[-9.651570000000001,-14.232239959015194],\"mode\":\"lines\",\"opacity\":0.8,\"type\":\"scattermapbox\"},{\"lat\":[30.686,37.74155839772218],\"line\":{\"color\":\"darkseagreen\",\"width\":3},\"lon\":[-6.4549,-14.232239959015194],\"mode\":\"lines\",\"opacity\":0.8,\"type\":\"scattermapbox\"},{\"lat\":[32.05041666666667,37.74155839772218],\"line\":{\"color\":\"darkseagreen\",\"width\":3},\"lon\":[-6.5981499999999995,-14.232239959015194],\"mode\":\"lines\",\"opacity\":0.8,\"type\":\"scattermapbox\"},{\"lat\":[32.5377,37.74155839772218],\"line\":{\"color\":\"darkseagreen\",\"width\":3},\"lon\":[-6.4784999999999995,-14.232239959015194],\"mode\":\"lines\",\"opacity\":0.8,\"type\":\"scattermapbox\"},{\"lat\":[35.2168,37.74155839772218],\"line\":{\"color\":\"darkseagreen\",\"width\":3},\"lon\":[-5.3161,-14.232239959015194],\"mode\":\"lines\",\"opacity\":0.8,\"type\":\"scattermapbox\"},{\"lat\":[35.711222222222226,37.74155839772218],\"line\":{\"color\":\"darkseagreen\",\"width\":3},\"lon\":[-5.741122222222223,-14.232239959015194],\"mode\":\"lines\",\"opacity\":0.8,\"type\":\"scattermapbox\"},{\"lat\":[35.044399999999996,37.74155839772218],\"line\":{\"color\":\"darkseagreen\",\"width\":3},\"lon\":[-6.0274,-14.232239959015194],\"mode\":\"lines\",\"opacity\":0.8,\"type\":\"scattermapbox\"},{\"lat\":[35.68683333333333,37.74155839772218],\"line\":{\"color\":\"darkseagreen\",\"width\":3},\"lon\":[-5.847783333333333,-14.232239959015194],\"mode\":\"lines\",\"opacity\":0.8,\"type\":\"scattermapbox\"},{\"lat\":[35.68363888888889,37.74155839772218],\"line\":{\"color\":\"darkseagreen\",\"width\":3},\"lon\":[-5.524394444444444,-14.232239959015194],\"mode\":\"lines\",\"opacity\":0.8,\"type\":\"scattermapbox\"},{\"lat\":[35.078871428571425,37.74155839772218],\"line\":{\"color\":\"darkseagreen\",\"width\":3},\"lon\":[-3.9425714285714286,-14.232239959015194],\"mode\":\"lines\",\"opacity\":0.8,\"type\":\"scattermapbox\"},{\"lat\":[34.114066666666666,37.74155839772218],\"line\":{\"color\":\"darkseagreen\",\"width\":3},\"lon\":[-4.678366666666666,-14.232239959015194],\"mode\":\"lines\",\"opacity\":0.8,\"type\":\"scattermapbox\"},{\"lat\":[34.27955,37.74155839772218],\"line\":{\"color\":\"darkseagreen\",\"width\":3},\"lon\":[-3.8487999999999998,-14.232239959015194],\"mode\":\"lines\",\"opacity\":0.8,\"type\":\"scattermapbox\"},{\"lat\":[33.087434782608696,37.74155839772218],\"line\":{\"color\":\"darkseagreen\",\"width\":3},\"lon\":[-8.417773913043478,-14.232239959015194],\"mode\":\"lines\",\"opacity\":0.8,\"type\":\"scattermapbox\"},{\"lat\":[32.07396,37.74155839772218],\"line\":{\"color\":\"darkseagreen\",\"width\":3},\"lon\":[-8.806899999999999,-14.232239959015194],\"mode\":\"lines\",\"opacity\":0.8,\"type\":\"scattermapbox\"},{\"lat\":[34.00962,37.74155839772218],\"line\":{\"color\":\"darkseagreen\",\"width\":3},\"lon\":[-4.97278,-14.232239959015194],\"mode\":\"lines\",\"opacity\":0.8,\"type\":\"scattermapbox\"},{\"lat\":[33.90866,37.74155839772218],\"line\":{\"color\":\"darkseagreen\",\"width\":3},\"lon\":[-4.76906,-14.232239959015194],\"mode\":\"lines\",\"opacity\":0.8,\"type\":\"scattermapbox\"},{\"lat\":[34.02445714285714,37.74155839772218],\"line\":{\"color\":\"darkseagreen\",\"width\":3},\"lon\":[-5.082385714285714,-14.232239959015194],\"mode\":\"lines\",\"opacity\":0.8,\"type\":\"scattermapbox\"},{\"lat\":[34.63645714285714,37.74155839772218],\"line\":{\"color\":\"darkseagreen\",\"width\":3},\"lon\":[-6.167271428571429,-14.232239959015194],\"mode\":\"lines\",\"opacity\":0.8,\"type\":\"scattermapbox\"},{\"lat\":[34.54973333333333,37.74155839772218],\"line\":{\"color\":\"darkseagreen\",\"width\":3},\"lon\":[-5.764466666666666,-14.232239959015194],\"mode\":\"lines\",\"opacity\":0.8,\"type\":\"scattermapbox\"},{\"lat\":[33.53502307692308,37.74155839772218],\"line\":{\"color\":\"darkseagreen\",\"width\":3},\"lon\":[-7.547923076923078,-14.232239959015194],\"mode\":\"lines\",\"opacity\":0.8,\"type\":\"scattermapbox\"},{\"lat\":[33.66785,37.74155839772218],\"line\":{\"color\":\"darkseagreen\",\"width\":3},\"lon\":[-7.4281500000000005,-14.232239959015194],\"mode\":\"lines\",\"opacity\":0.8,\"type\":\"scattermapbox\"},{\"lat\":[28.479,37.74155839772218],\"line\":{\"color\":\"darkseagreen\",\"width\":3},\"lon\":[-11.1686,-14.232239959015194],\"mode\":\"lines\",\"opacity\":0.8,\"type\":\"scattermapbox\"},{\"lat\":[31.60366666666667,37.74155839772218],\"line\":{\"color\":\"darkseagreen\",\"width\":3},\"lon\":[-7.5310999999999995,-14.232239959015194],\"mode\":\"lines\",\"opacity\":0.8,\"type\":\"scattermapbox\"},{\"lat\":[31.486233333333335,37.74155839772218],\"line\":{\"color\":\"darkseagreen\",\"width\":3},\"lon\":[-8.718466666666666,-14.232239959015194],\"mode\":\"lines\",\"opacity\":0.8,\"type\":\"scattermapbox\"},{\"lat\":[32.143,37.74155839772218],\"line\":{\"color\":\"darkseagreen\",\"width\":3},\"lon\":[-7.823236363636363,-14.232239959015194],\"mode\":\"lines\",\"opacity\":0.8,\"type\":\"scattermapbox\"},{\"lat\":[31.5461,37.74155839772218],\"line\":{\"color\":\"darkseagreen\",\"width\":3},\"lon\":[-9.5806,-14.232239959015194],\"mode\":\"lines\",\"opacity\":0.8,\"type\":\"scattermapbox\"},{\"lat\":[31.707633333333334,37.74155839772218],\"line\":{\"color\":\"darkseagreen\",\"width\":3},\"lon\":[-8.105188888888888,-14.232239959015194],\"mode\":\"lines\",\"opacity\":0.8,\"type\":\"scattermapbox\"},{\"lat\":[33.6728,37.74155839772218],\"line\":{\"color\":\"darkseagreen\",\"width\":3},\"lon\":[-5.5273,-14.232239959015194],\"mode\":\"lines\",\"opacity\":0.8,\"type\":\"scattermapbox\"},{\"lat\":[31.7714,37.74155839772218],\"line\":{\"color\":\"darkseagreen\",\"width\":3},\"lon\":[-4.49952,-14.232239959015194],\"mode\":\"lines\",\"opacity\":0.8,\"type\":\"scattermapbox\"},{\"lat\":[33.495850000000004,37.74155839772218],\"line\":{\"color\":\"darkseagreen\",\"width\":3},\"lon\":[-5.1858,-14.232239959015194],\"mode\":\"lines\",\"opacity\":0.8,\"type\":\"scattermapbox\"},{\"lat\":[32.894038461538464,37.74155839772218],\"line\":{\"color\":\"darkseagreen\",\"width\":3},\"lon\":[-5.277946153846154,-14.232239959015194],\"mode\":\"lines\",\"opacity\":0.8,\"type\":\"scattermapbox\"},{\"lat\":[33.94476666666666,37.74155839772218],\"line\":{\"color\":\"darkseagreen\",\"width\":3},\"lon\":[-5.611291666666666,-14.232239959015194],\"mode\":\"lines\",\"opacity\":0.8,\"type\":\"scattermapbox\"},{\"hoverinfo\":\"text\",\"lat\":[33.4634,32.79667142857143,33.07327741935483,34.69427142857143,34.23870000000001,35.112775,34.660814285714295,33.750719999999994,34.00280000000001,33.879,30.422941666666663,30.15175,30.3944,31.24959166666666,30.479766666666666,29.629780000000004,30.686,32.05041666666667,32.5377,35.2168,35.711222222222226,35.044399999999996,35.68683333333333,35.68363888888889,35.078871428571425,34.114066666666666,34.27955,33.087434782608696,32.07396,34.00962,33.90866,34.02445714285714,34.63645714285714,34.54973333333333,33.53502307692308,33.66785,28.479,31.60366666666667,31.486233333333335,32.143,31.5461,31.707633333333334,33.6728,31.7714,33.495850000000004,32.894038461538464,33.94476666666666,35.60247919886109,35.26911491314681,35.407417908538505,36.21791491314681,35.9901291988611,36.427166698861086,36.20118634171824,35.74613919886109,35.87217919886109,35.81027919886109,34.08225003219442,33.94665419886109,34.06797919886109,34.495575032194424,34.110662532194425,33.68566919886109,34.21377919886109,34.895987532194425,35.13962919886109,36.47917919886109,36.7263903099722,36.392979198861084,36.714195865527756,36.71259864330554,36.4102149131468,35.92781253219442,36.01055419886109,35.41449659016544,34.907759198861086,35.87558919886109,35.825109198861085,35.88300777028966,36.18900777028966,36.145645865527754,35.638290737322635,35.704704198861094,33.11027919886109,34.67261253219442,34.61389586552776,34.94227919886109,34.64382919886109,34.72459586552776,35.70717919886109,34.756479198861086,35.618704198861096,35.31779842963032,35.84316253219442],\"lon\":[-7.3913,-6.740678571428572,-7.505829032258065,-2.515971428571429,-2.07818,-3.1073500000000003,-1.9562571428571427,-6.169279999999999,-6.68555,-6.8294500000000005,-9.499433333333334,-9.3264,-9.375633333333333,-6.162158333333334,-8.771733333333335,-9.651570000000001,-6.4549,-6.5981499999999995,-6.4784999999999995,-5.3161,-5.741122222222223,-6.0274,-5.847783333333333,-5.524394444444444,-3.9425714285714286,-4.678366666666666,-3.8487999999999998,-8.417773913043478,-8.806899999999999,-4.97278,-4.76906,-5.082385714285714,-6.167271428571429,-5.764466666666666,-7.547923076923078,-7.4281500000000005,-11.1686,-7.5310999999999995,-8.718466666666666,-7.823236363636363,-9.5806,-8.105188888888888,-5.5273,-4.49952,-5.1858,-5.277946153846154,-5.611291666666666,-10.811769979507597,-10.486459265221884,-10.86903449563663,-8.374105693793311,-8.155209979507598,-8.669794979507596,-8.094248550936168,-10.200759979507596,-10.458894979507598,-10.530844979507597,-11.865836646174264,-11.779319979507598,-11.803936646174265,-10.197199146174263,-11.501986646174265,-11.941904979507598,-10.343569979507597,-10.415194979507596,-10.355369979507596,-9.774169979507597,-9.986681090618708,-10.129819979507598,-10.040011646174264,-9.87831720172982,-9.087405693793311,-9.45530331284093,-9.040519979507597,-11.325006936029336,-11.519569979507597,-9.602509979507598,-9.500649979507596,-9.657312836650455,-10.199755693793312,-9.99835331284093,-10.890081517969136,-10.830194979507597,-12.700419979507597,-10.881669979507597,-11.47535331284093,-11.027738161325779,-11.906419979507596,-11.168714423952041,-9.879769979507596,-9.365879979507596,-9.709019979507598,-9.755093056430674,-9.921765812840931],\"marker\":{\"opacity\":0.0},\"mode\":\"markers\",\"text\":[\"Link MAR.1.1_1 H2 Electrolysis\",\"Link MAR.1.2_1 H2 Electrolysis\",\"Link MAR.1.3_1 H2 Electrolysis\",\"Link MAR.10.1_1 H2 Electrolysis\",\"Link MAR.10.3_1 H2 Electrolysis\",\"Link MAR.10.4_1 H2 Electrolysis\",\"Link MAR.10.5_1 H2 Electrolysis\",\"Link MAR.11.1_1 H2 Electrolysis\",\"Link MAR.11.3_1 H2 Electrolysis\",\"Link MAR.11.4_1 H2 Electrolysis\",\"Link MAR.12.1_1 H2 Electrolysis\",\"Link MAR.12.2_1 H2 Electrolysis\",\"Link MAR.12.3_1 H2 Electrolysis\",\"Link MAR.12.4_1 H2 Electrolysis\",\"Link MAR.12.5_1 H2 Electrolysis\",\"Link MAR.12.6_1 H2 Electrolysis\",\"Link MAR.12.7_1 H2 Electrolysis\",\"Link MAR.13.1_1 H2 Electrolysis\",\"Link MAR.13.2_1 H2 Electrolysis\",\"Link MAR.14.1_1 H2 Electrolysis\",\"Link MAR.14.2_1 H2 Electrolysis\",\"Link MAR.14.3_1 H2 Electrolysis\",\"Link MAR.14.4_1 H2 Electrolysis\",\"Link MAR.14.5_1 H2 Electrolysis\",\"Link MAR.15.1_1 H2 Electrolysis\",\"Link MAR.15.2_1 H2 Electrolysis\",\"Link MAR.15.3_1 H2 Electrolysis\",\"Link MAR.2.1_1 H2 Electrolysis\",\"Link MAR.2.2_1 H2 Electrolysis\",\"Link MAR.3.2_1 H2 Electrolysis\",\"Link MAR.3.3_1 H2 Electrolysis\",\"Link MAR.3.4_1 H2 Electrolysis\",\"Link MAR.4.1_1 H2 Electrolysis\",\"Link MAR.4.2_1 H2 Electrolysis\",\"Link MAR.5.1_1 H2 Electrolysis\",\"Link MAR.5.2_1 H2 Electrolysis\",\"Link MAR.6.3_1 H2 Electrolysis\",\"Link MAR.8.1_1 H2 Electrolysis\",\"Link MAR.8.2_1 H2 Electrolysis\",\"Link MAR.8.3_1 H2 Electrolysis\",\"Link MAR.8.4_1 H2 Electrolysis\",\"Link MAR.8.5_1 H2 Electrolysis\",\"Link MAR.9.1_1 H2 Electrolysis\",\"Link MAR.9.2_1 H2 Electrolysis\",\"Link MAR.9.3_1 H2 Electrolysis\",\"Link MAR.9.4_1 H2 Electrolysis\",\"Link MAR.9.5_1 H2 Electrolysis\",\"Link MAR.1.1_1 H2 export\",\"Link MAR.1.2_1 H2 export\",\"Link MAR.1.3_1 H2 export\",\"Link MAR.10.1_1 H2 export\",\"Link MAR.10.3_1 H2 export\",\"Link MAR.10.4_1 H2 export\",\"Link MAR.10.5_1 H2 export\",\"Link MAR.11.1_1 H2 export\",\"Link MAR.11.3_1 H2 export\",\"Link MAR.11.4_1 H2 export\",\"Link MAR.12.1_1 H2 export\",\"Link MAR.12.2_1 H2 export\",\"Link MAR.12.3_1 H2 export\",\"Link MAR.12.4_1 H2 export\",\"Link MAR.12.5_1 H2 export\",\"Link MAR.12.6_1 H2 export\",\"Link MAR.12.7_1 H2 export\",\"Link MAR.13.1_1 H2 export\",\"Link MAR.13.2_1 H2 export\",\"Link MAR.14.1_1 H2 export\",\"Link MAR.14.2_1 H2 export\",\"Link MAR.14.3_1 H2 export\",\"Link MAR.14.4_1 H2 export\",\"Link MAR.14.5_1 H2 export\",\"Link MAR.15.1_1 H2 export\",\"Link MAR.15.2_1 H2 export\",\"Link MAR.15.3_1 H2 export\",\"Link MAR.2.1_1 H2 export\",\"Link MAR.2.2_1 H2 export\",\"Link MAR.3.2_1 H2 export\",\"Link MAR.3.3_1 H2 export\",\"Link MAR.3.4_1 H2 export\",\"Link MAR.4.1_1 H2 export\",\"Link MAR.4.2_1 H2 export\",\"Link MAR.5.1_1 H2 export\",\"Link MAR.5.2_1 H2 export\",\"Link MAR.6.3_1 H2 export\",\"Link MAR.8.1_1 H2 export\",\"Link MAR.8.2_1 H2 export\",\"Link MAR.8.3_1 H2 export\",\"Link MAR.8.4_1 H2 export\",\"Link MAR.8.5_1 H2 export\",\"Link MAR.9.1_1 H2 export\",\"Link MAR.9.2_1 H2 export\",\"Link MAR.9.3_1 H2 export\",\"Link MAR.9.4_1 H2 export\",\"Link MAR.9.5_1 H2 export\"],\"type\":\"scattermapbox\"},{\"hoverinfo\":\"text\",\"lat\":[33.4634,32.79667142857143,33.07327741935483,34.69427142857143,34.23870000000001,35.112775,34.660814285714295,33.750719999999994,34.00280000000001,33.879,30.422941666666663,30.15175,30.3944,31.24959166666666,30.479766666666666,29.629780000000004,30.686,32.05041666666667,32.5377,35.2168,35.711222222222226,35.044399999999996,35.68683333333333,35.68363888888889,35.078871428571425,34.114066666666666,34.27955,33.087434782608696,32.07396,34.00962,33.90866,34.02445714285714,34.63645714285714,34.54973333333333,33.53502307692308,33.66785,28.479,31.60366666666667,31.486233333333335,32.143,31.5461,31.707633333333334,33.6728,31.7714,33.495850000000004,32.894038461538464,33.94476666666666,33.4634,32.79667142857143,33.07327741935483,34.69427142857143,34.23870000000001,35.112775,34.660814285714295,33.750719999999994,34.00280000000001,33.879,30.422941666666663,30.15175,30.3944,31.24959166666666,30.479766666666666,29.629780000000004,30.686,32.05041666666667,32.5377,35.2168,35.711222222222226,35.044399999999996,35.68683333333333,35.68363888888889,35.078871428571425,34.114066666666666,34.27955,33.087434782608696,32.07396,34.00962,33.90866,34.02445714285714,34.63645714285714,34.54973333333333,33.53502307692308,33.66785,28.479,31.60366666666667,31.486233333333335,32.143,31.5461,31.707633333333334,33.6728,31.7714,33.495850000000004,32.894038461538464,33.94476666666666,37.74155839772218],\"lon\":[-7.3913,-6.740678571428572,-7.505829032258065,-2.515971428571429,-2.07818,-3.1073500000000003,-1.9562571428571427,-6.169279999999999,-6.68555,-6.8294500000000005,-9.499433333333334,-9.3264,-9.375633333333333,-6.162158333333334,-8.771733333333335,-9.651570000000001,-6.4549,-6.5981499999999995,-6.4784999999999995,-5.3161,-5.741122222222223,-6.0274,-5.847783333333333,-5.524394444444444,-3.9425714285714286,-4.678366666666666,-3.8487999999999998,-8.417773913043478,-8.806899999999999,-4.97278,-4.76906,-5.082385714285714,-6.167271428571429,-5.764466666666666,-7.547923076923078,-7.4281500000000005,-11.1686,-7.5310999999999995,-8.718466666666666,-7.823236363636363,-9.5806,-8.105188888888888,-5.5273,-4.49952,-5.1858,-5.277946153846154,-5.611291666666666,-7.3913,-6.740678571428572,-7.505829032258065,-2.515971428571429,-2.07818,-3.1073500000000003,-1.9562571428571427,-6.169279999999999,-6.68555,-6.8294500000000005,-9.499433333333334,-9.3264,-9.375633333333333,-6.162158333333334,-8.771733333333335,-9.651570000000001,-6.4549,-6.5981499999999995,-6.4784999999999995,-5.3161,-5.741122222222223,-6.0274,-5.847783333333333,-5.524394444444444,-3.9425714285714286,-4.678366666666666,-3.8487999999999998,-8.417773913043478,-8.806899999999999,-4.97278,-4.76906,-5.082385714285714,-6.167271428571429,-5.764466666666666,-7.547923076923078,-7.4281500000000005,-11.1686,-7.5310999999999995,-8.718466666666666,-7.823236363636363,-9.5806,-8.105188888888888,-5.5273,-4.49952,-5.1858,-5.277946153846154,-5.611291666666666,-14.232239959015194],\"marker\":{\"color\":\"cadetblue\",\"size\":10},\"mode\":\"markers\",\"opacity\":1,\"text\":[\"Bus MAR.1.1_1\",\"Bus MAR.1.2_1\",\"Bus MAR.1.3_1\",\"Bus MAR.10.1_1\",\"Bus MAR.10.3_1\",\"Bus MAR.10.4_1\",\"Bus MAR.10.5_1\",\"Bus MAR.11.1_1\",\"Bus MAR.11.3_1\",\"Bus MAR.11.4_1\",\"Bus MAR.12.1_1\",\"Bus MAR.12.2_1\",\"Bus MAR.12.3_1\",\"Bus MAR.12.4_1\",\"Bus MAR.12.5_1\",\"Bus MAR.12.6_1\",\"Bus MAR.12.7_1\",\"Bus MAR.13.1_1\",\"Bus MAR.13.2_1\",\"Bus MAR.14.1_1\",\"Bus MAR.14.2_1\",\"Bus MAR.14.3_1\",\"Bus MAR.14.4_1\",\"Bus MAR.14.5_1\",\"Bus MAR.15.1_1\",\"Bus MAR.15.2_1\",\"Bus MAR.15.3_1\",\"Bus MAR.2.1_1\",\"Bus MAR.2.2_1\",\"Bus MAR.3.2_1\",\"Bus MAR.3.3_1\",\"Bus MAR.3.4_1\",\"Bus MAR.4.1_1\",\"Bus MAR.4.2_1\",\"Bus MAR.5.1_1\",\"Bus MAR.5.2_1\",\"Bus MAR.6.3_1\",\"Bus MAR.8.1_1\",\"Bus MAR.8.2_1\",\"Bus MAR.8.3_1\",\"Bus MAR.8.4_1\",\"Bus MAR.8.5_1\",\"Bus MAR.9.1_1\",\"Bus MAR.9.2_1\",\"Bus MAR.9.3_1\",\"Bus MAR.9.4_1\",\"Bus MAR.9.5_1\",\"Bus MAR.1.1_1 H2\",\"Bus MAR.1.2_1 H2\",\"Bus MAR.1.3_1 H2\",\"Bus MAR.10.1_1 H2\",\"Bus MAR.10.3_1 H2\",\"Bus MAR.10.4_1 H2\",\"Bus MAR.10.5_1 H2\",\"Bus MAR.11.1_1 H2\",\"Bus MAR.11.3_1 H2\",\"Bus MAR.11.4_1 H2\",\"Bus MAR.12.1_1 H2\",\"Bus MAR.12.2_1 H2\",\"Bus MAR.12.3_1 H2\",\"Bus MAR.12.4_1 H2\",\"Bus MAR.12.5_1 H2\",\"Bus MAR.12.6_1 H2\",\"Bus MAR.12.7_1 H2\",\"Bus MAR.13.1_1 H2\",\"Bus MAR.13.2_1 H2\",\"Bus MAR.14.1_1 H2\",\"Bus MAR.14.2_1 H2\",\"Bus MAR.14.3_1 H2\",\"Bus MAR.14.4_1 H2\",\"Bus MAR.14.5_1 H2\",\"Bus MAR.15.1_1 H2\",\"Bus MAR.15.2_1 H2\",\"Bus MAR.15.3_1 H2\",\"Bus MAR.2.1_1 H2\",\"Bus MAR.2.2_1 H2\",\"Bus MAR.3.2_1 H2\",\"Bus MAR.3.3_1 H2\",\"Bus MAR.3.4_1 H2\",\"Bus MAR.4.1_1 H2\",\"Bus MAR.4.2_1 H2\",\"Bus MAR.5.1_1 H2\",\"Bus MAR.5.2_1 H2\",\"Bus MAR.6.3_1 H2\",\"Bus MAR.8.1_1 H2\",\"Bus MAR.8.2_1 H2\",\"Bus MAR.8.3_1 H2\",\"Bus MAR.8.4_1 H2\",\"Bus MAR.8.5_1 H2\",\"Bus MAR.9.1_1 H2\",\"Bus MAR.9.2_1 H2\",\"Bus MAR.9.3_1 H2\",\"Bus MAR.9.4_1 H2\",\"Bus MAR.9.5_1 H2\",\"Bus H2 export bus\"],\"type\":\"scattermapbox\"}],                        {\"hovermode\":\"closest\",\"mapbox\":{\"center\":{\"lat\":17.855611111111113,\"lon\":-5.5843},\"style\":\"open-street-map\",\"zoom\":2},\"showlegend\":false,\"template\":{\"data\":{\"barpolar\":[{\"marker\":{\"line\":{\"color\":\"#E5ECF6\",\"width\":0.5},\"pattern\":{\"fillmode\":\"overlay\",\"size\":10,\"solidity\":0.2}},\"type\":\"barpolar\"}],\"bar\":[{\"error_x\":{\"color\":\"#2a3f5f\"},\"error_y\":{\"color\":\"#2a3f5f\"},\"marker\":{\"line\":{\"color\":\"#E5ECF6\",\"width\":0.5},\"pattern\":{\"fillmode\":\"overlay\",\"size\":10,\"solidity\":0.2}},\"type\":\"bar\"}],\"carpet\":[{\"aaxis\":{\"endlinecolor\":\"#2a3f5f\",\"gridcolor\":\"white\",\"linecolor\":\"white\",\"minorgridcolor\":\"white\",\"startlinecolor\":\"#2a3f5f\"},\"baxis\":{\"endlinecolor\":\"#2a3f5f\",\"gridcolor\":\"white\",\"linecolor\":\"white\",\"minorgridcolor\":\"white\",\"startlinecolor\":\"#2a3f5f\"},\"type\":\"carpet\"}],\"choropleth\":[{\"colorbar\":{\"outlinewidth\":0,\"ticks\":\"\"},\"type\":\"choropleth\"}],\"contourcarpet\":[{\"colorbar\":{\"outlinewidth\":0,\"ticks\":\"\"},\"type\":\"contourcarpet\"}],\"contour\":[{\"colorbar\":{\"outlinewidth\":0,\"ticks\":\"\"},\"colorscale\":[[0.0,\"#0d0887\"],[0.1111111111111111,\"#46039f\"],[0.2222222222222222,\"#7201a8\"],[0.3333333333333333,\"#9c179e\"],[0.4444444444444444,\"#bd3786\"],[0.5555555555555556,\"#d8576b\"],[0.6666666666666666,\"#ed7953\"],[0.7777777777777778,\"#fb9f3a\"],[0.8888888888888888,\"#fdca26\"],[1.0,\"#f0f921\"]],\"type\":\"contour\"}],\"heatmapgl\":[{\"colorbar\":{\"outlinewidth\":0,\"ticks\":\"\"},\"colorscale\":[[0.0,\"#0d0887\"],[0.1111111111111111,\"#46039f\"],[0.2222222222222222,\"#7201a8\"],[0.3333333333333333,\"#9c179e\"],[0.4444444444444444,\"#bd3786\"],[0.5555555555555556,\"#d8576b\"],[0.6666666666666666,\"#ed7953\"],[0.7777777777777778,\"#fb9f3a\"],[0.8888888888888888,\"#fdca26\"],[1.0,\"#f0f921\"]],\"type\":\"heatmapgl\"}],\"heatmap\":[{\"colorbar\":{\"outlinewidth\":0,\"ticks\":\"\"},\"colorscale\":[[0.0,\"#0d0887\"],[0.1111111111111111,\"#46039f\"],[0.2222222222222222,\"#7201a8\"],[0.3333333333333333,\"#9c179e\"],[0.4444444444444444,\"#bd3786\"],[0.5555555555555556,\"#d8576b\"],[0.6666666666666666,\"#ed7953\"],[0.7777777777777778,\"#fb9f3a\"],[0.8888888888888888,\"#fdca26\"],[1.0,\"#f0f921\"]],\"type\":\"heatmap\"}],\"histogram2dcontour\":[{\"colorbar\":{\"outlinewidth\":0,\"ticks\":\"\"},\"colorscale\":[[0.0,\"#0d0887\"],[0.1111111111111111,\"#46039f\"],[0.2222222222222222,\"#7201a8\"],[0.3333333333333333,\"#9c179e\"],[0.4444444444444444,\"#bd3786\"],[0.5555555555555556,\"#d8576b\"],[0.6666666666666666,\"#ed7953\"],[0.7777777777777778,\"#fb9f3a\"],[0.8888888888888888,\"#fdca26\"],[1.0,\"#f0f921\"]],\"type\":\"histogram2dcontour\"}],\"histogram2d\":[{\"colorbar\":{\"outlinewidth\":0,\"ticks\":\"\"},\"colorscale\":[[0.0,\"#0d0887\"],[0.1111111111111111,\"#46039f\"],[0.2222222222222222,\"#7201a8\"],[0.3333333333333333,\"#9c179e\"],[0.4444444444444444,\"#bd3786\"],[0.5555555555555556,\"#d8576b\"],[0.6666666666666666,\"#ed7953\"],[0.7777777777777778,\"#fb9f3a\"],[0.8888888888888888,\"#fdca26\"],[1.0,\"#f0f921\"]],\"type\":\"histogram2d\"}],\"histogram\":[{\"marker\":{\"pattern\":{\"fillmode\":\"overlay\",\"size\":10,\"solidity\":0.2}},\"type\":\"histogram\"}],\"mesh3d\":[{\"colorbar\":{\"outlinewidth\":0,\"ticks\":\"\"},\"type\":\"mesh3d\"}],\"parcoords\":[{\"line\":{\"colorbar\":{\"outlinewidth\":0,\"ticks\":\"\"}},\"type\":\"parcoords\"}],\"pie\":[{\"automargin\":true,\"type\":\"pie\"}],\"scatter3d\":[{\"line\":{\"colorbar\":{\"outlinewidth\":0,\"ticks\":\"\"}},\"marker\":{\"colorbar\":{\"outlinewidth\":0,\"ticks\":\"\"}},\"type\":\"scatter3d\"}],\"scattercarpet\":[{\"marker\":{\"colorbar\":{\"outlinewidth\":0,\"ticks\":\"\"}},\"type\":\"scattercarpet\"}],\"scattergeo\":[{\"marker\":{\"colorbar\":{\"outlinewidth\":0,\"ticks\":\"\"}},\"type\":\"scattergeo\"}],\"scattergl\":[{\"marker\":{\"colorbar\":{\"outlinewidth\":0,\"ticks\":\"\"}},\"type\":\"scattergl\"}],\"scattermapbox\":[{\"marker\":{\"colorbar\":{\"outlinewidth\":0,\"ticks\":\"\"}},\"type\":\"scattermapbox\"}],\"scatterpolargl\":[{\"marker\":{\"colorbar\":{\"outlinewidth\":0,\"ticks\":\"\"}},\"type\":\"scatterpolargl\"}],\"scatterpolar\":[{\"marker\":{\"colorbar\":{\"outlinewidth\":0,\"ticks\":\"\"}},\"type\":\"scatterpolar\"}],\"scatter\":[{\"fillpattern\":{\"fillmode\":\"overlay\",\"size\":10,\"solidity\":0.2},\"type\":\"scatter\"}],\"scatterternary\":[{\"marker\":{\"colorbar\":{\"outlinewidth\":0,\"ticks\":\"\"}},\"type\":\"scatterternary\"}],\"surface\":[{\"colorbar\":{\"outlinewidth\":0,\"ticks\":\"\"},\"colorscale\":[[0.0,\"#0d0887\"],[0.1111111111111111,\"#46039f\"],[0.2222222222222222,\"#7201a8\"],[0.3333333333333333,\"#9c179e\"],[0.4444444444444444,\"#bd3786\"],[0.5555555555555556,\"#d8576b\"],[0.6666666666666666,\"#ed7953\"],[0.7777777777777778,\"#fb9f3a\"],[0.8888888888888888,\"#fdca26\"],[1.0,\"#f0f921\"]],\"type\":\"surface\"}],\"table\":[{\"cells\":{\"fill\":{\"color\":\"#EBF0F8\"},\"line\":{\"color\":\"white\"}},\"header\":{\"fill\":{\"color\":\"#C8D4E3\"},\"line\":{\"color\":\"white\"}},\"type\":\"table\"}]},\"layout\":{\"annotationdefaults\":{\"arrowcolor\":\"#2a3f5f\",\"arrowhead\":0,\"arrowwidth\":1},\"autotypenumbers\":\"strict\",\"coloraxis\":{\"colorbar\":{\"outlinewidth\":0,\"ticks\":\"\"}},\"colorscale\":{\"diverging\":[[0,\"#8e0152\"],[0.1,\"#c51b7d\"],[0.2,\"#de77ae\"],[0.3,\"#f1b6da\"],[0.4,\"#fde0ef\"],[0.5,\"#f7f7f7\"],[0.6,\"#e6f5d0\"],[0.7,\"#b8e186\"],[0.8,\"#7fbc41\"],[0.9,\"#4d9221\"],[1,\"#276419\"]],\"sequential\":[[0.0,\"#0d0887\"],[0.1111111111111111,\"#46039f\"],[0.2222222222222222,\"#7201a8\"],[0.3333333333333333,\"#9c179e\"],[0.4444444444444444,\"#bd3786\"],[0.5555555555555556,\"#d8576b\"],[0.6666666666666666,\"#ed7953\"],[0.7777777777777778,\"#fb9f3a\"],[0.8888888888888888,\"#fdca26\"],[1.0,\"#f0f921\"]],\"sequentialminus\":[[0.0,\"#0d0887\"],[0.1111111111111111,\"#46039f\"],[0.2222222222222222,\"#7201a8\"],[0.3333333333333333,\"#9c179e\"],[0.4444444444444444,\"#bd3786\"],[0.5555555555555556,\"#d8576b\"],[0.6666666666666666,\"#ed7953\"],[0.7777777777777778,\"#fb9f3a\"],[0.8888888888888888,\"#fdca26\"],[1.0,\"#f0f921\"]]},\"colorway\":[\"#636efa\",\"#EF553B\",\"#00cc96\",\"#ab63fa\",\"#FFA15A\",\"#19d3f3\",\"#FF6692\",\"#B6E880\",\"#FF97FF\",\"#FECB52\"],\"font\":{\"color\":\"#2a3f5f\"},\"geo\":{\"bgcolor\":\"white\",\"lakecolor\":\"white\",\"landcolor\":\"#E5ECF6\",\"showlakes\":true,\"showland\":true,\"subunitcolor\":\"white\"},\"hoverlabel\":{\"align\":\"left\"},\"hovermode\":\"closest\",\"mapbox\":{\"style\":\"light\"},\"paper_bgcolor\":\"white\",\"plot_bgcolor\":\"#E5ECF6\",\"polar\":{\"angularaxis\":{\"gridcolor\":\"white\",\"linecolor\":\"white\",\"ticks\":\"\"},\"bgcolor\":\"#E5ECF6\",\"radialaxis\":{\"gridcolor\":\"white\",\"linecolor\":\"white\",\"ticks\":\"\"}},\"scene\":{\"xaxis\":{\"backgroundcolor\":\"#E5ECF6\",\"gridcolor\":\"white\",\"gridwidth\":2,\"linecolor\":\"white\",\"showbackground\":true,\"ticks\":\"\",\"zerolinecolor\":\"white\"},\"yaxis\":{\"backgroundcolor\":\"#E5ECF6\",\"gridcolor\":\"white\",\"gridwidth\":2,\"linecolor\":\"white\",\"showbackground\":true,\"ticks\":\"\",\"zerolinecolor\":\"white\"},\"zaxis\":{\"backgroundcolor\":\"#E5ECF6\",\"gridcolor\":\"white\",\"gridwidth\":2,\"linecolor\":\"white\",\"showbackground\":true,\"ticks\":\"\",\"zerolinecolor\":\"white\"}},\"shapedefaults\":{\"line\":{\"color\":\"#2a3f5f\"}},\"ternary\":{\"aaxis\":{\"gridcolor\":\"white\",\"linecolor\":\"white\",\"ticks\":\"\"},\"baxis\":{\"gridcolor\":\"white\",\"linecolor\":\"white\",\"ticks\":\"\"},\"bgcolor\":\"#E5ECF6\",\"caxis\":{\"gridcolor\":\"white\",\"linecolor\":\"white\",\"ticks\":\"\"}},\"title\":{\"x\":0.05},\"xaxis\":{\"automargin\":true,\"gridcolor\":\"white\",\"linecolor\":\"white\",\"ticks\":\"\",\"title\":{\"standoff\":15},\"zerolinecolor\":\"white\",\"zerolinewidth\":2},\"yaxis\":{\"automargin\":true,\"gridcolor\":\"white\",\"linecolor\":\"white\",\"ticks\":\"\",\"title\":{\"standoff\":15},\"zerolinecolor\":\"white\",\"zerolinewidth\":2}}},\"title\":{\"text\":\"\"}},                        {\"responsive\": true}                    ).then(function(){\n",
       "                            \n",
       "var gd = document.getElementById('d45778b7-0287-4dec-a466-f3d8952bc95f');\n",
       "var x = new MutationObserver(function (mutations, observer) {{\n",
       "        var display = window.getComputedStyle(gd).display;\n",
       "        if (!display || display === 'none') {{\n",
       "            console.log([gd, 'removed!']);\n",
       "            Plotly.purge(gd);\n",
       "            observer.disconnect();\n",
       "        }}\n",
       "}});\n",
       "\n",
       "// Listen for the removal of the full notebook cells\n",
       "var notebookContainer = gd.closest('#notebook-container');\n",
       "if (notebookContainer) {{\n",
       "    x.observe(notebookContainer, {childList: true});\n",
       "}}\n",
       "\n",
       "// Listen for the clearing of the current output cell\n",
       "var outputEl = gd.closest('.output');\n",
       "if (outputEl) {{\n",
       "    x.observe(outputEl, {childList: true});\n",
       "}}\n",
       "\n",
       "                        })                };                });            </script>        </div>"
      ]
     },
     "metadata": {},
     "output_type": "display_data"
    },
    {
     "data": {
      "text/plain": [
       "{'data': [Scattermapbox({\n",
       "      'lat': [33.4634, 33.4634],\n",
       "      'line': {'color': 'darkseagreen', 'width': 3},\n",
       "      'lon': [-7.3913, -7.3913],\n",
       "      'mode': 'lines',\n",
       "      'opacity': 0.8\n",
       "  }),\n",
       "  Scattermapbox({\n",
       "      'lat': [32.79667142857143, 32.79667142857143],\n",
       "      'line': {'color': 'darkseagreen', 'width': 3},\n",
       "      'lon': [-6.740678571428572, -6.740678571428572],\n",
       "      'mode': 'lines',\n",
       "      'opacity': 0.8\n",
       "  }),\n",
       "  Scattermapbox({\n",
       "      'lat': [33.07327741935483, 33.07327741935483],\n",
       "      'line': {'color': 'darkseagreen', 'width': 3},\n",
       "      'lon': [-7.505829032258065, -7.505829032258065],\n",
       "      'mode': 'lines',\n",
       "      'opacity': 0.8\n",
       "  }),\n",
       "  Scattermapbox({\n",
       "      'lat': [34.69427142857143, 34.69427142857143],\n",
       "      'line': {'color': 'darkseagreen', 'width': 3},\n",
       "      'lon': [-2.515971428571429, -2.515971428571429],\n",
       "      'mode': 'lines',\n",
       "      'opacity': 0.8\n",
       "  }),\n",
       "  Scattermapbox({\n",
       "      'lat': [34.23870000000001, 34.23870000000001],\n",
       "      'line': {'color': 'darkseagreen', 'width': 3},\n",
       "      'lon': [-2.07818, -2.07818],\n",
       "      'mode': 'lines',\n",
       "      'opacity': 0.8\n",
       "  }),\n",
       "  Scattermapbox({\n",
       "      'lat': [35.112775, 35.112775],\n",
       "      'line': {'color': 'darkseagreen', 'width': 3},\n",
       "      'lon': [-3.1073500000000003, -3.1073500000000003],\n",
       "      'mode': 'lines',\n",
       "      'opacity': 0.8\n",
       "  }),\n",
       "  Scattermapbox({\n",
       "      'lat': [34.660814285714295, 34.660814285714295],\n",
       "      'line': {'color': 'darkseagreen', 'width': 3},\n",
       "      'lon': [-1.9562571428571427, -1.9562571428571427],\n",
       "      'mode': 'lines',\n",
       "      'opacity': 0.8\n",
       "  }),\n",
       "  Scattermapbox({\n",
       "      'lat': [33.750719999999994, 33.750719999999994],\n",
       "      'line': {'color': 'darkseagreen', 'width': 3},\n",
       "      'lon': [-6.169279999999999, -6.169279999999999],\n",
       "      'mode': 'lines',\n",
       "      'opacity': 0.8\n",
       "  }),\n",
       "  Scattermapbox({\n",
       "      'lat': [34.00280000000001, 34.00280000000001],\n",
       "      'line': {'color': 'darkseagreen', 'width': 3},\n",
       "      'lon': [-6.68555, -6.68555],\n",
       "      'mode': 'lines',\n",
       "      'opacity': 0.8\n",
       "  }),\n",
       "  Scattermapbox({\n",
       "      'lat': [33.879, 33.879],\n",
       "      'line': {'color': 'darkseagreen', 'width': 3},\n",
       "      'lon': [-6.8294500000000005, -6.8294500000000005],\n",
       "      'mode': 'lines',\n",
       "      'opacity': 0.8\n",
       "  }),\n",
       "  Scattermapbox({\n",
       "      'lat': [30.422941666666663, 30.422941666666663],\n",
       "      'line': {'color': 'darkseagreen', 'width': 3},\n",
       "      'lon': [-9.499433333333334, -9.499433333333334],\n",
       "      'mode': 'lines',\n",
       "      'opacity': 0.8\n",
       "  }),\n",
       "  Scattermapbox({\n",
       "      'lat': [30.15175, 30.15175],\n",
       "      'line': {'color': 'darkseagreen', 'width': 3},\n",
       "      'lon': [-9.3264, -9.3264],\n",
       "      'mode': 'lines',\n",
       "      'opacity': 0.8\n",
       "  }),\n",
       "  Scattermapbox({\n",
       "      'lat': [30.3944, 30.3944],\n",
       "      'line': {'color': 'darkseagreen', 'width': 3},\n",
       "      'lon': [-9.375633333333333, -9.375633333333333],\n",
       "      'mode': 'lines',\n",
       "      'opacity': 0.8\n",
       "  }),\n",
       "  Scattermapbox({\n",
       "      'lat': [31.24959166666666, 31.24959166666666],\n",
       "      'line': {'color': 'darkseagreen', 'width': 3},\n",
       "      'lon': [-6.162158333333334, -6.162158333333334],\n",
       "      'mode': 'lines',\n",
       "      'opacity': 0.8\n",
       "  }),\n",
       "  Scattermapbox({\n",
       "      'lat': [30.479766666666666, 30.479766666666666],\n",
       "      'line': {'color': 'darkseagreen', 'width': 3},\n",
       "      'lon': [-8.771733333333335, -8.771733333333335],\n",
       "      'mode': 'lines',\n",
       "      'opacity': 0.8\n",
       "  }),\n",
       "  Scattermapbox({\n",
       "      'lat': [29.629780000000004, 29.629780000000004],\n",
       "      'line': {'color': 'darkseagreen', 'width': 3},\n",
       "      'lon': [-9.651570000000001, -9.651570000000001],\n",
       "      'mode': 'lines',\n",
       "      'opacity': 0.8\n",
       "  }),\n",
       "  Scattermapbox({\n",
       "      'lat': [30.686, 30.686],\n",
       "      'line': {'color': 'darkseagreen', 'width': 3},\n",
       "      'lon': [-6.4549, -6.4549],\n",
       "      'mode': 'lines',\n",
       "      'opacity': 0.8\n",
       "  }),\n",
       "  Scattermapbox({\n",
       "      'lat': [32.05041666666667, 32.05041666666667],\n",
       "      'line': {'color': 'darkseagreen', 'width': 3},\n",
       "      'lon': [-6.5981499999999995, -6.5981499999999995],\n",
       "      'mode': 'lines',\n",
       "      'opacity': 0.8\n",
       "  }),\n",
       "  Scattermapbox({\n",
       "      'lat': [32.5377, 32.5377],\n",
       "      'line': {'color': 'darkseagreen', 'width': 3},\n",
       "      'lon': [-6.4784999999999995, -6.4784999999999995],\n",
       "      'mode': 'lines',\n",
       "      'opacity': 0.8\n",
       "  }),\n",
       "  Scattermapbox({\n",
       "      'lat': [35.2168, 35.2168],\n",
       "      'line': {'color': 'darkseagreen', 'width': 3},\n",
       "      'lon': [-5.3161, -5.3161],\n",
       "      'mode': 'lines',\n",
       "      'opacity': 0.8\n",
       "  }),\n",
       "  Scattermapbox({\n",
       "      'lat': [35.711222222222226, 35.711222222222226],\n",
       "      'line': {'color': 'darkseagreen', 'width': 3},\n",
       "      'lon': [-5.741122222222223, -5.741122222222223],\n",
       "      'mode': 'lines',\n",
       "      'opacity': 0.8\n",
       "  }),\n",
       "  Scattermapbox({\n",
       "      'lat': [35.044399999999996, 35.044399999999996],\n",
       "      'line': {'color': 'darkseagreen', 'width': 3},\n",
       "      'lon': [-6.0274, -6.0274],\n",
       "      'mode': 'lines',\n",
       "      'opacity': 0.8\n",
       "  }),\n",
       "  Scattermapbox({\n",
       "      'lat': [35.68683333333333, 35.68683333333333],\n",
       "      'line': {'color': 'darkseagreen', 'width': 3},\n",
       "      'lon': [-5.847783333333333, -5.847783333333333],\n",
       "      'mode': 'lines',\n",
       "      'opacity': 0.8\n",
       "  }),\n",
       "  Scattermapbox({\n",
       "      'lat': [35.68363888888889, 35.68363888888889],\n",
       "      'line': {'color': 'darkseagreen', 'width': 3},\n",
       "      'lon': [-5.524394444444444, -5.524394444444444],\n",
       "      'mode': 'lines',\n",
       "      'opacity': 0.8\n",
       "  }),\n",
       "  Scattermapbox({\n",
       "      'lat': [35.078871428571425, 35.078871428571425],\n",
       "      'line': {'color': 'darkseagreen', 'width': 3},\n",
       "      'lon': [-3.9425714285714286, -3.9425714285714286],\n",
       "      'mode': 'lines',\n",
       "      'opacity': 0.8\n",
       "  }),\n",
       "  Scattermapbox({\n",
       "      'lat': [34.114066666666666, 34.114066666666666],\n",
       "      'line': {'color': 'darkseagreen', 'width': 3},\n",
       "      'lon': [-4.678366666666666, -4.678366666666666],\n",
       "      'mode': 'lines',\n",
       "      'opacity': 0.8\n",
       "  }),\n",
       "  Scattermapbox({\n",
       "      'lat': [34.27955, 34.27955],\n",
       "      'line': {'color': 'darkseagreen', 'width': 3},\n",
       "      'lon': [-3.8487999999999998, -3.8487999999999998],\n",
       "      'mode': 'lines',\n",
       "      'opacity': 0.8\n",
       "  }),\n",
       "  Scattermapbox({\n",
       "      'lat': [33.087434782608696, 33.087434782608696],\n",
       "      'line': {'color': 'darkseagreen', 'width': 3},\n",
       "      'lon': [-8.417773913043478, -8.417773913043478],\n",
       "      'mode': 'lines',\n",
       "      'opacity': 0.8\n",
       "  }),\n",
       "  Scattermapbox({\n",
       "      'lat': [32.07396, 32.07396],\n",
       "      'line': {'color': 'darkseagreen', 'width': 3},\n",
       "      'lon': [-8.806899999999999, -8.806899999999999],\n",
       "      'mode': 'lines',\n",
       "      'opacity': 0.8\n",
       "  }),\n",
       "  Scattermapbox({\n",
       "      'lat': [34.00962, 34.00962],\n",
       "      'line': {'color': 'darkseagreen', 'width': 3},\n",
       "      'lon': [-4.97278, -4.97278],\n",
       "      'mode': 'lines',\n",
       "      'opacity': 0.8\n",
       "  }),\n",
       "  Scattermapbox({\n",
       "      'lat': [33.90866, 33.90866],\n",
       "      'line': {'color': 'darkseagreen', 'width': 3},\n",
       "      'lon': [-4.76906, -4.76906],\n",
       "      'mode': 'lines',\n",
       "      'opacity': 0.8\n",
       "  }),\n",
       "  Scattermapbox({\n",
       "      'lat': [34.02445714285714, 34.02445714285714],\n",
       "      'line': {'color': 'darkseagreen', 'width': 3},\n",
       "      'lon': [-5.082385714285714, -5.082385714285714],\n",
       "      'mode': 'lines',\n",
       "      'opacity': 0.8\n",
       "  }),\n",
       "  Scattermapbox({\n",
       "      'lat': [34.63645714285714, 34.63645714285714],\n",
       "      'line': {'color': 'darkseagreen', 'width': 3},\n",
       "      'lon': [-6.167271428571429, -6.167271428571429],\n",
       "      'mode': 'lines',\n",
       "      'opacity': 0.8\n",
       "  }),\n",
       "  Scattermapbox({\n",
       "      'lat': [34.54973333333333, 34.54973333333333],\n",
       "      'line': {'color': 'darkseagreen', 'width': 3},\n",
       "      'lon': [-5.764466666666666, -5.764466666666666],\n",
       "      'mode': 'lines',\n",
       "      'opacity': 0.8\n",
       "  }),\n",
       "  Scattermapbox({\n",
       "      'lat': [33.53502307692308, 33.53502307692308],\n",
       "      'line': {'color': 'darkseagreen', 'width': 3},\n",
       "      'lon': [-7.547923076923078, -7.547923076923078],\n",
       "      'mode': 'lines',\n",
       "      'opacity': 0.8\n",
       "  }),\n",
       "  Scattermapbox({\n",
       "      'lat': [33.66785, 33.66785],\n",
       "      'line': {'color': 'darkseagreen', 'width': 3},\n",
       "      'lon': [-7.4281500000000005, -7.4281500000000005],\n",
       "      'mode': 'lines',\n",
       "      'opacity': 0.8\n",
       "  }),\n",
       "  Scattermapbox({\n",
       "      'lat': [28.479, 28.479],\n",
       "      'line': {'color': 'darkseagreen', 'width': 3},\n",
       "      'lon': [-11.1686, -11.1686],\n",
       "      'mode': 'lines',\n",
       "      'opacity': 0.8\n",
       "  }),\n",
       "  Scattermapbox({\n",
       "      'lat': [31.60366666666667, 31.60366666666667],\n",
       "      'line': {'color': 'darkseagreen', 'width': 3},\n",
       "      'lon': [-7.5310999999999995, -7.5310999999999995],\n",
       "      'mode': 'lines',\n",
       "      'opacity': 0.8\n",
       "  }),\n",
       "  Scattermapbox({\n",
       "      'lat': [31.486233333333335, 31.486233333333335],\n",
       "      'line': {'color': 'darkseagreen', 'width': 3},\n",
       "      'lon': [-8.718466666666666, -8.718466666666666],\n",
       "      'mode': 'lines',\n",
       "      'opacity': 0.8\n",
       "  }),\n",
       "  Scattermapbox({\n",
       "      'lat': [32.143, 32.143],\n",
       "      'line': {'color': 'darkseagreen', 'width': 3},\n",
       "      'lon': [-7.823236363636363, -7.823236363636363],\n",
       "      'mode': 'lines',\n",
       "      'opacity': 0.8\n",
       "  }),\n",
       "  Scattermapbox({\n",
       "      'lat': [31.5461, 31.5461],\n",
       "      'line': {'color': 'darkseagreen', 'width': 3},\n",
       "      'lon': [-9.5806, -9.5806],\n",
       "      'mode': 'lines',\n",
       "      'opacity': 0.8\n",
       "  }),\n",
       "  Scattermapbox({\n",
       "      'lat': [31.707633333333334, 31.707633333333334],\n",
       "      'line': {'color': 'darkseagreen', 'width': 3},\n",
       "      'lon': [-8.105188888888888, -8.105188888888888],\n",
       "      'mode': 'lines',\n",
       "      'opacity': 0.8\n",
       "  }),\n",
       "  Scattermapbox({\n",
       "      'lat': [33.6728, 33.6728],\n",
       "      'line': {'color': 'darkseagreen', 'width': 3},\n",
       "      'lon': [-5.5273, -5.5273],\n",
       "      'mode': 'lines',\n",
       "      'opacity': 0.8\n",
       "  }),\n",
       "  Scattermapbox({\n",
       "      'lat': [31.7714, 31.7714],\n",
       "      'line': {'color': 'darkseagreen', 'width': 3},\n",
       "      'lon': [-4.49952, -4.49952],\n",
       "      'mode': 'lines',\n",
       "      'opacity': 0.8\n",
       "  }),\n",
       "  Scattermapbox({\n",
       "      'lat': [33.495850000000004, 33.495850000000004],\n",
       "      'line': {'color': 'darkseagreen', 'width': 3},\n",
       "      'lon': [-5.1858, -5.1858],\n",
       "      'mode': 'lines',\n",
       "      'opacity': 0.8\n",
       "  }),\n",
       "  Scattermapbox({\n",
       "      'lat': [32.894038461538464, 32.894038461538464],\n",
       "      'line': {'color': 'darkseagreen', 'width': 3},\n",
       "      'lon': [-5.277946153846154, -5.277946153846154],\n",
       "      'mode': 'lines',\n",
       "      'opacity': 0.8\n",
       "  }),\n",
       "  Scattermapbox({\n",
       "      'lat': [33.94476666666666, 33.94476666666666],\n",
       "      'line': {'color': 'darkseagreen', 'width': 3},\n",
       "      'lon': [-5.611291666666666, -5.611291666666666],\n",
       "      'mode': 'lines',\n",
       "      'opacity': 0.8\n",
       "  }),\n",
       "  Scattermapbox({\n",
       "      'lat': [33.4634, 37.74155839772218],\n",
       "      'line': {'color': 'darkseagreen', 'width': 3},\n",
       "      'lon': [-7.3913, -14.232239959015194],\n",
       "      'mode': 'lines',\n",
       "      'opacity': 0.8\n",
       "  }),\n",
       "  Scattermapbox({\n",
       "      'lat': [32.79667142857143, 37.74155839772218],\n",
       "      'line': {'color': 'darkseagreen', 'width': 3},\n",
       "      'lon': [-6.740678571428572, -14.232239959015194],\n",
       "      'mode': 'lines',\n",
       "      'opacity': 0.8\n",
       "  }),\n",
       "  Scattermapbox({\n",
       "      'lat': [33.07327741935483, 37.74155839772218],\n",
       "      'line': {'color': 'darkseagreen', 'width': 3},\n",
       "      'lon': [-7.505829032258065, -14.232239959015194],\n",
       "      'mode': 'lines',\n",
       "      'opacity': 0.8\n",
       "  }),\n",
       "  Scattermapbox({\n",
       "      'lat': [34.69427142857143, 37.74155839772218],\n",
       "      'line': {'color': 'darkseagreen', 'width': 3},\n",
       "      'lon': [-2.515971428571429, -14.232239959015194],\n",
       "      'mode': 'lines',\n",
       "      'opacity': 0.8\n",
       "  }),\n",
       "  Scattermapbox({\n",
       "      'lat': [34.23870000000001, 37.74155839772218],\n",
       "      'line': {'color': 'darkseagreen', 'width': 3},\n",
       "      'lon': [-2.07818, -14.232239959015194],\n",
       "      'mode': 'lines',\n",
       "      'opacity': 0.8\n",
       "  }),\n",
       "  Scattermapbox({\n",
       "      'lat': [35.112775, 37.74155839772218],\n",
       "      'line': {'color': 'darkseagreen', 'width': 3},\n",
       "      'lon': [-3.1073500000000003, -14.232239959015194],\n",
       "      'mode': 'lines',\n",
       "      'opacity': 0.8\n",
       "  }),\n",
       "  Scattermapbox({\n",
       "      'lat': [34.660814285714295, 37.74155839772218],\n",
       "      'line': {'color': 'darkseagreen', 'width': 3},\n",
       "      'lon': [-1.9562571428571427, -14.232239959015194],\n",
       "      'mode': 'lines',\n",
       "      'opacity': 0.8\n",
       "  }),\n",
       "  Scattermapbox({\n",
       "      'lat': [33.750719999999994, 37.74155839772218],\n",
       "      'line': {'color': 'darkseagreen', 'width': 3},\n",
       "      'lon': [-6.169279999999999, -14.232239959015194],\n",
       "      'mode': 'lines',\n",
       "      'opacity': 0.8\n",
       "  }),\n",
       "  Scattermapbox({\n",
       "      'lat': [34.00280000000001, 37.74155839772218],\n",
       "      'line': {'color': 'darkseagreen', 'width': 3},\n",
       "      'lon': [-6.68555, -14.232239959015194],\n",
       "      'mode': 'lines',\n",
       "      'opacity': 0.8\n",
       "  }),\n",
       "  Scattermapbox({\n",
       "      'lat': [33.879, 37.74155839772218],\n",
       "      'line': {'color': 'darkseagreen', 'width': 3},\n",
       "      'lon': [-6.8294500000000005, -14.232239959015194],\n",
       "      'mode': 'lines',\n",
       "      'opacity': 0.8\n",
       "  }),\n",
       "  Scattermapbox({\n",
       "      'lat': [30.422941666666663, 37.74155839772218],\n",
       "      'line': {'color': 'darkseagreen', 'width': 3},\n",
       "      'lon': [-9.499433333333334, -14.232239959015194],\n",
       "      'mode': 'lines',\n",
       "      'opacity': 0.8\n",
       "  }),\n",
       "  Scattermapbox({\n",
       "      'lat': [30.15175, 37.74155839772218],\n",
       "      'line': {'color': 'darkseagreen', 'width': 3},\n",
       "      'lon': [-9.3264, -14.232239959015194],\n",
       "      'mode': 'lines',\n",
       "      'opacity': 0.8\n",
       "  }),\n",
       "  Scattermapbox({\n",
       "      'lat': [30.3944, 37.74155839772218],\n",
       "      'line': {'color': 'darkseagreen', 'width': 3},\n",
       "      'lon': [-9.375633333333333, -14.232239959015194],\n",
       "      'mode': 'lines',\n",
       "      'opacity': 0.8\n",
       "  }),\n",
       "  Scattermapbox({\n",
       "      'lat': [31.24959166666666, 37.74155839772218],\n",
       "      'line': {'color': 'darkseagreen', 'width': 3},\n",
       "      'lon': [-6.162158333333334, -14.232239959015194],\n",
       "      'mode': 'lines',\n",
       "      'opacity': 0.8\n",
       "  }),\n",
       "  Scattermapbox({\n",
       "      'lat': [30.479766666666666, 37.74155839772218],\n",
       "      'line': {'color': 'darkseagreen', 'width': 3},\n",
       "      'lon': [-8.771733333333335, -14.232239959015194],\n",
       "      'mode': 'lines',\n",
       "      'opacity': 0.8\n",
       "  }),\n",
       "  Scattermapbox({\n",
       "      'lat': [29.629780000000004, 37.74155839772218],\n",
       "      'line': {'color': 'darkseagreen', 'width': 3},\n",
       "      'lon': [-9.651570000000001, -14.232239959015194],\n",
       "      'mode': 'lines',\n",
       "      'opacity': 0.8\n",
       "  }),\n",
       "  Scattermapbox({\n",
       "      'lat': [30.686, 37.74155839772218],\n",
       "      'line': {'color': 'darkseagreen', 'width': 3},\n",
       "      'lon': [-6.4549, -14.232239959015194],\n",
       "      'mode': 'lines',\n",
       "      'opacity': 0.8\n",
       "  }),\n",
       "  Scattermapbox({\n",
       "      'lat': [32.05041666666667, 37.74155839772218],\n",
       "      'line': {'color': 'darkseagreen', 'width': 3},\n",
       "      'lon': [-6.5981499999999995, -14.232239959015194],\n",
       "      'mode': 'lines',\n",
       "      'opacity': 0.8\n",
       "  }),\n",
       "  Scattermapbox({\n",
       "      'lat': [32.5377, 37.74155839772218],\n",
       "      'line': {'color': 'darkseagreen', 'width': 3},\n",
       "      'lon': [-6.4784999999999995, -14.232239959015194],\n",
       "      'mode': 'lines',\n",
       "      'opacity': 0.8\n",
       "  }),\n",
       "  Scattermapbox({\n",
       "      'lat': [35.2168, 37.74155839772218],\n",
       "      'line': {'color': 'darkseagreen', 'width': 3},\n",
       "      'lon': [-5.3161, -14.232239959015194],\n",
       "      'mode': 'lines',\n",
       "      'opacity': 0.8\n",
       "  }),\n",
       "  Scattermapbox({\n",
       "      'lat': [35.711222222222226, 37.74155839772218],\n",
       "      'line': {'color': 'darkseagreen', 'width': 3},\n",
       "      'lon': [-5.741122222222223, -14.232239959015194],\n",
       "      'mode': 'lines',\n",
       "      'opacity': 0.8\n",
       "  }),\n",
       "  Scattermapbox({\n",
       "      'lat': [35.044399999999996, 37.74155839772218],\n",
       "      'line': {'color': 'darkseagreen', 'width': 3},\n",
       "      'lon': [-6.0274, -14.232239959015194],\n",
       "      'mode': 'lines',\n",
       "      'opacity': 0.8\n",
       "  }),\n",
       "  Scattermapbox({\n",
       "      'lat': [35.68683333333333, 37.74155839772218],\n",
       "      'line': {'color': 'darkseagreen', 'width': 3},\n",
       "      'lon': [-5.847783333333333, -14.232239959015194],\n",
       "      'mode': 'lines',\n",
       "      'opacity': 0.8\n",
       "  }),\n",
       "  Scattermapbox({\n",
       "      'lat': [35.68363888888889, 37.74155839772218],\n",
       "      'line': {'color': 'darkseagreen', 'width': 3},\n",
       "      'lon': [-5.524394444444444, -14.232239959015194],\n",
       "      'mode': 'lines',\n",
       "      'opacity': 0.8\n",
       "  }),\n",
       "  Scattermapbox({\n",
       "      'lat': [35.078871428571425, 37.74155839772218],\n",
       "      'line': {'color': 'darkseagreen', 'width': 3},\n",
       "      'lon': [-3.9425714285714286, -14.232239959015194],\n",
       "      'mode': 'lines',\n",
       "      'opacity': 0.8\n",
       "  }),\n",
       "  Scattermapbox({\n",
       "      'lat': [34.114066666666666, 37.74155839772218],\n",
       "      'line': {'color': 'darkseagreen', 'width': 3},\n",
       "      'lon': [-4.678366666666666, -14.232239959015194],\n",
       "      'mode': 'lines',\n",
       "      'opacity': 0.8\n",
       "  }),\n",
       "  Scattermapbox({\n",
       "      'lat': [34.27955, 37.74155839772218],\n",
       "      'line': {'color': 'darkseagreen', 'width': 3},\n",
       "      'lon': [-3.8487999999999998, -14.232239959015194],\n",
       "      'mode': 'lines',\n",
       "      'opacity': 0.8\n",
       "  }),\n",
       "  Scattermapbox({\n",
       "      'lat': [33.087434782608696, 37.74155839772218],\n",
       "      'line': {'color': 'darkseagreen', 'width': 3},\n",
       "      'lon': [-8.417773913043478, -14.232239959015194],\n",
       "      'mode': 'lines',\n",
       "      'opacity': 0.8\n",
       "  }),\n",
       "  Scattermapbox({\n",
       "      'lat': [32.07396, 37.74155839772218],\n",
       "      'line': {'color': 'darkseagreen', 'width': 3},\n",
       "      'lon': [-8.806899999999999, -14.232239959015194],\n",
       "      'mode': 'lines',\n",
       "      'opacity': 0.8\n",
       "  }),\n",
       "  Scattermapbox({\n",
       "      'lat': [34.00962, 37.74155839772218],\n",
       "      'line': {'color': 'darkseagreen', 'width': 3},\n",
       "      'lon': [-4.97278, -14.232239959015194],\n",
       "      'mode': 'lines',\n",
       "      'opacity': 0.8\n",
       "  }),\n",
       "  Scattermapbox({\n",
       "      'lat': [33.90866, 37.74155839772218],\n",
       "      'line': {'color': 'darkseagreen', 'width': 3},\n",
       "      'lon': [-4.76906, -14.232239959015194],\n",
       "      'mode': 'lines',\n",
       "      'opacity': 0.8\n",
       "  }),\n",
       "  Scattermapbox({\n",
       "      'lat': [34.02445714285714, 37.74155839772218],\n",
       "      'line': {'color': 'darkseagreen', 'width': 3},\n",
       "      'lon': [-5.082385714285714, -14.232239959015194],\n",
       "      'mode': 'lines',\n",
       "      'opacity': 0.8\n",
       "  }),\n",
       "  Scattermapbox({\n",
       "      'lat': [34.63645714285714, 37.74155839772218],\n",
       "      'line': {'color': 'darkseagreen', 'width': 3},\n",
       "      'lon': [-6.167271428571429, -14.232239959015194],\n",
       "      'mode': 'lines',\n",
       "      'opacity': 0.8\n",
       "  }),\n",
       "  Scattermapbox({\n",
       "      'lat': [34.54973333333333, 37.74155839772218],\n",
       "      'line': {'color': 'darkseagreen', 'width': 3},\n",
       "      'lon': [-5.764466666666666, -14.232239959015194],\n",
       "      'mode': 'lines',\n",
       "      'opacity': 0.8\n",
       "  }),\n",
       "  Scattermapbox({\n",
       "      'lat': [33.53502307692308, 37.74155839772218],\n",
       "      'line': {'color': 'darkseagreen', 'width': 3},\n",
       "      'lon': [-7.547923076923078, -14.232239959015194],\n",
       "      'mode': 'lines',\n",
       "      'opacity': 0.8\n",
       "  }),\n",
       "  Scattermapbox({\n",
       "      'lat': [33.66785, 37.74155839772218],\n",
       "      'line': {'color': 'darkseagreen', 'width': 3},\n",
       "      'lon': [-7.4281500000000005, -14.232239959015194],\n",
       "      'mode': 'lines',\n",
       "      'opacity': 0.8\n",
       "  }),\n",
       "  Scattermapbox({\n",
       "      'lat': [28.479, 37.74155839772218],\n",
       "      'line': {'color': 'darkseagreen', 'width': 3},\n",
       "      'lon': [-11.1686, -14.232239959015194],\n",
       "      'mode': 'lines',\n",
       "      'opacity': 0.8\n",
       "  }),\n",
       "  Scattermapbox({\n",
       "      'lat': [31.60366666666667, 37.74155839772218],\n",
       "      'line': {'color': 'darkseagreen', 'width': 3},\n",
       "      'lon': [-7.5310999999999995, -14.232239959015194],\n",
       "      'mode': 'lines',\n",
       "      'opacity': 0.8\n",
       "  }),\n",
       "  Scattermapbox({\n",
       "      'lat': [31.486233333333335, 37.74155839772218],\n",
       "      'line': {'color': 'darkseagreen', 'width': 3},\n",
       "      'lon': [-8.718466666666666, -14.232239959015194],\n",
       "      'mode': 'lines',\n",
       "      'opacity': 0.8\n",
       "  }),\n",
       "  Scattermapbox({\n",
       "      'lat': [32.143, 37.74155839772218],\n",
       "      'line': {'color': 'darkseagreen', 'width': 3},\n",
       "      'lon': [-7.823236363636363, -14.232239959015194],\n",
       "      'mode': 'lines',\n",
       "      'opacity': 0.8\n",
       "  }),\n",
       "  Scattermapbox({\n",
       "      'lat': [31.5461, 37.74155839772218],\n",
       "      'line': {'color': 'darkseagreen', 'width': 3},\n",
       "      'lon': [-9.5806, -14.232239959015194],\n",
       "      'mode': 'lines',\n",
       "      'opacity': 0.8\n",
       "  }),\n",
       "  Scattermapbox({\n",
       "      'lat': [31.707633333333334, 37.74155839772218],\n",
       "      'line': {'color': 'darkseagreen', 'width': 3},\n",
       "      'lon': [-8.105188888888888, -14.232239959015194],\n",
       "      'mode': 'lines',\n",
       "      'opacity': 0.8\n",
       "  }),\n",
       "  Scattermapbox({\n",
       "      'lat': [33.6728, 37.74155839772218],\n",
       "      'line': {'color': 'darkseagreen', 'width': 3},\n",
       "      'lon': [-5.5273, -14.232239959015194],\n",
       "      'mode': 'lines',\n",
       "      'opacity': 0.8\n",
       "  }),\n",
       "  Scattermapbox({\n",
       "      'lat': [31.7714, 37.74155839772218],\n",
       "      'line': {'color': 'darkseagreen', 'width': 3},\n",
       "      'lon': [-4.49952, -14.232239959015194],\n",
       "      'mode': 'lines',\n",
       "      'opacity': 0.8\n",
       "  }),\n",
       "  Scattermapbox({\n",
       "      'lat': [33.495850000000004, 37.74155839772218],\n",
       "      'line': {'color': 'darkseagreen', 'width': 3},\n",
       "      'lon': [-5.1858, -14.232239959015194],\n",
       "      'mode': 'lines',\n",
       "      'opacity': 0.8\n",
       "  }),\n",
       "  Scattermapbox({\n",
       "      'lat': [32.894038461538464, 37.74155839772218],\n",
       "      'line': {'color': 'darkseagreen', 'width': 3},\n",
       "      'lon': [-5.277946153846154, -14.232239959015194],\n",
       "      'mode': 'lines',\n",
       "      'opacity': 0.8\n",
       "  }),\n",
       "  Scattermapbox({\n",
       "      'lat': [33.94476666666666, 37.74155839772218],\n",
       "      'line': {'color': 'darkseagreen', 'width': 3},\n",
       "      'lon': [-5.611291666666666, -14.232239959015194],\n",
       "      'mode': 'lines',\n",
       "      'opacity': 0.8\n",
       "  }),\n",
       "  Scattermapbox({\n",
       "      'hoverinfo': 'text',\n",
       "      'lat': array([33.4634    , 32.79667143, 33.07327742, 34.69427143, 34.2387    ,\n",
       "                    35.112775  , 34.66081429, 33.75072   , 34.0028    , 33.879     ,\n",
       "                    30.42294167, 30.15175   , 30.3944    , 31.24959167, 30.47976667,\n",
       "                    29.62978   , 30.686     , 32.05041667, 32.5377    , 35.2168    ,\n",
       "                    35.71122222, 35.0444    , 35.68683333, 35.68363889, 35.07887143,\n",
       "                    34.11406667, 34.27955   , 33.08743478, 32.07396   , 34.00962   ,\n",
       "                    33.90866   , 34.02445714, 34.63645714, 34.54973333, 33.53502308,\n",
       "                    33.66785   , 28.479     , 31.60366667, 31.48623333, 32.143     ,\n",
       "                    31.5461    , 31.70763333, 33.6728    , 31.7714    , 33.49585   ,\n",
       "                    32.89403846, 33.94476667, 35.6024792 , 35.26911491, 35.40741791,\n",
       "                    36.21791491, 35.9901292 , 36.4271667 , 36.20118634, 35.7461392 ,\n",
       "                    35.8721792 , 35.8102792 , 34.08225003, 33.9466542 , 34.0679792 ,\n",
       "                    34.49557503, 34.11066253, 33.6856692 , 34.2137792 , 34.89598753,\n",
       "                    35.1396292 , 36.4791792 , 36.72639031, 36.3929792 , 36.71419587,\n",
       "                    36.71259864, 36.41021491, 35.92781253, 36.0105542 , 35.41449659,\n",
       "                    34.9077592 , 35.8755892 , 35.8251092 , 35.88300777, 36.18900777,\n",
       "                    36.14564587, 35.63829074, 35.7047042 , 33.1102792 , 34.67261253,\n",
       "                    34.61389587, 34.9422792 , 34.6438292 , 34.72459587, 35.7071792 ,\n",
       "                    34.7564792 , 35.6187042 , 35.31779843, 35.84316253]),\n",
       "      'lon': array([ -7.3913    ,  -6.74067857,  -7.50582903,  -2.51597143,  -2.07818   ,\n",
       "                     -3.10735   ,  -1.95625714,  -6.16928   ,  -6.68555   ,  -6.82945   ,\n",
       "                     -9.49943333,  -9.3264    ,  -9.37563333,  -6.16215833,  -8.77173333,\n",
       "                     -9.65157   ,  -6.4549    ,  -6.59815   ,  -6.4785    ,  -5.3161    ,\n",
       "                     -5.74112222,  -6.0274    ,  -5.84778333,  -5.52439444,  -3.94257143,\n",
       "                     -4.67836667,  -3.8488    ,  -8.41777391,  -8.8069    ,  -4.97278   ,\n",
       "                     -4.76906   ,  -5.08238571,  -6.16727143,  -5.76446667,  -7.54792308,\n",
       "                     -7.42815   , -11.1686    ,  -7.5311    ,  -8.71846667,  -7.82323636,\n",
       "                     -9.5806    ,  -8.10518889,  -5.5273    ,  -4.49952   ,  -5.1858    ,\n",
       "                     -5.27794615,  -5.61129167, -10.81176998, -10.48645927, -10.8690345 ,\n",
       "                     -8.37410569,  -8.15520998,  -8.66979498,  -8.09424855, -10.20075998,\n",
       "                    -10.45889498, -10.53084498, -11.86583665, -11.77931998, -11.80393665,\n",
       "                    -10.19719915, -11.50198665, -11.94190498, -10.34356998, -10.41519498,\n",
       "                    -10.35536998,  -9.77416998,  -9.98668109, -10.12981998, -10.04001165,\n",
       "                     -9.8783172 ,  -9.08740569,  -9.45530331,  -9.04051998, -11.32500694,\n",
       "                    -11.51956998,  -9.60250998,  -9.50064998,  -9.65731284, -10.19975569,\n",
       "                     -9.99835331, -10.89008152, -10.83019498, -12.70041998, -10.88166998,\n",
       "                    -11.47535331, -11.02773816, -11.90641998, -11.16871442,  -9.87976998,\n",
       "                     -9.36587998,  -9.70901998,  -9.75509306,  -9.92176581]),\n",
       "      'marker': {'opacity': 0.0},\n",
       "      'mode': 'markers',\n",
       "      'text': array(['Link MAR.1.1_1 H2 Electrolysis', 'Link MAR.1.2_1 H2 Electrolysis',\n",
       "                     'Link MAR.1.3_1 H2 Electrolysis', 'Link MAR.10.1_1 H2 Electrolysis',\n",
       "                     'Link MAR.10.3_1 H2 Electrolysis', 'Link MAR.10.4_1 H2 Electrolysis',\n",
       "                     'Link MAR.10.5_1 H2 Electrolysis', 'Link MAR.11.1_1 H2 Electrolysis',\n",
       "                     'Link MAR.11.3_1 H2 Electrolysis', 'Link MAR.11.4_1 H2 Electrolysis',\n",
       "                     'Link MAR.12.1_1 H2 Electrolysis', 'Link MAR.12.2_1 H2 Electrolysis',\n",
       "                     'Link MAR.12.3_1 H2 Electrolysis', 'Link MAR.12.4_1 H2 Electrolysis',\n",
       "                     'Link MAR.12.5_1 H2 Electrolysis', 'Link MAR.12.6_1 H2 Electrolysis',\n",
       "                     'Link MAR.12.7_1 H2 Electrolysis', 'Link MAR.13.1_1 H2 Electrolysis',\n",
       "                     'Link MAR.13.2_1 H2 Electrolysis', 'Link MAR.14.1_1 H2 Electrolysis',\n",
       "                     'Link MAR.14.2_1 H2 Electrolysis', 'Link MAR.14.3_1 H2 Electrolysis',\n",
       "                     'Link MAR.14.4_1 H2 Electrolysis', 'Link MAR.14.5_1 H2 Electrolysis',\n",
       "                     'Link MAR.15.1_1 H2 Electrolysis', 'Link MAR.15.2_1 H2 Electrolysis',\n",
       "                     'Link MAR.15.3_1 H2 Electrolysis', 'Link MAR.2.1_1 H2 Electrolysis',\n",
       "                     'Link MAR.2.2_1 H2 Electrolysis', 'Link MAR.3.2_1 H2 Electrolysis',\n",
       "                     'Link MAR.3.3_1 H2 Electrolysis', 'Link MAR.3.4_1 H2 Electrolysis',\n",
       "                     'Link MAR.4.1_1 H2 Electrolysis', 'Link MAR.4.2_1 H2 Electrolysis',\n",
       "                     'Link MAR.5.1_1 H2 Electrolysis', 'Link MAR.5.2_1 H2 Electrolysis',\n",
       "                     'Link MAR.6.3_1 H2 Electrolysis', 'Link MAR.8.1_1 H2 Electrolysis',\n",
       "                     'Link MAR.8.2_1 H2 Electrolysis', 'Link MAR.8.3_1 H2 Electrolysis',\n",
       "                     'Link MAR.8.4_1 H2 Electrolysis', 'Link MAR.8.5_1 H2 Electrolysis',\n",
       "                     'Link MAR.9.1_1 H2 Electrolysis', 'Link MAR.9.2_1 H2 Electrolysis',\n",
       "                     'Link MAR.9.3_1 H2 Electrolysis', 'Link MAR.9.4_1 H2 Electrolysis',\n",
       "                     'Link MAR.9.5_1 H2 Electrolysis', 'Link MAR.1.1_1 H2 export',\n",
       "                     'Link MAR.1.2_1 H2 export', 'Link MAR.1.3_1 H2 export',\n",
       "                     'Link MAR.10.1_1 H2 export', 'Link MAR.10.3_1 H2 export',\n",
       "                     'Link MAR.10.4_1 H2 export', 'Link MAR.10.5_1 H2 export',\n",
       "                     'Link MAR.11.1_1 H2 export', 'Link MAR.11.3_1 H2 export',\n",
       "                     'Link MAR.11.4_1 H2 export', 'Link MAR.12.1_1 H2 export',\n",
       "                     'Link MAR.12.2_1 H2 export', 'Link MAR.12.3_1 H2 export',\n",
       "                     'Link MAR.12.4_1 H2 export', 'Link MAR.12.5_1 H2 export',\n",
       "                     'Link MAR.12.6_1 H2 export', 'Link MAR.12.7_1 H2 export',\n",
       "                     'Link MAR.13.1_1 H2 export', 'Link MAR.13.2_1 H2 export',\n",
       "                     'Link MAR.14.1_1 H2 export', 'Link MAR.14.2_1 H2 export',\n",
       "                     'Link MAR.14.3_1 H2 export', 'Link MAR.14.4_1 H2 export',\n",
       "                     'Link MAR.14.5_1 H2 export', 'Link MAR.15.1_1 H2 export',\n",
       "                     'Link MAR.15.2_1 H2 export', 'Link MAR.15.3_1 H2 export',\n",
       "                     'Link MAR.2.1_1 H2 export', 'Link MAR.2.2_1 H2 export',\n",
       "                     'Link MAR.3.2_1 H2 export', 'Link MAR.3.3_1 H2 export',\n",
       "                     'Link MAR.3.4_1 H2 export', 'Link MAR.4.1_1 H2 export',\n",
       "                     'Link MAR.4.2_1 H2 export', 'Link MAR.5.1_1 H2 export',\n",
       "                     'Link MAR.5.2_1 H2 export', 'Link MAR.6.3_1 H2 export',\n",
       "                     'Link MAR.8.1_1 H2 export', 'Link MAR.8.2_1 H2 export',\n",
       "                     'Link MAR.8.3_1 H2 export', 'Link MAR.8.4_1 H2 export',\n",
       "                     'Link MAR.8.5_1 H2 export', 'Link MAR.9.1_1 H2 export',\n",
       "                     'Link MAR.9.2_1 H2 export', 'Link MAR.9.3_1 H2 export',\n",
       "                     'Link MAR.9.4_1 H2 export', 'Link MAR.9.5_1 H2 export'], dtype=object)\n",
       "  }),\n",
       "  Scattermapbox({\n",
       "      'hoverinfo': 'text',\n",
       "      'lat': array([33.4634    , 32.79667143, 33.07327742, 34.69427143, 34.2387    ,\n",
       "                    35.112775  , 34.66081429, 33.75072   , 34.0028    , 33.879     ,\n",
       "                    30.42294167, 30.15175   , 30.3944    , 31.24959167, 30.47976667,\n",
       "                    29.62978   , 30.686     , 32.05041667, 32.5377    , 35.2168    ,\n",
       "                    35.71122222, 35.0444    , 35.68683333, 35.68363889, 35.07887143,\n",
       "                    34.11406667, 34.27955   , 33.08743478, 32.07396   , 34.00962   ,\n",
       "                    33.90866   , 34.02445714, 34.63645714, 34.54973333, 33.53502308,\n",
       "                    33.66785   , 28.479     , 31.60366667, 31.48623333, 32.143     ,\n",
       "                    31.5461    , 31.70763333, 33.6728    , 31.7714    , 33.49585   ,\n",
       "                    32.89403846, 33.94476667, 33.4634    , 32.79667143, 33.07327742,\n",
       "                    34.69427143, 34.2387    , 35.112775  , 34.66081429, 33.75072   ,\n",
       "                    34.0028    , 33.879     , 30.42294167, 30.15175   , 30.3944    ,\n",
       "                    31.24959167, 30.47976667, 29.62978   , 30.686     , 32.05041667,\n",
       "                    32.5377    , 35.2168    , 35.71122222, 35.0444    , 35.68683333,\n",
       "                    35.68363889, 35.07887143, 34.11406667, 34.27955   , 33.08743478,\n",
       "                    32.07396   , 34.00962   , 33.90866   , 34.02445714, 34.63645714,\n",
       "                    34.54973333, 33.53502308, 33.66785   , 28.479     , 31.60366667,\n",
       "                    31.48623333, 32.143     , 31.5461    , 31.70763333, 33.6728    ,\n",
       "                    31.7714    , 33.49585   , 32.89403846, 33.94476667, 37.7415584 ]),\n",
       "      'lon': array([ -7.3913    ,  -6.74067857,  -7.50582903,  -2.51597143,  -2.07818   ,\n",
       "                     -3.10735   ,  -1.95625714,  -6.16928   ,  -6.68555   ,  -6.82945   ,\n",
       "                     -9.49943333,  -9.3264    ,  -9.37563333,  -6.16215833,  -8.77173333,\n",
       "                     -9.65157   ,  -6.4549    ,  -6.59815   ,  -6.4785    ,  -5.3161    ,\n",
       "                     -5.74112222,  -6.0274    ,  -5.84778333,  -5.52439444,  -3.94257143,\n",
       "                     -4.67836667,  -3.8488    ,  -8.41777391,  -8.8069    ,  -4.97278   ,\n",
       "                     -4.76906   ,  -5.08238571,  -6.16727143,  -5.76446667,  -7.54792308,\n",
       "                     -7.42815   , -11.1686    ,  -7.5311    ,  -8.71846667,  -7.82323636,\n",
       "                     -9.5806    ,  -8.10518889,  -5.5273    ,  -4.49952   ,  -5.1858    ,\n",
       "                     -5.27794615,  -5.61129167,  -7.3913    ,  -6.74067857,  -7.50582903,\n",
       "                     -2.51597143,  -2.07818   ,  -3.10735   ,  -1.95625714,  -6.16928   ,\n",
       "                     -6.68555   ,  -6.82945   ,  -9.49943333,  -9.3264    ,  -9.37563333,\n",
       "                     -6.16215833,  -8.77173333,  -9.65157   ,  -6.4549    ,  -6.59815   ,\n",
       "                     -6.4785    ,  -5.3161    ,  -5.74112222,  -6.0274    ,  -5.84778333,\n",
       "                     -5.52439444,  -3.94257143,  -4.67836667,  -3.8488    ,  -8.41777391,\n",
       "                     -8.8069    ,  -4.97278   ,  -4.76906   ,  -5.08238571,  -6.16727143,\n",
       "                     -5.76446667,  -7.54792308,  -7.42815   , -11.1686    ,  -7.5311    ,\n",
       "                     -8.71846667,  -7.82323636,  -9.5806    ,  -8.10518889,  -5.5273    ,\n",
       "                     -4.49952   ,  -5.1858    ,  -5.27794615,  -5.61129167, -14.23223996]),\n",
       "      'marker': {'color': 'cadetblue', 'size': 10},\n",
       "      'mode': 'markers',\n",
       "      'opacity': 1,\n",
       "      'text': array(['Bus MAR.1.1_1', 'Bus MAR.1.2_1', 'Bus MAR.1.3_1', 'Bus MAR.10.1_1',\n",
       "                     'Bus MAR.10.3_1', 'Bus MAR.10.4_1', 'Bus MAR.10.5_1', 'Bus MAR.11.1_1',\n",
       "                     'Bus MAR.11.3_1', 'Bus MAR.11.4_1', 'Bus MAR.12.1_1', 'Bus MAR.12.2_1',\n",
       "                     'Bus MAR.12.3_1', 'Bus MAR.12.4_1', 'Bus MAR.12.5_1', 'Bus MAR.12.6_1',\n",
       "                     'Bus MAR.12.7_1', 'Bus MAR.13.1_1', 'Bus MAR.13.2_1', 'Bus MAR.14.1_1',\n",
       "                     'Bus MAR.14.2_1', 'Bus MAR.14.3_1', 'Bus MAR.14.4_1', 'Bus MAR.14.5_1',\n",
       "                     'Bus MAR.15.1_1', 'Bus MAR.15.2_1', 'Bus MAR.15.3_1', 'Bus MAR.2.1_1',\n",
       "                     'Bus MAR.2.2_1', 'Bus MAR.3.2_1', 'Bus MAR.3.3_1', 'Bus MAR.3.4_1',\n",
       "                     'Bus MAR.4.1_1', 'Bus MAR.4.2_1', 'Bus MAR.5.1_1', 'Bus MAR.5.2_1',\n",
       "                     'Bus MAR.6.3_1', 'Bus MAR.8.1_1', 'Bus MAR.8.2_1', 'Bus MAR.8.3_1',\n",
       "                     'Bus MAR.8.4_1', 'Bus MAR.8.5_1', 'Bus MAR.9.1_1', 'Bus MAR.9.2_1',\n",
       "                     'Bus MAR.9.3_1', 'Bus MAR.9.4_1', 'Bus MAR.9.5_1', 'Bus MAR.1.1_1 H2',\n",
       "                     'Bus MAR.1.2_1 H2', 'Bus MAR.1.3_1 H2', 'Bus MAR.10.1_1 H2',\n",
       "                     'Bus MAR.10.3_1 H2', 'Bus MAR.10.4_1 H2', 'Bus MAR.10.5_1 H2',\n",
       "                     'Bus MAR.11.1_1 H2', 'Bus MAR.11.3_1 H2', 'Bus MAR.11.4_1 H2',\n",
       "                     'Bus MAR.12.1_1 H2', 'Bus MAR.12.2_1 H2', 'Bus MAR.12.3_1 H2',\n",
       "                     'Bus MAR.12.4_1 H2', 'Bus MAR.12.5_1 H2', 'Bus MAR.12.6_1 H2',\n",
       "                     'Bus MAR.12.7_1 H2', 'Bus MAR.13.1_1 H2', 'Bus MAR.13.2_1 H2',\n",
       "                     'Bus MAR.14.1_1 H2', 'Bus MAR.14.2_1 H2', 'Bus MAR.14.3_1 H2',\n",
       "                     'Bus MAR.14.4_1 H2', 'Bus MAR.14.5_1 H2', 'Bus MAR.15.1_1 H2',\n",
       "                     'Bus MAR.15.2_1 H2', 'Bus MAR.15.3_1 H2', 'Bus MAR.2.1_1 H2',\n",
       "                     'Bus MAR.2.2_1 H2', 'Bus MAR.3.2_1 H2', 'Bus MAR.3.3_1 H2',\n",
       "                     'Bus MAR.3.4_1 H2', 'Bus MAR.4.1_1 H2', 'Bus MAR.4.2_1 H2',\n",
       "                     'Bus MAR.5.1_1 H2', 'Bus MAR.5.2_1 H2', 'Bus MAR.6.3_1 H2',\n",
       "                     'Bus MAR.8.1_1 H2', 'Bus MAR.8.2_1 H2', 'Bus MAR.8.3_1 H2',\n",
       "                     'Bus MAR.8.4_1 H2', 'Bus MAR.8.5_1 H2', 'Bus MAR.9.1_1 H2',\n",
       "                     'Bus MAR.9.2_1 H2', 'Bus MAR.9.3_1 H2', 'Bus MAR.9.4_1 H2',\n",
       "                     'Bus MAR.9.5_1 H2', 'Bus H2 export bus'], dtype=object)\n",
       "  })],\n",
       " 'layout': {'title': '',\n",
       "  'hovermode': 'closest',\n",
       "  'showlegend': False,\n",
       "  'mapbox': {'style': 'open-street-map',\n",
       "   'center': {'lat': 17.855611111111113, 'lon': -5.5843},\n",
       "   'zoom': 2}}}"
      ]
     },
     "execution_count": 40,
     "metadata": {},
     "output_type": "execute_result"
    }
   ],
   "source": [
    "n3.iplot(mapbox=True)"
   ]
  },
  {
   "cell_type": "markdown",
   "metadata": {},
   "source": [
    "### Energy: Electrolysis output (n2 only, no comparison)"
   ]
  },
  {
   "cell_type": "markdown",
   "metadata": {},
   "source": [
    "Capacities"
   ]
  },
  {
   "cell_type": "code",
   "execution_count": null,
   "metadata": {},
   "outputs": [],
   "source": [
    "# Total capacity Electrolysis. TODO very low -> SMR?\n",
    "n2.links[n2.links.carrier.str.contains('H2 Electrolysis')].p_nom_opt.sum() /1e3 # in GW"
   ]
  },
  {
   "cell_type": "code",
   "execution_count": null,
   "metadata": {},
   "outputs": [],
   "source": [
    "# Total capacity SMR\n",
    "n2.links[n2.links.carrier.str.contains('SMR')].p_nom_opt.sum() /1e3 # in GW"
   ]
  },
  {
   "cell_type": "code",
   "execution_count": null,
   "metadata": {},
   "outputs": [],
   "source": [
    "# Total capacity Fischer-Tropsch    \n",
    "n2.links[n2.links.carrier.str.contains('Fischer-Tropsch')].p_nom_opt.sum() /1e3 # in GW"
   ]
  },
  {
   "cell_type": "code",
   "execution_count": null,
   "metadata": {},
   "outputs": [],
   "source": [
    "# Total power per hour SMR\n",
    "n2.links_t.p1.loc[:, n2.links_t.p1.columns.str.contains(\"SMR\")].sum(axis=1)"
   ]
  },
  {
   "attachments": {},
   "cell_type": "markdown",
   "metadata": {},
   "source": [
    "Energies"
   ]
  },
  {
   "cell_type": "code",
   "execution_count": null,
   "metadata": {},
   "outputs": [],
   "source": [
    "# Total energy SMR\n",
    "(n2.links_t.p1.loc[:, n2.links_t.p0.columns.str.contains(\"SMR\")].sum(axis=1) * n2.snapshot_weightings.generators[0]).sum() / 1e6 # in TWh"
   ]
  },
  {
   "cell_type": "code",
   "execution_count": null,
   "metadata": {},
   "outputs": [],
   "source": [
    "# Total energy Fischer-Tropsch\n",
    "(n2.links_t.p1.loc[:, n2.links_t.p0.columns.str.contains(\"Fischer-Tropsch\")].sum(axis=1) * n2.snapshot_weightings.generators[0]).sum() / 1e6 # in TWh"
   ]
  },
  {
   "attachments": {},
   "cell_type": "markdown",
   "metadata": {},
   "source": [
    "### Demands (n2 only, no comparison)"
   ]
  },
  {
   "cell_type": "code",
   "execution_count": null,
   "metadata": {},
   "outputs": [],
   "source": [
    "n2.loads.carrier.unique() #.str.contains(\"H2\")"
   ]
  },
  {
   "cell_type": "code",
   "execution_count": null,
   "metadata": {},
   "outputs": [],
   "source": [
    "# Show hydrogen demand of n2 network\n",
    "(n2.loads_t.p.loc[:, n2.loads_t.p.columns.str.contains(\"H2\")].sum() *n2.snapshot_weightings.generators[0]).sum()/1e6 # in TWh\n"
   ]
  },
  {
   "cell_type": "code",
   "execution_count": null,
   "metadata": {},
   "outputs": [],
   "source": [
    "# For comparison: Show hydrogen demand of n1 network\n",
    "(n1.loads_t.p.loc[:, n1.loads_t.p.columns.str.contains(\"H2\")].sum() *n1.snapshot_weightings.generators[0]).sum()/1e6 # in TWh\n"
   ]
  },
  {
   "cell_type": "code",
   "execution_count": null,
   "metadata": {},
   "outputs": [],
   "source": [
    "# Show highest consumers of n2 network\n",
    "((n2.loads_t.p.sum()*n2.snapshot_weightings.generators[0]).sort_values(ascending=False)/1e6)[:10] # in TWh"
   ]
  },
  {
   "cell_type": "markdown",
   "metadata": {},
   "source": [
    "### Export"
   ]
  },
  {
   "cell_type": "code",
   "execution_count": null,
   "metadata": {},
   "outputs": [],
   "source": [
    "# Timeseries from export links\n",
    "n2.links_t.p0.loc[:, n2.links_t.p0.columns.str.contains(\"export\")].sum(axis=1)"
   ]
  },
  {
   "cell_type": "code",
   "execution_count": null,
   "metadata": {},
   "outputs": [],
   "source": [
    "# Total export per port\n",
    "n2.links_t.p0.loc[:, n2.links_t.p0.columns.str.contains(\"export\")].sum(axis=0)*n2.snapshot_weightings.generators[0]/1e6 # in TWh"
   ]
  },
  {
   "cell_type": "code",
   "execution_count": null,
   "metadata": {},
   "outputs": [],
   "source": [
    "# Timeseries export load\n",
    "n2.loads_t.p.loc[:, n2.loads_t.p.columns.str.contains('export')]"
   ]
  },
  {
   "cell_type": "code",
   "execution_count": null,
   "metadata": {},
   "outputs": [],
   "source": [
    "# Total export energy\n",
    "print(f\"The total export for n1 is {n1.loads_t.p.loc[:, n1.loads_t.p.columns.str.contains('export')].sum().values[0]*n2.snapshot_weightings.generators[0]:.2f} MWh\")\n",
    "print(f\"The total export for n2 is {n2.loads_t.p.loc[:, n2.loads_t.p.columns.str.contains('export')].sum().values[0]*n2.snapshot_weightings.generators[0]:.2f} MWh\")"
   ]
  },
  {
   "cell_type": "code",
   "execution_count": null,
   "metadata": {},
   "outputs": [],
   "source": [
    "print(f\"The optimized energy capacity of the H2 export store is {n2.stores.e_nom_opt['H2 export store']/1e3:.2f} GWh\")"
   ]
  },
  {
   "cell_type": "code",
   "execution_count": null,
   "metadata": {},
   "outputs": [],
   "source": [
    "(-n2.stores_t.p['H2 export store'] * n2.snapshot_weightings.stores).plot(legend=True)\n",
    "n2.stores_t.e['H2 export store'].plot(legend=True)"
   ]
  }
 ],
 "metadata": {
  "kernelspec": {
   "display_name": "Python 3.10.6 ('aldehyde')",
   "language": "python",
   "name": "python3"
  },
  "language_info": {
   "codemirror_mode": {
    "name": "ipython",
    "version": 3
   },
   "file_extension": ".py",
   "mimetype": "text/x-python",
   "name": "python",
   "nbconvert_exporter": "python",
   "pygments_lexer": "ipython3",
   "version": "3.10.6"
  },
  "orig_nbformat": 4,
  "vscode": {
   "interpreter": {
    "hash": "0dbcc051df1c9f67b8349bc93a137f4374bedf8f92eebef4493438608fd687c9"
   }
  }
 },
 "nbformat": 4,
 "nbformat_minor": 2
}

{
 "cells": [
  {
   "cell_type": "code",
   "execution_count": 82,
   "metadata": {},
   "outputs": [],
   "source": [
    "import pypsa\n",
    "import pandas as pd\n",
    "from matplotlib.pyplot import legend\n",
    "import matplotlib.pyplot as plt\n",
    "import numpy as np"
   ]
  },
  {
   "cell_type": "markdown",
   "metadata": {},
   "source": [
    "### Read Network"
   ]
  },
  {
   "cell_type": "code",
   "execution_count": 83,
   "metadata": {},
   "outputs": [
    {
     "name": "stderr",
     "output_type": "stream",
     "text": [
      "WARNING:pypsa.io:Importing network from PyPSA version v0.22.0 while current version is v0.22.1. Read the release notes at https://pypsa.readthedocs.io/en/latest/release_notes.html to prepare your network for import.\n",
      "INFO:pypsa.io:Imported network elec_s_4_ec_lc1.0__Co2L0.90-144H_2030_0.071_DF_0export.nc has buses, carriers, generators, global_constraints, lines, links, loads, storage_units, stores\n"
     ]
    },
    {
     "name": "stdout",
     "output_type": "stream",
     "text": [
      "The network representing MAR ES only 'n1' has been imported\n"
     ]
    },
    {
     "name": "stderr",
     "output_type": "stream",
     "text": [
      "WARNING:pypsa.io:Importing network from PyPSA version v0.22.0 while current version is v0.22.1. Read the release notes at https://pypsa.readthedocs.io/en/latest/release_notes.html to prepare your network for import.\n",
      "INFO:pypsa.io:Imported network elec_s_4_ec_lc1.0__Co2L0.90-144H_2030_0.071_DF_20export.nc has buses, carriers, generators, global_constraints, lines, links, loads, storage_units, stores\n"
     ]
    },
    {
     "name": "stdout",
     "output_type": "stream",
     "text": [
      "The network representing MAR ES + Export 'n2' has been imported\n"
     ]
    },
    {
     "name": "stderr",
     "output_type": "stream",
     "text": [
      "WARNING:pypsa.io:Importing network from PyPSA version v0.21.3 while current version is v0.22.1. Read the release notes at https://pypsa.readthedocs.io/en/latest/release_notes.html to prepare your network for import.\n",
      "INFO:pypsa.io:Imported network elec_s_4_ec_lc1.0_Co2L_144H_2030_0.071_DF_solved.nc has buses, carriers, generators, links, loads, stores\n"
     ]
    },
    {
     "name": "stdout",
     "output_type": "stream",
     "text": [
      "The network representing Export only 'n3' has been imported\n"
     ]
    }
   ],
   "source": [
    "# export\n",
    "#n0 = \n",
    "# mar_es\n",
    "#n1 = pypsa.Network('../../resources/mar_es_only/elec_s_4_ec_lc1.0_Co2L_144H_2030_0.071_DF_nosmr.nc')\n",
    "n1 = pypsa.Network('../../resources/pypsaearthsec/emission_export/postnetworks/elec_s_4_ec_lc1.0__Co2L0.90-144H_2030_0.071_DF_0export.nc')\n",
    "print(\"The network representing MAR ES only 'n1' has been imported\")\n",
    "\n",
    "# mar_es_export (140 TWh)\n",
    "#n2 = pypsa.Network('../../resources/mar_es_export/elec_s_4_ec_lc1.0_Co2L_144H_2030_0.071_DF_nosmr.nc')\n",
    "n2 = pypsa.Network('../../resources/pypsaearthsec/emission_export/postnetworks/elec_s_4_ec_lc1.0__Co2L0.90-144H_2030_0.071_DF_20export.nc')\n",
    "print(\"The network representing MAR ES + Export 'n2' has been imported\")\n",
    "\n",
    "n3 = pypsa.Network('../../resources/export_only/elec_s_4_ec_lc1.0_Co2L_144H_2030_0.071_DF_solved.nc')\n",
    "print(\"The network representing Export only 'n3' has been imported\")\n"
   ]
  },
  {
   "attachments": {},
   "cell_type": "markdown",
   "metadata": {},
   "source": [
    "### Compare solar and wind generator capacities"
   ]
  },
  {
   "cell_type": "code",
   "execution_count": 84,
   "metadata": {},
   "outputs": [
    {
     "name": "stdout",
     "output_type": "stream",
     "text": [
      "p_nom_max of onwind: \t 564.15 GW\n",
      "p_nom_max of solar: \t 877.08 GW\n",
      "p_nom_max of onwind: \t 564.15 GW\n",
      "p_nom_max of solar: \t 877.08 GW\n",
      "p_nom_max of onwind: \t 564.15 GW\n",
      "p_nom_max of solar: \t 877.06 GW\n"
     ]
    }
   ],
   "source": [
    "# Maximum potential \"p_nom_max\" of each carrier in each network\n",
    "for n in [n1, n2, n3]:\n",
    "    for carrier in ['onwind', 'solar']: #for all generators use: n.generators.carrier.unique():\n",
    "        print(f\"p_nom_max of {carrier}: \\t {n.generators[n.generators.carrier==carrier].p_nom_max.sum()/1e3:.2f} GW\")"
   ]
  },
  {
   "cell_type": "code",
   "execution_count": 85,
   "metadata": {},
   "outputs": [
    {
     "name": "stdout",
     "output_type": "stream",
     "text": [
      "p_nom_opt of onwind: \t 1.40 GW\n",
      "p_nom_opt of solar: \t 32.50 GW\n",
      "p_nom_opt of onwind: \t 1.40 GW\n",
      "p_nom_opt of solar: \t 50.22 GW\n",
      "p_nom_opt of onwind: \t 1.40 GW\n",
      "p_nom_opt of solar: \t 8.35 GW\n"
     ]
    }
   ],
   "source": [
    "# Optimised capacities \"p_nom_opt\" of each carrier in each network\n",
    "for n in [n1, n2, n3]:\n",
    "    for carrier in ['onwind', 'solar']: #for all generators use: n.generators.carrier.unique():\n",
    "        print(f\"p_nom_opt of {carrier}: \\t {n.generators[n.generators.carrier==carrier].p_nom_opt.sum()/1e3:.2f} GW\")"
   ]
  },
  {
   "cell_type": "code",
   "execution_count": 86,
   "metadata": {},
   "outputs": [
    {
     "name": "stdout",
     "output_type": "stream",
     "text": [
      "Exploitation of onwind: \t 0.25 %\n",
      "Exploitation of solar: \t 3.71 %\n",
      "Exploitation of onwind: \t 0.25 %\n",
      "Exploitation of solar: \t 5.73 %\n",
      "Exploitation of onwind: \t 0.25 %\n",
      "Exploitation of solar: \t 0.95 %\n"
     ]
    }
   ],
   "source": [
    "# Exploitation of the potential of each carrier in each network\n",
    "for n in [n1, n2, n3]:\n",
    "    for carrier in ['onwind', 'solar']: #for all generators use: n.generators.carrier.unique():\n",
    "        print(f\"Exploitation of {carrier}: \\t {(n.generators[n.generators.carrier==carrier].p_nom_opt.sum()/n.generators[n.generators.carrier==carrier].p_nom_max.sum())*1e2:.2f} %\")"
   ]
  },
  {
   "attachments": {},
   "cell_type": "markdown",
   "metadata": {},
   "source": [
    "### Compare all generator capacities"
   ]
  },
  {
   "cell_type": "code",
   "execution_count": 87,
   "metadata": {},
   "outputs": [
    {
     "name": "stdout",
     "output_type": "stream",
     "text": [
      "The installed generator capacities are:\n",
      "carrier\n",
      "CCGT                                          1.272000\n",
      "OCGT                                          0.344983\n",
      "coal                                          1.702266\n",
      "gas                                           0.010082\n",
      "oil                                           1.737987\n",
      "onwind                                        1.404995\n",
      "residential rural solar thermal               0.001317\n",
      "residential urban decentral solar thermal     0.000752\n",
      "ror                                           0.479380\n",
      "services rural solar thermal                  0.000741\n",
      "services urban decentral solar thermal        0.000875\n",
      "solar                                        32.497583\n",
      "urban central solar thermal                   0.001223\n",
      "Name: p_nom_opt, dtype: float64\n",
      "carrier\n",
      "CCGT                                          1.272000\n",
      "OCGT                                          0.344984\n",
      "coal                                          1.702266\n",
      "gas                                           0.012449\n",
      "oil                                           1.737987\n",
      "onwind                                        1.404994\n",
      "residential rural solar thermal               0.001017\n",
      "residential urban decentral solar thermal     0.000599\n",
      "ror                                           0.479380\n",
      "services rural solar thermal                  0.000597\n",
      "services urban decentral solar thermal        0.000708\n",
      "solar                                        50.220114\n",
      "urban central solar thermal                   0.001008\n",
      "Name: p_nom_opt, dtype: float64\n",
      "carrier\n",
      "onwind    1.404931\n",
      "ror       0.479380\n",
      "solar     8.348573\n",
      "Name: p_nom_opt, dtype: float64\n"
     ]
    }
   ],
   "source": [
    "# Show all capacities\n",
    "print(\"The installed generator capacities are:\")\n",
    "for n in [n1, n2, n3]:\n",
    "    generator_capacities = n.generators.p_nom_opt.groupby(n.generators.carrier).sum()/1e3\n",
    "    print(generator_capacities)\n",
    "del n"
   ]
  },
  {
   "cell_type": "markdown",
   "metadata": {},
   "source": [
    "### Emissions"
   ]
  },
  {
   "cell_type": "code",
   "execution_count": 88,
   "metadata": {},
   "outputs": [
    {
     "data": {
      "text/html": [
       "<div>\n",
       "<style scoped>\n",
       "    .dataframe tbody tr th:only-of-type {\n",
       "        vertical-align: middle;\n",
       "    }\n",
       "\n",
       "    .dataframe tbody tr th {\n",
       "        vertical-align: top;\n",
       "    }\n",
       "\n",
       "    .dataframe thead th {\n",
       "        text-align: right;\n",
       "    }\n",
       "</style>\n",
       "<table border=\"1\" class=\"dataframe\">\n",
       "  <thead>\n",
       "    <tr style=\"text-align: right;\">\n",
       "      <th></th>\n",
       "      <th>type</th>\n",
       "      <th>carrier_attribute</th>\n",
       "      <th>sense</th>\n",
       "      <th>constant</th>\n",
       "      <th>investment_period</th>\n",
       "      <th>mu</th>\n",
       "    </tr>\n",
       "    <tr>\n",
       "      <th>GlobalConstraint</th>\n",
       "      <th></th>\n",
       "      <th></th>\n",
       "      <th></th>\n",
       "      <th></th>\n",
       "      <th></th>\n",
       "      <th></th>\n",
       "    </tr>\n",
       "  </thead>\n",
       "  <tbody>\n",
       "    <tr>\n",
       "      <th>lc_limit</th>\n",
       "      <td>transmission_expansion_cost_limit</td>\n",
       "      <td>AC, DC</td>\n",
       "      <td>&lt;=</td>\n",
       "      <td>4.817521e+08</td>\n",
       "      <td>NaN</td>\n",
       "      <td>0.0</td>\n",
       "    </tr>\n",
       "  </tbody>\n",
       "</table>\n",
       "</div>"
      ],
      "text/plain": [
       "                                               type carrier_attribute sense  \\\n",
       "GlobalConstraint                                                              \n",
       "lc_limit          transmission_expansion_cost_limit            AC, DC    <=   \n",
       "\n",
       "                      constant  investment_period   mu  \n",
       "GlobalConstraint                                        \n",
       "lc_limit          4.817521e+08                NaN  0.0  "
      ]
     },
     "execution_count": 88,
     "metadata": {},
     "output_type": "execute_result"
    }
   ],
   "source": [
    "n1.global_constraints"
   ]
  },
  {
   "attachments": {},
   "cell_type": "markdown",
   "metadata": {},
   "source": [
    "### Total system cost and LCOH"
   ]
  },
  {
   "cell_type": "code",
   "execution_count": 89,
   "metadata": {},
   "outputs": [
    {
     "name": "stdout",
     "output_type": "stream",
     "text": [
      "The following values relate to the comparison of the MAR ES only and the MAR ES + Export network:\n",
      "\n",
      "The total annualized system cost for Morocco is 1.77 B€ without export and 2.85 B€ with export\n",
      "The export of 20054.79 GWh results in a cost difference of 1.08 B€\n",
      "Cost per unit hydrogen export: 53.83 €/MWh\n",
      "\n",
      "The following values relate to Export only network:\n",
      "\n",
      "The total annualized system cost for Export only is 0.53 B€\n",
      "Cost per unit hydrogen export: 52.82 €/MWh\n"
     ]
    }
   ],
   "source": [
    "cost_difference= (n2.objective-n1.objective) # in €\n",
    "\n",
    "export_demand = n2.loads_t.p.loc[:, 'H2 export load'].sum() # in MWh\n",
    "export_demand_weighted = export_demand*n2.snapshot_weightings.generators[0] # We need to multiply by the snapshot weightings to get the annualized value\n",
    "\n",
    "n12_lcoh = cost_difference/(n2.loads_t.p.loc[:, 'H2 export load'].sum()*n2.snapshot_weightings.generators[0]) # Cost difference between systems divided by the export demand\n",
    "n3_lcoh = n3.objective/(n3.loads_t.p.loc[:, 'H2 export load'].sum()*n3.snapshot_weightings.generators[0])\n",
    "\n",
    "print(f\"The following values relate to the comparison of the MAR ES only and the MAR ES + Export network:\\n\")\n",
    "print(f\"The total annualized system cost for Morocco is {n1.objective / 1e9:.2f} B€ without export and {n2.objective /1e9:.2f} B€ with export\")\n",
    "print(f\"The export of {export_demand_weighted/1e3:.2f} GWh results in a cost difference of {cost_difference/ 1e9:.2f} B€\")\n",
    "print(f\"Cost per unit hydrogen export: {n12_lcoh:.2f} €/MWh\" )\n",
    "print(f\"\\nThe following values relate to Export only network:\\n\")\n",
    "print(f\"The total annualized system cost for Export only is {n3.objective / 1e9:.2f} B€\")\n",
    "\n",
    "print(f\"Cost per unit hydrogen export: {n3_lcoh:.2f} €/MWh\" )"
   ]
  },
  {
   "attachments": {},
   "cell_type": "markdown",
   "metadata": {},
   "source": [
    "### Plotting"
   ]
  },
  {
   "attachments": {},
   "cell_type": "markdown",
   "metadata": {},
   "source": [
    "LCOH"
   ]
  },
  {
   "cell_type": "code",
   "execution_count": 90,
   "metadata": {},
   "outputs": [
    {
     "data": {
      "image/png": "[encoded data removed]",
      "text/plain": [
       "<Figure size 400x300 with 1 Axes>"
      ]
     },
     "metadata": {},
     "output_type": "display_data"
    }
   ],
   "source": [
    "# Prepare data\n",
    "n_names = [\"Integrated\", \"Islanded\"]\n",
    "costs = [n12_lcoh, n3_lcoh]\n",
    "y_pos = np.arange(len(n_names))\n",
    "# Create bars and set the figure size\n",
    "plt.figure(figsize=(4, 3))\n",
    "plt.bar(y_pos, costs, width=0.4, align='center', alpha=0.5, color=['r', 'b'])\n",
    "\n",
    "# Enhance graph\n",
    "plt.xticks(y_pos, n_names)\n",
    "plt.ylabel(\"LCOH in €/MWh\")\n",
    "plt.title(\"LCOH\")\n",
    "\n",
    "# Create graph and save it\n",
    "plt.savefig(\"../../results/graphics/first_results/LCOH.pdf\")\n",
    "plt.show()"
   ]
  },
  {
   "attachments": {},
   "cell_type": "markdown",
   "metadata": {},
   "source": [
    "Total system cost"
   ]
  },
  {
   "cell_type": "code",
   "execution_count": 91,
   "metadata": {},
   "outputs": [
    {
     "data": {
      "image/png": "[encoded data removed]",
      "text/plain": [
       "<Figure size 500x400 with 1 Axes>"
      ]
     },
     "metadata": {},
     "output_type": "display_data"
    }
   ],
   "source": [
    "n_names = [\"MAR ES only\", \"MAR ES + Export\", \"Export only\"]\n",
    "costs = [n1.objective/1e9, n2.objective/1e9, n3.objective/1e9]\n",
    "y_pos = np.arange(len(n_names))\n",
    "# Create bars\n",
    "plt.figure(figsize=(5, 4))\n",
    "plt.bar(y_pos, costs)\n",
    "\n",
    "# Enhance graph\n",
    "plt.xticks(y_pos, n_names)\n",
    "plt.ylabel(\"System cost in B€\")\n",
    "plt.title(\"System total cost comparison\")\n",
    "\n",
    "# Create graph and save it\n",
    "plt.show()"
   ]
  },
  {
   "cell_type": "code",
   "execution_count": 92,
   "metadata": {},
   "outputs": [
    {
     "data": {
      "image/png": "[encoded data removed]",
      "text/plain": [
       "<Figure size 400x300 with 1 Axes>"
      ]
     },
     "metadata": {},
     "output_type": "display_data"
    },
    {
     "name": "stdout",
     "output_type": "stream",
     "text": [
      "Costs for MAR ES only: [0, 1.767884566564331]\n",
      "Costs for MAR ES + Export: [2.8473763347703858, 0]\n",
      "Costs for Export only: [0, 0.5296598695480867]\n"
     ]
    }
   ],
   "source": [
    "n_names = [\"Integrated\", \"Islanded\"]\n",
    "costs_mar_es_only = [0, n1.objective/1e9]\n",
    "costs_mar_es_export = [n2.objective/1e9, 0]\n",
    "costs_export_only = [0, n3.objective/1e9]\n",
    "\n",
    "#bars = np.add(costs13, costs2).tolist()\n",
    "\n",
    "# The position of the bars on the x-axis\n",
    "r = [0,1]\n",
    "barWidth = 0.4\n",
    "\n",
    "# Create bars and stack them on previous bars\n",
    "plt.figure(figsize=(4, 3))\n",
    "plt.bar(r, costs_mar_es_only, alpha=0.5, color=['b'], edgecolor='white', width=barWidth)\n",
    "plt.bar(r, costs_mar_es_export, alpha=0.5, color=['r'], edgecolor='white', width=barWidth)\n",
    "plt.bar(r, costs_export_only, bottom=costs_mar_es_only, alpha=0.7, color=['b'], edgecolor='white', width=barWidth)\n",
    "\n",
    "# enhance graph\n",
    "plt.xticks(r, n_names)\n",
    "plt.ylabel(\"System cost in B€ [ABGRIDGED]\")\n",
    "plt.title(\"Total System Cost\")\n",
    "#plt.ylim(212, 214)\n",
    "\n",
    "# Show graphic\n",
    "plt.savefig(\"../../results/graphics/first_results/total_system_cost.pdf\", bbox_inches='tight')\n",
    "plt.show()\n",
    "\n",
    "# Print the costs costs_mar_es_only, costs_mar_es_export, costs_export_only\n",
    "print(f\"Costs for MAR ES only: {costs_mar_es_only}\")\n",
    "print(f\"Costs for MAR ES + Export: {costs_mar_es_export}\")\n",
    "print(f\"Costs for Export only: {costs_export_only}\")\n"
   ]
  },
  {
   "attachments": {},
   "cell_type": "markdown",
   "metadata": {},
   "source": [
    "Maps"
   ]
  },
  {
   "cell_type": "code",
   "execution_count": 93,
   "metadata": {},
   "outputs": [],
   "source": [
    "# Change the x and y value of the bus named \"H2 export bus\" to preselected location\n",
    "n3.buses.loc[n3.buses.index == 'H2 export bus', 'x'] = -9.758585377234166\n",
    "n3.buses.loc[n3.buses.index == 'H2 export bus', 'y'] = 34.50457835347685"
   ]
  },
  {
   "cell_type": "code",
   "execution_count": 94,
   "metadata": {},
   "outputs": [
    {
     "data": {
      "application/vnd.plotly.v1+json": {
       "config": {
        "linkText": "Export to plot.ly",
        "plotlyServerURL": "https://plot.ly",
        "showLink": false
       },
       "data": [
        {
         "lat": [
          33.4634,
          33.4634
         ],
         "line": {
          "color": "darkseagreen",
          "width": 3
         },
         "lon": [
          -7.3913,
          -7.3913
         ],
         "mode": "lines",
         "opacity": 0.8,
         "type": "scattermapbox"
        },
        {
         "lat": [
          32.79667142857143,
          32.79667142857143
         ],
         "line": {
          "color": "darkseagreen",
          "width": 3
         },
         "lon": [
          -6.740678571428572,
          -6.740678571428572
         ],
         "mode": "lines",
         "opacity": 0.8,
         "type": "scattermapbox"
        },
        {
         "lat": [
          33.07327741935483,
          33.07327741935483
         ],
         "line": {
          "color": "darkseagreen",
          "width": 3
         },
         "lon": [
          -7.505829032258065,
          -7.505829032258065
         ],
         "mode": "lines",
         "opacity": 0.8,
         "type": "scattermapbox"
        },
        {
         "lat": [
          34.69427142857143,
          34.69427142857143
         ],
         "line": {
          "color": "darkseagreen",
          "width": 3
         },
         "lon": [
          -2.515971428571429,
          -2.515971428571429
         ],
         "mode": "lines",
         "opacity": 0.8,
         "type": "scattermapbox"
        },
        {
         "lat": [
          34.23870000000001,
          34.23870000000001
         ],
         "line": {
          "color": "darkseagreen",
          "width": 3
         },
         "lon": [
          -2.07818,
          -2.07818
         ],
         "mode": "lines",
         "opacity": 0.8,
         "type": "scattermapbox"
        },
        {
         "lat": [
          35.112775,
          35.112775
         ],
         "line": {
          "color": "darkseagreen",
          "width": 3
         },
         "lon": [
          -3.1073500000000003,
          -3.1073500000000003
         ],
         "mode": "lines",
         "opacity": 0.8,
         "type": "scattermapbox"
        },
        {
         "lat": [
          34.660814285714295,
          34.660814285714295
         ],
         "line": {
          "color": "darkseagreen",
          "width": 3
         },
         "lon": [
          -1.9562571428571427,
          -1.9562571428571427
         ],
         "mode": "lines",
         "opacity": 0.8,
         "type": "scattermapbox"
        },
        {
         "lat": [
          33.750719999999994,
          33.750719999999994
         ],
         "line": {
          "color": "darkseagreen",
          "width": 3
         },
         "lon": [
          -6.169279999999999,
          -6.169279999999999
         ],
         "mode": "lines",
         "opacity": 0.8,
         "type": "scattermapbox"
        },
        {
         "lat": [
          34.00280000000001,
          34.00280000000001
         ],
         "line": {
          "color": "darkseagreen",
          "width": 3
         },
         "lon": [
          -6.68555,
          -6.68555
         ],
         "mode": "lines",
         "opacity": 0.8,
         "type": "scattermapbox"
        },
        {
         "lat": [
          33.879,
          33.879
         ],
         "line": {
          "color": "darkseagreen",
          "width": 3
         },
         "lon": [
          -6.8294500000000005,
          -6.8294500000000005
         ],
         "mode": "lines",
         "opacity": 0.8,
         "type": "scattermapbox"
        },
        {
         "lat": [
          30.422941666666663,
          30.422941666666663
         ],
         "line": {
          "color": "darkseagreen",
          "width": 3
         },
         "lon": [
          -9.499433333333334,
          -9.499433333333334
         ],
         "mode": "lines",
         "opacity": 0.8,
         "type": "scattermapbox"
        },
        {
         "lat": [
          30.15175,
          30.15175
         ],
         "line": {
          "color": "darkseagreen",
          "width": 3
         },
         "lon": [
          -9.3264,
          -9.3264
         ],
         "mode": "lines",
         "opacity": 0.8,
         "type": "scattermapbox"
        },
        {
         "lat": [
          30.3944,
          30.3944
         ],
         "line": {
          "color": "darkseagreen",
          "width": 3
         },
         "lon": [
          -9.375633333333333,
          -9.375633333333333
         ],
         "mode": "lines",
         "opacity": 0.8,
         "type": "scattermapbox"
        },
        {
         "lat": [
          31.24959166666666,
          31.24959166666666
         ],
         "line": {
          "color": "darkseagreen",
          "width": 3
         },
         "lon": [
          -6.162158333333334,
          -6.162158333333334
         ],
         "mode": "lines",
         "opacity": 0.8,
         "type": "scattermapbox"
        },
        {
         "lat": [
          30.479766666666666,
          30.479766666666666
         ],
         "line": {
          "color": "darkseagreen",
          "width": 3
         },
         "lon": [
          -8.771733333333335,
          -8.771733333333335
         ],
         "mode": "lines",
         "opacity": 0.8,
         "type": "scattermapbox"
        },
        {
         "lat": [
          29.629780000000004,
          29.629780000000004
         ],
         "line": {
          "color": "darkseagreen",
          "width": 3
         },
         "lon": [
          -9.651570000000001,
          -9.651570000000001
         ],
         "mode": "lines",
         "opacity": 0.8,
         "type": "scattermapbox"
        },
        {
         "lat": [
          30.686,
          30.686
         ],
         "line": {
          "color": "darkseagreen",
          "width": 3
         },
         "lon": [
          -6.4549,
          -6.4549
         ],
         "mode": "lines",
         "opacity": 0.8,
         "type": "scattermapbox"
        },
        {
         "lat": [
          32.05041666666667,
          32.05041666666667
         ],
         "line": {
          "color": "darkseagreen",
          "width": 3
         },
         "lon": [
          -6.5981499999999995,
          -6.5981499999999995
         ],
         "mode": "lines",
         "opacity": 0.8,
         "type": "scattermapbox"
        },
        {
         "lat": [
          32.5377,
          32.5377
         ],
         "line": {
          "color": "darkseagreen",
          "width": 3
         },
         "lon": [
          -6.4784999999999995,
          -6.4784999999999995
         ],
         "mode": "lines",
         "opacity": 0.8,
         "type": "scattermapbox"
        },
        {
         "lat": [
          35.2168,
          35.2168
         ],
         "line": {
          "color": "darkseagreen",
          "width": 3
         },
         "lon": [
          -5.3161,
          -5.3161
         ],
         "mode": "lines",
         "opacity": 0.8,
         "type": "scattermapbox"
        },
        {
         "lat": [
          35.711222222222226,
          35.711222222222226
         ],
         "line": {
          "color": "darkseagreen",
          "width": 3
         },
         "lon": [
          -5.741122222222223,
          -5.741122222222223
         ],
         "mode": "lines",
         "opacity": 0.8,
         "type": "scattermapbox"
        },
        {
         "lat": [
          35.044399999999996,
          35.044399999999996
         ],
         "line": {
          "color": "darkseagreen",
          "width": 3
         },
         "lon": [
          -6.0274,
          -6.0274
         ],
         "mode": "lines",
         "opacity": 0.8,
         "type": "scattermapbox"
        },
        {
         "lat": [
          35.68683333333333,
          35.68683333333333
         ],
         "line": {
          "color": "darkseagreen",
          "width": 3
         },
         "lon": [
          -5.847783333333333,
          -5.847783333333333
         ],
         "mode": "lines",
         "opacity": 0.8,
         "type": "scattermapbox"
        },
        {
         "lat": [
          35.68363888888889,
          35.68363888888889
         ],
         "line": {
          "color": "darkseagreen",
          "width": 3
         },
         "lon": [
          -5.524394444444444,
          -5.524394444444444
         ],
         "mode": "lines",
         "opacity": 0.8,
         "type": "scattermapbox"
        },
        {
         "lat": [
          35.078871428571425,
          35.078871428571425
         ],
         "line": {
          "color": "darkseagreen",
          "width": 3
         },
         "lon": [
          -3.9425714285714286,
          -3.9425714285714286
         ],
         "mode": "lines",
         "opacity": 0.8,
         "type": "scattermapbox"
        },
        {
         "lat": [
          34.114066666666666,
          34.114066666666666
         ],
         "line": {
          "color": "darkseagreen",
          "width": 3
         },
         "lon": [
          -4.678366666666666,
          -4.678366666666666
         ],
         "mode": "lines",
         "opacity": 0.8,
         "type": "scattermapbox"
        },
        {
         "lat": [
          34.27955,
          34.27955
         ],
         "line": {
          "color": "darkseagreen",
          "width": 3
         },
         "lon": [
          -3.8487999999999998,
          -3.8487999999999998
         ],
         "mode": "lines",
         "opacity": 0.8,
         "type": "scattermapbox"
        },
        {
         "lat": [
          33.087434782608696,
          33.087434782608696
         ],
         "line": {
          "color": "darkseagreen",
          "width": 3
         },
         "lon": [
          -8.417773913043478,
          -8.417773913043478
         ],
         "mode": "lines",
         "opacity": 0.8,
         "type": "scattermapbox"
        },
        {
         "lat": [
          32.07396,
          32.07396
         ],
         "line": {
          "color": "darkseagreen",
          "width": 3
         },
         "lon": [
          -8.806899999999999,
          -8.806899999999999
         ],
         "mode": "lines",
         "opacity": 0.8,
         "type": "scattermapbox"
        },
        {
         "lat": [
          34.00962,
          34.00962
         ],
         "line": {
          "color": "darkseagreen",
          "width": 3
         },
         "lon": [
          -4.97278,
          -4.97278
         ],
         "mode": "lines",
         "opacity": 0.8,
         "type": "scattermapbox"
        },
        {
         "lat": [
          33.90866,
          33.90866
         ],
         "line": {
          "color": "darkseagreen",
          "width": 3
         },
         "lon": [
          -4.76906,
          -4.76906
         ],
         "mode": "lines",
         "opacity": 0.8,
         "type": "scattermapbox"
        },
        {
         "lat": [
          34.02445714285714,
          34.02445714285714
         ],
         "line": {
          "color": "darkseagreen",
          "width": 3
         },
         "lon": [
          -5.082385714285714,
          -5.082385714285714
         ],
         "mode": "lines",
         "opacity": 0.8,
         "type": "scattermapbox"
        },
        {
         "lat": [
          34.63645714285714,
          34.63645714285714
         ],
         "line": {
          "color": "darkseagreen",
          "width": 3
         },
         "lon": [
          -6.167271428571429,
          -6.167271428571429
         ],
         "mode": "lines",
         "opacity": 0.8,
         "type": "scattermapbox"
        },
        {
         "lat": [
          34.54973333333333,
          34.54973333333333
         ],
         "line": {
          "color": "darkseagreen",
          "width": 3
         },
         "lon": [
          -5.764466666666666,
          -5.764466666666666
         ],
         "mode": "lines",
         "opacity": 0.8,
         "type": "scattermapbox"
        },
        {
         "lat": [
          33.53502307692308,
          33.53502307692308
         ],
         "line": {
          "color": "darkseagreen",
          "width": 3
         },
         "lon": [
          -7.547923076923078,
          -7.547923076923078
         ],
         "mode": "lines",
         "opacity": 0.8,
         "type": "scattermapbox"
        },
        {
         "lat": [
          33.66785,
          33.66785
         ],
         "line": {
          "color": "darkseagreen",
          "width": 3
         },
         "lon": [
          -7.4281500000000005,
          -7.4281500000000005
         ],
         "mode": "lines",
         "opacity": 0.8,
         "type": "scattermapbox"
        },
        {
         "lat": [
          28.479,
          28.479
         ],
         "line": {
          "color": "darkseagreen",
          "width": 3
         },
         "lon": [
          -11.1686,
          -11.1686
         ],
         "mode": "lines",
         "opacity": 0.8,
         "type": "scattermapbox"
        },
        {
         "lat": [
          31.60366666666667,
          31.60366666666667
         ],
         "line": {
          "color": "darkseagreen",
          "width": 3
         },
         "lon": [
          -7.5310999999999995,
          -7.5310999999999995
         ],
         "mode": "lines",
         "opacity": 0.8,
         "type": "scattermapbox"
        },
        {
         "lat": [
          31.486233333333335,
          31.486233333333335
         ],
         "line": {
          "color": "darkseagreen",
          "width": 3
         },
         "lon": [
          -8.718466666666666,
          -8.718466666666666
         ],
         "mode": "lines",
         "opacity": 0.8,
         "type": "scattermapbox"
        },
        {
         "lat": [
          32.143,
          32.143
         ],
         "line": {
          "color": "darkseagreen",
          "width": 3
         },
         "lon": [
          -7.823236363636363,
          -7.823236363636363
         ],
         "mode": "lines",
         "opacity": 0.8,
         "type": "scattermapbox"
        },
        {
         "lat": [
          31.5461,
          31.5461
         ],
         "line": {
          "color": "darkseagreen",
          "width": 3
         },
         "lon": [
          -9.5806,
          -9.5806
         ],
         "mode": "lines",
         "opacity": 0.8,
         "type": "scattermapbox"
        },
        {
         "lat": [
          31.707633333333334,
          31.707633333333334
         ],
         "line": {
          "color": "darkseagreen",
          "width": 3
         },
         "lon": [
          -8.105188888888888,
          -8.105188888888888
         ],
         "mode": "lines",
         "opacity": 0.8,
         "type": "scattermapbox"
        },
        {
         "lat": [
          33.6728,
          33.6728
         ],
         "line": {
          "color": "darkseagreen",
          "width": 3
         },
         "lon": [
          -5.5273,
          -5.5273
         ],
         "mode": "lines",
         "opacity": 0.8,
         "type": "scattermapbox"
        },
        {
         "lat": [
          31.7714,
          31.7714
         ],
         "line": {
          "color": "darkseagreen",
          "width": 3
         },
         "lon": [
          -4.49952,
          -4.49952
         ],
         "mode": "lines",
         "opacity": 0.8,
         "type": "scattermapbox"
        },
        {
         "lat": [
          33.495850000000004,
          33.495850000000004
         ],
         "line": {
          "color": "darkseagreen",
          "width": 3
         },
         "lon": [
          -5.1858,
          -5.1858
         ],
         "mode": "lines",
         "opacity": 0.8,
         "type": "scattermapbox"
        },
        {
         "lat": [
          32.894038461538464,
          32.894038461538464
         ],
         "line": {
          "color": "darkseagreen",
          "width": 3
         },
         "lon": [
          -5.277946153846154,
          -5.277946153846154
         ],
         "mode": "lines",
         "opacity": 0.8,
         "type": "scattermapbox"
        },
        {
         "lat": [
          33.94476666666666,
          33.94476666666666
         ],
         "line": {
          "color": "darkseagreen",
          "width": 3
         },
         "lon": [
          -5.611291666666666,
          -5.611291666666666
         ],
         "mode": "lines",
         "opacity": 0.8,
         "type": "scattermapbox"
        },
        {
         "lat": [
          33.4634,
          34.50457835347685
         ],
         "line": {
          "color": "darkseagreen",
          "width": 3
         },
         "lon": [
          -7.3913,
          -9.758585377234166
         ],
         "mode": "lines",
         "opacity": 0.8,
         "type": "scattermapbox"
        },
        {
         "lat": [
          32.79667142857143,
          34.50457835347685
         ],
         "line": {
          "color": "darkseagreen",
          "width": 3
         },
         "lon": [
          -6.740678571428572,
          -9.758585377234166
         ],
         "mode": "lines",
         "opacity": 0.8,
         "type": "scattermapbox"
        },
        {
         "lat": [
          33.07327741935483,
          34.50457835347685
         ],
         "line": {
          "color": "darkseagreen",
          "width": 3
         },
         "lon": [
          -7.505829032258065,
          -9.758585377234166
         ],
         "mode": "lines",
         "opacity": 0.8,
         "type": "scattermapbox"
        },
        {
         "lat": [
          34.69427142857143,
          34.50457835347685
         ],
         "line": {
          "color": "darkseagreen",
          "width": 3
         },
         "lon": [
          -2.515971428571429,
          -9.758585377234166
         ],
         "mode": "lines",
         "opacity": 0.8,
         "type": "scattermapbox"
        },
        {
         "lat": [
          34.23870000000001,
          34.50457835347685
         ],
         "line": {
          "color": "darkseagreen",
          "width": 3
         },
         "lon": [
          -2.07818,
          -9.758585377234166
         ],
         "mode": "lines",
         "opacity": 0.8,
         "type": "scattermapbox"
        },
        {
         "lat": [
          35.112775,
          34.50457835347685
         ],
         "line": {
          "color": "darkseagreen",
          "width": 3
         },
         "lon": [
          -3.1073500000000003,
          -9.758585377234166
         ],
         "mode": "lines",
         "opacity": 0.8,
         "type": "scattermapbox"
        },
        {
         "lat": [
          34.660814285714295,
          34.50457835347685
         ],
         "line": {
          "color": "darkseagreen",
          "width": 3
         },
         "lon": [
          -1.9562571428571427,
          -9.758585377234166
         ],
         "mode": "lines",
         "opacity": 0.8,
         "type": "scattermapbox"
        },
        {
         "lat": [
          33.750719999999994,
          34.50457835347685
         ],
         "line": {
          "color": "darkseagreen",
          "width": 3
         },
         "lon": [
          -6.169279999999999,
          -9.758585377234166
         ],
         "mode": "lines",
         "opacity": 0.8,
         "type": "scattermapbox"
        },
        {
         "lat": [
          34.00280000000001,
          34.50457835347685
         ],
         "line": {
          "color": "darkseagreen",
          "width": 3
         },
         "lon": [
          -6.68555,
          -9.758585377234166
         ],
         "mode": "lines",
         "opacity": 0.8,
         "type": "scattermapbox"
        },
        {
         "lat": [
          33.879,
          34.50457835347685
         ],
         "line": {
          "color": "darkseagreen",
          "width": 3
         },
         "lon": [
          -6.8294500000000005,
          -9.758585377234166
         ],
         "mode": "lines",
         "opacity": 0.8,
         "type": "scattermapbox"
        },
        {
         "lat": [
          30.422941666666663,
          34.50457835347685
         ],
         "line": {
          "color": "darkseagreen",
          "width": 3
         },
         "lon": [
          -9.499433333333334,
          -9.758585377234166
         ],
         "mode": "lines",
         "opacity": 0.8,
         "type": "scattermapbox"
        },
        {
         "lat": [
          30.15175,
          34.50457835347685
         ],
         "line": {
          "color": "darkseagreen",
          "width": 3
         },
         "lon": [
          -9.3264,
          -9.758585377234166
         ],
         "mode": "lines",
         "opacity": 0.8,
         "type": "scattermapbox"
        },
        {
         "lat": [
          30.3944,
          34.50457835347685
         ],
         "line": {
          "color": "darkseagreen",
          "width": 3
         },
         "lon": [
          -9.375633333333333,
          -9.758585377234166
         ],
         "mode": "lines",
         "opacity": 0.8,
         "type": "scattermapbox"
        },
        {
         "lat": [
          31.24959166666666,
          34.50457835347685
         ],
         "line": {
          "color": "darkseagreen",
          "width": 3
         },
         "lon": [
          -6.162158333333334,
          -9.758585377234166
         ],
         "mode": "lines",
         "opacity": 0.8,
         "type": "scattermapbox"
        },
        {
         "lat": [
          30.479766666666666,
          34.50457835347685
         ],
         "line": {
          "color": "darkseagreen",
          "width": 3
         },
         "lon": [
          -8.771733333333335,
          -9.758585377234166
         ],
         "mode": "lines",
         "opacity": 0.8,
         "type": "scattermapbox"
        },
        {
         "lat": [
          29.629780000000004,
          34.50457835347685
         ],
         "line": {
          "color": "darkseagreen",
          "width": 3
         },
         "lon": [
          -9.651570000000001,
          -9.758585377234166
         ],
         "mode": "lines",
         "opacity": 0.8,
         "type": "scattermapbox"
        },
        {
         "lat": [
          30.686,
          34.50457835347685
         ],
         "line": {
          "color": "darkseagreen",
          "width": 3
         },
         "lon": [
          -6.4549,
          -9.758585377234166
         ],
         "mode": "lines",
         "opacity": 0.8,
         "type": "scattermapbox"
        },
        {
         "lat": [
          32.05041666666667,
          34.50457835347685
         ],
         "line": {
          "color": "darkseagreen",
          "width": 3
         },
         "lon": [
          -6.5981499999999995,
          -9.758585377234166
         ],
         "mode": "lines",
         "opacity": 0.8,
         "type": "scattermapbox"
        },
        {
         "lat": [
          32.5377,
          34.50457835347685
         ],
         "line": {
          "color": "darkseagreen",
          "width": 3
         },
         "lon": [
          -6.4784999999999995,
          -9.758585377234166
         ],
         "mode": "lines",
         "opacity": 0.8,
         "type": "scattermapbox"
        },
        {
         "lat": [
          35.2168,
          34.50457835347685
         ],
         "line": {
          "color": "darkseagreen",
          "width": 3
         },
         "lon": [
          -5.3161,
          -9.758585377234166
         ],
         "mode": "lines",
         "opacity": 0.8,
         "type": "scattermapbox"
        },
        {
         "lat": [
          35.711222222222226,
          34.50457835347685
         ],
         "line": {
          "color": "darkseagreen",
          "width": 3
         },
         "lon": [
          -5.741122222222223,
          -9.758585377234166
         ],
         "mode": "lines",
         "opacity": 0.8,
         "type": "scattermapbox"
        },
        {
         "lat": [
          35.044399999999996,
          34.50457835347685
         ],
         "line": {
          "color": "darkseagreen",
          "width": 3
         },
         "lon": [
          -6.0274,
          -9.758585377234166
         ],
         "mode": "lines",
         "opacity": 0.8,
         "type": "scattermapbox"
        },
        {
         "lat": [
          35.68683333333333,
          34.50457835347685
         ],
         "line": {
          "color": "darkseagreen",
          "width": 3
         },
         "lon": [
          -5.847783333333333,
          -9.758585377234166
         ],
         "mode": "lines",
         "opacity": 0.8,
         "type": "scattermapbox"
        },
        {
         "lat": [
          35.68363888888889,
          34.50457835347685
         ],
         "line": {
          "color": "darkseagreen",
          "width": 3
         },
         "lon": [
          -5.524394444444444,
          -9.758585377234166
         ],
         "mode": "lines",
         "opacity": 0.8,
         "type": "scattermapbox"
        },
        {
         "lat": [
          35.078871428571425,
          34.50457835347685
         ],
         "line": {
          "color": "darkseagreen",
          "width": 3
         },
         "lon": [
          -3.9425714285714286,
          -9.758585377234166
         ],
         "mode": "lines",
         "opacity": 0.8,
         "type": "scattermapbox"
        },
        {
         "lat": [
          34.114066666666666,
          34.50457835347685
         ],
         "line": {
          "color": "darkseagreen",
          "width": 3
         },
         "lon": [
          -4.678366666666666,
          -9.758585377234166
         ],
         "mode": "lines",
         "opacity": 0.8,
         "type": "scattermapbox"
        },
        {
         "lat": [
          34.27955,
          34.50457835347685
         ],
         "line": {
          "color": "darkseagreen",
          "width": 3
         },
         "lon": [
          -3.8487999999999998,
          -9.758585377234166
         ],
         "mode": "lines",
         "opacity": 0.8,
         "type": "scattermapbox"
        },
        {
         "lat": [
          33.087434782608696,
          34.50457835347685
         ],
         "line": {
          "color": "darkseagreen",
          "width": 3
         },
         "lon": [
          -8.417773913043478,
          -9.758585377234166
         ],
         "mode": "lines",
         "opacity": 0.8,
         "type": "scattermapbox"
        },
        {
         "lat": [
          32.07396,
          34.50457835347685
         ],
         "line": {
          "color": "darkseagreen",
          "width": 3
         },
         "lon": [
          -8.806899999999999,
          -9.758585377234166
         ],
         "mode": "lines",
         "opacity": 0.8,
         "type": "scattermapbox"
        },
        {
         "lat": [
          34.00962,
          34.50457835347685
         ],
         "line": {
          "color": "darkseagreen",
          "width": 3
         },
         "lon": [
          -4.97278,
          -9.758585377234166
         ],
         "mode": "lines",
         "opacity": 0.8,
         "type": "scattermapbox"
        },
        {
         "lat": [
          33.90866,
          34.50457835347685
         ],
         "line": {
          "color": "darkseagreen",
          "width": 3
         },
         "lon": [
          -4.76906,
          -9.758585377234166
         ],
         "mode": "lines",
         "opacity": 0.8,
         "type": "scattermapbox"
        },
        {
         "lat": [
          34.02445714285714,
          34.50457835347685
         ],
         "line": {
          "color": "darkseagreen",
          "width": 3
         },
         "lon": [
          -5.082385714285714,
          -9.758585377234166
         ],
         "mode": "lines",
         "opacity": 0.8,
         "type": "scattermapbox"
        },
        {
         "lat": [
          34.63645714285714,
          34.50457835347685
         ],
         "line": {
          "color": "darkseagreen",
          "width": 3
         },
         "lon": [
          -6.167271428571429,
          -9.758585377234166
         ],
         "mode": "lines",
         "opacity": 0.8,
         "type": "scattermapbox"
        },
        {
         "lat": [
          34.54973333333333,
          34.50457835347685
         ],
         "line": {
          "color": "darkseagreen",
          "width": 3
         },
         "lon": [
          -5.764466666666666,
          -9.758585377234166
         ],
         "mode": "lines",
         "opacity": 0.8,
         "type": "scattermapbox"
        },
        {
         "lat": [
          33.53502307692308,
          34.50457835347685
         ],
         "line": {
          "color": "darkseagreen",
          "width": 3
         },
         "lon": [
          -7.547923076923078,
          -9.758585377234166
         ],
         "mode": "lines",
         "opacity": 0.8,
         "type": "scattermapbox"
        },
        {
         "lat": [
          33.66785,
          34.50457835347685
         ],
         "line": {
          "color": "darkseagreen",
          "width": 3
         },
         "lon": [
          -7.4281500000000005,
          -9.758585377234166
         ],
         "mode": "lines",
         "opacity": 0.8,
         "type": "scattermapbox"
        },
        {
         "lat": [
          28.479,
          34.50457835347685
         ],
         "line": {
          "color": "darkseagreen",
          "width": 3
         },
         "lon": [
          -11.1686,
          -9.758585377234166
         ],
         "mode": "lines",
         "opacity": 0.8,
         "type": "scattermapbox"
        },
        {
         "lat": [
          31.60366666666667,
          34.50457835347685
         ],
         "line": {
          "color": "darkseagreen",
          "width": 3
         },
         "lon": [
          -7.5310999999999995,
          -9.758585377234166
         ],
         "mode": "lines",
         "opacity": 0.8,
         "type": "scattermapbox"
        },
        {
         "lat": [
          31.486233333333335,
          34.50457835347685
         ],
         "line": {
          "color": "darkseagreen",
          "width": 3
         },
         "lon": [
          -8.718466666666666,
          -9.758585377234166
         ],
         "mode": "lines",
         "opacity": 0.8,
         "type": "scattermapbox"
        },
        {
         "lat": [
          32.143,
          34.50457835347685
         ],
         "line": {
          "color": "darkseagreen",
          "width": 3
         },
         "lon": [
          -7.823236363636363,
          -9.758585377234166
         ],
         "mode": "lines",
         "opacity": 0.8,
         "type": "scattermapbox"
        },
        {
         "lat": [
          31.5461,
          34.50457835347685
         ],
         "line": {
          "color": "darkseagreen",
          "width": 3
         },
         "lon": [
          -9.5806,
          -9.758585377234166
         ],
         "mode": "lines",
         "opacity": 0.8,
         "type": "scattermapbox"
        },
        {
         "lat": [
          31.707633333333334,
          34.50457835347685
         ],
         "line": {
          "color": "darkseagreen",
          "width": 3
         },
         "lon": [
          -8.105188888888888,
          -9.758585377234166
         ],
         "mode": "lines",
         "opacity": 0.8,
         "type": "scattermapbox"
        },
        {
         "lat": [
          33.6728,
          34.50457835347685
         ],
         "line": {
          "color": "darkseagreen",
          "width": 3
         },
         "lon": [
          -5.5273,
          -9.758585377234166
         ],
         "mode": "lines",
         "opacity": 0.8,
         "type": "scattermapbox"
        },
        {
         "lat": [
          31.7714,
          34.50457835347685
         ],
         "line": {
          "color": "darkseagreen",
          "width": 3
         },
         "lon": [
          -4.49952,
          -9.758585377234166
         ],
         "mode": "lines",
         "opacity": 0.8,
         "type": "scattermapbox"
        },
        {
         "lat": [
          33.495850000000004,
          34.50457835347685
         ],
         "line": {
          "color": "darkseagreen",
          "width": 3
         },
         "lon": [
          -5.1858,
          -9.758585377234166
         ],
         "mode": "lines",
         "opacity": 0.8,
         "type": "scattermapbox"
        },
        {
         "lat": [
          32.894038461538464,
          34.50457835347685
         ],
         "line": {
          "color": "darkseagreen",
          "width": 3
         },
         "lon": [
          -5.277946153846154,
          -9.758585377234166
         ],
         "mode": "lines",
         "opacity": 0.8,
         "type": "scattermapbox"
        },
        {
         "lat": [
          33.94476666666666,
          34.50457835347685
         ],
         "line": {
          "color": "darkseagreen",
          "width": 3
         },
         "lon": [
          -5.611291666666666,
          -9.758585377234166
         ],
         "mode": "lines",
         "opacity": 0.8,
         "type": "scattermapbox"
        },
        {
         "hoverinfo": "text",
         "lat": [
          33.4634,
          32.79667142857143,
          33.07327741935483,
          34.69427142857143,
          34.23870000000001,
          35.112775,
          34.660814285714295,
          33.750719999999994,
          34.00280000000001,
          33.879,
          30.422941666666663,
          30.15175,
          30.3944,
          31.24959166666666,
          30.479766666666666,
          29.629780000000004,
          30.686,
          32.05041666666667,
          32.5377,
          35.2168,
          35.711222222222226,
          35.044399999999996,
          35.68683333333333,
          35.68363888888889,
          35.078871428571425,
          34.114066666666666,
          34.27955,
          33.087434782608696,
          32.07396,
          34.00962,
          33.90866,
          34.02445714285714,
          34.63645714285714,
          34.54973333333333,
          33.53502307692308,
          33.66785,
          28.479,
          31.60366666666667,
          31.486233333333335,
          32.143,
          31.5461,
          31.707633333333334,
          33.6728,
          31.7714,
          33.495850000000004,
          32.894038461538464,
          33.94476666666666,
          33.983989176738426,
          33.65062489102414,
          33.78892788641584,
          34.59942489102414,
          34.37163917673843,
          34.80867667673843,
          34.58269631959557,
          34.12764917673842,
          34.25368917673843,
          34.191789176738425,
          32.46376001007176,
          32.328164176738426,
          32.449489176738425,
          32.87708501007175,
          32.49217251007176,
          32.06717917673843,
          32.595289176738426,
          33.27749751007176,
          33.52113917673843,
          34.860689176738425,
          35.10790028784954,
          34.77448917673843,
          35.09570584340509,
          35.09410862118287,
          34.79172489102414,
          34.30932251007176,
          34.39206417673843,
          33.79600656804277,
          33.28926917673843,
          34.25709917673842,
          34.20661917673843,
          34.264517748166995,
          34.57051774816699,
          34.52715584340509,
          34.01980071519996,
          34.08621417673842,
          31.491789176738425,
          33.054122510071764,
          32.995405843405095,
          33.32378917673843,
          33.02533917673843,
          33.10610584340509,
          34.08868917673843,
          33.13798917673843,
          34.000214176738424,
          33.69930840750766,
          34.224672510071755
         ],
         "lon": [
          -7.3913,
          -6.740678571428572,
          -7.505829032258065,
          -2.515971428571429,
          -2.07818,
          -3.1073500000000003,
          -1.9562571428571427,
          -6.169279999999999,
          -6.68555,
          -6.8294500000000005,
          -9.499433333333334,
          -9.3264,
          -9.375633333333333,
          -6.162158333333334,
          -8.771733333333335,
          -9.651570000000001,
          -6.4549,
          -6.5981499999999995,
          -6.4784999999999995,
          -5.3161,
          -5.741122222222223,
          -6.0274,
          -5.847783333333333,
          -5.524394444444444,
          -3.9425714285714286,
          -4.678366666666666,
          -3.8487999999999998,
          -8.417773913043478,
          -8.806899999999999,
          -4.97278,
          -4.76906,
          -5.082385714285714,
          -6.167271428571429,
          -5.764466666666666,
          -7.547923076923078,
          -7.4281500000000005,
          -11.1686,
          -7.5310999999999995,
          -8.718466666666666,
          -7.823236363636363,
          -9.5806,
          -8.105188888888888,
          -5.5273,
          -4.49952,
          -5.1858,
          -5.277946153846154,
          -5.611291666666666,
          -8.574942688617083,
          -8.249631974331368,
          -8.632207204746116,
          -6.137278402902798,
          -5.918382688617083,
          -6.432967688617083,
          -5.857421260045654,
          -7.963932688617082,
          -8.222067688617082,
          -8.294017688617084,
          -9.629009355283749,
          -9.542492688617083,
          -9.56710935528375,
          -7.96037185528375,
          -9.26515935528375,
          -9.705077688617084,
          -8.106742688617082,
          -8.178367688617083,
          -8.118542688617083,
          -7.537342688617082,
          -7.749853799728195,
          -7.892992688617083,
          -7.803184355283749,
          -7.641489910839304,
          -6.850578402902797,
          -7.218476021950416,
          -6.803692688617083,
          -9.088179645138823,
          -9.282742688617082,
          -7.365682688617083,
          -7.263822688617083,
          -7.42048554575994,
          -7.962928402902797,
          -7.7615260219504165,
          -8.653254227078621,
          -8.593367688617082,
          -10.463592688617084,
          -8.644842688617082,
          -9.238526021950417,
          -8.790910870435265,
          -9.669592688617083,
          -8.931887133061526,
          -7.642942688617083,
          -7.129052688617083,
          -7.472192688617083,
          -7.51826576554016,
          -7.684938521950416
         ],
         "marker": {
          "opacity": 0
         },
         "mode": "markers",
         "text": [
          "Link MAR.1.1_1 H2 Electrolysis",
          "Link MAR.1.2_1 H2 Electrolysis",
          "Link MAR.1.3_1 H2 Electrolysis",
          "Link MAR.10.1_1 H2 Electrolysis",
          "Link MAR.10.3_1 H2 Electrolysis",
          "Link MAR.10.4_1 H2 Electrolysis",
          "Link MAR.10.5_1 H2 Electrolysis",
          "Link MAR.11.1_1 H2 Electrolysis",
          "Link MAR.11.3_1 H2 Electrolysis",
          "Link MAR.11.4_1 H2 Electrolysis",
          "Link MAR.12.1_1 H2 Electrolysis",
          "Link MAR.12.2_1 H2 Electrolysis",
          "Link MAR.12.3_1 H2 Electrolysis",
          "Link MAR.12.4_1 H2 Electrolysis",
          "Link MAR.12.5_1 H2 Electrolysis",
          "Link MAR.12.6_1 H2 Electrolysis",
          "Link MAR.12.7_1 H2 Electrolysis",
          "Link MAR.13.1_1 H2 Electrolysis",
          "Link MAR.13.2_1 H2 Electrolysis",
          "Link MAR.14.1_1 H2 Electrolysis",
          "Link MAR.14.2_1 H2 Electrolysis",
          "Link MAR.14.3_1 H2 Electrolysis",
          "Link MAR.14.4_1 H2 Electrolysis",
          "Link MAR.14.5_1 H2 Electrolysis",
          "Link MAR.15.1_1 H2 Electrolysis",
          "Link MAR.15.2_1 H2 Electrolysis",
          "Link MAR.15.3_1 H2 Electrolysis",
          "Link MAR.2.1_1 H2 Electrolysis",
          "Link MAR.2.2_1 H2 Electrolysis",
          "Link MAR.3.2_1 H2 Electrolysis",
          "Link MAR.3.3_1 H2 Electrolysis",
          "Link MAR.3.4_1 H2 Electrolysis",
          "Link MAR.4.1_1 H2 Electrolysis",
          "Link MAR.4.2_1 H2 Electrolysis",
          "Link MAR.5.1_1 H2 Electrolysis",
          "Link MAR.5.2_1 H2 Electrolysis",
          "Link MAR.6.3_1 H2 Electrolysis",
          "Link MAR.8.1_1 H2 Electrolysis",
          "Link MAR.8.2_1 H2 Electrolysis",
          "Link MAR.8.3_1 H2 Electrolysis",
          "Link MAR.8.4_1 H2 Electrolysis",
          "Link MAR.8.5_1 H2 Electrolysis",
          "Link MAR.9.1_1 H2 Electrolysis",
          "Link MAR.9.2_1 H2 Electrolysis",
          "Link MAR.9.3_1 H2 Electrolysis",
          "Link MAR.9.4_1 H2 Electrolysis",
          "Link MAR.9.5_1 H2 Electrolysis",
          "Link MAR.1.1_1 H2 export",
          "Link MAR.1.2_1 H2 export",
          "Link MAR.1.3_1 H2 export",
          "Link MAR.10.1_1 H2 export",
          "Link MAR.10.3_1 H2 export",
          "Link MAR.10.4_1 H2 export",
          "Link MAR.10.5_1 H2 export",
          "Link MAR.11.1_1 H2 export",
          "Link MAR.11.3_1 H2 export",
          "Link MAR.11.4_1 H2 export",
          "Link MAR.12.1_1 H2 export",
          "Link MAR.12.2_1 H2 export",
          "Link MAR.12.3_1 H2 export",
          "Link MAR.12.4_1 H2 export",
          "Link MAR.12.5_1 H2 export",
          "Link MAR.12.6_1 H2 export",
          "Link MAR.12.7_1 H2 export",
          "Link MAR.13.1_1 H2 export",
          "Link MAR.13.2_1 H2 export",
          "Link MAR.14.1_1 H2 export",
          "Link MAR.14.2_1 H2 export",
          "Link MAR.14.3_1 H2 export",
          "Link MAR.14.4_1 H2 export",
          "Link MAR.14.5_1 H2 export",
          "Link MAR.15.1_1 H2 export",
          "Link MAR.15.2_1 H2 export",
          "Link MAR.15.3_1 H2 export",
          "Link MAR.2.1_1 H2 export",
          "Link MAR.2.2_1 H2 export",
          "Link MAR.3.2_1 H2 export",
          "Link MAR.3.3_1 H2 export",
          "Link MAR.3.4_1 H2 export",
          "Link MAR.4.1_1 H2 export",
          "Link MAR.4.2_1 H2 export",
          "Link MAR.5.1_1 H2 export",
          "Link MAR.5.2_1 H2 export",
          "Link MAR.6.3_1 H2 export",
          "Link MAR.8.1_1 H2 export",
          "Link MAR.8.2_1 H2 export",
          "Link MAR.8.3_1 H2 export",
          "Link MAR.8.4_1 H2 export",
          "Link MAR.8.5_1 H2 export",
          "Link MAR.9.1_1 H2 export",
          "Link MAR.9.2_1 H2 export",
          "Link MAR.9.3_1 H2 export",
          "Link MAR.9.4_1 H2 export",
          "Link MAR.9.5_1 H2 export"
         ],
         "type": "scattermapbox"
        },
        {
         "hoverinfo": "text",
         "lat": [
          33.4634,
          32.79667142857143,
          33.07327741935483,
          34.69427142857143,
          34.23870000000001,
          35.112775,
          34.660814285714295,
          33.750719999999994,
          34.00280000000001,
          33.879,
          30.422941666666663,
          30.15175,
          30.3944,
          31.24959166666666,
          30.479766666666666,
          29.629780000000004,
          30.686,
          32.05041666666667,
          32.5377,
          35.2168,
          35.711222222222226,
          35.044399999999996,
          35.68683333333333,
          35.68363888888889,
          35.078871428571425,
          34.114066666666666,
          34.27955,
          33.087434782608696,
          32.07396,
          34.00962,
          33.90866,
          34.02445714285714,
          34.63645714285714,
          34.54973333333333,
          33.53502307692308,
          33.66785,
          28.479,
          31.60366666666667,
          31.486233333333335,
          32.143,
          31.5461,
          31.707633333333334,
          33.6728,
          31.7714,
          33.495850000000004,
          32.894038461538464,
          33.94476666666666,
          33.4634,
          32.79667142857143,
          33.07327741935483,
          34.69427142857143,
          34.23870000000001,
          35.112775,
          34.660814285714295,
          33.750719999999994,
          34.00280000000001,
          33.879,
          30.422941666666663,
          30.15175,
          30.3944,
          31.24959166666666,
          30.479766666666666,
          29.629780000000004,
          30.686,
          32.05041666666667,
          32.5377,
          35.2168,
          35.711222222222226,
          35.044399999999996,
          35.68683333333333,
          35.68363888888889,
          35.078871428571425,
          34.114066666666666,
          34.27955,
          33.087434782608696,
          32.07396,
          34.00962,
          33.90866,
          34.02445714285714,
          34.63645714285714,
          34.54973333333333,
          33.53502307692308,
          33.66785,
          28.479,
          31.60366666666667,
          31.486233333333335,
          32.143,
          31.5461,
          31.707633333333334,
          33.6728,
          31.7714,
          33.495850000000004,
          32.894038461538464,
          33.94476666666666,
          34.50457835347685
         ],
         "lon": [
          -7.3913,
          -6.740678571428572,
          -7.505829032258065,
          -2.515971428571429,
          -2.07818,
          -3.1073500000000003,
          -1.9562571428571427,
          -6.169279999999999,
          -6.68555,
          -6.8294500000000005,
          -9.499433333333334,
          -9.3264,
          -9.375633333333333,
          -6.162158333333334,
          -8.771733333333335,
          -9.651570000000001,
          -6.4549,
          -6.5981499999999995,
          -6.4784999999999995,
          -5.3161,
          -5.741122222222223,
          -6.0274,
          -5.847783333333333,
          -5.524394444444444,
          -3.9425714285714286,
          -4.678366666666666,
          -3.8487999999999998,
          -8.417773913043478,
          -8.806899999999999,
          -4.97278,
          -4.76906,
          -5.082385714285714,
          -6.167271428571429,
          -5.764466666666666,
          -7.547923076923078,
          -7.4281500000000005,
          -11.1686,
          -7.5310999999999995,
          -8.718466666666666,
          -7.823236363636363,
          -9.5806,
          -8.105188888888888,
          -5.5273,
          -4.49952,
          -5.1858,
          -5.277946153846154,
          -5.611291666666666,
          -7.3913,
          -6.740678571428572,
          -7.505829032258065,
          -2.515971428571429,
          -2.07818,
          -3.1073500000000003,
          -1.9562571428571427,
          -6.169279999999999,
          -6.68555,
          -6.8294500000000005,
          -9.499433333333334,
          -9.3264,
          -9.375633333333333,
          -6.162158333333334,
          -8.771733333333335,
          -9.651570000000001,
          -6.4549,
          -6.5981499999999995,
          -6.4784999999999995,
          -5.3161,
          -5.741122222222223,
          -6.0274,
          -5.847783333333333,
          -5.524394444444444,
          -3.9425714285714286,
          -4.678366666666666,
          -3.8487999999999998,
          -8.417773913043478,
          -8.806899999999999,
          -4.97278,
          -4.76906,
          -5.082385714285714,
          -6.167271428571429,
          -5.764466666666666,
          -7.547923076923078,
          -7.4281500000000005,
          -11.1686,
          -7.5310999999999995,
          -8.718466666666666,
          -7.823236363636363,
          -9.5806,
          -8.105188888888888,
          -5.5273,
          -4.49952,
          -5.1858,
          -5.277946153846154,
          -5.611291666666666,
          -9.758585377234166
         ],
         "marker": {
          "color": "cadetblue",
          "size": 10
         },
         "mode": "markers",
         "opacity": 1,
         "text": [
          "Bus MAR.1.1_1",
          "Bus MAR.1.2_1",
          "Bus MAR.1.3_1",
          "Bus MAR.10.1_1",
          "Bus MAR.10.3_1",
          "Bus MAR.10.4_1",
          "Bus MAR.10.5_1",
          "Bus MAR.11.1_1",
          "Bus MAR.11.3_1",
          "Bus MAR.11.4_1",
          "Bus MAR.12.1_1",
          "Bus MAR.12.2_1",
          "Bus MAR.12.3_1",
          "Bus MAR.12.4_1",
          "Bus MAR.12.5_1",
          "Bus MAR.12.6_1",
          "Bus MAR.12.7_1",
          "Bus MAR.13.1_1",
          "Bus MAR.13.2_1",
          "Bus MAR.14.1_1",
          "Bus MAR.14.2_1",
          "Bus MAR.14.3_1",
          "Bus MAR.14.4_1",
          "Bus MAR.14.5_1",
          "Bus MAR.15.1_1",
          "Bus MAR.15.2_1",
          "Bus MAR.15.3_1",
          "Bus MAR.2.1_1",
          "Bus MAR.2.2_1",
          "Bus MAR.3.2_1",
          "Bus MAR.3.3_1",
          "Bus MAR.3.4_1",
          "Bus MAR.4.1_1",
          "Bus MAR.4.2_1",
          "Bus MAR.5.1_1",
          "Bus MAR.5.2_1",
          "Bus MAR.6.3_1",
          "Bus MAR.8.1_1",
          "Bus MAR.8.2_1",
          "Bus MAR.8.3_1",
          "Bus MAR.8.4_1",
          "Bus MAR.8.5_1",
          "Bus MAR.9.1_1",
          "Bus MAR.9.2_1",
          "Bus MAR.9.3_1",
          "Bus MAR.9.4_1",
          "Bus MAR.9.5_1",
          "Bus MAR.1.1_1 H2",
          "Bus MAR.1.2_1 H2",
          "Bus MAR.1.3_1 H2",
          "Bus MAR.10.1_1 H2",
          "Bus MAR.10.3_1 H2",
          "Bus MAR.10.4_1 H2",
          "Bus MAR.10.5_1 H2",
          "Bus MAR.11.1_1 H2",
          "Bus MAR.11.3_1 H2",
          "Bus MAR.11.4_1 H2",
          "Bus MAR.12.1_1 H2",
          "Bus MAR.12.2_1 H2",
          "Bus MAR.12.3_1 H2",
          "Bus MAR.12.4_1 H2",
          "Bus MAR.12.5_1 H2",
          "Bus MAR.12.6_1 H2",
          "Bus MAR.12.7_1 H2",
          "Bus MAR.13.1_1 H2",
          "Bus MAR.13.2_1 H2",
          "Bus MAR.14.1_1 H2",
          "Bus MAR.14.2_1 H2",
          "Bus MAR.14.3_1 H2",
          "Bus MAR.14.4_1 H2",
          "Bus MAR.14.5_1 H2",
          "Bus MAR.15.1_1 H2",
          "Bus MAR.15.2_1 H2",
          "Bus MAR.15.3_1 H2",
          "Bus MAR.2.1_1 H2",
          "Bus MAR.2.2_1 H2",
          "Bus MAR.3.2_1 H2",
          "Bus MAR.3.3_1 H2",
          "Bus MAR.3.4_1 H2",
          "Bus MAR.4.1_1 H2",
          "Bus MAR.4.2_1 H2",
          "Bus MAR.5.1_1 H2",
          "Bus MAR.5.2_1 H2",
          "Bus MAR.6.3_1 H2",
          "Bus MAR.8.1_1 H2",
          "Bus MAR.8.2_1 H2",
          "Bus MAR.8.3_1 H2",
          "Bus MAR.8.4_1 H2",
          "Bus MAR.8.5_1 H2",
          "Bus MAR.9.1_1 H2",
          "Bus MAR.9.2_1 H2",
          "Bus MAR.9.3_1 H2",
          "Bus MAR.9.4_1 H2",
          "Bus MAR.9.5_1 H2",
          "Bus H2 export bus"
         ],
         "type": "scattermapbox"
        }
       ],
       "layout": {
        "hovermode": "closest",
        "mapbox": {
         "center": {
          "lat": 32.09511111111111,
          "lon": -6.562428571428571
         },
         "style": "open-street-map",
         "zoom": 2
        },
        "showlegend": false,
        "template": {
         "data": {
          "bar": [
           {
            "error_x": {
             "color": "#2a3f5f"
            },
            "error_y": {
             "color": "#2a3f5f"
            },
            "marker": {
             "line": {
              "color": "#E5ECF6",
              "width": 0.5
             },
             "pattern": {
              "fillmode": "overlay",
              "size": 10,
              "solidity": 0.2
             }
            },
            "type": "bar"
           }
          ],
          "barpolar": [
           {
            "marker": {
             "line": {
              "color": "#E5ECF6",
              "width": 0.5
             },
             "pattern": {
              "fillmode": "overlay",
              "size": 10,
              "solidity": 0.2
             }
            },
            "type": "barpolar"
           }
          ],
          "carpet": [
           {
            "aaxis": {
             "endlinecolor": "#2a3f5f",
             "gridcolor": "white",
             "linecolor": "white",
             "minorgridcolor": "white",
             "startlinecolor": "#2a3f5f"
            },
            "baxis": {
             "endlinecolor": "#2a3f5f",
             "gridcolor": "white",
             "linecolor": "white",
             "minorgridcolor": "white",
             "startlinecolor": "#2a3f5f"
            },
            "type": "carpet"
           }
          ],
          "choropleth": [
           {
            "colorbar": {
             "outlinewidth": 0,
             "ticks": ""
            },
            "type": "choropleth"
           }
          ],
          "contour": [
           {
            "colorbar": {
             "outlinewidth": 0,
             "ticks": ""
            },
            "colorscale": [
             [
              0,
              "#0d0887"
             ],
             [
              0.1111111111111111,
              "#46039f"
             ],
             [
              0.2222222222222222,
              "#7201a8"
             ],
             [
              0.3333333333333333,
              "#9c179e"
             ],
             [
              0.4444444444444444,
              "#bd3786"
             ],
             [
              0.5555555555555556,
              "#d8576b"
             ],
             [
              0.6666666666666666,
              "#ed7953"
             ],
             [
              0.7777777777777778,
              "#fb9f3a"
             ],
             [
              0.8888888888888888,
              "#fdca26"
             ],
             [
              1,
              "#f0f921"
             ]
            ],
            "type": "contour"
           }
          ],
          "contourcarpet": [
           {
            "colorbar": {
             "outlinewidth": 0,
             "ticks": ""
            },
            "type": "contourcarpet"
           }
          ],
          "heatmap": [
           {
            "colorbar": {
             "outlinewidth": 0,
             "ticks": ""
            },
            "colorscale": [
             [
              0,
              "#0d0887"
             ],
             [
              0.1111111111111111,
              "#46039f"
             ],
             [
              0.2222222222222222,
              "#7201a8"
             ],
             [
              0.3333333333333333,
              "#9c179e"
             ],
             [
              0.4444444444444444,
              "#bd3786"
             ],
             [
              0.5555555555555556,
              "#d8576b"
             ],
             [
              0.6666666666666666,
              "#ed7953"
             ],
             [
              0.7777777777777778,
              "#fb9f3a"
             ],
             [
              0.8888888888888888,
              "#fdca26"
             ],
             [
              1,
              "#f0f921"
             ]
            ],
            "type": "heatmap"
           }
          ],
          "heatmapgl": [
           {
            "colorbar": {
             "outlinewidth": 0,
             "ticks": ""
            },
            "colorscale": [
             [
              0,
              "#0d0887"
             ],
             [
              0.1111111111111111,
              "#46039f"
             ],
             [
              0.2222222222222222,
              "#7201a8"
             ],
             [
              0.3333333333333333,
              "#9c179e"
             ],
             [
              0.4444444444444444,
              "#bd3786"
             ],
             [
              0.5555555555555556,
              "#d8576b"
             ],
             [
              0.6666666666666666,
              "#ed7953"
             ],
             [
              0.7777777777777778,
              "#fb9f3a"
             ],
             [
              0.8888888888888888,
              "#fdca26"
             ],
             [
              1,
              "#f0f921"
             ]
            ],
            "type": "heatmapgl"
           }
          ],
          "histogram": [
           {
            "marker": {
             "pattern": {
              "fillmode": "overlay",
              "size": 10,
              "solidity": 0.2
             }
            },
            "type": "histogram"
           }
          ],
          "histogram2d": [
           {
            "colorbar": {
             "outlinewidth": 0,
             "ticks": ""
            },
            "colorscale": [
             [
              0,
              "#0d0887"
             ],
             [
              0.1111111111111111,
              "#46039f"
             ],
             [
              0.2222222222222222,
              "#7201a8"
             ],
             [
              0.3333333333333333,
              "#9c179e"
             ],
             [
              0.4444444444444444,
              "#bd3786"
             ],
             [
              0.5555555555555556,
              "#d8576b"
             ],
             [
              0.6666666666666666,
              "#ed7953"
             ],
             [
              0.7777777777777778,
              "#fb9f3a"
             ],
             [
              0.8888888888888888,
              "#fdca26"
             ],
             [
              1,
              "#f0f921"
             ]
            ],
            "type": "histogram2d"
           }
          ],
          "histogram2dcontour": [
           {
            "colorbar": {
             "outlinewidth": 0,
             "ticks": ""
            },
            "colorscale": [
             [
              0,
              "#0d0887"
             ],
             [
              0.1111111111111111,
              "#46039f"
             ],
             [
              0.2222222222222222,
              "#7201a8"
             ],
             [
              0.3333333333333333,
              "#9c179e"
             ],
             [
              0.4444444444444444,
              "#bd3786"
             ],
             [
              0.5555555555555556,
              "#d8576b"
             ],
             [
              0.6666666666666666,
              "#ed7953"
             ],
             [
              0.7777777777777778,
              "#fb9f3a"
             ],
             [
              0.8888888888888888,
              "#fdca26"
             ],
             [
              1,
              "#f0f921"
             ]
            ],
            "type": "histogram2dcontour"
           }
          ],
          "mesh3d": [
           {
            "colorbar": {
             "outlinewidth": 0,
             "ticks": ""
            },
            "type": "mesh3d"
           }
          ],
          "parcoords": [
           {
            "line": {
             "colorbar": {
              "outlinewidth": 0,
              "ticks": ""
             }
            },
            "type": "parcoords"
           }
          ],
          "pie": [
           {
            "automargin": true,
            "type": "pie"
           }
          ],
          "scatter": [
           {
            "fillpattern": {
             "fillmode": "overlay",
             "size": 10,
             "solidity": 0.2
            },
            "type": "scatter"
           }
          ],
          "scatter3d": [
           {
            "line": {
             "colorbar": {
              "outlinewidth": 0,
              "ticks": ""
             }
            },
            "marker": {
             "colorbar": {
              "outlinewidth": 0,
              "ticks": ""
             }
            },
            "type": "scatter3d"
           }
          ],
          "scattercarpet": [
           {
            "marker": {
             "colorbar": {
              "outlinewidth": 0,
              "ticks": ""
             }
            },
            "type": "scattercarpet"
           }
          ],
          "scattergeo": [
           {
            "marker": {
             "colorbar": {
              "outlinewidth": 0,
              "ticks": ""
             }
            },
            "type": "scattergeo"
           }
          ],
          "scattergl": [
           {
            "marker": {
             "colorbar": {
              "outlinewidth": 0,
              "ticks": ""
             }
            },
            "type": "scattergl"
           }
          ],
          "scattermapbox": [
           {
            "marker": {
             "colorbar": {
              "outlinewidth": 0,
              "ticks": ""
             }
            },
            "type": "scattermapbox"
           }
          ],
          "scatterpolar": [
           {
            "marker": {
             "colorbar": {
              "outlinewidth": 0,
              "ticks": ""
             }
            },
            "type": "scatterpolar"
           }
          ],
          "scatterpolargl": [
           {
            "marker": {
             "colorbar": {
              "outlinewidth": 0,
              "ticks": ""
             }
            },
            "type": "scatterpolargl"
           }
          ],
          "scatterternary": [
           {
            "marker": {
             "colorbar": {
              "outlinewidth": 0,
              "ticks": ""
             }
            },
            "type": "scatterternary"
           }
          ],
          "surface": [
           {
            "colorbar": {
             "outlinewidth": 0,
             "ticks": ""
            },
            "colorscale": [
             [
              0,
              "#0d0887"
             ],
             [
              0.1111111111111111,
              "#46039f"
             ],
             [
              0.2222222222222222,
              "#7201a8"
             ],
             [
              0.3333333333333333,
              "#9c179e"
             ],
             [
              0.4444444444444444,
              "#bd3786"
             ],
             [
              0.5555555555555556,
              "#d8576b"
             ],
             [
              0.6666666666666666,
              "#ed7953"
             ],
             [
              0.7777777777777778,
              "#fb9f3a"
             ],
             [
              0.8888888888888888,
              "#fdca26"
             ],
             [
              1,
              "#f0f921"
             ]
            ],
            "type": "surface"
           }
          ],
          "table": [
           {
            "cells": {
             "fill": {
              "color": "#EBF0F8"
             },
             "line": {
              "color": "white"
             }
            },
            "header": {
             "fill": {
              "color": "#C8D4E3"
             },
             "line": {
              "color": "white"
             }
            },
            "type": "table"
           }
          ]
         },
         "layout": {
          "annotationdefaults": {
           "arrowcolor": "#2a3f5f",
           "arrowhead": 0,
           "arrowwidth": 1
          },
          "autotypenumbers": "strict",
          "coloraxis": {
           "colorbar": {
            "outlinewidth": 0,
            "ticks": ""
           }
          },
          "colorscale": {
           "diverging": [
            [
             0,
             "#8e0152"
            ],
            [
             0.1,
             "#c51b7d"
            ],
            [
             0.2,
             "#de77ae"
            ],
            [
             0.3,
             "#f1b6da"
            ],
            [
             0.4,
             "#fde0ef"
            ],
            [
             0.5,
             "#f7f7f7"
            ],
            [
             0.6,
             "#e6f5d0"
            ],
            [
             0.7,
             "#b8e186"
            ],
            [
             0.8,
             "#7fbc41"
            ],
            [
             0.9,
             "#4d9221"
            ],
            [
             1,
             "#276419"
            ]
           ],
           "sequential": [
            [
             0,
             "#0d0887"
            ],
            [
             0.1111111111111111,
             "#46039f"
            ],
            [
             0.2222222222222222,
             "#7201a8"
            ],
            [
             0.3333333333333333,
             "#9c179e"
            ],
            [
             0.4444444444444444,
             "#bd3786"
            ],
            [
             0.5555555555555556,
             "#d8576b"
            ],
            [
             0.6666666666666666,
             "#ed7953"
            ],
            [
             0.7777777777777778,
             "#fb9f3a"
            ],
            [
             0.8888888888888888,
             "#fdca26"
            ],
            [
             1,
             "#f0f921"
            ]
           ],
           "sequentialminus": [
            [
             0,
             "#0d0887"
            ],
            [
             0.1111111111111111,
             "#46039f"
            ],
            [
             0.2222222222222222,
             "#7201a8"
            ],
            [
             0.3333333333333333,
             "#9c179e"
            ],
            [
             0.4444444444444444,
             "#bd3786"
            ],
            [
             0.5555555555555556,
             "#d8576b"
            ],
            [
             0.6666666666666666,
             "#ed7953"
            ],
            [
             0.7777777777777778,
             "#fb9f3a"
            ],
            [
             0.8888888888888888,
             "#fdca26"
            ],
            [
             1,
             "#f0f921"
            ]
           ]
          },
          "colorway": [
           "#636efa",
           "#EF553B",
           "#00cc96",
           "#ab63fa",
           "#FFA15A",
           "#19d3f3",
           "#FF6692",
           "#B6E880",
           "#FF97FF",
           "#FECB52"
          ],
          "font": {
           "color": "#2a3f5f"
          },
          "geo": {
           "bgcolor": "white",
           "lakecolor": "white",
           "landcolor": "#E5ECF6",
           "showlakes": true,
           "showland": true,
           "subunitcolor": "white"
          },
          "hoverlabel": {
           "align": "left"
          },
          "hovermode": "closest",
          "mapbox": {
           "style": "light"
          },
          "paper_bgcolor": "white",
          "plot_bgcolor": "#E5ECF6",
          "polar": {
           "angularaxis": {
            "gridcolor": "white",
            "linecolor": "white",
            "ticks": ""
           },
           "bgcolor": "#E5ECF6",
           "radialaxis": {
            "gridcolor": "white",
            "linecolor": "white",
            "ticks": ""
           }
          },
          "scene": {
           "xaxis": {
            "backgroundcolor": "#E5ECF6",
            "gridcolor": "white",
            "gridwidth": 2,
            "linecolor": "white",
            "showbackground": true,
            "ticks": "",
            "zerolinecolor": "white"
           },
           "yaxis": {
            "backgroundcolor": "#E5ECF6",
            "gridcolor": "white",
            "gridwidth": 2,
            "linecolor": "white",
            "showbackground": true,
            "ticks": "",
            "zerolinecolor": "white"
           },
           "zaxis": {
            "backgroundcolor": "#E5ECF6",
            "gridcolor": "white",
            "gridwidth": 2,
            "linecolor": "white",
            "showbackground": true,
            "ticks": "",
            "zerolinecolor": "white"
           }
          },
          "shapedefaults": {
           "line": {
            "color": "#2a3f5f"
           }
          },
          "ternary": {
           "aaxis": {
            "gridcolor": "white",
            "linecolor": "white",
            "ticks": ""
           },
           "baxis": {
            "gridcolor": "white",
            "linecolor": "white",
            "ticks": ""
           },
           "bgcolor": "#E5ECF6",
           "caxis": {
            "gridcolor": "white",
            "linecolor": "white",
            "ticks": ""
           }
          },
          "title": {
           "x": 0.05
          },
          "xaxis": {
           "automargin": true,
           "gridcolor": "white",
           "linecolor": "white",
           "ticks": "",
           "title": {
            "standoff": 15
           },
           "zerolinecolor": "white",
           "zerolinewidth": 2
          },
          "yaxis": {
           "automargin": true,
           "gridcolor": "white",
           "linecolor": "white",
           "ticks": "",
           "title": {
            "standoff": 15
           },
           "zerolinecolor": "white",
           "zerolinewidth": 2
          }
         }
        },
        "title": {
         "text": ""
        }
       }
      },
      "text/html": [
       "<div>                            <div id=\"bb97e2ad-fb2a-4d68-a5bf-499fa4712861\" class=\"plotly-graph-div\" style=\"height:525px; width:100%;\"></div>            <script type=\"text/javascript\">                require([\"plotly\"], function(Plotly) {                    window.PLOTLYENV=window.PLOTLYENV || {};                                    if (document.getElementById(\"bb97e2ad-fb2a-4d68-a5bf-499fa4712861\")) {                    Plotly.newPlot(                        \"bb97e2ad-fb2a-4d68-a5bf-499fa4712861\",                        [{\"lat\":[33.4634,33.4634],\"line\":{\"color\":\"darkseagreen\",\"width\":3},\"lon\":[-7.3913,-7.3913],\"mode\":\"lines\",\"opacity\":0.8,\"type\":\"scattermapbox\"},{\"lat\":[32.79667142857143,32.79667142857143],\"line\":{\"color\":\"darkseagreen\",\"width\":3},\"lon\":[-6.740678571428572,-6.740678571428572],\"mode\":\"lines\",\"opacity\":0.8,\"type\":\"scattermapbox\"},{\"lat\":[33.07327741935483,33.07327741935483],\"line\":{\"color\":\"darkseagreen\",\"width\":3},\"lon\":[-7.505829032258065,-7.505829032258065],\"mode\":\"lines\",\"opacity\":0.8,\"type\":\"scattermapbox\"},{\"lat\":[34.69427142857143,34.69427142857143],\"line\":{\"color\":\"darkseagreen\",\"width\":3},\"lon\":[-2.515971428571429,-2.515971428571429],\"mode\":\"lines\",\"opacity\":0.8,\"type\":\"scattermapbox\"},{\"lat\":[34.23870000000001,34.23870000000001],\"line\":{\"color\":\"darkseagreen\",\"width\":3},\"lon\":[-2.07818,-2.07818],\"mode\":\"lines\",\"opacity\":0.8,\"type\":\"scattermapbox\"},{\"lat\":[35.112775,35.112775],\"line\":{\"color\":\"darkseagreen\",\"width\":3},\"lon\":[-3.1073500000000003,-3.1073500000000003],\"mode\":\"lines\",\"opacity\":0.8,\"type\":\"scattermapbox\"},{\"lat\":[34.660814285714295,34.660814285714295],\"line\":{\"color\":\"darkseagreen\",\"width\":3},\"lon\":[-1.9562571428571427,-1.9562571428571427],\"mode\":\"lines\",\"opacity\":0.8,\"type\":\"scattermapbox\"},{\"lat\":[33.750719999999994,33.750719999999994],\"line\":{\"color\":\"darkseagreen\",\"width\":3},\"lon\":[-6.169279999999999,-6.169279999999999],\"mode\":\"lines\",\"opacity\":0.8,\"type\":\"scattermapbox\"},{\"lat\":[34.00280000000001,34.00280000000001],\"line\":{\"color\":\"darkseagreen\",\"width\":3},\"lon\":[-6.68555,-6.68555],\"mode\":\"lines\",\"opacity\":0.8,\"type\":\"scattermapbox\"},{\"lat\":[33.879,33.879],\"line\":{\"color\":\"darkseagreen\",\"width\":3},\"lon\":[-6.8294500000000005,-6.8294500000000005],\"mode\":\"lines\",\"opacity\":0.8,\"type\":\"scattermapbox\"},{\"lat\":[30.422941666666663,30.422941666666663],\"line\":{\"color\":\"darkseagreen\",\"width\":3},\"lon\":[-9.499433333333334,-9.499433333333334],\"mode\":\"lines\",\"opacity\":0.8,\"type\":\"scattermapbox\"},{\"lat\":[30.15175,30.15175],\"line\":{\"color\":\"darkseagreen\",\"width\":3},\"lon\":[-9.3264,-9.3264],\"mode\":\"lines\",\"opacity\":0.8,\"type\":\"scattermapbox\"},{\"lat\":[30.3944,30.3944],\"line\":{\"color\":\"darkseagreen\",\"width\":3},\"lon\":[-9.375633333333333,-9.375633333333333],\"mode\":\"lines\",\"opacity\":0.8,\"type\":\"scattermapbox\"},{\"lat\":[31.24959166666666,31.24959166666666],\"line\":{\"color\":\"darkseagreen\",\"width\":3},\"lon\":[-6.162158333333334,-6.162158333333334],\"mode\":\"lines\",\"opacity\":0.8,\"type\":\"scattermapbox\"},{\"lat\":[30.479766666666666,30.479766666666666],\"line\":{\"color\":\"darkseagreen\",\"width\":3},\"lon\":[-8.771733333333335,-8.771733333333335],\"mode\":\"lines\",\"opacity\":0.8,\"type\":\"scattermapbox\"},{\"lat\":[29.629780000000004,29.629780000000004],\"line\":{\"color\":\"darkseagreen\",\"width\":3},\"lon\":[-9.651570000000001,-9.651570000000001],\"mode\":\"lines\",\"opacity\":0.8,\"type\":\"scattermapbox\"},{\"lat\":[30.686,30.686],\"line\":{\"color\":\"darkseagreen\",\"width\":3},\"lon\":[-6.4549,-6.4549],\"mode\":\"lines\",\"opacity\":0.8,\"type\":\"scattermapbox\"},{\"lat\":[32.05041666666667,32.05041666666667],\"line\":{\"color\":\"darkseagreen\",\"width\":3},\"lon\":[-6.5981499999999995,-6.5981499999999995],\"mode\":\"lines\",\"opacity\":0.8,\"type\":\"scattermapbox\"},{\"lat\":[32.5377,32.5377],\"line\":{\"color\":\"darkseagreen\",\"width\":3},\"lon\":[-6.4784999999999995,-6.4784999999999995],\"mode\":\"lines\",\"opacity\":0.8,\"type\":\"scattermapbox\"},{\"lat\":[35.2168,35.2168],\"line\":{\"color\":\"darkseagreen\",\"width\":3},\"lon\":[-5.3161,-5.3161],\"mode\":\"lines\",\"opacity\":0.8,\"type\":\"scattermapbox\"},{\"lat\":[35.711222222222226,35.711222222222226],\"line\":{\"color\":\"darkseagreen\",\"width\":3},\"lon\":[-5.741122222222223,-5.741122222222223],\"mode\":\"lines\",\"opacity\":0.8,\"type\":\"scattermapbox\"},{\"lat\":[35.044399999999996,35.044399999999996],\"line\":{\"color\":\"darkseagreen\",\"width\":3},\"lon\":[-6.0274,-6.0274],\"mode\":\"lines\",\"opacity\":0.8,\"type\":\"scattermapbox\"},{\"lat\":[35.68683333333333,35.68683333333333],\"line\":{\"color\":\"darkseagreen\",\"width\":3},\"lon\":[-5.847783333333333,-5.847783333333333],\"mode\":\"lines\",\"opacity\":0.8,\"type\":\"scattermapbox\"},{\"lat\":[35.68363888888889,35.68363888888889],\"line\":{\"color\":\"darkseagreen\",\"width\":3},\"lon\":[-5.524394444444444,-5.524394444444444],\"mode\":\"lines\",\"opacity\":0.8,\"type\":\"scattermapbox\"},{\"lat\":[35.078871428571425,35.078871428571425],\"line\":{\"color\":\"darkseagreen\",\"width\":3},\"lon\":[-3.9425714285714286,-3.9425714285714286],\"mode\":\"lines\",\"opacity\":0.8,\"type\":\"scattermapbox\"},{\"lat\":[34.114066666666666,34.114066666666666],\"line\":{\"color\":\"darkseagreen\",\"width\":3},\"lon\":[-4.678366666666666,-4.678366666666666],\"mode\":\"lines\",\"opacity\":0.8,\"type\":\"scattermapbox\"},{\"lat\":[34.27955,34.27955],\"line\":{\"color\":\"darkseagreen\",\"width\":3},\"lon\":[-3.8487999999999998,-3.8487999999999998],\"mode\":\"lines\",\"opacity\":0.8,\"type\":\"scattermapbox\"},{\"lat\":[33.087434782608696,33.087434782608696],\"line\":{\"color\":\"darkseagreen\",\"width\":3},\"lon\":[-8.417773913043478,-8.417773913043478],\"mode\":\"lines\",\"opacity\":0.8,\"type\":\"scattermapbox\"},{\"lat\":[32.07396,32.07396],\"line\":{\"color\":\"darkseagreen\",\"width\":3},\"lon\":[-8.806899999999999,-8.806899999999999],\"mode\":\"lines\",\"opacity\":0.8,\"type\":\"scattermapbox\"},{\"lat\":[34.00962,34.00962],\"line\":{\"color\":\"darkseagreen\",\"width\":3},\"lon\":[-4.97278,-4.97278],\"mode\":\"lines\",\"opacity\":0.8,\"type\":\"scattermapbox\"},{\"lat\":[33.90866,33.90866],\"line\":{\"color\":\"darkseagreen\",\"width\":3},\"lon\":[-4.76906,-4.76906],\"mode\":\"lines\",\"opacity\":0.8,\"type\":\"scattermapbox\"},{\"lat\":[34.02445714285714,34.02445714285714],\"line\":{\"color\":\"darkseagreen\",\"width\":3},\"lon\":[-5.082385714285714,-5.082385714285714],\"mode\":\"lines\",\"opacity\":0.8,\"type\":\"scattermapbox\"},{\"lat\":[34.63645714285714,34.63645714285714],\"line\":{\"color\":\"darkseagreen\",\"width\":3},\"lon\":[-6.167271428571429,-6.167271428571429],\"mode\":\"lines\",\"opacity\":0.8,\"type\":\"scattermapbox\"},{\"lat\":[34.54973333333333,34.54973333333333],\"line\":{\"color\":\"darkseagreen\",\"width\":3},\"lon\":[-5.764466666666666,-5.764466666666666],\"mode\":\"lines\",\"opacity\":0.8,\"type\":\"scattermapbox\"},{\"lat\":[33.53502307692308,33.53502307692308],\"line\":{\"color\":\"darkseagreen\",\"width\":3},\"lon\":[-7.547923076923078,-7.547923076923078],\"mode\":\"lines\",\"opacity\":0.8,\"type\":\"scattermapbox\"},{\"lat\":[33.66785,33.66785],\"line\":{\"color\":\"darkseagreen\",\"width\":3},\"lon\":[-7.4281500000000005,-7.4281500000000005],\"mode\":\"lines\",\"opacity\":0.8,\"type\":\"scattermapbox\"},{\"lat\":[28.479,28.479],\"line\":{\"color\":\"darkseagreen\",\"width\":3},\"lon\":[-11.1686,-11.1686],\"mode\":\"lines\",\"opacity\":0.8,\"type\":\"scattermapbox\"},{\"lat\":[31.60366666666667,31.60366666666667],\"line\":{\"color\":\"darkseagreen\",\"width\":3},\"lon\":[-7.5310999999999995,-7.5310999999999995],\"mode\":\"lines\",\"opacity\":0.8,\"type\":\"scattermapbox\"},{\"lat\":[31.486233333333335,31.486233333333335],\"line\":{\"color\":\"darkseagreen\",\"width\":3},\"lon\":[-8.718466666666666,-8.718466666666666],\"mode\":\"lines\",\"opacity\":0.8,\"type\":\"scattermapbox\"},{\"lat\":[32.143,32.143],\"line\":{\"color\":\"darkseagreen\",\"width\":3},\"lon\":[-7.823236363636363,-7.823236363636363],\"mode\":\"lines\",\"opacity\":0.8,\"type\":\"scattermapbox\"},{\"lat\":[31.5461,31.5461],\"line\":{\"color\":\"darkseagreen\",\"width\":3},\"lon\":[-9.5806,-9.5806],\"mode\":\"lines\",\"opacity\":0.8,\"type\":\"scattermapbox\"},{\"lat\":[31.707633333333334,31.707633333333334],\"line\":{\"color\":\"darkseagreen\",\"width\":3},\"lon\":[-8.105188888888888,-8.105188888888888],\"mode\":\"lines\",\"opacity\":0.8,\"type\":\"scattermapbox\"},{\"lat\":[33.6728,33.6728],\"line\":{\"color\":\"darkseagreen\",\"width\":3},\"lon\":[-5.5273,-5.5273],\"mode\":\"lines\",\"opacity\":0.8,\"type\":\"scattermapbox\"},{\"lat\":[31.7714,31.7714],\"line\":{\"color\":\"darkseagreen\",\"width\":3},\"lon\":[-4.49952,-4.49952],\"mode\":\"lines\",\"opacity\":0.8,\"type\":\"scattermapbox\"},{\"lat\":[33.495850000000004,33.495850000000004],\"line\":{\"color\":\"darkseagreen\",\"width\":3},\"lon\":[-5.1858,-5.1858],\"mode\":\"lines\",\"opacity\":0.8,\"type\":\"scattermapbox\"},{\"lat\":[32.894038461538464,32.894038461538464],\"line\":{\"color\":\"darkseagreen\",\"width\":3},\"lon\":[-5.277946153846154,-5.277946153846154],\"mode\":\"lines\",\"opacity\":0.8,\"type\":\"scattermapbox\"},{\"lat\":[33.94476666666666,33.94476666666666],\"line\":{\"color\":\"darkseagreen\",\"width\":3},\"lon\":[-5.611291666666666,-5.611291666666666],\"mode\":\"lines\",\"opacity\":0.8,\"type\":\"scattermapbox\"},{\"lat\":[33.4634,34.50457835347685],\"line\":{\"color\":\"darkseagreen\",\"width\":3},\"lon\":[-7.3913,-9.758585377234166],\"mode\":\"lines\",\"opacity\":0.8,\"type\":\"scattermapbox\"},{\"lat\":[32.79667142857143,34.50457835347685],\"line\":{\"color\":\"darkseagreen\",\"width\":3},\"lon\":[-6.740678571428572,-9.758585377234166],\"mode\":\"lines\",\"opacity\":0.8,\"type\":\"scattermapbox\"},{\"lat\":[33.07327741935483,34.50457835347685],\"line\":{\"color\":\"darkseagreen\",\"width\":3},\"lon\":[-7.505829032258065,-9.758585377234166],\"mode\":\"lines\",\"opacity\":0.8,\"type\":\"scattermapbox\"},{\"lat\":[34.69427142857143,34.50457835347685],\"line\":{\"color\":\"darkseagreen\",\"width\":3},\"lon\":[-2.515971428571429,-9.758585377234166],\"mode\":\"lines\",\"opacity\":0.8,\"type\":\"scattermapbox\"},{\"lat\":[34.23870000000001,34.50457835347685],\"line\":{\"color\":\"darkseagreen\",\"width\":3},\"lon\":[-2.07818,-9.758585377234166],\"mode\":\"lines\",\"opacity\":0.8,\"type\":\"scattermapbox\"},{\"lat\":[35.112775,34.50457835347685],\"line\":{\"color\":\"darkseagreen\",\"width\":3},\"lon\":[-3.1073500000000003,-9.758585377234166],\"mode\":\"lines\",\"opacity\":0.8,\"type\":\"scattermapbox\"},{\"lat\":[34.660814285714295,34.50457835347685],\"line\":{\"color\":\"darkseagreen\",\"width\":3},\"lon\":[-1.9562571428571427,-9.758585377234166],\"mode\":\"lines\",\"opacity\":0.8,\"type\":\"scattermapbox\"},{\"lat\":[33.750719999999994,34.50457835347685],\"line\":{\"color\":\"darkseagreen\",\"width\":3},\"lon\":[-6.169279999999999,-9.758585377234166],\"mode\":\"lines\",\"opacity\":0.8,\"type\":\"scattermapbox\"},{\"lat\":[34.00280000000001,34.50457835347685],\"line\":{\"color\":\"darkseagreen\",\"width\":3},\"lon\":[-6.68555,-9.758585377234166],\"mode\":\"lines\",\"opacity\":0.8,\"type\":\"scattermapbox\"},{\"lat\":[33.879,34.50457835347685],\"line\":{\"color\":\"darkseagreen\",\"width\":3},\"lon\":[-6.8294500000000005,-9.758585377234166],\"mode\":\"lines\",\"opacity\":0.8,\"type\":\"scattermapbox\"},{\"lat\":[30.422941666666663,34.50457835347685],\"line\":{\"color\":\"darkseagreen\",\"width\":3},\"lon\":[-9.499433333333334,-9.758585377234166],\"mode\":\"lines\",\"opacity\":0.8,\"type\":\"scattermapbox\"},{\"lat\":[30.15175,34.50457835347685],\"line\":{\"color\":\"darkseagreen\",\"width\":3},\"lon\":[-9.3264,-9.758585377234166],\"mode\":\"lines\",\"opacity\":0.8,\"type\":\"scattermapbox\"},{\"lat\":[30.3944,34.50457835347685],\"line\":{\"color\":\"darkseagreen\",\"width\":3},\"lon\":[-9.375633333333333,-9.758585377234166],\"mode\":\"lines\",\"opacity\":0.8,\"type\":\"scattermapbox\"},{\"lat\":[31.24959166666666,34.50457835347685],\"line\":{\"color\":\"darkseagreen\",\"width\":3},\"lon\":[-6.162158333333334,-9.758585377234166],\"mode\":\"lines\",\"opacity\":0.8,\"type\":\"scattermapbox\"},{\"lat\":[30.479766666666666,34.50457835347685],\"line\":{\"color\":\"darkseagreen\",\"width\":3},\"lon\":[-8.771733333333335,-9.758585377234166],\"mode\":\"lines\",\"opacity\":0.8,\"type\":\"scattermapbox\"},{\"lat\":[29.629780000000004,34.50457835347685],\"line\":{\"color\":\"darkseagreen\",\"width\":3},\"lon\":[-9.651570000000001,-9.758585377234166],\"mode\":\"lines\",\"opacity\":0.8,\"type\":\"scattermapbox\"},{\"lat\":[30.686,34.50457835347685],\"line\":{\"color\":\"darkseagreen\",\"width\":3},\"lon\":[-6.4549,-9.758585377234166],\"mode\":\"lines\",\"opacity\":0.8,\"type\":\"scattermapbox\"},{\"lat\":[32.05041666666667,34.50457835347685],\"line\":{\"color\":\"darkseagreen\",\"width\":3},\"lon\":[-6.5981499999999995,-9.758585377234166],\"mode\":\"lines\",\"opacity\":0.8,\"type\":\"scattermapbox\"},{\"lat\":[32.5377,34.50457835347685],\"line\":{\"color\":\"darkseagreen\",\"width\":3},\"lon\":[-6.4784999999999995,-9.758585377234166],\"mode\":\"lines\",\"opacity\":0.8,\"type\":\"scattermapbox\"},{\"lat\":[35.2168,34.50457835347685],\"line\":{\"color\":\"darkseagreen\",\"width\":3},\"lon\":[-5.3161,-9.758585377234166],\"mode\":\"lines\",\"opacity\":0.8,\"type\":\"scattermapbox\"},{\"lat\":[35.711222222222226,34.50457835347685],\"line\":{\"color\":\"darkseagreen\",\"width\":3},\"lon\":[-5.741122222222223,-9.758585377234166],\"mode\":\"lines\",\"opacity\":0.8,\"type\":\"scattermapbox\"},{\"lat\":[35.044399999999996,34.50457835347685],\"line\":{\"color\":\"darkseagreen\",\"width\":3},\"lon\":[-6.0274,-9.758585377234166],\"mode\":\"lines\",\"opacity\":0.8,\"type\":\"scattermapbox\"},{\"lat\":[35.68683333333333,34.50457835347685],\"line\":{\"color\":\"darkseagreen\",\"width\":3},\"lon\":[-5.847783333333333,-9.758585377234166],\"mode\":\"lines\",\"opacity\":0.8,\"type\":\"scattermapbox\"},{\"lat\":[35.68363888888889,34.50457835347685],\"line\":{\"color\":\"darkseagreen\",\"width\":3},\"lon\":[-5.524394444444444,-9.758585377234166],\"mode\":\"lines\",\"opacity\":0.8,\"type\":\"scattermapbox\"},{\"lat\":[35.078871428571425,34.50457835347685],\"line\":{\"color\":\"darkseagreen\",\"width\":3},\"lon\":[-3.9425714285714286,-9.758585377234166],\"mode\":\"lines\",\"opacity\":0.8,\"type\":\"scattermapbox\"},{\"lat\":[34.114066666666666,34.50457835347685],\"line\":{\"color\":\"darkseagreen\",\"width\":3},\"lon\":[-4.678366666666666,-9.758585377234166],\"mode\":\"lines\",\"opacity\":0.8,\"type\":\"scattermapbox\"},{\"lat\":[34.27955,34.50457835347685],\"line\":{\"color\":\"darkseagreen\",\"width\":3},\"lon\":[-3.8487999999999998,-9.758585377234166],\"mode\":\"lines\",\"opacity\":0.8,\"type\":\"scattermapbox\"},{\"lat\":[33.087434782608696,34.50457835347685],\"line\":{\"color\":\"darkseagreen\",\"width\":3},\"lon\":[-8.417773913043478,-9.758585377234166],\"mode\":\"lines\",\"opacity\":0.8,\"type\":\"scattermapbox\"},{\"lat\":[32.07396,34.50457835347685],\"line\":{\"color\":\"darkseagreen\",\"width\":3},\"lon\":[-8.806899999999999,-9.758585377234166],\"mode\":\"lines\",\"opacity\":0.8,\"type\":\"scattermapbox\"},{\"lat\":[34.00962,34.50457835347685],\"line\":{\"color\":\"darkseagreen\",\"width\":3},\"lon\":[-4.97278,-9.758585377234166],\"mode\":\"lines\",\"opacity\":0.8,\"type\":\"scattermapbox\"},{\"lat\":[33.90866,34.50457835347685],\"line\":{\"color\":\"darkseagreen\",\"width\":3},\"lon\":[-4.76906,-9.758585377234166],\"mode\":\"lines\",\"opacity\":0.8,\"type\":\"scattermapbox\"},{\"lat\":[34.02445714285714,34.50457835347685],\"line\":{\"color\":\"darkseagreen\",\"width\":3},\"lon\":[-5.082385714285714,-9.758585377234166],\"mode\":\"lines\",\"opacity\":0.8,\"type\":\"scattermapbox\"},{\"lat\":[34.63645714285714,34.50457835347685],\"line\":{\"color\":\"darkseagreen\",\"width\":3},\"lon\":[-6.167271428571429,-9.758585377234166],\"mode\":\"lines\",\"opacity\":0.8,\"type\":\"scattermapbox\"},{\"lat\":[34.54973333333333,34.50457835347685],\"line\":{\"color\":\"darkseagreen\",\"width\":3},\"lon\":[-5.764466666666666,-9.758585377234166],\"mode\":\"lines\",\"opacity\":0.8,\"type\":\"scattermapbox\"},{\"lat\":[33.53502307692308,34.50457835347685],\"line\":{\"color\":\"darkseagreen\",\"width\":3},\"lon\":[-7.547923076923078,-9.758585377234166],\"mode\":\"lines\",\"opacity\":0.8,\"type\":\"scattermapbox\"},{\"lat\":[33.66785,34.50457835347685],\"line\":{\"color\":\"darkseagreen\",\"width\":3},\"lon\":[-7.4281500000000005,-9.758585377234166],\"mode\":\"lines\",\"opacity\":0.8,\"type\":\"scattermapbox\"},{\"lat\":[28.479,34.50457835347685],\"line\":{\"color\":\"darkseagreen\",\"width\":3},\"lon\":[-11.1686,-9.758585377234166],\"mode\":\"lines\",\"opacity\":0.8,\"type\":\"scattermapbox\"},{\"lat\":[31.60366666666667,34.50457835347685],\"line\":{\"color\":\"darkseagreen\",\"width\":3},\"lon\":[-7.5310999999999995,-9.758585377234166],\"mode\":\"lines\",\"opacity\":0.8,\"type\":\"scattermapbox\"},{\"lat\":[31.486233333333335,34.50457835347685],\"line\":{\"color\":\"darkseagreen\",\"width\":3},\"lon\":[-8.718466666666666,-9.758585377234166],\"mode\":\"lines\",\"opacity\":0.8,\"type\":\"scattermapbox\"},{\"lat\":[32.143,34.50457835347685],\"line\":{\"color\":\"darkseagreen\",\"width\":3},\"lon\":[-7.823236363636363,-9.758585377234166],\"mode\":\"lines\",\"opacity\":0.8,\"type\":\"scattermapbox\"},{\"lat\":[31.5461,34.50457835347685],\"line\":{\"color\":\"darkseagreen\",\"width\":3},\"lon\":[-9.5806,-9.758585377234166],\"mode\":\"lines\",\"opacity\":0.8,\"type\":\"scattermapbox\"},{\"lat\":[31.707633333333334,34.50457835347685],\"line\":{\"color\":\"darkseagreen\",\"width\":3},\"lon\":[-8.105188888888888,-9.758585377234166],\"mode\":\"lines\",\"opacity\":0.8,\"type\":\"scattermapbox\"},{\"lat\":[33.6728,34.50457835347685],\"line\":{\"color\":\"darkseagreen\",\"width\":3},\"lon\":[-5.5273,-9.758585377234166],\"mode\":\"lines\",\"opacity\":0.8,\"type\":\"scattermapbox\"},{\"lat\":[31.7714,34.50457835347685],\"line\":{\"color\":\"darkseagreen\",\"width\":3},\"lon\":[-4.49952,-9.758585377234166],\"mode\":\"lines\",\"opacity\":0.8,\"type\":\"scattermapbox\"},{\"lat\":[33.495850000000004,34.50457835347685],\"line\":{\"color\":\"darkseagreen\",\"width\":3},\"lon\":[-5.1858,-9.758585377234166],\"mode\":\"lines\",\"opacity\":0.8,\"type\":\"scattermapbox\"},{\"lat\":[32.894038461538464,34.50457835347685],\"line\":{\"color\":\"darkseagreen\",\"width\":3},\"lon\":[-5.277946153846154,-9.758585377234166],\"mode\":\"lines\",\"opacity\":0.8,\"type\":\"scattermapbox\"},{\"lat\":[33.94476666666666,34.50457835347685],\"line\":{\"color\":\"darkseagreen\",\"width\":3},\"lon\":[-5.611291666666666,-9.758585377234166],\"mode\":\"lines\",\"opacity\":0.8,\"type\":\"scattermapbox\"},{\"hoverinfo\":\"text\",\"lat\":[33.4634,32.79667142857143,33.07327741935483,34.69427142857143,34.23870000000001,35.112775,34.660814285714295,33.750719999999994,34.00280000000001,33.879,30.422941666666663,30.15175,30.3944,31.24959166666666,30.479766666666666,29.629780000000004,30.686,32.05041666666667,32.5377,35.2168,35.711222222222226,35.044399999999996,35.68683333333333,35.68363888888889,35.078871428571425,34.114066666666666,34.27955,33.087434782608696,32.07396,34.00962,33.90866,34.02445714285714,34.63645714285714,34.54973333333333,33.53502307692308,33.66785,28.479,31.60366666666667,31.486233333333335,32.143,31.5461,31.707633333333334,33.6728,31.7714,33.495850000000004,32.894038461538464,33.94476666666666,33.983989176738426,33.65062489102414,33.78892788641584,34.59942489102414,34.37163917673843,34.80867667673843,34.58269631959557,34.12764917673842,34.25368917673843,34.191789176738425,32.46376001007176,32.328164176738426,32.449489176738425,32.87708501007175,32.49217251007176,32.06717917673843,32.595289176738426,33.27749751007176,33.52113917673843,34.860689176738425,35.10790028784954,34.77448917673843,35.09570584340509,35.09410862118287,34.79172489102414,34.30932251007176,34.39206417673843,33.79600656804277,33.28926917673843,34.25709917673842,34.20661917673843,34.264517748166995,34.57051774816699,34.52715584340509,34.01980071519996,34.08621417673842,31.491789176738425,33.054122510071764,32.995405843405095,33.32378917673843,33.02533917673843,33.10610584340509,34.08868917673843,33.13798917673843,34.000214176738424,33.69930840750766,34.224672510071755],\"lon\":[-7.3913,-6.740678571428572,-7.505829032258065,-2.515971428571429,-2.07818,-3.1073500000000003,-1.9562571428571427,-6.169279999999999,-6.68555,-6.8294500000000005,-9.499433333333334,-9.3264,-9.375633333333333,-6.162158333333334,-8.771733333333335,-9.651570000000001,-6.4549,-6.5981499999999995,-6.4784999999999995,-5.3161,-5.741122222222223,-6.0274,-5.847783333333333,-5.524394444444444,-3.9425714285714286,-4.678366666666666,-3.8487999999999998,-8.417773913043478,-8.806899999999999,-4.97278,-4.76906,-5.082385714285714,-6.167271428571429,-5.764466666666666,-7.547923076923078,-7.4281500000000005,-11.1686,-7.5310999999999995,-8.718466666666666,-7.823236363636363,-9.5806,-8.105188888888888,-5.5273,-4.49952,-5.1858,-5.277946153846154,-5.611291666666666,-8.574942688617083,-8.249631974331368,-8.632207204746116,-6.137278402902798,-5.918382688617083,-6.432967688617083,-5.857421260045654,-7.963932688617082,-8.222067688617082,-8.294017688617084,-9.629009355283749,-9.542492688617083,-9.56710935528375,-7.96037185528375,-9.26515935528375,-9.705077688617084,-8.106742688617082,-8.178367688617083,-8.118542688617083,-7.537342688617082,-7.749853799728195,-7.892992688617083,-7.803184355283749,-7.641489910839304,-6.850578402902797,-7.218476021950416,-6.803692688617083,-9.088179645138823,-9.282742688617082,-7.365682688617083,-7.263822688617083,-7.42048554575994,-7.962928402902797,-7.7615260219504165,-8.653254227078621,-8.593367688617082,-10.463592688617084,-8.644842688617082,-9.238526021950417,-8.790910870435265,-9.669592688617083,-8.931887133061526,-7.642942688617083,-7.129052688617083,-7.472192688617083,-7.51826576554016,-7.684938521950416],\"marker\":{\"opacity\":0.0},\"mode\":\"markers\",\"text\":[\"Link MAR.1.1_1 H2 Electrolysis\",\"Link MAR.1.2_1 H2 Electrolysis\",\"Link MAR.1.3_1 H2 Electrolysis\",\"Link MAR.10.1_1 H2 Electrolysis\",\"Link MAR.10.3_1 H2 Electrolysis\",\"Link MAR.10.4_1 H2 Electrolysis\",\"Link MAR.10.5_1 H2 Electrolysis\",\"Link MAR.11.1_1 H2 Electrolysis\",\"Link MAR.11.3_1 H2 Electrolysis\",\"Link MAR.11.4_1 H2 Electrolysis\",\"Link MAR.12.1_1 H2 Electrolysis\",\"Link MAR.12.2_1 H2 Electrolysis\",\"Link MAR.12.3_1 H2 Electrolysis\",\"Link MAR.12.4_1 H2 Electrolysis\",\"Link MAR.12.5_1 H2 Electrolysis\",\"Link MAR.12.6_1 H2 Electrolysis\",\"Link MAR.12.7_1 H2 Electrolysis\",\"Link MAR.13.1_1 H2 Electrolysis\",\"Link MAR.13.2_1 H2 Electrolysis\",\"Link MAR.14.1_1 H2 Electrolysis\",\"Link MAR.14.2_1 H2 Electrolysis\",\"Link MAR.14.3_1 H2 Electrolysis\",\"Link MAR.14.4_1 H2 Electrolysis\",\"Link MAR.14.5_1 H2 Electrolysis\",\"Link MAR.15.1_1 H2 Electrolysis\",\"Link MAR.15.2_1 H2 Electrolysis\",\"Link MAR.15.3_1 H2 Electrolysis\",\"Link MAR.2.1_1 H2 Electrolysis\",\"Link MAR.2.2_1 H2 Electrolysis\",\"Link MAR.3.2_1 H2 Electrolysis\",\"Link MAR.3.3_1 H2 Electrolysis\",\"Link MAR.3.4_1 H2 Electrolysis\",\"Link MAR.4.1_1 H2 Electrolysis\",\"Link MAR.4.2_1 H2 Electrolysis\",\"Link MAR.5.1_1 H2 Electrolysis\",\"Link MAR.5.2_1 H2 Electrolysis\",\"Link MAR.6.3_1 H2 Electrolysis\",\"Link MAR.8.1_1 H2 Electrolysis\",\"Link MAR.8.2_1 H2 Electrolysis\",\"Link MAR.8.3_1 H2 Electrolysis\",\"Link MAR.8.4_1 H2 Electrolysis\",\"Link MAR.8.5_1 H2 Electrolysis\",\"Link MAR.9.1_1 H2 Electrolysis\",\"Link MAR.9.2_1 H2 Electrolysis\",\"Link MAR.9.3_1 H2 Electrolysis\",\"Link MAR.9.4_1 H2 Electrolysis\",\"Link MAR.9.5_1 H2 Electrolysis\",\"Link MAR.1.1_1 H2 export\",\"Link MAR.1.2_1 H2 export\",\"Link MAR.1.3_1 H2 export\",\"Link MAR.10.1_1 H2 export\",\"Link MAR.10.3_1 H2 export\",\"Link MAR.10.4_1 H2 export\",\"Link MAR.10.5_1 H2 export\",\"Link MAR.11.1_1 H2 export\",\"Link MAR.11.3_1 H2 export\",\"Link MAR.11.4_1 H2 export\",\"Link MAR.12.1_1 H2 export\",\"Link MAR.12.2_1 H2 export\",\"Link MAR.12.3_1 H2 export\",\"Link MAR.12.4_1 H2 export\",\"Link MAR.12.5_1 H2 export\",\"Link MAR.12.6_1 H2 export\",\"Link MAR.12.7_1 H2 export\",\"Link MAR.13.1_1 H2 export\",\"Link MAR.13.2_1 H2 export\",\"Link MAR.14.1_1 H2 export\",\"Link MAR.14.2_1 H2 export\",\"Link MAR.14.3_1 H2 export\",\"Link MAR.14.4_1 H2 export\",\"Link MAR.14.5_1 H2 export\",\"Link MAR.15.1_1 H2 export\",\"Link MAR.15.2_1 H2 export\",\"Link MAR.15.3_1 H2 export\",\"Link MAR.2.1_1 H2 export\",\"Link MAR.2.2_1 H2 export\",\"Link MAR.3.2_1 H2 export\",\"Link MAR.3.3_1 H2 export\",\"Link MAR.3.4_1 H2 export\",\"Link MAR.4.1_1 H2 export\",\"Link MAR.4.2_1 H2 export\",\"Link MAR.5.1_1 H2 export\",\"Link MAR.5.2_1 H2 export\",\"Link MAR.6.3_1 H2 export\",\"Link MAR.8.1_1 H2 export\",\"Link MAR.8.2_1 H2 export\",\"Link MAR.8.3_1 H2 export\",\"Link MAR.8.4_1 H2 export\",\"Link MAR.8.5_1 H2 export\",\"Link MAR.9.1_1 H2 export\",\"Link MAR.9.2_1 H2 export\",\"Link MAR.9.3_1 H2 export\",\"Link MAR.9.4_1 H2 export\",\"Link MAR.9.5_1 H2 export\"],\"type\":\"scattermapbox\"},{\"hoverinfo\":\"text\",\"lat\":[33.4634,32.79667142857143,33.07327741935483,34.69427142857143,34.23870000000001,35.112775,34.660814285714295,33.750719999999994,34.00280000000001,33.879,30.422941666666663,30.15175,30.3944,31.24959166666666,30.479766666666666,29.629780000000004,30.686,32.05041666666667,32.5377,35.2168,35.711222222222226,35.044399999999996,35.68683333333333,35.68363888888889,35.078871428571425,34.114066666666666,34.27955,33.087434782608696,32.07396,34.00962,33.90866,34.02445714285714,34.63645714285714,34.54973333333333,33.53502307692308,33.66785,28.479,31.60366666666667,31.486233333333335,32.143,31.5461,31.707633333333334,33.6728,31.7714,33.495850000000004,32.894038461538464,33.94476666666666,33.4634,32.79667142857143,33.07327741935483,34.69427142857143,34.23870000000001,35.112775,34.660814285714295,33.750719999999994,34.00280000000001,33.879,30.422941666666663,30.15175,30.3944,31.24959166666666,30.479766666666666,29.629780000000004,30.686,32.05041666666667,32.5377,35.2168,35.711222222222226,35.044399999999996,35.68683333333333,35.68363888888889,35.078871428571425,34.114066666666666,34.27955,33.087434782608696,32.07396,34.00962,33.90866,34.02445714285714,34.63645714285714,34.54973333333333,33.53502307692308,33.66785,28.479,31.60366666666667,31.486233333333335,32.143,31.5461,31.707633333333334,33.6728,31.7714,33.495850000000004,32.894038461538464,33.94476666666666,34.50457835347685],\"lon\":[-7.3913,-6.740678571428572,-7.505829032258065,-2.515971428571429,-2.07818,-3.1073500000000003,-1.9562571428571427,-6.169279999999999,-6.68555,-6.8294500000000005,-9.499433333333334,-9.3264,-9.375633333333333,-6.162158333333334,-8.771733333333335,-9.651570000000001,-6.4549,-6.5981499999999995,-6.4784999999999995,-5.3161,-5.741122222222223,-6.0274,-5.847783333333333,-5.524394444444444,-3.9425714285714286,-4.678366666666666,-3.8487999999999998,-8.417773913043478,-8.806899999999999,-4.97278,-4.76906,-5.082385714285714,-6.167271428571429,-5.764466666666666,-7.547923076923078,-7.4281500000000005,-11.1686,-7.5310999999999995,-8.718466666666666,-7.823236363636363,-9.5806,-8.105188888888888,-5.5273,-4.49952,-5.1858,-5.277946153846154,-5.611291666666666,-7.3913,-6.740678571428572,-7.505829032258065,-2.515971428571429,-2.07818,-3.1073500000000003,-1.9562571428571427,-6.169279999999999,-6.68555,-6.8294500000000005,-9.499433333333334,-9.3264,-9.375633333333333,-6.162158333333334,-8.771733333333335,-9.651570000000001,-6.4549,-6.5981499999999995,-6.4784999999999995,-5.3161,-5.741122222222223,-6.0274,-5.847783333333333,-5.524394444444444,-3.9425714285714286,-4.678366666666666,-3.8487999999999998,-8.417773913043478,-8.806899999999999,-4.97278,-4.76906,-5.082385714285714,-6.167271428571429,-5.764466666666666,-7.547923076923078,-7.4281500000000005,-11.1686,-7.5310999999999995,-8.718466666666666,-7.823236363636363,-9.5806,-8.105188888888888,-5.5273,-4.49952,-5.1858,-5.277946153846154,-5.611291666666666,-9.758585377234166],\"marker\":{\"color\":\"cadetblue\",\"size\":10},\"mode\":\"markers\",\"opacity\":1,\"text\":[\"Bus MAR.1.1_1\",\"Bus MAR.1.2_1\",\"Bus MAR.1.3_1\",\"Bus MAR.10.1_1\",\"Bus MAR.10.3_1\",\"Bus MAR.10.4_1\",\"Bus MAR.10.5_1\",\"Bus MAR.11.1_1\",\"Bus MAR.11.3_1\",\"Bus MAR.11.4_1\",\"Bus MAR.12.1_1\",\"Bus MAR.12.2_1\",\"Bus MAR.12.3_1\",\"Bus MAR.12.4_1\",\"Bus MAR.12.5_1\",\"Bus MAR.12.6_1\",\"Bus MAR.12.7_1\",\"Bus MAR.13.1_1\",\"Bus MAR.13.2_1\",\"Bus MAR.14.1_1\",\"Bus MAR.14.2_1\",\"Bus MAR.14.3_1\",\"Bus MAR.14.4_1\",\"Bus MAR.14.5_1\",\"Bus MAR.15.1_1\",\"Bus MAR.15.2_1\",\"Bus MAR.15.3_1\",\"Bus MAR.2.1_1\",\"Bus MAR.2.2_1\",\"Bus MAR.3.2_1\",\"Bus MAR.3.3_1\",\"Bus MAR.3.4_1\",\"Bus MAR.4.1_1\",\"Bus MAR.4.2_1\",\"Bus MAR.5.1_1\",\"Bus MAR.5.2_1\",\"Bus MAR.6.3_1\",\"Bus MAR.8.1_1\",\"Bus MAR.8.2_1\",\"Bus MAR.8.3_1\",\"Bus MAR.8.4_1\",\"Bus MAR.8.5_1\",\"Bus MAR.9.1_1\",\"Bus MAR.9.2_1\",\"Bus MAR.9.3_1\",\"Bus MAR.9.4_1\",\"Bus MAR.9.5_1\",\"Bus MAR.1.1_1 H2\",\"Bus MAR.1.2_1 H2\",\"Bus MAR.1.3_1 H2\",\"Bus MAR.10.1_1 H2\",\"Bus MAR.10.3_1 H2\",\"Bus MAR.10.4_1 H2\",\"Bus MAR.10.5_1 H2\",\"Bus MAR.11.1_1 H2\",\"Bus MAR.11.3_1 H2\",\"Bus MAR.11.4_1 H2\",\"Bus MAR.12.1_1 H2\",\"Bus MAR.12.2_1 H2\",\"Bus MAR.12.3_1 H2\",\"Bus MAR.12.4_1 H2\",\"Bus MAR.12.5_1 H2\",\"Bus MAR.12.6_1 H2\",\"Bus MAR.12.7_1 H2\",\"Bus MAR.13.1_1 H2\",\"Bus MAR.13.2_1 H2\",\"Bus MAR.14.1_1 H2\",\"Bus MAR.14.2_1 H2\",\"Bus MAR.14.3_1 H2\",\"Bus MAR.14.4_1 H2\",\"Bus MAR.14.5_1 H2\",\"Bus MAR.15.1_1 H2\",\"Bus MAR.15.2_1 H2\",\"Bus MAR.15.3_1 H2\",\"Bus MAR.2.1_1 H2\",\"Bus MAR.2.2_1 H2\",\"Bus MAR.3.2_1 H2\",\"Bus MAR.3.3_1 H2\",\"Bus MAR.3.4_1 H2\",\"Bus MAR.4.1_1 H2\",\"Bus MAR.4.2_1 H2\",\"Bus MAR.5.1_1 H2\",\"Bus MAR.5.2_1 H2\",\"Bus MAR.6.3_1 H2\",\"Bus MAR.8.1_1 H2\",\"Bus MAR.8.2_1 H2\",\"Bus MAR.8.3_1 H2\",\"Bus MAR.8.4_1 H2\",\"Bus MAR.8.5_1 H2\",\"Bus MAR.9.1_1 H2\",\"Bus MAR.9.2_1 H2\",\"Bus MAR.9.3_1 H2\",\"Bus MAR.9.4_1 H2\",\"Bus MAR.9.5_1 H2\",\"Bus H2 export bus\"],\"type\":\"scattermapbox\"}],                        {\"hovermode\":\"closest\",\"mapbox\":{\"center\":{\"lat\":32.09511111111111,\"lon\":-6.562428571428571},\"style\":\"open-street-map\",\"zoom\":2},\"showlegend\":false,\"template\":{\"data\":{\"barpolar\":[{\"marker\":{\"line\":{\"color\":\"#E5ECF6\",\"width\":0.5},\"pattern\":{\"fillmode\":\"overlay\",\"size\":10,\"solidity\":0.2}},\"type\":\"barpolar\"}],\"bar\":[{\"error_x\":{\"color\":\"#2a3f5f\"},\"error_y\":{\"color\":\"#2a3f5f\"},\"marker\":{\"line\":{\"color\":\"#E5ECF6\",\"width\":0.5},\"pattern\":{\"fillmode\":\"overlay\",\"size\":10,\"solidity\":0.2}},\"type\":\"bar\"}],\"carpet\":[{\"aaxis\":{\"endlinecolor\":\"#2a3f5f\",\"gridcolor\":\"white\",\"linecolor\":\"white\",\"minorgridcolor\":\"white\",\"startlinecolor\":\"#2a3f5f\"},\"baxis\":{\"endlinecolor\":\"#2a3f5f\",\"gridcolor\":\"white\",\"linecolor\":\"white\",\"minorgridcolor\":\"white\",\"startlinecolor\":\"#2a3f5f\"},\"type\":\"carpet\"}],\"choropleth\":[{\"colorbar\":{\"outlinewidth\":0,\"ticks\":\"\"},\"type\":\"choropleth\"}],\"contourcarpet\":[{\"colorbar\":{\"outlinewidth\":0,\"ticks\":\"\"},\"type\":\"contourcarpet\"}],\"contour\":[{\"colorbar\":{\"outlinewidth\":0,\"ticks\":\"\"},\"colorscale\":[[0.0,\"#0d0887\"],[0.1111111111111111,\"#46039f\"],[0.2222222222222222,\"#7201a8\"],[0.3333333333333333,\"#9c179e\"],[0.4444444444444444,\"#bd3786\"],[0.5555555555555556,\"#d8576b\"],[0.6666666666666666,\"#ed7953\"],[0.7777777777777778,\"#fb9f3a\"],[0.8888888888888888,\"#fdca26\"],[1.0,\"#f0f921\"]],\"type\":\"contour\"}],\"heatmapgl\":[{\"colorbar\":{\"outlinewidth\":0,\"ticks\":\"\"},\"colorscale\":[[0.0,\"#0d0887\"],[0.1111111111111111,\"#46039f\"],[0.2222222222222222,\"#7201a8\"],[0.3333333333333333,\"#9c179e\"],[0.4444444444444444,\"#bd3786\"],[0.5555555555555556,\"#d8576b\"],[0.6666666666666666,\"#ed7953\"],[0.7777777777777778,\"#fb9f3a\"],[0.8888888888888888,\"#fdca26\"],[1.0,\"#f0f921\"]],\"type\":\"heatmapgl\"}],\"heatmap\":[{\"colorbar\":{\"outlinewidth\":0,\"ticks\":\"\"},\"colorscale\":[[0.0,\"#0d0887\"],[0.1111111111111111,\"#46039f\"],[0.2222222222222222,\"#7201a8\"],[0.3333333333333333,\"#9c179e\"],[0.4444444444444444,\"#bd3786\"],[0.5555555555555556,\"#d8576b\"],[0.6666666666666666,\"#ed7953\"],[0.7777777777777778,\"#fb9f3a\"],[0.8888888888888888,\"#fdca26\"],[1.0,\"#f0f921\"]],\"type\":\"heatmap\"}],\"histogram2dcontour\":[{\"colorbar\":{\"outlinewidth\":0,\"ticks\":\"\"},\"colorscale\":[[0.0,\"#0d0887\"],[0.1111111111111111,\"#46039f\"],[0.2222222222222222,\"#7201a8\"],[0.3333333333333333,\"#9c179e\"],[0.4444444444444444,\"#bd3786\"],[0.5555555555555556,\"#d8576b\"],[0.6666666666666666,\"#ed7953\"],[0.7777777777777778,\"#fb9f3a\"],[0.8888888888888888,\"#fdca26\"],[1.0,\"#f0f921\"]],\"type\":\"histogram2dcontour\"}],\"histogram2d\":[{\"colorbar\":{\"outlinewidth\":0,\"ticks\":\"\"},\"colorscale\":[[0.0,\"#0d0887\"],[0.1111111111111111,\"#46039f\"],[0.2222222222222222,\"#7201a8\"],[0.3333333333333333,\"#9c179e\"],[0.4444444444444444,\"#bd3786\"],[0.5555555555555556,\"#d8576b\"],[0.6666666666666666,\"#ed7953\"],[0.7777777777777778,\"#fb9f3a\"],[0.8888888888888888,\"#fdca26\"],[1.0,\"#f0f921\"]],\"type\":\"histogram2d\"}],\"histogram\":[{\"marker\":{\"pattern\":{\"fillmode\":\"overlay\",\"size\":10,\"solidity\":0.2}},\"type\":\"histogram\"}],\"mesh3d\":[{\"colorbar\":{\"outlinewidth\":0,\"ticks\":\"\"},\"type\":\"mesh3d\"}],\"parcoords\":[{\"line\":{\"colorbar\":{\"outlinewidth\":0,\"ticks\":\"\"}},\"type\":\"parcoords\"}],\"pie\":[{\"automargin\":true,\"type\":\"pie\"}],\"scatter3d\":[{\"line\":{\"colorbar\":{\"outlinewidth\":0,\"ticks\":\"\"}},\"marker\":{\"colorbar\":{\"outlinewidth\":0,\"ticks\":\"\"}},\"type\":\"scatter3d\"}],\"scattercarpet\":[{\"marker\":{\"colorbar\":{\"outlinewidth\":0,\"ticks\":\"\"}},\"type\":\"scattercarpet\"}],\"scattergeo\":[{\"marker\":{\"colorbar\":{\"outlinewidth\":0,\"ticks\":\"\"}},\"type\":\"scattergeo\"}],\"scattergl\":[{\"marker\":{\"colorbar\":{\"outlinewidth\":0,\"ticks\":\"\"}},\"type\":\"scattergl\"}],\"scattermapbox\":[{\"marker\":{\"colorbar\":{\"outlinewidth\":0,\"ticks\":\"\"}},\"type\":\"scattermapbox\"}],\"scatterpolargl\":[{\"marker\":{\"colorbar\":{\"outlinewidth\":0,\"ticks\":\"\"}},\"type\":\"scatterpolargl\"}],\"scatterpolar\":[{\"marker\":{\"colorbar\":{\"outlinewidth\":0,\"ticks\":\"\"}},\"type\":\"scatterpolar\"}],\"scatter\":[{\"fillpattern\":{\"fillmode\":\"overlay\",\"size\":10,\"solidity\":0.2},\"type\":\"scatter\"}],\"scatterternary\":[{\"marker\":{\"colorbar\":{\"outlinewidth\":0,\"ticks\":\"\"}},\"type\":\"scatterternary\"}],\"surface\":[{\"colorbar\":{\"outlinewidth\":0,\"ticks\":\"\"},\"colorscale\":[[0.0,\"#0d0887\"],[0.1111111111111111,\"#46039f\"],[0.2222222222222222,\"#7201a8\"],[0.3333333333333333,\"#9c179e\"],[0.4444444444444444,\"#bd3786\"],[0.5555555555555556,\"#d8576b\"],[0.6666666666666666,\"#ed7953\"],[0.7777777777777778,\"#fb9f3a\"],[0.8888888888888888,\"#fdca26\"],[1.0,\"#f0f921\"]],\"type\":\"surface\"}],\"table\":[{\"cells\":{\"fill\":{\"color\":\"#EBF0F8\"},\"line\":{\"color\":\"white\"}},\"header\":{\"fill\":{\"color\":\"#C8D4E3\"},\"line\":{\"color\":\"white\"}},\"type\":\"table\"}]},\"layout\":{\"annotationdefaults\":{\"arrowcolor\":\"#2a3f5f\",\"arrowhead\":0,\"arrowwidth\":1},\"autotypenumbers\":\"strict\",\"coloraxis\":{\"colorbar\":{\"outlinewidth\":0,\"ticks\":\"\"}},\"colorscale\":{\"diverging\":[[0,\"#8e0152\"],[0.1,\"#c51b7d\"],[0.2,\"#de77ae\"],[0.3,\"#f1b6da\"],[0.4,\"#fde0ef\"],[0.5,\"#f7f7f7\"],[0.6,\"#e6f5d0\"],[0.7,\"#b8e186\"],[0.8,\"#7fbc41\"],[0.9,\"#4d9221\"],[1,\"#276419\"]],\"sequential\":[[0.0,\"#0d0887\"],[0.1111111111111111,\"#46039f\"],[0.2222222222222222,\"#7201a8\"],[0.3333333333333333,\"#9c179e\"],[0.4444444444444444,\"#bd3786\"],[0.5555555555555556,\"#d8576b\"],[0.6666666666666666,\"#ed7953\"],[0.7777777777777778,\"#fb9f3a\"],[0.8888888888888888,\"#fdca26\"],[1.0,\"#f0f921\"]],\"sequentialminus\":[[0.0,\"#0d0887\"],[0.1111111111111111,\"#46039f\"],[0.2222222222222222,\"#7201a8\"],[0.3333333333333333,\"#9c179e\"],[0.4444444444444444,\"#bd3786\"],[0.5555555555555556,\"#d8576b\"],[0.6666666666666666,\"#ed7953\"],[0.7777777777777778,\"#fb9f3a\"],[0.8888888888888888,\"#fdca26\"],[1.0,\"#f0f921\"]]},\"colorway\":[\"#636efa\",\"#EF553B\",\"#00cc96\",\"#ab63fa\",\"#FFA15A\",\"#19d3f3\",\"#FF6692\",\"#B6E880\",\"#FF97FF\",\"#FECB52\"],\"font\":{\"color\":\"#2a3f5f\"},\"geo\":{\"bgcolor\":\"white\",\"lakecolor\":\"white\",\"landcolor\":\"#E5ECF6\",\"showlakes\":true,\"showland\":true,\"subunitcolor\":\"white\"},\"hoverlabel\":{\"align\":\"left\"},\"hovermode\":\"closest\",\"mapbox\":{\"style\":\"light\"},\"paper_bgcolor\":\"white\",\"plot_bgcolor\":\"#E5ECF6\",\"polar\":{\"angularaxis\":{\"gridcolor\":\"white\",\"linecolor\":\"white\",\"ticks\":\"\"},\"bgcolor\":\"#E5ECF6\",\"radialaxis\":{\"gridcolor\":\"white\",\"linecolor\":\"white\",\"ticks\":\"\"}},\"scene\":{\"xaxis\":{\"backgroundcolor\":\"#E5ECF6\",\"gridcolor\":\"white\",\"gridwidth\":2,\"linecolor\":\"white\",\"showbackground\":true,\"ticks\":\"\",\"zerolinecolor\":\"white\"},\"yaxis\":{\"backgroundcolor\":\"#E5ECF6\",\"gridcolor\":\"white\",\"gridwidth\":2,\"linecolor\":\"white\",\"showbackground\":true,\"ticks\":\"\",\"zerolinecolor\":\"white\"},\"zaxis\":{\"backgroundcolor\":\"#E5ECF6\",\"gridcolor\":\"white\",\"gridwidth\":2,\"linecolor\":\"white\",\"showbackground\":true,\"ticks\":\"\",\"zerolinecolor\":\"white\"}},\"shapedefaults\":{\"line\":{\"color\":\"#2a3f5f\"}},\"ternary\":{\"aaxis\":{\"gridcolor\":\"white\",\"linecolor\":\"white\",\"ticks\":\"\"},\"baxis\":{\"gridcolor\":\"white\",\"linecolor\":\"white\",\"ticks\":\"\"},\"bgcolor\":\"#E5ECF6\",\"caxis\":{\"gridcolor\":\"white\",\"linecolor\":\"white\",\"ticks\":\"\"}},\"title\":{\"x\":0.05},\"xaxis\":{\"automargin\":true,\"gridcolor\":\"white\",\"linecolor\":\"white\",\"ticks\":\"\",\"title\":{\"standoff\":15},\"zerolinecolor\":\"white\",\"zerolinewidth\":2},\"yaxis\":{\"automargin\":true,\"gridcolor\":\"white\",\"linecolor\":\"white\",\"ticks\":\"\",\"title\":{\"standoff\":15},\"zerolinecolor\":\"white\",\"zerolinewidth\":2}}},\"title\":{\"text\":\"\"}},                        {\"responsive\": true}                    ).then(function(){\n",
       "                            \n",
       "var gd = document.getElementById('bb97e2ad-fb2a-4d68-a5bf-499fa4712861');\n",
       "var x = new MutationObserver(function (mutations, observer) {{\n",
       "        var display = window.getComputedStyle(gd).display;\n",
       "        if (!display || display === 'none') {{\n",
       "            console.log([gd, 'removed!']);\n",
       "            Plotly.purge(gd);\n",
       "            observer.disconnect();\n",
       "        }}\n",
       "}});\n",
       "\n",
       "// Listen for the removal of the full notebook cells\n",
       "var notebookContainer = gd.closest('#notebook-container');\n",
       "if (notebookContainer) {{\n",
       "    x.observe(notebookContainer, {childList: true});\n",
       "}}\n",
       "\n",
       "// Listen for the clearing of the current output cell\n",
       "var outputEl = gd.closest('.output');\n",
       "if (outputEl) {{\n",
       "    x.observe(outputEl, {childList: true});\n",
       "}}\n",
       "\n",
       "                        })                };                });            </script>        </div>"
      ]
     },
     "metadata": {},
     "output_type": "display_data"
    },
    {
     "data": {
      "text/plain": [
       "{'data': [Scattermapbox({\n",
       "      'lat': [33.4634, 33.4634],\n",
       "      'line': {'color': 'darkseagreen', 'width': 3},\n",
       "      'lon': [-7.3913, -7.3913],\n",
       "      'mode': 'lines',\n",
       "      'opacity': 0.8\n",
       "  }),\n",
       "  Scattermapbox({\n",
       "      'lat': [32.79667142857143, 32.79667142857143],\n",
       "      'line': {'color': 'darkseagreen', 'width': 3},\n",
       "      'lon': [-6.740678571428572, -6.740678571428572],\n",
       "      'mode': 'lines',\n",
       "      'opacity': 0.8\n",
       "  }),\n",
       "  Scattermapbox({\n",
       "      'lat': [33.07327741935483, 33.07327741935483],\n",
       "      'line': {'color': 'darkseagreen', 'width': 3},\n",
       "      'lon': [-7.505829032258065, -7.505829032258065],\n",
       "      'mode': 'lines',\n",
       "      'opacity': 0.8\n",
       "  }),\n",
       "  Scattermapbox({\n",
       "      'lat': [34.69427142857143, 34.69427142857143],\n",
       "      'line': {'color': 'darkseagreen', 'width': 3},\n",
       "      'lon': [-2.515971428571429, -2.515971428571429],\n",
       "      'mode': 'lines',\n",
       "      'opacity': 0.8\n",
       "  }),\n",
       "  Scattermapbox({\n",
       "      'lat': [34.23870000000001, 34.23870000000001],\n",
       "      'line': {'color': 'darkseagreen', 'width': 3},\n",
       "      'lon': [-2.07818, -2.07818],\n",
       "      'mode': 'lines',\n",
       "      'opacity': 0.8\n",
       "  }),\n",
       "  Scattermapbox({\n",
       "      'lat': [35.112775, 35.112775],\n",
       "      'line': {'color': 'darkseagreen', 'width': 3},\n",
       "      'lon': [-3.1073500000000003, -3.1073500000000003],\n",
       "      'mode': 'lines',\n",
       "      'opacity': 0.8\n",
       "  }),\n",
       "  Scattermapbox({\n",
       "      'lat': [34.660814285714295, 34.660814285714295],\n",
       "      'line': {'color': 'darkseagreen', 'width': 3},\n",
       "      'lon': [-1.9562571428571427, -1.9562571428571427],\n",
       "      'mode': 'lines',\n",
       "      'opacity': 0.8\n",
       "  }),\n",
       "  Scattermapbox({\n",
       "      'lat': [33.750719999999994, 33.750719999999994],\n",
       "      'line': {'color': 'darkseagreen', 'width': 3},\n",
       "      'lon': [-6.169279999999999, -6.169279999999999],\n",
       "      'mode': 'lines',\n",
       "      'opacity': 0.8\n",
       "  }),\n",
       "  Scattermapbox({\n",
       "      'lat': [34.00280000000001, 34.00280000000001],\n",
       "      'line': {'color': 'darkseagreen', 'width': 3},\n",
       "      'lon': [-6.68555, -6.68555],\n",
       "      'mode': 'lines',\n",
       "      'opacity': 0.8\n",
       "  }),\n",
       "  Scattermapbox({\n",
       "      'lat': [33.879, 33.879],\n",
       "      'line': {'color': 'darkseagreen', 'width': 3},\n",
       "      'lon': [-6.8294500000000005, -6.8294500000000005],\n",
       "      'mode': 'lines',\n",
       "      'opacity': 0.8\n",
       "  }),\n",
       "  Scattermapbox({\n",
       "      'lat': [30.422941666666663, 30.422941666666663],\n",
       "      'line': {'color': 'darkseagreen', 'width': 3},\n",
       "      'lon': [-9.499433333333334, -9.499433333333334],\n",
       "      'mode': 'lines',\n",
       "      'opacity': 0.8\n",
       "  }),\n",
       "  Scattermapbox({\n",
       "      'lat': [30.15175, 30.15175],\n",
       "      'line': {'color': 'darkseagreen', 'width': 3},\n",
       "      'lon': [-9.3264, -9.3264],\n",
       "      'mode': 'lines',\n",
       "      'opacity': 0.8\n",
       "  }),\n",
       "  Scattermapbox({\n",
       "      'lat': [30.3944, 30.3944],\n",
       "      'line': {'color': 'darkseagreen', 'width': 3},\n",
       "      'lon': [-9.375633333333333, -9.375633333333333],\n",
       "      'mode': 'lines',\n",
       "      'opacity': 0.8\n",
       "  }),\n",
       "  Scattermapbox({\n",
       "      'lat': [31.24959166666666, 31.24959166666666],\n",
       "      'line': {'color': 'darkseagreen', 'width': 3},\n",
       "      'lon': [-6.162158333333334, -6.162158333333334],\n",
       "      'mode': 'lines',\n",
       "      'opacity': 0.8\n",
       "  }),\n",
       "  Scattermapbox({\n",
       "      'lat': [30.479766666666666, 30.479766666666666],\n",
       "      'line': {'color': 'darkseagreen', 'width': 3},\n",
       "      'lon': [-8.771733333333335, -8.771733333333335],\n",
       "      'mode': 'lines',\n",
       "      'opacity': 0.8\n",
       "  }),\n",
       "  Scattermapbox({\n",
       "      'lat': [29.629780000000004, 29.629780000000004],\n",
       "      'line': {'color': 'darkseagreen', 'width': 3},\n",
       "      'lon': [-9.651570000000001, -9.651570000000001],\n",
       "      'mode': 'lines',\n",
       "      'opacity': 0.8\n",
       "  }),\n",
       "  Scattermapbox({\n",
       "      'lat': [30.686, 30.686],\n",
       "      'line': {'color': 'darkseagreen', 'width': 3},\n",
       "      'lon': [-6.4549, -6.4549],\n",
       "      'mode': 'lines',\n",
       "      'opacity': 0.8\n",
       "  }),\n",
       "  Scattermapbox({\n",
       "      'lat': [32.05041666666667, 32.05041666666667],\n",
       "      'line': {'color': 'darkseagreen', 'width': 3},\n",
       "      'lon': [-6.5981499999999995, -6.5981499999999995],\n",
       "      'mode': 'lines',\n",
       "      'opacity': 0.8\n",
       "  }),\n",
       "  Scattermapbox({\n",
       "      'lat': [32.5377, 32.5377],\n",
       "      'line': {'color': 'darkseagreen', 'width': 3},\n",
       "      'lon': [-6.4784999999999995, -6.4784999999999995],\n",
       "      'mode': 'lines',\n",
       "      'opacity': 0.8\n",
       "  }),\n",
       "  Scattermapbox({\n",
       "      'lat': [35.2168, 35.2168],\n",
       "      'line': {'color': 'darkseagreen', 'width': 3},\n",
       "      'lon': [-5.3161, -5.3161],\n",
       "      'mode': 'lines',\n",
       "      'opacity': 0.8\n",
       "  }),\n",
       "  Scattermapbox({\n",
       "      'lat': [35.711222222222226, 35.711222222222226],\n",
       "      'line': {'color': 'darkseagreen', 'width': 3},\n",
       "      'lon': [-5.741122222222223, -5.741122222222223],\n",
       "      'mode': 'lines',\n",
       "      'opacity': 0.8\n",
       "  }),\n",
       "  Scattermapbox({\n",
       "      'lat': [35.044399999999996, 35.044399999999996],\n",
       "      'line': {'color': 'darkseagreen', 'width': 3},\n",
       "      'lon': [-6.0274, -6.0274],\n",
       "      'mode': 'lines',\n",
       "      'opacity': 0.8\n",
       "  }),\n",
       "  Scattermapbox({\n",
       "      'lat': [35.68683333333333, 35.68683333333333],\n",
       "      'line': {'color': 'darkseagreen', 'width': 3},\n",
       "      'lon': [-5.847783333333333, -5.847783333333333],\n",
       "      'mode': 'lines',\n",
       "      'opacity': 0.8\n",
       "  }),\n",
       "  Scattermapbox({\n",
       "      'lat': [35.68363888888889, 35.68363888888889],\n",
       "      'line': {'color': 'darkseagreen', 'width': 3},\n",
       "      'lon': [-5.524394444444444, -5.524394444444444],\n",
       "      'mode': 'lines',\n",
       "      'opacity': 0.8\n",
       "  }),\n",
       "  Scattermapbox({\n",
       "      'lat': [35.078871428571425, 35.078871428571425],\n",
       "      'line': {'color': 'darkseagreen', 'width': 3},\n",
       "      'lon': [-3.9425714285714286, -3.9425714285714286],\n",
       "      'mode': 'lines',\n",
       "      'opacity': 0.8\n",
       "  }),\n",
       "  Scattermapbox({\n",
       "      'lat': [34.114066666666666, 34.114066666666666],\n",
       "      'line': {'color': 'darkseagreen', 'width': 3},\n",
       "      'lon': [-4.678366666666666, -4.678366666666666],\n",
       "      'mode': 'lines',\n",
       "      'opacity': 0.8\n",
       "  }),\n",
       "  Scattermapbox({\n",
       "      'lat': [34.27955, 34.27955],\n",
       "      'line': {'color': 'darkseagreen', 'width': 3},\n",
       "      'lon': [-3.8487999999999998, -3.8487999999999998],\n",
       "      'mode': 'lines',\n",
       "      'opacity': 0.8\n",
       "  }),\n",
       "  Scattermapbox({\n",
       "      'lat': [33.087434782608696, 33.087434782608696],\n",
       "      'line': {'color': 'darkseagreen', 'width': 3},\n",
       "      'lon': [-8.417773913043478, -8.417773913043478],\n",
       "      'mode': 'lines',\n",
       "      'opacity': 0.8\n",
       "  }),\n",
       "  Scattermapbox({\n",
       "      'lat': [32.07396, 32.07396],\n",
       "      'line': {'color': 'darkseagreen', 'width': 3},\n",
       "      'lon': [-8.806899999999999, -8.806899999999999],\n",
       "      'mode': 'lines',\n",
       "      'opacity': 0.8\n",
       "  }),\n",
       "  Scattermapbox({\n",
       "      'lat': [34.00962, 34.00962],\n",
       "      'line': {'color': 'darkseagreen', 'width': 3},\n",
       "      'lon': [-4.97278, -4.97278],\n",
       "      'mode': 'lines',\n",
       "      'opacity': 0.8\n",
       "  }),\n",
       "  Scattermapbox({\n",
       "      'lat': [33.90866, 33.90866],\n",
       "      'line': {'color': 'darkseagreen', 'width': 3},\n",
       "      'lon': [-4.76906, -4.76906],\n",
       "      'mode': 'lines',\n",
       "      'opacity': 0.8\n",
       "  }),\n",
       "  Scattermapbox({\n",
       "      'lat': [34.02445714285714, 34.02445714285714],\n",
       "      'line': {'color': 'darkseagreen', 'width': 3},\n",
       "      'lon': [-5.082385714285714, -5.082385714285714],\n",
       "      'mode': 'lines',\n",
       "      'opacity': 0.8\n",
       "  }),\n",
       "  Scattermapbox({\n",
       "      'lat': [34.63645714285714, 34.63645714285714],\n",
       "      'line': {'color': 'darkseagreen', 'width': 3},\n",
       "      'lon': [-6.167271428571429, -6.167271428571429],\n",
       "      'mode': 'lines',\n",
       "      'opacity': 0.8\n",
       "  }),\n",
       "  Scattermapbox({\n",
       "      'lat': [34.54973333333333, 34.54973333333333],\n",
       "      'line': {'color': 'darkseagreen', 'width': 3},\n",
       "      'lon': [-5.764466666666666, -5.764466666666666],\n",
       "      'mode': 'lines',\n",
       "      'opacity': 0.8\n",
       "  }),\n",
       "  Scattermapbox({\n",
       "      'lat': [33.53502307692308, 33.53502307692308],\n",
       "      'line': {'color': 'darkseagreen', 'width': 3},\n",
       "      'lon': [-7.547923076923078, -7.547923076923078],\n",
       "      'mode': 'lines',\n",
       "      'opacity': 0.8\n",
       "  }),\n",
       "  Scattermapbox({\n",
       "      'lat': [33.66785, 33.66785],\n",
       "      'line': {'color': 'darkseagreen', 'width': 3},\n",
       "      'lon': [-7.4281500000000005, -7.4281500000000005],\n",
       "      'mode': 'lines',\n",
       "      'opacity': 0.8\n",
       "  }),\n",
       "  Scattermapbox({\n",
       "      'lat': [28.479, 28.479],\n",
       "      'line': {'color': 'darkseagreen', 'width': 3},\n",
       "      'lon': [-11.1686, -11.1686],\n",
       "      'mode': 'lines',\n",
       "      'opacity': 0.8\n",
       "  }),\n",
       "  Scattermapbox({\n",
       "      'lat': [31.60366666666667, 31.60366666666667],\n",
       "      'line': {'color': 'darkseagreen', 'width': 3},\n",
       "      'lon': [-7.5310999999999995, -7.5310999999999995],\n",
       "      'mode': 'lines',\n",
       "      'opacity': 0.8\n",
       "  }),\n",
       "  Scattermapbox({\n",
       "      'lat': [31.486233333333335, 31.486233333333335],\n",
       "      'line': {'color': 'darkseagreen', 'width': 3},\n",
       "      'lon': [-8.718466666666666, -8.718466666666666],\n",
       "      'mode': 'lines',\n",
       "      'opacity': 0.8\n",
       "  }),\n",
       "  Scattermapbox({\n",
       "      'lat': [32.143, 32.143],\n",
       "      'line': {'color': 'darkseagreen', 'width': 3},\n",
       "      'lon': [-7.823236363636363, -7.823236363636363],\n",
       "      'mode': 'lines',\n",
       "      'opacity': 0.8\n",
       "  }),\n",
       "  Scattermapbox({\n",
       "      'lat': [31.5461, 31.5461],\n",
       "      'line': {'color': 'darkseagreen', 'width': 3},\n",
       "      'lon': [-9.5806, -9.5806],\n",
       "      'mode': 'lines',\n",
       "      'opacity': 0.8\n",
       "  }),\n",
       "  Scattermapbox({\n",
       "      'lat': [31.707633333333334, 31.707633333333334],\n",
       "      'line': {'color': 'darkseagreen', 'width': 3},\n",
       "      'lon': [-8.105188888888888, -8.105188888888888],\n",
       "      'mode': 'lines',\n",
       "      'opacity': 0.8\n",
       "  }),\n",
       "  Scattermapbox({\n",
       "      'lat': [33.6728, 33.6728],\n",
       "      'line': {'color': 'darkseagreen', 'width': 3},\n",
       "      'lon': [-5.5273, -5.5273],\n",
       "      'mode': 'lines',\n",
       "      'opacity': 0.8\n",
       "  }),\n",
       "  Scattermapbox({\n",
       "      'lat': [31.7714, 31.7714],\n",
       "      'line': {'color': 'darkseagreen', 'width': 3},\n",
       "      'lon': [-4.49952, -4.49952],\n",
       "      'mode': 'lines',\n",
       "      'opacity': 0.8\n",
       "  }),\n",
       "  Scattermapbox({\n",
       "      'lat': [33.495850000000004, 33.495850000000004],\n",
       "      'line': {'color': 'darkseagreen', 'width': 3},\n",
       "      'lon': [-5.1858, -5.1858],\n",
       "      'mode': 'lines',\n",
       "      'opacity': 0.8\n",
       "  }),\n",
       "  Scattermapbox({\n",
       "      'lat': [32.894038461538464, 32.894038461538464],\n",
       "      'line': {'color': 'darkseagreen', 'width': 3},\n",
       "      'lon': [-5.277946153846154, -5.277946153846154],\n",
       "      'mode': 'lines',\n",
       "      'opacity': 0.8\n",
       "  }),\n",
       "  Scattermapbox({\n",
       "      'lat': [33.94476666666666, 33.94476666666666],\n",
       "      'line': {'color': 'darkseagreen', 'width': 3},\n",
       "      'lon': [-5.611291666666666, -5.611291666666666],\n",
       "      'mode': 'lines',\n",
       "      'opacity': 0.8\n",
       "  }),\n",
       "  Scattermapbox({\n",
       "      'lat': [33.4634, 34.50457835347685],\n",
       "      'line': {'color': 'darkseagreen', 'width': 3},\n",
       "      'lon': [-7.3913, -9.758585377234166],\n",
       "      'mode': 'lines',\n",
       "      'opacity': 0.8\n",
       "  }),\n",
       "  Scattermapbox({\n",
       "      'lat': [32.79667142857143, 34.50457835347685],\n",
       "      'line': {'color': 'darkseagreen', 'width': 3},\n",
       "      'lon': [-6.740678571428572, -9.758585377234166],\n",
       "      'mode': 'lines',\n",
       "      'opacity': 0.8\n",
       "  }),\n",
       "  Scattermapbox({\n",
       "      'lat': [33.07327741935483, 34.50457835347685],\n",
       "      'line': {'color': 'darkseagreen', 'width': 3},\n",
       "      'lon': [-7.505829032258065, -9.758585377234166],\n",
       "      'mode': 'lines',\n",
       "      'opacity': 0.8\n",
       "  }),\n",
       "  Scattermapbox({\n",
       "      'lat': [34.69427142857143, 34.50457835347685],\n",
       "      'line': {'color': 'darkseagreen', 'width': 3},\n",
       "      'lon': [-2.515971428571429, -9.758585377234166],\n",
       "      'mode': 'lines',\n",
       "      'opacity': 0.8\n",
       "  }),\n",
       "  Scattermapbox({\n",
       "      'lat': [34.23870000000001, 34.50457835347685],\n",
       "      'line': {'color': 'darkseagreen', 'width': 3},\n",
       "      'lon': [-2.07818, -9.758585377234166],\n",
       "      'mode': 'lines',\n",
       "      'opacity': 0.8\n",
       "  }),\n",
       "  Scattermapbox({\n",
       "      'lat': [35.112775, 34.50457835347685],\n",
       "      'line': {'color': 'darkseagreen', 'width': 3},\n",
       "      'lon': [-3.1073500000000003, -9.758585377234166],\n",
       "      'mode': 'lines',\n",
       "      'opacity': 0.8\n",
       "  }),\n",
       "  Scattermapbox({\n",
       "      'lat': [34.660814285714295, 34.50457835347685],\n",
       "      'line': {'color': 'darkseagreen', 'width': 3},\n",
       "      'lon': [-1.9562571428571427, -9.758585377234166],\n",
       "      'mode': 'lines',\n",
       "      'opacity': 0.8\n",
       "  }),\n",
       "  Scattermapbox({\n",
       "      'lat': [33.750719999999994, 34.50457835347685],\n",
       "      'line': {'color': 'darkseagreen', 'width': 3},\n",
       "      'lon': [-6.169279999999999, -9.758585377234166],\n",
       "      'mode': 'lines',\n",
       "      'opacity': 0.8\n",
       "  }),\n",
       "  Scattermapbox({\n",
       "      'lat': [34.00280000000001, 34.50457835347685],\n",
       "      'line': {'color': 'darkseagreen', 'width': 3},\n",
       "      'lon': [-6.68555, -9.758585377234166],\n",
       "      'mode': 'lines',\n",
       "      'opacity': 0.8\n",
       "  }),\n",
       "  Scattermapbox({\n",
       "      'lat': [33.879, 34.50457835347685],\n",
       "      'line': {'color': 'darkseagreen', 'width': 3},\n",
       "      'lon': [-6.8294500000000005, -9.758585377234166],\n",
       "      'mode': 'lines',\n",
       "      'opacity': 0.8\n",
       "  }),\n",
       "  Scattermapbox({\n",
       "      'lat': [30.422941666666663, 34.50457835347685],\n",
       "      'line': {'color': 'darkseagreen', 'width': 3},\n",
       "      'lon': [-9.499433333333334, -9.758585377234166],\n",
       "      'mode': 'lines',\n",
       "      'opacity': 0.8\n",
       "  }),\n",
       "  Scattermapbox({\n",
       "      'lat': [30.15175, 34.50457835347685],\n",
       "      'line': {'color': 'darkseagreen', 'width': 3},\n",
       "      'lon': [-9.3264, -9.758585377234166],\n",
       "      'mode': 'lines',\n",
       "      'opacity': 0.8\n",
       "  }),\n",
       "  Scattermapbox({\n",
       "      'lat': [30.3944, 34.50457835347685],\n",
       "      'line': {'color': 'darkseagreen', 'width': 3},\n",
       "      'lon': [-9.375633333333333, -9.758585377234166],\n",
       "      'mode': 'lines',\n",
       "      'opacity': 0.8\n",
       "  }),\n",
       "  Scattermapbox({\n",
       "      'lat': [31.24959166666666, 34.50457835347685],\n",
       "      'line': {'color': 'darkseagreen', 'width': 3},\n",
       "      'lon': [-6.162158333333334, -9.758585377234166],\n",
       "      'mode': 'lines',\n",
       "      'opacity': 0.8\n",
       "  }),\n",
       "  Scattermapbox({\n",
       "      'lat': [30.479766666666666, 34.50457835347685],\n",
       "      'line': {'color': 'darkseagreen', 'width': 3},\n",
       "      'lon': [-8.771733333333335, -9.758585377234166],\n",
       "      'mode': 'lines',\n",
       "      'opacity': 0.8\n",
       "  }),\n",
       "  Scattermapbox({\n",
       "      'lat': [29.629780000000004, 34.50457835347685],\n",
       "      'line': {'color': 'darkseagreen', 'width': 3},\n",
       "      'lon': [-9.651570000000001, -9.758585377234166],\n",
       "      'mode': 'lines',\n",
       "      'opacity': 0.8\n",
       "  }),\n",
       "  Scattermapbox({\n",
       "      'lat': [30.686, 34.50457835347685],\n",
       "      'line': {'color': 'darkseagreen', 'width': 3},\n",
       "      'lon': [-6.4549, -9.758585377234166],\n",
       "      'mode': 'lines',\n",
       "      'opacity': 0.8\n",
       "  }),\n",
       "  Scattermapbox({\n",
       "      'lat': [32.05041666666667, 34.50457835347685],\n",
       "      'line': {'color': 'darkseagreen', 'width': 3},\n",
       "      'lon': [-6.5981499999999995, -9.758585377234166],\n",
       "      'mode': 'lines',\n",
       "      'opacity': 0.8\n",
       "  }),\n",
       "  Scattermapbox({\n",
       "      'lat': [32.5377, 34.50457835347685],\n",
       "      'line': {'color': 'darkseagreen', 'width': 3},\n",
       "      'lon': [-6.4784999999999995, -9.758585377234166],\n",
       "      'mode': 'lines',\n",
       "      'opacity': 0.8\n",
       "  }),\n",
       "  Scattermapbox({\n",
       "      'lat': [35.2168, 34.50457835347685],\n",
       "      'line': {'color': 'darkseagreen', 'width': 3},\n",
       "      'lon': [-5.3161, -9.758585377234166],\n",
       "      'mode': 'lines',\n",
       "      'opacity': 0.8\n",
       "  }),\n",
       "  Scattermapbox({\n",
       "      'lat': [35.711222222222226, 34.50457835347685],\n",
       "      'line': {'color': 'darkseagreen', 'width': 3},\n",
       "      'lon': [-5.741122222222223, -9.758585377234166],\n",
       "      'mode': 'lines',\n",
       "      'opacity': 0.8\n",
       "  }),\n",
       "  Scattermapbox({\n",
       "      'lat': [35.044399999999996, 34.50457835347685],\n",
       "      'line': {'color': 'darkseagreen', 'width': 3},\n",
       "      'lon': [-6.0274, -9.758585377234166],\n",
       "      'mode': 'lines',\n",
       "      'opacity': 0.8\n",
       "  }),\n",
       "  Scattermapbox({\n",
       "      'lat': [35.68683333333333, 34.50457835347685],\n",
       "      'line': {'color': 'darkseagreen', 'width': 3},\n",
       "      'lon': [-5.847783333333333, -9.758585377234166],\n",
       "      'mode': 'lines',\n",
       "      'opacity': 0.8\n",
       "  }),\n",
       "  Scattermapbox({\n",
       "      'lat': [35.68363888888889, 34.50457835347685],\n",
       "      'line': {'color': 'darkseagreen', 'width': 3},\n",
       "      'lon': [-5.524394444444444, -9.758585377234166],\n",
       "      'mode': 'lines',\n",
       "      'opacity': 0.8\n",
       "  }),\n",
       "  Scattermapbox({\n",
       "      'lat': [35.078871428571425, 34.50457835347685],\n",
       "      'line': {'color': 'darkseagreen', 'width': 3},\n",
       "      'lon': [-3.9425714285714286, -9.758585377234166],\n",
       "      'mode': 'lines',\n",
       "      'opacity': 0.8\n",
       "  }),\n",
       "  Scattermapbox({\n",
       "      'lat': [34.114066666666666, 34.50457835347685],\n",
       "      'line': {'color': 'darkseagreen', 'width': 3},\n",
       "      'lon': [-4.678366666666666, -9.758585377234166],\n",
       "      'mode': 'lines',\n",
       "      'opacity': 0.8\n",
       "  }),\n",
       "  Scattermapbox({\n",
       "      'lat': [34.27955, 34.50457835347685],\n",
       "      'line': {'color': 'darkseagreen', 'width': 3},\n",
       "      'lon': [-3.8487999999999998, -9.758585377234166],\n",
       "      'mode': 'lines',\n",
       "      'opacity': 0.8\n",
       "  }),\n",
       "  Scattermapbox({\n",
       "      'lat': [33.087434782608696, 34.50457835347685],\n",
       "      'line': {'color': 'darkseagreen', 'width': 3},\n",
       "      'lon': [-8.417773913043478, -9.758585377234166],\n",
       "      'mode': 'lines',\n",
       "      'opacity': 0.8\n",
       "  }),\n",
       "  Scattermapbox({\n",
       "      'lat': [32.07396, 34.50457835347685],\n",
       "      'line': {'color': 'darkseagreen', 'width': 3},\n",
       "      'lon': [-8.806899999999999, -9.758585377234166],\n",
       "      'mode': 'lines',\n",
       "      'opacity': 0.8\n",
       "  }),\n",
       "  Scattermapbox({\n",
       "      'lat': [34.00962, 34.50457835347685],\n",
       "      'line': {'color': 'darkseagreen', 'width': 3},\n",
       "      'lon': [-4.97278, -9.758585377234166],\n",
       "      'mode': 'lines',\n",
       "      'opacity': 0.8\n",
       "  }),\n",
       "  Scattermapbox({\n",
       "      'lat': [33.90866, 34.50457835347685],\n",
       "      'line': {'color': 'darkseagreen', 'width': 3},\n",
       "      'lon': [-4.76906, -9.758585377234166],\n",
       "      'mode': 'lines',\n",
       "      'opacity': 0.8\n",
       "  }),\n",
       "  Scattermapbox({\n",
       "      'lat': [34.02445714285714, 34.50457835347685],\n",
       "      'line': {'color': 'darkseagreen', 'width': 3},\n",
       "      'lon': [-5.082385714285714, -9.758585377234166],\n",
       "      'mode': 'lines',\n",
       "      'opacity': 0.8\n",
       "  }),\n",
       "  Scattermapbox({\n",
       "      'lat': [34.63645714285714, 34.50457835347685],\n",
       "      'line': {'color': 'darkseagreen', 'width': 3},\n",
       "      'lon': [-6.167271428571429, -9.758585377234166],\n",
       "      'mode': 'lines',\n",
       "      'opacity': 0.8\n",
       "  }),\n",
       "  Scattermapbox({\n",
       "      'lat': [34.54973333333333, 34.50457835347685],\n",
       "      'line': {'color': 'darkseagreen', 'width': 3},\n",
       "      'lon': [-5.764466666666666, -9.758585377234166],\n",
       "      'mode': 'lines',\n",
       "      'opacity': 0.8\n",
       "  }),\n",
       "  Scattermapbox({\n",
       "      'lat': [33.53502307692308, 34.50457835347685],\n",
       "      'line': {'color': 'darkseagreen', 'width': 3},\n",
       "      'lon': [-7.547923076923078, -9.758585377234166],\n",
       "      'mode': 'lines',\n",
       "      'opacity': 0.8\n",
       "  }),\n",
       "  Scattermapbox({\n",
       "      'lat': [33.66785, 34.50457835347685],\n",
       "      'line': {'color': 'darkseagreen', 'width': 3},\n",
       "      'lon': [-7.4281500000000005, -9.758585377234166],\n",
       "      'mode': 'lines',\n",
       "      'opacity': 0.8\n",
       "  }),\n",
       "  Scattermapbox({\n",
       "      'lat': [28.479, 34.50457835347685],\n",
       "      'line': {'color': 'darkseagreen', 'width': 3},\n",
       "      'lon': [-11.1686, -9.758585377234166],\n",
       "      'mode': 'lines',\n",
       "      'opacity': 0.8\n",
       "  }),\n",
       "  Scattermapbox({\n",
       "      'lat': [31.60366666666667, 34.50457835347685],\n",
       "      'line': {'color': 'darkseagreen', 'width': 3},\n",
       "      'lon': [-7.5310999999999995, -9.758585377234166],\n",
       "      'mode': 'lines',\n",
       "      'opacity': 0.8\n",
       "  }),\n",
       "  Scattermapbox({\n",
       "      'lat': [31.486233333333335, 34.50457835347685],\n",
       "      'line': {'color': 'darkseagreen', 'width': 3},\n",
       "      'lon': [-8.718466666666666, -9.758585377234166],\n",
       "      'mode': 'lines',\n",
       "      'opacity': 0.8\n",
       "  }),\n",
       "  Scattermapbox({\n",
       "      'lat': [32.143, 34.50457835347685],\n",
       "      'line': {'color': 'darkseagreen', 'width': 3},\n",
       "      'lon': [-7.823236363636363, -9.758585377234166],\n",
       "      'mode': 'lines',\n",
       "      'opacity': 0.8\n",
       "  }),\n",
       "  Scattermapbox({\n",
       "      'lat': [31.5461, 34.50457835347685],\n",
       "      'line': {'color': 'darkseagreen', 'width': 3},\n",
       "      'lon': [-9.5806, -9.758585377234166],\n",
       "      'mode': 'lines',\n",
       "      'opacity': 0.8\n",
       "  }),\n",
       "  Scattermapbox({\n",
       "      'lat': [31.707633333333334, 34.50457835347685],\n",
       "      'line': {'color': 'darkseagreen', 'width': 3},\n",
       "      'lon': [-8.105188888888888, -9.758585377234166],\n",
       "      'mode': 'lines',\n",
       "      'opacity': 0.8\n",
       "  }),\n",
       "  Scattermapbox({\n",
       "      'lat': [33.6728, 34.50457835347685],\n",
       "      'line': {'color': 'darkseagreen', 'width': 3},\n",
       "      'lon': [-5.5273, -9.758585377234166],\n",
       "      'mode': 'lines',\n",
       "      'opacity': 0.8\n",
       "  }),\n",
       "  Scattermapbox({\n",
       "      'lat': [31.7714, 34.50457835347685],\n",
       "      'line': {'color': 'darkseagreen', 'width': 3},\n",
       "      'lon': [-4.49952, -9.758585377234166],\n",
       "      'mode': 'lines',\n",
       "      'opacity': 0.8\n",
       "  }),\n",
       "  Scattermapbox({\n",
       "      'lat': [33.495850000000004, 34.50457835347685],\n",
       "      'line': {'color': 'darkseagreen', 'width': 3},\n",
       "      'lon': [-5.1858, -9.758585377234166],\n",
       "      'mode': 'lines',\n",
       "      'opacity': 0.8\n",
       "  }),\n",
       "  Scattermapbox({\n",
       "      'lat': [32.894038461538464, 34.50457835347685],\n",
       "      'line': {'color': 'darkseagreen', 'width': 3},\n",
       "      'lon': [-5.277946153846154, -9.758585377234166],\n",
       "      'mode': 'lines',\n",
       "      'opacity': 0.8\n",
       "  }),\n",
       "  Scattermapbox({\n",
       "      'lat': [33.94476666666666, 34.50457835347685],\n",
       "      'line': {'color': 'darkseagreen', 'width': 3},\n",
       "      'lon': [-5.611291666666666, -9.758585377234166],\n",
       "      'mode': 'lines',\n",
       "      'opacity': 0.8\n",
       "  }),\n",
       "  Scattermapbox({\n",
       "      'hoverinfo': 'text',\n",
       "      'lat': array([33.4634    , 32.79667143, 33.07327742, 34.69427143, 34.2387    ,\n",
       "                    35.112775  , 34.66081429, 33.75072   , 34.0028    , 33.879     ,\n",
       "                    30.42294167, 30.15175   , 30.3944    , 31.24959167, 30.47976667,\n",
       "                    29.62978   , 30.686     , 32.05041667, 32.5377    , 35.2168    ,\n",
       "                    35.71122222, 35.0444    , 35.68683333, 35.68363889, 35.07887143,\n",
       "                    34.11406667, 34.27955   , 33.08743478, 32.07396   , 34.00962   ,\n",
       "                    33.90866   , 34.02445714, 34.63645714, 34.54973333, 33.53502308,\n",
       "                    33.66785   , 28.479     , 31.60366667, 31.48623333, 32.143     ,\n",
       "                    31.5461    , 31.70763333, 33.6728    , 31.7714    , 33.49585   ,\n",
       "                    32.89403846, 33.94476667, 33.98398918, 33.65062489, 33.78892789,\n",
       "                    34.59942489, 34.37163918, 34.80867668, 34.58269632, 34.12764918,\n",
       "                    34.25368918, 34.19178918, 32.46376001, 32.32816418, 32.44948918,\n",
       "                    32.87708501, 32.49217251, 32.06717918, 32.59528918, 33.27749751,\n",
       "                    33.52113918, 34.86068918, 35.10790029, 34.77448918, 35.09570584,\n",
       "                    35.09410862, 34.79172489, 34.30932251, 34.39206418, 33.79600657,\n",
       "                    33.28926918, 34.25709918, 34.20661918, 34.26451775, 34.57051775,\n",
       "                    34.52715584, 34.01980072, 34.08621418, 31.49178918, 33.05412251,\n",
       "                    32.99540584, 33.32378918, 33.02533918, 33.10610584, 34.08868918,\n",
       "                    33.13798918, 34.00021418, 33.69930841, 34.22467251]),\n",
       "      'lon': array([ -7.3913    ,  -6.74067857,  -7.50582903,  -2.51597143,  -2.07818   ,\n",
       "                     -3.10735   ,  -1.95625714,  -6.16928   ,  -6.68555   ,  -6.82945   ,\n",
       "                     -9.49943333,  -9.3264    ,  -9.37563333,  -6.16215833,  -8.77173333,\n",
       "                     -9.65157   ,  -6.4549    ,  -6.59815   ,  -6.4785    ,  -5.3161    ,\n",
       "                     -5.74112222,  -6.0274    ,  -5.84778333,  -5.52439444,  -3.94257143,\n",
       "                     -4.67836667,  -3.8488    ,  -8.41777391,  -8.8069    ,  -4.97278   ,\n",
       "                     -4.76906   ,  -5.08238571,  -6.16727143,  -5.76446667,  -7.54792308,\n",
       "                     -7.42815   , -11.1686    ,  -7.5311    ,  -8.71846667,  -7.82323636,\n",
       "                     -9.5806    ,  -8.10518889,  -5.5273    ,  -4.49952   ,  -5.1858    ,\n",
       "                     -5.27794615,  -5.61129167,  -8.57494269,  -8.24963197,  -8.6322072 ,\n",
       "                     -6.1372784 ,  -5.91838269,  -6.43296769,  -5.85742126,  -7.96393269,\n",
       "                     -8.22206769,  -8.29401769,  -9.62900936,  -9.54249269,  -9.56710936,\n",
       "                     -7.96037186,  -9.26515936,  -9.70507769,  -8.10674269,  -8.17836769,\n",
       "                     -8.11854269,  -7.53734269,  -7.7498538 ,  -7.89299269,  -7.80318436,\n",
       "                     -7.64148991,  -6.8505784 ,  -7.21847602,  -6.80369269,  -9.08817965,\n",
       "                     -9.28274269,  -7.36568269,  -7.26382269,  -7.42048555,  -7.9629284 ,\n",
       "                     -7.76152602,  -8.65325423,  -8.59336769, -10.46359269,  -8.64484269,\n",
       "                     -9.23852602,  -8.79091087,  -9.66959269,  -8.93188713,  -7.64294269,\n",
       "                     -7.12905269,  -7.47219269,  -7.51826577,  -7.68493852]),\n",
       "      'marker': {'opacity': 0.0},\n",
       "      'mode': 'markers',\n",
       "      'text': array(['Link MAR.1.1_1 H2 Electrolysis', 'Link MAR.1.2_1 H2 Electrolysis',\n",
       "                     'Link MAR.1.3_1 H2 Electrolysis', 'Link MAR.10.1_1 H2 Electrolysis',\n",
       "                     'Link MAR.10.3_1 H2 Electrolysis', 'Link MAR.10.4_1 H2 Electrolysis',\n",
       "                     'Link MAR.10.5_1 H2 Electrolysis', 'Link MAR.11.1_1 H2 Electrolysis',\n",
       "                     'Link MAR.11.3_1 H2 Electrolysis', 'Link MAR.11.4_1 H2 Electrolysis',\n",
       "                     'Link MAR.12.1_1 H2 Electrolysis', 'Link MAR.12.2_1 H2 Electrolysis',\n",
       "                     'Link MAR.12.3_1 H2 Electrolysis', 'Link MAR.12.4_1 H2 Electrolysis',\n",
       "                     'Link MAR.12.5_1 H2 Electrolysis', 'Link MAR.12.6_1 H2 Electrolysis',\n",
       "                     'Link MAR.12.7_1 H2 Electrolysis', 'Link MAR.13.1_1 H2 Electrolysis',\n",
       "                     'Link MAR.13.2_1 H2 Electrolysis', 'Link MAR.14.1_1 H2 Electrolysis',\n",
       "                     'Link MAR.14.2_1 H2 Electrolysis', 'Link MAR.14.3_1 H2 Electrolysis',\n",
       "                     'Link MAR.14.4_1 H2 Electrolysis', 'Link MAR.14.5_1 H2 Electrolysis',\n",
       "                     'Link MAR.15.1_1 H2 Electrolysis', 'Link MAR.15.2_1 H2 Electrolysis',\n",
       "                     'Link MAR.15.3_1 H2 Electrolysis', 'Link MAR.2.1_1 H2 Electrolysis',\n",
       "                     'Link MAR.2.2_1 H2 Electrolysis', 'Link MAR.3.2_1 H2 Electrolysis',\n",
       "                     'Link MAR.3.3_1 H2 Electrolysis', 'Link MAR.3.4_1 H2 Electrolysis',\n",
       "                     'Link MAR.4.1_1 H2 Electrolysis', 'Link MAR.4.2_1 H2 Electrolysis',\n",
       "                     'Link MAR.5.1_1 H2 Electrolysis', 'Link MAR.5.2_1 H2 Electrolysis',\n",
       "                     'Link MAR.6.3_1 H2 Electrolysis', 'Link MAR.8.1_1 H2 Electrolysis',\n",
       "                     'Link MAR.8.2_1 H2 Electrolysis', 'Link MAR.8.3_1 H2 Electrolysis',\n",
       "                     'Link MAR.8.4_1 H2 Electrolysis', 'Link MAR.8.5_1 H2 Electrolysis',\n",
       "                     'Link MAR.9.1_1 H2 Electrolysis', 'Link MAR.9.2_1 H2 Electrolysis',\n",
       "                     'Link MAR.9.3_1 H2 Electrolysis', 'Link MAR.9.4_1 H2 Electrolysis',\n",
       "                     'Link MAR.9.5_1 H2 Electrolysis', 'Link MAR.1.1_1 H2 export',\n",
       "                     'Link MAR.1.2_1 H2 export', 'Link MAR.1.3_1 H2 export',\n",
       "                     'Link MAR.10.1_1 H2 export', 'Link MAR.10.3_1 H2 export',\n",
       "                     'Link MAR.10.4_1 H2 export', 'Link MAR.10.5_1 H2 export',\n",
       "                     'Link MAR.11.1_1 H2 export', 'Link MAR.11.3_1 H2 export',\n",
       "                     'Link MAR.11.4_1 H2 export', 'Link MAR.12.1_1 H2 export',\n",
       "                     'Link MAR.12.2_1 H2 export', 'Link MAR.12.3_1 H2 export',\n",
       "                     'Link MAR.12.4_1 H2 export', 'Link MAR.12.5_1 H2 export',\n",
       "                     'Link MAR.12.6_1 H2 export', 'Link MAR.12.7_1 H2 export',\n",
       "                     'Link MAR.13.1_1 H2 export', 'Link MAR.13.2_1 H2 export',\n",
       "                     'Link MAR.14.1_1 H2 export', 'Link MAR.14.2_1 H2 export',\n",
       "                     'Link MAR.14.3_1 H2 export', 'Link MAR.14.4_1 H2 export',\n",
       "                     'Link MAR.14.5_1 H2 export', 'Link MAR.15.1_1 H2 export',\n",
       "                     'Link MAR.15.2_1 H2 export', 'Link MAR.15.3_1 H2 export',\n",
       "                     'Link MAR.2.1_1 H2 export', 'Link MAR.2.2_1 H2 export',\n",
       "                     'Link MAR.3.2_1 H2 export', 'Link MAR.3.3_1 H2 export',\n",
       "                     'Link MAR.3.4_1 H2 export', 'Link MAR.4.1_1 H2 export',\n",
       "                     'Link MAR.4.2_1 H2 export', 'Link MAR.5.1_1 H2 export',\n",
       "                     'Link MAR.5.2_1 H2 export', 'Link MAR.6.3_1 H2 export',\n",
       "                     'Link MAR.8.1_1 H2 export', 'Link MAR.8.2_1 H2 export',\n",
       "                     'Link MAR.8.3_1 H2 export', 'Link MAR.8.4_1 H2 export',\n",
       "                     'Link MAR.8.5_1 H2 export', 'Link MAR.9.1_1 H2 export',\n",
       "                     'Link MAR.9.2_1 H2 export', 'Link MAR.9.3_1 H2 export',\n",
       "                     'Link MAR.9.4_1 H2 export', 'Link MAR.9.5_1 H2 export'], dtype=object)\n",
       "  }),\n",
       "  Scattermapbox({\n",
       "      'hoverinfo': 'text',\n",
       "      'lat': array([33.4634    , 32.79667143, 33.07327742, 34.69427143, 34.2387    ,\n",
       "                    35.112775  , 34.66081429, 33.75072   , 34.0028    , 33.879     ,\n",
       "                    30.42294167, 30.15175   , 30.3944    , 31.24959167, 30.47976667,\n",
       "                    29.62978   , 30.686     , 32.05041667, 32.5377    , 35.2168    ,\n",
       "                    35.71122222, 35.0444    , 35.68683333, 35.68363889, 35.07887143,\n",
       "                    34.11406667, 34.27955   , 33.08743478, 32.07396   , 34.00962   ,\n",
       "                    33.90866   , 34.02445714, 34.63645714, 34.54973333, 33.53502308,\n",
       "                    33.66785   , 28.479     , 31.60366667, 31.48623333, 32.143     ,\n",
       "                    31.5461    , 31.70763333, 33.6728    , 31.7714    , 33.49585   ,\n",
       "                    32.89403846, 33.94476667, 33.4634    , 32.79667143, 33.07327742,\n",
       "                    34.69427143, 34.2387    , 35.112775  , 34.66081429, 33.75072   ,\n",
       "                    34.0028    , 33.879     , 30.42294167, 30.15175   , 30.3944    ,\n",
       "                    31.24959167, 30.47976667, 29.62978   , 30.686     , 32.05041667,\n",
       "                    32.5377    , 35.2168    , 35.71122222, 35.0444    , 35.68683333,\n",
       "                    35.68363889, 35.07887143, 34.11406667, 34.27955   , 33.08743478,\n",
       "                    32.07396   , 34.00962   , 33.90866   , 34.02445714, 34.63645714,\n",
       "                    34.54973333, 33.53502308, 33.66785   , 28.479     , 31.60366667,\n",
       "                    31.48623333, 32.143     , 31.5461    , 31.70763333, 33.6728    ,\n",
       "                    31.7714    , 33.49585   , 32.89403846, 33.94476667, 34.50457835]),\n",
       "      'lon': array([ -7.3913    ,  -6.74067857,  -7.50582903,  -2.51597143,  -2.07818   ,\n",
       "                     -3.10735   ,  -1.95625714,  -6.16928   ,  -6.68555   ,  -6.82945   ,\n",
       "                     -9.49943333,  -9.3264    ,  -9.37563333,  -6.16215833,  -8.77173333,\n",
       "                     -9.65157   ,  -6.4549    ,  -6.59815   ,  -6.4785    ,  -5.3161    ,\n",
       "                     -5.74112222,  -6.0274    ,  -5.84778333,  -5.52439444,  -3.94257143,\n",
       "                     -4.67836667,  -3.8488    ,  -8.41777391,  -8.8069    ,  -4.97278   ,\n",
       "                     -4.76906   ,  -5.08238571,  -6.16727143,  -5.76446667,  -7.54792308,\n",
       "                     -7.42815   , -11.1686    ,  -7.5311    ,  -8.71846667,  -7.82323636,\n",
       "                     -9.5806    ,  -8.10518889,  -5.5273    ,  -4.49952   ,  -5.1858    ,\n",
       "                     -5.27794615,  -5.61129167,  -7.3913    ,  -6.74067857,  -7.50582903,\n",
       "                     -2.51597143,  -2.07818   ,  -3.10735   ,  -1.95625714,  -6.16928   ,\n",
       "                     -6.68555   ,  -6.82945   ,  -9.49943333,  -9.3264    ,  -9.37563333,\n",
       "                     -6.16215833,  -8.77173333,  -9.65157   ,  -6.4549    ,  -6.59815   ,\n",
       "                     -6.4785    ,  -5.3161    ,  -5.74112222,  -6.0274    ,  -5.84778333,\n",
       "                     -5.52439444,  -3.94257143,  -4.67836667,  -3.8488    ,  -8.41777391,\n",
       "                     -8.8069    ,  -4.97278   ,  -4.76906   ,  -5.08238571,  -6.16727143,\n",
       "                     -5.76446667,  -7.54792308,  -7.42815   , -11.1686    ,  -7.5311    ,\n",
       "                     -8.71846667,  -7.82323636,  -9.5806    ,  -8.10518889,  -5.5273    ,\n",
       "                     -4.49952   ,  -5.1858    ,  -5.27794615,  -5.61129167,  -9.75858538]),\n",
       "      'marker': {'color': 'cadetblue', 'size': 10},\n",
       "      'mode': 'markers',\n",
       "      'opacity': 1,\n",
       "      'text': array(['Bus MAR.1.1_1', 'Bus MAR.1.2_1', 'Bus MAR.1.3_1', 'Bus MAR.10.1_1',\n",
       "                     'Bus MAR.10.3_1', 'Bus MAR.10.4_1', 'Bus MAR.10.5_1', 'Bus MAR.11.1_1',\n",
       "                     'Bus MAR.11.3_1', 'Bus MAR.11.4_1', 'Bus MAR.12.1_1', 'Bus MAR.12.2_1',\n",
       "                     'Bus MAR.12.3_1', 'Bus MAR.12.4_1', 'Bus MAR.12.5_1', 'Bus MAR.12.6_1',\n",
       "                     'Bus MAR.12.7_1', 'Bus MAR.13.1_1', 'Bus MAR.13.2_1', 'Bus MAR.14.1_1',\n",
       "                     'Bus MAR.14.2_1', 'Bus MAR.14.3_1', 'Bus MAR.14.4_1', 'Bus MAR.14.5_1',\n",
       "                     'Bus MAR.15.1_1', 'Bus MAR.15.2_1', 'Bus MAR.15.3_1', 'Bus MAR.2.1_1',\n",
       "                     'Bus MAR.2.2_1', 'Bus MAR.3.2_1', 'Bus MAR.3.3_1', 'Bus MAR.3.4_1',\n",
       "                     'Bus MAR.4.1_1', 'Bus MAR.4.2_1', 'Bus MAR.5.1_1', 'Bus MAR.5.2_1',\n",
       "                     'Bus MAR.6.3_1', 'Bus MAR.8.1_1', 'Bus MAR.8.2_1', 'Bus MAR.8.3_1',\n",
       "                     'Bus MAR.8.4_1', 'Bus MAR.8.5_1', 'Bus MAR.9.1_1', 'Bus MAR.9.2_1',\n",
       "                     'Bus MAR.9.3_1', 'Bus MAR.9.4_1', 'Bus MAR.9.5_1', 'Bus MAR.1.1_1 H2',\n",
       "                     'Bus MAR.1.2_1 H2', 'Bus MAR.1.3_1 H2', 'Bus MAR.10.1_1 H2',\n",
       "                     'Bus MAR.10.3_1 H2', 'Bus MAR.10.4_1 H2', 'Bus MAR.10.5_1 H2',\n",
       "                     'Bus MAR.11.1_1 H2', 'Bus MAR.11.3_1 H2', 'Bus MAR.11.4_1 H2',\n",
       "                     'Bus MAR.12.1_1 H2', 'Bus MAR.12.2_1 H2', 'Bus MAR.12.3_1 H2',\n",
       "                     'Bus MAR.12.4_1 H2', 'Bus MAR.12.5_1 H2', 'Bus MAR.12.6_1 H2',\n",
       "                     'Bus MAR.12.7_1 H2', 'Bus MAR.13.1_1 H2', 'Bus MAR.13.2_1 H2',\n",
       "                     'Bus MAR.14.1_1 H2', 'Bus MAR.14.2_1 H2', 'Bus MAR.14.3_1 H2',\n",
       "                     'Bus MAR.14.4_1 H2', 'Bus MAR.14.5_1 H2', 'Bus MAR.15.1_1 H2',\n",
       "                     'Bus MAR.15.2_1 H2', 'Bus MAR.15.3_1 H2', 'Bus MAR.2.1_1 H2',\n",
       "                     'Bus MAR.2.2_1 H2', 'Bus MAR.3.2_1 H2', 'Bus MAR.3.3_1 H2',\n",
       "                     'Bus MAR.3.4_1 H2', 'Bus MAR.4.1_1 H2', 'Bus MAR.4.2_1 H2',\n",
       "                     'Bus MAR.5.1_1 H2', 'Bus MAR.5.2_1 H2', 'Bus MAR.6.3_1 H2',\n",
       "                     'Bus MAR.8.1_1 H2', 'Bus MAR.8.2_1 H2', 'Bus MAR.8.3_1 H2',\n",
       "                     'Bus MAR.8.4_1 H2', 'Bus MAR.8.5_1 H2', 'Bus MAR.9.1_1 H2',\n",
       "                     'Bus MAR.9.2_1 H2', 'Bus MAR.9.3_1 H2', 'Bus MAR.9.4_1 H2',\n",
       "                     'Bus MAR.9.5_1 H2', 'Bus H2 export bus'], dtype=object)\n",
       "  })],\n",
       " 'layout': {'title': '',\n",
       "  'hovermode': 'closest',\n",
       "  'showlegend': False,\n",
       "  'mapbox': {'style': 'open-street-map',\n",
       "   'center': {'lat': 32.09511111111111, 'lon': -6.562428571428571},\n",
       "   'zoom': 2}}}"
      ]
     },
     "execution_count": 94,
     "metadata": {},
     "output_type": "execute_result"
    }
   ],
   "source": [
    "n3.iplot(mapbox=True)"
   ]
  },
  {
   "cell_type": "markdown",
   "metadata": {},
   "source": [
    "### Energy: Electrolysis output (n2 only, no comparison)"
   ]
  },
  {
   "cell_type": "markdown",
   "metadata": {},
   "source": [
    "Capacities"
   ]
  },
  {
   "cell_type": "code",
   "execution_count": 95,
   "metadata": {},
   "outputs": [
    {
     "data": {
      "text/plain": [
       "4.205518870793567"
      ]
     },
     "execution_count": 95,
     "metadata": {},
     "output_type": "execute_result"
    }
   ],
   "source": [
    "# Total capacity Electrolysis. TODO very low -> SMR?\n",
    "n2.links[n2.links.carrier.str.contains('H2 Electrolysis')].p_nom_opt.sum() /1e3 # in GW"
   ]
  },
  {
   "cell_type": "code",
   "execution_count": 96,
   "metadata": {},
   "outputs": [
    {
     "data": {
      "text/plain": [
       "0.005946200508097168"
      ]
     },
     "execution_count": 96,
     "metadata": {},
     "output_type": "execute_result"
    }
   ],
   "source": [
    "# Total capacity SMR\n",
    "n2.links[n2.links.carrier.str.contains('SMR')].p_nom_opt.sum() /1e3 # in GW"
   ]
  },
  {
   "cell_type": "code",
   "execution_count": 97,
   "metadata": {},
   "outputs": [
    {
     "data": {
      "text/plain": [
       "9.226544468054033e-05"
      ]
     },
     "execution_count": 97,
     "metadata": {},
     "output_type": "execute_result"
    }
   ],
   "source": [
    "# Total capacity Fischer-Tropsch    \n",
    "n2.links[n2.links.carrier.str.contains('Fischer-Tropsch')].p_nom_opt.sum() /1e3 # in GW"
   ]
  },
  {
   "cell_type": "code",
   "execution_count": 98,
   "metadata": {},
   "outputs": [
    {
     "data": {
      "text/plain": [
       "snapshot\n",
       "2013-01-01   -4.364337\n",
       "2013-01-07   -4.370829\n",
       "2013-01-13   -4.366467\n",
       "2013-01-19   -4.356739\n",
       "2013-01-25   -4.354467\n",
       "                ...   \n",
       "2013-12-03   -4.329645\n",
       "2013-12-09   -4.340483\n",
       "2013-12-15   -4.331411\n",
       "2013-12-21   -4.322861\n",
       "2013-12-27   -4.294374\n",
       "Length: 61, dtype: float64"
      ]
     },
     "execution_count": 98,
     "metadata": {},
     "output_type": "execute_result"
    }
   ],
   "source": [
    "# Total power per hour SMR\n",
    "n2.links_t.p1.loc[:, n2.links_t.p1.columns.str.contains(\"SMR\")].sum(axis=1)"
   ]
  },
  {
   "attachments": {},
   "cell_type": "markdown",
   "metadata": {},
   "source": [
    "Energies"
   ]
  },
  {
   "cell_type": "code",
   "execution_count": 99,
   "metadata": {},
   "outputs": [
    {
     "data": {
      "text/plain": [
       "-0.03350621169906184"
      ]
     },
     "execution_count": 99,
     "metadata": {},
     "output_type": "execute_result"
    }
   ],
   "source": [
    "# Total energy SMR\n",
    "(n2.links_t.p1.loc[:, n2.links_t.p0.columns.str.contains(\"SMR\")].sum(axis=1) * n2.snapshot_weightings.generators[0]).sum() / 1e6 # in TWh"
   ]
  },
  {
   "cell_type": "code",
   "execution_count": 100,
   "metadata": {},
   "outputs": [
    {
     "data": {
      "text/plain": [
       "-9.922368778306105e-05"
      ]
     },
     "execution_count": 100,
     "metadata": {},
     "output_type": "execute_result"
    }
   ],
   "source": [
    "# Total energy Fischer-Tropsch\n",
    "(n2.links_t.p1.loc[:, n2.links_t.p0.columns.str.contains(\"Fischer-Tropsch\")].sum(axis=1) * n2.snapshot_weightings.generators[0]).sum() / 1e6 # in TWh"
   ]
  },
  {
   "attachments": {},
   "cell_type": "markdown",
   "metadata": {},
   "source": [
    "### Demands (n2 only, no comparison)"
   ]
  },
  {
   "cell_type": "code",
   "execution_count": 101,
   "metadata": {},
   "outputs": [
    {
     "data": {
      "text/plain": [
       "array(['AC', 'residential rural heat', 'services rural heat',\n",
       "       'residential urban decentral heat',\n",
       "       'services urban decentral heat', 'urban central heat',\n",
       "       'gas for industry', 'H2 for industry', 'naphtha for industry',\n",
       "       'industry oil emissions', 'low-temperature heat for industry',\n",
       "       'industry electricity', 'process emissions', 'H2 for shipping',\n",
       "       'shipping oil', 'shipping oil emissions', 'kerosene for aviation',\n",
       "       'oil emissions', 'land transport EV', 'land transport fuel cell',\n",
       "       'land transport oil', 'land transport oil emissions',\n",
       "       'services electricity', 'agriculture electricity', 'H2'],\n",
       "      dtype=object)"
      ]
     },
     "execution_count": 101,
     "metadata": {},
     "output_type": "execute_result"
    }
   ],
   "source": [
    "n2.loads.carrier.unique() #.str.contains(\"H2\")"
   ]
  },
  {
   "cell_type": "code",
   "execution_count": 102,
   "metadata": {},
   "outputs": [
    {
     "data": {
      "text/plain": [
       "20.521670136986305"
      ]
     },
     "execution_count": 102,
     "metadata": {},
     "output_type": "execute_result"
    }
   ],
   "source": [
    "# Show hydrogen demand of n2 network\n",
    "(n2.loads_t.p.loc[:, n2.loads_t.p.columns.str.contains(\"H2\")].sum() *n2.snapshot_weightings.generators[0]).sum()/1e6 # in TWh\n"
   ]
  },
  {
   "cell_type": "code",
   "execution_count": 103,
   "metadata": {},
   "outputs": [
    {
     "data": {
      "text/plain": [
       "0.4668756164383564"
      ]
     },
     "execution_count": 103,
     "metadata": {},
     "output_type": "execute_result"
    }
   ],
   "source": [
    "# For comparison: Show hydrogen demand of n1 network\n",
    "(n1.loads_t.p.loc[:, n1.loads_t.p.columns.str.contains(\"H2\")].sum() *n1.snapshot_weightings.generators[0]).sum()/1e6 # in TWh\n"
   ]
  },
  {
   "cell_type": "code",
   "execution_count": 104,
   "metadata": {},
   "outputs": [
    {
     "data": {
      "text/plain": [
       "Load\n",
       "H2 export load                     20.054795\n",
       "MAR.5.1_1                          10.258826\n",
       "MAR.1.3_1                           7.176644\n",
       "MAR.1.3_1 shipping oil              4.435318\n",
       "MAR.1.3_1 kerosene for aviation     4.003563\n",
       "MAR.2.1_1                           3.826578\n",
       "MAR.9.5_1 land transport oil        3.797080\n",
       "MAR.1.3_1 land transport oil        3.735616\n",
       "MAR.5.1_1 land transport oil        2.933223\n",
       "MAR.8.1_1 land transport oil        2.702631\n",
       "dtype: float64"
      ]
     },
     "execution_count": 104,
     "metadata": {},
     "output_type": "execute_result"
    }
   ],
   "source": [
    "# Show highest consumers of n2 network\n",
    "((n2.loads_t.p.sum()*n2.snapshot_weightings.generators[0]).sort_values(ascending=False)/1e6)[:10] # in TWh"
   ]
  },
  {
   "cell_type": "markdown",
   "metadata": {},
   "source": [
    "### Export"
   ]
  },
  {
   "cell_type": "code",
   "execution_count": 105,
   "metadata": {},
   "outputs": [
    {
     "data": {
      "text/plain": [
       "snapshot\n",
       "2013-01-01    2305.459508\n",
       "2013-01-07    2305.503795\n",
       "2013-01-13    2356.731069\n",
       "2013-01-19    2198.115630\n",
       "2013-01-25    2283.841304\n",
       "                 ...     \n",
       "2013-12-03    1317.959172\n",
       "2013-12-09    1583.293047\n",
       "2013-12-15    1334.591126\n",
       "2013-12-21    1572.522217\n",
       "2013-12-27    1625.385130\n",
       "Length: 61, dtype: float64"
      ]
     },
     "execution_count": 105,
     "metadata": {},
     "output_type": "execute_result"
    }
   ],
   "source": [
    "# Timeseries from export links\n",
    "n2.links_t.p0.loc[:, n2.links_t.p0.columns.str.contains(\"export\")].sum(axis=1)"
   ]
  },
  {
   "cell_type": "code",
   "execution_count": 106,
   "metadata": {},
   "outputs": [
    {
     "data": {
      "text/plain": [
       "Link\n",
       "MAR.10.4_1 H2 export     0.000681\n",
       "MAR.12.6_1 H2 export    20.036105\n",
       "MAR.14.1_1 H2 export     0.000686\n",
       "MAR.14.3_1 H2 export     0.000803\n",
       "MAR.2.1_1 H2 export      0.000742\n",
       "dtype: float64"
      ]
     },
     "execution_count": 106,
     "metadata": {},
     "output_type": "execute_result"
    }
   ],
   "source": [
    "# Total export per port\n",
    "n2.links_t.p0.loc[:, n2.links_t.p0.columns.str.contains(\"export\")].sum(axis=0)*n2.snapshot_weightings.generators[0]/1e6 # in TWh"
   ]
  },
  {
   "cell_type": "code",
   "execution_count": 107,
   "metadata": {},
   "outputs": [
    {
     "data": {
      "text/html": [
       "<div>\n",
       "<style scoped>\n",
       "    .dataframe tbody tr th:only-of-type {\n",
       "        vertical-align: middle;\n",
       "    }\n",
       "\n",
       "    .dataframe tbody tr th {\n",
       "        vertical-align: top;\n",
       "    }\n",
       "\n",
       "    .dataframe thead th {\n",
       "        text-align: right;\n",
       "    }\n",
       "</style>\n",
       "<table border=\"1\" class=\"dataframe\">\n",
       "  <thead>\n",
       "    <tr style=\"text-align: right;\">\n",
       "      <th>Load</th>\n",
       "      <th>H2 export load</th>\n",
       "    </tr>\n",
       "    <tr>\n",
       "      <th>snapshot</th>\n",
       "      <th></th>\n",
       "    </tr>\n",
       "  </thead>\n",
       "  <tbody>\n",
       "    <tr>\n",
       "      <th>2013-01-01</th>\n",
       "      <td>2283.105023</td>\n",
       "    </tr>\n",
       "    <tr>\n",
       "      <th>2013-01-07</th>\n",
       "      <td>2283.105023</td>\n",
       "    </tr>\n",
       "    <tr>\n",
       "      <th>2013-01-13</th>\n",
       "      <td>2283.105023</td>\n",
       "    </tr>\n",
       "    <tr>\n",
       "      <th>2013-01-19</th>\n",
       "      <td>2283.105023</td>\n",
       "    </tr>\n",
       "    <tr>\n",
       "      <th>2013-01-25</th>\n",
       "      <td>2283.105023</td>\n",
       "    </tr>\n",
       "    <tr>\n",
       "      <th>...</th>\n",
       "      <td>...</td>\n",
       "    </tr>\n",
       "    <tr>\n",
       "      <th>2013-12-03</th>\n",
       "      <td>2283.105023</td>\n",
       "    </tr>\n",
       "    <tr>\n",
       "      <th>2013-12-09</th>\n",
       "      <td>2283.105023</td>\n",
       "    </tr>\n",
       "    <tr>\n",
       "      <th>2013-12-15</th>\n",
       "      <td>2283.105023</td>\n",
       "    </tr>\n",
       "    <tr>\n",
       "      <th>2013-12-21</th>\n",
       "      <td>2283.105023</td>\n",
       "    </tr>\n",
       "    <tr>\n",
       "      <th>2013-12-27</th>\n",
       "      <td>2283.105023</td>\n",
       "    </tr>\n",
       "  </tbody>\n",
       "</table>\n",
       "<p>61 rows × 1 columns</p>\n",
       "</div>"
      ],
      "text/plain": [
       "Load        H2 export load\n",
       "snapshot                  \n",
       "2013-01-01     2283.105023\n",
       "2013-01-07     2283.105023\n",
       "2013-01-13     2283.105023\n",
       "2013-01-19     2283.105023\n",
       "2013-01-25     2283.105023\n",
       "...                    ...\n",
       "2013-12-03     2283.105023\n",
       "2013-12-09     2283.105023\n",
       "2013-12-15     2283.105023\n",
       "2013-12-21     2283.105023\n",
       "2013-12-27     2283.105023\n",
       "\n",
       "[61 rows x 1 columns]"
      ]
     },
     "execution_count": 107,
     "metadata": {},
     "output_type": "execute_result"
    }
   ],
   "source": [
    "# Timeseries export load\n",
    "n2.loads_t.p.loc[:, n2.loads_t.p.columns.str.contains('export')]"
   ]
  },
  {
   "cell_type": "code",
   "execution_count": 108,
   "metadata": {},
   "outputs": [
    {
     "name": "stdout",
     "output_type": "stream",
     "text": [
      "The total export for n1 is 0.00 MWh\n",
      "The total export for n2 is 20054794.52 MWh\n"
     ]
    }
   ],
   "source": [
    "# Total export energy\n",
    "print(f\"The total export for n1 is {n1.loads_t.p.loc[:, n1.loads_t.p.columns.str.contains('export')].sum().values[0]*n2.snapshot_weightings.generators[0]:.2f} MWh\")\n",
    "print(f\"The total export for n2 is {n2.loads_t.p.loc[:, n2.loads_t.p.columns.str.contains('export')].sum().values[0]*n2.snapshot_weightings.generators[0]:.2f} MWh\")"
   ]
  },
  {
   "cell_type": "code",
   "execution_count": 109,
   "metadata": {},
   "outputs": [
    {
     "name": "stdout",
     "output_type": "stream",
     "text": [
      "The optimized energy capacity of the H2 export store is 1354.16 GWh\n"
     ]
    }
   ],
   "source": [
    "print(f\"The optimized energy capacity of the H2 export store is {n2.stores.e_nom_opt['H2 export store']/1e3:.2f} GWh\")"
   ]
  },
  {
   "cell_type": "code",
   "execution_count": 110,
   "metadata": {},
   "outputs": [
    {
     "data": {
      "text/plain": [
       "<AxesSubplot: xlabel='snapshot'>"
      ]
     },
     "execution_count": 110,
     "metadata": {},
     "output_type": "execute_result"
    },
    {
     "data": {
      "image/png": "[encoded data removed]",
      "text/plain": [
       "<Figure size 640x480 with 1 Axes>"
      ]
     },
     "metadata": {},
     "output_type": "display_data"
    }
   ],
   "source": [
    "(-n2.stores_t.p['H2 export store'] * n2.snapshot_weightings.stores).plot(legend=True)\n",
    "n2.stores_t.e['H2 export store'].plot(legend=True)"
   ]
  }
 ],
 "metadata": {
  "kernelspec": {
   "display_name": "Python 3.10.6 ('aldehyde')",
   "language": "python",
   "name": "python3"
  },
  "language_info": {
   "codemirror_mode": {
    "name": "ipython",
    "version": 3
   },
   "file_extension": ".py",
   "mimetype": "text/x-python",
   "name": "python",
   "nbconvert_exporter": "python",
   "pygments_lexer": "ipython3",
   "version": "3.10.9"
  },
  "orig_nbformat": 4,
  "vscode": {
   "interpreter": {
    "hash": "0dbcc051df1c9f67b8349bc93a137f4374bedf8f92eebef4493438608fd687c9"
   }
  }
 },
 "nbformat": 4,
 "nbformat_minor": 2
}

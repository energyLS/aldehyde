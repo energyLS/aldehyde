{
 "cells": [
  {
   "attachments": {},
   "cell_type": "markdown",
   "metadata": {},
   "source": [
    "Plot Moroccos hydrogen strategy"
   ]
  },
  {
   "cell_type": "code",
   "execution_count": 2,
   "metadata": {},
   "outputs": [],
   "source": [
    "import matplotlib.pyplot as plt\n",
    "import pandas as pd\n",
    "import numpy as np"
   ]
  },
  {
   "cell_type": "code",
   "execution_count": 3,
   "metadata": {},
   "outputs": [],
   "source": [
    "PATH = '/mnt/c/Users/scl38887/Documents/git/aldehyde/'"
   ]
  },
  {
   "cell_type": "code",
   "execution_count": 4,
   "metadata": {},
   "outputs": [
    {
     "data": {
      "text/html": [
       "<div>\n",
       "<style scoped>\n",
       "    .dataframe tbody tr th:only-of-type {\n",
       "        vertical-align: middle;\n",
       "    }\n",
       "\n",
       "    .dataframe tbody tr th {\n",
       "        vertical-align: top;\n",
       "    }\n",
       "\n",
       "    .dataframe thead th {\n",
       "        text-align: right;\n",
       "    }\n",
       "</style>\n",
       "<table border=\"1\" class=\"dataframe\">\n",
       "  <thead>\n",
       "    <tr style=\"text-align: right;\">\n",
       "      <th></th>\n",
       "      <th>hydrogen_export</th>\n",
       "      <th>synfuels_export</th>\n",
       "      <th>ammonia_national</th>\n",
       "      <th>demand_national</th>\n",
       "      <th>info</th>\n",
       "      <th>source</th>\n",
       "    </tr>\n",
       "    <tr>\n",
       "      <th>year</th>\n",
       "      <th></th>\n",
       "      <th></th>\n",
       "      <th></th>\n",
       "      <th></th>\n",
       "      <th></th>\n",
       "      <th></th>\n",
       "    </tr>\n",
       "  </thead>\n",
       "  <tbody>\n",
       "    <tr>\n",
       "      <th>2030</th>\n",
       "      <td>7</td>\n",
       "      <td>3</td>\n",
       "      <td>3</td>\n",
       "      <td>0.5</td>\n",
       "      <td>hydrogen demand</td>\n",
       "      <td>Ersoy2022 p. 16 (MAR hydrogen strategy)</td>\n",
       "    </tr>\n",
       "    <tr>\n",
       "      <th>2040</th>\n",
       "      <td>32</td>\n",
       "      <td>13</td>\n",
       "      <td>13</td>\n",
       "      <td>NaN</td>\n",
       "      <td>hydrogen or synfuels demand?</td>\n",
       "      <td>Ersoy2022 p. 16 (MAR hydrogen strategy)</td>\n",
       "    </tr>\n",
       "    <tr>\n",
       "      <th>2050</th>\n",
       "      <td>81</td>\n",
       "      <td>33</td>\n",
       "      <td>19</td>\n",
       "      <td>18.0</td>\n",
       "      <td>hydrogen demand</td>\n",
       "      <td>Ersoy2022 p. 16 (MAR hydrogen strategy)</td>\n",
       "    </tr>\n",
       "  </tbody>\n",
       "</table>\n",
       "</div>"
      ],
      "text/plain": [
       "      hydrogen_export  synfuels_export  ammonia_national  demand_national  \\\n",
       "year                                                                        \n",
       "2030                7                3                 3              0.5   \n",
       "2040               32               13                13              NaN   \n",
       "2050               81               33                19             18.0   \n",
       "\n",
       "                              info                                   source  \n",
       "year                                                                         \n",
       "2030               hydrogen demand  Ersoy2022 p. 16 (MAR hydrogen strategy)  \n",
       "2040  hydrogen or synfuels demand?  Ersoy2022 p. 16 (MAR hydrogen strategy)  \n",
       "2050               hydrogen demand  Ersoy2022 p. 16 (MAR hydrogen strategy)  "
      ]
     },
     "execution_count": 4,
     "metadata": {},
     "output_type": "execute_result"
    }
   ],
   "source": [
    "# Read data\n",
    "df = pd.read_csv(PATH+'data/mar_hydrogen_strategy.csv', index_col=0)\n",
    "#df.drop(['info', 'source'], axis=1, inplace=True)\n",
    "df"
   ]
  },
  {
   "cell_type": "code",
   "execution_count": 8,
   "metadata": {},
   "outputs": [
    {
     "data": {
      "image/png": "[encoded data removed]",
      "text/plain": [
       "<Figure size 700x500 with 1 Axes>"
      ]
     },
     "metadata": {},
     "output_type": "display_data"
    }
   ],
   "source": [
    "import matplotlib.pyplot as plt\n",
    "import numpy as np\n",
    "\n",
    "# define if grouped or stacked\n",
    "TYPE= \"semistacked\" # \"grouped\" or \"stacked\" or \"semistacked\"\n",
    "\n",
    "# copy the data\n",
    "df_plot = df\n",
    "\n",
    "# get the index values\n",
    "index = np.arange(len(df_plot['hydrogen_export']))\n",
    "\n",
    "\n",
    "\n",
    "fig, ax = plt.subplots(figsize=(7, 5))\n",
    "\n",
    "# create the bars for each technology (GROUPED)\n",
    "# ammonia_national = plt.bar(index, df_plot['ammonia_national'], width, label='Ammonia national', color='green', alpha=0.3)\n",
    "# synfuels_export = plt.bar(index + width, df_plot['synfuels_export'], width, label='Synfuels export', color='green', alpha=0.6)\n",
    "# hydrogen_export = plt.bar(index + 2 * width, df_plot['hydrogen_export'], width, label='Hydrogen export', color='green', alpha=1)\n",
    "\n",
    "if TYPE==\"stacked\":\n",
    "    # get the width of each bar\n",
    "    width = 0.3\n",
    "    # create the bars for each technology (STACKED)\n",
    "    demand_national = plt.bar(index, df_plot['demand_national'], width, bottom=df_plot['hydrogen_export']+df_plot['synfuels_export']+df_plot['ammonia_national'], label='Demand national', color='green', alpha=0.1)\n",
    "    ammonia_national = plt.bar(index, df_plot['ammonia_national'], width, bottom=df_plot['hydrogen_export']+df_plot['synfuels_export'], label='Ammonia national', color='green', alpha=0.3)\n",
    "    synfuels_export = plt.bar(index, df_plot['synfuels_export'], width, bottom=df_plot['hydrogen_export'], label='Synfuels export', color='green', alpha=0.6)\n",
    "    hydrogen_export = plt.bar(index, df_plot['hydrogen_export'], width, label='Hydrogen export', color='green', alpha=1)\n",
    "\n",
    "    plt.xticks(index, df_plot.index)\n",
    "\n",
    "elif TYPE==\"semistacked\":\n",
    "\n",
    "    # get the width of each bar\n",
    "    width = 0.3\n",
    "    # create the bars for each technology (SEMISTACKED)\n",
    "    demand_national = plt.bar(index - width/2, df_plot['demand_national'], width, bottom=df_plot['ammonia_national'], label='Demand national', color='green', alpha=0.1)\n",
    "    ammonia_national = plt.bar(index - width/2, df_plot['ammonia_national'], width, label='Ammonia national', color='green', alpha=0.3)\n",
    "    synfuels_export = plt.bar(index + width/2, df_plot['synfuels_export'], width, bottom=df_plot['hydrogen_export'], label='Synfuels export', color='green', alpha=0.6)\n",
    "    hydrogen_export = plt.bar(index + width/2, df_plot['hydrogen_export'], width, label='Hydrogen export', color='green', alpha=1)\n",
    "\n",
    "    plt.xticks(index, df_plot.index)\n",
    "\n",
    "\n",
    "elif TYPE==\"grouped\":\n",
    "    # get the width of each bar\n",
    "    width = 0.15\n",
    "    # create the bars for each technology (GROUPED)\n",
    "    demand_national = plt.bar(index - width/2, df_plot['demand_national'], width, label='Demand national', color='green', alpha=0.1)\n",
    "    ammonia_national = plt.bar(index + width/2, df_plot['ammonia_national'], width, label='Ammonia national', color='green', alpha=0.3)\n",
    "    synfuels_export = plt.bar(index + width*1.5, df_plot['synfuels_export'], width, label='Synfuels export', color='green', alpha=0.6)\n",
    "    hydrogen_export = plt.bar(index + width*2.5, df_plot['hydrogen_export'], width, label='Hydrogen export', color='green', alpha=1)\n",
    "\n",
    "    plt.xticks(index+width, df_plot.index)\n",
    "\n",
    "# add labels and title\n",
    "plt.ylabel('Hydrogen in TWh') #TODO: is the Synfuels export demand in hydrogen or in synfuels?\n",
    "plt.title('Morocco hydrogen strategy')\n",
    "\n",
    "plt.grid(alpha=0.3)\n",
    "plt.legend(loc='best')\n",
    "\n",
    "# save the plot \n",
    "plt.savefig(PATH+'results/graphics_general/policy/mar_hydrogen_strategy_'+ TYPE +'.pdf', bbox_inches='tight')\n",
    "\n",
    "# show the plot\n",
    "plt.show()"
   ]
  }
 ],
 "metadata": {
  "kernelspec": {
   "display_name": "Python 3 (ipykernel)",
   "language": "python",
   "name": "python3"
  },
  "language_info": {
   "codemirror_mode": {
    "name": "ipython",
    "version": 3
   },
   "file_extension": ".py",
   "mimetype": "text/x-python",
   "name": "python",
   "nbconvert_exporter": "python",
   "pygments_lexer": "ipython3",
   "version": "3.10.9"
  },
  "orig_nbformat": 4,
  "vscode": {
   "interpreter": {
    "hash": "0dbcc051df1c9f67b8349bc93a137f4374bedf8f92eebef4493438608fd687c9"
   }
  }
 },
 "nbformat": 4,
 "nbformat_minor": 2
}

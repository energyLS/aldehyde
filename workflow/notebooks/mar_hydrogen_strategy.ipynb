{
 "cells": [
  {
   "attachments": {},
   "cell_type": "markdown",
   "metadata": {},
   "source": [
    "Plot Moroccos hydrogen strategy"
   ]
  },
  {
   "cell_type": "code",
   "execution_count": null,
   "metadata": {},
   "outputs": [],
   "source": [
    "import matplotlib.pyplot as plt\n",
    "import pandas as pd\n",
    "import numpy as np"
   ]
  },
  {
   "cell_type": "code",
   "execution_count": null,
   "metadata": {},
   "outputs": [],
   "source": [
    "PATH = '/mnt/c/Users/scl38887/Documents/git/aldehyde/'"
   ]
  },
  {
   "cell_type": "code",
   "execution_count": null,
   "metadata": {},
   "outputs": [],
   "source": [
    "# Read data\n",
    "df = pd.read_csv(PATH+'data/mar_hydrogen_strategy.csv', index_col=0)\n",
    "#df.drop(['info', 'source'], axis=1, inplace=True)\n",
    "df"
   ]
  },
  {
   "cell_type": "code",
   "execution_count": null,
   "metadata": {},
   "outputs": [],
   "source": [
    "import matplotlib.pyplot as plt\n",
    "import numpy as np\n",
    "\n",
    "# define if grouped or stacked\n",
    "TYPE= \"stacked\" # \"grouped\" or \"stacked\"\n",
    "\n",
    "# copy the data\n",
    "df_plot = df\n",
    "\n",
    "# get the index values\n",
    "index = np.arange(len(df_plot['hydrogen_export']))\n",
    "\n",
    "\n",
    "\n",
    "fig, ax = plt.subplots(figsize=(7, 5))\n",
    "\n",
    "# create the bars for each technology (GROUPED)\n",
    "# ammonia_national = plt.bar(index, df_plot['ammonia_national'], width, label='Ammonia national', color='green', alpha=0.3)\n",
    "# synfuels_export = plt.bar(index + width, df_plot['synfuels_export'], width, label='Synfuels export', color='green', alpha=0.6)\n",
    "# hydrogen_export = plt.bar(index + 2 * width, df_plot['hydrogen_export'], width, label='Hydrogen export', color='green', alpha=1)\n",
    "\n",
    "if TYPE==\"stacked\":\n",
    "    # get the width of each bar\n",
    "    width = 0.3\n",
    "    # create the bars for each technology (STACKED)\n",
    "    demand_national = plt.bar(index, df_plot['demand_national'], width, bottom=df_plot['hydrogen_export']+df_plot['synfuels_export']+df_plot['ammonia_national'], label='Demand national', color='green', alpha=0.1)\n",
    "    ammonia_national = plt.bar(index, df_plot['ammonia_national'], width, bottom=df_plot['hydrogen_export']+df_plot['synfuels_export'], label='Ammonia national', color='green', alpha=0.3)\n",
    "    synfuels_export = plt.bar(index, df_plot['synfuels_export'], width, bottom=df_plot['hydrogen_export'], label='Synfuels export', color='green', alpha=0.6)\n",
    "    hydrogen_export = plt.bar(index, df_plot['hydrogen_export'], width, label='Hydrogen export', color='green', alpha=1)\n",
    "\n",
    "    plt.xticks(index, df_plot.index)\n",
    "else:\n",
    "    # get the width of each bar\n",
    "    width = 0.15\n",
    "    # create the bars for each technology (GROUPED)\n",
    "    demand_national = plt.bar(index - width/2, df_plot['demand_national'], width, label='Demand national', color='green', alpha=0.1)\n",
    "    ammonia_national = plt.bar(index + width/2, df_plot['ammonia_national'], width, label='Ammonia national', color='green', alpha=0.3)\n",
    "    synfuels_export = plt.bar(index + width*1.5, df_plot['synfuels_export'], width, label='Synfuels export', color='green', alpha=0.6)\n",
    "    hydrogen_export = plt.bar(index + width*2.5, df_plot['hydrogen_export'], width, label='Hydrogen export', color='green', alpha=1)\n",
    "\n",
    "    plt.xticks(index+width, df_plot.index)\n",
    "\n",
    "# add labels and title\n",
    "plt.ylabel('Hydrogen in TWh') #TODO: is the Synfuels export demand in hydrogen or in synfuels?\n",
    "plt.title('Morocco hydrogen strategy')\n",
    "\n",
    "plt.grid(alpha=0.3)\n",
    "plt.legend(loc='best')\n",
    "\n",
    "# save the plot\n",
    "if TYPE==\"stacked\":\n",
    "    plt.savefig(PATH+'results/graphics/policy/mar_hydrogen_strategy_stacked.pdf', bbox_inches='tight')\n",
    "else:\n",
    "    plt.savefig(PATH+'results/graphics/policy/mar_hydrogen_strategy_grouped.pdf', bbox_inches='tight')\n",
    "\n",
    "# show the plot\n",
    "plt.show()\n"
   ]
  }
 ],
 "metadata": {
  "kernelspec": {
   "display_name": "Python 3 (ipykernel)",
   "language": "python",
   "name": "python3"
  },
  "language_info": {
   "codemirror_mode": {
    "name": "ipython",
    "version": 3
   },
   "file_extension": ".py",
   "mimetype": "text/x-python",
   "name": "python",
   "nbconvert_exporter": "python",
   "pygments_lexer": "ipython3",
   "version": "3.10.6"
  },
  "orig_nbformat": 4,
  "vscode": {
   "interpreter": {
    "hash": "0dbcc051df1c9f67b8349bc93a137f4374bedf8f92eebef4493438608fd687c9"
   }
  }
 },
 "nbformat": 4,
 "nbformat_minor": 2
}

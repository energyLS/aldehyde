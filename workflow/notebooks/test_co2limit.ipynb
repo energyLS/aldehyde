{
 "cells": [
  {
   "attachments": {},
   "cell_type": "markdown",
   "metadata": {},
   "source": [
    "## CO2 Limit"
   ]
  },
  {
   "cell_type": "code",
   "execution_count": 266,
   "metadata": {},
   "outputs": [],
   "source": [
    "import pypsa\n",
    "import pandas as pd"
   ]
  },
  {
   "cell_type": "code",
   "execution_count": 268,
   "metadata": {},
   "outputs": [
    {
     "name": "stderr",
     "output_type": "stream",
     "text": [
      "INFO:pypsa.io:Imported network elec_s_10_ec_lc1.0_Co2L20.0_3H_2030_0.15_DF_0export.nc has buses, carriers, generators, global_constraints, lines, links, loads, storage_units, stores\n",
      "INFO:pypsa.io:Imported network elec_s_10_ec_lc1.0_Co2L5.0_3H_2030_0.15_DF_0export.nc has buses, carriers, generators, global_constraints, lines, links, loads, storage_units, stores\n",
      "INFO:pypsa.io:Imported network elec_s_10_ec_lc1.0_Co2L2.0_3H_2030_0.15_DF_0export.nc has buses, carriers, generators, global_constraints, lines, links, loads, storage_units, stores\n",
      "INFO:pypsa.io:Imported network elec_s_10_ec_lc1.0_Co2L1.7_3H_2030_0.15_DF_0export.nc has buses, carriers, generators, global_constraints, lines, links, loads, storage_units, stores\n",
      "INFO:pypsa.io:Imported network elec_s_10_ec_lc1.0_Co2L1.2_3H_2030_0.15_DF_0export.nc has buses, carriers, generators, global_constraints, lines, links, loads, storage_units, stores\n",
      "INFO:pypsa.io:Imported network elec_s_10_ec_lc1.0_Co2L1.0_3H_2030_0.15_DF_0export.nc has buses, carriers, generators, global_constraints, lines, links, loads, storage_units, stores\n",
      "INFO:pypsa.io:Imported network elec_s_10_ec_lc1.0_Co2L0.50_3H_2030_0.15_DF_0export.nc has buses, carriers, generators, global_constraints, lines, links, loads, storage_units, stores\n",
      "INFO:pypsa.io:Imported network elec_s_10_ec_lc1.0_Co2L0.10_3H_2030_0.15_DF_0export.nc has buses, carriers, generators, global_constraints, lines, links, loads, storage_units, stores\n"
     ]
    }
   ],
   "source": [
    "prefix = \"/mnt/c/Users/scl38887/Documents/git/aldehyde\"\n",
    "\n",
    "# Import from pypsa-earth-sec\n",
    "run = \"wacc15_hem_1marg_1cap_nosmr_0exp_3h_ws\"\n",
    "Co2Ls = [\"Co2L20.0\", \"Co2L5.0\", \"Co2L2.0\", \"Co2L1.7\", \"Co2L1.2\", \"Co2L1.0\", \"Co2L0.50\", \"Co2L0.10\"] \n",
    "\n",
    "carbon_stats = pd.DataFrame(columns=[\"constraint\", \"store\", \"generators\", \"loads\", \"CO2seq\", \"links\"])\n",
    "\n",
    "for Co2L in Co2Ls:\n",
    "    n = pypsa.Network(prefix + \"/workflow/subworkflows/pypsa-earth-sec/results/\" + run + \"/postnetworks/elec_s_10_ec_lc1.0_\"+Co2L+\"_3H_2030_0.15_DF_0export.nc\")\n",
    "    carbon_stats.loc[Co2L, \"constraint\"] = n.global_constraints.loc[\"CO2Limit\", \"constant\"] / 1e6 # MtCO2\n",
    "\n",
    "    carbon_stats.loc[Co2L, \"store\"] = n.stores_t.e.filter(like=\"co2 atmosphere\").iloc[-1][0] / 1e6 # MtCO2\n",
    "    \n",
    "    emissions_generator = n.generators_t.p / n.generators.efficiency * n.generators.carrier.map(n.carriers.co2_emissions) # t/h\n",
    "    carbon_stats.loc[Co2L, \"generators\"] = n.snapshot_weightings.generators @ emissions_generator.sum(axis=1).div(1e6) # MtCO2\n",
    "\n",
    "    carbon_stats.loc[Co2L, \"loads\"] = n.loads[n.loads.bus == \"co2 atmosphere\"].p_set.sum() * (-1) * 8760/1e6 # MtCO2\n",
    "\n",
    "    carbon_stats.loc[Co2L, \"CO2seq\"]=n.stores[n.stores.carrier == \"co2 stored\"].e_nom_opt.sum() * (-1) / 1e6 # in MtCO2\n",
    "\n",
    "    links2= (n.links_t.p0[n.links[n.links.bus2 == \"co2 atmosphere\"].index] * n.links.efficiency2[n.links[n.links.bus2 == \"co2 atmosphere\"].index]).sum().sum() / 1e6 * n.snapshot_weightings.generators[0] # in Mt\n",
    "\n",
    "    links3= (n.links_t.p0[n.links[n.links.bus3 == \"co2 atmosphere\"].index] * n.links.efficiency3[n.links[n.links.bus3 == \"co2 atmosphere\"].index]).sum().sum() / 1e6 * n.snapshot_weightings.generators[0] # in Mt\n",
    "\n",
    "    links4= (n.links_t.p0[n.links[n.links.bus4 == \"co2 atmosphere\"].index] * n.links.efficiency4[n.links[n.links.bus4 == \"co2 atmosphere\"].index]).sum().sum() / 1e6 * n.snapshot_weightings.generators[0] # in Mt\n",
    "\n",
    "    carbon_stats.loc[Co2L, \"links\"] = links2 + links3 + links4"
   ]
  },
  {
   "cell_type": "code",
   "execution_count": 269,
   "metadata": {},
   "outputs": [
    {
     "data": {
      "text/html": [
       "<div>\n",
       "<style scoped>\n",
       "    .dataframe tbody tr th:only-of-type {\n",
       "        vertical-align: middle;\n",
       "    }\n",
       "\n",
       "    .dataframe tbody tr th {\n",
       "        vertical-align: top;\n",
       "    }\n",
       "\n",
       "    .dataframe thead th {\n",
       "        text-align: right;\n",
       "    }\n",
       "</style>\n",
       "<table border=\"1\" class=\"dataframe\">\n",
       "  <thead>\n",
       "    <tr style=\"text-align: right;\">\n",
       "      <th></th>\n",
       "      <th>constraint</th>\n",
       "      <th>store</th>\n",
       "      <th>generators</th>\n",
       "      <th>loads</th>\n",
       "      <th>CO2seq</th>\n",
       "      <th>links</th>\n",
       "      <th>sto + gen + loads</th>\n",
       "      <th>gen + loads + seq</th>\n",
       "      <th>diff</th>\n",
       "    </tr>\n",
       "  </thead>\n",
       "  <tbody>\n",
       "    <tr>\n",
       "      <th>Co2L20.0</th>\n",
       "      <td>800.0</td>\n",
       "      <td>19.04</td>\n",
       "      <td>53.17</td>\n",
       "      <td>17.98</td>\n",
       "      <td>-0.00</td>\n",
       "      <td>1.05</td>\n",
       "      <td>90.19</td>\n",
       "      <td>71.15</td>\n",
       "      <td>709.81</td>\n",
       "    </tr>\n",
       "    <tr>\n",
       "      <th>Co2L5.0</th>\n",
       "      <td>200.0</td>\n",
       "      <td>19.04</td>\n",
       "      <td>53.17</td>\n",
       "      <td>17.98</td>\n",
       "      <td>-0.00</td>\n",
       "      <td>1.05</td>\n",
       "      <td>90.19</td>\n",
       "      <td>71.15</td>\n",
       "      <td>109.81</td>\n",
       "    </tr>\n",
       "    <tr>\n",
       "      <th>Co2L2.0</th>\n",
       "      <td>80.0</td>\n",
       "      <td>18.98</td>\n",
       "      <td>42.89</td>\n",
       "      <td>17.98</td>\n",
       "      <td>-0.00</td>\n",
       "      <td>1.00</td>\n",
       "      <td>79.86</td>\n",
       "      <td>60.87</td>\n",
       "      <td>0.14</td>\n",
       "    </tr>\n",
       "    <tr>\n",
       "      <th>Co2L1.7</th>\n",
       "      <td>68.0</td>\n",
       "      <td>18.96</td>\n",
       "      <td>30.92</td>\n",
       "      <td>17.98</td>\n",
       "      <td>-0.00</td>\n",
       "      <td>0.97</td>\n",
       "      <td>67.86</td>\n",
       "      <td>48.90</td>\n",
       "      <td>0.14</td>\n",
       "    </tr>\n",
       "    <tr>\n",
       "      <th>Co2L1.2</th>\n",
       "      <td>48.0</td>\n",
       "      <td>18.64</td>\n",
       "      <td>11.23</td>\n",
       "      <td>17.98</td>\n",
       "      <td>-0.00</td>\n",
       "      <td>0.66</td>\n",
       "      <td>47.86</td>\n",
       "      <td>29.22</td>\n",
       "      <td>0.14</td>\n",
       "    </tr>\n",
       "    <tr>\n",
       "      <th>Co2L1.0</th>\n",
       "      <td>40.0</td>\n",
       "      <td>17.97</td>\n",
       "      <td>3.90</td>\n",
       "      <td>17.98</td>\n",
       "      <td>-0.01</td>\n",
       "      <td>-0.01</td>\n",
       "      <td>39.86</td>\n",
       "      <td>21.87</td>\n",
       "      <td>0.14</td>\n",
       "    </tr>\n",
       "    <tr>\n",
       "      <th>Co2L0.50</th>\n",
       "      <td>20.0</td>\n",
       "      <td>0.71</td>\n",
       "      <td>1.24</td>\n",
       "      <td>17.98</td>\n",
       "      <td>-17.19</td>\n",
       "      <td>-6.61</td>\n",
       "      <td>19.93</td>\n",
       "      <td>2.03</td>\n",
       "      <td>0.07</td>\n",
       "    </tr>\n",
       "    <tr>\n",
       "      <th>Co2L0.10</th>\n",
       "      <td>4.0</td>\n",
       "      <td>-15.19</td>\n",
       "      <td>1.11</td>\n",
       "      <td>17.98</td>\n",
       "      <td>-33.13</td>\n",
       "      <td>-11.51</td>\n",
       "      <td>3.90</td>\n",
       "      <td>-14.04</td>\n",
       "      <td>0.10</td>\n",
       "    </tr>\n",
       "  </tbody>\n",
       "</table>\n",
       "</div>"
      ],
      "text/plain": [
       "          constraint  store  generators  loads  CO2seq  links  \\\n",
       "Co2L20.0       800.0  19.04       53.17  17.98   -0.00   1.05   \n",
       "Co2L5.0        200.0  19.04       53.17  17.98   -0.00   1.05   \n",
       "Co2L2.0         80.0  18.98       42.89  17.98   -0.00   1.00   \n",
       "Co2L1.7         68.0  18.96       30.92  17.98   -0.00   0.97   \n",
       "Co2L1.2         48.0  18.64       11.23  17.98   -0.00   0.66   \n",
       "Co2L1.0         40.0  17.97        3.90  17.98   -0.01  -0.01   \n",
       "Co2L0.50        20.0   0.71        1.24  17.98  -17.19  -6.61   \n",
       "Co2L0.10         4.0 -15.19        1.11  17.98  -33.13 -11.51   \n",
       "\n",
       "          sto + gen + loads  gen + loads + seq    diff  \n",
       "Co2L20.0              90.19              71.15  709.81  \n",
       "Co2L5.0               90.19              71.15  109.81  \n",
       "Co2L2.0               79.86              60.87    0.14  \n",
       "Co2L1.7               67.86              48.90    0.14  \n",
       "Co2L1.2               47.86              29.22    0.14  \n",
       "Co2L1.0               39.86              21.87    0.14  \n",
       "Co2L0.50              19.93               2.03    0.07  \n",
       "Co2L0.10               3.90             -14.04    0.10  "
      ]
     },
     "execution_count": 269,
     "metadata": {},
     "output_type": "execute_result"
    }
   ],
   "source": [
    "# Multiply the numeric part of the index by 40 and set it as new index\n",
    "#carbon_stats.index = carbon_stats.index.str[4:].astype(float) * 40\n",
    "\n",
    "carbon_stats[\"sto + gen + loads\"] = carbon_stats[\"store\"] + carbon_stats[\"generators\"] + carbon_stats[\"loads\"]\n",
    "carbon_stats[\"gen + loads + seq\"] = carbon_stats[\"loads\"] + carbon_stats[\"generators\"] + carbon_stats[\"CO2seq\"]\n",
    "carbon_stats[\"diff\"] = carbon_stats[\"constraint\"] - carbon_stats[\"sto + gen + loads\"]\n",
    "carbon_stats.astype(float).round(2)"
   ]
  },
  {
   "cell_type": "code",
   "execution_count": 270,
   "metadata": {},
   "outputs": [
    {
     "data": {
      "text/plain": [
       "Co2L20.0    1.052412\n",
       "Co2L5.0      1.05251\n",
       "Co2L2.0     1.000964\n",
       "Co2L1.7     0.973574\n",
       "Co2L1.2     0.656425\n",
       "Co2L1.0     0.003233\n",
       "Co2L0.50   -0.078146\n",
       "Co2L0.10   -0.042265\n",
       "dtype: object"
      ]
     },
     "execution_count": 270,
     "metadata": {},
     "output_type": "execute_result"
    }
   ],
   "source": [
    "carbon_stats[\"store\"] - carbon_stats[\"loads\"] + abs(carbon_stats[\"CO2seq\"])"
   ]
  },
  {
   "cell_type": "code",
   "execution_count": 277,
   "metadata": {},
   "outputs": [
    {
     "data": {
      "image/png": "[encoded data removed]",
      "text/plain": [
       "<Figure size 800x600 with 1 Axes>"
      ]
     },
     "metadata": {},
     "output_type": "display_data"
    }
   ],
   "source": [
    "# Plot the carbon stats\n",
    "import matplotlib.pyplot as plt\n",
    "\n",
    "fig, ax = plt.subplots(figsize=(8, 6))\n",
    "carbon_stats[[\"store\", \"generators\", \"loads\", \"CO2seq\",\"sto + gen + loads\", \"gen + loads + seq\"]].iloc[1:,:].plot(ax=ax) \n",
    "carbon_stats[\"constraint\"].iloc[1:].plot(ax=ax, style=\"k--\", label=\"constraint\")\n",
    "ax.set_ylabel(\"Emissions in MtCO2\")\n",
    "ax.set_xlabel(\"CO2 limit in MtCO2\")\n",
    "ax.set_title(\"CO2 emissions in 2030\")\n",
    "ax.legend(loc=\"upper left\", bbox_to_anchor=(1, 1))\n",
    "fig.tight_layout()"
   ]
  },
  {
   "cell_type": "code",
   "execution_count": 286,
   "metadata": {},
   "outputs": [
    {
     "name": "stderr",
     "output_type": "stream",
     "text": [
      "/home/energyls/anaconda3/envs/pypsa-earth/lib/python3.10/site-packages/pandas/plotting/_matplotlib/core.py:1594: UserWarning:\n",
      "\n",
      "Attempting to set identical bottom == top == 0.0 results in singular transformations; automatically expanding.\n",
      "\n"
     ]
    },
    {
     "data": {
      "image/png": "[encoded data removed]",
      "text/plain": [
       "<Figure size 800x600 with 1 Axes>"
      ]
     },
     "metadata": {},
     "output_type": "display_data"
    }
   ],
   "source": [
    "# Plot the carbon stats\n",
    "import matplotlib.pyplot as plt\n",
    "\n",
    "start_value = 0\n",
    "\n",
    "# Create a stackplot + lineplot\n",
    "fig, ax = plt.subplots(figsize=(8, 6))\n",
    "\n",
    "# Plot positive 'store' values together with 'generators' and 'loads'\n",
    "positive_store = carbon_stats[\"store\"].clip(lower=0).iloc[start_value:]\n",
    "stacked_data = pd.concat([positive_store, carbon_stats[[\"generators\", \"loads\"]].iloc[start_value:,:]], axis=1)\n",
    "stacked_data.plot.area(ax=ax, stacked=True, color=[\"b\", \"g\", \"r\"], alpha = 0.5, label=[\"store (positive)\", \"generators\", \"loads\"])\n",
    "\n",
    "# Plot negative 'store' values separately\n",
    "negative_store = carbon_stats[\"store\"].clip(upper=0).iloc[start_value:]\n",
    "negative_store.plot.area(ax=ax, stacked=True, color=\"b\", alpha = 0.5, label=\"store (negative)\")\n",
    "\n",
    "# Plot the constraint\n",
    "carbon_stats[\"constraint\"].iloc[start_value:].plot(ax=ax, style=\"k--\", label=\"constraint\")\n",
    "\n",
    "ax.set_ylabel(\"Emissions in MtCO2 (model output)\")\n",
    "ax.set_xlabel(\"CO2 limit in MtCO2 (model input))\")\n",
    "ax.set_title(\"CO2 constraints and emissions\")\n",
    "ax.legend(loc=\"upper left\", bbox_to_anchor=(1, 1))\n",
    "\n",
    "ax.set_ylim(-30, 800)\n",
    "\n",
    "fig.tight_layout()\n",
    "plt.show()\n"
   ]
  },
  {
   "cell_type": "code",
   "execution_count": 220,
   "metadata": {},
   "outputs": [
    {
     "ename": "ValueError",
     "evalue": "When stacked is True, each column must be either all positive or all negative. Column 'store' contains both positive and negative values",
     "output_type": "error",
     "traceback": [
      "\u001b[0;31m---------------------------------------------------------------------------\u001b[0m",
      "\u001b[0;31mValueError\u001b[0m                                Traceback (most recent call last)",
      "Cell \u001b[0;32mIn[220], line 7\u001b[0m\n\u001b[1;32m      5\u001b[0m fig, ax \u001b[39m=\u001b[39m plt\u001b[39m.\u001b[39msubplots(figsize\u001b[39m=\u001b[39m(\u001b[39m8\u001b[39m, \u001b[39m6\u001b[39m))\n\u001b[1;32m      6\u001b[0m carbon_stats[\u001b[39m\"\u001b[39m\u001b[39mconstraint\u001b[39m\u001b[39m\"\u001b[39m]\u001b[39m.\u001b[39miloc[\u001b[39m1\u001b[39m:]\u001b[39m.\u001b[39mplot(ax\u001b[39m=\u001b[39max, style\u001b[39m=\u001b[39m\u001b[39m\"\u001b[39m\u001b[39mk--\u001b[39m\u001b[39m\"\u001b[39m, label\u001b[39m=\u001b[39m\u001b[39m\"\u001b[39m\u001b[39mconstraint\u001b[39m\u001b[39m\"\u001b[39m)\n\u001b[0;32m----> 7\u001b[0m carbon_stats[[\u001b[39m\"\u001b[39;49m\u001b[39mstore\u001b[39;49m\u001b[39m\"\u001b[39;49m, \u001b[39m\"\u001b[39;49m\u001b[39mgenerators\u001b[39;49m\u001b[39m\"\u001b[39;49m, \u001b[39m\"\u001b[39;49m\u001b[39mloads\u001b[39;49m\u001b[39m\"\u001b[39;49m]]\u001b[39m.\u001b[39;49miloc[\u001b[39m1\u001b[39;49m:,:]\u001b[39m.\u001b[39;49mplot\u001b[39m.\u001b[39;49marea(ax\u001b[39m=\u001b[39;49max, stacked\u001b[39m=\u001b[39;49m\u001b[39mTrue\u001b[39;49;00m)\n\u001b[1;32m      8\u001b[0m \u001b[39m# Add carbon_stats[\"store\"] to the stackplot\u001b[39;00m\n\u001b[1;32m      9\u001b[0m \u001b[39m#carbon_stats[[\"store\"]].clip(upper=0).iloc[1:,:].plot.area(ax=ax, stacked=False)\u001b[39;00m\n\u001b[1;32m     12\u001b[0m ax\u001b[39m.\u001b[39mset_ylabel(\u001b[39m\"\u001b[39m\u001b[39mMtCO2\u001b[39m\u001b[39m\"\u001b[39m)\n",
      "File \u001b[0;32m~/anaconda3/envs/pypsa-earth/lib/python3.10/site-packages/pandas/plotting/_core.py:1557\u001b[0m, in \u001b[0;36mPlotAccessor.area\u001b[0;34m(self, x, y, **kwargs)\u001b[0m\n\u001b[1;32m   1486\u001b[0m \u001b[39mdef\u001b[39;00m \u001b[39marea\u001b[39m(\u001b[39mself\u001b[39m, x\u001b[39m=\u001b[39m\u001b[39mNone\u001b[39;00m, y\u001b[39m=\u001b[39m\u001b[39mNone\u001b[39;00m, \u001b[39m*\u001b[39m\u001b[39m*\u001b[39mkwargs) \u001b[39m-\u001b[39m\u001b[39m>\u001b[39m PlotAccessor:\n\u001b[1;32m   1487\u001b[0m     \u001b[39m\"\"\"\u001b[39;00m\n\u001b[1;32m   1488\u001b[0m \u001b[39m    Draw a stacked area plot.\u001b[39;00m\n\u001b[1;32m   1489\u001b[0m \n\u001b[0;32m   (...)\u001b[0m\n\u001b[1;32m   1555\u001b[0m \u001b[39m        >>> ax = df.plot.area(x='day')\u001b[39;00m\n\u001b[1;32m   1556\u001b[0m \u001b[39m    \"\"\"\u001b[39;00m\n\u001b[0;32m-> 1557\u001b[0m     \u001b[39mreturn\u001b[39;00m \u001b[39mself\u001b[39;49m(kind\u001b[39m=\u001b[39;49m\u001b[39m\"\u001b[39;49m\u001b[39marea\u001b[39;49m\u001b[39m\"\u001b[39;49m, x\u001b[39m=\u001b[39;49mx, y\u001b[39m=\u001b[39;49my, \u001b[39m*\u001b[39;49m\u001b[39m*\u001b[39;49mkwargs)\n",
      "File \u001b[0;32m~/anaconda3/envs/pypsa-earth/lib/python3.10/site-packages/pandas/plotting/_core.py:1000\u001b[0m, in \u001b[0;36mPlotAccessor.__call__\u001b[0;34m(self, *args, **kwargs)\u001b[0m\n\u001b[1;32m    997\u001b[0m             label_name \u001b[39m=\u001b[39m label_kw \u001b[39mor\u001b[39;00m data\u001b[39m.\u001b[39mcolumns\n\u001b[1;32m    998\u001b[0m             data\u001b[39m.\u001b[39mcolumns \u001b[39m=\u001b[39m label_name\n\u001b[0;32m-> 1000\u001b[0m \u001b[39mreturn\u001b[39;00m plot_backend\u001b[39m.\u001b[39;49mplot(data, kind\u001b[39m=\u001b[39;49mkind, \u001b[39m*\u001b[39;49m\u001b[39m*\u001b[39;49mkwargs)\n",
      "File \u001b[0;32m~/anaconda3/envs/pypsa-earth/lib/python3.10/site-packages/pandas/plotting/_matplotlib/__init__.py:71\u001b[0m, in \u001b[0;36mplot\u001b[0;34m(data, kind, **kwargs)\u001b[0m\n\u001b[1;32m     69\u001b[0m         kwargs[\u001b[39m\"\u001b[39m\u001b[39max\u001b[39m\u001b[39m\"\u001b[39m] \u001b[39m=\u001b[39m \u001b[39mgetattr\u001b[39m(ax, \u001b[39m\"\u001b[39m\u001b[39mleft_ax\u001b[39m\u001b[39m\"\u001b[39m, ax)\n\u001b[1;32m     70\u001b[0m plot_obj \u001b[39m=\u001b[39m PLOT_CLASSES[kind](data, \u001b[39m*\u001b[39m\u001b[39m*\u001b[39mkwargs)\n\u001b[0;32m---> 71\u001b[0m plot_obj\u001b[39m.\u001b[39;49mgenerate()\n\u001b[1;32m     72\u001b[0m plot_obj\u001b[39m.\u001b[39mdraw()\n\u001b[1;32m     73\u001b[0m \u001b[39mreturn\u001b[39;00m plot_obj\u001b[39m.\u001b[39mresult\n",
      "File \u001b[0;32m~/anaconda3/envs/pypsa-earth/lib/python3.10/site-packages/pandas/plotting/_matplotlib/core.py:452\u001b[0m, in \u001b[0;36mMPLPlot.generate\u001b[0;34m(self)\u001b[0m\n\u001b[1;32m    450\u001b[0m \u001b[39mself\u001b[39m\u001b[39m.\u001b[39m_compute_plot_data()\n\u001b[1;32m    451\u001b[0m \u001b[39mself\u001b[39m\u001b[39m.\u001b[39m_setup_subplots()\n\u001b[0;32m--> 452\u001b[0m \u001b[39mself\u001b[39;49m\u001b[39m.\u001b[39;49m_make_plot()\n\u001b[1;32m    453\u001b[0m \u001b[39mself\u001b[39m\u001b[39m.\u001b[39m_add_table()\n\u001b[1;32m    454\u001b[0m \u001b[39mself\u001b[39m\u001b[39m.\u001b[39m_make_legend()\n",
      "File \u001b[0;32m~/anaconda3/envs/pypsa-earth/lib/python3.10/site-packages/pandas/plotting/_matplotlib/core.py:1382\u001b[0m, in \u001b[0;36mLinePlot._make_plot\u001b[0;34m(self)\u001b[0m\n\u001b[1;32m   1379\u001b[0m label \u001b[39m=\u001b[39m \u001b[39mself\u001b[39m\u001b[39m.\u001b[39m_mark_right_label(label, index\u001b[39m=\u001b[39mi)\n\u001b[1;32m   1380\u001b[0m kwds[\u001b[39m\"\u001b[39m\u001b[39mlabel\u001b[39m\u001b[39m\"\u001b[39m] \u001b[39m=\u001b[39m label\n\u001b[0;32m-> 1382\u001b[0m newlines \u001b[39m=\u001b[39m plotf(\n\u001b[1;32m   1383\u001b[0m     ax,\n\u001b[1;32m   1384\u001b[0m     x,\n\u001b[1;32m   1385\u001b[0m     y,\n\u001b[1;32m   1386\u001b[0m     style\u001b[39m=\u001b[39;49mstyle,\n\u001b[1;32m   1387\u001b[0m     column_num\u001b[39m=\u001b[39;49mi,\n\u001b[1;32m   1388\u001b[0m     stacking_id\u001b[39m=\u001b[39;49mstacking_id,\n\u001b[1;32m   1389\u001b[0m     is_errorbar\u001b[39m=\u001b[39;49mis_errorbar,\n\u001b[1;32m   1390\u001b[0m     \u001b[39m*\u001b[39;49m\u001b[39m*\u001b[39;49mkwds,\n\u001b[1;32m   1391\u001b[0m )\n\u001b[1;32m   1392\u001b[0m \u001b[39mself\u001b[39m\u001b[39m.\u001b[39m_append_legend_handles_labels(newlines[\u001b[39m0\u001b[39m], label)\n\u001b[1;32m   1394\u001b[0m \u001b[39mif\u001b[39;00m \u001b[39mself\u001b[39m\u001b[39m.\u001b[39m_is_ts_plot():\n\u001b[1;32m   1395\u001b[0m \n\u001b[1;32m   1396\u001b[0m     \u001b[39m# reset of xlim should be used for ts data\u001b[39;00m\n\u001b[1;32m   1397\u001b[0m     \u001b[39m# TODO: GH28021, should find a way to change view limit on xaxis\u001b[39;00m\n",
      "File \u001b[0;32m~/anaconda3/envs/pypsa-earth/lib/python3.10/site-packages/pandas/plotting/_matplotlib/core.py:1555\u001b[0m, in \u001b[0;36mAreaPlot._plot\u001b[0;34m(cls, ax, x, y, style, column_num, stacking_id, is_errorbar, **kwds)\u001b[0m\n\u001b[1;32m   1553\u001b[0m \u001b[39mif\u001b[39;00m column_num \u001b[39m==\u001b[39m \u001b[39m0\u001b[39m:\n\u001b[1;32m   1554\u001b[0m     \u001b[39mcls\u001b[39m\u001b[39m.\u001b[39m_initialize_stacker(ax, stacking_id, \u001b[39mlen\u001b[39m(y))\n\u001b[0;32m-> 1555\u001b[0m y_values \u001b[39m=\u001b[39m \u001b[39mcls\u001b[39;49m\u001b[39m.\u001b[39;49m_get_stacked_values(ax, stacking_id, y, kwds[\u001b[39m\"\u001b[39;49m\u001b[39mlabel\u001b[39;49m\u001b[39m\"\u001b[39;49m])\n\u001b[1;32m   1557\u001b[0m \u001b[39m# need to remove label, because subplots uses mpl legend as it is\u001b[39;00m\n\u001b[1;32m   1558\u001b[0m line_kwds \u001b[39m=\u001b[39m kwds\u001b[39m.\u001b[39mcopy()\n",
      "File \u001b[0;32m~/anaconda3/envs/pypsa-earth/lib/python3.10/site-packages/pandas/plotting/_matplotlib/core.py:1466\u001b[0m, in \u001b[0;36mLinePlot._get_stacked_values\u001b[0;34m(cls, ax, stacking_id, values, label)\u001b[0m\n\u001b[1;32m   1463\u001b[0m \u001b[39melif\u001b[39;00m (values \u001b[39m<\u001b[39m\u001b[39m=\u001b[39m \u001b[39m0\u001b[39m)\u001b[39m.\u001b[39mall():\n\u001b[1;32m   1464\u001b[0m     \u001b[39mreturn\u001b[39;00m ax\u001b[39m.\u001b[39m_stacker_neg_prior[stacking_id] \u001b[39m+\u001b[39m values\n\u001b[0;32m-> 1466\u001b[0m \u001b[39mraise\u001b[39;00m \u001b[39mValueError\u001b[39;00m(\n\u001b[1;32m   1467\u001b[0m     \u001b[39m\"\u001b[39m\u001b[39mWhen stacked is True, each column must be either \u001b[39m\u001b[39m\"\u001b[39m\n\u001b[1;32m   1468\u001b[0m     \u001b[39m\"\u001b[39m\u001b[39mall positive or all negative. \u001b[39m\u001b[39m\"\u001b[39m\n\u001b[1;32m   1469\u001b[0m     \u001b[39mf\u001b[39m\u001b[39m\"\u001b[39m\u001b[39mColumn \u001b[39m\u001b[39m'\u001b[39m\u001b[39m{\u001b[39;00mlabel\u001b[39m}\u001b[39;00m\u001b[39m'\u001b[39m\u001b[39m contains both positive and negative values\u001b[39m\u001b[39m\"\u001b[39m\n\u001b[1;32m   1470\u001b[0m )\n",
      "\u001b[0;31mValueError\u001b[0m: When stacked is True, each column must be either all positive or all negative. Column 'store' contains both positive and negative values"
     ]
    },
    {
     "data": {
      "image/png": "[encoded data removed]",
      "text/plain": [
       "<Figure size 800x600 with 1 Axes>"
      ]
     },
     "metadata": {},
     "output_type": "display_data"
    }
   ],
   "source": [
    "# Plot the carbon stats\n",
    "import matplotlib.pyplot as plt\n",
    "\n",
    "# Create a stackplot + lineplot\n",
    "fig, ax = plt.subplots(figsize=(8, 6))\n",
    "carbon_stats[\"constraint\"].iloc[1:].plot(ax=ax, style=\"k--\", label=\"constraint\")\n",
    "carbon_stats[[\"store\", \"generators\", \"loads\"]].iloc[1:,:].plot.area(ax=ax, stacked=True)\n",
    "# Add carbon_stats[\"store\"] to the stackplot\n",
    "#carbon_stats[[\"store\"]].clip(upper=0).iloc[1:,:].plot.area(ax=ax, stacked=False)\n",
    "\n",
    "\n",
    "ax.set_ylabel(\"MtCO2\")\n",
    "ax.set_xlabel(\"CO2 limit\")\n",
    "ax.set_title(\"CO2 emissions in 2030\")\n",
    "#ax.legend(loc=\"upper left\", bbox_to_anchor=(1, 1))\n",
    "fig.tight_layout()"
   ]
  },
  {
   "attachments": {},
   "cell_type": "markdown",
   "metadata": {},
   "source": [
    "### Ideas\n",
    "- Instead of catching the emissions through the \"store\", is it possible to multiply carrier usage with their co2 intensity and sum it up?\n",
    "\n",
    "### Investigate\n",
    "- Check, wether the CO2 constraint on the carriers actually applies to the carriers by quantifying the carrier usage multiplied with their co2 intensity and summing it up\n",
    "- Possible mistake: the carrier \"land transport oil\" is not listed in n.carriers but used for land transport. It's emissions are accounted in the `co2 atmosphere` store -> (Same as pypsa-eur!). But if there is no \"land transport oil\" carrier, how does the co2 constraint apply to it?\n",
    "- Why is gas/OCGT modelled as a link (as well as a generator)?\n",
    "- co2_absorptions is listed as carrier in pypsa-eur\n",
    "\n",
    "### Explaination\n",
    "\n",
    "General\n",
    "-  There is urban central solid biomass CHP CC, which captures the CO2. Does it make sense that is the same side as DAC in `balances-co2_stored` ?\n",
    "- PyPSA-Eur has \"EU oil\" generator, PyPSA-Earth-Sec does not\n",
    "\n",
    "PyPSA-Eur implementation\n",
    "- In `prepare_network.py` the function `add_co2limit()` is implemented (-> is this rule called also in the sector coupled version?)\n",
    "- In `prepare_sector_network.py` the function `add_co2limit()` is implemented (adds the limit either from carbon budget or wildcard). \n",
    "\n",
    "PyPSA-Earth-Sec implementaion\n",
    "- bla\n",
    "\n",
    "PyPSA-Earth implementation\n",
    "- The CO2 constraint is set on the carrier (on the carrier attribute \"co2_emissions\")\n",
    "- The value in `n.stores_t.e.filter(like=\"co2 atmosphere\").iloc[-1][0]` is equivalent to \"co2\" in the graph `balances-co2.pdf`. If the value is negative, it is displayed as positive in the graph\n",
    "- The value in `n.stores_t.e.filter(like=\"co2 atmosphere\").iloc[-1][0]` does not include electricity/generation emissions and oil emissions modelled as \"loads\"\n",
    "- Through biogas upgrading, it removes co2emissions from the atmosphere (not in reality, but as a balance)\n",
    "- The CO2 emission factors of the carriers are implemented correctly\n",
    "- See here: [prepare_network.py](https://github.com/pypsa-meets-earth/pypsa-earth/blob/aab4d18542466e3ffd89cf5af19f5be99aabdf6a/scripts/prepare_network.py#LL74C1-L81C6): \n",
    "    ```python\n",
    "    def add_co2limit(n, annual_emissions, Nyears=1.0):\n",
    "        n.add(\n",
    "            \"GlobalConstraint\",\n",
    "            \"CO2Limit\",\n",
    "            carrier_attribute=\"co2_emissions\",\n",
    "            sense=\"<=\",\n",
    "            constant=annual_emissions * Nyears,\n",
    "        )\n",
    "    ```"
   ]
  },
  {
   "attachments": {},
   "cell_type": "markdown",
   "metadata": {},
   "source": [
    "Check CHP usage"
   ]
  },
  {
   "cell_type": "code",
   "execution_count": 17,
   "metadata": {},
   "outputs": [
    {
     "data": {
      "text/html": [
       "<div>\n",
       "<style scoped>\n",
       "    .dataframe tbody tr th:only-of-type {\n",
       "        vertical-align: middle;\n",
       "    }\n",
       "\n",
       "    .dataframe tbody tr th {\n",
       "        vertical-align: top;\n",
       "    }\n",
       "\n",
       "    .dataframe thead th {\n",
       "        text-align: right;\n",
       "    }\n",
       "</style>\n",
       "<table border=\"1\" class=\"dataframe\">\n",
       "  <thead>\n",
       "    <tr style=\"text-align: right;\">\n",
       "      <th></th>\n",
       "      <th>Capacity Factor</th>\n",
       "      <th>Capital Expenditure</th>\n",
       "      <th>Curtailment</th>\n",
       "      <th>Installed Capacity</th>\n",
       "      <th>Operational Expenditure</th>\n",
       "      <th>Optimal Capacity</th>\n",
       "      <th>Revenue</th>\n",
       "      <th>Supply</th>\n",
       "      <th>Withdrawal</th>\n",
       "    </tr>\n",
       "    <tr>\n",
       "      <th>carrier</th>\n",
       "      <th></th>\n",
       "      <th></th>\n",
       "      <th></th>\n",
       "      <th></th>\n",
       "      <th></th>\n",
       "      <th></th>\n",
       "      <th></th>\n",
       "      <th></th>\n",
       "      <th></th>\n",
       "    </tr>\n",
       "  </thead>\n",
       "  <tbody>\n",
       "    <tr>\n",
       "      <th>urban central gas CHP</th>\n",
       "      <td>0.21</td>\n",
       "      <td>9.638454e+04</td>\n",
       "      <td>NaN</td>\n",
       "      <td>0.0</td>\n",
       "      <td>1.96</td>\n",
       "      <td>2.23</td>\n",
       "      <td>10.27</td>\n",
       "      <td>0.19</td>\n",
       "      <td>-0.47</td>\n",
       "    </tr>\n",
       "    <tr>\n",
       "      <th>urban central gas CHP CC</th>\n",
       "      <td>0.70</td>\n",
       "      <td>1.492987e+09</td>\n",
       "      <td>NaN</td>\n",
       "      <td>0.0</td>\n",
       "      <td>30735.90</td>\n",
       "      <td>10449.29</td>\n",
       "      <td>139595.17</td>\n",
       "      <td>2847.34</td>\n",
       "      <td>-7300.87</td>\n",
       "    </tr>\n",
       "  </tbody>\n",
       "</table>\n",
       "</div>"
      ],
      "text/plain": [
       "                          Capacity Factor  Capital Expenditure  Curtailment  \\\n",
       "carrier                                                                       \n",
       "urban central gas CHP                0.21         9.638454e+04          NaN   \n",
       "urban central gas CHP CC             0.70         1.492987e+09          NaN   \n",
       "\n",
       "                          Installed Capacity  Operational Expenditure  \\\n",
       "carrier                                                                 \n",
       "urban central gas CHP                    0.0                     1.96   \n",
       "urban central gas CHP CC                 0.0                 30735.90   \n",
       "\n",
       "                          Optimal Capacity    Revenue   Supply  Withdrawal  \n",
       "carrier                                                                     \n",
       "urban central gas CHP                 2.23      10.27     0.19       -0.47  \n",
       "urban central gas CHP CC          10449.29  139595.17  2847.34    -7300.87  "
      ]
     },
     "execution_count": 17,
     "metadata": {},
     "output_type": "execute_result"
    }
   ],
   "source": [
    "n.statistics().loc[\"Link\"][n.statistics().loc[\"Link\"].index.str.contains(\"CHP\")].round(2)"
   ]
  },
  {
   "attachments": {},
   "cell_type": "markdown",
   "metadata": {},
   "source": [
    "Check Biogas usage"
   ]
  },
  {
   "cell_type": "code",
   "execution_count": 30,
   "metadata": {},
   "outputs": [
    {
     "data": {
      "text/html": [
       "<div>\n",
       "<style scoped>\n",
       "    .dataframe tbody tr th:only-of-type {\n",
       "        vertical-align: middle;\n",
       "    }\n",
       "\n",
       "    .dataframe tbody tr th {\n",
       "        vertical-align: top;\n",
       "    }\n",
       "\n",
       "    .dataframe thead th {\n",
       "        text-align: right;\n",
       "    }\n",
       "</style>\n",
       "<table border=\"1\" class=\"dataframe\">\n",
       "  <thead>\n",
       "    <tr style=\"text-align: right;\">\n",
       "      <th></th>\n",
       "      <th>Capacity Factor</th>\n",
       "      <th>Capital Expenditure</th>\n",
       "      <th>Curtailment</th>\n",
       "      <th>Installed Capacity</th>\n",
       "      <th>Operational Expenditure</th>\n",
       "      <th>Optimal Capacity</th>\n",
       "      <th>Revenue</th>\n",
       "      <th>Supply</th>\n",
       "      <th>Withdrawal</th>\n",
       "    </tr>\n",
       "    <tr>\n",
       "      <th>carrier</th>\n",
       "      <th></th>\n",
       "      <th></th>\n",
       "      <th></th>\n",
       "      <th></th>\n",
       "      <th></th>\n",
       "      <th></th>\n",
       "      <th></th>\n",
       "      <th></th>\n",
       "      <th></th>\n",
       "    </tr>\n",
       "  </thead>\n",
       "  <tbody>\n",
       "    <tr>\n",
       "      <th>biogas to gas</th>\n",
       "      <td>1.00</td>\n",
       "      <td>5.525198e+08</td>\n",
       "      <td>NaN</td>\n",
       "      <td>0.0</td>\n",
       "      <td>23607.61</td>\n",
       "      <td>7402.03</td>\n",
       "      <td>-283205.71</td>\n",
       "      <td>7401.13</td>\n",
       "      <td>-7401.13</td>\n",
       "    </tr>\n",
       "    <tr>\n",
       "      <th>biomass EOP</th>\n",
       "      <td>0.41</td>\n",
       "      <td>1.403531e+05</td>\n",
       "      <td>NaN</td>\n",
       "      <td>0.0</td>\n",
       "      <td>0.20</td>\n",
       "      <td>0.77</td>\n",
       "      <td>18.84</td>\n",
       "      <td>0.09</td>\n",
       "      <td>-0.31</td>\n",
       "    </tr>\n",
       "    <tr>\n",
       "      <th>solid biomass for industry</th>\n",
       "      <td>inf</td>\n",
       "      <td>0.000000e+00</td>\n",
       "      <td>NaN</td>\n",
       "      <td>0.0</td>\n",
       "      <td>-0.00</td>\n",
       "      <td>0.00</td>\n",
       "      <td>0.00</td>\n",
       "      <td>0.00</td>\n",
       "      <td>-0.00</td>\n",
       "    </tr>\n",
       "    <tr>\n",
       "      <th>solid biomass for industry CC</th>\n",
       "      <td>0.00</td>\n",
       "      <td>3.009100e+03</td>\n",
       "      <td>NaN</td>\n",
       "      <td>0.0</td>\n",
       "      <td>0.00</td>\n",
       "      <td>0.02</td>\n",
       "      <td>-0.00</td>\n",
       "      <td>0.00</td>\n",
       "      <td>-0.00</td>\n",
       "    </tr>\n",
       "    <tr>\n",
       "      <th>solid biomass transport</th>\n",
       "      <td>0.00</td>\n",
       "      <td>1.992530e+05</td>\n",
       "      <td>NaN</td>\n",
       "      <td>0.0</td>\n",
       "      <td>29.62</td>\n",
       "      <td>25176.53</td>\n",
       "      <td>0.00</td>\n",
       "      <td>4.63</td>\n",
       "      <td>-4.63</td>\n",
       "    </tr>\n",
       "  </tbody>\n",
       "</table>\n",
       "</div>"
      ],
      "text/plain": [
       "                               Capacity Factor  Capital Expenditure  \\\n",
       "carrier                                                               \n",
       "biogas to gas                             1.00         5.525198e+08   \n",
       "biomass EOP                               0.41         1.403531e+05   \n",
       "solid biomass for industry                 inf         0.000000e+00   \n",
       "solid biomass for industry CC             0.00         3.009100e+03   \n",
       "solid biomass transport                   0.00         1.992530e+05   \n",
       "\n",
       "                               Curtailment  Installed Capacity  \\\n",
       "carrier                                                          \n",
       "biogas to gas                          NaN                 0.0   \n",
       "biomass EOP                            NaN                 0.0   \n",
       "solid biomass for industry             NaN                 0.0   \n",
       "solid biomass for industry CC          NaN                 0.0   \n",
       "solid biomass transport                NaN                 0.0   \n",
       "\n",
       "                               Operational Expenditure  Optimal Capacity  \\\n",
       "carrier                                                                    \n",
       "biogas to gas                                 23607.61           7402.03   \n",
       "biomass EOP                                       0.20              0.77   \n",
       "solid biomass for industry                       -0.00              0.00   \n",
       "solid biomass for industry CC                     0.00              0.02   \n",
       "solid biomass transport                          29.62          25176.53   \n",
       "\n",
       "                                 Revenue   Supply  Withdrawal  \n",
       "carrier                                                        \n",
       "biogas to gas                 -283205.71  7401.13    -7401.13  \n",
       "biomass EOP                        18.84     0.09       -0.31  \n",
       "solid biomass for industry          0.00     0.00       -0.00  \n",
       "solid biomass for industry CC      -0.00     0.00       -0.00  \n",
       "solid biomass transport             0.00     4.63       -4.63  "
      ]
     },
     "execution_count": 30,
     "metadata": {},
     "output_type": "execute_result"
    }
   ],
   "source": [
    "n.statistics().loc[\"Link\"][n.statistics().loc[\"Link\"].index.str.contains(\"bio\")].round(2)"
   ]
  },
  {
   "attachments": {},
   "cell_type": "markdown",
   "metadata": {},
   "source": [
    "Show graph in Markdown\n",
    "<image src=\"/mnt/c/Users/scl38887/Documents/git/aldehyde/workflow/subworkflows/pypsa-earth-sec/results/wacc15_hem_1marg_1cap_nosmr_0exp_3h_ws/graphs/balances-AC.pdf\" />\n",
    "\n",
    "Show graph in Markdown\n",
    "<image src=\"/mnt/c/Users/scl38887/Documents/git/aldehyde/workflow/subworkflows/pypsa-earth-sec/results/wacc15_hem_1marg_1cap_nosmr_0exp_3h_ws/graphs/balances-DC.pdf\" />"
   ]
  },
  {
   "cell_type": "code",
   "execution_count": 18,
   "metadata": {},
   "outputs": [
    {
     "data": {
      "text/plain": [
       "68000000.0"
      ]
     },
     "execution_count": 18,
     "metadata": {},
     "output_type": "execute_result"
    }
   ],
   "source": [
    "n.global_constraints.loc[\"CO2Limit\"].constant"
   ]
  },
  {
   "attachments": {},
   "cell_type": "markdown",
   "metadata": {},
   "source": [
    "Check CO2 stores"
   ]
  },
  {
   "cell_type": "code",
   "execution_count": 38,
   "metadata": {},
   "outputs": [
    {
     "data": {
      "text/html": [
       "<div>\n",
       "<style scoped>\n",
       "    .dataframe tbody tr th:only-of-type {\n",
       "        vertical-align: middle;\n",
       "    }\n",
       "\n",
       "    .dataframe tbody tr th {\n",
       "        vertical-align: top;\n",
       "    }\n",
       "\n",
       "    .dataframe thead th {\n",
       "        text-align: right;\n",
       "    }\n",
       "</style>\n",
       "<table border=\"1\" class=\"dataframe\">\n",
       "  <thead>\n",
       "    <tr style=\"text-align: right;\">\n",
       "      <th></th>\n",
       "      <th>bus</th>\n",
       "      <th>capital_cost</th>\n",
       "      <th>carrier</th>\n",
       "      <th>e_cyclic</th>\n",
       "      <th>e_initial</th>\n",
       "      <th>e_min_pu</th>\n",
       "      <th>e_nom</th>\n",
       "      <th>e_nom_extendable</th>\n",
       "      <th>lifetime</th>\n",
       "      <th>marginal_cost</th>\n",
       "      <th>...</th>\n",
       "      <th>type</th>\n",
       "      <th>e_nom_min</th>\n",
       "      <th>e_nom_max</th>\n",
       "      <th>e_max_pu</th>\n",
       "      <th>e_initial_per_period</th>\n",
       "      <th>e_cyclic_per_period</th>\n",
       "      <th>p_set</th>\n",
       "      <th>q_set</th>\n",
       "      <th>sign</th>\n",
       "      <th>build_year</th>\n",
       "    </tr>\n",
       "    <tr>\n",
       "      <th>Store</th>\n",
       "      <th></th>\n",
       "      <th></th>\n",
       "      <th></th>\n",
       "      <th></th>\n",
       "      <th></th>\n",
       "      <th></th>\n",
       "      <th></th>\n",
       "      <th></th>\n",
       "      <th></th>\n",
       "      <th></th>\n",
       "      <th></th>\n",
       "      <th></th>\n",
       "      <th></th>\n",
       "      <th></th>\n",
       "      <th></th>\n",
       "      <th></th>\n",
       "      <th></th>\n",
       "      <th></th>\n",
       "      <th></th>\n",
       "      <th></th>\n",
       "      <th></th>\n",
       "    </tr>\n",
       "  </thead>\n",
       "  <tbody>\n",
       "    <tr>\n",
       "      <th>co2 atmosphere</th>\n",
       "      <td>co2 atmosphere</td>\n",
       "      <td>0.0</td>\n",
       "      <td>co2</td>\n",
       "      <td>False</td>\n",
       "      <td>0.0</td>\n",
       "      <td>-1.0</td>\n",
       "      <td>0.0</td>\n",
       "      <td>True</td>\n",
       "      <td>inf</td>\n",
       "      <td>0.00992</td>\n",
       "      <td>...</td>\n",
       "      <td></td>\n",
       "      <td>0.0</td>\n",
       "      <td>inf</td>\n",
       "      <td>1.0</td>\n",
       "      <td>False</td>\n",
       "      <td>True</td>\n",
       "      <td>0.0</td>\n",
       "      <td>0.0</td>\n",
       "      <td>1.0</td>\n",
       "      <td>0</td>\n",
       "    </tr>\n",
       "  </tbody>\n",
       "</table>\n",
       "<p>1 rows × 22 columns</p>\n",
       "</div>"
      ],
      "text/plain": [
       "                           bus  capital_cost carrier  e_cyclic  e_initial  \\\n",
       "Store                                                                       \n",
       "co2 atmosphere  co2 atmosphere           0.0     co2     False        0.0   \n",
       "\n",
       "                e_min_pu  e_nom  e_nom_extendable  lifetime  marginal_cost  \\\n",
       "Store                                                                        \n",
       "co2 atmosphere      -1.0    0.0              True       inf        0.00992   \n",
       "\n",
       "                ...  type  e_nom_min e_nom_max  e_max_pu  \\\n",
       "Store           ...                                        \n",
       "co2 atmosphere  ...              0.0       inf       1.0   \n",
       "\n",
       "                e_initial_per_period  e_cyclic_per_period  p_set  q_set  sign  \\\n",
       "Store                                                                           \n",
       "co2 atmosphere                 False                 True    0.0    0.0   1.0   \n",
       "\n",
       "                build_year  \n",
       "Store                       \n",
       "co2 atmosphere           0  \n",
       "\n",
       "[1 rows x 22 columns]"
      ]
     },
     "execution_count": 38,
     "metadata": {},
     "output_type": "execute_result"
    }
   ],
   "source": [
    "n.stores[n.stores.index.str.contains(\"co2 atmosphere\")]"
   ]
  },
  {
   "cell_type": "code",
   "execution_count": 50,
   "metadata": {},
   "outputs": [
    {
     "data": {
      "text/plain": [
       "-15.191386448535619"
      ]
     },
     "execution_count": 50,
     "metadata": {},
     "output_type": "execute_result"
    }
   ],
   "source": [
    "n.stores_t.e[\"co2 atmosphere\"][-1]/1e6 # MtCO2\n",
    "# equivalent to n.stores_t.e.filter(like=\"co2 atmosphere\").iloc[-1][0]/ 1e6 # MtCO2\n",
    "# equivalent to (n.stores_t.p[\"co2 atmosphere\"]*n.snapshot_weightings.generators[0]).sum()/1e6 # MtCO2"
   ]
  },
  {
   "cell_type": "code",
   "execution_count": 29,
   "metadata": {},
   "outputs": [],
   "source": [
    "# Plot the store\n",
    "#n.stores_t.e.filter(like=\"co2 atmosphere\").plot()"
   ]
  },
  {
   "cell_type": "code",
   "execution_count": null,
   "metadata": {},
   "outputs": [],
   "source": []
  },
  {
   "attachments": {},
   "cell_type": "markdown",
   "metadata": {},
   "source": [
    "CO2 sequestration"
   ]
  },
  {
   "cell_type": "code",
   "execution_count": 93,
   "metadata": {},
   "outputs": [
    {
     "data": {
      "text/plain": [
       "33.133126337551836"
      ]
     },
     "execution_count": 93,
     "metadata": {},
     "output_type": "execute_result"
    }
   ],
   "source": [
    "n.stores[n.stores.carrier == \"co2 stored\"].e_nom_opt.sum() / 1e6 # in MtCO2"
   ]
  },
  {
   "attachments": {},
   "cell_type": "markdown",
   "metadata": {},
   "source": [
    "Check CO2 balances: links, generators, stores, loads"
   ]
  },
  {
   "cell_type": "code",
   "execution_count": 112,
   "metadata": {},
   "outputs": [
    {
     "data": {
      "text/plain": [
       "array(['OCGT', 'biomass EOP', 'biogas to gas',\n",
       "       'residential rural gas boiler', 'services rural gas boiler',\n",
       "       'residential urban decentral gas boiler',\n",
       "       'services urban decentral gas boiler', 'urban central gas boiler',\n",
       "       'solid biomass for industry CC', 'gas for industry',\n",
       "       'gas for industry CC'], dtype=object)"
      ]
     },
     "execution_count": 112,
     "metadata": {},
     "output_type": "execute_result"
    }
   ],
   "source": [
    "# Show all input and outputs of the bus \"co2 atmosphere\"\n",
    "n.links[n.links.bus2 == \"co2 atmosphere\"].carrier.unique()"
   ]
  },
  {
   "cell_type": "code",
   "execution_count": 144,
   "metadata": {},
   "outputs": [
    {
     "data": {
      "text/plain": [
       "True"
      ]
     },
     "execution_count": 144,
     "metadata": {},
     "output_type": "execute_result"
    }
   ],
   "source": [
    "n.links.bus3.str.contains(\"co2 atmosphere\").any()"
   ]
  },
  {
   "cell_type": "code",
   "execution_count": 152,
   "metadata": {},
   "outputs": [
    {
     "data": {
      "text/plain": [
       "21.905562173742357"
      ]
     },
     "execution_count": 152,
     "metadata": {},
     "output_type": "execute_result"
    }
   ],
   "source": [
    "# Show timeseries of all links connected to \"co2 atmosphere\"\n",
    "n.links_t.p0[n.links[n.links.bus2 == \"co2 atmosphere\"].index].sum(axis=1).sum() / 1e6 # in TWH (?)"
   ]
  },
  {
   "cell_type": "code",
   "execution_count": 187,
   "metadata": {},
   "outputs": [],
   "source": [
    "test = (n.links_t.p0[n.links[n.links.bus2 == \"co2 atmosphere\"].index] * n.links.efficiency2[n.links[n.links.bus2 == \"co2 atmosphere\"].index]).sum().sort_values() * n.snapshot_weightings.generators[0] / 1e6 #.sum().sum() / 1e6 # in Mt"
   ]
  },
  {
   "cell_type": "code",
   "execution_count": 189,
   "metadata": {},
   "outputs": [
    {
     "data": {
      "text/plain": [
       "Link\n",
       "MA.12.3_1_AC biogas to gas                           -2.986766\n",
       "MA.9.2_1_AC biogas to gas                            -2.576405\n",
       "MA.12.4_1_AC biogas to gas                           -2.533285\n",
       "MA.12.5_1_AC biogas to gas                           -1.769921\n",
       "MA.8.3_1_AC biogas to gas                            -0.227011\n",
       "                                                        ...   \n",
       "MA.2.2_1_AC residential urban decentral gas boiler    0.007516\n",
       "MA.4.1_1_AC residential urban decentral gas boiler    0.010109\n",
       "MA.5.2_1_AC residential urban decentral gas boiler    0.010672\n",
       "MA.1.3_1_AC residential urban decentral gas boiler    0.011062\n",
       "MA.5.1_1_AC residential urban decentral gas boiler    0.011432\n",
       "Length: 370, dtype: float64"
      ]
     },
     "execution_count": 189,
     "metadata": {},
     "output_type": "execute_result"
    }
   ],
   "source": [
    "test[test != 0]"
   ]
  },
  {
   "cell_type": "code",
   "execution_count": 186,
   "metadata": {},
   "outputs": [
    {
     "data": {
      "text/plain": [
       "Link\n",
       "MA.12.6_1_AC solid biomass for industry CC    0.0\n",
       "MA.12.5_1_AC solid biomass for industry CC    0.0\n",
       "MA.13.1_1_AC solid biomass for industry CC    0.0\n",
       "MA.12.4_1_AC solid biomass for industry CC    0.0\n",
       "MA.1.3_1_AC solid biomass for industry CC     0.0\n",
       "MA.12.1_1_AC solid biomass for industry CC    0.0\n",
       "MA.12.2_1_AC solid biomass for industry CC    0.0\n",
       "MA.10.1_1_AC solid biomass for industry CC    0.0\n",
       "MA.9.4_1_AC gas for industry CC               0.0\n",
       "MA.10.3_1_AC solid biomass for industry CC    0.0\n",
       "MA.10.4_1_AC solid biomass for industry CC    0.0\n",
       "MA.11.4_1_AC solid biomass for industry CC    0.0\n",
       "MA.10.5_1_AC solid biomass for industry CC    0.0\n",
       "MA.11.1_1_AC solid biomass for industry CC    0.0\n",
       "MA.11.3_1_AC solid biomass for industry CC    0.0\n",
       "MA.12.3_1_AC solid biomass for industry CC    0.0\n",
       "MA.14.1_1_AC solid biomass for industry CC    0.0\n",
       "MA.14.2_1_AC gas for industry                 0.0\n",
       "MA.13.2_1_AC solid biomass for industry CC    0.0\n",
       "MA.8.5_1_AC solid biomass for industry CC     0.0\n",
       "dtype: float64"
      ]
     },
     "execution_count": 186,
     "metadata": {},
     "output_type": "execute_result"
    }
   ],
   "source": [
    "test[50:70]"
   ]
  },
  {
   "cell_type": "code",
   "execution_count": null,
   "metadata": {},
   "outputs": [
    {
     "data": {
      "text/plain": [
       "-4.263253032513284"
      ]
     },
     "metadata": {},
     "output_type": "display_data"
    }
   ],
   "source": [
    "links2= (n.links_t.p0[n.links[n.links.bus2 == \"co2 atmosphere\"].index] * n.links.efficiency2[n.links[n.links.bus2 == \"co2 atmosphere\"].index]).sum().sum() / 1e6 # in Mt"
   ]
  },
  {
   "cell_type": "code",
   "execution_count": 169,
   "metadata": {},
   "outputs": [
    {
     "data": {
      "text/plain": [
       "0.4266422001987908"
      ]
     },
     "execution_count": 169,
     "metadata": {},
     "output_type": "execute_result"
    }
   ],
   "source": [
    "links3 = (n.links_t.p0[n.links[n.links.bus3 == \"co2 atmosphere\"].index] * n.links.efficiency3[n.links[n.links.bus3 == \"co2 atmosphere\"].index]).sum().sum() / 1e6 # in Mt"
   ]
  },
  {
   "cell_type": "code",
   "execution_count": 170,
   "metadata": {},
   "outputs": [
    {
     "data": {
      "text/plain": [
       "0.0"
      ]
     },
     "execution_count": 170,
     "metadata": {},
     "output_type": "execute_result"
    }
   ],
   "source": [
    "links4 = (n.links_t.p0[n.links[n.links.bus4 == \"co2 atmosphere\"].index] * n.links.efficiency4[n.links[n.links.bus4 == \"co2 atmosphere\"].index]).sum().sum() / 1e6 # in Mt"
   ]
  },
  {
   "cell_type": "code",
   "execution_count": 117,
   "metadata": {},
   "outputs": [
    {
     "data": {
      "text/plain": [
       "array([], dtype=object)"
      ]
     },
     "execution_count": 117,
     "metadata": {},
     "output_type": "execute_result"
    }
   ],
   "source": [
    "# Of course no generator feed in into co2 atmosphere\n",
    "n.generators[n.generators.bus == \"co2 atmosphere\"].carrier.unique()"
   ]
  },
  {
   "cell_type": "code",
   "execution_count": null,
   "metadata": {},
   "outputs": [],
   "source": [
    "\n",
    "# Lets see the stores\n",
    "n.stores[n.stores.index.str.contains(\"co2 atmosphere\")]"
   ]
  },
  {
   "cell_type": "code",
   "execution_count": 76,
   "metadata": {},
   "outputs": [
    {
     "data": {
      "text/html": [
       "<div>\n",
       "<style scoped>\n",
       "    .dataframe tbody tr th:only-of-type {\n",
       "        vertical-align: middle;\n",
       "    }\n",
       "\n",
       "    .dataframe tbody tr th {\n",
       "        vertical-align: top;\n",
       "    }\n",
       "\n",
       "    .dataframe thead th {\n",
       "        text-align: right;\n",
       "    }\n",
       "</style>\n",
       "<table border=\"1\" class=\"dataframe\">\n",
       "  <thead>\n",
       "    <tr style=\"text-align: right;\">\n",
       "      <th></th>\n",
       "      <th>bus</th>\n",
       "      <th>carrier</th>\n",
       "      <th>p_set</th>\n",
       "      <th>type</th>\n",
       "      <th>q_set</th>\n",
       "      <th>sign</th>\n",
       "    </tr>\n",
       "    <tr>\n",
       "      <th>Load</th>\n",
       "      <th></th>\n",
       "      <th></th>\n",
       "      <th></th>\n",
       "      <th></th>\n",
       "      <th></th>\n",
       "      <th></th>\n",
       "    </tr>\n",
       "  </thead>\n",
       "  <tbody>\n",
       "    <tr>\n",
       "      <th>industry oil emissions</th>\n",
       "      <td>co2 atmosphere</td>\n",
       "      <td>industry oil emissions</td>\n",
       "      <td>-0.000000</td>\n",
       "      <td></td>\n",
       "      <td>0.0</td>\n",
       "      <td>-1.0</td>\n",
       "    </tr>\n",
       "    <tr>\n",
       "      <th>shipping oil emissions</th>\n",
       "      <td>co2 atmosphere</td>\n",
       "      <td>shipping oil emissions</td>\n",
       "      <td>-311.795205</td>\n",
       "      <td></td>\n",
       "      <td>0.0</td>\n",
       "      <td>-1.0</td>\n",
       "    </tr>\n",
       "    <tr>\n",
       "      <th>aviation oil emissions</th>\n",
       "      <td>co2 atmosphere</td>\n",
       "      <td>oil emissions</td>\n",
       "      <td>-267.740223</td>\n",
       "      <td></td>\n",
       "      <td>0.0</td>\n",
       "      <td>-1.0</td>\n",
       "    </tr>\n",
       "    <tr>\n",
       "      <th>land transport oil emissions</th>\n",
       "      <td>co2 atmosphere</td>\n",
       "      <td>land transport oil emissions</td>\n",
       "      <td>-1473.433121</td>\n",
       "      <td></td>\n",
       "      <td>0.0</td>\n",
       "      <td>-1.0</td>\n",
       "    </tr>\n",
       "  </tbody>\n",
       "</table>\n",
       "</div>"
      ],
      "text/plain": [
       "                                         bus                       carrier  \\\n",
       "Load                                                                         \n",
       "industry oil emissions        co2 atmosphere        industry oil emissions   \n",
       "shipping oil emissions        co2 atmosphere        shipping oil emissions   \n",
       "aviation oil emissions        co2 atmosphere                 oil emissions   \n",
       "land transport oil emissions  co2 atmosphere  land transport oil emissions   \n",
       "\n",
       "                                    p_set type  q_set  sign  \n",
       "Load                                                         \n",
       "industry oil emissions          -0.000000         0.0  -1.0  \n",
       "shipping oil emissions        -311.795205         0.0  -1.0  \n",
       "aviation oil emissions        -267.740223         0.0  -1.0  \n",
       "land transport oil emissions -1473.433121         0.0  -1.0  "
      ]
     },
     "execution_count": 76,
     "metadata": {},
     "output_type": "execute_result"
    }
   ],
   "source": [
    "n.loads[n.loads.bus == \"co2 atmosphere\"]"
   ]
  },
  {
   "cell_type": "code",
   "execution_count": null,
   "metadata": {},
   "outputs": [
    {
     "data": {
      "text/plain": [
       "-17.984004494442807"
      ]
     },
     "metadata": {},
     "output_type": "display_data"
    }
   ],
   "source": [
    "n.loads[n.loads.bus == \"co2 atmosphere\"].p_set.sum() * 8760/1e6 # MtCO2"
   ]
  },
  {
   "cell_type": "code",
   "execution_count": 102,
   "metadata": {},
   "outputs": [
    {
     "data": {
      "text/plain": [
       "0.0"
      ]
     },
     "execution_count": 102,
     "metadata": {},
     "output_type": "execute_result"
    }
   ],
   "source": [
    "n.loads[n.loads.bus == \"process emissions\"].p_set.sum() * 8760/1e6 # MtCO2"
   ]
  },
  {
   "attachments": {},
   "cell_type": "markdown",
   "metadata": {},
   "source": [
    "Check carriers (relevant for the constraint)"
   ]
  },
  {
   "cell_type": "code",
   "execution_count": 30,
   "metadata": {},
   "outputs": [
    {
     "data": {
      "text/html": [
       "<div>\n",
       "<style scoped>\n",
       "    .dataframe tbody tr th:only-of-type {\n",
       "        vertical-align: middle;\n",
       "    }\n",
       "\n",
       "    .dataframe tbody tr th {\n",
       "        vertical-align: top;\n",
       "    }\n",
       "\n",
       "    .dataframe thead th {\n",
       "        text-align: right;\n",
       "    }\n",
       "</style>\n",
       "<table border=\"1\" class=\"dataframe\">\n",
       "  <thead>\n",
       "    <tr style=\"text-align: right;\">\n",
       "      <th></th>\n",
       "      <th>co2_emissions</th>\n",
       "      <th>color</th>\n",
       "      <th>nice_name</th>\n",
       "      <th>max_growth</th>\n",
       "      <th>max_relative_growth</th>\n",
       "    </tr>\n",
       "    <tr>\n",
       "      <th>Carrier</th>\n",
       "      <th></th>\n",
       "      <th></th>\n",
       "      <th></th>\n",
       "      <th></th>\n",
       "      <th></th>\n",
       "    </tr>\n",
       "  </thead>\n",
       "  <tbody>\n",
       "    <tr>\n",
       "      <th>lignite</th>\n",
       "      <td>0.41</td>\n",
       "      <td>#9e5a01</td>\n",
       "      <td>Lignite</td>\n",
       "      <td>inf</td>\n",
       "      <td>0.0</td>\n",
       "    </tr>\n",
       "    <tr>\n",
       "      <th>biomass</th>\n",
       "      <td>0.00</td>\n",
       "      <td>#0c6013</td>\n",
       "      <td>Biomass</td>\n",
       "      <td>inf</td>\n",
       "      <td>0.0</td>\n",
       "    </tr>\n",
       "    <tr>\n",
       "      <th>geothermal</th>\n",
       "      <td>0.03</td>\n",
       "      <td>#ba91b1</td>\n",
       "      <td>Geothermal</td>\n",
       "      <td>inf</td>\n",
       "      <td>0.0</td>\n",
       "    </tr>\n",
       "    <tr>\n",
       "      <th>CCGT</th>\n",
       "      <td>0.20</td>\n",
       "      <td>#b20101</td>\n",
       "      <td>Combined-Cycle Gas</td>\n",
       "      <td>inf</td>\n",
       "      <td>0.0</td>\n",
       "    </tr>\n",
       "    <tr>\n",
       "      <th>solar</th>\n",
       "      <td>0.00</td>\n",
       "      <td>#f9d002</td>\n",
       "      <td>Solar</td>\n",
       "      <td>inf</td>\n",
       "      <td>0.0</td>\n",
       "    </tr>\n",
       "    <tr>\n",
       "      <th>onwind</th>\n",
       "      <td>0.00</td>\n",
       "      <td>#235ebc</td>\n",
       "      <td>Onshore Wind</td>\n",
       "      <td>inf</td>\n",
       "      <td>0.0</td>\n",
       "    </tr>\n",
       "    <tr>\n",
       "      <th>oil</th>\n",
       "      <td>0.26</td>\n",
       "      <td>#262626</td>\n",
       "      <td>Oil</td>\n",
       "      <td>inf</td>\n",
       "      <td>0.0</td>\n",
       "    </tr>\n",
       "    <tr>\n",
       "      <th>coal</th>\n",
       "      <td>0.34</td>\n",
       "      <td>#707070</td>\n",
       "      <td>Coal</td>\n",
       "      <td>inf</td>\n",
       "      <td>0.0</td>\n",
       "    </tr>\n",
       "    <tr>\n",
       "      <th>offwind-ac</th>\n",
       "      <td>0.00</td>\n",
       "      <td>#6895dd</td>\n",
       "      <td>Offshore Wind (AC)</td>\n",
       "      <td>inf</td>\n",
       "      <td>0.0</td>\n",
       "    </tr>\n",
       "    <tr>\n",
       "      <th>OCGT</th>\n",
       "      <td>0.20</td>\n",
       "      <td>#d35050</td>\n",
       "      <td>Open-Cycle Gas</td>\n",
       "      <td>inf</td>\n",
       "      <td>0.0</td>\n",
       "    </tr>\n",
       "    <tr>\n",
       "      <th>offwind-dc</th>\n",
       "      <td>0.00</td>\n",
       "      <td>#74c6f2</td>\n",
       "      <td>Offshore Wind (DC)</td>\n",
       "      <td>inf</td>\n",
       "      <td>0.0</td>\n",
       "    </tr>\n",
       "    <tr>\n",
       "      <th>nuclear</th>\n",
       "      <td>0.00</td>\n",
       "      <td>#ff9000</td>\n",
       "      <td>Nuclear</td>\n",
       "      <td>inf</td>\n",
       "      <td>0.0</td>\n",
       "    </tr>\n",
       "    <tr>\n",
       "      <th>hydro</th>\n",
       "      <td>0.00</td>\n",
       "      <td>#08ad97</td>\n",
       "      <td>Reservoir &amp; Dam</td>\n",
       "      <td>inf</td>\n",
       "      <td>0.0</td>\n",
       "    </tr>\n",
       "    <tr>\n",
       "      <th>PHS</th>\n",
       "      <td>0.00</td>\n",
       "      <td>#08ad97</td>\n",
       "      <td>Pumped Hydro Storage</td>\n",
       "      <td>inf</td>\n",
       "      <td>0.0</td>\n",
       "    </tr>\n",
       "    <tr>\n",
       "      <th>ror</th>\n",
       "      <td>0.00</td>\n",
       "      <td>#4adbc8</td>\n",
       "      <td>Run of River</td>\n",
       "      <td>inf</td>\n",
       "      <td>0.0</td>\n",
       "    </tr>\n",
       "    <tr>\n",
       "      <th>co2</th>\n",
       "      <td>-1.00</td>\n",
       "      <td></td>\n",
       "      <td></td>\n",
       "      <td>inf</td>\n",
       "      <td>0.0</td>\n",
       "    </tr>\n",
       "    <tr>\n",
       "      <th>gas</th>\n",
       "      <td>0.20</td>\n",
       "      <td></td>\n",
       "      <td></td>\n",
       "      <td>inf</td>\n",
       "      <td>0.0</td>\n",
       "    </tr>\n",
       "    <tr>\n",
       "      <th>biogas</th>\n",
       "      <td>0.00</td>\n",
       "      <td></td>\n",
       "      <td></td>\n",
       "      <td>inf</td>\n",
       "      <td>0.0</td>\n",
       "    </tr>\n",
       "    <tr>\n",
       "      <th>solid biomass</th>\n",
       "      <td>0.00</td>\n",
       "      <td></td>\n",
       "      <td></td>\n",
       "      <td>inf</td>\n",
       "      <td>0.0</td>\n",
       "    </tr>\n",
       "    <tr>\n",
       "      <th>H2</th>\n",
       "      <td>0.00</td>\n",
       "      <td></td>\n",
       "      <td></td>\n",
       "      <td>inf</td>\n",
       "      <td>0.0</td>\n",
       "    </tr>\n",
       "    <tr>\n",
       "      <th>battery</th>\n",
       "      <td>0.00</td>\n",
       "      <td></td>\n",
       "      <td></td>\n",
       "      <td>inf</td>\n",
       "      <td>0.0</td>\n",
       "    </tr>\n",
       "    <tr>\n",
       "      <th>residential rural heat</th>\n",
       "      <td>0.00</td>\n",
       "      <td></td>\n",
       "      <td></td>\n",
       "      <td>inf</td>\n",
       "      <td>0.0</td>\n",
       "    </tr>\n",
       "    <tr>\n",
       "      <th>residential rural water tanks</th>\n",
       "      <td>0.00</td>\n",
       "      <td></td>\n",
       "      <td></td>\n",
       "      <td>inf</td>\n",
       "      <td>0.0</td>\n",
       "    </tr>\n",
       "    <tr>\n",
       "      <th>residential rural solar thermal</th>\n",
       "      <td>0.00</td>\n",
       "      <td></td>\n",
       "      <td></td>\n",
       "      <td>inf</td>\n",
       "      <td>0.0</td>\n",
       "    </tr>\n",
       "    <tr>\n",
       "      <th>services rural heat</th>\n",
       "      <td>0.00</td>\n",
       "      <td></td>\n",
       "      <td></td>\n",
       "      <td>inf</td>\n",
       "      <td>0.0</td>\n",
       "    </tr>\n",
       "    <tr>\n",
       "      <th>services rural water tanks</th>\n",
       "      <td>0.00</td>\n",
       "      <td></td>\n",
       "      <td></td>\n",
       "      <td>inf</td>\n",
       "      <td>0.0</td>\n",
       "    </tr>\n",
       "    <tr>\n",
       "      <th>services rural solar thermal</th>\n",
       "      <td>0.00</td>\n",
       "      <td></td>\n",
       "      <td></td>\n",
       "      <td>inf</td>\n",
       "      <td>0.0</td>\n",
       "    </tr>\n",
       "    <tr>\n",
       "      <th>residential urban decentral heat</th>\n",
       "      <td>0.00</td>\n",
       "      <td></td>\n",
       "      <td></td>\n",
       "      <td>inf</td>\n",
       "      <td>0.0</td>\n",
       "    </tr>\n",
       "    <tr>\n",
       "      <th>residential urban decentral water tanks</th>\n",
       "      <td>0.00</td>\n",
       "      <td></td>\n",
       "      <td></td>\n",
       "      <td>inf</td>\n",
       "      <td>0.0</td>\n",
       "    </tr>\n",
       "    <tr>\n",
       "      <th>residential urban decentral solar thermal</th>\n",
       "      <td>0.00</td>\n",
       "      <td></td>\n",
       "      <td></td>\n",
       "      <td>inf</td>\n",
       "      <td>0.0</td>\n",
       "    </tr>\n",
       "    <tr>\n",
       "      <th>services urban decentral heat</th>\n",
       "      <td>0.00</td>\n",
       "      <td></td>\n",
       "      <td></td>\n",
       "      <td>inf</td>\n",
       "      <td>0.0</td>\n",
       "    </tr>\n",
       "    <tr>\n",
       "      <th>services urban decentral water tanks</th>\n",
       "      <td>0.00</td>\n",
       "      <td></td>\n",
       "      <td></td>\n",
       "      <td>inf</td>\n",
       "      <td>0.0</td>\n",
       "    </tr>\n",
       "    <tr>\n",
       "      <th>services urban decentral solar thermal</th>\n",
       "      <td>0.00</td>\n",
       "      <td></td>\n",
       "      <td></td>\n",
       "      <td>inf</td>\n",
       "      <td>0.0</td>\n",
       "    </tr>\n",
       "    <tr>\n",
       "      <th>urban central heat</th>\n",
       "      <td>0.00</td>\n",
       "      <td></td>\n",
       "      <td></td>\n",
       "      <td>inf</td>\n",
       "      <td>0.0</td>\n",
       "    </tr>\n",
       "    <tr>\n",
       "      <th>urban central water tanks</th>\n",
       "      <td>0.00</td>\n",
       "      <td></td>\n",
       "      <td></td>\n",
       "      <td>inf</td>\n",
       "      <td>0.0</td>\n",
       "    </tr>\n",
       "    <tr>\n",
       "      <th>urban central solar thermal</th>\n",
       "      <td>0.00</td>\n",
       "      <td></td>\n",
       "      <td></td>\n",
       "      <td>inf</td>\n",
       "      <td>0.0</td>\n",
       "    </tr>\n",
       "    <tr>\n",
       "      <th>Li ion</th>\n",
       "      <td>0.00</td>\n",
       "      <td></td>\n",
       "      <td></td>\n",
       "      <td>inf</td>\n",
       "      <td>0.0</td>\n",
       "    </tr>\n",
       "  </tbody>\n",
       "</table>\n",
       "</div>"
      ],
      "text/plain": [
       "                                           co2_emissions    color  \\\n",
       "Carrier                                                             \n",
       "lignite                                             0.41  #9e5a01   \n",
       "biomass                                             0.00  #0c6013   \n",
       "geothermal                                          0.03  #ba91b1   \n",
       "CCGT                                                0.20  #b20101   \n",
       "solar                                               0.00  #f9d002   \n",
       "onwind                                              0.00  #235ebc   \n",
       "oil                                                 0.26  #262626   \n",
       "coal                                                0.34  #707070   \n",
       "offwind-ac                                          0.00  #6895dd   \n",
       "OCGT                                                0.20  #d35050   \n",
       "offwind-dc                                          0.00  #74c6f2   \n",
       "nuclear                                             0.00  #ff9000   \n",
       "hydro                                               0.00  #08ad97   \n",
       "PHS                                                 0.00  #08ad97   \n",
       "ror                                                 0.00  #4adbc8   \n",
       "co2                                                -1.00            \n",
       "gas                                                 0.20            \n",
       "biogas                                              0.00            \n",
       "solid biomass                                       0.00            \n",
       "H2                                                  0.00            \n",
       "battery                                             0.00            \n",
       "residential rural heat                              0.00            \n",
       "residential rural water tanks                       0.00            \n",
       "residential rural solar thermal                     0.00            \n",
       "services rural heat                                 0.00            \n",
       "services rural water tanks                          0.00            \n",
       "services rural solar thermal                        0.00            \n",
       "residential urban decentral heat                    0.00            \n",
       "residential urban decentral water tanks             0.00            \n",
       "residential urban decentral solar thermal           0.00            \n",
       "services urban decentral heat                       0.00            \n",
       "services urban decentral water tanks                0.00            \n",
       "services urban decentral solar thermal              0.00            \n",
       "urban central heat                                  0.00            \n",
       "urban central water tanks                           0.00            \n",
       "urban central solar thermal                         0.00            \n",
       "Li ion                                              0.00            \n",
       "\n",
       "                                                      nice_name  max_growth  \\\n",
       "Carrier                                                                       \n",
       "lignite                                                 Lignite         inf   \n",
       "biomass                                                 Biomass         inf   \n",
       "geothermal                                           Geothermal         inf   \n",
       "CCGT                                         Combined-Cycle Gas         inf   \n",
       "solar                                                     Solar         inf   \n",
       "onwind                                             Onshore Wind         inf   \n",
       "oil                                                         Oil         inf   \n",
       "coal                                                       Coal         inf   \n",
       "offwind-ac                                   Offshore Wind (AC)         inf   \n",
       "OCGT                                             Open-Cycle Gas         inf   \n",
       "offwind-dc                                   Offshore Wind (DC)         inf   \n",
       "nuclear                                                 Nuclear         inf   \n",
       "hydro                                           Reservoir & Dam         inf   \n",
       "PHS                                        Pumped Hydro Storage         inf   \n",
       "ror                                                Run of River         inf   \n",
       "co2                                                                     inf   \n",
       "gas                                                                     inf   \n",
       "biogas                                                                  inf   \n",
       "solid biomass                                                           inf   \n",
       "H2                                                                      inf   \n",
       "battery                                                                 inf   \n",
       "residential rural heat                                                  inf   \n",
       "residential rural water tanks                                           inf   \n",
       "residential rural solar thermal                                         inf   \n",
       "services rural heat                                                     inf   \n",
       "services rural water tanks                                              inf   \n",
       "services rural solar thermal                                            inf   \n",
       "residential urban decentral heat                                        inf   \n",
       "residential urban decentral water tanks                                 inf   \n",
       "residential urban decentral solar thermal                               inf   \n",
       "services urban decentral heat                                           inf   \n",
       "services urban decentral water tanks                                    inf   \n",
       "services urban decentral solar thermal                                  inf   \n",
       "urban central heat                                                      inf   \n",
       "urban central water tanks                                               inf   \n",
       "urban central solar thermal                                             inf   \n",
       "Li ion                                                                  inf   \n",
       "\n",
       "                                           max_relative_growth  \n",
       "Carrier                                                         \n",
       "lignite                                                    0.0  \n",
       "biomass                                                    0.0  \n",
       "geothermal                                                 0.0  \n",
       "CCGT                                                       0.0  \n",
       "solar                                                      0.0  \n",
       "onwind                                                     0.0  \n",
       "oil                                                        0.0  \n",
       "coal                                                       0.0  \n",
       "offwind-ac                                                 0.0  \n",
       "OCGT                                                       0.0  \n",
       "offwind-dc                                                 0.0  \n",
       "nuclear                                                    0.0  \n",
       "hydro                                                      0.0  \n",
       "PHS                                                        0.0  \n",
       "ror                                                        0.0  \n",
       "co2                                                        0.0  \n",
       "gas                                                        0.0  \n",
       "biogas                                                     0.0  \n",
       "solid biomass                                              0.0  \n",
       "H2                                                         0.0  \n",
       "battery                                                    0.0  \n",
       "residential rural heat                                     0.0  \n",
       "residential rural water tanks                              0.0  \n",
       "residential rural solar thermal                            0.0  \n",
       "services rural heat                                        0.0  \n",
       "services rural water tanks                                 0.0  \n",
       "services rural solar thermal                               0.0  \n",
       "residential urban decentral heat                           0.0  \n",
       "residential urban decentral water tanks                    0.0  \n",
       "residential urban decentral solar thermal                  0.0  \n",
       "services urban decentral heat                              0.0  \n",
       "services urban decentral water tanks                       0.0  \n",
       "services urban decentral solar thermal                     0.0  \n",
       "urban central heat                                         0.0  \n",
       "urban central water tanks                                  0.0  \n",
       "urban central solar thermal                                0.0  \n",
       "Li ion                                                     0.0  "
      ]
     },
     "execution_count": 30,
     "metadata": {},
     "output_type": "execute_result"
    }
   ],
   "source": [
    "n.carriers #.index.str.contains(\"oil\")"
   ]
  },
  {
   "attachments": {},
   "cell_type": "markdown",
   "metadata": {},
   "source": [
    "Check PyPSA-Eur for comparison"
   ]
  },
  {
   "cell_type": "code",
   "execution_count": 10,
   "metadata": {},
   "outputs": [
    {
     "name": "stderr",
     "output_type": "stream",
     "text": [
      "INFO:pypsa.io:Imported network elec_s_37_lv1.0__Co2L0-2000H-T-H-B-I-A-solar+p3-dist1_2050.nc has buses, carriers, generators, global_constraints, lines, links, loads, storage_units, stores\n"
     ]
    },
    {
     "data": {
      "text/plain": [
       "array(['offwind-ac', 'onwind', 'ror', 'solar', 'offwind-dc', 'gas',\n",
       "       'residential rural solar thermal', 'services rural solar thermal',\n",
       "       'residential urban decentral solar thermal',\n",
       "       'services urban decentral solar thermal',\n",
       "       'urban central solar thermal', 'oil', 'solar rooftop'],\n",
       "      dtype=object)"
      ]
     },
     "execution_count": 10,
     "metadata": {},
     "output_type": "execute_result"
    }
   ],
   "source": [
    "# Check carriers of pypsa-eur\n",
    "n_eur = pypsa.Network(\"/mnt/c/Users/scl38887/Documents/git/pypsa-eur/results/testrun/postnetworks/elec_s_37_lv1.0__Co2L0-2000H-T-H-B-I-A-solar+p3-dist1_2050.nc\")\n",
    "#n_eur.carriers.index.str.contains(\"oil\")\n",
    "n_eur.generators.carrier.unique()"
   ]
  },
  {
   "cell_type": "code",
   "execution_count": 37,
   "metadata": {},
   "outputs": [
    {
     "data": {
      "text/html": [
       "<div>\n",
       "<style scoped>\n",
       "    .dataframe tbody tr th:only-of-type {\n",
       "        vertical-align: middle;\n",
       "    }\n",
       "\n",
       "    .dataframe tbody tr th {\n",
       "        vertical-align: top;\n",
       "    }\n",
       "\n",
       "    .dataframe thead th {\n",
       "        text-align: right;\n",
       "    }\n",
       "</style>\n",
       "<table border=\"1\" class=\"dataframe\">\n",
       "  <thead>\n",
       "    <tr style=\"text-align: right;\">\n",
       "      <th></th>\n",
       "      <th>p_nom_max</th>\n",
       "      <th>weight</th>\n",
       "      <th>p_nom</th>\n",
       "      <th>capital_cost</th>\n",
       "      <th>efficiency</th>\n",
       "      <th>p_nom_min</th>\n",
       "      <th>marginal_cost</th>\n",
       "      <th>bus</th>\n",
       "      <th>carrier</th>\n",
       "      <th>p_nom_extendable</th>\n",
       "      <th>...</th>\n",
       "      <th>start_up_cost</th>\n",
       "      <th>shut_down_cost</th>\n",
       "      <th>min_up_time</th>\n",
       "      <th>min_down_time</th>\n",
       "      <th>up_time_before</th>\n",
       "      <th>down_time_before</th>\n",
       "      <th>ramp_limit_up</th>\n",
       "      <th>ramp_limit_down</th>\n",
       "      <th>ramp_limit_start_up</th>\n",
       "      <th>ramp_limit_shut_down</th>\n",
       "    </tr>\n",
       "    <tr>\n",
       "      <th>Generator</th>\n",
       "      <th></th>\n",
       "      <th></th>\n",
       "      <th></th>\n",
       "      <th></th>\n",
       "      <th></th>\n",
       "      <th></th>\n",
       "      <th></th>\n",
       "      <th></th>\n",
       "      <th></th>\n",
       "      <th></th>\n",
       "      <th></th>\n",
       "      <th></th>\n",
       "      <th></th>\n",
       "      <th></th>\n",
       "      <th></th>\n",
       "      <th></th>\n",
       "      <th></th>\n",
       "      <th></th>\n",
       "      <th></th>\n",
       "      <th></th>\n",
       "      <th></th>\n",
       "    </tr>\n",
       "  </thead>\n",
       "  <tbody>\n",
       "    <tr>\n",
       "      <th>MA.12.6_1_AC oil</th>\n",
       "      <td>inf</td>\n",
       "      <td>0.0</td>\n",
       "      <td>211.386221</td>\n",
       "      <td>61499.694996</td>\n",
       "      <td>0.35</td>\n",
       "      <td>211.386221</td>\n",
       "      <td>148.868076</td>\n",
       "      <td>MA.12.6_1_AC</td>\n",
       "      <td>oil</td>\n",
       "      <td>False</td>\n",
       "      <td>...</td>\n",
       "      <td>0.0</td>\n",
       "      <td>0.0</td>\n",
       "      <td>0</td>\n",
       "      <td>0</td>\n",
       "      <td>1</td>\n",
       "      <td>0</td>\n",
       "      <td>NaN</td>\n",
       "      <td>NaN</td>\n",
       "      <td>1.0</td>\n",
       "      <td>1.0</td>\n",
       "    </tr>\n",
       "    <tr>\n",
       "      <th>MA.14.5_1_AC oil</th>\n",
       "      <td>inf</td>\n",
       "      <td>0.0</td>\n",
       "      <td>134.318647</td>\n",
       "      <td>61499.694996</td>\n",
       "      <td>0.35</td>\n",
       "      <td>134.318647</td>\n",
       "      <td>148.867075</td>\n",
       "      <td>MA.14.5_1_AC</td>\n",
       "      <td>oil</td>\n",
       "      <td>False</td>\n",
       "      <td>...</td>\n",
       "      <td>0.0</td>\n",
       "      <td>0.0</td>\n",
       "      <td>0</td>\n",
       "      <td>0</td>\n",
       "      <td>1</td>\n",
       "      <td>0</td>\n",
       "      <td>NaN</td>\n",
       "      <td>NaN</td>\n",
       "      <td>1.0</td>\n",
       "      <td>1.0</td>\n",
       "    </tr>\n",
       "    <tr>\n",
       "      <th>MA.4.1_1_AC oil</th>\n",
       "      <td>inf</td>\n",
       "      <td>0.0</td>\n",
       "      <td>277.900649</td>\n",
       "      <td>61499.694996</td>\n",
       "      <td>0.35</td>\n",
       "      <td>277.900649</td>\n",
       "      <td>148.867387</td>\n",
       "      <td>MA.4.1_1_AC</td>\n",
       "      <td>oil</td>\n",
       "      <td>False</td>\n",
       "      <td>...</td>\n",
       "      <td>0.0</td>\n",
       "      <td>0.0</td>\n",
       "      <td>0</td>\n",
       "      <td>0</td>\n",
       "      <td>1</td>\n",
       "      <td>0</td>\n",
       "      <td>NaN</td>\n",
       "      <td>NaN</td>\n",
       "      <td>1.0</td>\n",
       "      <td>1.0</td>\n",
       "    </tr>\n",
       "    <tr>\n",
       "      <th>MA.5.1_1_AC oil</th>\n",
       "      <td>inf</td>\n",
       "      <td>0.0</td>\n",
       "      <td>188.972441</td>\n",
       "      <td>61499.694996</td>\n",
       "      <td>0.35</td>\n",
       "      <td>188.972441</td>\n",
       "      <td>148.866741</td>\n",
       "      <td>MA.5.1_1_AC</td>\n",
       "      <td>oil</td>\n",
       "      <td>False</td>\n",
       "      <td>...</td>\n",
       "      <td>0.0</td>\n",
       "      <td>0.0</td>\n",
       "      <td>0</td>\n",
       "      <td>0</td>\n",
       "      <td>1</td>\n",
       "      <td>0</td>\n",
       "      <td>NaN</td>\n",
       "      <td>NaN</td>\n",
       "      <td>1.0</td>\n",
       "      <td>1.0</td>\n",
       "    </tr>\n",
       "    <tr>\n",
       "      <th>MA.5.2_1_AC oil</th>\n",
       "      <td>inf</td>\n",
       "      <td>0.0</td>\n",
       "      <td>925.409160</td>\n",
       "      <td>61499.694996</td>\n",
       "      <td>0.35</td>\n",
       "      <td>925.409160</td>\n",
       "      <td>148.866508</td>\n",
       "      <td>MA.5.2_1_AC</td>\n",
       "      <td>oil</td>\n",
       "      <td>False</td>\n",
       "      <td>...</td>\n",
       "      <td>0.0</td>\n",
       "      <td>0.0</td>\n",
       "      <td>0</td>\n",
       "      <td>0</td>\n",
       "      <td>1</td>\n",
       "      <td>0</td>\n",
       "      <td>NaN</td>\n",
       "      <td>NaN</td>\n",
       "      <td>1.0</td>\n",
       "      <td>1.0</td>\n",
       "    </tr>\n",
       "  </tbody>\n",
       "</table>\n",
       "<p>5 rows × 31 columns</p>\n",
       "</div>"
      ],
      "text/plain": [
       "                  p_nom_max  weight       p_nom  capital_cost  efficiency  \\\n",
       "Generator                                                                   \n",
       "MA.12.6_1_AC oil        inf     0.0  211.386221  61499.694996        0.35   \n",
       "MA.14.5_1_AC oil        inf     0.0  134.318647  61499.694996        0.35   \n",
       "MA.4.1_1_AC oil         inf     0.0  277.900649  61499.694996        0.35   \n",
       "MA.5.1_1_AC oil         inf     0.0  188.972441  61499.694996        0.35   \n",
       "MA.5.2_1_AC oil         inf     0.0  925.409160  61499.694996        0.35   \n",
       "\n",
       "                   p_nom_min  marginal_cost           bus carrier  \\\n",
       "Generator                                                           \n",
       "MA.12.6_1_AC oil  211.386221     148.868076  MA.12.6_1_AC     oil   \n",
       "MA.14.5_1_AC oil  134.318647     148.867075  MA.14.5_1_AC     oil   \n",
       "MA.4.1_1_AC oil   277.900649     148.867387   MA.4.1_1_AC     oil   \n",
       "MA.5.1_1_AC oil   188.972441     148.866741   MA.5.1_1_AC     oil   \n",
       "MA.5.2_1_AC oil   925.409160     148.866508   MA.5.2_1_AC     oil   \n",
       "\n",
       "                  p_nom_extendable  ... start_up_cost  shut_down_cost  \\\n",
       "Generator                           ...                                 \n",
       "MA.12.6_1_AC oil             False  ...           0.0             0.0   \n",
       "MA.14.5_1_AC oil             False  ...           0.0             0.0   \n",
       "MA.4.1_1_AC oil              False  ...           0.0             0.0   \n",
       "MA.5.1_1_AC oil              False  ...           0.0             0.0   \n",
       "MA.5.2_1_AC oil              False  ...           0.0             0.0   \n",
       "\n",
       "                  min_up_time min_down_time  up_time_before  down_time_before  \\\n",
       "Generator                                                                       \n",
       "MA.12.6_1_AC oil            0             0               1                 0   \n",
       "MA.14.5_1_AC oil            0             0               1                 0   \n",
       "MA.4.1_1_AC oil             0             0               1                 0   \n",
       "MA.5.1_1_AC oil             0             0               1                 0   \n",
       "MA.5.2_1_AC oil             0             0               1                 0   \n",
       "\n",
       "                  ramp_limit_up  ramp_limit_down  ramp_limit_start_up  \\\n",
       "Generator                                                               \n",
       "MA.12.6_1_AC oil            NaN              NaN                  1.0   \n",
       "MA.14.5_1_AC oil            NaN              NaN                  1.0   \n",
       "MA.4.1_1_AC oil             NaN              NaN                  1.0   \n",
       "MA.5.1_1_AC oil             NaN              NaN                  1.0   \n",
       "MA.5.2_1_AC oil             NaN              NaN                  1.0   \n",
       "\n",
       "                  ramp_limit_shut_down  \n",
       "Generator                               \n",
       "MA.12.6_1_AC oil                   1.0  \n",
       "MA.14.5_1_AC oil                   1.0  \n",
       "MA.4.1_1_AC oil                    1.0  \n",
       "MA.5.1_1_AC oil                    1.0  \n",
       "MA.5.2_1_AC oil                    1.0  \n",
       "\n",
       "[5 rows x 31 columns]"
      ]
     },
     "execution_count": 37,
     "metadata": {},
     "output_type": "execute_result"
    }
   ],
   "source": [
    "n.generators[n.generators.carrier == \"oil\"]   "
   ]
  },
  {
   "cell_type": "code",
   "execution_count": null,
   "metadata": {},
   "outputs": [],
   "source": [
    "n_eur.generators[n_eur.generators.carrier == \"oil\"]"
   ]
  },
  {
   "cell_type": "code",
   "execution_count": 11,
   "metadata": {},
   "outputs": [
    {
     "data": {
      "text/html": [
       "<div>\n",
       "<style scoped>\n",
       "    .dataframe tbody tr th:only-of-type {\n",
       "        vertical-align: middle;\n",
       "    }\n",
       "\n",
       "    .dataframe tbody tr th {\n",
       "        vertical-align: top;\n",
       "    }\n",
       "\n",
       "    .dataframe thead th {\n",
       "        text-align: right;\n",
       "    }\n",
       "</style>\n",
       "<table border=\"1\" class=\"dataframe\">\n",
       "  <thead>\n",
       "    <tr style=\"text-align: right;\">\n",
       "      <th></th>\n",
       "      <th>type</th>\n",
       "      <th>carrier_attribute</th>\n",
       "      <th>sense</th>\n",
       "      <th>constant</th>\n",
       "      <th>investment_period</th>\n",
       "      <th>mu</th>\n",
       "    </tr>\n",
       "    <tr>\n",
       "      <th>GlobalConstraint</th>\n",
       "      <th></th>\n",
       "      <th></th>\n",
       "      <th></th>\n",
       "      <th></th>\n",
       "      <th></th>\n",
       "      <th></th>\n",
       "    </tr>\n",
       "  </thead>\n",
       "  <tbody>\n",
       "    <tr>\n",
       "      <th>lv_limit</th>\n",
       "      <td>transmission_volume_expansion_limit</td>\n",
       "      <td>AC, DC</td>\n",
       "      <td>&lt;=</td>\n",
       "      <td>1.511434e+08</td>\n",
       "      <td>NaN</td>\n",
       "      <td>0.0</td>\n",
       "    </tr>\n",
       "    <tr>\n",
       "      <th>CO2Limit</th>\n",
       "      <td>primary_energy</td>\n",
       "      <td>co2_emissions</td>\n",
       "      <td>&lt;=</td>\n",
       "      <td>0.000000e+00</td>\n",
       "      <td>NaN</td>\n",
       "      <td>0.0</td>\n",
       "    </tr>\n",
       "    <tr>\n",
       "      <th>co2_sequestration_limit</th>\n",
       "      <td>primary_energy</td>\n",
       "      <td>co2_absorptions</td>\n",
       "      <td>&lt;=</td>\n",
       "      <td>2.000000e+08</td>\n",
       "      <td>NaN</td>\n",
       "      <td>0.0</td>\n",
       "    </tr>\n",
       "  </tbody>\n",
       "</table>\n",
       "</div>"
      ],
      "text/plain": [
       "                                                        type  \\\n",
       "GlobalConstraint                                               \n",
       "lv_limit                 transmission_volume_expansion_limit   \n",
       "CO2Limit                                      primary_energy   \n",
       "co2_sequestration_limit                       primary_energy   \n",
       "\n",
       "                        carrier_attribute sense      constant  \\\n",
       "GlobalConstraint                                                \n",
       "lv_limit                           AC, DC    <=  1.511434e+08   \n",
       "CO2Limit                    co2_emissions    <=  0.000000e+00   \n",
       "co2_sequestration_limit   co2_absorptions    <=  2.000000e+08   \n",
       "\n",
       "                         investment_period   mu  \n",
       "GlobalConstraint                                 \n",
       "lv_limit                               NaN  0.0  \n",
       "CO2Limit                               NaN  0.0  \n",
       "co2_sequestration_limit                NaN  0.0  "
      ]
     },
     "execution_count": 11,
     "metadata": {},
     "output_type": "execute_result"
    }
   ],
   "source": [
    "n_eur.global_constraints"
   ]
  },
  {
   "cell_type": "code",
   "execution_count": 14,
   "metadata": {},
   "outputs": [
    {
     "data": {
      "text/html": [
       "<div>\n",
       "<style scoped>\n",
       "    .dataframe tbody tr th:only-of-type {\n",
       "        vertical-align: middle;\n",
       "    }\n",
       "\n",
       "    .dataframe tbody tr th {\n",
       "        vertical-align: top;\n",
       "    }\n",
       "\n",
       "    .dataframe thead th {\n",
       "        text-align: right;\n",
       "    }\n",
       "</style>\n",
       "<table border=\"1\" class=\"dataframe\">\n",
       "  <thead>\n",
       "    <tr style=\"text-align: right;\">\n",
       "      <th></th>\n",
       "      <th>type</th>\n",
       "      <th>carrier_attribute</th>\n",
       "      <th>sense</th>\n",
       "      <th>constant</th>\n",
       "      <th>investment_period</th>\n",
       "      <th>mu</th>\n",
       "    </tr>\n",
       "    <tr>\n",
       "      <th>GlobalConstraint</th>\n",
       "      <th></th>\n",
       "      <th></th>\n",
       "      <th></th>\n",
       "      <th></th>\n",
       "      <th></th>\n",
       "      <th></th>\n",
       "    </tr>\n",
       "  </thead>\n",
       "  <tbody>\n",
       "    <tr>\n",
       "      <th>CO2Limit</th>\n",
       "      <td>primary_energy</td>\n",
       "      <td>co2_emissions</td>\n",
       "      <td>&lt;=</td>\n",
       "      <td>4.000000e+06</td>\n",
       "      <td>NaN</td>\n",
       "      <td>0.0</td>\n",
       "    </tr>\n",
       "    <tr>\n",
       "      <th>lc_limit</th>\n",
       "      <td>transmission_expansion_cost_limit</td>\n",
       "      <td>AC, DC</td>\n",
       "      <td>&lt;=</td>\n",
       "      <td>9.838156e+08</td>\n",
       "      <td>NaN</td>\n",
       "      <td>0.0</td>\n",
       "    </tr>\n",
       "  </tbody>\n",
       "</table>\n",
       "</div>"
      ],
      "text/plain": [
       "                                               type carrier_attribute sense  \\\n",
       "GlobalConstraint                                                              \n",
       "CO2Limit                             primary_energy     co2_emissions    <=   \n",
       "lc_limit          transmission_expansion_cost_limit            AC, DC    <=   \n",
       "\n",
       "                      constant  investment_period   mu  \n",
       "GlobalConstraint                                        \n",
       "CO2Limit          4.000000e+06                NaN  0.0  \n",
       "lc_limit          9.838156e+08                NaN  0.0  "
      ]
     },
     "execution_count": 14,
     "metadata": {},
     "output_type": "execute_result"
    }
   ],
   "source": [
    "n.global_constraints"
   ]
  },
  {
   "attachments": {},
   "cell_type": "markdown",
   "metadata": {},
   "source": [
    "Compute actual CO2 emissions (using the carriers)\n",
    "\n",
    "Next: Include links (e.g. oil)? \n",
    "- Alternative Approach: Connect AC generators to CO2 atmosphere bus? -> modelled as links\n",
    "- -> Check how pypsa-eur does it!"
   ]
  },
  {
   "cell_type": "code",
   "execution_count": 154,
   "metadata": {},
   "outputs": [
    {
     "name": "stdout",
     "output_type": "stream",
     "text": [
      "Total coal usage: 50061.46 GWh\n"
     ]
    }
   ],
   "source": [
    "carrier = \"coal\"\n",
    "total_usage = 0.0\n",
    "\n",
    "# Iterate over the generators\n",
    "for _, gen in n_highem.generators.iterrows():\n",
    "    total_usage += n_highem.generators_t.p[gen.name].sum() * n.snapshot_weightings.generators[0] if gen.carrier.upper() == carrier.upper() else 0.0\n",
    "\n",
    "# Iterate over the links\n",
    "for _, link in n_highem.links.iterrows():\n",
    "    total_usage += n_highem.links_t.p0[link.name].sum() * n.snapshot_weightings.links[0] if link.carrier.upper() == carrier.upper() else 0.0\n",
    "    \n",
    "\n",
    "\n",
    "print(f\"Total {carrier} usage: {total_usage/1e3:.2f} GWh\")\n"
   ]
  },
  {
   "cell_type": "code",
   "execution_count": 21,
   "metadata": {},
   "outputs": [
    {
     "name": "stderr",
     "output_type": "stream",
     "text": [
      "INFO:pypsa.io:Imported network elec_s_10_ec_lc1.0_Co2L20.0_3H_2030_0.15_DF_0export.nc has buses, carriers, generators, global_constraints, lines, links, loads, storage_units, stores\n"
     ]
    }
   ],
   "source": [
    "# Read high emission network (Co2L = 20.0)\n",
    "Co2L = \"Co2L20.0\"\n",
    "n_highem = pypsa.Network(prefix + \"/workflow/subworkflows/pypsa-earth-sec/results/\" + run + \"/postnetworks/elec_s_10_ec_lc1.0_\"+Co2L+\"_3H_2030_0.15_DF_0export.nc\")"
   ]
  },
  {
   "cell_type": "code",
   "execution_count": 22,
   "metadata": {},
   "outputs": [],
   "source": [
    "emissions = n_highem.generators_t.p / n_highem.generators.efficiency * n_highem.generators.carrier.map(n_highem.carriers.co2_emissions) # t/h"
   ]
  },
  {
   "cell_type": "code",
   "execution_count": 23,
   "metadata": {},
   "outputs": [
    {
     "data": {
      "text/plain": [
       "53.16724895696999"
      ]
     },
     "execution_count": 23,
     "metadata": {},
     "output_type": "execute_result"
    }
   ],
   "source": [
    "n_highem.snapshot_weightings.generators @ emissions.sum(axis=1).div(1e6) # Mt"
   ]
  },
  {
   "cell_type": "code",
   "execution_count": 123,
   "metadata": {},
   "outputs": [
    {
     "data": {
      "text/plain": [
       "array(['AC', 'residential rural heat', 'services rural heat',\n",
       "       'residential urban decentral heat',\n",
       "       'services urban decentral heat', 'urban central heat',\n",
       "       'solid biomass for industry', 'gas for industry',\n",
       "       'H2 for industry', 'naphtha for industry',\n",
       "       'industry oil emissions', 'low-temperature heat for industry',\n",
       "       'industry electricity', 'process emissions', 'H2 for shipping',\n",
       "       'shipping oil', 'shipping oil emissions', 'kerosene for aviation',\n",
       "       'oil emissions', 'land transport EV', 'land transport fuel cell',\n",
       "       'land transport oil', 'land transport oil emissions', 'H2'],\n",
       "      dtype=object)"
      ]
     },
     "execution_count": 123,
     "metadata": {},
     "output_type": "execute_result"
    }
   ],
   "source": [
    "n.loads.carrier.unique()    "
   ]
  },
  {
   "cell_type": "code",
   "execution_count": 70,
   "metadata": {},
   "outputs": [
    {
     "data": {
      "text/plain": [
       "18.301555418878717"
      ]
     },
     "execution_count": 70,
     "metadata": {},
     "output_type": "execute_result"
    }
   ],
   "source": [
    "n.generators_t.p[gen.name].sum() * n.snapshot_weightings.generators[0]"
   ]
  },
  {
   "cell_type": "code",
   "execution_count": 113,
   "metadata": {},
   "outputs": [
    {
     "data": {
      "text/plain": [
       "array(['OCGT', 'biomass EOP', 'biogas to gas',\n",
       "       'residential rural gas boiler', 'services rural gas boiler',\n",
       "       'residential urban decentral gas boiler',\n",
       "       'services urban decentral gas boiler', 'urban central gas boiler',\n",
       "       'solid biomass for industry CC', 'gas for industry',\n",
       "       'gas for industry CC'], dtype=object)"
      ]
     },
     "execution_count": 113,
     "metadata": {},
     "output_type": "execute_result"
    }
   ],
   "source": [
    "# Links connected to the co2 atmosphere. OCGT/ Gas is added here: https://github.com/PyPSA/pypsa-eur/blob/master/scripts/prepare_sector_network.py#L767\n",
    "n.links[n.links.bus2 == \"co2 atmosphere\"].carrier.unique() #.bus"
   ]
  },
  {
   "attachments": {},
   "cell_type": "markdown",
   "metadata": {},
   "source": [
    "### Old stuff"
   ]
  },
  {
   "cell_type": "code",
   "execution_count": null,
   "metadata": {},
   "outputs": [],
   "source": [
    "# Get the energy of all generators grouped by carrier\n",
    "n.generators_t.p.groupby(n.generators.carrier,axis=1).sum().sum()/1e6*n.snapshot_weightings.generators[0] #in TWh"
   ]
  },
  {
   "cell_type": "code",
   "execution_count": null,
   "metadata": {},
   "outputs": [],
   "source": [
    "#n.generators.p_nom_opt.groupby(n.generators.carrier).sum()/1e3"
   ]
  },
  {
   "cell_type": "code",
   "execution_count": null,
   "metadata": {},
   "outputs": [],
   "source": [
    "# Get the energy of all loads grouped by carrier using the snapshot_weightings and loads_t.p_set\n",
    "n.loads_t.p.groupby(n.loads.carrier,axis=1).sum().sum()/1e6*n.snapshot_weightings.generators[0] #in TWh"
   ]
  },
  {
   "cell_type": "code",
   "execution_count": null,
   "metadata": {},
   "outputs": [],
   "source": [
    "# Total capacity Fischer-Tropsch    \n",
    "n.links[n.links.carrier.str.contains('Fischer-Tropsch')].p_nom_opt.sum() /1e3 # in GW"
   ]
  },
  {
   "cell_type": "code",
   "execution_count": null,
   "metadata": {},
   "outputs": [],
   "source": [
    "# Get the energy of Fischer tropsch\n",
    "n.links_t.p0[n.links[n.links.carrier.str.contains('Fischer-Tropsch')].index].sum().sum()*n.snapshot_weightings.generators[0]/1e6 # in TWh"
   ]
  },
  {
   "cell_type": "code",
   "execution_count": null,
   "metadata": {},
   "outputs": [],
   "source": [
    "n.buses_t.p"
   ]
  },
  {
   "cell_type": "code",
   "execution_count": null,
   "metadata": {},
   "outputs": [],
   "source": [
    "n.buses_t.p[n.buses.carrier.str.contains('oil')]"
   ]
  }
 ],
 "metadata": {
  "kernelspec": {
   "display_name": "aldehyde",
   "language": "python",
   "name": "python3"
  },
  "language_info": {
   "codemirror_mode": {
    "name": "ipython",
    "version": 3
   },
   "file_extension": ".py",
   "mimetype": "text/x-python",
   "name": "python",
   "nbconvert_exporter": "python",
   "pygments_lexer": "ipython3",
   "version": "3.10.9"
  },
  "orig_nbformat": 4,
  "vscode": {
   "interpreter": {
    "hash": "0dbcc051df1c9f67b8349bc93a137f4374bedf8f92eebef4493438608fd687c9"
   }
  }
 },
 "nbformat": 4,
 "nbformat_minor": 2
}

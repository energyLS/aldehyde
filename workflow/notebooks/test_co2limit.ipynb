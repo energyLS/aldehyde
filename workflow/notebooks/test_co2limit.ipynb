{
 "cells": [
  {
   "attachments": {},
   "cell_type": "markdown",
   "metadata": {},
   "source": [
    "## CO2 Limit"
   ]
  },
  {
   "cell_type": "code",
   "execution_count": 31,
   "metadata": {},
   "outputs": [],
   "source": [
    "import pypsa\n",
    "import pandas as pd"
   ]
  },
  {
   "cell_type": "code",
   "execution_count": 29,
   "metadata": {},
   "outputs": [
    {
     "name": "stderr",
     "output_type": "stream",
     "text": [
      "INFO:pypsa.io:Imported network elec_s_10_ec_lc1.0_Co2L20.0_3H_2030_0.15_DF_0export.nc has buses, carriers, generators, global_constraints, lines, links, loads, storage_units, stores\n",
      "INFO:pypsa.io:Imported network elec_s_10_ec_lc1.0_Co2L5.0_3H_2030_0.15_DF_0export.nc has buses, carriers, generators, global_constraints, lines, links, loads, storage_units, stores\n",
      "INFO:pypsa.io:Imported network elec_s_10_ec_lc1.0_Co2L2.0_3H_2030_0.15_DF_0export.nc has buses, carriers, generators, global_constraints, lines, links, loads, storage_units, stores\n",
      "INFO:pypsa.io:Imported network elec_s_10_ec_lc1.0_Co2L1.7_3H_2030_0.15_DF_0export.nc has buses, carriers, generators, global_constraints, lines, links, loads, storage_units, stores\n",
      "INFO:pypsa.io:Imported network elec_s_10_ec_lc1.0_Co2L1.2_3H_2030_0.15_DF_0export.nc has buses, carriers, generators, global_constraints, lines, links, loads, storage_units, stores\n",
      "INFO:pypsa.io:Imported network elec_s_10_ec_lc1.0_Co2L1.0_3H_2030_0.15_DF_0export.nc has buses, carriers, generators, global_constraints, lines, links, loads, storage_units, stores\n",
      "INFO:pypsa.io:Imported network elec_s_10_ec_lc1.0_Co2L0.50_3H_2030_0.15_DF_0export.nc has buses, carriers, generators, global_constraints, lines, links, loads, storage_units, stores\n",
      "INFO:pypsa.io:Imported network elec_s_10_ec_lc1.0_Co2L0.10_3H_2030_0.15_DF_0export.nc has buses, carriers, generators, global_constraints, lines, links, loads, storage_units, stores\n"
     ]
    }
   ],
   "source": [
    "prefix = \"/mnt/c/Users/scl38887/Documents/git/aldehyde\"\n",
    "\n",
    "# Import from pypsa-earth-sec\n",
    "run = \"wacc15_hem_1marg_1cap_nosmr_0exp_3h_ws\"\n",
    "Co2Ls = [\"Co2L20.0\", \"Co2L5.0\", \"Co2L2.0\", \"Co2L1.7\", \"Co2L1.2\", \"Co2L1.0\", \"Co2L0.50\", \"Co2L0.10\"] \n",
    "\n",
    "carbon_stats = pd.DataFrame(columns=[\"constraint\", \"store\"])\n",
    "\n",
    "for Co2L in Co2Ls:\n",
    "    n = pypsa.Network(prefix + \"/workflow/subworkflows/pypsa-earth-sec/results/\" + run + \"/postnetworks/elec_s_10_ec_lc1.0_\"+Co2L+\"_3H_2030_0.15_DF_0export.nc\")\n",
    "    carbon_stats.loc[Co2L, \"constraint\"] = n.global_constraints.loc[\"CO2Limit\", \"constant\"] / 1e6 # MtCO2\n",
    "    carbon_stats.loc[Co2L, \"store\"] = n.stores_t.e.filter(like=\"co2 atmosphere\").iloc[-1][0] / 1e6 # MtCO2\n"
   ]
  },
  {
   "cell_type": "code",
   "execution_count": 30,
   "metadata": {},
   "outputs": [
    {
     "data": {
      "text/html": [
       "<div>\n",
       "<style scoped>\n",
       "    .dataframe tbody tr th:only-of-type {\n",
       "        vertical-align: middle;\n",
       "    }\n",
       "\n",
       "    .dataframe tbody tr th {\n",
       "        vertical-align: top;\n",
       "    }\n",
       "\n",
       "    .dataframe thead th {\n",
       "        text-align: right;\n",
       "    }\n",
       "</style>\n",
       "<table border=\"1\" class=\"dataframe\">\n",
       "  <thead>\n",
       "    <tr style=\"text-align: right;\">\n",
       "      <th></th>\n",
       "      <th>constraint</th>\n",
       "      <th>store</th>\n",
       "    </tr>\n",
       "  </thead>\n",
       "  <tbody>\n",
       "    <tr>\n",
       "      <th>Co2L20.0</th>\n",
       "      <td>800.0</td>\n",
       "      <td>19.035483</td>\n",
       "    </tr>\n",
       "    <tr>\n",
       "      <th>Co2L5.0</th>\n",
       "      <td>200.0</td>\n",
       "      <td>19.035492</td>\n",
       "    </tr>\n",
       "    <tr>\n",
       "      <th>Co2L2.0</th>\n",
       "      <td>80.0</td>\n",
       "      <td>18.984209</td>\n",
       "    </tr>\n",
       "    <tr>\n",
       "      <th>Co2L1.7</th>\n",
       "      <td>68.0</td>\n",
       "      <td>18.956529</td>\n",
       "    </tr>\n",
       "    <tr>\n",
       "      <th>Co2L1.2</th>\n",
       "      <td>48.0</td>\n",
       "      <td>18.63916</td>\n",
       "    </tr>\n",
       "    <tr>\n",
       "      <th>Co2L1.0</th>\n",
       "      <td>40.0</td>\n",
       "      <td>17.97401</td>\n",
       "    </tr>\n",
       "    <tr>\n",
       "      <th>Co2L0.50</th>\n",
       "      <td>20.0</td>\n",
       "      <td>0.713903</td>\n",
       "    </tr>\n",
       "    <tr>\n",
       "      <th>Co2L0.10</th>\n",
       "      <td>4.0</td>\n",
       "      <td>-15.191386</td>\n",
       "    </tr>\n",
       "  </tbody>\n",
       "</table>\n",
       "</div>"
      ],
      "text/plain": [
       "         constraint      store\n",
       "Co2L20.0      800.0  19.035483\n",
       "Co2L5.0       200.0  19.035492\n",
       "Co2L2.0        80.0  18.984209\n",
       "Co2L1.7        68.0  18.956529\n",
       "Co2L1.2        48.0   18.63916\n",
       "Co2L1.0        40.0   17.97401\n",
       "Co2L0.50       20.0   0.713903\n",
       "Co2L0.10        4.0 -15.191386"
      ]
     },
     "execution_count": 30,
     "metadata": {},
     "output_type": "execute_result"
    }
   ],
   "source": [
    "carbon_stats"
   ]
  },
  {
   "attachments": {},
   "cell_type": "markdown",
   "metadata": {},
   "source": [
    "Explaination: \n",
    "- The CO2 constraint is set on the carrier\n",
    "- The Value"
   ]
  },
  {
   "attachments": {},
   "cell_type": "markdown",
   "metadata": {},
   "source": [
    "Graph"
   ]
  },
  {
   "attachments": {},
   "cell_type": "markdown",
   "metadata": {},
   "source": [
    "Show graph in Markdown\n",
    "<image src=\"/mnt/c/Users/scl38887/Documents/git/aldehyde/workflow/subworkflows/pypsa-earth-sec/results/wacc15_hem_1marg_1cap_nosmr_0exp_3h_ws/graphs/balances-AC.pdf\" />\n",
    "\n",
    "Show graph in Markdown\n",
    "<image src=\"/mnt/c/Users/scl38887/Documents/git/aldehyde/workflow/subworkflows/pypsa-earth-sec/results/wacc15_hem_1marg_1cap_nosmr_0exp_3h_ws/graphs/balances-DC.pdf\" />"
   ]
  },
  {
   "cell_type": "code",
   "execution_count": 18,
   "metadata": {},
   "outputs": [
    {
     "data": {
      "text/plain": [
       "68000000.0"
      ]
     },
     "execution_count": 18,
     "metadata": {},
     "output_type": "execute_result"
    }
   ],
   "source": [
    "n.global_constraints.loc[\"CO2Limit\"].constant"
   ]
  },
  {
   "cell_type": "code",
   "execution_count": 24,
   "metadata": {},
   "outputs": [
    {
     "data": {
      "text/plain": [
       "18956767.290827382"
      ]
     },
     "execution_count": 24,
     "metadata": {},
     "output_type": "execute_result"
    }
   ],
   "source": [
    "n.stores_t.e.filter(like=\"co2 atmosphere\").iloc[-1][0]"
   ]
  },
  {
   "attachments": {},
   "cell_type": "markdown",
   "metadata": {},
   "source": [
    "### Old stuff"
   ]
  },
  {
   "cell_type": "code",
   "execution_count": null,
   "metadata": {},
   "outputs": [],
   "source": [
    "#n.stores.loc[\"co2 atmosphere\"]"
   ]
  },
  {
   "cell_type": "code",
   "execution_count": 1,
   "metadata": {},
   "outputs": [
    {
     "ename": "NameError",
     "evalue": "name 'n' is not defined",
     "output_type": "error",
     "traceback": [
      "\u001b[0;31m---------------------------------------------------------------------------\u001b[0m",
      "\u001b[0;31mNameError\u001b[0m                                 Traceback (most recent call last)",
      "Cell \u001b[0;32mIn[1], line 1\u001b[0m\n\u001b[0;32m----> 1\u001b[0m (n\u001b[39m.\u001b[39mstores_t\u001b[39m.\u001b[39mp[\u001b[39m\"\u001b[39m\u001b[39mco2 atmosphere\u001b[39m\u001b[39m\"\u001b[39m]\u001b[39m*\u001b[39mn\u001b[39m.\u001b[39msnapshot_weightings\u001b[39m.\u001b[39mgenerators[\u001b[39m0\u001b[39m])\u001b[39m.\u001b[39msum()\u001b[39m/\u001b[39m\u001b[39m1e6\u001b[39m\n",
      "\u001b[0;31mNameError\u001b[0m: name 'n' is not defined"
     ]
    }
   ],
   "source": [
    "(n.stores_t.p[\"co2 atmosphere\"]*n.snapshot_weightings.generators[0]).sum()/1e6"
   ]
  },
  {
   "cell_type": "code",
   "execution_count": 23,
   "metadata": {},
   "outputs": [
    {
     "data": {
      "text/plain": [
       "-10.422526163577526"
      ]
     },
     "execution_count": 23,
     "metadata": {},
     "output_type": "execute_result"
    }
   ],
   "source": [
    "# Plot the energy in the store named \"co2 atmosphere\" over time\n",
    "n.stores_t.e[\"co2 atmosphere\"][-1]/1e6 #.plot()"
   ]
  },
  {
   "cell_type": "code",
   "execution_count": null,
   "metadata": {},
   "outputs": [],
   "source": [
    "# Get the energy of all generators grouped by carrier\n",
    "n.generators_t.p.groupby(n.generators.carrier,axis=1).sum().sum()/1e6*n.snapshot_weightings.generators[0] #in TWh"
   ]
  },
  {
   "cell_type": "code",
   "execution_count": null,
   "metadata": {},
   "outputs": [],
   "source": [
    "#n.generators.p_nom_opt.groupby(n.generators.carrier).sum()/1e3"
   ]
  },
  {
   "cell_type": "code",
   "execution_count": null,
   "metadata": {},
   "outputs": [],
   "source": [
    "# Get the energy of all loads grouped by carrier using the snapshot_weightings and loads_t.p_set\n",
    "n.loads_t.p.groupby(n.loads.carrier,axis=1).sum().sum()/1e6*n.snapshot_weightings.generators[0] #in TWh"
   ]
  },
  {
   "cell_type": "code",
   "execution_count": null,
   "metadata": {},
   "outputs": [],
   "source": [
    "# Total capacity Fischer-Tropsch    \n",
    "n.links[n.links.carrier.str.contains('Fischer-Tropsch')].p_nom_opt.sum() /1e3 # in GW"
   ]
  },
  {
   "cell_type": "code",
   "execution_count": null,
   "metadata": {},
   "outputs": [],
   "source": [
    "# Get the energy of Fischer tropsch\n",
    "n.links_t.p0[n.links[n.links.carrier.str.contains('Fischer-Tropsch')].index].sum().sum()*n.snapshot_weightings.generators[0]/1e6 # in TWh"
   ]
  },
  {
   "cell_type": "code",
   "execution_count": null,
   "metadata": {},
   "outputs": [],
   "source": [
    "n.buses_t.p"
   ]
  },
  {
   "cell_type": "code",
   "execution_count": null,
   "metadata": {},
   "outputs": [],
   "source": [
    "n.buses_t.p[n.buses.carrier.str.contains('oil')]"
   ]
  }
 ],
 "metadata": {
  "kernelspec": {
   "display_name": "aldehyde",
   "language": "python",
   "name": "python3"
  },
  "language_info": {
   "codemirror_mode": {
    "name": "ipython",
    "version": 3
   },
   "file_extension": ".py",
   "mimetype": "text/x-python",
   "name": "python",
   "nbconvert_exporter": "python",
   "pygments_lexer": "ipython3",
   "version": "3.10.10"
  },
  "orig_nbformat": 4,
  "vscode": {
   "interpreter": {
    "hash": "0dbcc051df1c9f67b8349bc93a137f4374bedf8f92eebef4493438608fd687c9"
   }
  }
 },
 "nbformat": 4,
 "nbformat_minor": 2
}

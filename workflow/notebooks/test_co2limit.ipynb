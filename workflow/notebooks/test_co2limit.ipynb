{
 "cells": [
  {
   "attachments": {},
   "cell_type": "markdown",
   "metadata": {},
   "source": [
    "## Note: this was designed to be used in PyPSA-Earth-Sec"
   ]
  },
  {
   "cell_type": "code",
   "execution_count": 16,
   "metadata": {},
   "outputs": [],
   "source": [
    "import pypsa\n",
    "import pandas as pd"
   ]
  },
  {
   "cell_type": "code",
   "execution_count": 20,
   "metadata": {},
   "outputs": [
    {
     "ename": "TypeError",
     "evalue": "can only concatenate str (not \"float\") to str",
     "output_type": "error",
     "traceback": [
      "\u001b[0;31m---------------------------------------------------------------------------\u001b[0m",
      "\u001b[0;31mTypeError\u001b[0m                                 Traceback (most recent call last)",
      "Cell \u001b[0;32mIn[20], line 10\u001b[0m\n\u001b[1;32m      7\u001b[0m carbon_stats \u001b[39m=\u001b[39m pd\u001b[39m.\u001b[39mDataFrame(columns\u001b[39m=\u001b[39m[\u001b[39m\"\u001b[39m\u001b[39mconstraint\u001b[39m\u001b[39m\"\u001b[39m, \u001b[39m\"\u001b[39m\u001b[39mstore\u001b[39m\u001b[39m\"\u001b[39m])\n\u001b[1;32m      9\u001b[0m \u001b[39mfor\u001b[39;00m Co2L \u001b[39min\u001b[39;00m Co2Ls:\n\u001b[0;32m---> 10\u001b[0m     n \u001b[39m=\u001b[39m pypsa\u001b[39m.\u001b[39mNetwork(prefix \u001b[39m+\u001b[39;49m \u001b[39m\"\u001b[39;49m\u001b[39m/workflow/subworkflows/pypsa-earth-sec/results/\u001b[39;49m\u001b[39m\"\u001b[39;49m \u001b[39m+\u001b[39;49m run \u001b[39m+\u001b[39;49m \u001b[39m\"\u001b[39;49m\u001b[39m/postnetworks/elec_s_10_ec_lc1.0_\u001b[39;49m\u001b[39m\"\u001b[39;49m\u001b[39m+\u001b[39;49mCo2L\u001b[39m+\u001b[39m\u001b[39m\"\u001b[39m\u001b[39m_3H_2030_0.15_DF_0export.nc\u001b[39m\u001b[39m\"\u001b[39m)\n\u001b[1;32m     11\u001b[0m     carbon_stats\u001b[39m.\u001b[39mloc[Co2L, \u001b[39m\"\u001b[39m\u001b[39mconstraint\u001b[39m\u001b[39m\"\u001b[39m] \u001b[39m=\u001b[39m n\u001b[39m.\u001b[39mglobal_constraints\u001b[39m.\u001b[39mloc[\u001b[39m\"\u001b[39m\u001b[39mCo2Limit\u001b[39m\u001b[39m\"\u001b[39m, \u001b[39m\"\u001b[39m\u001b[39mconstant\u001b[39m\u001b[39m\"\u001b[39m]\n",
      "\u001b[0;31mTypeError\u001b[0m: can only concatenate str (not \"float\") to str"
     ]
    }
   ],
   "source": [
    "prefix = \"/mnt/c/Users/scl38887/Documents/git/aldehyde\"\n",
    "\n",
    "# Import from pypsa-earth-sec\n",
    "run = \"wacc15_hem_1marg_1cap_nosmr_3h_ws\"\n",
    "Co2Ls = [\"1.0\", \"1.7\"]\n",
    "\n",
    "carbon_stats = pd.DataFrame(columns=[\"constraint\", \"store\"])\n",
    "\n",
    "for Co2L in Co2Ls:\n",
    "    n = pypsa.Network(prefix + \"/workflow/subworkflows/pypsa-earth-sec/results/\" + run + \"/postnetworks/elec_s_10_ec_lc1.0_\"+Co2L+\"_3H_2030_0.15_DF_0export.nc\")\n",
    "    carbon_stats.loc[Co2L, \"constraint\"] = n.global_constraints.loc[\"Co2Limit\", \"constant\"]\n"
   ]
  },
  {
   "cell_type": "code",
   "execution_count": 18,
   "metadata": {},
   "outputs": [
    {
     "data": {
      "text/plain": [
       "68000000.0"
      ]
     },
     "execution_count": 18,
     "metadata": {},
     "output_type": "execute_result"
    }
   ],
   "source": [
    "n.global_constraints.loc[\"CO2Limit\"].constant"
   ]
  },
  {
   "cell_type": "code",
   "execution_count": 15,
   "metadata": {},
   "outputs": [
    {
     "data": {
      "text/plain": [
       "Store\n",
       "co2 atmosphere    1.895677e+07\n",
       "Name: 2013-12-31 21:00:00, dtype: float64"
      ]
     },
     "execution_count": 15,
     "metadata": {},
     "output_type": "execute_result"
    }
   ],
   "source": [
    "n.stores_t.e.filter(like=\"co2 atmosphere\").iloc[-1]"
   ]
  },
  {
   "attachments": {},
   "cell_type": "markdown",
   "metadata": {},
   "source": [
    "### Old stuff"
   ]
  },
  {
   "cell_type": "code",
   "execution_count": null,
   "metadata": {},
   "outputs": [],
   "source": [
    "#n.stores.loc[\"co2 atmosphere\"]"
   ]
  },
  {
   "cell_type": "code",
   "execution_count": 1,
   "metadata": {},
   "outputs": [
    {
     "ename": "NameError",
     "evalue": "name 'n' is not defined",
     "output_type": "error",
     "traceback": [
      "\u001b[0;31m---------------------------------------------------------------------------\u001b[0m",
      "\u001b[0;31mNameError\u001b[0m                                 Traceback (most recent call last)",
      "Cell \u001b[0;32mIn[1], line 1\u001b[0m\n\u001b[0;32m----> 1\u001b[0m (n\u001b[39m.\u001b[39mstores_t\u001b[39m.\u001b[39mp[\u001b[39m\"\u001b[39m\u001b[39mco2 atmosphere\u001b[39m\u001b[39m\"\u001b[39m]\u001b[39m*\u001b[39mn\u001b[39m.\u001b[39msnapshot_weightings\u001b[39m.\u001b[39mgenerators[\u001b[39m0\u001b[39m])\u001b[39m.\u001b[39msum()\u001b[39m/\u001b[39m\u001b[39m1e6\u001b[39m\n",
      "\u001b[0;31mNameError\u001b[0m: name 'n' is not defined"
     ]
    }
   ],
   "source": [
    "(n.stores_t.p[\"co2 atmosphere\"]*n.snapshot_weightings.generators[0]).sum()/1e6"
   ]
  },
  {
   "cell_type": "code",
   "execution_count": 23,
   "metadata": {},
   "outputs": [
    {
     "data": {
      "text/plain": [
       "-10.422526163577526"
      ]
     },
     "execution_count": 23,
     "metadata": {},
     "output_type": "execute_result"
    }
   ],
   "source": [
    "# Plot the energy in the store named \"co2 atmosphere\" over time\n",
    "n.stores_t.e[\"co2 atmosphere\"][-1]/1e6 #.plot()"
   ]
  },
  {
   "cell_type": "code",
   "execution_count": null,
   "metadata": {},
   "outputs": [],
   "source": [
    "# Get the energy of all generators grouped by carrier\n",
    "n.generators_t.p.groupby(n.generators.carrier,axis=1).sum().sum()/1e6*n.snapshot_weightings.generators[0] #in TWh"
   ]
  },
  {
   "cell_type": "code",
   "execution_count": null,
   "metadata": {},
   "outputs": [],
   "source": [
    "#n.generators.p_nom_opt.groupby(n.generators.carrier).sum()/1e3"
   ]
  },
  {
   "cell_type": "code",
   "execution_count": null,
   "metadata": {},
   "outputs": [],
   "source": [
    "# Get the energy of all loads grouped by carrier using the snapshot_weightings and loads_t.p_set\n",
    "n.loads_t.p.groupby(n.loads.carrier,axis=1).sum().sum()/1e6*n.snapshot_weightings.generators[0] #in TWh"
   ]
  },
  {
   "cell_type": "code",
   "execution_count": null,
   "metadata": {},
   "outputs": [],
   "source": [
    "# Total capacity Fischer-Tropsch    \n",
    "n.links[n.links.carrier.str.contains('Fischer-Tropsch')].p_nom_opt.sum() /1e3 # in GW"
   ]
  },
  {
   "cell_type": "code",
   "execution_count": null,
   "metadata": {},
   "outputs": [],
   "source": [
    "# Get the energy of Fischer tropsch\n",
    "n.links_t.p0[n.links[n.links.carrier.str.contains('Fischer-Tropsch')].index].sum().sum()*n.snapshot_weightings.generators[0]/1e6 # in TWh"
   ]
  },
  {
   "cell_type": "code",
   "execution_count": null,
   "metadata": {},
   "outputs": [],
   "source": [
    "n.buses_t.p"
   ]
  },
  {
   "cell_type": "code",
   "execution_count": null,
   "metadata": {},
   "outputs": [],
   "source": [
    "n.buses_t.p[n.buses.carrier.str.contains('oil')]"
   ]
  }
 ],
 "metadata": {
  "kernelspec": {
   "display_name": "aldehyde",
   "language": "python",
   "name": "python3"
  },
  "language_info": {
   "codemirror_mode": {
    "name": "ipython",
    "version": 3
   },
   "file_extension": ".py",
   "mimetype": "text/x-python",
   "name": "python",
   "nbconvert_exporter": "python",
   "pygments_lexer": "ipython3",
   "version": "3.10.10"
  },
  "orig_nbformat": 4,
  "vscode": {
   "interpreter": {
    "hash": "0dbcc051df1c9f67b8349bc93a137f4374bedf8f92eebef4493438608fd687c9"
   }
  }
 },
 "nbformat": 4,
 "nbformat_minor": 2
}

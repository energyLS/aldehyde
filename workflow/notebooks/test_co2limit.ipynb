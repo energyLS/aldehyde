{
 "cells": [
  {
   "attachments": {},
   "cell_type": "markdown",
   "metadata": {},
   "source": [
    "## Note: this was designed to be used in PyPSA-Earth-Sec"
   ]
  },
  {
   "cell_type": "code",
   "execution_count": null,
   "metadata": {},
   "outputs": [],
   "source": [
    "import pypsa"
   ]
  },
  {
   "cell_type": "code",
   "execution_count": null,
   "metadata": {},
   "outputs": [],
   "source": [
    "#n = pypsa.Network(\"results/fix_demand/prenetworks/elec_s_4_ec_lc1.0__Co2L0.90-144H_2030_0.071_DF_presec.nc\")\n",
    "#n = pypsa.Network(\"results/fix_demand/prenetworks/elec_s_4_ec_lc1.0_Co2L_144H_2030_0.071_DF_presec.nc\")\n",
    "n = pypsa.Network(\"results/fix_demand/postnetworks/elec_s_4_ec_lc1.0__144H_2030_0.071_DF_20export.nc\")"
   ]
  },
  {
   "cell_type": "code",
   "execution_count": null,
   "metadata": {},
   "outputs": [],
   "source": [
    "n.objective/1e9"
   ]
  },
  {
   "cell_type": "code",
   "execution_count": null,
   "metadata": {},
   "outputs": [],
   "source": [
    "n.global_constraints"
   ]
  },
  {
   "cell_type": "code",
   "execution_count": null,
   "metadata": {},
   "outputs": [],
   "source": [
    "#n.stores.loc[\"co2 atmosphere\"]"
   ]
  },
  {
   "cell_type": "code",
   "execution_count": null,
   "metadata": {},
   "outputs": [],
   "source": [
    "(n.stores_t.p[\"co2 atmosphere\"]*n.snapshot_weightings.generators[0]).sum()/1e6"
   ]
  },
  {
   "cell_type": "code",
   "execution_count": null,
   "metadata": {},
   "outputs": [],
   "source": [
    "# Plot the energy in the store named \"co2 atmosphere\" over time\n",
    "n.stores_t.e[\"co2 atmosphere\"][-1]/1e6 #.plot()"
   ]
  },
  {
   "cell_type": "code",
   "execution_count": null,
   "metadata": {},
   "outputs": [],
   "source": [
    "# Get the energy of all generators grouped by carrier\n",
    "n.generators_t.p.groupby(n.generators.carrier,axis=1).sum().sum()/1e6*n.snapshot_weightings.generators[0] #in TWh"
   ]
  },
  {
   "cell_type": "code",
   "execution_count": null,
   "metadata": {},
   "outputs": [],
   "source": [
    "#n.generators.p_nom_opt.groupby(n.generators.carrier).sum()/1e3"
   ]
  },
  {
   "cell_type": "code",
   "execution_count": null,
   "metadata": {},
   "outputs": [],
   "source": [
    "# Get the energy of all loads grouped by carrier using the snapshot_weightings and loads_t.p_set\n",
    "n.loads_t.p.groupby(n.loads.carrier,axis=1).sum().sum()/1e6*n.snapshot_weightings.generators[0] #in TWh"
   ]
  },
  {
   "cell_type": "code",
   "execution_count": null,
   "metadata": {},
   "outputs": [],
   "source": [
    "# Total capacity Fischer-Tropsch    \n",
    "n.links[n.links.carrier.str.contains('Fischer-Tropsch')].p_nom_opt.sum() /1e3 # in GW"
   ]
  },
  {
   "cell_type": "code",
   "execution_count": null,
   "metadata": {},
   "outputs": [],
   "source": [
    "# Get the energy of Fischer tropsch\n",
    "n.links_t.p0[n.links[n.links.carrier.str.contains('Fischer-Tropsch')].index].sum().sum()*n.snapshot_weightings.generators[0]/1e6 # in TWh"
   ]
  },
  {
   "cell_type": "code",
   "execution_count": null,
   "metadata": {},
   "outputs": [],
   "source": [
    "n.buses_t.p"
   ]
  },
  {
   "cell_type": "code",
   "execution_count": null,
   "metadata": {},
   "outputs": [],
   "source": [
    "n.buses_t.p[n.buses.carrier.str.contains('oil')]"
   ]
  }
 ],
 "metadata": {
  "kernelspec": {
   "display_name": "pypsa-earth",
   "language": "python",
   "name": "python3"
  },
  "language_info": {
   "codemirror_mode": {
    "name": "ipython",
    "version": 3
   },
   "file_extension": ".py",
   "mimetype": "text/x-python",
   "name": "python",
   "nbconvert_exporter": "python",
   "pygments_lexer": "ipython3",
   "version": "3.10.9"
  },
  "orig_nbformat": 4,
  "vscode": {
   "interpreter": {
    "hash": "b269d8efe25c72098e2260b13d906d0f2b9541f86a707f5c33a4e62eb8a0286a"
   }
  }
 },
 "nbformat": 4,
 "nbformat_minor": 2
}

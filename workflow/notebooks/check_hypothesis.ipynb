{
 "cells": [
  {
   "attachments": {},
   "cell_type": "markdown",
   "metadata": {},
   "source": [
    "## Goal: Check various hypothesis"
   ]
  },
  {
   "cell_type": "code",
   "execution_count": null,
   "metadata": {},
   "outputs": [],
   "source": [
    "import pandas as pd\n",
    "import pypsa\n",
    "prefix = \"/mnt/c/Users/scl38887/Documents/git/aldehyde\""
   ]
  },
  {
   "attachments": {},
   "cell_type": "markdown",
   "metadata": {},
   "source": [
    "### Check 1: Compare Total System Cost with / without network"
   ]
  },
  {
   "cell_type": "code",
   "execution_count": null,
   "metadata": {},
   "outputs": [],
   "source": [
    "# Total system cost\n",
    "runs = [\"h2network_true\", \"h2network_false\", \"test_subworkflow\"]\n",
    "\n",
    "stats = pd.DataFrame(columns=runs, index=[\"H2\", \"AC\", \"total costs\"])\n",
    "\n",
    "for run in runs:\n",
    "    metrics = pd.read_csv(prefix + \"/workflow/subworkflows/pypsa-earth-sec/results/\" + run + \"/csvs/metrics.csv\", header=[0,1,2,3,4,5,6], index_col=0)\n",
    "    prices = pd.read_csv(prefix + \"/workflow/subworkflows/pypsa-earth-sec/results/\" + run + \"/csvs/prices.csv\", header=[0,1,2,3,4,5,6], index_col=0)\n",
    "\n",
    "    stats.loc[\"H2\", run] = prices.loc[\"H2\"].values[0]\n",
    "    stats.loc[\"AC\", run] = prices.loc[\"AC\"].values[0]\n",
    "    stats.loc[\"total costs\", run] = metrics.loc[\"total costs\"].values[0]/1e9 # in B€\n"
   ]
  },
  {
   "cell_type": "code",
   "execution_count": null,
   "metadata": {},
   "outputs": [],
   "source": [
    "stats.head()"
   ]
  },
  {
   "attachments": {},
   "cell_type": "markdown",
   "metadata": {},
   "source": [
    "### Check 2: Hydrogen & battery storage of single run but e_inital modification"
   ]
  },
  {
   "cell_type": "code",
   "execution_count": null,
   "metadata": {},
   "outputs": [],
   "source": [
    "run = \"h2network_true_3h\""
   ]
  },
  {
   "cell_type": "code",
   "execution_count": null,
   "metadata": {},
   "outputs": [],
   "source": [
    "\n",
    "export_only = prefix +\"/resources/export_only/\" + run +\"/elec_s_10_ec_lc1.0_Co2L0.10_3H_2030_0.071_DF_120export_solved_einitial0.nc\"\n",
    "mar_only =prefix + \"/resources/pypsaearthsec/\" + run + \"/postnetworks/elec_s_10_ec_lc1.0_Co2L0.10_3H_2030_0.071_DF_0export.nc\"\n",
    "mar_es_export =prefix + \"/resources/pypsaearthsec/\" + run + \"/postnetworks/elec_s_10_ec_lc1.0_Co2L0.10_3H_2030_0.071_DF_120export.nc\"\n",
    "n = pypsa.Network(mar_es_export)"
   ]
  },
  {
   "cell_type": "code",
   "execution_count": null,
   "metadata": {},
   "outputs": [],
   "source": [
    "n_old = pypsa.Network(mar_es_export)\n",
    "n_new = pypsa.Network(prefix +\"/resources/export_only/\" + run +\"/elec_s_10_ec_lc1.0_Co2L0.10_3H_2030_0.071_DF_120export_solved.nc\")"
   ]
  },
  {
   "cell_type": "code",
   "execution_count": null,
   "metadata": {},
   "outputs": [],
   "source": [
    "def get_export_supply(n):\n",
    "    return (n.links_t.p1.loc[:, n.links_t.p1.columns.str.contains(\"export\")].sum(axis=1)*(-1))\n"
   ]
  },
  {
   "cell_type": "code",
   "execution_count": null,
   "metadata": {},
   "outputs": [],
   "source": [
    "# Show storage levels and charging of 200 time steps\n",
    "n_old.stores_t.e[\"H2 export store\"].plot() #[2000:2200].plot()\n",
    "n_new.stores_t.e[\"H2 export store\"].plot() #[2000:2200].plot()\n",
    "\n",
    "export_supply_new = get_export_supply(n_new)"
   ]
  },
  {
   "cell_type": "code",
   "execution_count": null,
   "metadata": {},
   "outputs": [],
   "source": [
    "#export_supply_old[2000:2400].plot()\n",
    "export_supply_new[2000:2400].plot()"
   ]
  },
  {
   "cell_type": "code",
   "execution_count": null,
   "metadata": {},
   "outputs": [],
   "source": [
    "n_old.objective/1e6"
   ]
  },
  {
   "cell_type": "code",
   "execution_count": null,
   "metadata": {},
   "outputs": [],
   "source": [
    "n_new.objective/1e6"
   ]
  },
  {
   "cell_type": "code",
   "execution_count": null,
   "metadata": {},
   "outputs": [],
   "source": [
    "n.stores[(n.stores.carrier==\"H2\") & (n.stores.bus != \"H2 export bus\")].e_nom_opt.sum() / 1e3 # in GWh"
   ]
  },
  {
   "cell_type": "code",
   "execution_count": null,
   "metadata": {},
   "outputs": [],
   "source": [
    "n.stores[(n.stores.carrier==\"battery\")].e_nom_opt.sum() / 1e3 # in GWh"
   ]
  },
  {
   "cell_type": "code",
   "execution_count": null,
   "metadata": {},
   "outputs": [],
   "source": [
    "n.stores[n.stores.index.str.contains(\"battery\")].head()"
   ]
  },
  {
   "cell_type": "code",
   "execution_count": null,
   "metadata": {},
   "outputs": [],
   "source": [
    "n.generators.p_nom_opt.sort_values(ascending=False)[0:10]"
   ]
  },
  {
   "cell_type": "code",
   "execution_count": null,
   "metadata": {},
   "outputs": [],
   "source": [
    "n.links_t.p0.loc[:, n.links.index.str.contains(\"battery\")].sum().sort_values(ascending=False)[0:10] #.head()"
   ]
  },
  {
   "cell_type": "code",
   "execution_count": null,
   "metadata": {},
   "outputs": [],
   "source": [
    "# Show capacities and nodes of top batteries\n",
    "n.stores[(n.stores.carrier==\"battery\")].e_nom_opt.sort_values(ascending=False) # head()"
   ]
  },
  {
   "cell_type": "markdown",
   "metadata": {},
   "source": [
    "Export hydrogen storage"
   ]
  },
  {
   "cell_type": "code",
   "execution_count": null,
   "metadata": {},
   "outputs": [],
   "source": [
    "n.stores[n.stores.bus == \"H2 export bus\"].e_nom_opt.sum() / 1e3 # in GWh"
   ]
  },
  {
   "cell_type": "code",
   "execution_count": null,
   "metadata": {},
   "outputs": [],
   "source": [
    "n.loads"
   ]
  },
  {
   "cell_type": "code",
   "execution_count": null,
   "metadata": {},
   "outputs": [],
   "source": [
    "# Show storage levels and charging of 200 time steps\n",
    "import matplotlib.pyplot as plt\n",
    "def plot_export_store(n, time_min = 0, time_max = 10):\n",
    "\n",
    "    fig, ax = plt.subplots(figsize=(10, 6))\n",
    "    ax2 = ax.twinx()\n",
    "\n",
    "    ax.plot(n.stores_t.p[\"H2 export store\"][time_min:time_max]/1e3) # in GW\n",
    "    ax.plot(n.loads_t.p[\"H2 export load\"][time_min:time_max]/1e3) # in GW\n",
    "    ax.plot(get_export_supply(n)[time_min:time_max]/1e3) # in GW\n",
    "\n",
    "    storage_level = n.stores_t.e[\"H2 export store\"][time_min:time_max]/ 1e3 # in GWh\n",
    "    ax2.plot(storage_level, color=\"grey\", linestyle=\"--\")\n",
    "\n",
    "    ax.legend([\"store charging\", \"export load\", \"supply (from system)\"], loc='upper right')\n",
    "    ax2.legend([\"store level (from n.stores_t.e)\"], loc='upper left')\n",
    "    ax2.set_ylabel(\"Storage level in GWh\")\n",
    "    ax.set_ylabel(\"Power in GW\")\n",
    "    ax.grid()\n"
   ]
  },
  {
   "cell_type": "code",
   "execution_count": null,
   "metadata": {},
   "outputs": [],
   "source": [
    "plot_export_store(n, 0, 160)"
   ]
  },
  {
   "cell_type": "markdown",
   "metadata": {},
   "source": [
    "Retrieve storage sizes across types (MAR ES only, MAR ES export, Export only) within one scenario/run"
   ]
  },
  {
   "cell_type": "code",
   "execution_count": null,
   "metadata": {},
   "outputs": [],
   "source": [
    "# Get storage sizes of hydrogen and battery for all networks\n",
    "run = \"h2network_true_3h\"\n",
    "networks = [\"export_only\", \"mar_only\", \"mar_es_export\"]\n",
    "\n",
    "network_paths = {\n",
    "        \"export_only\": prefix +\"/resources/export_only/\" + run +\"/elec_s_10_ec_lc1.0_Co2L0.10_3H_2030_0.071_DF_120export_solved.nc\",\n",
    "        \"mar_only\": prefix + \"/resources/pypsaearthsec/\" + run + \"/postnetworks/elec_s_10_ec_lc1.0_Co2L0.10_3H_2030_0.071_DF_0export.nc\",\n",
    "        \"mar_es_export\": prefix + \"/resources/pypsaearthsec/\" + run + \"/postnetworks/elec_s_10_ec_lc1.0_Co2L0.10_3H_2030_0.071_DF_120export.nc\",\n",
    "}\n",
    "\n",
    "\n",
    "stats = pd.DataFrame(columns=networks, index=[\"H2_GWh\", \"Battery_GWh\", \"H2export_GWh\"])\n",
    "\n",
    "for network in networks:\n",
    "    \n",
    "    n = pypsa.Network(network_paths[network])\n",
    "\n",
    "    stats.loc[\"H2_GWh\", network] = n.stores[(n.stores.carrier==\"H2\") & (n.stores.bus != \"H2 export bus\")].e_nom_opt.sum() / 1e3 # in GWh\n",
    "    stats.loc[\"Battery_GWh\", network] = n.stores[(n.stores.carrier==\"battery\")].e_nom_opt.sum() / 1e3 # in GWh\n",
    "\n",
    "    stats.loc[\"H2export_GWh\", network] = n.stores[(n.stores.carrier==\"H2\") & (n.stores.bus == \"H2 export bus\")].e_nom_opt.sum() / 1e3 # in GWh"
   ]
  },
  {
   "cell_type": "code",
   "execution_count": null,
   "metadata": {},
   "outputs": [],
   "source": [
    "stats.head()"
   ]
  },
  {
   "attachments": {},
   "cell_type": "markdown",
   "metadata": {},
   "source": [
    "### Check 3: Export store with costs/no costs/no store"
   ]
  },
  {
   "attachments": {},
   "cell_type": "markdown",
   "metadata": {},
   "source": [
    "Retrieve storage sizes of one type (MAR ES export) of various scenarios/runs"
   ]
  },
  {
   "cell_type": "code",
   "execution_count": null,
   "metadata": {},
   "outputs": [],
   "source": [
    "# Get storage sizes of hydrogen and battery for all networks\n",
    "runs = [\"store_nocosts_6h_ws\", \"store_standardcosts_6h_ws\"] #, \"store_nostore_6h_ws\"]\n",
    "\n",
    "stats = pd.DataFrame(columns=runs, index=[\"H2_GWh\", \"Battery_GWh\", \"H2export_GWh\", \"objective\"])\n",
    "\n",
    "for run in runs:\n",
    "    \n",
    "    network_path = prefix + \"/resources/pypsaearthsec/\" + run + \"/postnetworks/elec_s_10_ec_lc1.0_Co2L0.10_6H_2030_0.071_DF_120export.nc\"\n",
    "\n",
    "    n = pypsa.Network(network_path)\n",
    "\n",
    "    stats.loc[\"H2_GWh\", run] = n.stores[(n.stores.carrier==\"H2\") & (n.stores.bus != \"H2 export bus\")].e_nom_opt.sum() / 1e3 # in GWh\n",
    "    stats.loc[\"Battery_GWh\", run] = n.stores[(n.stores.carrier==\"battery\")].e_nom_opt.sum() / 1e3 # in GWh\n",
    "    stats.loc[\"H2export_GWh\", run] = n.stores[(n.stores.carrier==\"H2\") & (n.stores.bus == \"H2 export bus\")].e_nom_opt.sum() / 1e3 # in GWh\n",
    "    stats.loc[\"objective\", run] = n.objective / 1e9 # in B€"
   ]
  },
  {
   "cell_type": "code",
   "execution_count": null,
   "metadata": {},
   "outputs": [],
   "source": [
    "stats.head()"
   ]
  },
  {
   "attachments": {},
   "cell_type": "markdown",
   "metadata": {},
   "source": [
    "Show timeseries"
   ]
  },
  {
   "cell_type": "code",
   "execution_count": null,
   "metadata": {},
   "outputs": [],
   "source": [
    "export_supply = get_export_supply(n)\n",
    "export_supply[2000:2400].plot()"
   ]
  },
  {
   "cell_type": "code",
   "execution_count": null,
   "metadata": {},
   "outputs": [],
   "source": [
    "plot_export_store(n, 0, 1600)"
   ]
  }
 ],
 "metadata": {
  "kernelspec": {
   "display_name": "Python 3",
   "language": "python",
   "name": "python3"
  },
  "language_info": {
   "codemirror_mode": {
    "name": "ipython",
    "version": 3
   },
   "file_extension": ".py",
   "mimetype": "text/x-python",
   "name": "python",
   "nbconvert_exporter": "python",
   "pygments_lexer": "ipython3",
   "version": "3.10.10"
  },
  "orig_nbformat": 4
 },
 "nbformat": 4,
 "nbformat_minor": 2
}

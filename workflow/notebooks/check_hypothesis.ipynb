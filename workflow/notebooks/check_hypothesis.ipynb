{
 "cells": [
  {
   "attachments": {},
   "cell_type": "markdown",
   "metadata": {},
   "source": [
    "## Goal: Check various hypothesis"
   ]
  },
  {
   "cell_type": "code",
   "execution_count": 43,
   "metadata": {},
   "outputs": [],
   "source": [
    "import pandas as pd\n",
    "import pypsa\n",
    "prefix = \"/mnt/c/Users/scl38887/Documents/git/aldehyde\""
   ]
  },
  {
   "attachments": {},
   "cell_type": "markdown",
   "metadata": {},
   "source": [
    "### Check 1: Compare with / without network"
   ]
  },
  {
   "cell_type": "code",
   "execution_count": 40,
   "metadata": {},
   "outputs": [],
   "source": [
    "# Total system cost\n",
    "runs = [\"h2network_true\", \"h2network_false\", \"test_subworkflow\"]\n",
    "\n",
    "stats = pd.DataFrame(columns=runs, index=[\"H2\", \"AC\", \"total costs\"])\n",
    "\n",
    "for run in runs:\n",
    "    metrics = pd.read_csv(prefix + \"/workflow/subworkflows/pypsa-earth-sec/results/\" + run + \"/csvs/metrics.csv\", header=[0,1,2,3,4,5,6], index_col=0)\n",
    "    prices = pd.read_csv(prefix + \"/workflow/subworkflows/pypsa-earth-sec/results/\" + run + \"/csvs/prices.csv\", header=[0,1,2,3,4,5,6], index_col=0)\n",
    "\n",
    "    stats.loc[\"H2\", run] = prices.loc[\"H2\"].values[0]\n",
    "    stats.loc[\"AC\", run] = prices.loc[\"AC\"].values[0]\n",
    "    stats.loc[\"total costs\", run] = metrics.loc[\"total costs\"].values[0]/1e9 # in B€\n"
   ]
  },
  {
   "cell_type": "code",
   "execution_count": 41,
   "metadata": {},
   "outputs": [
    {
     "data": {
      "text/html": [
       "<div>\n",
       "<style scoped>\n",
       "    .dataframe tbody tr th:only-of-type {\n",
       "        vertical-align: middle;\n",
       "    }\n",
       "\n",
       "    .dataframe tbody tr th {\n",
       "        vertical-align: top;\n",
       "    }\n",
       "\n",
       "    .dataframe thead th {\n",
       "        text-align: right;\n",
       "    }\n",
       "</style>\n",
       "<table border=\"1\" class=\"dataframe\">\n",
       "  <thead>\n",
       "    <tr style=\"text-align: right;\">\n",
       "      <th></th>\n",
       "      <th>h2network_true</th>\n",
       "      <th>h2network_false</th>\n",
       "      <th>test_subworkflow</th>\n",
       "    </tr>\n",
       "  </thead>\n",
       "  <tbody>\n",
       "    <tr>\n",
       "      <th>H2</th>\n",
       "      <td>58.79</td>\n",
       "      <td>62.39</td>\n",
       "      <td>53.809</td>\n",
       "    </tr>\n",
       "    <tr>\n",
       "      <th>AC</th>\n",
       "      <td>46.937</td>\n",
       "      <td>47.61</td>\n",
       "      <td>41.976</td>\n",
       "    </tr>\n",
       "    <tr>\n",
       "      <th>total costs</th>\n",
       "      <td>18.785888</td>\n",
       "      <td>18.81631</td>\n",
       "      <td>8.511328</td>\n",
       "    </tr>\n",
       "  </tbody>\n",
       "</table>\n",
       "</div>"
      ],
      "text/plain": [
       "            h2network_true h2network_false test_subworkflow\n",
       "H2                   58.79           62.39           53.809\n",
       "AC                  46.937           47.61           41.976\n",
       "total costs      18.785888        18.81631         8.511328"
      ]
     },
     "execution_count": 41,
     "metadata": {},
     "output_type": "execute_result"
    }
   ],
   "source": [
    "stats.head()"
   ]
  },
  {
   "attachments": {},
   "cell_type": "markdown",
   "metadata": {},
   "source": [
    "### Check 2: Hydrogen storage"
   ]
  },
  {
   "cell_type": "code",
   "execution_count": 60,
   "metadata": {},
   "outputs": [
    {
     "name": "stderr",
     "output_type": "stream",
     "text": [
      "INFO:pypsa.io:Imported network elec_s_10_ec_lc1.0_Co2L0.10_6H_2030_0.071_DF_120export.nc has buses, carriers, generators, global_constraints, lines, links, loads, storage_units, stores\n"
     ]
    }
   ],
   "source": [
    "run = \"h2network_true\"\n",
    "n = pypsa.Network(prefix + \"/resources/pypsaearthsec/\" + run + \"/postnetworks/elec_s_10_ec_lc1.0_Co2L0.10_6H_2030_0.071_DF_120export.nc\")\n"
   ]
  },
  {
   "cell_type": "code",
   "execution_count": 61,
   "metadata": {},
   "outputs": [
    {
     "data": {
      "text/plain": [
       "Store\n",
       "MA.1.1_1_AC H2 Store     8.451960e-01\n",
       "MA.1.2_1_AC H2 Store     1.131958e+00\n",
       "MA.1.3_1_AC H2 Store     9.184021e-01\n",
       "MA.10.1_1_AC H2 Store    1.096137e+00\n",
       "MA.10.3_1_AC H2 Store    1.098055e+00\n",
       "MA.10.4_1_AC H2 Store    2.458487e+00\n",
       "MA.10.5_1_AC H2 Store    1.093804e+00\n",
       "MA.11.1_1_AC H2 Store    7.736714e-01\n",
       "MA.11.3_1_AC H2 Store    7.003917e-01\n",
       "MA.11.4_1_AC H2 Store    7.247158e-01\n",
       "MA.12.1_1_AC H2 Store    4.432740e+00\n",
       "MA.12.2_1_AC H2 Store    2.996392e+00\n",
       "MA.12.3_1_AC H2 Store    4.271215e+00\n",
       "MA.12.4_1_AC H2 Store    1.148853e+02\n",
       "MA.12.5_1_AC H2 Store    2.926486e+04\n",
       "MA.12.6_1_AC H2 Store    2.685258e+00\n",
       "MA.12.7_1_AC H2 Store    9.632025e+00\n",
       "MA.13.1_1_AC H2 Store    1.918989e+00\n",
       "MA.13.2_1_AC H2 Store    1.288395e+00\n",
       "MA.14.1_1_AC H2 Store    1.390855e+00\n",
       "MA.14.2_1_AC H2 Store    2.390839e+00\n",
       "MA.14.3_1_AC H2 Store    1.123042e+00\n",
       "MA.14.4_1_AC H2 Store    2.484302e+00\n",
       "MA.14.5_1_AC H2 Store    2.111571e+00\n",
       "MA.15.1_1_AC H2 Store    1.046930e+00\n",
       "MA.15.2_1_AC H2 Store    8.461502e-01\n",
       "MA.15.3_1_AC H2 Store    8.878594e-01\n",
       "MA.2.1_1_AC H2 Store     1.658357e+00\n",
       "MA.2.2_1_AC H2 Store     6.227997e+00\n",
       "MA.3.2_1_AC H2 Store     8.485479e-01\n",
       "MA.3.3_1_AC H2 Store     8.470947e-01\n",
       "MA.3.4_1_AC H2 Store     8.517990e-01\n",
       "MA.4.1_1_AC H2 Store     6.385846e-01\n",
       "MA.4.2_1_AC H2 Store     6.422125e-01\n",
       "MA.5.1_1_AC H2 Store     8.274468e-01\n",
       "MA.5.2_1_AC H2 Store     8.868205e-01\n",
       "MA.6.3_1_AC H2 Store     1.432932e-01\n",
       "MA.8.1_1_AC H2 Store     1.535573e+00\n",
       "MA.8.2_1_AC H2 Store     6.953057e+00\n",
       "MA.8.3_1_AC H2 Store     2.219884e+00\n",
       "MA.8.4_1_AC H2 Store     3.960653e+00\n",
       "MA.8.5_1_AC H2 Store     6.983375e+00\n",
       "MA.9.1_1_AC H2 Store     8.185754e-01\n",
       "MA.9.2_1_AC H2 Store     7.013640e+02\n",
       "MA.9.3_1_AC H2 Store     8.136834e-01\n",
       "MA.9.4_1_AC H2 Store     1.610740e+00\n",
       "MA.9.5_1_AC H2 Store     7.804828e-01\n",
       "H2 export store          8.686610e+06\n",
       "Name: e_nom_opt, dtype: float64"
      ]
     },
     "execution_count": 61,
     "metadata": {},
     "output_type": "execute_result"
    }
   ],
   "source": [
    "n.stores[n.stores.carrier==\"H2\"].e_nom_opt"
   ]
  }
 ],
 "metadata": {
  "kernelspec": {
   "display_name": "Python 3",
   "language": "python",
   "name": "python3"
  },
  "language_info": {
   "codemirror_mode": {
    "name": "ipython",
    "version": 3
   },
   "file_extension": ".py",
   "mimetype": "text/x-python",
   "name": "python",
   "nbconvert_exporter": "python",
   "pygments_lexer": "ipython3",
   "version": "3.10.10"
  },
  "orig_nbformat": 4
 },
 "nbformat": 4,
 "nbformat_minor": 2
}

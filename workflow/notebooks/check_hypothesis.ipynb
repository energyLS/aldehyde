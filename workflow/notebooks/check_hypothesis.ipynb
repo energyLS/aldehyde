{
 "cells": [
  {
   "attachments": {},
   "cell_type": "markdown",
   "metadata": {},
   "source": [
    "## Goal: Check various hypothesis"
   ]
  },
  {
   "cell_type": "code",
   "execution_count": null,
   "metadata": {},
   "outputs": [],
   "source": [
    "import pandas as pd\n",
    "import pypsa\n",
    "prefix = \"/mnt/c/Users/scl38887/Documents/git/aldehyde\""
   ]
  },
  {
   "attachments": {},
   "cell_type": "markdown",
   "metadata": {},
   "source": [
    "### Check 1: Compare Total System Cost with / without network"
   ]
  },
  {
   "cell_type": "code",
   "execution_count": null,
   "metadata": {},
   "outputs": [],
   "source": [
    "# Total system cost\n",
    "runs = [\"h2network_true\", \"h2network_false\", \"test_subworkflow\"]\n",
    "\n",
    "stats = pd.DataFrame(columns=runs, index=[\"H2\", \"AC\", \"total costs\"])\n",
    "\n",
    "for run in runs:\n",
    "    metrics = pd.read_csv(prefix + \"/workflow/subworkflows/pypsa-earth-sec/results/\" + run + \"/csvs/metrics.csv\", header=[0,1,2,3,4,5,6], index_col=0)\n",
    "    prices = pd.read_csv(prefix + \"/workflow/subworkflows/pypsa-earth-sec/results/\" + run + \"/csvs/prices.csv\", header=[0,1,2,3,4,5,6], index_col=0)\n",
    "\n",
    "    stats.loc[\"H2\", run] = prices.loc[\"H2\"].values[0]\n",
    "    stats.loc[\"AC\", run] = prices.loc[\"AC\"].values[0]\n",
    "    stats.loc[\"total costs\", run] = metrics.loc[\"total costs\"].values[0]/1e9 # in B€\n"
   ]
  },
  {
   "cell_type": "code",
   "execution_count": null,
   "metadata": {},
   "outputs": [],
   "source": [
    "stats.head()"
   ]
  },
  {
   "attachments": {},
   "cell_type": "markdown",
   "metadata": {},
   "source": [
    "### Check 2: Hydrogen & battery storage of single run but e_inital modification"
   ]
  },
  {
   "cell_type": "code",
   "execution_count": null,
   "metadata": {},
   "outputs": [],
   "source": [
    "run = \"h2network_true_3h\""
   ]
  },
  {
   "cell_type": "code",
   "execution_count": null,
   "metadata": {},
   "outputs": [],
   "source": [
    "\n",
    "export_only = prefix +\"/resources/export_only/\" + run +\"/elec_s_10_ec_lc1.0_Co2L0.10_3H_2030_0.071_DF_120export_solved_einitial0.nc\"\n",
    "mar_only =prefix + \"/resources/pypsaearthsec/\" + run + \"/postnetworks/elec_s_10_ec_lc1.0_Co2L0.10_3H_2030_0.071_DF_0export.nc\"\n",
    "mar_es_export =prefix + \"/resources/pypsaearthsec/\" + run + \"/postnetworks/elec_s_10_ec_lc1.0_Co2L0.10_3H_2030_0.071_DF_120export.nc\"\n",
    "n = pypsa.Network(mar_es_export)"
   ]
  },
  {
   "cell_type": "code",
   "execution_count": null,
   "metadata": {},
   "outputs": [],
   "source": [
    "n_old = pypsa.Network(mar_es_export)\n",
    "n_new = pypsa.Network(prefix +\"/resources/export_only/\" + run +\"/elec_s_10_ec_lc1.0_Co2L0.10_3H_2030_0.071_DF_120export_solved.nc\")"
   ]
  },
  {
   "cell_type": "code",
   "execution_count": null,
   "metadata": {},
   "outputs": [],
   "source": [
    "#export_supply_old[2000:2400].plot()\n",
    "export_supply_new[2000:2400].plot()"
   ]
  },
  {
   "cell_type": "code",
   "execution_count": null,
   "metadata": {},
   "outputs": [],
   "source": [
    "# Show storage levels and charging of 200 time steps\n",
    "n_old.stores_t.e[\"H2 export store\"].plot() #[2000:2200].plot()\n",
    "n_new.stores_t.e[\"H2 export store\"].plot() #[2000:2200].plot()\n",
    "\n",
    "export_supply_new = (n_new.links_t.p1.loc[:, n_new.links_t.p1.columns.str.contains(\"export\")].sum(axis=1)*(-1)) #.plot()\n"
   ]
  },
  {
   "cell_type": "code",
   "execution_count": null,
   "metadata": {},
   "outputs": [],
   "source": [
    "n_old.objective/1e6"
   ]
  },
  {
   "cell_type": "code",
   "execution_count": null,
   "metadata": {},
   "outputs": [],
   "source": [
    "n_new.objective/1e6"
   ]
  },
  {
   "cell_type": "code",
   "execution_count": null,
   "metadata": {},
   "outputs": [],
   "source": [
    "n.stores[(n.stores.carrier==\"H2\") & (n.stores.bus != \"H2 export bus\")].e_nom_opt.sum() / 1e3 # in GWh"
   ]
  },
  {
   "cell_type": "code",
   "execution_count": null,
   "metadata": {},
   "outputs": [],
   "source": [
    "n.stores[(n.stores.carrier==\"battery\")].e_nom_opt.sum() / 1e3 # in GWh"
   ]
  },
  {
   "cell_type": "code",
   "execution_count": null,
   "metadata": {},
   "outputs": [],
   "source": [
    "n.stores[n.stores.index.str.contains(\"battery\")].head()"
   ]
  },
  {
   "cell_type": "code",
   "execution_count": null,
   "metadata": {},
   "outputs": [],
   "source": [
    "n.generators.p_nom_opt.sort_values(ascending=False)[0:10]"
   ]
  },
  {
   "cell_type": "code",
   "execution_count": null,
   "metadata": {},
   "outputs": [],
   "source": [
    "n.links_t.p0.loc[:, n.links.index.str.contains(\"battery\")].sum().sort_values(ascending=False)[0:10] #.head()"
   ]
  },
  {
   "cell_type": "code",
   "execution_count": null,
   "metadata": {},
   "outputs": [],
   "source": [
    "# Show capacities and nodes of top batteries\n",
    "n.stores[(n.stores.carrier==\"battery\")].e_nom_opt.sort_values(ascending=False) # head()"
   ]
  },
  {
   "cell_type": "markdown",
   "metadata": {},
   "source": [
    "Export hydrogen storage"
   ]
  },
  {
   "cell_type": "code",
   "execution_count": null,
   "metadata": {},
   "outputs": [],
   "source": [
    "n.stores[n.stores.bus == \"H2 export bus\"].e_nom_opt.sum() / 1e3 # in GWh"
   ]
  },
  {
   "cell_type": "code",
   "execution_count": null,
   "metadata": {},
   "outputs": [],
   "source": [
    "n.loads"
   ]
  },
  {
   "cell_type": "code",
   "execution_count": null,
   "metadata": {},
   "outputs": [],
   "source": [
    "# Show storage levels and charging of 200 time steps\n",
    "time_min = 0\n",
    "time_max = 10\n",
    "ax = n.stores_t.p[\"H2 export store\"][time_min:time_max].plot()\n",
    "n.stores_t.e[\"H2 export store\"][time_min:time_max].plot()\n",
    "n.loads_t.p[\"H2 export load\"][time_min:time_max].plot()\n",
    "export_supply = (n.links_t.p1.loc[:, n.links_t.p1.columns.str.contains(\"export\")].sum(axis=1)[time_min:time_max]*(-1)) #.plot()\n",
    "export_supply.plot()\n",
    "ax.legend()"
   ]
  },
  {
   "cell_type": "code",
   "execution_count": null,
   "metadata": {},
   "outputs": [],
   "source": [
    "# Show storage levels and charging of 200 time steps\n",
    "n.stores_t.p[\"H2 export store\"].plot()\n",
    "n.stores_t.e[\"H2 export store\"].plot() #[2000:2200].plot()\n",
    "n.loads_t.p[\"H2 export load\"].plot()"
   ]
  },
  {
   "attachments": {},
   "cell_type": "markdown",
   "metadata": {},
   "source": [
    "Retrieve storage sizes of one type (MAR ES export) of various scenarios/runs"
   ]
  },
  {
   "cell_type": "code",
   "execution_count": null,
   "metadata": {},
   "outputs": [],
   "source": [
    "# Get storage sizes of hydrogen and battery for all networks\n",
    "runs = [\"store_nocosts_6h_ws\", \"store_standard_costs_6h_ws\", \"store_nostore_6h_ws\"]\n",
    "\n",
    "stats = pd.DataFrame(columns=runs, index=[\"H2_GWh\", \"Battery_GWh\", \"H2export_GWh\"])\n",
    "\n",
    "for run in runs:\n",
    "    \n",
    "    network_path = prefix + \"/resources/pypsaearthsec/\" + run + \"/postnetworks/elec_s_10_ec_lc1.0_Co2L0.10_6H_2030_0.071_DF_120export.nc\"\n",
    "\n",
    "    n = pypsa.Network(network_path)\n",
    "\n",
    "    stats.loc[\"H2_GWh\", run] = n.stores[(n.stores.carrier==\"H2\") & (n.stores.bus != \"H2 export bus\")].e_nom_opt.sum() / 1e3 # in GWh\n",
    "    stats.loc[\"Battery_GWh\", run] = n.stores[(n.stores.carrier==\"battery\")].e_nom_opt.sum() / 1e3 # in GWh\n",
    "\n",
    "    stats.loc[\"H2export_GWh\", run] = n.stores[(n.stores.carrier==\"H2\") & (n.stores.bus == \"H2 export bus\")].e_nom_opt.sum() / 1e3 # in GWh"
   ]
  },
  {
   "cell_type": "markdown",
   "metadata": {},
   "source": [
    "Retrieve storage sizes across types (MAR ES only, MAR ES export, Export only) within one scenario/run"
   ]
  },
  {
   "cell_type": "code",
   "execution_count": null,
   "metadata": {},
   "outputs": [],
   "source": [
    "# Get storage sizes of hydrogen and battery for all networks\n",
    "run = \"h2network_true_3h\"\n",
    "networks = [\"export_only\", \"mar_only\", \"mar_es_export\"]\n",
    "\n",
    "network_paths = {\n",
    "        \"export_only\": prefix +\"/resources/export_only/\" + run +\"/elec_s_10_ec_lc1.0_Co2L0.10_3H_2030_0.071_DF_120export_solved.nc\",\n",
    "        \"mar_only\": prefix + \"/resources/pypsaearthsec/\" + run + \"/postnetworks/elec_s_10_ec_lc1.0_Co2L0.10_3H_2030_0.071_DF_0export.nc\",\n",
    "        \"mar_es_export\": prefix + \"/resources/pypsaearthsec/\" + run + \"/postnetworks/elec_s_10_ec_lc1.0_Co2L0.10_3H_2030_0.071_DF_120export.nc\",\n",
    "}\n",
    "\n",
    "\n",
    "stats = pd.DataFrame(columns=networks, index=[\"H2_GWh\", \"Battery_GWh\", \"H2export_GWh\"])\n",
    "\n",
    "for network in networks:\n",
    "    \n",
    "    n = pypsa.Network(network_paths[network])\n",
    "\n",
    "    stats.loc[\"H2_GWh\", network] = n.stores[(n.stores.carrier==\"H2\") & (n.stores.bus != \"H2 export bus\")].e_nom_opt.sum() / 1e3 # in GWh\n",
    "    stats.loc[\"Battery_GWh\", network] = n.stores[(n.stores.carrier==\"battery\")].e_nom_opt.sum() / 1e3 # in GWh\n",
    "\n",
    "    stats.loc[\"H2export_GWh\", network] = n.stores[(n.stores.carrier==\"H2\") & (n.stores.bus == \"H2 export bus\")].e_nom_opt.sum() / 1e3 # in GWh\n",
    "\n"
   ]
  },
  {
   "cell_type": "code",
   "execution_count": null,
   "metadata": {},
   "outputs": [],
   "source": [
    "stats.head()"
   ]
  }
 ],
 "metadata": {
  "kernelspec": {
   "display_name": "Python 3",
   "language": "python",
   "name": "python3"
  },
  "language_info": {
   "codemirror_mode": {
    "name": "ipython",
    "version": 3
   },
   "file_extension": ".py",
   "mimetype": "text/x-python",
   "name": "python",
   "nbconvert_exporter": "python",
   "pygments_lexer": "ipython3",
   "version": "3.10.10"
  },
  "orig_nbformat": 4
 },
 "nbformat": 4,
 "nbformat_minor": 2
}

{
 "cells": [
  {
   "attachments": {},
   "cell_type": "markdown",
   "metadata": {},
   "source": [
    "## Goal: Check various hypothesis"
   ]
  },
  {
   "cell_type": "code",
   "execution_count": null,
   "metadata": {},
   "outputs": [],
   "source": [
    "import pandas as pd\n",
    "import pypsa\n",
    "prefix = \"/mnt/c/Users/scl38887/Documents/git/aldehyde\""
   ]
  },
  {
   "attachments": {},
   "cell_type": "markdown",
   "metadata": {},
   "source": [
    "### Check 1: Compare Total System Cost with / without network"
   ]
  },
  {
   "cell_type": "code",
   "execution_count": null,
   "metadata": {},
   "outputs": [],
   "source": [
    "# Total system cost\n",
    "runs = [\"h2network_true\", \"h2network_false\", \"test_subworkflow\"]\n",
    "\n",
    "stats = pd.DataFrame(columns=runs, index=[\"H2\", \"AC\", \"total costs\"])\n",
    "\n",
    "for run in runs:\n",
    "    metrics = pd.read_csv(prefix + \"/workflow/subworkflows/pypsa-earth-sec/results/\" + run + \"/csvs/metrics.csv\", header=[0,1,2,3,4,5,6], index_col=0)\n",
    "    prices = pd.read_csv(prefix + \"/workflow/subworkflows/pypsa-earth-sec/results/\" + run + \"/csvs/prices.csv\", header=[0,1,2,3,4,5,6], index_col=0)\n",
    "\n",
    "    stats.loc[\"H2\", run] = prices.loc[\"H2\"].values[0]\n",
    "    stats.loc[\"AC\", run] = prices.loc[\"AC\"].values[0]\n",
    "    stats.loc[\"total costs\", run] = metrics.loc[\"total costs\"].values[0]/1e9 # in B€\n"
   ]
  },
  {
   "cell_type": "code",
   "execution_count": null,
   "metadata": {},
   "outputs": [],
   "source": [
    "stats.head()"
   ]
  },
  {
   "attachments": {},
   "cell_type": "markdown",
   "metadata": {},
   "source": [
    "### Check 2: Hydrogen & battery storage of single run but e_inital modification"
   ]
  },
  {
   "cell_type": "code",
   "execution_count": null,
   "metadata": {},
   "outputs": [],
   "source": [
    "run = \"h2network_true_3h\""
   ]
  },
  {
   "cell_type": "code",
   "execution_count": null,
   "metadata": {},
   "outputs": [],
   "source": [
    "\n",
    "export_only = prefix +\"/resources/export_only/\" + run +\"/elec_s_10_ec_lc1.0_Co2L0.10_3H_2030_0.071_DF_120export_solved_einitial0.nc\"\n",
    "mar_only =prefix + \"/resources/pypsaearthsec/\" + run + \"/postnetworks/elec_s_10_ec_lc1.0_Co2L0.10_3H_2030_0.071_DF_0export.nc\"\n",
    "mar_es_export =prefix + \"/resources/pypsaearthsec/\" + run + \"/postnetworks/elec_s_10_ec_lc1.0_Co2L0.10_3H_2030_0.071_DF_120export.nc\"\n",
    "n = pypsa.Network(mar_es_export)"
   ]
  },
  {
   "cell_type": "code",
   "execution_count": null,
   "metadata": {},
   "outputs": [],
   "source": [
    "n_old = pypsa.Network(mar_es_export)\n",
    "n_new = pypsa.Network(prefix +\"/resources/export_only/\" + run +\"/elec_s_10_ec_lc1.0_Co2L0.10_3H_2030_0.071_DF_120export_solved.nc\")"
   ]
  },
  {
   "cell_type": "code",
   "execution_count": null,
   "metadata": {},
   "outputs": [],
   "source": [
    "def get_export_supply(n):\n",
    "    return (n.links_t.p1.loc[:, n.links_t.p1.columns.str.contains(\"export\")].sum(axis=1)*(-1))\n"
   ]
  },
  {
   "cell_type": "code",
   "execution_count": null,
   "metadata": {},
   "outputs": [],
   "source": [
    "# Show storage levels and charging of 200 time steps\n",
    "n_old.stores_t.e[\"H2 export store\"].plot() #[2000:2200].plot()\n",
    "n_new.stores_t.e[\"H2 export store\"].plot() #[2000:2200].plot()\n",
    "\n",
    "export_supply_new = get_export_supply(n_new)"
   ]
  },
  {
   "cell_type": "code",
   "execution_count": null,
   "metadata": {},
   "outputs": [],
   "source": [
    "#export_supply_old[2000:2400].plot()\n",
    "export_supply_new[2000:2400].plot()"
   ]
  },
  {
   "cell_type": "code",
   "execution_count": null,
   "metadata": {},
   "outputs": [],
   "source": [
    "n_old.objective/1e6"
   ]
  },
  {
   "cell_type": "code",
   "execution_count": null,
   "metadata": {},
   "outputs": [],
   "source": [
    "n_new.objective/1e6"
   ]
  },
  {
   "cell_type": "code",
   "execution_count": null,
   "metadata": {},
   "outputs": [],
   "source": [
    "n.stores[(n.stores.carrier==\"H2\") & (n.stores.bus != \"H2 export bus\")].e_nom_opt.sum() / 1e3 # in GWh"
   ]
  },
  {
   "cell_type": "code",
   "execution_count": null,
   "metadata": {},
   "outputs": [],
   "source": [
    "n.stores[(n.stores.carrier==\"battery\")].e_nom_opt.sum() / 1e3 # in GWh"
   ]
  },
  {
   "cell_type": "code",
   "execution_count": null,
   "metadata": {},
   "outputs": [],
   "source": [
    "n.stores[n.stores.index.str.contains(\"battery\")].head()"
   ]
  },
  {
   "cell_type": "code",
   "execution_count": null,
   "metadata": {},
   "outputs": [],
   "source": [
    "n.generators.p_nom_opt.sort_values(ascending=False)[0:10]"
   ]
  },
  {
   "cell_type": "code",
   "execution_count": null,
   "metadata": {},
   "outputs": [],
   "source": [
    "n.links_t.p0.loc[:, n.links.index.str.contains(\"battery\")].sum().sort_values(ascending=False)[0:10] #.head()"
   ]
  },
  {
   "cell_type": "code",
   "execution_count": null,
   "metadata": {},
   "outputs": [],
   "source": [
    "# Show capacities and nodes of top batteries\n",
    "n.stores[(n.stores.carrier==\"battery\")].e_nom_opt.sort_values(ascending=False) # head()"
   ]
  },
  {
   "cell_type": "markdown",
   "metadata": {},
   "source": [
    "Export hydrogen storage"
   ]
  },
  {
   "cell_type": "code",
   "execution_count": null,
   "metadata": {},
   "outputs": [],
   "source": [
    "n.stores[n.stores.bus == \"H2 export bus\"].e_nom_opt.sum() / 1e3 # in GWh"
   ]
  },
  {
   "cell_type": "code",
   "execution_count": null,
   "metadata": {},
   "outputs": [],
   "source": [
    "n.loads"
   ]
  },
  {
   "cell_type": "code",
   "execution_count": null,
   "metadata": {},
   "outputs": [],
   "source": [
    "# Show storage levels and charging of 200 time steps\n",
    "import matplotlib.pyplot as plt\n",
    "def plot_export_store(n, time_min = 0, time_max = 10):\n",
    "\n",
    "    fig, ax = plt.subplots(figsize=(10, 6))\n",
    "    ax2 = ax.twinx()\n",
    "\n",
    "    ax.plot(n.stores_t.p[\"H2 export store\"][time_min:time_max]/1e3) # in GW\n",
    "    ax.plot(n.loads_t.p[\"H2 export load\"][time_min:time_max]/1e3) # in GW\n",
    "    ax.plot(get_export_supply(n)[time_min:time_max]/1e3) # in GW\n",
    "\n",
    "    storage_level = n.stores_t.e[\"H2 export store\"][time_min:time_max]/ 1e3 # in GWh\n",
    "    ax2.plot(storage_level, color=\"grey\", linestyle=\"--\")\n",
    "\n",
    "    ax.legend([\"store charging\", \"export load\", \"supply (from system)\"], loc='upper right')\n",
    "    ax2.legend([\"store level (from n.stores_t.e)\"], loc='upper left')\n",
    "    ax2.set_ylabel(\"Storage level in GWh\")\n",
    "    ax.set_ylabel(\"Power in GW\")\n",
    "    ax.grid()\n"
   ]
  },
  {
   "cell_type": "code",
   "execution_count": null,
   "metadata": {},
   "outputs": [],
   "source": [
    "plot_export_store(n, 0, 160)"
   ]
  },
  {
   "cell_type": "markdown",
   "metadata": {},
   "source": [
    "Retrieve storage sizes across types (MAR ES only, MAR ES export, Export only) within one scenario/run"
   ]
  },
  {
   "cell_type": "code",
   "execution_count": null,
   "metadata": {},
   "outputs": [],
   "source": [
    "# Get storage sizes of hydrogen and battery for all networks\n",
    "run = \"store_standardcosts_6h_ws\"\n",
    "networks = [\"export_only\", \"mar_only\", \"mar_es_export\"]\n",
    "\n",
    "network_paths = {\n",
    "        \"export_only\": prefix +\"/resources/export_only/\" + run +\"/elec_s_10_ec_lc1.0_Co2L0.10_6H_2030_0.071_DF_120export_solved.nc\",\n",
    "        \"mar_only\": prefix + \"/resources/pypsaearthsec/\" + run + \"/postnetworks/elec_s_10_ec_lc1.0_Co2L0.10_6H_2030_0.071_DF_0export.nc\",\n",
    "        \"mar_es_export\": prefix + \"/resources/pypsaearthsec/\" + run + \"/postnetworks/elec_s_10_ec_lc1.0_Co2L0.10_6H_2030_0.071_DF_120export.nc\",\n",
    "}\n",
    "\n",
    "\n",
    "stats = pd.DataFrame(columns=networks, index=[\"H2_GWh\", \"Battery_GWh\", \"H2export_GWh\"])\n",
    "\n",
    "for network in networks:\n",
    "    \n",
    "    n = pypsa.Network(network_paths[network])\n",
    "\n",
    "    stats.loc[\"H2_GWh\", network] = n.stores[(n.stores.carrier==\"H2\") & (n.stores.bus != \"H2 export bus\")].e_nom_opt.sum() / 1e3 # in GWh\n",
    "    stats.loc[\"Battery_GWh\", network] = n.stores[(n.stores.carrier==\"battery\")].e_nom_opt.sum() / 1e3 # in GWh\n",
    "\n",
    "    stats.loc[\"H2export_GWh\", network] = n.stores[(n.stores.carrier==\"H2\") & (n.stores.bus == \"H2 export bus\")].e_nom_opt.sum() / 1e3 # in GWh"
   ]
  },
  {
   "cell_type": "code",
   "execution_count": null,
   "metadata": {},
   "outputs": [],
   "source": [
    "stats.head()"
   ]
  },
  {
   "attachments": {},
   "cell_type": "markdown",
   "metadata": {},
   "source": [
    "### Check 3: Export store with costs/no costs/no store"
   ]
  },
  {
   "attachments": {},
   "cell_type": "markdown",
   "metadata": {},
   "source": [
    "Retrieve storage sizes of one type (MAR ES export) of various scenarios/runs"
   ]
  },
  {
   "cell_type": "code",
   "execution_count": 132,
   "metadata": {},
   "outputs": [
    {
     "name": "stderr",
     "output_type": "stream",
     "text": [
      "INFO:pypsa.io:Imported network elec_s_10_ec_lc1.0_Co2L0.10_6H_2030_0.071_DF_120export.nc has buses, carriers, generators, global_constraints, lines, links, loads, storage_units, stores\n",
      "INFO:pypsa.io:Imported network elec_s_10_ec_lc1.0_Co2L0.10_6H_2030_0.071_DF_120export.nc has buses, carriers, generators, global_constraints, lines, links, loads, storage_units, stores\n",
      "INFO:pypsa.io:Imported network elec_s_10_ec_lc1.0_Co2L0.10_6H_2030_0.071_DF_120export.nc has buses, carriers, generators, global_constraints, lines, links, loads, storage_units, stores\n"
     ]
    }
   ],
   "source": [
    "# Get storage sizes of hydrogen and battery for all networks\n",
    "runs = [\"store_nocosts_6h_ws\", \"store_standardcosts_6h_ws\", \"store_nostore_6h_ws\"]\n",
    "\n",
    "stats = pd.DataFrame(columns=runs, index=[\"H2_GWh\", \"Battery_GWh\", \"H2export_GWh\", \"objective_B€\"])\n",
    "\n",
    "for run in runs:\n",
    "    \n",
    "    network_path = prefix + \"/resources/pypsaearthsec/\" + run + \"/postnetworks/elec_s_10_ec_lc1.0_Co2L0.10_6H_2030_0.071_DF_120export.nc\"\n",
    "\n",
    "    n = pypsa.Network(network_path)\n",
    "\n",
    "    stats.loc[\"H2_GWh\", run] = n.stores[(n.stores.carrier==\"H2\") & (n.stores.bus != \"H2 export bus\")].e_nom_opt.sum() / 1e3 # in GWh\n",
    "    stats.loc[\"Battery_GWh\", run] = n.stores[(n.stores.carrier==\"battery\")].e_nom_opt.sum() / 1e3 # in GWh\n",
    "    stats.loc[\"H2export_GWh\", run] = n.stores[(n.stores.carrier==\"H2\") & (n.stores.bus == \"H2 export bus\")].e_nom_opt.sum() / 1e3 # in GWh\n",
    "    stats.loc[\"objective_B€\", run] = n.objective / 1e9 # in B€"
   ]
  },
  {
   "cell_type": "code",
   "execution_count": 133,
   "metadata": {},
   "outputs": [
    {
     "data": {
      "text/html": [
       "<div>\n",
       "<style scoped>\n",
       "    .dataframe tbody tr th:only-of-type {\n",
       "        vertical-align: middle;\n",
       "    }\n",
       "\n",
       "    .dataframe tbody tr th {\n",
       "        vertical-align: top;\n",
       "    }\n",
       "\n",
       "    .dataframe thead th {\n",
       "        text-align: right;\n",
       "    }\n",
       "</style>\n",
       "<table border=\"1\" class=\"dataframe\">\n",
       "  <thead>\n",
       "    <tr style=\"text-align: right;\">\n",
       "      <th></th>\n",
       "      <th>store_nocosts_6h_ws</th>\n",
       "      <th>store_standardcosts_6h_ws</th>\n",
       "      <th>store_nostore_6h_ws</th>\n",
       "    </tr>\n",
       "  </thead>\n",
       "  <tbody>\n",
       "    <tr>\n",
       "      <th>H2_GWh</th>\n",
       "      <td>30.14973</td>\n",
       "      <td>161.574785</td>\n",
       "      <td>182.908774</td>\n",
       "    </tr>\n",
       "    <tr>\n",
       "      <th>Battery_GWh</th>\n",
       "      <td>47.387106</td>\n",
       "      <td>48.441827</td>\n",
       "      <td>48.437268</td>\n",
       "    </tr>\n",
       "    <tr>\n",
       "      <th>H2export_GWh</th>\n",
       "      <td>8683.058316</td>\n",
       "      <td>21.335936</td>\n",
       "      <td>0.0</td>\n",
       "    </tr>\n",
       "    <tr>\n",
       "      <th>objective_B€</th>\n",
       "      <td>17.078372</td>\n",
       "      <td>18.133305</td>\n",
       "      <td>18.133065</td>\n",
       "    </tr>\n",
       "  </tbody>\n",
       "</table>\n",
       "</div>"
      ],
      "text/plain": [
       "             store_nocosts_6h_ws store_standardcosts_6h_ws store_nostore_6h_ws\n",
       "H2_GWh                  30.14973                161.574785          182.908774\n",
       "Battery_GWh            47.387106                 48.441827           48.437268\n",
       "H2export_GWh         8683.058316                 21.335936                 0.0\n",
       "objective_B€           17.078372                 18.133305           18.133065"
      ]
     },
     "execution_count": 133,
     "metadata": {},
     "output_type": "execute_result"
    }
   ],
   "source": [
    "stats.head()"
   ]
  },
  {
   "attachments": {},
   "cell_type": "markdown",
   "metadata": {},
   "source": [
    "Show timeseries"
   ]
  },
  {
   "cell_type": "code",
   "execution_count": null,
   "metadata": {},
   "outputs": [],
   "source": [
    "export_supply = get_export_supply(n)\n",
    "export_supply[2000:2400].plot()"
   ]
  },
  {
   "cell_type": "code",
   "execution_count": 134,
   "metadata": {},
   "outputs": [
    {
     "ename": "KeyError",
     "evalue": "'H2 export store'",
     "output_type": "error",
     "traceback": [
      "\u001b[0;31m---------------------------------------------------------------------------\u001b[0m",
      "\u001b[0;31mKeyError\u001b[0m                                  Traceback (most recent call last)",
      "File \u001b[0;32m~/micromamba/envs/pypsa-earth/lib/python3.10/site-packages/pandas/core/indexes/base.py:3802\u001b[0m, in \u001b[0;36mIndex.get_loc\u001b[0;34m(self, key, method, tolerance)\u001b[0m\n\u001b[1;32m   3801\u001b[0m \u001b[39mtry\u001b[39;00m:\n\u001b[0;32m-> 3802\u001b[0m     \u001b[39mreturn\u001b[39;00m \u001b[39mself\u001b[39;49m\u001b[39m.\u001b[39;49m_engine\u001b[39m.\u001b[39;49mget_loc(casted_key)\n\u001b[1;32m   3803\u001b[0m \u001b[39mexcept\u001b[39;00m \u001b[39mKeyError\u001b[39;00m \u001b[39mas\u001b[39;00m err:\n",
      "File \u001b[0;32m~/micromamba/envs/pypsa-earth/lib/python3.10/site-packages/pandas/_libs/index.pyx:138\u001b[0m, in \u001b[0;36mpandas._libs.index.IndexEngine.get_loc\u001b[0;34m()\u001b[0m\n",
      "File \u001b[0;32m~/micromamba/envs/pypsa-earth/lib/python3.10/site-packages/pandas/_libs/index.pyx:165\u001b[0m, in \u001b[0;36mpandas._libs.index.IndexEngine.get_loc\u001b[0;34m()\u001b[0m\n",
      "File \u001b[0;32mpandas/_libs/hashtable_class_helper.pxi:5745\u001b[0m, in \u001b[0;36mpandas._libs.hashtable.PyObjectHashTable.get_item\u001b[0;34m()\u001b[0m\n",
      "File \u001b[0;32mpandas/_libs/hashtable_class_helper.pxi:5753\u001b[0m, in \u001b[0;36mpandas._libs.hashtable.PyObjectHashTable.get_item\u001b[0;34m()\u001b[0m\n",
      "\u001b[0;31mKeyError\u001b[0m: 'H2 export store'",
      "\nThe above exception was the direct cause of the following exception:\n",
      "\u001b[0;31mKeyError\u001b[0m                                  Traceback (most recent call last)",
      "Cell \u001b[0;32mIn[134], line 1\u001b[0m\n\u001b[0;32m----> 1\u001b[0m plot_export_store(n, \u001b[39m0\u001b[39;49m, \u001b[39m160\u001b[39;49m)\n",
      "Cell \u001b[0;32mIn[114], line 8\u001b[0m, in \u001b[0;36mplot_export_store\u001b[0;34m(n, time_min, time_max)\u001b[0m\n\u001b[1;32m      5\u001b[0m fig, ax \u001b[39m=\u001b[39m plt\u001b[39m.\u001b[39msubplots(figsize\u001b[39m=\u001b[39m(\u001b[39m10\u001b[39m, \u001b[39m6\u001b[39m))\n\u001b[1;32m      6\u001b[0m ax2 \u001b[39m=\u001b[39m ax\u001b[39m.\u001b[39mtwinx()\n\u001b[0;32m----> 8\u001b[0m ax\u001b[39m.\u001b[39mplot(n\u001b[39m.\u001b[39;49mstores_t\u001b[39m.\u001b[39;49mp[\u001b[39m\"\u001b[39;49m\u001b[39mH2 export store\u001b[39;49m\u001b[39m\"\u001b[39;49m][time_min:time_max]\u001b[39m/\u001b[39m\u001b[39m1e3\u001b[39m) \u001b[39m# in GW\u001b[39;00m\n\u001b[1;32m      9\u001b[0m ax\u001b[39m.\u001b[39mplot(n\u001b[39m.\u001b[39mloads_t\u001b[39m.\u001b[39mp[\u001b[39m\"\u001b[39m\u001b[39mH2 export load\u001b[39m\u001b[39m\"\u001b[39m][time_min:time_max]\u001b[39m/\u001b[39m\u001b[39m1e3\u001b[39m) \u001b[39m# in GW\u001b[39;00m\n\u001b[1;32m     10\u001b[0m ax\u001b[39m.\u001b[39mplot(get_export_supply(n)[time_min:time_max]\u001b[39m/\u001b[39m\u001b[39m1e3\u001b[39m) \u001b[39m# in GW\u001b[39;00m\n",
      "File \u001b[0;32m~/micromamba/envs/pypsa-earth/lib/python3.10/site-packages/pandas/core/frame.py:3807\u001b[0m, in \u001b[0;36mDataFrame.__getitem__\u001b[0;34m(self, key)\u001b[0m\n\u001b[1;32m   3805\u001b[0m \u001b[39mif\u001b[39;00m \u001b[39mself\u001b[39m\u001b[39m.\u001b[39mcolumns\u001b[39m.\u001b[39mnlevels \u001b[39m>\u001b[39m \u001b[39m1\u001b[39m:\n\u001b[1;32m   3806\u001b[0m     \u001b[39mreturn\u001b[39;00m \u001b[39mself\u001b[39m\u001b[39m.\u001b[39m_getitem_multilevel(key)\n\u001b[0;32m-> 3807\u001b[0m indexer \u001b[39m=\u001b[39m \u001b[39mself\u001b[39;49m\u001b[39m.\u001b[39;49mcolumns\u001b[39m.\u001b[39;49mget_loc(key)\n\u001b[1;32m   3808\u001b[0m \u001b[39mif\u001b[39;00m is_integer(indexer):\n\u001b[1;32m   3809\u001b[0m     indexer \u001b[39m=\u001b[39m [indexer]\n",
      "File \u001b[0;32m~/micromamba/envs/pypsa-earth/lib/python3.10/site-packages/pandas/core/indexes/base.py:3804\u001b[0m, in \u001b[0;36mIndex.get_loc\u001b[0;34m(self, key, method, tolerance)\u001b[0m\n\u001b[1;32m   3802\u001b[0m     \u001b[39mreturn\u001b[39;00m \u001b[39mself\u001b[39m\u001b[39m.\u001b[39m_engine\u001b[39m.\u001b[39mget_loc(casted_key)\n\u001b[1;32m   3803\u001b[0m \u001b[39mexcept\u001b[39;00m \u001b[39mKeyError\u001b[39;00m \u001b[39mas\u001b[39;00m err:\n\u001b[0;32m-> 3804\u001b[0m     \u001b[39mraise\u001b[39;00m \u001b[39mKeyError\u001b[39;00m(key) \u001b[39mfrom\u001b[39;00m \u001b[39merr\u001b[39;00m\n\u001b[1;32m   3805\u001b[0m \u001b[39mexcept\u001b[39;00m \u001b[39mTypeError\u001b[39;00m:\n\u001b[1;32m   3806\u001b[0m     \u001b[39m# If we have a listlike key, _check_indexing_error will raise\u001b[39;00m\n\u001b[1;32m   3807\u001b[0m     \u001b[39m#  InvalidIndexError. Otherwise we fall through and re-raise\u001b[39;00m\n\u001b[1;32m   3808\u001b[0m     \u001b[39m#  the TypeError.\u001b[39;00m\n\u001b[1;32m   3809\u001b[0m     \u001b[39mself\u001b[39m\u001b[39m.\u001b[39m_check_indexing_error(key)\n",
      "\u001b[0;31mKeyError\u001b[0m: 'H2 export store'"
     ]
    },
    {
     "data": {
      "image/png": "[encoded data removed]",
      "text/plain": [
       "<Figure size 1000x600 with 2 Axes>"
      ]
     },
     "metadata": {},
     "output_type": "display_data"
    }
   ],
   "source": [
    "plot_export_store(n, 0, 160)"
   ]
  }
 ],
 "metadata": {
  "kernelspec": {
   "display_name": "Python 3",
   "language": "python",
   "name": "python3"
  },
  "language_info": {
   "codemirror_mode": {
    "name": "ipython",
    "version": 3
   },
   "file_extension": ".py",
   "mimetype": "text/x-python",
   "name": "python",
   "nbconvert_exporter": "python",
   "pygments_lexer": "ipython3",
   "version": "3.10.10"
  },
  "orig_nbformat": 4
 },
 "nbformat": 4,
 "nbformat_minor": 2
}

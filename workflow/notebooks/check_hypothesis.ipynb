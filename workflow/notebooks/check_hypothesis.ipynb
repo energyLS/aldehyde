{
 "cells": [
  {
   "attachments": {},
   "cell_type": "markdown",
   "metadata": {},
   "source": [
    "Goal: Check various hypothesis"
   ]
  },
  {
   "attachments": {},
   "cell_type": "markdown",
   "metadata": {},
   "source": [
    "Compare with / without network"
   ]
  },
  {
   "cell_type": "code",
   "execution_count": null,
   "metadata": {},
   "outputs": [],
   "source": [
    "import pandas as pd"
   ]
  },
  {
   "cell_type": "code",
   "execution_count": null,
   "metadata": {},
   "outputs": [],
   "source": [
    "# Total system cost\n",
    "runs = [\"test_subworkflow\", \"test_subworkflow\"]\n",
    "prefix = \"/mnt/c/Users/scl38887/Documents/git/aldehyde\"\n",
    "stats = pd.DataFrame(columns=runs, index=[\"H2\", \"AC\", \"total costs\"])\n",
    "\n",
    "for run in runs:\n",
    "    metrics = pd.read_csv(prefix + \"/workflow/subworkflows/pypsa-earth-sec/results/\" + run + \"/csvs/metrics.csv\", header=[0,1,2,3,4,5,6], index_col=0)\n",
    "    prices = pd.read_csv(prefix + \"/workflow/subworkflows/pypsa-earth-sec/results/\" + run + \"/csvs/prices.csv\", header=[0,1,2,3,4,5,6], index_col=0)\n",
    "\n",
    "    stats.loc[\"H2\", run] = prices.loc[\"H2\"].values[0]\n",
    "    stats.loc[\"AC\", run] = prices.loc[\"AC\"].values[0]\n",
    "    stats.loc[\"total costs\", run] = metrics.loc[\"total costs\"].values[0]/1e9 # in B€\n"
   ]
  },
  {
   "cell_type": "code",
   "execution_count": null,
   "metadata": {},
   "outputs": [],
   "source": [
    "stats.head()"
   ]
  }
 ],
 "metadata": {
  "kernelspec": {
   "display_name": "Python 3",
   "language": "python",
   "name": "python3"
  },
  "language_info": {
   "codemirror_mode": {
    "name": "ipython",
    "version": 3
   },
   "file_extension": ".py",
   "mimetype": "text/x-python",
   "name": "python",
   "nbconvert_exporter": "python",
   "pygments_lexer": "ipython3",
   "version": "3.10.10"
  },
  "orig_nbformat": 4
 },
 "nbformat": 4,
 "nbformat_minor": 2
}

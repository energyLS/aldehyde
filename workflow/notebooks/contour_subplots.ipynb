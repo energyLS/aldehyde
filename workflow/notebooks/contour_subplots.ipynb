{
 "cells": [
  {
   "cell_type": "code",
   "execution_count": null,
   "metadata": {},
   "outputs": [],
   "source": [
    "import numpy as np\n",
    "import matplotlib.pyplot as plt\n",
    "import pandas as pd\n",
    "from matplotlib.colors import ListedColormap"
   ]
  },
  {
   "cell_type": "code",
   "execution_count": null,
   "metadata": {},
   "outputs": [],
   "source": [
    "RUN = 'nogreen_full_3H_ws'\n",
    "\n",
    "INPUT=\"/mnt/c/Users/scl38887/Documents/git/aldehyde/results/\" + RUN + \"/integrated_comp/stats.csv\"\n",
    "OUTPUT=\"/mnt/c/Users/scl38887/Documents/git/aldehyde/results/\" + RUN + \"/graphics/integrated_comp/\""
   ]
  },
  {
   "cell_type": "markdown",
   "metadata": {},
   "source": [
    "### Data preparation"
   ]
  },
  {
   "cell_type": "code",
   "execution_count": null,
   "metadata": {},
   "outputs": [],
   "source": [
    "def prepare_data(data, zerofilter=False):\n",
    "    # Prepare the data\n",
    "    # Extract the Co2L which is in position 5-8\n",
    "    data[\"opts\"] = data[\"opts\"].str[4:]\n",
    "\n",
    "    # Rescale the cost from euro to B€\n",
    "    data[\"cost\"] = data[\"cost\"] / 1e9\n",
    "\n",
    "    # Round the data to 2 decimals\n",
    "    data = data.round(2)\n",
    "\n",
    "    # Filter the data to remove 0 export and 0 co2 reduction\n",
    "    print(f\"zerofiler is set to {zerofilter} or in boolean {bool(zerofilter)}\")\n",
    "    if zerofilter:\n",
    "        print(\"Filtering data\")\n",
    "        #data = data[(data[\"h2export\"] != 0) & (data[\"opts\"] != \"2.0\")]\n",
    "        data = data[(data[\"h2export\"] != 0)]\n",
    "\n",
    "    else:\n",
    "        pass\n",
    "\n",
    "    return data\n"
   ]
  },
  {
   "cell_type": "code",
   "execution_count": null,
   "metadata": {},
   "outputs": [],
   "source": [
    "def reshape_data(data, opts, h2export, plottype):\n",
    "    # Reshape the data for all columns in to_round and save it in data dictionary\n",
    "    data_reshaped = {}\n",
    "    # TODO loop is not necessary since I only use one plottype\n",
    "    for i in [plottype]:\n",
    "        data_reshaped[i] = data[i].values.reshape(len(opts), len(h2export)).T\n",
    "\n",
    "    return data_reshaped"
   ]
  },
  {
   "cell_type": "markdown",
   "metadata": {},
   "source": [
    "### Plotting config & function"
   ]
  },
  {
   "cell_type": "code",
   "execution_count": null,
   "metadata": {},
   "outputs": [],
   "source": [
    "# Prepare the data\n",
    "levels = 7 # 20 recommended for \"cf\", 7 for others\n",
    "show_minimums = False\n",
    "zerofilter = False\n",
    "category = \"cf\" # Select [\"supply\", \"capacity\", \"cf\"]\n",
    "\n",
    "data = pd.read_csv(INPUT)\n",
    "data = prepare_data(data, zerofilter=zerofilter)\n",
    "\n",
    "h2export = np.unique(data[\"h2export\"])\n",
    "opts = np.unique(\n",
    "    data[\"opts\"].fillna(100).astype(float)\n",
    ")  # TODO improve the fillna value\n",
    "\n",
    "el_base_demand = min(reshape_data(data, opts, h2export, plottype=\"el_base_demand\")[\"el_base_demand\"][0])\n",
    "\n",
    "#data_reshaped = reshape_data(data, opts, h2export, plottype=plottype)\n"
   ]
  },
  {
   "cell_type": "code",
   "execution_count": null,
   "metadata": {},
   "outputs": [],
   "source": [
    "def plot_data(ax, data_reshaped, plottype, levels, cmap, title):\n",
    "    # Turn \"limit\" to \"reduction\" (e.g. Co2L0.90 means 10% reduction)\n",
    "    opts_reverse = 1 - opts\n",
    "    opts_reverse[opts_reverse < 0] = 0\n",
    "\n",
    "    # Plot a contour plot of the data having the y-axis the column \"h2export\", x-axis the column \"sopts\", and the z-axis the column \"cost\"\n",
    "    #fig = plt.figure(figsize=(9, 6))\n",
    "    contour = ax.contourf(\n",
    "        opts_reverse * 100,\n",
    "        h2export,\n",
    "        np.flip(data_reshaped[plottype], axis=1),\n",
    "        levels=levels,\n",
    "        #colors=[\"green\", \"red\"],\n",
    "        cmap=cmap,\n",
    "    )\n",
    "    plt.colorbar(contour, ax=ax, orientation='vertical')#.set_label(\"Capacity in GW\")\n",
    "    ax.set_title(title)\n",
    "\n",
    "\n",
    "    return contour"
   ]
  },
  {
   "cell_type": "markdown",
   "metadata": {},
   "source": [
    "### Plot data"
   ]
  },
  {
   "cell_type": "code",
   "execution_count": null,
   "metadata": {},
   "outputs": [],
   "source": [
    "def create_cmap(rgb):\n",
    "    N = 256\n",
    "    vals = np.ones((N, 4))\n",
    "    vals[:, 0] = np.linspace(1, rgb[0]/256, N)\n",
    "    vals[:, 1] = np.linspace(1, rgb[1]/256, N)\n",
    "    vals[:, 2] = np.linspace(1, rgb[2]/256, N)\n",
    "    my_cmap = ListedColormap(vals)\n",
    "    return my_cmap"
   ]
  },
  {
   "cell_type": "code",
   "execution_count": null,
   "metadata": {},
   "outputs": [],
   "source": [
    "data.columns"
   ]
  },
  {
   "cell_type": "code",
   "execution_count": null,
   "metadata": {},
   "outputs": [],
   "source": [
    "params = {\"Onshore Wind\": {\"capacity\": \"onshore_p_nom_opt\", \n",
    "                           \"supply\": \"onshore_supply\",\n",
    "                           \"cf\": \"onshore_cf\",\n",
    "                           \"rgb\": [18, 143, 207],     \n",
    "                           \"title\": \"Onshore Wind\"},\n",
    "                \"Solar PV\": {\"capacity\": \"pv_p_nom_opt\", \n",
    "                            \"supply\": \"pv_supply\",\n",
    "                                \"cf\": \"pv_cf\",\n",
    "                            \"rgb\": [228, 203, 58], \n",
    "                            \"title\": \"Solar PV\"},\n",
    "               \"Coal\": {\"capacity\": \"coal_p_nom_opt\",\n",
    "                        \"supply\": \"coal_supply\",\n",
    "                        \"cf\": \"coal_cf\",\n",
    "                        \"rgb\": [80, 80, 80], \n",
    "                        \"title\": \"Coal\"},\n",
    "               \"OCGT\": {\"capacity\": \"ocgt_p_nom_opt\",\n",
    "                        \"supply\": \"ocgt_supply\",\n",
    "                        \"cf\": \"ocgt_cf\",\n",
    "                        \"rgb\": [228, 147,44], \n",
    "                        \"title\": \"OCGT\"},\n",
    "                \"ror\": {\"capacity\": \"ror_p_nom_opt\",\n",
    "                        \"supply\": \"ror_supply\",\n",
    "                        \"cf\": \"ror_cf\",\n",
    "                        \"rgb\": [27, 90, 166], \n",
    "                        \"title\": \"ROR\"},\n",
    "                \"oil\": {\"capacity\": \"oil_p_nom_opt\",\n",
    "                        \"supply\": \"oil_supply\",\n",
    "                        \"cf\": \"oil_cf\",\n",
    "                        \"rgb\": [0, 0, 0], \n",
    "                        \"title\": \"Oil\"},\n",
    "                \"CCGT\": {\"capacity\": \"ccgt_p_nom_opt\",\n",
    "                        \"supply\": \"ccgt_supply\",\n",
    "                        \"cf\": \"ccgt_cf\",\n",
    "                        \"rgb\": [228, 147,44], # TODO change color\n",
    "                        \"title\": \"CCGT\"},\n",
    "}\n",
    "\n",
    "cbar_label = {\"supply\": \"Supply in TWh\",\n",
    "              \"capacity\": \"Capacity in GW\",\n",
    "                \"cf\": \"Capacity Factor\",\n",
    "              }"
   ]
  },
  {
   "cell_type": "code",
   "execution_count": null,
   "metadata": {},
   "outputs": [],
   "source": [
    "data.columns"
   ]
  },
  {
   "cell_type": "code",
   "execution_count": null,
   "metadata": {},
   "outputs": [],
   "source": [
    "def subplot(pos, tech):\n",
    "\n",
    "    data_reshaped = reshape_data(data, opts, h2export, plottype=params[tech][category])\n",
    "    plot = plot_data(pos, data_reshaped, params[tech][category], levels, cmap=create_cmap(params[tech][\"rgb\"]), title=params[tech][\"title\"])\n",
    "\n",
    "    return plot"
   ]
  },
  {
   "cell_type": "code",
   "execution_count": null,
   "metadata": {},
   "outputs": [],
   "source": [
    "fig, axes = plt.subplots(nrows=2, ncols=3, figsize=(13, 6), sharex=True, sharey=True)\n",
    "\n",
    "# Add x- and y-labels\n",
    "axes[1,0].set_xlabel(\"CO$_2$ Reduction in % of base levels\")\n",
    "axes[1,1].set_xlabel(\"CO$_2$ Reduction in % of base levels\")\n",
    "axes[1,2].set_xlabel(\"CO$_2$ Reduction in % of base levels\")\n",
    "axes[1,0].set_ylabel(\"Hydrogen Export Volume in TWh\")\n",
    "axes[0,0].set_ylabel(\"Hydrogen Export Volume in TWh\")\n",
    "\n",
    "# Create subplots\n",
    "tech = \"Onshore Wind\"\n",
    "subplot(axes[0,1], tech)\n",
    "\n",
    "tech = \"Solar PV\"\n",
    "subplot(axes[0,0], tech)\n",
    "\n",
    "tech = \"oil\"\n",
    "subplot(axes[0,2], tech)\n",
    "\n",
    "tech = \"Coal\"\n",
    "subplot(axes[1,0], tech)\n",
    "\n",
    "tech = \"OCGT\"\n",
    "subplot(axes[1,1], tech)\n",
    "\n",
    "tech = \"CCGT\"\n",
    "plot = subplot(axes[1,2], tech)\n",
    "\n",
    "print(\"Warning: Not including Run-of-river (ror)\")\n",
    "\n",
    "# Colorbar outside function\n",
    "fig.text(0.91, 0.7, cbar_label[category], va='center', rotation='vertical')\n",
    "fig.text(0.91, 0.3, cbar_label[category], va='center', rotation='vertical')\n",
    "\n",
    "# Secondary y-axis\n",
    "# ax2 = plt.gca().twinx()\n",
    "# h2export_secondary = h2export / el_base_demand\n",
    "# ax2.set_ylabel(\"H2-Exp/El-base-demand\")\n",
    "# ax2.set_ylim(0, max(h2export_secondary))  # Adjust the limit based on your data\n",
    "\n",
    "plt.show()\n",
    "\n",
    "# Save the figure\n",
    "fig.savefig(f\"{OUTPUT}/subcontour_{category}.pdf\", dpi=300, bbox_inches=\"tight\")"
   ]
  }
 ],
 "metadata": {
  "kernelspec": {
   "display_name": "aldehyde",
   "language": "python",
   "name": "python3"
  },
  "language_info": {
   "codemirror_mode": {
    "name": "ipython",
    "version": 3
   },
   "file_extension": ".py",
   "mimetype": "text/x-python",
   "name": "python",
   "nbconvert_exporter": "python",
   "pygments_lexer": "ipython3",
   "version": "3.10.11"
  }
 },
 "nbformat": 4,
 "nbformat_minor": 2
}

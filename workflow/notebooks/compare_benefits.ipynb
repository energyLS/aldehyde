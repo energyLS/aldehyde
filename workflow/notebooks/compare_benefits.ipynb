{
 "cells": [
  {
   "cell_type": "code",
   "execution_count": null,
   "metadata": {},
   "outputs": [],
   "source": [
    "import pandas as pd\n",
    "import numpy as np\n",
    "import os \n",
    "import matplotlib.pyplot as plt"
   ]
  },
  {
   "cell_type": "code",
   "execution_count": null,
   "metadata": {},
   "outputs": [],
   "source": [
    "RUNS = { \"noghc\": \"decr_14_3h_ws\",\n",
    "        \"annual\": \"decr_16_3h_ws\",\n",
    "        \"monthly\": \"decr_15_3h_ws\",\n",
    "        \"hourly\": \"decr_13_3h_ws\",\n",
    "       }\n",
    "\n",
    "PREFIX = \"/mnt/c/Users/scl38887/Documents/git/aldehyde/\"\n",
    "#OUTPUT = PREFIX + \"results/\" + RUN + \"/graphics/comp_benefits/\""
   ]
  },
  {
   "cell_type": "code",
   "execution_count": null,
   "metadata": {},
   "outputs": [],
   "source": [
    "def get_data(stats, h2export, opts):\n",
    "    \"\"\"Filter stats according to h2export value and opts value\n",
    "    \"\"\"\n",
    "    cost = stats[(stats.index == h2export) & (stats.opts == opts)].loc[:,\"cost\"]\n",
    "    mg_AC_exclu_H2 = stats[(stats.index == h2export) & (stats.opts == opts)].loc[:,\"mg_AC_exclu_H2 El_all\"]\n",
    "    mg_H2_False_False_exportonly = stats[(stats.index == h2export) & (stats.opts == opts)].loc[:,\"mg_H2_False_False_exportonly\"]\n",
    "    return cost, mg_AC_exclu_H2, mg_H2_False_False_exportonly "
   ]
  },
  {
   "cell_type": "code",
   "execution_count": null,
   "metadata": {},
   "outputs": [],
   "source": [
    "def prepare_data(ghrules, h2export, opts):\n",
    "    df = pd.DataFrame(index=ghrules, columns=[\"cost\", \"mg_AC_exclu_H2\", \"mg_H2_False_False_exportonly\"])\n",
    "\n",
    "    for rule in ghrules:\n",
    "        INPUT = PREFIX + \"results/\" + RUNS[rule] + \"/integrated_comp/stats.csv\"\n",
    "        stats = pd.read_csv(INPUT, index_col=0)\n",
    "        cost, mg_AC_exclu_H2, mg_H2_False_False_exportonly = get_data(stats, h2export, opts)    \n",
    "        df.loc[rule, \"cost\"] = cost.values[0]\n",
    "        df.loc[rule, \"mg_AC_exclu_H2\"] = mg_AC_exclu_H2.values[0]\n",
    "        df.loc[rule, \"mg_H2_False_False_exportonly\"] = mg_H2_False_False_exportonly.values[0]    \n",
    "\n",
    "    # Add relative values in % based on noghc row\n",
    "    df[\"cost_rel\"] = df[\"cost\"] / df.loc[\"noghc\", \"cost\"] * 100\n",
    "    df[\"mg_AC_exclu_H2_rel\"] = df[\"mg_AC_exclu_H2\"] / df.loc[\"noghc\", \"mg_AC_exclu_H2\"] * 100\n",
    "    df[\"mg_H2_False_False_exportonly_rel\"] = df[\"mg_H2_False_False_exportonly\"] / df.loc[\"noghc\", \"mg_H2_False_False_exportonly\"] * 100\n",
    "    return df  "
   ]
  },
  {
   "cell_type": "markdown",
   "metadata": {},
   "source": [
    "### Relative, subplot"
   ]
  },
  {
   "cell_type": "code",
   "execution_count": null,
   "metadata": {},
   "outputs": [],
   "source": [
    "h2exports = [200, 1]\n",
    "opts = [\"Co2L2.0\", \"Co2L0.00\"]\n",
    "ghrules = [\"noghc\",\"annual\",\"monthly\", \"hourly\"]"
   ]
  },
  {
   "cell_type": "code",
   "execution_count": null,
   "metadata": {},
   "outputs": [],
   "source": [
    "fig, axs = plt.subplots(nrows=2, ncols=2, figsize=(10, 6), sharex=True, sharey=True)\n",
    "\n",
    "n=1\n",
    "for h2export in h2exports:\n",
    "    for o in opts:\n",
    "        ax = plt.subplot(2, 2, n)\n",
    "        n += 1\n",
    "\n",
    "        df = prepare_data(ghrules, h2export, o)\n",
    "\n",
    "        ax.plot(df.index, df[\"cost_rel\"], label=\"Total costs\", color=\"black\")\n",
    "        ax.plot(df.index, df[\"mg_H2_False_False_exportonly_rel\"], label=\"H2 costs paid by exporters\", color=\"orange\")\n",
    "        ax.plot(df.index, df[\"mg_AC_exclu_H2_rel\"], label=\"Local electricity price\", color=\"green\")\n",
    "\n",
    "        ax.set_title(f\"{h2export} TWh export, {o} CO2\")\n",
    "        ax.grid(axis='y')\n",
    "        ax.set_ylim(0, 135)\n",
    "\n",
    "handles, labels = ax.get_legend_handles_labels()\n",
    "fig.legend(handles, labels, loc = (0.4,-0.01))\n",
    "fig.text(0.04, 0.5, 'Change in %', va='center', rotation='vertical')\n",
    "\n",
    "plt.show()"
   ]
  },
  {
   "cell_type": "markdown",
   "metadata": {},
   "source": [
    "### Relative, single"
   ]
  },
  {
   "cell_type": "code",
   "execution_count": null,
   "metadata": {},
   "outputs": [],
   "source": [
    "df = prepare_data(ghrules, 200, \"Co2L2.0\")\n",
    "fig, ax = plt.subplots(figsize=(6, 4))\n",
    "\n",
    "ax.plot(df.index, df[\"cost_rel\"], label=\"Total costs\", color=\"black\")\n",
    "ax.plot(df.index, df[\"mg_H2_False_False_exportonly_rel\"], label=\"H2 costs paid by exporters\", color=\"orange\")\n",
    "ax.plot(df.index, df[\"mg_AC_exclu_H2_rel\"], label=\"Local electricity price\", color=\"green\")\n",
    "\n",
    "ax.set_xlabel(\"H2 rule\")\n",
    "ax.set_ylabel(\"Change in % compared to no H2 rule\")\n",
    "ax.set_title(f\"200 TWh export, 0% CO2 reduction\")\n",
    "ax.set_ylim(0, 135)\n",
    "ax.grid(axis='y')\n",
    "\n",
    "ax.legend(loc=\"lower left\")"
   ]
  },
  {
   "cell_type": "markdown",
   "metadata": {},
   "source": [
    "### Absolute values"
   ]
  },
  {
   "cell_type": "code",
   "execution_count": null,
   "metadata": {},
   "outputs": [],
   "source": [
    "df = prepare_data(ghrules, 200, \"Co2L2.0\")\n",
    "fig, ax = plt.subplots(figsize=(6, 4))\n",
    "\n",
    "#ax.plot(df.index, df[\"cost\"]/1e9, label=\"Total cost\")\n",
    "ax.plot(df.index, df[\"mg_AC_exclu_H2\"], label=\"Local electricity price\", color=\"green\")\n",
    "ax.plot(df.index, df[\"mg_H2_False_False_exportonly\"], label=\"H2 costs paid by exporters\", color=\"orange\")\n",
    "\n",
    "\n",
    "# Add secondary axis for total cost\n",
    "ax2 = ax.twinx()\n",
    "ax2.plot(df.index, df[\"cost\"]/1e9, label=\"Total cost\", color=\"black\")\n",
    "ax2.set_ylabel(\"Total cost in B€\")\n",
    "ax2.set_ylim(5, 30)\n",
    "\n",
    "ax.set_xlabel(\"H2 rule\")\n",
    "ax.set_ylabel(\"Marginal price of electricity/h2 in €/MWh\")\n",
    "ax.set_ylim(0, 100)\n",
    "\n",
    "ax.legend(loc=\"lower left\")\n",
    "ax2.legend(loc=\"lower right\")\n",
    "\n",
    "ax.grid(axis='y')"
   ]
  },
  {
   "cell_type": "code",
   "execution_count": null,
   "metadata": {},
   "outputs": [],
   "source": [
    "#ax.legend()\n",
    "if not os.path.isdir(OUTPUT):\n",
    "    os.makedirs(OUTPUT)\n",
    "    print(\"Created directory \" + OUTPUT)\n",
    "plt.savefig(OUTPUT + \"electricity\" + str(export) + \".pdf\", bbox_inches=\"tight\")\n",
    "plt.show()"
   ]
  }
 ],
 "metadata": {
  "kernelspec": {
   "display_name": "Python 3",
   "language": "python",
   "name": "python3"
  },
  "language_info": {
   "codemirror_mode": {
    "name": "ipython",
    "version": 3
   },
   "file_extension": ".py",
   "mimetype": "text/x-python",
   "name": "python",
   "nbconvert_exporter": "python",
   "pygments_lexer": "ipython3",
   "version": "3.10.12"
  },
  "orig_nbformat": 4
 },
 "nbformat": 4,
 "nbformat_minor": 2
}

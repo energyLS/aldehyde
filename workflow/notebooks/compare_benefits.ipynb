{
 "cells": [
  {
   "cell_type": "code",
   "execution_count": null,
   "metadata": {},
   "outputs": [],
   "source": [
    "import pandas as pd\n",
    "import numpy as np\n",
    "import os \n",
    "import matplotlib.pyplot as plt"
   ]
  },
  {
   "cell_type": "code",
   "execution_count": null,
   "metadata": {},
   "outputs": [],
   "source": [
    "RUNS = { \"noghc\": \"decr_14_3h_ws\",\n",
    "        \"annual\": \"decr_16_3h_ws\",\n",
    "        \"monthly\": \"decr_15_3h_ws\",\n",
    "        \"hourly\": \"decr_13_3h_ws\",\n",
    "       }\n",
    "\n",
    "PREFIX = \"/mnt/c/Users/scl38887/Documents/git/aldehyde/\"\n",
    "#OUTPUT = PREFIX + \"results/\" + RUN + \"/graphics/comp_benefits/\""
   ]
  },
  {
   "cell_type": "code",
   "execution_count": null,
   "metadata": {},
   "outputs": [],
   "source": [
    "h2export = 100\n",
    "opts = \"Co2L2.0\"\n",
    "ghrules = [\"noghc\",\"annual\",\"monthly\", \"hourly\"]"
   ]
  },
  {
   "cell_type": "code",
   "execution_count": null,
   "metadata": {},
   "outputs": [],
   "source": [
    "# Filter stats according to h2export value and opts value\n",
    "def get_data(stats, export, opts):\n",
    "    cost = stats[(stats.index == h2export) & (stats.opts == opts)].loc[:,\"cost\"]\n",
    "    mg_AC_exclu_H2 = stats[(stats.index == h2export) & (stats.opts == opts)].loc[:,\"mg_AC_exclu_H2 El_all\"]\n",
    "    mg_H2_False_False_exportonly = stats[(stats.index == h2export) & (stats.opts == opts)].loc[:,\"mg_H2_False_False_exportonly\"]\n",
    "    return cost, mg_AC_exclu_H2, mg_H2_False_False_exportonly "
   ]
  },
  {
   "cell_type": "code",
   "execution_count": null,
   "metadata": {},
   "outputs": [],
   "source": [
    "df = pd.DataFrame(index=ghrules, columns=[\"cost\", \"mg_AC_exclu_H2\", \"mg_H2_False_False_exportonly\"])\n",
    "\n",
    "for rule in ghrules:\n",
    "    INPUT = PREFIX + \"results/\" + RUNS[rule] + \"/integrated_comp/stats.csv\"\n",
    "    stats = pd.read_csv(INPUT, index_col=0)\n",
    "    cost, mg_AC_exclu_H2, mg_H2_False_False_exportonly = get_data(stats, h2export, opts)    \n",
    "    df.loc[rule, \"cost\"] = cost.values[0]\n",
    "    df.loc[rule, \"mg_AC_exclu_H2\"] = mg_AC_exclu_H2.values[0]\n",
    "    df.loc[rule, \"mg_H2_False_False_exportonly\"] = mg_H2_False_False_exportonly.values[0]    "
   ]
  },
  {
   "cell_type": "code",
   "execution_count": null,
   "metadata": {},
   "outputs": [],
   "source": [
    "df"
   ]
  },
  {
   "cell_type": "code",
   "execution_count": null,
   "metadata": {},
   "outputs": [],
   "source": [
    "fig, ax = plt.subplots(figsize=(6, 4))\n",
    "\n",
    "#ax.plot(df.index, df[\"cost\"]/1e9, label=\"Total cost\")\n",
    "ax.plot(df.index, df[\"mg_AC_exclu_H2\"], label=\"local electricity price\")\n",
    "ax.plot(df.index, df[\"mg_H2_False_False_exportonly\"], label=\"h2 costs paid by exporters\")\n",
    "\n",
    "# Add secondary axis for total cost\n",
    "ax2 = ax.twinx()\n",
    "ax2.plot(df.index, df[\"cost\"]/1e9, label=\"Total cost\", color=\"black\")\n",
    "ax2.set_ylabel(\"Total cost in B€\")\n",
    "ax2.set_ylim(10, 26)\n",
    "\n",
    "ax.set_xlabel(\"H2 rule\")\n",
    "ax.set_ylabel(\"Marginal price of electricity/h2 in €/MWh\")\n",
    "ax.set_ylim(0, 100)\n",
    "# ax.set_xlim(0, 90)\n",
    "#ax.grid(axis='y')\n",
    "\n",
    "ax.legend()\n",
    "ax2.legend()"
   ]
  },
  {
   "cell_type": "code",
   "execution_count": null,
   "metadata": {},
   "outputs": [],
   "source": [
    "#ax.legend()\n",
    "if not os.path.isdir(OUTPUT):\n",
    "    os.makedirs(OUTPUT)\n",
    "    print(\"Created directory \" + OUTPUT)\n",
    "plt.savefig(OUTPUT + \"electricity\" + str(export) + \".pdf\", bbox_inches=\"tight\")\n",
    "plt.show()"
   ]
  }
 ],
 "metadata": {
  "kernelspec": {
   "display_name": "Python 3",
   "language": "python",
   "name": "python3"
  },
  "language_info": {
   "codemirror_mode": {
    "name": "ipython",
    "version": 3
   },
   "file_extension": ".py",
   "mimetype": "text/x-python",
   "name": "python",
   "nbconvert_exporter": "python",
   "pygments_lexer": "ipython3",
   "version": "3.10.12"
  },
  "orig_nbformat": 4
 },
 "nbformat": 4,
 "nbformat_minor": 2
}

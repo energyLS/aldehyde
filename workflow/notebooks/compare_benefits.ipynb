{
 "cells": [
  {
   "cell_type": "code",
   "execution_count": null,
   "metadata": {},
   "outputs": [],
   "source": [
    "import pandas as pd\n",
    "import numpy as np\n",
    "import os \n",
    "import matplotlib.pyplot as plt\n",
    "import pypsa"
   ]
  },
  {
   "cell_type": "code",
   "execution_count": null,
   "metadata": {},
   "outputs": [],
   "source": [
    "RUNS = { \"noghc\": \"decr_14_3h_ws\",\n",
    "        \"annual\": \"decr_16_3h_ws\",\n",
    "        \"monthly\": \"decr_15_3h_ws\",\n",
    "        \"hourly\": \"decr_13_3h_ws\",\n",
    "       }\n",
    "\n",
    "PREFIX = \"/mnt/c/Users/scl38887/Documents/git/aldehyde/\"\n",
    "#OUTPUT = PREFIX + \"results/\" + RUN + \"/graphics/comp_benefits/\""
   ]
  },
  {
   "cell_type": "code",
   "execution_count": null,
   "metadata": {},
   "outputs": [],
   "source": [
    "def get_data(stats, h2export, opts):\n",
    "    \"\"\"Filter stats according to h2export value and opts value\n",
    "    \"\"\"\n",
    "    cost = stats[(stats.index == h2export) & (stats.opts == opts)].loc[:,\"cost\"]\n",
    "    mg_AC_exclu_H2 = stats[(stats.index == h2export) & (stats.opts == opts)].loc[:,\"mg_AC_exclu_H2 El_all\"]\n",
    "    mg_H2_False_False_exportonly = stats[(stats.index == h2export) & (stats.opts == opts)].loc[:,\"mg_H2_False_False_exportonly\"]\n",
    "    exp_AC_exclu_H2 = stats[(stats.index == h2export) & (stats.opts == opts)].loc[:,\"exp_AC_exclu_H2 El_all\"]\n",
    "    exp_H2_False_False_exportonly = stats[(stats.index == h2export) & (stats.opts == opts)].loc[:,\"exp_H2_False_False_exportonly\"]\n",
    "\n",
    "    return cost, mg_AC_exclu_H2, mg_H2_False_False_exportonly, exp_AC_exclu_H2, exp_H2_False_False_exportonly"
   ]
  },
  {
   "cell_type": "code",
   "execution_count": null,
   "metadata": {},
   "outputs": [],
   "source": [
    "def prepare_data(ghrules, h2export, opts):\n",
    "    df = pd.DataFrame(index=ghrules, columns=[\"cost\", \"mg_AC_exclu_H2\", \"mg_H2_False_False_exportonly\"])\n",
    "\n",
    "    for rule in ghrules:\n",
    "        INPUT = PREFIX + \"results/\" + RUNS[rule] + \"/integrated_comp/stats.csv\"\n",
    "        stats = pd.read_csv(INPUT, index_col=0)\n",
    "        cost, mg_AC_exclu_H2, mg_H2_False_False_exportonly, exp_AC_exclu_H2, exp_H2_False_False_exportonly = get_data(stats, h2export, opts)    \n",
    "        df.loc[rule, \"cost\"] = cost.values[0]\n",
    "        df.loc[rule, \"mg_AC_exclu_H2\"] = mg_AC_exclu_H2.values[0]\n",
    "        df.loc[rule, \"mg_H2_False_False_exportonly\"] = mg_H2_False_False_exportonly.values[0]    \n",
    "        df.loc[rule, \"exp_AC_exclu_H2\"] = exp_AC_exclu_H2.values[0]\n",
    "        df.loc[rule, \"exp_H2_False_False_exportonly\"] = exp_H2_False_False_exportonly.values[0]\n",
    "\n",
    "    # Add relative values in % based on noghc row\n",
    "    df[\"cost_rel\"] = df[\"cost\"] / df.loc[\"noghc\", \"cost\"] * 100\n",
    "    df[\"mg_AC_exclu_H2_rel\"] = df[\"mg_AC_exclu_H2\"] / df.loc[\"noghc\", \"mg_AC_exclu_H2\"] * 100\n",
    "    df[\"mg_H2_False_False_exportonly_rel\"] = df[\"mg_H2_False_False_exportonly\"] / df.loc[\"noghc\", \"mg_H2_False_False_exportonly\"] * 100\n",
    "    return df  "
   ]
  },
  {
   "cell_type": "markdown",
   "metadata": {},
   "source": [
    "### Relative, subplot"
   ]
  },
  {
   "cell_type": "code",
   "execution_count": null,
   "metadata": {},
   "outputs": [],
   "source": [
    "h2exports = [200, 1]\n",
    "opts = [\"Co2L2.0\", \"Co2L0.00\"]\n",
    "ghrules = [\"noghc\",\"annual\", \"monthly\", \"hourly\"]"
   ]
  },
  {
   "cell_type": "code",
   "execution_count": null,
   "metadata": {},
   "outputs": [],
   "source": [
    "fig, axs = plt.subplots(nrows=2, ncols=2, figsize=(10, 6), sharex=True, sharey=True)\n",
    "\n",
    "n=1\n",
    "for h2export in h2exports:\n",
    "    for o in opts:\n",
    "        ax = plt.subplot(2, 2, n)\n",
    "        n += 1\n",
    "\n",
    "        df = prepare_data(ghrules, h2export, o)\n",
    "\n",
    "        ax.plot(df.index, df[\"cost_rel\"], label=\"Total costs\", color=\"black\")\n",
    "        ax.plot(df.index, df[\"mg_H2_False_False_exportonly_rel\"], label=\"H2 costs paid by exporters\", color=\"orange\")\n",
    "        ax.plot(df.index, df[\"mg_AC_exclu_H2_rel\"], label=\"Local electricity price\", color=\"green\")\n",
    "\n",
    "        ax.set_title(f\"{h2export} TWh export, {o} CO2\")\n",
    "        ax.grid(axis='y')\n",
    "        ax.set_ylim(0, 135)\n",
    "\n",
    "handles, labels = ax.get_legend_handles_labels()\n",
    "fig.legend(handles, labels, loc = (0.4,-0.01))\n",
    "fig.text(0.04, 0.5, 'Change in %', va='center', rotation='vertical')\n",
    "\n",
    "plt.show()"
   ]
  },
  {
   "cell_type": "markdown",
   "metadata": {},
   "source": [
    "### Relative, multiple in one"
   ]
  },
  {
   "cell_type": "code",
   "execution_count": null,
   "metadata": {},
   "outputs": [],
   "source": [
    "h2exports = [1, 20, 40, 60, 80, 100, 120, 140, 160, 180, 200]\n",
    "#opts = [\"Co2L0.50\"]\n",
    "opts = [\"Co2L0.40\"] #[\"Co2L2.0\", \"Co2L0.90\", \"Co2L0.80\", \"Co2L0.70\", \"Co2L0.60\", \"Co2L0.50\", \"Co2L0.40\", \"Co2L0.30\", \"Co2L0.20\", \"Co2L0.10\", \"Co2L0.00\"]\n",
    "ghrules = [\"noghc\",\"annual\", \"monthly\", \"hourly\"]"
   ]
  },
  {
   "cell_type": "code",
   "execution_count": null,
   "metadata": {},
   "outputs": [],
   "source": [
    "fig, ax = plt.subplots(figsize=(6, 4))\n",
    "\n",
    "n=1\n",
    "for h2export in h2exports:\n",
    "    for o in opts:\n",
    "        \n",
    "        n += 1\n",
    "\n",
    "        df = prepare_data(ghrules, h2export, o)\n",
    "\n",
    "        ax.plot(df.index, df[\"mg_H2_False_False_exportonly_rel\"], label=\"H2 costs paid by exporters\", color=\"orange\", linewidth=1,  alpha=1-(h2export/200)*0.7)\n",
    "        ax.plot(df.index, df[\"mg_AC_exclu_H2_rel\"], label=\"Local electricity price\", color=\"green\", linewidth=1, alpha=1-(h2export/200)*0.7)\n",
    "        ax.plot(df.index, df[\"cost_rel\"], label=\"Total costs\", color=\"black\", linewidth=1, alpha=1)\n",
    "\n",
    "ax.set_title(f\"{min(h2exports)} - {max(h2exports)} TWh export, {opts[:1]} - {opts[-1:]} CO2\")\n",
    "ax.grid(axis='y')\n",
    "ax.set_ylim(0, 135)\n",
    "\n",
    "handles, labels = ax.get_legend_handles_labels()\n",
    "#fig.legend(handles, labels, loc = (0.4,-0.01))\n",
    "ax.set_ylabel(\"Change in % compared to no H2 rule\")\n",
    "\n",
    "plt.show()"
   ]
  },
  {
   "cell_type": "markdown",
   "metadata": {},
   "source": [
    "### Relative, single"
   ]
  },
  {
   "cell_type": "code",
   "execution_count": null,
   "metadata": {},
   "outputs": [],
   "source": [
    "df = prepare_data(ghrules, 200, \"Co2L2.0\")\n",
    "fig, ax = plt.subplots(figsize=(6, 4))\n",
    "\n",
    "ax.plot(df.index, df[\"cost_rel\"], label=\"Total costs\", color=\"black\")\n",
    "ax.plot(df.index, df[\"mg_H2_False_False_exportonly_rel\"], label=\"H2 costs paid by exporters\", color=\"orange\")\n",
    "ax.plot(df.index, df[\"mg_AC_exclu_H2_rel\"], label=\"Local electricity price\", color=\"green\")\n",
    "\n",
    "ax.set_xlabel(\"H2 rule\")\n",
    "ax.set_ylabel(\"Change in % compared to no H2 rule\")\n",
    "ax.set_title(f\"200 TWh export, 0% CO2 reduction\")\n",
    "ax.set_ylim(0, 135)\n",
    "ax.grid(axis='y')\n",
    "\n",
    "ax.legend(loc=\"lower left\")"
   ]
  },
  {
   "cell_type": "markdown",
   "metadata": {},
   "source": [
    "### Absolute prices"
   ]
  },
  {
   "cell_type": "code",
   "execution_count": null,
   "metadata": {},
   "outputs": [],
   "source": [
    "df = prepare_data(ghrules, 200, \"Co2L2.0\")\n",
    "fig, ax = plt.subplots(figsize=(6, 4))\n",
    "\n",
    "#ax.plot(df.index, df[\"cost\"]/1e9, label=\"Total cost\")\n",
    "ax.plot(df.index, df[\"mg_AC_exclu_H2\"], label=\"Local electricity price\", color=\"green\")\n",
    "ax.plot(df.index, df[\"mg_H2_False_False_exportonly\"], label=\"H2 costs paid by exporters\", color=\"orange\")\n",
    "\n",
    "\n",
    "# Add secondary axis for total cost\n",
    "ax2 = ax.twinx()\n",
    "ax2.plot(df.index, df[\"cost\"]/1e9, label=\"Total cost\", color=\"black\")\n",
    "ax2.set_ylabel(\"Total cost in B€\")\n",
    "ax2.set_ylim(5, 30)\n",
    "\n",
    "ax.set_xlabel(\"H2 rule\")\n",
    "ax.set_ylabel(\"Marginal price of electricity/h2 in €/MWh\")\n",
    "ax.set_ylim(0, 100)\n",
    "\n",
    "ax.legend(loc=\"lower left\")\n",
    "ax2.legend(loc=\"lower right\")\n",
    "\n",
    "ax.grid(axis='y')"
   ]
  },
  {
   "cell_type": "markdown",
   "metadata": {},
   "source": [
    "### Absolute expenses"
   ]
  },
  {
   "cell_type": "code",
   "execution_count": null,
   "metadata": {},
   "outputs": [],
   "source": [
    "h2export = 200\n",
    "opts = \"Co2L2.0\""
   ]
  },
  {
   "cell_type": "code",
   "execution_count": null,
   "metadata": {},
   "outputs": [],
   "source": [
    "df = prepare_data(ghrules, h2export, opts)\n",
    "fig, ax = plt.subplots(figsize=(6, 4))\n",
    "\n",
    "width = 0.4\n",
    "ax.bar(df.index, df[\"exp_H2_False_False_exportonly\"]/1e3, width=width, label=\"H2 expenses (exporter)\", color=\"orange\", alpha=0.7)\n",
    "ax.bar(df.index, df[\"exp_AC_exclu_H2\"]/1e3, bottom=df[\"exp_H2_False_False_exportonly\"]/1e3, width=width, label=\"Electricity expenses (local)\", color=\"green\", alpha=0.7)\n",
    "ax.plot(df.index, df[\"cost\"]/1e9, label=\"Total cost\", color=\"black\")\n",
    "\n",
    "ax.set_ylabel(\"Expense in B€\")\n",
    "#ax.set_ylim(0, 27)\n",
    "\n",
    "ax.set_xlabel(\"H2 rule\")\n",
    "ax.set_title(f\"{h2export} TWh export, {opts} CO2\")\n",
    "\n",
    "ax.legend(loc='upper left', bbox_to_anchor=(1, 1))\n",
    "\n",
    "ax.grid(axis='y', alpha=0.5)   "
   ]
  },
  {
   "cell_type": "markdown",
   "metadata": {},
   "source": [
    "### All average nodal prices"
   ]
  },
  {
   "cell_type": "code",
   "execution_count": null,
   "metadata": {},
   "outputs": [],
   "source": [
    "def get_mean_prices(stats, h2export, opts):\n",
    "    \"\"\"Filter stats according to h2export value and opts value\n",
    "    \"\"\"\n",
    "    stats = stats[(stats.index == h2export) & (stats.opts == opts)]\n",
    "    stats = stats.iloc[:, stats.columns.str.startswith(\"mean_mg\")]\n",
    "\n",
    "    return stats"
   ]
  },
  {
   "cell_type": "code",
   "execution_count": null,
   "metadata": {},
   "outputs": [],
   "source": [
    "def prepare_mean_prices(ghrules, h2export, opts):\n",
    "    df = pd.DataFrame() #index=ghrules)\n",
    "\n",
    "    for rule in ghrules:\n",
    "        INPUT = PREFIX + \"results/\" + RUNS[rule] + \"/integrated_comp/stats.csv\"\n",
    "        stats = pd.read_csv(INPUT, index_col=0)\n",
    "        prices = get_mean_prices(stats, h2export, opts)    \n",
    "        prices.index = [rule]\n",
    "        df = pd.concat([df, prices])\n",
    "\n",
    "    return df  "
   ]
  },
  {
   "cell_type": "code",
   "execution_count": null,
   "metadata": {},
   "outputs": [],
   "source": [
    "h2export = 200\n",
    "opts = \"Co2L2.0\"\n",
    "increase = 0.04 # Percentage of increase above which it is considered as increase. Set \"False\" to allow all marginal prices"
   ]
  },
  {
   "cell_type": "code",
   "execution_count": null,
   "metadata": {},
   "outputs": [],
   "source": [
    "df = prepare_mean_prices(ghrules, h2export, opts)\n",
    "\n",
    "if increase != False:\n",
    "    # Filter df for columns which have higher values in any row (apart from \"noghc\") than in \"noghc\"\n",
    "    df = df.loc[:, (df.loc[[\"hourly\", \"monthly\", \"annual\"]] > (df.loc[\"noghc\"]*(1+increase/100))).any()]\n",
    "\n",
    "fig, ax = plt.subplots(figsize=(6, 4))\n",
    "\n",
    "ax.plot(df.index, df, label=df.columns.str.replace(\"mean_mg_\", ''))\n",
    "\n",
    "ax.set_xlabel(\"H2 rule\")\n",
    "ax.set_ylabel(\"Average marginal price (non-weighted)\")\n",
    "ax.set_title(f\"{h2export} TWh export, {opts} CO2\")\n",
    "\n",
    "ax.legend(loc='upper left', bbox_to_anchor=(1, 1))\n",
    "\n",
    "ax.grid(axis='y')"
   ]
  },
  {
   "cell_type": "code",
   "execution_count": null,
   "metadata": {},
   "outputs": [],
   "source": [
    "df"
   ]
  },
  {
   "cell_type": "code",
   "execution_count": null,
   "metadata": {},
   "outputs": [],
   "source": [
    "EXPORT = 200\n",
    "CO2L = 2.0\n",
    "CLUSTERS = 4\n",
    "H = 3\n",
    "LL = \"3.0\"\n",
    "DISCOUNT_RATE = 0.13\n",
    "\n",
    "RUN = \"decr_14_3h_ws\"\n",
    "CATEGORY = \"postnetworks\"\n",
    "SCENARIO = f\"elec_s_{CLUSTERS}_ec_lc{LL}_Co2L{CO2L}_{H}H_2030_{DISCOUNT_RATE}_DF_{EXPORT}export\"\n",
    "\n",
    "#OVERRIDES = PATH + \"pypsa-eur-sec/data/override_component_attrs\"\n",
    "\n",
    "PREFIX = \"/mnt/c/Users/scl38887/Documents/git/aldehyde/\"\n",
    "OUTPUT = PREFIX + \"results\"\n",
    "INPUT = PREFIX + f\"workflow/subworkflows/pypsa-earth-sec/results/{RUN}/{CATEGORY}/{SCENARIO}.nc\"\n",
    "OUTPUT_SCENARIO = f\"{OUTPUT}/{RUN}/graphics/demand/{SCENARIO}\"\n",
    "OUTPUT_RAW = f\"{OUTPUT}/{RUN}/graphics/demand/\""
   ]
  },
  {
   "cell_type": "code",
   "execution_count": null,
   "metadata": {},
   "outputs": [],
   "source": [
    "n = pypsa.Network(INPUT)"
   ]
  },
  {
   "cell_type": "markdown",
   "metadata": {},
   "source": [
    "### System cost by expense"
   ]
  },
  {
   "cell_type": "code",
   "execution_count": null,
   "metadata": {},
   "outputs": [],
   "source": [
    "# TODO simplify this. df.loc[\"noghc\"] is the same as -(n.statistics.revenue(comps=[\"Load\"]) /1e9).droplevel(0)"
   ]
  },
  {
   "cell_type": "code",
   "execution_count": null,
   "metadata": {},
   "outputs": [],
   "source": [
    "n.objective / 1e9"
   ]
  },
  {
   "cell_type": "code",
   "execution_count": null,
   "metadata": {},
   "outputs": [],
   "source": [
    "def get_expense_carrier(n, excl_em=True):\n",
    "\n",
    "    # Multiply demands and prices\n",
    "    loads = n.loads_t.p[n.loads.index]\n",
    "    loads.columns = n.loads.bus # Rename columns to bus names to comply with columns of \"prices\"\n",
    "    prices = n.buses_t.marginal_price[n.loads.bus]\n",
    "    expenses = loads * prices * n.snapshot_weightings.generators[0]\n",
    "\n",
    "    nodal_expense = expenses.sum() #.groupby(n.loads.bus).sum() / 1e9\n",
    "    nodal_expense.name = \"expense\"\n",
    "\n",
    "    # concat loads_carrier and nodal_expense based on index\n",
    "    loads_carrier = n.loads.carrier\n",
    "    loads_carrier.index = n.loads.bus \n",
    "    nodal_expense_m = pd.concat([nodal_expense, loads_carrier], axis=1)\n",
    "\n",
    "    expense_c = nodal_expense_m.groupby(\"carrier\").sum() / 1e9\n",
    "\n",
    "    if excl_em == True:\n",
    "        expense_c = expense_c[~expense_c.index.str.contains(\"emission\")]\n",
    "    else:\n",
    "        pass\n",
    "\n",
    "    return expense_c"
   ]
  },
  {
   "cell_type": "code",
   "execution_count": null,
   "metadata": {},
   "outputs": [],
   "source": [
    "def get_expense_carriers(ghrules, h2export, opts, excl_em):\n",
    "    \"\"\"Get expense per carrier\n",
    "    \"\"\"\n",
    "\n",
    "    df = pd.DataFrame()\n",
    "\n",
    "    for rule in ghrules:\n",
    "        INPUT = PREFIX + f\"workflow/subworkflows/pypsa-earth-sec/results/{RUNS[rule]}/{CATEGORY}/{SCENARIO}.nc\"\n",
    "\n",
    "        n = pypsa.Network(INPUT)\n",
    "\n",
    "        expense_c = get_expense_carrier(n, excl_em=excl_em)\n",
    "        expense_c = expense_c.T\n",
    "        expense_c.index = [rule]\n",
    "        expense_c.columns.name = None\n",
    "\n",
    "        df = pd.concat([df, expense_c])\n",
    "\n",
    "        \n",
    "    return df"
   ]
  },
  {
   "cell_type": "code",
   "execution_count": null,
   "metadata": {},
   "outputs": [],
   "source": [
    "def prep_expense_carriers(df):\n",
    "   # Combine the columns containing \"AC\" or \"electricity\" to one col and delete the others\n",
    "   combine_cols = df.columns[df.columns.str.contains(\"electricity\")]\n",
    "   ev = \"land transport EV\"\n",
    "\n",
    "   if ev in df.columns:\n",
    "      df[\"Local electricity\"] =  df[combine_cols].sum(axis=1) + df[\"AC\"] + df[\"land transport EV\"]\n",
    "      df = df.drop(columns=[\"AC\", \"land transport EV\"])\n",
    "   else:\n",
    "      df[\"Local electricity\"] =  df[combine_cols].sum(axis=1) + df[\"AC\"]\n",
    "      df = df.drop(columns=[\"AC\"])\n",
    "   \n",
    "   df = df.drop(columns=combine_cols)\n",
    "\n",
    "   move = [\"H2\", \"Local electricity\"]\n",
    "   keep = df.columns[~df.columns.isin(move)]\n",
    "   df = df[move + list(keep)]\n",
    "\n",
    "   return df"
   ]
  },
  {
   "cell_type": "code",
   "execution_count": null,
   "metadata": {},
   "outputs": [],
   "source": [
    "df = get_expense_carriers(ghrules, h2export, opts, excl_em=True)"
   ]
  },
  {
   "cell_type": "code",
   "execution_count": null,
   "metadata": {},
   "outputs": [],
   "source": [
    "df.loc[\"noghc\"] # same as -(n.statistics.revenue(comps=[\"Load\"]) /1e9).droplevel(0)"
   ]
  },
  {
   "cell_type": "code",
   "execution_count": null,
   "metadata": {},
   "outputs": [],
   "source": [
    "df_plot = prep_expense_carriers(df)"
   ]
  },
  {
   "cell_type": "code",
   "execution_count": null,
   "metadata": {},
   "outputs": [],
   "source": [
    "df.sum(axis=1)"
   ]
  },
  {
   "cell_type": "code",
   "execution_count": null,
   "metadata": {},
   "outputs": [],
   "source": [
    "fig, ax = plt.subplots(figsize=(6, 4))\n",
    "\n",
    "df = prepare_data(ghrules, 200, \"Co2L2.0\")\n",
    "plt.plot(df.index, df[\"cost\"]/1e9, label=\"Total cost\", color=\"black\")\n",
    "\n",
    "df_plot.plot.bar(ax=ax, stacked=True, alpha=0.7)\n",
    "plt.xlabel(\"H2 rule\")\n",
    "plt.ylabel(\"Expense in B€\")\n",
    "plt.title(f\"{h2export} TWh export, {CO2L} CO2\")\n",
    "plt.legend(loc='upper left', bbox_to_anchor=(1, 1))\n",
    "plt.grid(axis='y', alpha=0.5) "
   ]
  },
  {
   "cell_type": "markdown",
   "metadata": {},
   "source": [
    "### System costs by technology"
   ]
  },
  {
   "cell_type": "code",
   "execution_count": null,
   "metadata": {},
   "outputs": [],
   "source": [
    "# Theory: total system cost = n.objective\n",
    "(n.statistics.capex().sum() - n.statistics.installed_capex().sum()) - (n.statistics.capex() - n.statistics.installed_capex()).sum()"
   ]
  },
  {
   "cell_type": "code",
   "execution_count": null,
   "metadata": {},
   "outputs": [],
   "source": [
    "def get_costs(threshold, ghrules, h2export, opts):\n",
    "    \"\"\"Get costs\n",
    "    \"\"\"\n",
    "\n",
    "    costs = pd.DataFrame()\n",
    "\n",
    "    for rule in ghrules:\n",
    "        INPUT = PREFIX + f\"workflow/subworkflows/pypsa-earth-sec/results/{RUNS[rule]}/{CATEGORY}/{SCENARIO}.nc\"\n",
    "\n",
    "        n = pypsa.Network(INPUT)\n",
    "\n",
    "        capex = n.statistics.capex() - n.statistics.installed_capex()\n",
    "        threshold_sum_capex = capex[capex < threshold].sum() / 1e9\n",
    "        capex = capex[capex > threshold] / 1e9 # in B€\n",
    "        capex = pd.DataFrame(capex.droplevel(0)).T\n",
    "        capex = capex.add_suffix(\" (CAPEX)\")\n",
    "        capex[f\"(CAPEX < {threshold/1e6} M€ thres.)\"] = threshold_sum_capex\n",
    "\n",
    "        opex = n.statistics.opex()\n",
    "        threshold_sum_opex = opex[opex < threshold].sum() / 1e9\n",
    "        opex = opex[opex > threshold] / 1e9\n",
    "        opex = pd.DataFrame(opex.droplevel(0)).T\n",
    "        opex = opex.add_suffix(\" (OPEX)\")\n",
    "        opex[f\"(OPEX < {threshold/1e6} M€ thres.)\"] = threshold_sum_opex\n",
    "        opex =opex.groupby(opex.columns, axis=1).sum()\n",
    "\n",
    "        caop = pd.concat([capex, opex], axis=1)\n",
    "\n",
    "        caop.index = [rule]\n",
    "\n",
    "        costs = pd.concat([costs, caop], axis=0) #, ignore_index=True)\n",
    "\n",
    "    \n",
    "    return costs"
   ]
  },
  {
   "cell_type": "code",
   "execution_count": null,
   "metadata": {},
   "outputs": [],
   "source": [
    "threshold = 10e6 # 10 M€"
   ]
  },
  {
   "cell_type": "code",
   "execution_count": null,
   "metadata": {},
   "outputs": [],
   "source": [
    "costs = get_costs(threshold, ghrules, h2export, opts)"
   ]
  },
  {
   "cell_type": "code",
   "execution_count": null,
   "metadata": {},
   "outputs": [],
   "source": [
    "df = prepare_data(ghrules, 200, \"Co2L2.0\")\n",
    "\n",
    "fig, ax = plt.subplots(figsize=(6, 4))\n",
    "\n",
    "costs.plot.bar(ax=ax, stacked=True, alpha=0.7)\n",
    "plt.plot(df.index, df[\"cost\"]/1e9, label=\"Total cost\", color=\"black\")\n",
    "\n",
    "plt.xlabel(\"H2 rule\")\n",
    "plt.ylabel(\"Costs in B€\")\n",
    "plt.title(f\"{h2export} TWh export, {CO2L} CO2\")\n",
    "plt.legend(loc='upper left', bbox_to_anchor=(1, 1))\n",
    "plt.grid(axis='y', alpha=0.5) "
   ]
  },
  {
   "cell_type": "code",
   "execution_count": null,
   "metadata": {},
   "outputs": [],
   "source": [
    "fig, ax = plt.subplots(figsize=(6, 4))\n",
    "\n",
    "# Divide all values by first row\n",
    "costs_rel = costs / costs.iloc[0] *100\n",
    "\n",
    "costs_rel.plot.line(ax=ax, alpha=0.7)\n",
    "#plt.plot(df.index, df[\"cost\"]/1e9, label=\"Total cost\", color=\"black\")\n",
    "\n",
    "plt.xlabel(\"H2 rule\")\n",
    "plt.ylabel(\"Relative change in %\")\n",
    "plt.title(f\"{h2export} TWh export, {CO2L} CO2\")\n",
    "plt.legend(loc='upper left', bbox_to_anchor=(1, 1))\n",
    "plt.grid(axis='y', alpha=0.5) "
   ]
  },
  {
   "cell_type": "markdown",
   "metadata": {},
   "source": [
    "### n.statistics() tests"
   ]
  },
  {
   "cell_type": "markdown",
   "metadata": {},
   "source": [
    "CAPEX and OPEX: works"
   ]
  },
  {
   "cell_type": "code",
   "execution_count": null,
   "metadata": {},
   "outputs": [],
   "source": [
    "n.objective / 1e9 - (n.statistics.capex().sum() + n.statistics.opex().sum() - n.statistics.installed_capex().sum() )/ 1e9"
   ]
  },
  {
   "cell_type": "code",
   "execution_count": null,
   "metadata": {},
   "outputs": [],
   "source": [
    "n.statistics.opex().sort_values() / 1e9"
   ]
  },
  {
   "cell_type": "markdown",
   "metadata": {},
   "source": [
    "Revenue"
   ]
  },
  {
   "cell_type": "code",
   "execution_count": null,
   "metadata": {},
   "outputs": [],
   "source": [
    "# Expenses\n",
    "n.statistics.revenue()[n.statistics.revenue() <0].sum() / 1e9"
   ]
  },
  {
   "cell_type": "code",
   "execution_count": null,
   "metadata": {},
   "outputs": [],
   "source": [
    "# Incomes\n",
    "n.statistics.revenue()[n.statistics.revenue() >0].sum() / 1e9"
   ]
  },
  {
   "cell_type": "code",
   "execution_count": null,
   "metadata": {},
   "outputs": [],
   "source": [
    "n.statistics.revenue()[n.statistics.revenue() >0].sort_values() / 1e9"
   ]
  },
  {
   "cell_type": "code",
   "execution_count": null,
   "metadata": {},
   "outputs": [],
   "source": [
    "# n.statistics.revenue(comps=[\"Load\"]).droplevel(0).div(1e9).plot.bar(\n",
    "#     title=\"Revenue from load\",\n",
    "# )"
   ]
  },
  {
   "cell_type": "code",
   "execution_count": null,
   "metadata": {},
   "outputs": [],
   "source": [
    "n.statistics.revenue(comps=[\"Load\"]).sort_values() / 1e9"
   ]
  },
  {
   "cell_type": "code",
   "execution_count": null,
   "metadata": {},
   "outputs": [],
   "source": [
    "n.statistics.revenue(comps=[\"Load\"])[n.statistics.revenue(comps=[\"Load\"]).droplevel(0).index.str.contains(\"oil\")].sort_values().sum() / 1e9"
   ]
  },
  {
   "cell_type": "code",
   "execution_count": null,
   "metadata": {},
   "outputs": [],
   "source": [
    "n.statistics.revenue(comps=[\"Store\"]).sort_values()  / 1e9"
   ]
  },
  {
   "cell_type": "code",
   "execution_count": null,
   "metadata": {},
   "outputs": [],
   "source": [
    "n.statistics.revenue(comps=[\"Store\"])[n.statistics.revenue(comps=[\"Store\"]) <0].sum() / 1e9"
   ]
  },
  {
   "cell_type": "code",
   "execution_count": null,
   "metadata": {},
   "outputs": [],
   "source": [
    "n.statistics.revenue(comps=[\"Store\"])[n.statistics.revenue(comps=[\"Store\"]) >0].sum() / 1e9"
   ]
  },
  {
   "cell_type": "markdown",
   "metadata": {},
   "source": [
    "Misc"
   ]
  }
 ],
 "metadata": {
  "kernelspec": {
   "display_name": "Python 3",
   "language": "python",
   "name": "python3"
  },
  "language_info": {
   "codemirror_mode": {
    "name": "ipython",
    "version": 3
   },
   "file_extension": ".py",
   "mimetype": "text/x-python",
   "name": "python",
   "nbconvert_exporter": "python",
   "pygments_lexer": "ipython3",
   "version": "3.10.12"
  },
  "orig_nbformat": 4
 },
 "nbformat": 4,
 "nbformat_minor": 2
}

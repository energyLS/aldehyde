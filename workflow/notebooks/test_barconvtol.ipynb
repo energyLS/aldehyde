{
 "cells": [
  {
   "cell_type": "code",
   "execution_count": null,
   "metadata": {},
   "outputs": [],
   "source": [
    "import pandas as pd\n",
    "import numpy as np\n",
    "import matplotlib.pyplot as plt\n",
    "import pypsa\n",
    "import seaborn as sns"
   ]
  },
  {
   "cell_type": "code",
   "execution_count": null,
   "metadata": {},
   "outputs": [],
   "source": [
    "EXPORT = 1\n",
    "CO2L = 0.70\n",
    "CLUSTERS = 4\n",
    "H = 25\n",
    "LL = \"3.0\"\n",
    "DISCOUNT_RATE = 0.13\n",
    "\n",
    "RUN = \"test_paral_highbar_25H_ws\" #test_paral_lowbar_25H_ws\n",
    "CATEGORY = \"postnetworks\"\n",
    "SCENARIO = f\"elec_s_{CLUSTERS}_ec_lc{LL}_Co2L{CO2L}0_{H}H_2030_{DISCOUNT_RATE}_DF_{EXPORT}export\"\n",
    "\n",
    "#OVERRIDES = PATH + \"pypsa-eur-sec/data/override_component_attrs\"\n",
    "\n",
    "PREFIX = \"/mnt/c/Users/scl38887/Documents/git/aldehyde/\"\n",
    "OUTPUT = PREFIX + \"results\"\n",
    "INPUT = PREFIX + f\"workflow/subworkflows/pypsa-earth-sec/results/{RUN}/{CATEGORY}/{SCENARIO}.nc\"\n",
    "OUTPUT_SCENARIO = f\"{OUTPUT}/{RUN}/graphics/demand/{SCENARIO}\"\n",
    "OUTPUT_RAW = f\"{OUTPUT}/{RUN}/graphics/demand/\""
   ]
  },
  {
   "cell_type": "code",
   "execution_count": null,
   "metadata": {},
   "outputs": [],
   "source": [
    "n = pypsa.Network(INPUT)"
   ]
  },
  {
   "cell_type": "markdown",
   "metadata": {},
   "source": [
    "### Capacities"
   ]
  },
  {
   "cell_type": "code",
   "execution_count": null,
   "metadata": {},
   "outputs": [],
   "source": [
    "# higher tolerance\n",
    "n.generators.groupby(\"carrier\").sum().p_nom_opt"
   ]
  },
  {
   "cell_type": "code",
   "execution_count": null,
   "metadata": {},
   "outputs": [],
   "source": [
    "# Lower tolerance (lowbar)\n",
    "n.generators.groupby(\"carrier\").sum().p_nom_opt"
   ]
  },
  {
   "cell_type": "markdown",
   "metadata": {},
   "source": [
    "### Prices"
   ]
  },
  {
   "cell_type": "code",
   "execution_count": null,
   "metadata": {},
   "outputs": [],
   "source": [
    "# Higher tolerance\n",
    "n.buses_t.marginal_price.loc[:, n.buses[n.buses.carrier==\"AC\"].index].mean()"
   ]
  },
  {
   "cell_type": "code",
   "execution_count": null,
   "metadata": {},
   "outputs": [],
   "source": [
    "# Lower tolerance (lowbar)\n",
    "n.buses_t.marginal_price.loc[:, n.buses[n.buses.carrier==\"AC\"].index].mean()"
   ]
  },
  {
   "cell_type": "markdown",
   "metadata": {},
   "source": [
    "BarConvTol = 1e-5: (lowbar)\n",
    "\n",
    "Barrier solved model in 61 iterations and 48.57 seconds (38.41 work units)\n",
    "Optimal objective 7.39826040e+09\n",
    "\n",
    "BarConvTol = 1e-6: (higbar)\n",
    "\n",
    "Barrier solved model in 61 iterations and 44.12 seconds (36.20 work units)\n",
    "Optimal objective 7.39842372e+09\n",
    "\n"
   ]
  }
 ],
 "metadata": {
  "kernelspec": {
   "display_name": "Python 3",
   "language": "python",
   "name": "python3"
  },
  "language_info": {
   "codemirror_mode": {
    "name": "ipython",
    "version": 3
   },
   "file_extension": ".py",
   "mimetype": "text/x-python",
   "name": "python",
   "nbconvert_exporter": "python",
   "pygments_lexer": "ipython3",
   "version": "3.10.11"
  }
 },
 "nbformat": 4,
 "nbformat_minor": 2
}

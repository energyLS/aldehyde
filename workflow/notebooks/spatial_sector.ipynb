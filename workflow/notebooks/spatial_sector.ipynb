{
 "cells": [
  {
   "cell_type": "code",
   "execution_count": null,
   "metadata": {},
   "outputs": [],
   "source": [
    "import pypsa\n",
    "import yaml\n",
    "import pandas as pd\n",
    "import numpy as np\n",
    "import geopandas as gpd\n",
    "import xarray as xr\n",
    "import cartopy.crs as ccrs\n",
    "import cartopy\n",
    "\n",
    "import matplotlib.pyplot as plt\n",
    "from matplotlib.lines import Line2D\n",
    "import matplotlib.colors as mcolors\n",
    "from matplotlib.patches import Circle, Patch\n",
    "from matplotlib.legend_handler import HandlerPatch\n",
    "\n",
    "from pypsa.descriptors import get_switchable_as_dense as as_dense\n",
    "\n",
    "from shapely import wkt\n",
    "import sys, os\n",
    "\n",
    "PATH = \"../../../../\"\n",
    "SCRIPTS_PATH = \"pypsa-eur-sec/scripts/\"\n",
    "\n",
    "sys.path.append(os.path.join(PATH, SCRIPTS_PATH))\n",
    "# from plot_network import make_legend_circles_for, assign_location\n",
    "# from helper import override_component_attrs\n",
    "# from build_gas_input_locations import build_gas_input_locations, load_bus_regions\n",
    "\n",
    "#plt.style.use([\"bmh\", \"matplotlibrc\"])\n",
    "xr.set_options(display_style=\"html\")\n",
    "\n",
    "%matplotlib inline"
   ]
  },
  {
   "cell_type": "code",
   "execution_count": null,
   "metadata": {},
   "outputs": [],
   "source": [
    "OUTPUT='/mnt/c/Users/scl38887/Documents/git/aldehyde/results/graphics/'\n",
    "\n",
    "#fn = f\"{PATH}resources/bus_regions/regions_onshore_elec_s_4.geojson\"\n",
    "fn = '/mnt/c/Users/scl38887/Documents/git/pypsa-earth/resources/bus_regions/regions_onshore_elec_s_4.geojson'\n",
    "nodes = gpd.read_file(fn).set_index(\"name\")\n",
    "\n",
    "# Import the network representing MAR ES only\n",
    "n = pypsa.Network('../../resources/mar_es_only/elec_s_4_ec_lc1.0_Co2L_144H_2030_0.071_DF_nosmr.nc')\n",
    "print(\"The network representing MAR ES only 'n1' has been imported\")"
   ]
  },
  {
   "attachments": {},
   "cell_type": "markdown",
   "metadata": {},
   "source": [
    "### Data preparation"
   ]
  },
  {
   "cell_type": "code",
   "execution_count": null,
   "metadata": {},
   "outputs": [],
   "source": [
    "# Insert hack to copy index of all rows of n.buses with carrier \"AC\" to the column \"location\" and avoid length mismatch. They were missing\n",
    "n.buses.loc[n.buses.carrier == \"AC\", \"location\"] = n.buses.index[n.buses.carrier == \"AC\"]"
   ]
  },
  {
   "attachments": {},
   "cell_type": "markdown",
   "metadata": {},
   "source": [
    "### Capacity Factors Renewables"
   ]
  },
  {
   "cell_type": "code",
   "execution_count": null,
   "metadata": {},
   "outputs": [],
   "source": [
    "df = (\n",
    "    n.generators_t.p_max_pu.mean()\n",
    "    .groupby([n.generators.carrier, n.generators.bus.map(n.buses.location)])\n",
    "    .first()\n",
    "    .unstack(0)\n",
    "    .mul(100)\n",
    ")"
   ]
  },
  {
   "cell_type": "code",
   "execution_count": null,
   "metadata": {},
   "outputs": [],
   "source": [
    "techs = [\n",
    "    #\"offwind-ac\",\n",
    "    #\"offwind-dc\",\n",
    "    \"onwind\",\n",
    "    \"solar\",\n",
    "    #\"solar thermal\",\n",
    "    #\"ror\",\n",
    "    #\"air-sourced heat pump\",\n",
    "    #\"ground-sourced heat pump\",\n",
    "    \"residential rural solar thermal\",\n",
    "]\n",
    "df = df[techs]"
   ]
  },
  {
   "cell_type": "code",
   "execution_count": null,
   "metadata": {},
   "outputs": [],
   "source": [
    "def plot_capacity_factors(\n",
    "    df,\n",
    "    geodf,\n",
    "    carrier,\n",
    "    cmap=\"Blues\",\n",
    "    vmax=100,\n",
    "    vmin=0,\n",
    "    label=\"capacity factors [%]\",\n",
    "    fn=None,\n",
    "):\n",
    "\n",
    "    proj = ccrs.EqualEarth()\n",
    "    geodf = geodf.to_crs(proj.proj4_init)\n",
    "\n",
    "    fig, ax = plt.subplots(figsize=(7, 7), subplot_kw={\"projection\": proj})\n",
    "\n",
    "    geodf.plot(\n",
    "        ax=ax,\n",
    "        column=df[carrier].reindex(geodf.index),\n",
    "        cmap=cmap,\n",
    "        linewidths=0,\n",
    "        legend=True,\n",
    "        vmax=vmax,\n",
    "        vmin=vmin,\n",
    "        legend_kwds={\n",
    "            \"label\": label,\n",
    "            \"shrink\": 0.7,\n",
    "            # \"extend\": \"max\",\n",
    "        },\n",
    "    )\n",
    "\n",
    "    ax.add_feature(cartopy.feature.COASTLINE.with_scale(\"50m\"), linewidth=0.2, zorder=2)\n",
    "    ax.add_feature(cartopy.feature.BORDERS.with_scale(\"50m\"), linewidth=0.2, zorder=2)\n",
    "\n",
    "    #plt.gca().outline_patch.set_visible(False)\n",
    "    ax.set_facecolor(\"white\")\n",
    "\n",
    "    if fn is None:\n",
    "        plt.savefig(f\"{OUTPUT}/cf-{carrier}.pdf\", bbox_inches=\"tight\")"
   ]
  },
  {
   "cell_type": "code",
   "execution_count": null,
   "metadata": {},
   "outputs": [],
   "source": [
    "plot_capacity_factors(df, nodes, \"onwind\", vmax=55)"
   ]
  },
  {
   "cell_type": "code",
   "execution_count": null,
   "metadata": {},
   "outputs": [],
   "source": [
    "plot_capacity_factors(df, nodes, \"solar\", \"Oranges\", vmax=max(df[\"solar\"]))"
   ]
  },
  {
   "cell_type": "code",
   "execution_count": null,
   "metadata": {},
   "outputs": [],
   "source": [
    "plot_capacity_factors(df, nodes, \"residential rural solar thermal\", \"Oranges\", vmax=15)"
   ]
  },
  {
   "attachments": {},
   "cell_type": "markdown",
   "metadata": {},
   "source": [
    "### Potentials Renewables"
   ]
  },
  {
   "cell_type": "code",
   "execution_count": null,
   "metadata": {},
   "outputs": [],
   "source": [
    "df = (\n",
    "    n.generators.p_nom_max\n",
    "    .groupby([n.generators.carrier, n.generators.bus.map(n.buses.location)])\n",
    "    .first()\n",
    "    .unstack(0)\n",
    "    .div(1e3) # in GW\n",
    ")"
   ]
  },
  {
   "cell_type": "code",
   "execution_count": null,
   "metadata": {},
   "outputs": [],
   "source": [
    "def plot_potentials(\n",
    "    df,\n",
    "    geodf,\n",
    "    carrier,\n",
    "    cmap=\"Blues\",\n",
    "    vmax=100,\n",
    "    vmin=0,\n",
    "    label=\"Potentials in GW\",\n",
    "    fn=None,\n",
    "):\n",
    "\n",
    "    proj = ccrs.EqualEarth()\n",
    "    geodf = geodf.to_crs(proj.proj4_init)\n",
    "\n",
    "    fig, ax = plt.subplots(figsize=(7, 7), subplot_kw={\"projection\": proj})\n",
    "\n",
    "    geodf.plot(\n",
    "        ax=ax,\n",
    "        column=df[carrier].reindex(geodf.index),\n",
    "        cmap=cmap,\n",
    "        linewidths=0,\n",
    "        legend=True,\n",
    "        vmax=vmax,\n",
    "        vmin=vmin,\n",
    "        legend_kwds={\n",
    "            \"label\": label,\n",
    "            \"shrink\": 0.7,\n",
    "            # \"extend\": \"max\",\n",
    "        },\n",
    "    )\n",
    "\n",
    "    ax.add_feature(cartopy.feature.COASTLINE.with_scale(\"50m\"), linewidth=0.2, zorder=2)\n",
    "    ax.add_feature(cartopy.feature.BORDERS.with_scale(\"50m\"), linewidth=0.2, zorder=2)\n",
    "\n",
    "    #plt.gca().outline_patch.set_visible(False)\n",
    "    ax.set_facecolor(\"white\")\n",
    "\n",
    "    if fn is None:\n",
    "        plt.savefig(f\"{OUTPUT}/p-nom-max-{carrier}.pdf\", bbox_inches=\"tight\")"
   ]
  },
  {
   "cell_type": "code",
   "execution_count": null,
   "metadata": {},
   "outputs": [],
   "source": [
    "plot_potentials(df, nodes, \"onwind\", vmax=max(df[\"onwind\"]))"
   ]
  },
  {
   "cell_type": "code",
   "execution_count": null,
   "metadata": {},
   "outputs": [],
   "source": [
    "plot_potentials(df, nodes, \"solar\", \"Oranges\", vmax=max(df[\"solar\"]))"
   ]
  },
  {
   "attachments": {},
   "cell_type": "markdown",
   "metadata": {},
   "source": [
    "### Optimised Cap Renewables"
   ]
  },
  {
   "cell_type": "code",
   "execution_count": null,
   "metadata": {},
   "outputs": [],
   "source": [
    "df = (\n",
    "    n.generators.p_nom_opt\n",
    "    .groupby([n.generators.carrier, n.generators.bus.map(n.buses.location)])\n",
    "    .first()\n",
    "    .unstack(0)\n",
    "    .div(1e3) # in GW\n",
    ")"
   ]
  },
  {
   "cell_type": "code",
   "execution_count": null,
   "metadata": {},
   "outputs": [],
   "source": [
    "def plot_opt_cap(\n",
    "    df,\n",
    "    geodf,\n",
    "    carrier,\n",
    "    cmap=\"Blues\",\n",
    "    vmax=100,\n",
    "    vmin=0,\n",
    "    label=\"Optimised capacity in GW\",\n",
    "    fn=None,\n",
    "):\n",
    "\n",
    "    proj = ccrs.EqualEarth()\n",
    "    geodf = geodf.to_crs(proj.proj4_init)\n",
    "\n",
    "    fig, ax = plt.subplots(figsize=(7, 7), subplot_kw={\"projection\": proj})\n",
    "\n",
    "    geodf.plot(\n",
    "        ax=ax,\n",
    "        column=df[carrier].reindex(geodf.index),\n",
    "        cmap=cmap,\n",
    "        linewidths=0,\n",
    "        legend=True,\n",
    "        vmax=vmax,\n",
    "        vmin=vmin,\n",
    "        legend_kwds={\n",
    "            \"label\": label,\n",
    "            \"shrink\": 0.7,\n",
    "            # \"extend\": \"max\",\n",
    "        },\n",
    "    )\n",
    "\n",
    "    ax.add_feature(cartopy.feature.COASTLINE.with_scale(\"50m\"), linewidth=0.2, zorder=2)\n",
    "    ax.add_feature(cartopy.feature.BORDERS.with_scale(\"50m\"), linewidth=0.2, zorder=2)\n",
    "\n",
    "    #plt.gca().outline_patch.set_visible(False)\n",
    "    ax.set_facecolor(\"white\")\n",
    "\n",
    "    if fn is None:\n",
    "        plt.savefig(f\"{OUTPUT}/p-nom-opt-{carrier}.pdf\", bbox_inches=\"tight\")"
   ]
  },
  {
   "cell_type": "code",
   "execution_count": null,
   "metadata": {},
   "outputs": [],
   "source": [
    "plot_opt_cap(df, nodes, \"onwind\", vmax=max(df[\"onwind\"]))"
   ]
  },
  {
   "cell_type": "code",
   "execution_count": null,
   "metadata": {},
   "outputs": [],
   "source": [
    "plot_opt_cap(df, nodes, \"solar\", \"Oranges\", vmax=max(df[\"solar\"]))"
   ]
  },
  {
   "attachments": {},
   "cell_type": "markdown",
   "metadata": {},
   "source": [
    "### Usage Renewables"
   ]
  },
  {
   "cell_type": "code",
   "execution_count": null,
   "metadata": {},
   "outputs": [],
   "source": [
    "df = (\n",
    "    (n.generators.p_nom_opt/n.generators.p_nom_max)\n",
    "    .groupby([n.generators.carrier, n.generators.bus.map(n.buses.location)])\n",
    "    .first()\n",
    "    .unstack(0)\n",
    "    .mul(1e2) # in %\n",
    ")"
   ]
  },
  {
   "cell_type": "code",
   "execution_count": null,
   "metadata": {},
   "outputs": [],
   "source": [
    "def plot_usage(\n",
    "    df,\n",
    "    geodf,\n",
    "    carrier,\n",
    "    cmap=\"Blues\",\n",
    "    vmax=100,\n",
    "    vmin=0,\n",
    "    label=\"Usage in %\",\n",
    "    fn=None,\n",
    "):\n",
    "\n",
    "    proj = ccrs.EqualEarth()\n",
    "    geodf = geodf.to_crs(proj.proj4_init)\n",
    "\n",
    "    fig, ax = plt.subplots(figsize=(7, 7), subplot_kw={\"projection\": proj})\n",
    "\n",
    "    geodf.plot(\n",
    "        ax=ax,\n",
    "        column=df[carrier].reindex(geodf.index),\n",
    "        cmap=cmap,\n",
    "        linewidths=0,\n",
    "        legend=True,\n",
    "        vmax=vmax,\n",
    "        vmin=vmin,\n",
    "        legend_kwds={\n",
    "            \"label\": label,\n",
    "            \"shrink\": 0.7,\n",
    "            # \"extend\": \"max\",\n",
    "        },\n",
    "    )\n",
    "\n",
    "    ax.add_feature(cartopy.feature.COASTLINE.with_scale(\"50m\"), linewidth=0.2, zorder=2)\n",
    "    ax.add_feature(cartopy.feature.BORDERS.with_scale(\"50m\"), linewidth=0.2, zorder=2)\n",
    "\n",
    "    #plt.gca().outline_patch.set_visible(False)\n",
    "    ax.set_facecolor(\"white\")\n",
    "\n",
    "    if fn is None:\n",
    "        plt.savefig(f\"{OUTPUT}/usage-{carrier}.pdf\", bbox_inches=\"tight\")"
   ]
  },
  {
   "cell_type": "code",
   "execution_count": null,
   "metadata": {},
   "outputs": [],
   "source": [
    "plot_usage(df, nodes, \"onwind\", vmax=max(df[\"onwind\"]))"
   ]
  },
  {
   "cell_type": "code",
   "execution_count": null,
   "metadata": {},
   "outputs": [],
   "source": [
    "plot_usage(df, nodes, \"solar\", \"Oranges\", vmax=max(df[\"solar\"]))"
   ]
  }
 ],
 "metadata": {
  "kernelspec": {
   "display_name": "aldehyde",
   "language": "python",
   "name": "python3"
  },
  "language_info": {
   "codemirror_mode": {
    "name": "ipython",
    "version": 3
   },
   "file_extension": ".py",
   "mimetype": "text/x-python",
   "name": "python",
   "nbconvert_exporter": "python",
   "pygments_lexer": "ipython3",
   "version": "3.10.6"
  },
  "orig_nbformat": 4,
  "vscode": {
   "interpreter": {
    "hash": "0dbcc051df1c9f67b8349bc93a137f4374bedf8f92eebef4493438608fd687c9"
   }
  }
 },
 "nbformat": 4,
 "nbformat_minor": 2
}
